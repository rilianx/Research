{
 "cells": [
  {
   "cell_type": "markdown",
   "metadata": {
    "id": "wD8_9xv_LNqM"
   },
   "source": [
    "Importar librerias libreriales"
   ]
  },
  {
   "cell_type": "code",
   "execution_count": 2,
   "metadata": {
    "colab": {
     "base_uri": "https://localhost:8080/"
    },
    "executionInfo": {
     "elapsed": 3149,
     "status": "ok",
     "timestamp": 1622160283198,
     "user": {
      "displayName": "RODRIGO MAUREIRA CONTRERAS",
      "photoUrl": "https://lh3.googleusercontent.com/a-/AOh14GgGLFz8oud5_yEkYTgsdAdQGSYXhb2Ui7B66jE9ag=s64",
      "userId": "17102831893009830161"
     },
     "user_tz": 240
    },
    "id": "CIZnkGpRHvco",
    "outputId": "311dddb8-2185-43d0-da39-8ffea2b8e82d"
   },
   "outputs": [
    {
     "name": "stderr",
     "output_type": "stream",
     "text": [
      "Using TensorFlow backend.\n",
      "C:\\Users\\Dell\\Anaconda3\\lib\\site-packages\\tensorflow\\python\\framework\\dtypes.py:516: FutureWarning: Passing (type, 1) or '1type' as a synonym of type is deprecated; in a future version of numpy, it will be understood as (type, (1,)) / '(1,)type'.\n",
      "  _np_qint8 = np.dtype([(\"qint8\", np.int8, 1)])\n",
      "C:\\Users\\Dell\\Anaconda3\\lib\\site-packages\\tensorflow\\python\\framework\\dtypes.py:517: FutureWarning: Passing (type, 1) or '1type' as a synonym of type is deprecated; in a future version of numpy, it will be understood as (type, (1,)) / '(1,)type'.\n",
      "  _np_quint8 = np.dtype([(\"quint8\", np.uint8, 1)])\n",
      "C:\\Users\\Dell\\Anaconda3\\lib\\site-packages\\tensorflow\\python\\framework\\dtypes.py:518: FutureWarning: Passing (type, 1) or '1type' as a synonym of type is deprecated; in a future version of numpy, it will be understood as (type, (1,)) / '(1,)type'.\n",
      "  _np_qint16 = np.dtype([(\"qint16\", np.int16, 1)])\n",
      "C:\\Users\\Dell\\Anaconda3\\lib\\site-packages\\tensorflow\\python\\framework\\dtypes.py:519: FutureWarning: Passing (type, 1) or '1type' as a synonym of type is deprecated; in a future version of numpy, it will be understood as (type, (1,)) / '(1,)type'.\n",
      "  _np_quint16 = np.dtype([(\"quint16\", np.uint16, 1)])\n",
      "C:\\Users\\Dell\\Anaconda3\\lib\\site-packages\\tensorflow\\python\\framework\\dtypes.py:520: FutureWarning: Passing (type, 1) or '1type' as a synonym of type is deprecated; in a future version of numpy, it will be understood as (type, (1,)) / '(1,)type'.\n",
      "  _np_qint32 = np.dtype([(\"qint32\", np.int32, 1)])\n",
      "C:\\Users\\Dell\\Anaconda3\\lib\\site-packages\\tensorflow\\python\\framework\\dtypes.py:525: FutureWarning: Passing (type, 1) or '1type' as a synonym of type is deprecated; in a future version of numpy, it will be understood as (type, (1,)) / '(1,)type'.\n",
      "  np_resource = np.dtype([(\"resource\", np.ubyte, 1)])\n",
      "C:\\Users\\Dell\\Anaconda3\\lib\\site-packages\\tensorboard\\compat\\tensorflow_stub\\dtypes.py:541: FutureWarning: Passing (type, 1) or '1type' as a synonym of type is deprecated; in a future version of numpy, it will be understood as (type, (1,)) / '(1,)type'.\n",
      "  _np_qint8 = np.dtype([(\"qint8\", np.int8, 1)])\n",
      "C:\\Users\\Dell\\Anaconda3\\lib\\site-packages\\tensorboard\\compat\\tensorflow_stub\\dtypes.py:542: FutureWarning: Passing (type, 1) or '1type' as a synonym of type is deprecated; in a future version of numpy, it will be understood as (type, (1,)) / '(1,)type'.\n",
      "  _np_quint8 = np.dtype([(\"quint8\", np.uint8, 1)])\n",
      "C:\\Users\\Dell\\Anaconda3\\lib\\site-packages\\tensorboard\\compat\\tensorflow_stub\\dtypes.py:543: FutureWarning: Passing (type, 1) or '1type' as a synonym of type is deprecated; in a future version of numpy, it will be understood as (type, (1,)) / '(1,)type'.\n",
      "  _np_qint16 = np.dtype([(\"qint16\", np.int16, 1)])\n",
      "C:\\Users\\Dell\\Anaconda3\\lib\\site-packages\\tensorboard\\compat\\tensorflow_stub\\dtypes.py:544: FutureWarning: Passing (type, 1) or '1type' as a synonym of type is deprecated; in a future version of numpy, it will be understood as (type, (1,)) / '(1,)type'.\n",
      "  _np_quint16 = np.dtype([(\"quint16\", np.uint16, 1)])\n",
      "C:\\Users\\Dell\\Anaconda3\\lib\\site-packages\\tensorboard\\compat\\tensorflow_stub\\dtypes.py:545: FutureWarning: Passing (type, 1) or '1type' as a synonym of type is deprecated; in a future version of numpy, it will be understood as (type, (1,)) / '(1,)type'.\n",
      "  _np_qint32 = np.dtype([(\"qint32\", np.int32, 1)])\n",
      "C:\\Users\\Dell\\Anaconda3\\lib\\site-packages\\tensorboard\\compat\\tensorflow_stub\\dtypes.py:550: FutureWarning: Passing (type, 1) or '1type' as a synonym of type is deprecated; in a future version of numpy, it will be understood as (type, (1,)) / '(1,)type'.\n",
      "  np_resource = np.dtype([(\"resource\", np.ubyte, 1)])\n"
     ]
    },
    {
     "name": "stdout",
     "output_type": "stream",
     "text": [
      "Keras version:  2.3.0\n"
     ]
    }
   ],
   "source": [
    "import keras\n",
    "import pandas as pd\n",
    "from keras.utils.np_utils import to_categorical\n",
    "import numpy as np\n",
    "from keras.models import Sequential, Model\n",
    "from keras.layers import MaxPooling1D, Dropout, Dense, Flatten, Reshape, Input, Concatenate\n",
    "from keras.layers import Convolution1D as Conv1D\n",
    "from keras.optimizers import SGD\n",
    "from sklearn.model_selection import train_test_split\n",
    "import tensorflow as tf\n",
    "\n",
    "print('Keras version: ',keras.__version__)"
   ]
  },
  {
   "cell_type": "markdown",
   "metadata": {
    "id": "QWp4WNV9LS2O"
   },
   "source": [
    "Importar dataset de Bruno"
   ]
  },
  {
   "cell_type": "code",
   "execution_count": 168,
   "metadata": {
    "colab": {
     "base_uri": "https://localhost:8080/",
     "height": 106,
     "resources": {
      "http://localhost:8080/nbextensions/google.colab/files.js": {
       "data": "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",
       "headers": [
        [
         "content-type",
         "application/javascript"
        ]
       ],
       "ok": true,
       "status": 200,
       "status_text": ""
      }
     }
    },
    "executionInfo": {
     "elapsed": 64718,
     "status": "ok",
     "timestamp": 1622160358180,
     "user": {
      "displayName": "RODRIGO MAUREIRA CONTRERAS",
      "photoUrl": "https://lh3.googleusercontent.com/a-/AOh14GgGLFz8oud5_yEkYTgsdAdQGSYXhb2Ui7B66jE9ag=s64",
      "userId": "17102831893009830161"
     },
     "user_tz": 240
    },
    "id": "Df-jxBhxLM0U",
    "outputId": "ed60acb5-4a19-4469-faf5-ad14c72213da"
   },
   "outputs": [
    {
     "ename": "ModuleNotFoundError",
     "evalue": "No module named 'google.colab'",
     "output_type": "error",
     "traceback": [
      "\u001b[1;31m---------------------------------------------------------------------------\u001b[0m",
      "\u001b[1;31mModuleNotFoundError\u001b[0m                       Traceback (most recent call last)",
      "\u001b[1;32m<ipython-input-168-21dc3c638f66>\u001b[0m in \u001b[0;36m<module>\u001b[1;34m()\u001b[0m\n\u001b[1;32m----> 1\u001b[1;33m \u001b[1;32mfrom\u001b[0m \u001b[0mgoogle\u001b[0m\u001b[1;33m.\u001b[0m\u001b[0mcolab\u001b[0m \u001b[1;32mimport\u001b[0m \u001b[0mfiles\u001b[0m\u001b[1;33m\u001b[0m\u001b[1;33m\u001b[0m\u001b[0m\n\u001b[0m\u001b[0;32m      2\u001b[0m \u001b[0muploaded\u001b[0m \u001b[1;33m=\u001b[0m \u001b[0mfiles\u001b[0m\u001b[1;33m.\u001b[0m\u001b[0mupload\u001b[0m\u001b[1;33m(\u001b[0m\u001b[1;33m)\u001b[0m\u001b[1;33m\u001b[0m\u001b[1;33m\u001b[0m\u001b[0m\n",
      "\u001b[1;31mModuleNotFoundError\u001b[0m: No module named 'google.colab'"
     ]
    }
   ],
   "source": [
    "from google.colab import files\n",
    "uploaded = files.upload()"
   ]
  },
  {
   "cell_type": "code",
   "execution_count": 169,
   "metadata": {
    "colab": {
     "base_uri": "https://localhost:8080/"
    },
    "executionInfo": {
     "elapsed": 308,
     "status": "ok",
     "timestamp": 1622160384078,
     "user": {
      "displayName": "RODRIGO MAUREIRA CONTRERAS",
      "photoUrl": "https://lh3.googleusercontent.com/a-/AOh14GgGLFz8oud5_yEkYTgsdAdQGSYXhb2Ui7B66jE9ag=s64",
      "userId": "17102831893009830161"
     },
     "user_tz": 240
    },
    "id": "F392NiTpMgxF",
    "outputId": "549c2d92-709b-48ff-ec51-7dad2195c859"
   },
   "outputs": [
    {
     "name": "stdout",
     "output_type": "stream",
     "text": [
      "(10933, 15) (10933, 9, 1) (10933,)\n"
     ]
    }
   ],
   "source": [
    "# lectura del dataset\n",
    "df = pd.read_csv(\"3x3-a-train.csv\")\n",
    "y_train = df['init_move']\n",
    "X_train = df.drop(labels=['init_move', 'final_move'], axis='columns')\n",
    "df = pd.read_csv(\"3x3-a-test.csv\")\n",
    "y_test = df['init_move']\n",
    "X_test = df.drop(labels=['init_move', 'final_move'], axis='columns')\n",
    "X_train = X_train.to_numpy()\n",
    "X_train2 = np.delete(X_train,[0,10,11,12,13,14],1)\n",
    "y_train = y_train.to_numpy()\n",
    "X_train_reshaped=np.expand_dims(X_train2, axis=2)\n",
    "print(X_train.shape,X_train_reshaped.shape, y_train.shape)\n",
    "#print(X_train.head(10))\n",
    "#print(y_train.head(10))\n",
    "# Reshape data \n",
    "#input_train = X_train.reshape( X_train.shape[0], X_train.shape[1])\n",
    "#input_test  = input_test.reshape(len(input_test), input_shape[0], input_shape[1], input_shape[2])"
   ]
  },
  {
   "cell_type": "code",
   "execution_count": 170,
   "metadata": {},
   "outputs": [
    {
     "data": {
      "text/plain": [
       "array([[0.33333333, 0.11111111, 0.44444444],\n",
       "       [0.55555556, 0.        , 0.        ],\n",
       "       [0.33333333, 0.22222222, 0.        ]])"
      ]
     },
     "execution_count": 170,
     "metadata": {},
     "output_type": "execute_result"
    }
   ],
   "source": [
    "X_train_reshaped.shape = (10933,3,3)\n",
    "X_train_reshaped[0]"
   ]
  },
  {
   "cell_type": "code",
   "execution_count": 190,
   "metadata": {},
   "outputs": [
    {
     "data": {
      "text/plain": [
       "(10933, 5)"
      ]
     },
     "execution_count": 190,
     "metadata": {},
     "output_type": "execute_result"
    }
   ],
   "source": [
    "#Aquí se obtinenen los atributos \"no vectoriales\"\n",
    "XX_train =X_train[0:,10:15]\n",
    "XX_train.shape"
   ]
  },
  {
   "cell_type": "code",
   "execution_count": 191,
   "metadata": {
    "colab": {
     "base_uri": "https://localhost:8080/"
    },
    "executionInfo": {
     "elapsed": 308,
     "status": "ok",
     "timestamp": 1622160418921,
     "user": {
      "displayName": "RODRIGO MAUREIRA CONTRERAS",
      "photoUrl": "https://lh3.googleusercontent.com/a-/AOh14GgGLFz8oud5_yEkYTgsdAdQGSYXhb2Ui7B66jE9ag=s64",
      "userId": "17102831893009830161"
     },
     "user_tz": 240
    },
    "id": "toJhMi48mpbs",
    "outputId": "dfa58286-5cbb-4ac3-bb67-8530f243546e"
   },
   "outputs": [
    {
     "data": {
      "text/plain": [
       "array([0, 1, 2, 2, 1, 1, 2, 2, 0, 0], dtype=int64)"
      ]
     },
     "execution_count": 191,
     "metadata": {},
     "output_type": "execute_result"
    }
   ],
   "source": [
    "y_train[:10]"
   ]
  },
  {
   "cell_type": "code",
   "execution_count": 192,
   "metadata": {
    "colab": {
     "base_uri": "https://localhost:8080/"
    },
    "executionInfo": {
     "elapsed": 294,
     "status": "ok",
     "timestamp": 1622160421582,
     "user": {
      "displayName": "RODRIGO MAUREIRA CONTRERAS",
      "photoUrl": "https://lh3.googleusercontent.com/a-/AOh14GgGLFz8oud5_yEkYTgsdAdQGSYXhb2Ui7B66jE9ag=s64",
      "userId": "17102831893009830161"
     },
     "user_tz": 240
    },
    "id": "_Y7xrGjvmvbi",
    "outputId": "8e45fddb-463c-4826-ef5f-412c317e4a08"
   },
   "outputs": [
    {
     "data": {
      "text/plain": [
       "array([0, 1, 2], dtype=int64)"
      ]
     },
     "execution_count": 192,
     "metadata": {},
     "output_type": "execute_result"
    }
   ],
   "source": [
    "np.unique(y_train)"
   ]
  },
  {
   "cell_type": "code",
   "execution_count": 193,
   "metadata": {
    "executionInfo": {
     "elapsed": 3,
     "status": "ok",
     "timestamp": 1622160424397,
     "user": {
      "displayName": "RODRIGO MAUREIRA CONTRERAS",
      "photoUrl": "https://lh3.googleusercontent.com/a-/AOh14GgGLFz8oud5_yEkYTgsdAdQGSYXhb2Ui7B66jE9ag=s64",
      "userId": "17102831893009830161"
     },
     "user_tz": 240
    },
    "id": "Cafj1ebWm4x1"
   },
   "outputs": [],
   "source": [
    "from sklearn.preprocessing import OneHotEncoder"
   ]
  },
  {
   "cell_type": "code",
   "execution_count": 194,
   "metadata": {
    "executionInfo": {
     "elapsed": 362,
     "status": "ok",
     "timestamp": 1622160426431,
     "user": {
      "displayName": "RODRIGO MAUREIRA CONTRERAS",
      "photoUrl": "https://lh3.googleusercontent.com/a-/AOh14GgGLFz8oud5_yEkYTgsdAdQGSYXhb2Ui7B66jE9ag=s64",
      "userId": "17102831893009830161"
     },
     "user_tz": 240
    },
    "id": "rGV4ZTCMm-yM"
   },
   "outputs": [],
   "source": [
    "encoder = OneHotEncoder()\n",
    "y_train_coded = encoder.fit_transform(y_train.reshape(-1,1)).toarray() "
   ]
  },
  {
   "cell_type": "code",
   "execution_count": 195,
   "metadata": {
    "colab": {
     "base_uri": "https://localhost:8080/"
    },
    "executionInfo": {
     "elapsed": 355,
     "status": "ok",
     "timestamp": 1622160430783,
     "user": {
      "displayName": "RODRIGO MAUREIRA CONTRERAS",
      "photoUrl": "https://lh3.googleusercontent.com/a-/AOh14GgGLFz8oud5_yEkYTgsdAdQGSYXhb2Ui7B66jE9ag=s64",
      "userId": "17102831893009830161"
     },
     "user_tz": 240
    },
    "id": "Hfchjws0nLtf",
    "outputId": "f90b2468-f76c-4adf-f76c-18c7e1890655"
   },
   "outputs": [
    {
     "data": {
      "text/plain": [
       "array([[1., 0., 0.],\n",
       "       [0., 1., 0.],\n",
       "       [0., 0., 1.],\n",
       "       [0., 0., 1.],\n",
       "       [0., 1., 0.],\n",
       "       [0., 1., 0.],\n",
       "       [0., 0., 1.],\n",
       "       [0., 0., 1.],\n",
       "       [1., 0., 0.],\n",
       "       [1., 0., 0.]])"
      ]
     },
     "execution_count": 195,
     "metadata": {},
     "output_type": "execute_result"
    }
   ],
   "source": [
    "y_train_coded[:10]"
   ]
  },
  {
   "cell_type": "markdown",
   "metadata": {
    "id": "JusOJkkgbxm4"
   },
   "source": [
    "Modelado de la red"
   ]
  },
  {
   "cell_type": "code",
   "execution_count": 3,
   "metadata": {
    "colab": {
     "base_uri": "https://localhost:8080/"
    },
    "executionInfo": {
     "elapsed": 303,
     "status": "ok",
     "timestamp": 1622160738635,
     "user": {
      "displayName": "RODRIGO MAUREIRA CONTRERAS",
      "photoUrl": "https://lh3.googleusercontent.com/a-/AOh14GgGLFz8oud5_yEkYTgsdAdQGSYXhb2Ui7B66jE9ag=s64",
      "userId": "17102831893009830161"
     },
     "user_tz": 240
    },
    "id": "m7rEYxpLhi1O",
    "outputId": "37d70f65-939c-4540-fa99-0d36fd763667"
   },
   "outputs": [
    {
     "name": "stdout",
     "output_type": "stream",
     "text": [
      "WARNING:tensorflow:From C:\\Users\\Dell\\Anaconda3\\lib\\site-packages\\keras\\backend\\tensorflow_backend.py:4070: The name tf.nn.max_pool is deprecated. Please use tf.nn.max_pool2d instead.\n",
      "\n",
      "Model: \"sequential_1\"\n",
      "_________________________________________________________________\n",
      "Layer (type)                 Output Shape              Param #   \n",
      "=================================================================\n",
      "conv1d_1 (Conv1D)            (None, 4, 30)             90        \n",
      "_________________________________________________________________\n",
      "conv1d_2 (Conv1D)            (None, 4, 30)             930       \n",
      "_________________________________________________________________\n",
      "dropout_1 (Dropout)          (None, 4, 30)             0         \n",
      "_________________________________________________________________\n",
      "max_pooling1d_1 (MaxPooling1 (None, 2, 30)             0         \n",
      "=================================================================\n",
      "Total params: 1,020\n",
      "Trainable params: 1,020\n",
      "Non-trainable params: 0\n",
      "_________________________________________________________________\n"
     ]
    }
   ],
   "source": [
    "convmodel = Sequential()\n",
    "convmodel.add(Conv1D(filters=30, kernel_size=2, activation='relu', input_shape=(5,1)))\n",
    "convmodel.add(Conv1D(filters=30, kernel_size=1, activation='relu'))\n",
    "convmodel.add(Dropout(0.1))\n",
    "convmodel.add(MaxPooling1D(pool_size=2))\n",
    "#model.add(Flatten())\n",
    "#model.add(Dense(3, activation='softmax'))\n",
    "#model.compile(loss='categorical_crossentropy', optimizer='adam', metrics=['accuracy'])\n",
    "convmodel.summary()"
   ]
  },
  {
   "cell_type": "code",
   "execution_count": 208,
   "metadata": {},
   "outputs": [
    {
     "name": "stdout",
     "output_type": "stream",
     "text": [
      "Model: \"model_26\"\n",
      "__________________________________________________________________________________________________\n",
      "Layer (type)                    Output Shape         Param #     Connected to                     \n",
      "==================================================================================================\n",
      "input_139 (InputLayer)          (None, 3, 1)         0                                            \n",
      "__________________________________________________________________________________________________\n",
      "input_140 (InputLayer)          (None, 3, 1)         0                                            \n",
      "__________________________________________________________________________________________________\n",
      "input_141 (InputLayer)          (None, 3, 1)         0                                            \n",
      "__________________________________________________________________________________________________\n",
      "sequential_21 (Sequential)      (None, 1, 30)        1020        input_139[0][0]                  \n",
      "                                                                 input_140[0][0]                  \n",
      "                                                                 input_141[0][0]                  \n",
      "__________________________________________________________________________________________________\n",
      "concatenate_44 (Concatenate)    (None, 1, 90)        0           sequential_21[4][0]              \n",
      "                                                                 sequential_21[5][0]              \n",
      "                                                                 sequential_21[6][0]              \n",
      "__________________________________________________________________________________________________\n",
      "flatten_34 (Flatten)            (None, 90)           0           concatenate_44[0][0]             \n",
      "__________________________________________________________________________________________________\n",
      "input_142 (InputLayer)          (None, 5)            0                                            \n",
      "__________________________________________________________________________________________________\n",
      "concatenate_45 (Concatenate)    (None, 95)           0           flatten_34[0][0]                 \n",
      "                                                                 input_142[0][0]                  \n",
      "__________________________________________________________________________________________________\n",
      "dense_42 (Dense)                (None, 20)           1920        concatenate_45[0][0]             \n",
      "__________________________________________________________________________________________________\n",
      "dense_43 (Dense)                (None, 3)            63          dense_42[0][0]                   \n",
      "==================================================================================================\n",
      "Total params: 3,003\n",
      "Trainable params: 3,003\n",
      "Non-trainable params: 0\n",
      "__________________________________________________________________________________________________\n"
     ]
    }
   ],
   "source": [
    "#define two different inputs\n",
    "input1 = Input((3, 1))\n",
    "input2 = Input((3, 1))\n",
    "input3 = Input((3, 1))\n",
    "input4 = Input((5, ))\n",
    "   \n",
    "\n",
    "#use the model to get three different outputs (the same model)\n",
    "out1 = convmodel(input1)\n",
    "out2 = convmodel(input2)\n",
    "out3 = convmodel(input3)\n",
    "\n",
    "#concatenate the outputs and add the final part of your model: \n",
    "out = Concatenate()([out1,out2,out3])\n",
    "out = Flatten()(out)\n",
    "out = Concatenate()([out,input4])\n",
    "out = Dense(20, activation='relu')(out)\n",
    "out = Dense(3, activation='softmax')(out)   \n",
    "\n",
    "#create the model taking 2 inputs with one output\n",
    "model = Model([input1,input2,input3,input4],out)\n",
    "model.compile(loss='categorical_crossentropy', optimizer='adam', metrics=['accuracy'])\n",
    "model.save_weights('model.h5')\n",
    "model.summary()\n"
   ]
  },
  {
   "cell_type": "code",
   "execution_count": 211,
   "metadata": {
    "colab": {
     "base_uri": "https://localhost:8080/"
    },
    "executionInfo": {
     "elapsed": 58723,
     "status": "ok",
     "timestamp": 1622160799765,
     "user": {
      "displayName": "RODRIGO MAUREIRA CONTRERAS",
      "photoUrl": "https://lh3.googleusercontent.com/a-/AOh14GgGLFz8oud5_yEkYTgsdAdQGSYXhb2Ui7B66jE9ag=s64",
      "userId": "17102831893009830161"
     },
     "user_tz": 240
    },
    "id": "27vyHh0yR9Gq",
    "outputId": "1f993ca4-a80d-498e-a268-3c901422316b"
   },
   "outputs": [
    {
     "name": "stdout",
     "output_type": "stream",
     "text": [
      "Epoch 1/100\n",
      "10933/10933 [==============================] - 1s 57us/step - loss: 0.8437 - accuracy: 0.6126\n",
      "Epoch 2/100\n",
      "10933/10933 [==============================] - 1s 58us/step - loss: 0.6033 - accuracy: 0.7579\n",
      "Epoch 3/100\n",
      "10933/10933 [==============================] - 1s 50us/step - loss: 0.5293 - accuracy: 0.7878\n",
      "Epoch 4/100\n",
      "10933/10933 [==============================] - 1s 53us/step - loss: 0.4911 - accuracy: 0.8036\n",
      "Epoch 5/100\n",
      "10933/10933 [==============================] - 1s 51us/step - loss: 0.4724 - accuracy: 0.8086\n",
      "Epoch 6/100\n",
      "10933/10933 [==============================] - 1s 53us/step - loss: 0.4608 - accuracy: 0.8143\n",
      "Epoch 7/100\n",
      "10933/10933 [==============================] - 1s 54us/step - loss: 0.4469 - accuracy: 0.8178\n",
      "Epoch 8/100\n",
      "10933/10933 [==============================] - 1s 56us/step - loss: 0.4342 - accuracy: 0.8259\n",
      "Epoch 9/100\n",
      "10933/10933 [==============================] - 1s 60us/step - loss: 0.4207 - accuracy: 0.8350\n",
      "Epoch 10/100\n",
      "10933/10933 [==============================] - 1s 52us/step - loss: 0.4071 - accuracy: 0.8412\n",
      "Epoch 11/100\n",
      "10933/10933 [==============================] - 1s 53us/step - loss: 0.3905 - accuracy: 0.8466\n",
      "Epoch 12/100\n",
      "10933/10933 [==============================] - 1s 57us/step - loss: 0.3796 - accuracy: 0.8517\n",
      "Epoch 13/100\n",
      "10933/10933 [==============================] - 1s 60us/step - loss: 0.3715 - accuracy: 0.8548\n",
      "Epoch 14/100\n",
      "10933/10933 [==============================] - 1s 53us/step - loss: 0.3624 - accuracy: 0.8594\n",
      "Epoch 15/100\n",
      "10933/10933 [==============================] - 1s 50us/step - loss: 0.3546 - accuracy: 0.8596\n",
      "Epoch 16/100\n",
      "10933/10933 [==============================] - 1s 54us/step - loss: 0.3463 - accuracy: 0.8616\n",
      "Epoch 17/100\n",
      "10933/10933 [==============================] - 1s 59us/step - loss: 0.3309 - accuracy: 0.8700\n",
      "Epoch 18/100\n",
      "10933/10933 [==============================] - 1s 51us/step - loss: 0.3280 - accuracy: 0.8714\n",
      "Epoch 19/100\n",
      "10933/10933 [==============================] - 1s 51us/step - loss: 0.3211 - accuracy: 0.8755\n",
      "Epoch 20/100\n",
      "10933/10933 [==============================] - 1s 52us/step - loss: 0.3235 - accuracy: 0.8718\n",
      "Epoch 21/100\n",
      "10933/10933 [==============================] - 1s 53us/step - loss: 0.3059 - accuracy: 0.8787\n",
      "Epoch 22/100\n",
      "10933/10933 [==============================] - 1s 49us/step - loss: 0.3060 - accuracy: 0.8804\n",
      "Epoch 23/100\n",
      "10933/10933 [==============================] - 1s 51us/step - loss: 0.2973 - accuracy: 0.8819\n",
      "Epoch 24/100\n",
      "10933/10933 [==============================] - 1s 52us/step - loss: 0.2962 - accuracy: 0.8831\n",
      "Epoch 25/100\n",
      "10933/10933 [==============================] - 1s 53us/step - loss: 0.2893 - accuracy: 0.8841\n",
      "Epoch 26/100\n",
      "10933/10933 [==============================] - 1s 58us/step - loss: 0.2871 - accuracy: 0.8876\n",
      "Epoch 27/100\n",
      "10933/10933 [==============================] - 1s 66us/step - loss: 0.2774 - accuracy: 0.8896\n",
      "Epoch 28/100\n",
      "10933/10933 [==============================] - 1s 60us/step - loss: 0.2786 - accuracy: 0.8923\n",
      "Epoch 29/100\n",
      "10933/10933 [==============================] - 1s 52us/step - loss: 0.2807 - accuracy: 0.8925\n",
      "Epoch 30/100\n",
      "10933/10933 [==============================] - 1s 50us/step - loss: 0.2703 - accuracy: 0.8920\n",
      "Epoch 31/100\n",
      "10933/10933 [==============================] - 1s 51us/step - loss: 0.2722 - accuracy: 0.8916\n",
      "Epoch 32/100\n",
      "10933/10933 [==============================] - 1s 62us/step - loss: 0.2702 - accuracy: 0.8974\n",
      "Epoch 33/100\n",
      "10933/10933 [==============================] - 1s 64us/step - loss: 0.2633 - accuracy: 0.8968\n",
      "Epoch 34/100\n",
      "10933/10933 [==============================] - 1s 48us/step - loss: 0.2579 - accuracy: 0.9003\n",
      "Epoch 35/100\n",
      "10933/10933 [==============================] - 1s 52us/step - loss: 0.2546 - accuracy: 0.8999\n",
      "Epoch 36/100\n",
      "10933/10933 [==============================] - 1s 55us/step - loss: 0.2519 - accuracy: 0.9012\n",
      "Epoch 37/100\n",
      "10933/10933 [==============================] - 1s 51us/step - loss: 0.2519 - accuracy: 0.9014\n",
      "Epoch 38/100\n",
      "10933/10933 [==============================] - 1s 53us/step - loss: 0.2463 - accuracy: 0.9039\n",
      "Epoch 39/100\n",
      "10933/10933 [==============================] - 1s 49us/step - loss: 0.2480 - accuracy: 0.9051\n",
      "Epoch 40/100\n",
      "10933/10933 [==============================] - 1s 50us/step - loss: 0.2427 - accuracy: 0.9049\n",
      "Epoch 41/100\n",
      "10933/10933 [==============================] - 1s 53us/step - loss: 0.2436 - accuracy: 0.9031\n",
      "Epoch 42/100\n",
      "10933/10933 [==============================] - 1s 53us/step - loss: 0.2385 - accuracy: 0.9093\n",
      "Epoch 43/100\n",
      "10933/10933 [==============================] - 1s 54us/step - loss: 0.2390 - accuracy: 0.9059\n",
      "Epoch 44/100\n",
      "10933/10933 [==============================] - 1s 52us/step - loss: 0.2276 - accuracy: 0.9134\n",
      "Epoch 45/100\n",
      "10933/10933 [==============================] - 1s 53us/step - loss: 0.2358 - accuracy: 0.9082\n",
      "Epoch 46/100\n",
      "10933/10933 [==============================] - 1s 53us/step - loss: 0.2305 - accuracy: 0.9099 0s - loss: 0.2298 - accuracy: 0.91\n",
      "Epoch 47/100\n",
      "10933/10933 [==============================] - 1s 50us/step - loss: 0.2297 - accuracy: 0.9106\n",
      "Epoch 48/100\n",
      "10933/10933 [==============================] - 1s 51us/step - loss: 0.2276 - accuracy: 0.9105\n",
      "Epoch 49/100\n",
      "10933/10933 [==============================] - 1s 53us/step - loss: 0.2302 - accuracy: 0.9069\n",
      "Epoch 50/100\n",
      "10933/10933 [==============================] - 1s 52us/step - loss: 0.2239 - accuracy: 0.9125\n",
      "Epoch 51/100\n",
      "10933/10933 [==============================] - 1s 50us/step - loss: 0.2207 - accuracy: 0.9150\n",
      "Epoch 52/100\n",
      "10933/10933 [==============================] - 1s 54us/step - loss: 0.2133 - accuracy: 0.9165\n",
      "Epoch 53/100\n",
      "10933/10933 [==============================] - 1s 60us/step - loss: 0.2193 - accuracy: 0.9137\n",
      "Epoch 54/100\n",
      "10933/10933 [==============================] - 1s 51us/step - loss: 0.2175 - accuracy: 0.9149\n",
      "Epoch 55/100\n",
      "10933/10933 [==============================] - 1s 56us/step - loss: 0.2162 - accuracy: 0.9154\n",
      "Epoch 56/100\n",
      "10933/10933 [==============================] - 1s 50us/step - loss: 0.2124 - accuracy: 0.9155\n",
      "Epoch 57/100\n",
      "10933/10933 [==============================] - 1s 51us/step - loss: 0.2067 - accuracy: 0.9181\n",
      "Epoch 58/100\n",
      "10933/10933 [==============================] - 1s 55us/step - loss: 0.2088 - accuracy: 0.9179\n",
      "Epoch 59/100\n",
      "10933/10933 [==============================] - 1s 61us/step - loss: 0.2084 - accuracy: 0.9176\n",
      "Epoch 60/100\n",
      "10933/10933 [==============================] - 1s 54us/step - loss: 0.2094 - accuracy: 0.9207\n",
      "Epoch 61/100\n",
      "10933/10933 [==============================] - 1s 53us/step - loss: 0.2019 - accuracy: 0.9229\n",
      "Epoch 62/100\n",
      "10933/10933 [==============================] - 1s 50us/step - loss: 0.2004 - accuracy: 0.9193\n",
      "Epoch 63/100\n",
      "10933/10933 [==============================] - 1s 51us/step - loss: 0.1962 - accuracy: 0.9254\n",
      "Epoch 64/100\n",
      "10933/10933 [==============================] - 1s 50us/step - loss: 0.2000 - accuracy: 0.9234\n",
      "Epoch 65/100\n",
      "10933/10933 [==============================] - 1s 50us/step - loss: 0.2017 - accuracy: 0.9209\n",
      "Epoch 66/100\n",
      "10933/10933 [==============================] - 1s 50us/step - loss: 0.1969 - accuracy: 0.9251\n",
      "Epoch 67/100\n",
      "10933/10933 [==============================] - 1s 53us/step - loss: 0.1936 - accuracy: 0.9251\n",
      "Epoch 68/100\n",
      "10933/10933 [==============================] - 1s 62us/step - loss: 0.1924 - accuracy: 0.9248\n",
      "Epoch 69/100\n",
      "10933/10933 [==============================] - 1s 61us/step - loss: 0.1891 - accuracy: 0.9244\n",
      "Epoch 70/100\n",
      "10933/10933 [==============================] - 1s 66us/step - loss: 0.1953 - accuracy: 0.9250\n",
      "Epoch 71/100\n",
      "10933/10933 [==============================] - 1s 63us/step - loss: 0.1875 - accuracy: 0.9294\n",
      "Epoch 72/100\n",
      "10933/10933 [==============================] - 1s 55us/step - loss: 0.1943 - accuracy: 0.9266\n",
      "Epoch 73/100\n",
      "10933/10933 [==============================] - 1s 61us/step - loss: 0.1874 - accuracy: 0.9289\n",
      "Epoch 74/100\n",
      "10933/10933 [==============================] - 1s 59us/step - loss: 0.1809 - accuracy: 0.9294\n",
      "Epoch 75/100\n",
      "10933/10933 [==============================] - 1s 54us/step - loss: 0.1841 - accuracy: 0.9312\n",
      "Epoch 76/100\n",
      "10933/10933 [==============================] - 1s 58us/step - loss: 0.1846 - accuracy: 0.9270\n",
      "Epoch 77/100\n",
      "10933/10933 [==============================] - 1s 50us/step - loss: 0.1805 - accuracy: 0.9302\n",
      "Epoch 78/100\n",
      "10933/10933 [==============================] - 1s 48us/step - loss: 0.1839 - accuracy: 0.9297\n",
      "Epoch 79/100\n",
      "10933/10933 [==============================] - 1s 53us/step - loss: 0.1802 - accuracy: 0.9288\n",
      "Epoch 80/100\n",
      "10933/10933 [==============================] - 1s 52us/step - loss: 0.1825 - accuracy: 0.9272\n",
      "Epoch 81/100\n",
      "10933/10933 [==============================] - 1s 51us/step - loss: 0.1823 - accuracy: 0.9302\n",
      "Epoch 82/100\n",
      "10933/10933 [==============================] - 1s 51us/step - loss: 0.1805 - accuracy: 0.9294\n",
      "Epoch 83/100\n",
      "10933/10933 [==============================] - 1s 50us/step - loss: 0.1797 - accuracy: 0.9309\n",
      "Epoch 84/100\n",
      "10933/10933 [==============================] - 1s 51us/step - loss: 0.1818 - accuracy: 0.9303\n",
      "Epoch 85/100\n",
      "10933/10933 [==============================] - 1s 49us/step - loss: 0.1831 - accuracy: 0.9277\n",
      "Epoch 86/100\n",
      "10933/10933 [==============================] - 1s 62us/step - loss: 0.1771 - accuracy: 0.9310\n",
      "Epoch 87/100\n",
      "10933/10933 [==============================] - 1s 58us/step - loss: 0.1757 - accuracy: 0.9298\n",
      "Epoch 88/100\n",
      "10933/10933 [==============================] - 1s 57us/step - loss: 0.1802 - accuracy: 0.9309\n",
      "Epoch 89/100\n",
      "10933/10933 [==============================] - 1s 52us/step - loss: 0.1756 - accuracy: 0.9322\n",
      "Epoch 90/100\n",
      "10933/10933 [==============================] - 1s 55us/step - loss: 0.1750 - accuracy: 0.9292\n",
      "Epoch 91/100\n",
      "10933/10933 [==============================] - 1s 52us/step - loss: 0.1819 - accuracy: 0.9300\n",
      "Epoch 92/100\n",
      "10933/10933 [==============================] - 1s 51us/step - loss: 0.1761 - accuracy: 0.9311\n",
      "Epoch 93/100\n",
      "10933/10933 [==============================] - 1s 51us/step - loss: 0.1750 - accuracy: 0.9315\n",
      "Epoch 94/100\n",
      "10933/10933 [==============================] - 1s 52us/step - loss: 0.1693 - accuracy: 0.9348\n",
      "Epoch 95/100\n",
      "10933/10933 [==============================] - 1s 52us/step - loss: 0.1669 - accuracy: 0.9330\n",
      "Epoch 96/100\n",
      "10933/10933 [==============================] - 1s 54us/step - loss: 0.1693 - accuracy: 0.9377\n",
      "Epoch 97/100\n",
      "10933/10933 [==============================] - 1s 65us/step - loss: 0.1697 - accuracy: 0.9350\n",
      "Epoch 98/100\n",
      "10933/10933 [==============================] - 1s 54us/step - loss: 0.1639 - accuracy: 0.9363\n",
      "Epoch 99/100\n",
      "10933/10933 [==============================] - 1s 50us/step - loss: 0.1714 - accuracy: 0.9321\n",
      "Epoch 100/100\n",
      "10933/10933 [==============================] - 1s 53us/step - loss: 0.1680 - accuracy: 0.9362\n"
     ]
    },
    {
     "data": {
      "text/plain": [
       "<keras.callbacks.callbacks.History at 0x18fc3e9b2b0>"
      ]
     },
     "execution_count": 211,
     "metadata": {},
     "output_type": "execute_result"
    }
   ],
   "source": [
    "X_train1 = X_train_reshaped[0:,0]\n",
    "X_train2 = X_train_reshaped[0:,1]\n",
    "X_train3 = X_train_reshaped[0:,2]\n",
    "X_train1.shape=(10933,3,1)\n",
    "X_train2.shape=(10933,3,1)\n",
    "X_train3.shape=(10933,3,1)\n",
    "\n",
    "model.load_weights('model.h5')\n",
    "model.fit([X_train1,X_train2,X_train3,XX_train], y_train_coded, epochs=100, batch_size=64, verbose=True)"
   ]
  },
  {
   "cell_type": "code",
   "execution_count": null,
   "metadata": {},
   "outputs": [],
   "source": []
  },
  {
   "cell_type": "code",
   "execution_count": null,
   "metadata": {},
   "outputs": [],
   "source": []
  }
 ],
 "metadata": {
  "colab": {
   "collapsed_sections": [],
   "name": "CNN_1D_V4ipynb",
   "provenance": []
  },
  "kernelspec": {
   "display_name": "Python 3",
   "language": "python",
   "name": "python3"
  },
  "language_info": {
   "codemirror_mode": {
    "name": "ipython",
    "version": 3
   },
   "file_extension": ".py",
   "mimetype": "text/x-python",
   "name": "python",
   "nbconvert_exporter": "python",
   "pygments_lexer": "ipython3",
   "version": "3.7.3"
  }
 },
 "nbformat": 4,
 "nbformat_minor": 4
}

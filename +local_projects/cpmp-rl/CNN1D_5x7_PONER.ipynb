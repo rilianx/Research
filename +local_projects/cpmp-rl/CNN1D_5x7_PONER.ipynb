{
 "cells": [
  {
   "cell_type": "markdown",
   "metadata": {
    "id": "wD8_9xv_LNqM"
   },
   "source": [
    "Importar librerias libreriales"
   ]
  },
  {
   "cell_type": "code",
   "execution_count": 369,
   "metadata": {
    "colab": {
     "base_uri": "https://localhost:8080/"
    },
    "executionInfo": {
     "elapsed": 2873,
     "status": "ok",
     "timestamp": 1624655514263,
     "user": {
      "displayName": "RODRIGO MAUREIRA CONTRERAS",
      "photoUrl": "https://lh3.googleusercontent.com/a-/AOh14GgGLFz8oud5_yEkYTgsdAdQGSYXhb2Ui7B66jE9ag=s64",
      "userId": "17102831893009830161"
     },
     "user_tz": 240
    },
    "id": "CIZnkGpRHvco",
    "outputId": "8d6e0333-16ac-4189-8aaf-9b674bc0497b"
   },
   "outputs": [
    {
     "name": "stdout",
     "output_type": "stream",
     "text": [
      "Keras version:  2.3.0\n"
     ]
    }
   ],
   "source": [
    "import keras\n",
    "import pandas as pd\n",
    "from keras.utils.np_utils import to_categorical\n",
    "import numpy as np\n",
    "from keras.models import Sequential, Model\n",
    "from keras.layers import MaxPooling1D, Dropout, Dense, Flatten, Reshape, Input, Concatenate\n",
    "from keras.layers import Convolution1D as Conv1D\n",
    "from keras.optimizers import SGD\n",
    "from sklearn.model_selection import train_test_split\n",
    "import sklearn.metrics as skm\n",
    "import tensorflow as tf\n",
    "\n",
    "print('Keras version: ',keras.__version__)"
   ]
  },
  {
   "cell_type": "markdown",
   "metadata": {
    "id": "QWp4WNV9LS2O"
   },
   "source": [
    "Importar dataset de Bruno"
   ]
  },
  {
   "cell_type": "code",
   "execution_count": 490,
   "metadata": {
    "colab": {
     "base_uri": "https://localhost:8080/"
    },
    "executionInfo": {
     "elapsed": 548,
     "status": "ok",
     "timestamp": 1624580514609,
     "user": {
      "displayName": "RODRIGO MAUREIRA CONTRERAS",
      "photoUrl": "https://lh3.googleusercontent.com/a-/AOh14GgGLFz8oud5_yEkYTgsdAdQGSYXhb2Ui7B66jE9ag=s64",
      "userId": "17102831893009830161"
     },
     "user_tz": 240
    },
    "id": "F392NiTpMgxF",
    "outputId": "3cfcb440-f733-4164-8787-49ea714fab7e"
   },
   "outputs": [
    {
     "name": "stdout",
     "output_type": "stream",
     "text": [
      "(5141, 51) (5141, 35, 1) (5141,)\n"
     ]
    }
   ],
   "source": [
    "df_X = pd.read_csv(\"x_bsg5x7-cne.csv\", header=None)\n",
    "df_y = pd.read_csv(\"y_bsg5x7-cne.csv\", header=None)\n",
    "y_origen = df_y[0]\n",
    "y_destino = df_y[1]\n",
    "df_X = pd.concat([df_X, y_origen], axis=1)\n",
    "X_train, X_test, y_train, y_test = train_test_split(df_X, y_destino, test_size=0.38, random_state=69)\n",
    "X_train = X_train.to_numpy()\n",
    "y_train = y_train.to_numpy()\n",
    "X_test = X_test.to_numpy()\n",
    "X_train_2 = np.delete(X_train,range(35,51),1)\n",
    "X_train_reshaped = np.expand_dims(X_train_2, axis=2)\n",
    "print(X_train.shape,X_train_reshaped.shape, y_train.shape)"
   ]
  },
  {
   "cell_type": "code",
   "execution_count": 491,
   "metadata": {
    "colab": {
     "base_uri": "https://localhost:8080/"
    },
    "executionInfo": {
     "elapsed": 378,
     "status": "ok",
     "timestamp": 1624580519010,
     "user": {
      "displayName": "RODRIGO MAUREIRA CONTRERAS",
      "photoUrl": "https://lh3.googleusercontent.com/a-/AOh14GgGLFz8oud5_yEkYTgsdAdQGSYXhb2Ui7B66jE9ag=s64",
      "userId": "17102831893009830161"
     },
     "user_tz": 240
    },
    "id": "aLC9D-0zreXr",
    "outputId": "5835b79a-c51e-4443-8bda-771f65ced68a"
   },
   "outputs": [
    {
     "data": {
      "text/plain": [
       "(5141, 15)"
      ]
     },
     "execution_count": 491,
     "metadata": {},
     "output_type": "execute_result"
    }
   ],
   "source": [
    "X_train_reshaped.shape = (5141, 5, 7) # 5,y son las dimensiones de la bahía\n",
    "X_train_reshaped[0]\n",
    "XX_train = X_train[0:,35:50]\n",
    "XX_train.shape"
   ]
  },
  {
   "cell_type": "code",
   "execution_count": 496,
   "metadata": {},
   "outputs": [],
   "source": [
    "# se hace un swap de la columna de origen con la columna 0 --> esto para facilitar el trabajo de la red\n",
    "for i in range(len(X_train_reshaped)):\n",
    "    origin = int(X_train[i][-1])\n",
    "    aux = X_train_reshaped[i][0]\n",
    "    X_train_reshaped[i][0]=X_train_reshaped[i][origin]\n",
    "    X_train_reshaped[i][origin]=aux\n",
    "    if y_train[i]==0: y_train[i]=origin"
   ]
  },
  {
   "cell_type": "code",
   "execution_count": 497,
   "metadata": {
    "colab": {
     "base_uri": "https://localhost:8080/"
    },
    "executionInfo": {
     "elapsed": 4,
     "status": "ok",
     "timestamp": 1624580523410,
     "user": {
      "displayName": "RODRIGO MAUREIRA CONTRERAS",
      "photoUrl": "https://lh3.googleusercontent.com/a-/AOh14GgGLFz8oud5_yEkYTgsdAdQGSYXhb2Ui7B66jE9ag=s64",
      "userId": "17102831893009830161"
     },
     "user_tz": 240
    },
    "id": "toJhMi48mpbs",
    "outputId": "e92f5c34-a7b4-4839-fc35-ab82bf99f8bd"
   },
   "outputs": [
    {
     "data": {
      "text/plain": [
       "array([4, 1, 1, 1, 2, 2, 1, 2, 4, 1, 2, 2, 3, 2, 2, 4, 1, 1, 4, 3],\n",
       "      dtype=int64)"
      ]
     },
     "execution_count": 497,
     "metadata": {},
     "output_type": "execute_result"
    }
   ],
   "source": [
    "y_train[:20]"
   ]
  },
  {
   "cell_type": "code",
   "execution_count": 498,
   "metadata": {
    "colab": {
     "base_uri": "https://localhost:8080/"
    },
    "executionInfo": {
     "elapsed": 2,
     "status": "ok",
     "timestamp": 1624580524451,
     "user": {
      "displayName": "RODRIGO MAUREIRA CONTRERAS",
      "photoUrl": "https://lh3.googleusercontent.com/a-/AOh14GgGLFz8oud5_yEkYTgsdAdQGSYXhb2Ui7B66jE9ag=s64",
      "userId": "17102831893009830161"
     },
     "user_tz": 240
    },
    "id": "_Y7xrGjvmvbi",
    "outputId": "ebc17db5-7de0-484d-9e9b-3a885894cce8"
   },
   "outputs": [
    {
     "data": {
      "text/plain": [
       "array([1, 2, 3, 4], dtype=int64)"
      ]
     },
     "execution_count": 498,
     "metadata": {},
     "output_type": "execute_result"
    }
   ],
   "source": [
    "np.unique(y_train)"
   ]
  },
  {
   "cell_type": "code",
   "execution_count": 499,
   "metadata": {
    "id": "Cafj1ebWm4x1"
   },
   "outputs": [],
   "source": [
    "from sklearn.preprocessing import OneHotEncoder"
   ]
  },
  {
   "cell_type": "code",
   "execution_count": 500,
   "metadata": {
    "id": "rGV4ZTCMm-yM"
   },
   "outputs": [],
   "source": [
    "encoder = OneHotEncoder()\n",
    "y_train_coded = encoder.fit_transform(y_train.reshape(-1,1)).toarray() "
   ]
  },
  {
   "cell_type": "code",
   "execution_count": 501,
   "metadata": {
    "colab": {
     "base_uri": "https://localhost:8080/"
    },
    "executionInfo": {
     "elapsed": 3,
     "status": "ok",
     "timestamp": 1624580529081,
     "user": {
      "displayName": "RODRIGO MAUREIRA CONTRERAS",
      "photoUrl": "https://lh3.googleusercontent.com/a-/AOh14GgGLFz8oud5_yEkYTgsdAdQGSYXhb2Ui7B66jE9ag=s64",
      "userId": "17102831893009830161"
     },
     "user_tz": 240
    },
    "id": "Hfchjws0nLtf",
    "outputId": "e1000752-7b02-46cd-8ccd-2a5f3593bce9"
   },
   "outputs": [
    {
     "data": {
      "text/plain": [
       "array([[0., 0., 0., 1.],\n",
       "       [1., 0., 0., 0.],\n",
       "       [1., 0., 0., 0.],\n",
       "       [1., 0., 0., 0.],\n",
       "       [0., 1., 0., 0.],\n",
       "       [0., 1., 0., 0.],\n",
       "       [1., 0., 0., 0.],\n",
       "       [0., 1., 0., 0.],\n",
       "       [0., 0., 0., 1.],\n",
       "       [1., 0., 0., 0.]])"
      ]
     },
     "execution_count": 501,
     "metadata": {},
     "output_type": "execute_result"
    }
   ],
   "source": [
    "y_train_coded[:10]"
   ]
  },
  {
   "cell_type": "markdown",
   "metadata": {
    "id": "JusOJkkgbxm4"
   },
   "source": [
    "Modelado de la red"
   ]
  },
  {
   "cell_type": "code",
   "execution_count": 377,
   "metadata": {
    "id": "m7rEYxpLhi1O"
   },
   "outputs": [],
   "source": [
    "convmodel = Sequential()\n",
    "convmodel.add(Conv1D(filters=10, kernel_size=3, activation='relu', input_shape=(7,1))) # los vectores tienen 7 elementos cada uno\n",
    "convmodel.add(Conv1D(filters=10, kernel_size=2, activation='relu'))\n",
    "convmodel.add(Dropout(0.1))\n",
    "convmodel.add(MaxPooling1D(pool_size=2))"
   ]
  },
  {
   "cell_type": "code",
   "execution_count": 503,
   "metadata": {
    "colab": {
     "base_uri": "https://localhost:8080/"
    },
    "executionInfo": {
     "elapsed": 8,
     "status": "ok",
     "timestamp": 1624580533835,
     "user": {
      "displayName": "RODRIGO MAUREIRA CONTRERAS",
      "photoUrl": "https://lh3.googleusercontent.com/a-/AOh14GgGLFz8oud5_yEkYTgsdAdQGSYXhb2Ui7B66jE9ag=s64",
      "userId": "17102831893009830161"
     },
     "user_tz": 240
    },
    "id": "WnBuImvmreXt",
    "outputId": "9d16842e-6f1c-47b7-c6e0-5bb5f68882eb"
   },
   "outputs": [
    {
     "name": "stdout",
     "output_type": "stream",
     "text": [
      "Model: \"model_22\"\n",
      "__________________________________________________________________________________________________\n",
      "Layer (type)                    Output Shape         Param #     Connected to                     \n",
      "==================================================================================================\n",
      "input_127 (InputLayer)          (None, 7, 1)         0                                            \n",
      "__________________________________________________________________________________________________\n",
      "input_128 (InputLayer)          (None, 7, 1)         0                                            \n",
      "__________________________________________________________________________________________________\n",
      "input_129 (InputLayer)          (None, 7, 1)         0                                            \n",
      "__________________________________________________________________________________________________\n",
      "input_130 (InputLayer)          (None, 7, 1)         0                                            \n",
      "__________________________________________________________________________________________________\n",
      "input_131 (InputLayer)          (None, 7, 1)         0                                            \n",
      "__________________________________________________________________________________________________\n",
      "sequential_16 (Sequential)      (None, 2, 10)        250         input_127[0][0]                  \n",
      "                                                                 input_128[0][0]                  \n",
      "                                                                 input_129[0][0]                  \n",
      "                                                                 input_130[0][0]                  \n",
      "                                                                 input_131[0][0]                  \n",
      "__________________________________________________________________________________________________\n",
      "concatenate_41 (Concatenate)    (None, 2, 50)        0           sequential_16[11][0]             \n",
      "                                                                 sequential_16[12][0]             \n",
      "                                                                 sequential_16[13][0]             \n",
      "                                                                 sequential_16[14][0]             \n",
      "                                                                 sequential_16[15][0]             \n",
      "__________________________________________________________________________________________________\n",
      "flatten_22 (Flatten)            (None, 100)          0           concatenate_41[0][0]             \n",
      "__________________________________________________________________________________________________\n",
      "input_132 (InputLayer)          (None, 15)           0                                            \n",
      "__________________________________________________________________________________________________\n",
      "concatenate_42 (Concatenate)    (None, 115)          0           flatten_22[0][0]                 \n",
      "                                                                 input_132[0][0]                  \n",
      "__________________________________________________________________________________________________\n",
      "dense_63 (Dense)                (None, 50)           5800        concatenate_42[0][0]             \n",
      "__________________________________________________________________________________________________\n",
      "dense_64 (Dense)                (None, 50)           2550        dense_63[0][0]                   \n",
      "__________________________________________________________________________________________________\n",
      "dense_65 (Dense)                (None, 4)            204         dense_64[0][0]                   \n",
      "==================================================================================================\n",
      "Total params: 8,804\n",
      "Trainable params: 8,804\n",
      "Non-trainable params: 0\n",
      "__________________________________________________________________________________________________\n"
     ]
    }
   ],
   "source": [
    "#define two different inputs\n",
    "input1 = Input((7, 1))\n",
    "input2 = Input((7, 1))\n",
    "input3 = Input((7, 1))\n",
    "input4 = Input((7, 1))\n",
    "input5 = Input((7, 1))\n",
    "input6 = Input((15, ))\n",
    "   \n",
    "#use the model to get three different outputs (the same model)\n",
    "out1 = convmodel(input1)\n",
    "out2 = convmodel(input2)\n",
    "out3 = convmodel(input3)\n",
    "out4 = convmodel(input4)\n",
    "out5 = convmodel(input5)\n",
    "\n",
    "#concatenate the outputs and add the final part of your model: \n",
    "out = Concatenate()([out1,out2,out3,out4,out5])\n",
    "out = Flatten()(out)\n",
    "out = Concatenate()([out,input6])  \n",
    "out = Dense(50, activation='relu')(out)\n",
    "out = Dense(50, activation='relu')(out)\n",
    "out = Dense(4, activation='softmax')(out)   \n",
    "\n",
    "#create the model taking 2 inputs with one output\n",
    "model2 = Model([input1,input2,input3,input4,input5,input6],out)\n",
    "model2.compile(loss='categorical_crossentropy', optimizer='adam', metrics=['accuracy'])\n",
    "model2.save_weights('model.h5')\n",
    "model2.summary()\n",
    "#model.save_weights('model_destino.h5')\n"
   ]
  },
  {
   "cell_type": "code",
   "execution_count": 504,
   "metadata": {
    "colab": {
     "base_uri": "https://localhost:8080/"
    },
    "executionInfo": {
     "elapsed": 81210,
     "status": "ok",
     "timestamp": 1624580618874,
     "user": {
      "displayName": "RODRIGO MAUREIRA CONTRERAS",
      "photoUrl": "https://lh3.googleusercontent.com/a-/AOh14GgGLFz8oud5_yEkYTgsdAdQGSYXhb2Ui7B66jE9ag=s64",
      "userId": "17102831893009830161"
     },
     "user_tz": 240
    },
    "id": "27vyHh0yR9Gq",
    "outputId": "69582aed-c7fc-4233-d12b-063d8e16953c"
   },
   "outputs": [
    {
     "name": "stdout",
     "output_type": "stream",
     "text": [
      "(5141, 7)\n",
      "Epoch 1/200\n",
      "5141/5141 [==============================] - 1s 197us/step - loss: 1.3166 - accuracy: 0.3832\n",
      "Epoch 2/200\n",
      "5141/5141 [==============================] - 0s 63us/step - loss: 1.1154 - accuracy: 0.5392\n",
      "Epoch 3/200\n",
      "5141/5141 [==============================] - 0s 62us/step - loss: 1.0224 - accuracy: 0.5797\n",
      "Epoch 4/200\n",
      "5141/5141 [==============================] - 0s 60us/step - loss: 0.9844 - accuracy: 0.6036\n",
      "Epoch 5/200\n",
      "5141/5141 [==============================] - 0s 59us/step - loss: 0.9624 - accuracy: 0.6061\n",
      "Epoch 6/200\n",
      "5141/5141 [==============================] - 0s 69us/step - loss: 0.9500 - accuracy: 0.6123\n",
      "Epoch 7/200\n",
      "5141/5141 [==============================] - 0s 61us/step - loss: 0.9353 - accuracy: 0.6176\n",
      "Epoch 8/200\n",
      "5141/5141 [==============================] - 0s 68us/step - loss: 0.9235 - accuracy: 0.6199\n",
      "Epoch 9/200\n",
      "5141/5141 [==============================] - 0s 64us/step - loss: 0.9206 - accuracy: 0.6203\n",
      "Epoch 10/200\n",
      "5141/5141 [==============================] - 0s 60us/step - loss: 0.9108 - accuracy: 0.6267\n",
      "Epoch 11/200\n",
      "5141/5141 [==============================] - 0s 60us/step - loss: 0.8876 - accuracy: 0.6396\n",
      "Epoch 12/200\n",
      "5141/5141 [==============================] - ETA: 0s - loss: 0.8783 - accuracy: 0.64 - 0s 65us/step - loss: 0.8778 - accuracy: 0.6458\n",
      "Epoch 13/200\n",
      "5141/5141 [==============================] - 0s 71us/step - loss: 0.8746 - accuracy: 0.6466\n",
      "Epoch 14/200\n",
      "5141/5141 [==============================] - 0s 72us/step - loss: 0.8608 - accuracy: 0.6466\n",
      "Epoch 15/200\n",
      "5141/5141 [==============================] - 0s 77us/step - loss: 0.8574 - accuracy: 0.6497\n",
      "Epoch 16/200\n",
      "5141/5141 [==============================] - 0s 79us/step - loss: 0.8446 - accuracy: 0.6608\n",
      "Epoch 17/200\n",
      "5141/5141 [==============================] - 0s 70us/step - loss: 0.8330 - accuracy: 0.6664\n",
      "Epoch 18/200\n",
      "5141/5141 [==============================] - 0s 65us/step - loss: 0.8367 - accuracy: 0.6631\n",
      "Epoch 19/200\n",
      "5141/5141 [==============================] - 0s 69us/step - loss: 0.8218 - accuracy: 0.6668\n",
      "Epoch 20/200\n",
      "5141/5141 [==============================] - ETA: 0s - loss: 0.8187 - accuracy: 0.66 - 0s 87us/step - loss: 0.8212 - accuracy: 0.6664\n",
      "Epoch 21/200\n",
      "5141/5141 [==============================] - 0s 71us/step - loss: 0.8046 - accuracy: 0.6765\n",
      "Epoch 22/200\n",
      "5141/5141 [==============================] - 0s 66us/step - loss: 0.8044 - accuracy: 0.6826\n",
      "Epoch 23/200\n",
      "5141/5141 [==============================] - 0s 71us/step - loss: 0.7998 - accuracy: 0.6738\n",
      "Epoch 24/200\n",
      "5141/5141 [==============================] - 0s 80us/step - loss: 0.7855 - accuracy: 0.6851\n",
      "Epoch 25/200\n",
      "5141/5141 [==============================] - 0s 69us/step - loss: 0.7886 - accuracy: 0.6808\n",
      "Epoch 26/200\n",
      "5141/5141 [==============================] - 0s 59us/step - loss: 0.7707 - accuracy: 0.6950\n",
      "Epoch 27/200\n",
      "5141/5141 [==============================] - 0s 62us/step - loss: 0.7611 - accuracy: 0.6979\n",
      "Epoch 28/200\n",
      "5141/5141 [==============================] - 0s 62us/step - loss: 0.7599 - accuracy: 0.6969\n",
      "Epoch 29/200\n",
      "5141/5141 [==============================] - 0s 61us/step - loss: 0.7512 - accuracy: 0.7001\n",
      "Epoch 30/200\n",
      "5141/5141 [==============================] - 0s 60us/step - loss: 0.7504 - accuracy: 0.6981\n",
      "Epoch 31/200\n",
      "5141/5141 [==============================] - 0s 61us/step - loss: 0.7419 - accuracy: 0.7036\n",
      "Epoch 32/200\n",
      "5141/5141 [==============================] - 0s 65us/step - loss: 0.7401 - accuracy: 0.7051\n",
      "Epoch 33/200\n",
      "5141/5141 [==============================] - 0s 64us/step - loss: 0.7325 - accuracy: 0.6989\n",
      "Epoch 34/200\n",
      "5141/5141 [==============================] - 0s 65us/step - loss: 0.7225 - accuracy: 0.7080\n",
      "Epoch 35/200\n",
      "5141/5141 [==============================] - 0s 64us/step - loss: 0.7250 - accuracy: 0.7082\n",
      "Epoch 36/200\n",
      "5141/5141 [==============================] - 0s 60us/step - loss: 0.7237 - accuracy: 0.7078\n",
      "Epoch 37/200\n",
      "5141/5141 [==============================] - 0s 61us/step - loss: 0.7008 - accuracy: 0.7150\n",
      "Epoch 38/200\n",
      "5141/5141 [==============================] - 0s 61us/step - loss: 0.7020 - accuracy: 0.7252\n",
      "Epoch 39/200\n",
      "5141/5141 [==============================] - 0s 64us/step - loss: 0.6942 - accuracy: 0.7250\n",
      "Epoch 40/200\n",
      "5141/5141 [==============================] - 0s 70us/step - loss: 0.7000 - accuracy: 0.7203\n",
      "Epoch 41/200\n",
      "5141/5141 [==============================] - 0s 78us/step - loss: 0.6878 - accuracy: 0.7222\n",
      "Epoch 42/200\n",
      "5141/5141 [==============================] - 0s 61us/step - loss: 0.6849 - accuracy: 0.7222\n",
      "Epoch 43/200\n",
      "5141/5141 [==============================] - 0s 51us/step - loss: 0.6771 - accuracy: 0.7323\n",
      "Epoch 44/200\n",
      "5141/5141 [==============================] - 0s 70us/step - loss: 0.6674 - accuracy: 0.7302\n",
      "Epoch 45/200\n",
      "5141/5141 [==============================] - 0s 61us/step - loss: 0.6698 - accuracy: 0.7323\n",
      "Epoch 46/200\n",
      "5141/5141 [==============================] - 0s 63us/step - loss: 0.6672 - accuracy: 0.7331\n",
      "Epoch 47/200\n",
      "5141/5141 [==============================] - 0s 77us/step - loss: 0.6601 - accuracy: 0.7339\n",
      "Epoch 48/200\n",
      "5141/5141 [==============================] - 0s 64us/step - loss: 0.6525 - accuracy: 0.7440\n",
      "Epoch 49/200\n",
      "5141/5141 [==============================] - 0s 55us/step - loss: 0.6449 - accuracy: 0.7401\n",
      "Epoch 50/200\n",
      "5141/5141 [==============================] - 0s 76us/step - loss: 0.6537 - accuracy: 0.7370\n",
      "Epoch 51/200\n",
      "5141/5141 [==============================] - 0s 61us/step - loss: 0.6328 - accuracy: 0.7465\n",
      "Epoch 52/200\n",
      "5141/5141 [==============================] - 0s 65us/step - loss: 0.6296 - accuracy: 0.7495\n",
      "Epoch 53/200\n",
      "5141/5141 [==============================] - 0s 61us/step - loss: 0.6332 - accuracy: 0.7487\n",
      "Epoch 54/200\n",
      "5141/5141 [==============================] - 0s 66us/step - loss: 0.6293 - accuracy: 0.7495\n",
      "Epoch 55/200\n",
      "5141/5141 [==============================] - 0s 53us/step - loss: 0.6193 - accuracy: 0.7532\n",
      "Epoch 56/200\n",
      "5141/5141 [==============================] - 0s 52us/step - loss: 0.6143 - accuracy: 0.7543\n",
      "Epoch 57/200\n",
      "5141/5141 [==============================] - 0s 53us/step - loss: 0.6152 - accuracy: 0.7586\n",
      "Epoch 58/200\n",
      "5141/5141 [==============================] - 0s 56us/step - loss: 0.6185 - accuracy: 0.7508\n",
      "Epoch 59/200\n",
      "5141/5141 [==============================] - 0s 54us/step - loss: 0.6053 - accuracy: 0.7588\n",
      "Epoch 60/200\n",
      "5141/5141 [==============================] - 0s 52us/step - loss: 0.6049 - accuracy: 0.7633\n",
      "Epoch 61/200\n",
      "5141/5141 [==============================] - 0s 54us/step - loss: 0.5972 - accuracy: 0.7590\n",
      "Epoch 62/200\n",
      "5141/5141 [==============================] - 0s 56us/step - loss: 0.5946 - accuracy: 0.7561\n",
      "Epoch 63/200\n",
      "5141/5141 [==============================] - 0s 52us/step - loss: 0.5796 - accuracy: 0.7720\n",
      "Epoch 64/200\n",
      "5141/5141 [==============================] - 0s 52us/step - loss: 0.5803 - accuracy: 0.7724\n",
      "Epoch 65/200\n",
      "5141/5141 [==============================] - 0s 54us/step - loss: 0.5688 - accuracy: 0.7819\n",
      "Epoch 66/200\n",
      "5141/5141 [==============================] - 0s 53us/step - loss: 0.5687 - accuracy: 0.7790\n",
      "Epoch 67/200\n",
      "5141/5141 [==============================] - 0s 55us/step - loss: 0.5671 - accuracy: 0.7794\n",
      "Epoch 68/200\n",
      "5141/5141 [==============================] - 0s 54us/step - loss: 0.5810 - accuracy: 0.7726\n",
      "Epoch 69/200\n",
      "5141/5141 [==============================] - 0s 54us/step - loss: 0.5692 - accuracy: 0.7751\n",
      "Epoch 70/200\n",
      "5141/5141 [==============================] - 0s 53us/step - loss: 0.5607 - accuracy: 0.7827\n",
      "Epoch 71/200\n",
      "5141/5141 [==============================] - 0s 52us/step - loss: 0.5616 - accuracy: 0.7819\n",
      "Epoch 72/200\n",
      "5141/5141 [==============================] - 0s 53us/step - loss: 0.5507 - accuracy: 0.7856\n",
      "Epoch 73/200\n",
      "5141/5141 [==============================] - 0s 53us/step - loss: 0.5479 - accuracy: 0.7888\n",
      "Epoch 74/200\n",
      "5141/5141 [==============================] - 0s 64us/step - loss: 0.5428 - accuracy: 0.7893\n",
      "Epoch 75/200\n",
      "5141/5141 [==============================] - 0s 53us/step - loss: 0.5427 - accuracy: 0.7847\n",
      "Epoch 76/200\n",
      "5141/5141 [==============================] - 0s 57us/step - loss: 0.5426 - accuracy: 0.7851\n",
      "Epoch 77/200\n",
      "5141/5141 [==============================] - 0s 54us/step - loss: 0.5272 - accuracy: 0.7967\n",
      "Epoch 78/200\n",
      "5141/5141 [==============================] - 0s 54us/step - loss: 0.5239 - accuracy: 0.7960\n",
      "Epoch 79/200\n",
      "5141/5141 [==============================] - 0s 53us/step - loss: 0.5279 - accuracy: 0.7923\n",
      "Epoch 80/200\n",
      "5141/5141 [==============================] - 0s 53us/step - loss: 0.5165 - accuracy: 0.8016\n",
      "Epoch 81/200\n",
      "5141/5141 [==============================] - 0s 55us/step - loss: 0.5151 - accuracy: 0.7954\n",
      "Epoch 82/200\n",
      "5141/5141 [==============================] - 0s 56us/step - loss: 0.5225 - accuracy: 0.7969\n",
      "Epoch 83/200\n",
      "5141/5141 [==============================] - 0s 56us/step - loss: 0.5204 - accuracy: 0.7905\n",
      "Epoch 84/200\n",
      "5141/5141 [==============================] - 0s 52us/step - loss: 0.5195 - accuracy: 0.7969\n",
      "Epoch 85/200\n",
      "5141/5141 [==============================] - 0s 56us/step - loss: 0.5048 - accuracy: 0.8016\n",
      "Epoch 86/200\n",
      "5141/5141 [==============================] - 0s 51us/step - loss: 0.4966 - accuracy: 0.8030\n",
      "Epoch 87/200\n",
      "5141/5141 [==============================] - 0s 53us/step - loss: 0.5018 - accuracy: 0.8032\n",
      "Epoch 88/200\n",
      "5141/5141 [==============================] - 0s 53us/step - loss: 0.5048 - accuracy: 0.8014\n",
      "Epoch 89/200\n",
      "5141/5141 [==============================] - 0s 55us/step - loss: 0.4932 - accuracy: 0.8090\n",
      "Epoch 90/200\n",
      "5141/5141 [==============================] - 0s 52us/step - loss: 0.4868 - accuracy: 0.8115\n",
      "Epoch 91/200\n",
      "5141/5141 [==============================] - 0s 53us/step - loss: 0.5082 - accuracy: 0.8002\n",
      "Epoch 92/200\n",
      "5141/5141 [==============================] - 0s 55us/step - loss: 0.4927 - accuracy: 0.8102\n",
      "Epoch 93/200\n",
      "5141/5141 [==============================] - 0s 52us/step - loss: 0.5017 - accuracy: 0.8000\n",
      "Epoch 94/200\n",
      "5141/5141 [==============================] - 0s 55us/step - loss: 0.4917 - accuracy: 0.8045\n",
      "Epoch 95/200\n",
      "5141/5141 [==============================] - 0s 54us/step - loss: 0.4864 - accuracy: 0.8076\n",
      "Epoch 96/200\n",
      "5141/5141 [==============================] - 0s 54us/step - loss: 0.4849 - accuracy: 0.8107\n",
      "Epoch 97/200\n",
      "5141/5141 [==============================] - 0s 53us/step - loss: 0.4783 - accuracy: 0.8137\n",
      "Epoch 98/200\n",
      "5141/5141 [==============================] - 0s 53us/step - loss: 0.4762 - accuracy: 0.8117\n",
      "Epoch 99/200\n",
      "5141/5141 [==============================] - 0s 54us/step - loss: 0.4709 - accuracy: 0.8170\n",
      "Epoch 100/200\n",
      "5141/5141 [==============================] - 0s 52us/step - loss: 0.4737 - accuracy: 0.8123\n",
      "Epoch 101/200\n",
      "5141/5141 [==============================] - 0s 52us/step - loss: 0.4763 - accuracy: 0.8158\n",
      "Epoch 102/200\n",
      "5141/5141 [==============================] - 0s 55us/step - loss: 0.4692 - accuracy: 0.8170\n",
      "Epoch 103/200\n",
      "5141/5141 [==============================] - 0s 52us/step - loss: 0.4591 - accuracy: 0.8224\n",
      "Epoch 104/200\n",
      "5141/5141 [==============================] - 0s 52us/step - loss: 0.4672 - accuracy: 0.8181\n",
      "Epoch 105/200\n",
      "5141/5141 [==============================] - 0s 52us/step - loss: 0.4552 - accuracy: 0.8185\n",
      "Epoch 106/200\n",
      "5141/5141 [==============================] - 0s 51us/step - loss: 0.4657 - accuracy: 0.8166\n",
      "Epoch 107/200\n",
      "5141/5141 [==============================] - 0s 55us/step - loss: 0.4571 - accuracy: 0.8244\n",
      "Epoch 108/200\n",
      "5141/5141 [==============================] - 0s 53us/step - loss: 0.4461 - accuracy: 0.8269\n",
      "Epoch 109/200\n",
      "5141/5141 [==============================] - 0s 55us/step - loss: 0.4671 - accuracy: 0.8174\n",
      "Epoch 110/200\n",
      "5141/5141 [==============================] - 0s 54us/step - loss: 0.4487 - accuracy: 0.8255\n",
      "Epoch 111/200\n",
      "5141/5141 [==============================] - 0s 55us/step - loss: 0.4466 - accuracy: 0.8216\n",
      "Epoch 112/200\n",
      "5141/5141 [==============================] - 0s 52us/step - loss: 0.4334 - accuracy: 0.8329\n",
      "Epoch 113/200\n",
      "5141/5141 [==============================] - 0s 51us/step - loss: 0.4419 - accuracy: 0.8288\n",
      "Epoch 114/200\n",
      "5141/5141 [==============================] - 0s 52us/step - loss: 0.4475 - accuracy: 0.8242\n",
      "Epoch 115/200\n",
      "5141/5141 [==============================] - 0s 55us/step - loss: 0.4395 - accuracy: 0.8347\n",
      "Epoch 116/200\n",
      "5141/5141 [==============================] - 0s 52us/step - loss: 0.4482 - accuracy: 0.8226\n",
      "Epoch 117/200\n",
      "5141/5141 [==============================] - 0s 55us/step - loss: 0.4304 - accuracy: 0.8321\n",
      "Epoch 118/200\n",
      "5141/5141 [==============================] - 0s 56us/step - loss: 0.4210 - accuracy: 0.8366\n",
      "Epoch 119/200\n",
      "5141/5141 [==============================] - 0s 52us/step - loss: 0.4203 - accuracy: 0.8374\n",
      "Epoch 120/200\n",
      "5141/5141 [==============================] - 0s 55us/step - loss: 0.4194 - accuracy: 0.8366\n",
      "Epoch 121/200\n",
      "5141/5141 [==============================] - 0s 53us/step - loss: 0.4239 - accuracy: 0.8358\n",
      "Epoch 122/200\n",
      "5141/5141 [==============================] - 0s 57us/step - loss: 0.4198 - accuracy: 0.8317\n",
      "Epoch 123/200\n",
      "5141/5141 [==============================] - 0s 52us/step - loss: 0.4141 - accuracy: 0.8382\n",
      "Epoch 124/200\n",
      "5141/5141 [==============================] - 0s 52us/step - loss: 0.4147 - accuracy: 0.8362\n",
      "Epoch 125/200\n",
      "5141/5141 [==============================] - 0s 53us/step - loss: 0.4221 - accuracy: 0.8316\n",
      "Epoch 126/200\n",
      "5141/5141 [==============================] - 0s 53us/step - loss: 0.4145 - accuracy: 0.8421\n",
      "Epoch 127/200\n",
      "5141/5141 [==============================] - 0s 52us/step - loss: 0.4187 - accuracy: 0.8387\n",
      "Epoch 128/200\n",
      "5141/5141 [==============================] - 0s 55us/step - loss: 0.4003 - accuracy: 0.8446\n",
      "Epoch 129/200\n",
      "5141/5141 [==============================] - 0s 53us/step - loss: 0.4074 - accuracy: 0.8440\n",
      "Epoch 130/200\n",
      "5141/5141 [==============================] - 0s 53us/step - loss: 0.4108 - accuracy: 0.8442\n",
      "Epoch 131/200\n",
      "5141/5141 [==============================] - 0s 52us/step - loss: 0.4003 - accuracy: 0.8415\n",
      "Epoch 132/200\n",
      "5141/5141 [==============================] - 0s 55us/step - loss: 0.4014 - accuracy: 0.8444\n",
      "Epoch 133/200\n",
      "5141/5141 [==============================] - 0s 54us/step - loss: 0.3997 - accuracy: 0.8459\n",
      "Epoch 134/200\n",
      "5141/5141 [==============================] - 0s 52us/step - loss: 0.4030 - accuracy: 0.8467\n",
      "Epoch 135/200\n",
      "5141/5141 [==============================] - 0s 55us/step - loss: 0.3919 - accuracy: 0.8526\n",
      "Epoch 136/200\n",
      "5141/5141 [==============================] - 0s 52us/step - loss: 0.3905 - accuracy: 0.8494\n",
      "Epoch 137/200\n",
      "5141/5141 [==============================] - 0s 55us/step - loss: 0.3902 - accuracy: 0.8493\n",
      "Epoch 138/200\n",
      "5141/5141 [==============================] - 0s 52us/step - loss: 0.3986 - accuracy: 0.8456\n",
      "Epoch 139/200\n",
      "5141/5141 [==============================] - 0s 52us/step - loss: 0.3929 - accuracy: 0.8430\n",
      "Epoch 140/200\n",
      "5141/5141 [==============================] - 0s 55us/step - loss: 0.3875 - accuracy: 0.8553\n",
      "Epoch 141/200\n",
      "5141/5141 [==============================] - 0s 54us/step - loss: 0.3959 - accuracy: 0.8491\n",
      "Epoch 142/200\n",
      "5141/5141 [==============================] - 0s 55us/step - loss: 0.3803 - accuracy: 0.8522\n",
      "Epoch 143/200\n",
      "5141/5141 [==============================] - 0s 52us/step - loss: 0.3829 - accuracy: 0.8504\n",
      "Epoch 144/200\n",
      "5141/5141 [==============================] - 0s 56us/step - loss: 0.3768 - accuracy: 0.8535\n",
      "Epoch 145/200\n",
      "5141/5141 [==============================] - 0s 60us/step - loss: 0.3782 - accuracy: 0.8572\n",
      "Epoch 146/200\n",
      "5141/5141 [==============================] - 0s 66us/step - loss: 0.3693 - accuracy: 0.8623\n",
      "Epoch 147/200\n",
      "5141/5141 [==============================] - 0s 67us/step - loss: 0.3960 - accuracy: 0.8463\n",
      "Epoch 148/200\n",
      "5141/5141 [==============================] - 0s 54us/step - loss: 0.3709 - accuracy: 0.8598\n",
      "Epoch 149/200\n",
      "5141/5141 [==============================] - 0s 55us/step - loss: 0.3841 - accuracy: 0.8494\n",
      "Epoch 150/200\n",
      "5141/5141 [==============================] - 0s 58us/step - loss: 0.3726 - accuracy: 0.8588\n",
      "Epoch 151/200\n",
      "5141/5141 [==============================] - 0s 54us/step - loss: 0.3866 - accuracy: 0.8504\n",
      "Epoch 152/200\n",
      "5141/5141 [==============================] - 0s 55us/step - loss: 0.3717 - accuracy: 0.8563\n",
      "Epoch 153/200\n",
      "5141/5141 [==============================] - 0s 55us/step - loss: 0.3791 - accuracy: 0.8557\n",
      "Epoch 154/200\n",
      "5141/5141 [==============================] - 0s 54us/step - loss: 0.3622 - accuracy: 0.8592\n",
      "Epoch 155/200\n",
      "5141/5141 [==============================] - 0s 55us/step - loss: 0.3730 - accuracy: 0.8615\n",
      "Epoch 156/200\n",
      "5141/5141 [==============================] - 0s 55us/step - loss: 0.3664 - accuracy: 0.8594\n",
      "Epoch 157/200\n",
      "5141/5141 [==============================] - 0s 57us/step - loss: 0.3616 - accuracy: 0.8635\n",
      "Epoch 158/200\n",
      "5141/5141 [==============================] - 0s 55us/step - loss: 0.3592 - accuracy: 0.8642\n",
      "Epoch 159/200\n",
      "5141/5141 [==============================] - 0s 55us/step - loss: 0.3671 - accuracy: 0.8625\n",
      "Epoch 160/200\n",
      "5141/5141 [==============================] - 0s 55us/step - loss: 0.3638 - accuracy: 0.8594\n",
      "Epoch 161/200\n",
      "5141/5141 [==============================] - 0s 54us/step - loss: 0.3625 - accuracy: 0.8564\n",
      "Epoch 162/200\n",
      "5141/5141 [==============================] - 0s 52us/step - loss: 0.3508 - accuracy: 0.8656\n",
      "Epoch 163/200\n",
      "5141/5141 [==============================] - 0s 58us/step - loss: 0.3538 - accuracy: 0.8611\n",
      "Epoch 164/200\n",
      "5141/5141 [==============================] - 0s 57us/step - loss: 0.3586 - accuracy: 0.8605 0s - loss: 0.3519 - accuracy: 0.86\n",
      "Epoch 165/200\n",
      "5141/5141 [==============================] - 0s 57us/step - loss: 0.3438 - accuracy: 0.8710\n",
      "Epoch 166/200\n",
      "5141/5141 [==============================] - 0s 55us/step - loss: 0.3657 - accuracy: 0.8578\n",
      "Epoch 167/200\n",
      "5141/5141 [==============================] - 0s 55us/step - loss: 0.3373 - accuracy: 0.8751\n",
      "Epoch 168/200\n",
      "5141/5141 [==============================] - 0s 57us/step - loss: 0.3424 - accuracy: 0.8701\n",
      "Epoch 169/200\n",
      "5141/5141 [==============================] - 0s 55us/step - loss: 0.3557 - accuracy: 0.8650\n",
      "Epoch 170/200\n",
      "5141/5141 [==============================] - 0s 58us/step - loss: 0.3440 - accuracy: 0.8681\n",
      "Epoch 171/200\n",
      "5141/5141 [==============================] - 0s 54us/step - loss: 0.3369 - accuracy: 0.8732\n",
      "Epoch 172/200\n",
      "5141/5141 [==============================] - 0s 56us/step - loss: 0.3376 - accuracy: 0.8743\n",
      "Epoch 173/200\n",
      "5141/5141 [==============================] - 0s 51us/step - loss: 0.3340 - accuracy: 0.8736\n",
      "Epoch 174/200\n",
      "5141/5141 [==============================] - 0s 52us/step - loss: 0.3458 - accuracy: 0.8679\n",
      "Epoch 175/200\n",
      "5141/5141 [==============================] - 0s 57us/step - loss: 0.3412 - accuracy: 0.8638\n",
      "Epoch 176/200\n",
      "5141/5141 [==============================] - 0s 53us/step - loss: 0.3393 - accuracy: 0.8716\n",
      "Epoch 177/200\n",
      "5141/5141 [==============================] - 0s 55us/step - loss: 0.3465 - accuracy: 0.8712\n",
      "Epoch 178/200\n",
      "5141/5141 [==============================] - 0s 56us/step - loss: 0.3401 - accuracy: 0.8738\n",
      "Epoch 179/200\n",
      "5141/5141 [==============================] - 0s 55us/step - loss: 0.3348 - accuracy: 0.8736\n",
      "Epoch 180/200\n",
      "5141/5141 [==============================] - 0s 56us/step - loss: 0.3326 - accuracy: 0.8761\n",
      "Epoch 181/200\n",
      "5141/5141 [==============================] - 0s 56us/step - loss: 0.3378 - accuracy: 0.8722\n",
      "Epoch 182/200\n",
      "5141/5141 [==============================] - 0s 54us/step - loss: 0.3316 - accuracy: 0.8741\n",
      "Epoch 183/200\n",
      "5141/5141 [==============================] - 0s 53us/step - loss: 0.3259 - accuracy: 0.8753\n",
      "Epoch 184/200\n",
      "5141/5141 [==============================] - 0s 55us/step - loss: 0.3224 - accuracy: 0.8759\n",
      "Epoch 185/200\n",
      "5141/5141 [==============================] - 0s 53us/step - loss: 0.3292 - accuracy: 0.8747\n",
      "Epoch 186/200\n",
      "5141/5141 [==============================] - 0s 55us/step - loss: 0.3359 - accuracy: 0.8732\n",
      "Epoch 187/200\n",
      "5141/5141 [==============================] - 0s 53us/step - loss: 0.3396 - accuracy: 0.8749\n",
      "Epoch 188/200\n",
      "5141/5141 [==============================] - 0s 52us/step - loss: 0.3263 - accuracy: 0.8784\n",
      "Epoch 189/200\n",
      "5141/5141 [==============================] - 0s 56us/step - loss: 0.3222 - accuracy: 0.8784\n",
      "Epoch 190/200\n",
      "5141/5141 [==============================] - 0s 53us/step - loss: 0.3079 - accuracy: 0.8831\n",
      "Epoch 191/200\n",
      "5141/5141 [==============================] - 0s 55us/step - loss: 0.3330 - accuracy: 0.8701\n",
      "Epoch 192/200\n",
      "5141/5141 [==============================] - 0s 58us/step - loss: 0.3307 - accuracy: 0.8761\n",
      "Epoch 193/200\n",
      "5141/5141 [==============================] - 0s 55us/step - loss: 0.3187 - accuracy: 0.8829\n",
      "Epoch 194/200\n",
      "5141/5141 [==============================] - 0s 57us/step - loss: 0.3242 - accuracy: 0.8780\n",
      "Epoch 195/200\n",
      "5141/5141 [==============================] - 0s 55us/step - loss: 0.3181 - accuracy: 0.8817\n",
      "Epoch 196/200\n",
      "5141/5141 [==============================] - 0s 55us/step - loss: 0.3143 - accuracy: 0.8812\n",
      "Epoch 197/200\n",
      "5141/5141 [==============================] - 0s 55us/step - loss: 0.3226 - accuracy: 0.8792\n",
      "Epoch 198/200\n",
      "5141/5141 [==============================] - 0s 53us/step - loss: 0.3223 - accuracy: 0.8743\n",
      "Epoch 199/200\n",
      "5141/5141 [==============================] - 0s 55us/step - loss: 0.3286 - accuracy: 0.8794\n",
      "Epoch 200/200\n",
      "5141/5141 [==============================] - 0s 55us/step - loss: 0.3254 - accuracy: 0.8773\n"
     ]
    },
    {
     "data": {
      "text/plain": [
       "<keras.callbacks.callbacks.History at 0x2b253742fd0>"
      ]
     },
     "execution_count": 504,
     "metadata": {},
     "output_type": "execute_result"
    }
   ],
   "source": [
    "X_train1 = X_train_reshaped[0:,0]\n",
    "\n",
    "print(X_train1.shape)\n",
    "\n",
    "X_train2 = X_train_reshaped[0:,1]\n",
    "X_train3 = X_train_reshaped[0:,2]\n",
    "X_train4 = X_train_reshaped[0:,3]\n",
    "X_train5 = X_train_reshaped[0:,4]\n",
    "\n",
    "X_train1.shape=(5141, 7, 1)\n",
    "X_train2.shape=(5141, 7, 1)\n",
    "X_train3.shape=(5141, 7, 1)\n",
    "X_train4.shape=(5141, 7, 1)\n",
    "X_train5.shape=(5141, 7, 1)\n",
    "\n",
    "#model.load_weights('model.h5')\n",
    "model2.fit([X_train1,X_train2,X_train3,X_train4,X_train5,XX_train], y_train_coded, epochs=200, batch_size=64, verbose=True)"
   ]
  },
  {
   "cell_type": "code",
   "execution_count": 344,
   "metadata": {},
   "outputs": [],
   "source": [
    "def compactState(yard):\n",
    "    sort = []\n",
    "    for stack in yard:\n",
    "      for container in stack:\n",
    "        if not container in sort:\n",
    "          sort.append(container)\n",
    "    sort = sorted(sort)\n",
    "    maxValue = 0\n",
    "    for i in range(len(yard)):\n",
    "      for j in range(len(yard[i])):\n",
    "        yard[i][j] = sort.index(yard[i][j]) + 1\n",
    "        if yard[i][j] > maxValue:\n",
    "          maxValue = yard[i][j]\n",
    "    return yard\n",
    "\n",
    "def elevateState(yard, h, max_item):\n",
    "    for stack in yard:\n",
    "      while len(stack) < h:\n",
    "        #stack.insert(0,max_item)\n",
    "        stack.insert(0,1)\n",
    "    return yard\n",
    "\n",
    "def flattenState(state):\n",
    "    flatten = []\n",
    "    for lista in state:\n",
    "        for item in lista:\n",
    "            flatten.append(item)\n",
    "    return flatten\n",
    "\n",
    "def normalize(state,max_item):\n",
    "    return np.array(state)/max_item\n",
    "\n",
    "\n",
    "def getStackValues(yard): #sorted stacks?\n",
    "    values = []\n",
    "    for stack in yard:\n",
    "        flag = False\n",
    "        cont = 0\n",
    "        for i in range(len(stack)):\n",
    "            if i==0:\n",
    "                cont += 1\n",
    "            else:\n",
    "                if stack[i] <= stack[i-1]:\n",
    "                    cont += 1\n",
    "                else: break\n",
    "        values.append(cont)\n",
    "    return values\n",
    "\n",
    "def getStackValues_old(yard):\n",
    "    values = []\n",
    "    for stack in yard:\n",
    "        flag = False\n",
    "        cont = 0\n",
    "        for i in range(len(stack)):\n",
    "            if flag:\n",
    "                cont += 1\n",
    "            else:\n",
    "                if i == 0:\n",
    "                    continue\n",
    "                if stack[i] > stack[i-1]:\n",
    "                    cont += 1\n",
    "                    flag = True\n",
    "        values.append(cont)\n",
    "    return values\n",
    "\n",
    "def getStackLen(yard):\n",
    "    lens = []\n",
    "    for stack in yard:\n",
    "        lens.append(len(stack))\n",
    "    return lens\n",
    "\n",
    "def getTopStacks(yard,max_item):\n",
    "    tops = []\n",
    "    for stack in yard:\n",
    "        if len(stack) != 0:\n",
    "            tops.append(stack[len(stack)-1])\n",
    "        else:\n",
    "            tops.append(max_item)\n",
    "    return tops\n"
   ]
  },
  {
   "cell_type": "code",
   "execution_count": 342,
   "metadata": {},
   "outputs": [],
   "source": [
    "def generate_ann_state(yard,H):\n",
    "    max_item = max([max(stack) for stack in yard])\n",
    "    stackValues=getStackValues(yard) #well-placed\n",
    "    stacksLen = getStackLen(yard)\n",
    "    topStacks = getTopStacks(yard,max_item)\n",
    "    print(\"stackValues:\",stackValues)\n",
    "    print(\"stacksLen:\",stacksLen)\n",
    "    print(\"topStacks:\",topStacks)\n",
    "    \n",
    "    print(\"yard:\\n\",yard)\n",
    "    yard=elevateState(yard,H, max_item)\n",
    "    print(\"elevateState:\\n\",yard)\n",
    "    yard=compactState(yard)\n",
    "    print(\"compactState:\\n\",yard)\n",
    "    yard=flattenState(yard)\n",
    "    print(\"flattenState:\\n\",yard)\n",
    "    yard=normalize(yard,max_item)\n",
    "    print(\"normalize:\\n\",yard)\n",
    "    state=yard\n",
    "    state=np.append(state,normalize(stackValues,H))\n",
    "    state=np.append(state,normalize(stacksLen,H))\n",
    "    state=np.append(state,normalize(topStacks,max_item))\n",
    "    print(\"state:\\n\",state)\n",
    "    return state"
   ]
  },
  {
   "cell_type": "code",
   "execution_count": 343,
   "metadata": {},
   "outputs": [
    {
     "name": "stdout",
     "output_type": "stream",
     "text": [
      "stackValues: [1, 2, 1, 1, 2]\n",
      "stacksLen: [5, 5, 5, 5, 5]\n",
      "topStacks: [8, 5, 6, 11, 23]\n",
      "yard:\n",
      " [[2, 22, 14, 20, 8], [9, 1, 19, 21, 5], [7, 24, 3, 17, 6], [15, 18, 16, 12, 11], [25, 4, 13, 10, 23]]\n",
      "elevateState:\n",
      " [[25, 25, 2, 22, 14, 20, 8], [25, 25, 9, 1, 19, 21, 5], [25, 25, 7, 24, 3, 17, 6], [25, 25, 15, 18, 16, 12, 11], [25, 25, 25, 4, 13, 10, 23]]\n",
      "compactState:\n",
      " [[25, 25, 2, 22, 14, 20, 8], [25, 25, 9, 1, 19, 21, 5], [25, 25, 7, 24, 3, 17, 6], [25, 25, 15, 18, 16, 12, 11], [25, 25, 25, 4, 13, 10, 23]]\n",
      "flattenState:\n",
      " [25, 25, 2, 22, 14, 20, 8, 25, 25, 9, 1, 19, 21, 5, 25, 25, 7, 24, 3, 17, 6, 25, 25, 15, 18, 16, 12, 11, 25, 25, 25, 4, 13, 10, 23]\n",
      "normalize:\n",
      " [1.   1.   0.08 0.88 0.56 0.8  0.32 1.   1.   0.36 0.04 0.76 0.84 0.2\n",
      " 1.   1.   0.28 0.96 0.12 0.68 0.24 1.   1.   0.6  0.72 0.64 0.48 0.44\n",
      " 1.   1.   1.   0.16 0.52 0.4  0.92]\n",
      "state:\n",
      " [1.         1.         0.08       0.88       0.56       0.8\n",
      " 0.32       1.         1.         0.36       0.04       0.76\n",
      " 0.84       0.2        1.         1.         0.28       0.96\n",
      " 0.12       0.68       0.24       1.         1.         0.6\n",
      " 0.72       0.64       0.48       0.44       1.         1.\n",
      " 1.         0.16       0.52       0.4        0.92       0.14285714\n",
      " 0.28571429 0.14285714 0.14285714 0.28571429 0.71428571 0.71428571\n",
      " 0.71428571 0.71428571 0.71428571 0.32       0.2        0.24\n",
      " 0.44       0.92      ]\n"
     ]
    },
    {
     "data": {
      "text/plain": [
       "array([1.        , 1.        , 0.08      , 0.88      , 0.56      ,\n",
       "       0.8       , 0.32      , 1.        , 1.        , 0.36      ,\n",
       "       0.04      , 0.76      , 0.84      , 0.2       , 1.        ,\n",
       "       1.        , 0.28      , 0.96      , 0.12      , 0.68      ,\n",
       "       0.24      , 1.        , 1.        , 0.6       , 0.72      ,\n",
       "       0.64      , 0.48      , 0.44      , 1.        , 1.        ,\n",
       "       1.        , 0.16      , 0.52      , 0.4       , 0.92      ,\n",
       "       0.14285714, 0.28571429, 0.14285714, 0.14285714, 0.28571429,\n",
       "       0.71428571, 0.71428571, 0.71428571, 0.71428571, 0.71428571,\n",
       "       0.32      , 0.2       , 0.24      , 0.44      , 0.92      ])"
      ]
     },
     "execution_count": 343,
     "metadata": {},
     "output_type": "execute_result"
    }
   ],
   "source": [
    "yard = [[2, 22, 14, 20, 8], [9, 1, 19, 21, 5], [7, 24, 3, 17, 6], [15, 18, 16, 12, 11], [25, 4, 13, 10, 23]]\n",
    "preprocess_data(yard,7)"
   ]
  },
  {
   "cell_type": "code",
   "execution_count": 434,
   "metadata": {},
   "outputs": [],
   "source": [
    "import copy\n",
    "def generate_ann_state_old(yard,H):\n",
    "    yard=copy.deepcopy(yard)\n",
    "    max_item = max([max(stack) for stack in yard])\n",
    "    stackValues=getStackValues_old(yard) #well-placed\n",
    "    stacksLen = getStackLen(yard)\n",
    "    topStacks = getTopStacks(yard,max_item)\n",
    "    yard=elevateState(yard,H, max_item)\n",
    "    yard=compactState(yard)\n",
    "    yard=flattenState(yard)\n",
    "    yard=normalize(yard,max_item)\n",
    "    state=yard\n",
    "    state=np.append(state,normalize(stackValues,max_item))\n",
    "    state=np.append(state,normalize(stacksLen,max_item))\n",
    "    state=np.append(state,normalize(topStacks,max_item))\n",
    "    return state"
   ]
  },
  {
   "cell_type": "code",
   "execution_count": 526,
   "metadata": {},
   "outputs": [
    {
     "name": "stdout",
     "output_type": "stream",
     "text": [
      "[[2, 22, 14, 20, 8], [9, 1, 19, 21, 5], [7, 24, 3, 17, 6], [15, 18, 16, 12, 11], [25, 4, 13, 10, 23]]\n"
     ]
    }
   ],
   "source": [
    "layout = px.read(\"5-5/data5-5-1.dat\")\n",
    "print(layout.stacks)"
   ]
  },
  {
   "cell_type": "code",
   "execution_count": 527,
   "metadata": {},
   "outputs": [],
   "source": [
    "def predict_origin(layout,model):\n",
    "    X_test=generate_ann_state_old(layout.stacks,7)\n",
    "    X1=X_test[0:7]\n",
    "    X2=X_test[7:14]\n",
    "    X3=X_test[14:21]\n",
    "    X4=X_test[21:28]\n",
    "    X5=X_test[28:35]\n",
    "    X6=X_test[35:50]\n",
    "    X1.shape=(1,7,1)\n",
    "    X2.shape=(1,7,1)\n",
    "    X3.shape=(1,7,1)\n",
    "    X4.shape=(1,7,1)\n",
    "    X5.shape=(1,7,1)\n",
    "    X6.shape=(1,15)\n",
    "    return np.argmax(model.predict([X1,X2,X3,X4,X5,X6]))\n",
    "\n",
    "def predict_destination(layout,model,origin):\n",
    "    X_test=generate_ann_state_old(layout.stacks,7)\n",
    "    X1=X_test[0:7]\n",
    "    X2=X_test[7:14]\n",
    "    X3=X_test[14:21]\n",
    "    X4=X_test[21:28]\n",
    "    X5=X_test[28:35]\n",
    "    X6=X_test[35:50]\n",
    "    X1.shape=(1,7,1)\n",
    "    X2.shape=(1,7,1)\n",
    "    X3.shape=(1,7,1)\n",
    "    X4.shape=(1,7,1)\n",
    "    X5.shape=(1,7,1)\n",
    "    X6.shape=(1,15)\n",
    "    input = [X1,X2,X3,X4,X5,X6]\n",
    "    aux = input[0] \n",
    "    input[0] = input[origin] \n",
    "    input[origin] = aux\n",
    "    dest =  np.argmax(model.predict([X1,X2,X3,X4,X5,X6]))+1\n",
    "    if dest==origin: return 0\n",
    "    return dest"
   ]
  },
  {
   "cell_type": "code",
   "execution_count": 533,
   "metadata": {},
   "outputs": [
    {
     "data": {
      "text/plain": [
       "[[2, 22, 14, 20, 8, 23, 21],\n",
       " [9, 1, 19],\n",
       " [7, 24, 3, 17, 6],\n",
       " [15, 18, 16, 12, 11, 5],\n",
       " [25, 4, 13, 10]]"
      ]
     },
     "execution_count": 533,
     "metadata": {},
     "output_type": "execute_result"
    }
   ],
   "source": [
    "origin = predict_origin(layout,model)\n",
    "destination = predict_destination(layout,model2,origin)\n",
    "layout.move(origin,destination)\n",
    "layout.stacks"
   ]
  },
  {
   "cell_type": "code",
   "execution_count": 455,
   "metadata": {},
   "outputs": [
    {
     "data": {
      "text/plain": [
       "(3, False)"
      ]
     },
     "execution_count": 455,
     "metadata": {},
     "output_type": "execute_result"
    }
   ],
   "source": [
    "import Layout\n",
    "#layout = px.read(\"5-5/data5-5-1.dat\")\n",
    "Layout.select_destination_stack(layout,4)"
   ]
  },
  {
   "cell_type": "code",
   "execution_count": 456,
   "metadata": {},
   "outputs": [
    {
     "data": {
      "text/plain": [
       "23"
      ]
     },
     "execution_count": 456,
     "metadata": {},
     "output_type": "execute_result"
    }
   ],
   "source": [
    "layout.move(4,3)"
   ]
  },
  {
   "cell_type": "code",
   "execution_count": 441,
   "metadata": {},
   "outputs": [
    {
     "data": {
      "text/plain": [
       "[[2, 22, 14, 20, 8],\n",
       " [9, 1, 19, 21, 5],\n",
       " [7, 24, 3, 17, 6],\n",
       " [15, 18, 16, 12, 11, 23],\n",
       " [25, 4, 13, 10]]"
      ]
     },
     "execution_count": 441,
     "metadata": {},
     "output_type": "execute_result"
    }
   ],
   "source": [
    "layout.stacks"
   ]
  },
  {
   "cell_type": "code",
   "execution_count": 457,
   "metadata": {},
   "outputs": [
    {
     "data": {
      "text/plain": [
       "array([[5.5190844e-06, 9.0674722e-01, 9.1868438e-02, 5.3845371e-05,\n",
       "        1.3250117e-03]], dtype=float32)"
      ]
     },
     "execution_count": 457,
     "metadata": {},
     "output_type": "execute_result"
    }
   ],
   "source": [
    "X_test=generate_ann_state_old(layout.stacks,7)\n",
    "predict(X_test)"
   ]
  },
  {
   "cell_type": "code",
   "execution_count": 458,
   "metadata": {},
   "outputs": [
    {
     "data": {
      "text/plain": [
       "(4, False)"
      ]
     },
     "execution_count": 458,
     "metadata": {},
     "output_type": "execute_result"
    }
   ],
   "source": [
    "Layout.select_destination_stack(layout,1)"
   ]
  },
  {
   "cell_type": "code",
   "execution_count": 459,
   "metadata": {},
   "outputs": [
    {
     "data": {
      "text/plain": [
       "5"
      ]
     },
     "execution_count": 459,
     "metadata": {},
     "output_type": "execute_result"
    }
   ],
   "source": [
    "layout.move(1,4)"
   ]
  },
  {
   "cell_type": "code",
   "execution_count": 460,
   "metadata": {},
   "outputs": [
    {
     "data": {
      "text/plain": [
       "[[2, 22, 14, 20, 8],\n",
       " [9, 1, 19, 21],\n",
       " [7, 24, 3, 17, 6],\n",
       " [15, 18, 16, 12, 11, 23],\n",
       " [25, 4, 13, 10, 5]]"
      ]
     },
     "execution_count": 460,
     "metadata": {},
     "output_type": "execute_result"
    }
   ],
   "source": [
    "layout.stacks"
   ]
  },
  {
   "cell_type": "code",
   "execution_count": 461,
   "metadata": {},
   "outputs": [
    {
     "data": {
      "text/plain": [
       "array([[2.5290902e-12, 2.5127270e-07, 2.7419631e-08, 1.8554353e-20,\n",
       "        9.9999976e-01]], dtype=float32)"
      ]
     },
     "execution_count": 461,
     "metadata": {},
     "output_type": "execute_result"
    }
   ],
   "source": [
    "X_test=generate_ann_state_old(layout.stacks,7)\n",
    "predict(X_test)"
   ]
  },
  {
   "cell_type": "code",
   "execution_count": 462,
   "metadata": {},
   "outputs": [
    {
     "data": {
      "text/plain": [
       "(1, False)"
      ]
     },
     "execution_count": 462,
     "metadata": {},
     "output_type": "execute_result"
    }
   ],
   "source": [
    "Layout.select_destination_stack(layout,4)"
   ]
  },
  {
   "cell_type": "code",
   "execution_count": 463,
   "metadata": {},
   "outputs": [
    {
     "data": {
      "text/plain": [
       "5"
      ]
     },
     "execution_count": 463,
     "metadata": {},
     "output_type": "execute_result"
    }
   ],
   "source": [
    "layout.move(4,1)"
   ]
  },
  {
   "cell_type": "code",
   "execution_count": 464,
   "metadata": {},
   "outputs": [
    {
     "data": {
      "text/plain": [
       "array([[5.5190844e-06, 9.0674722e-01, 9.1868438e-02, 5.3845371e-05,\n",
       "        1.3250117e-03]], dtype=float32)"
      ]
     },
     "execution_count": 464,
     "metadata": {},
     "output_type": "execute_result"
    }
   ],
   "source": [
    "X_test=generate_ann_state_old(layout.stacks,7)\n",
    "predict(X_test)"
   ]
  },
  {
   "cell_type": "code",
   "execution_count": 534,
   "metadata": {},
   "outputs": [],
   "source": [
    "#model.save_weights('model_origen.h5')\n",
    "#model2.save_weights('model_destino.h5')"
   ]
  },
  {
   "cell_type": "code",
   "execution_count": null,
   "metadata": {},
   "outputs": [],
   "source": []
  }
 ],
 "metadata": {
  "colab": {
   "collapsed_sections": [],
   "name": "CNN1D_5x7_PONER.ipynb",
   "provenance": []
  },
  "kernelspec": {
   "display_name": "Python 3",
   "language": "python",
   "name": "python3"
  },
  "language_info": {
   "codemirror_mode": {
    "name": "ipython",
    "version": 3
   },
   "file_extension": ".py",
   "mimetype": "text/x-python",
   "name": "python",
   "nbconvert_exporter": "python",
   "pygments_lexer": "ipython3",
   "version": "3.7.3"
  }
 },
 "nbformat": 4,
 "nbformat_minor": 4
}

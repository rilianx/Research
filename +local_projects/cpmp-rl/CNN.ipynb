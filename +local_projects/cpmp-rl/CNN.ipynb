{
 "cells": [
  {
   "cell_type": "code",
   "execution_count": 1,
   "metadata": {},
   "outputs": [
    {
     "name": "stderr",
     "output_type": "stream",
     "text": [
      "Using TensorFlow backend.\n",
      "C:\\Users\\Dell\\Anaconda3\\lib\\site-packages\\tensorflow\\python\\framework\\dtypes.py:516: FutureWarning: Passing (type, 1) or '1type' as a synonym of type is deprecated; in a future version of numpy, it will be understood as (type, (1,)) / '(1,)type'.\n",
      "  _np_qint8 = np.dtype([(\"qint8\", np.int8, 1)])\n",
      "C:\\Users\\Dell\\Anaconda3\\lib\\site-packages\\tensorflow\\python\\framework\\dtypes.py:517: FutureWarning: Passing (type, 1) or '1type' as a synonym of type is deprecated; in a future version of numpy, it will be understood as (type, (1,)) / '(1,)type'.\n",
      "  _np_quint8 = np.dtype([(\"quint8\", np.uint8, 1)])\n",
      "C:\\Users\\Dell\\Anaconda3\\lib\\site-packages\\tensorflow\\python\\framework\\dtypes.py:518: FutureWarning: Passing (type, 1) or '1type' as a synonym of type is deprecated; in a future version of numpy, it will be understood as (type, (1,)) / '(1,)type'.\n",
      "  _np_qint16 = np.dtype([(\"qint16\", np.int16, 1)])\n",
      "C:\\Users\\Dell\\Anaconda3\\lib\\site-packages\\tensorflow\\python\\framework\\dtypes.py:519: FutureWarning: Passing (type, 1) or '1type' as a synonym of type is deprecated; in a future version of numpy, it will be understood as (type, (1,)) / '(1,)type'.\n",
      "  _np_quint16 = np.dtype([(\"quint16\", np.uint16, 1)])\n",
      "C:\\Users\\Dell\\Anaconda3\\lib\\site-packages\\tensorflow\\python\\framework\\dtypes.py:520: FutureWarning: Passing (type, 1) or '1type' as a synonym of type is deprecated; in a future version of numpy, it will be understood as (type, (1,)) / '(1,)type'.\n",
      "  _np_qint32 = np.dtype([(\"qint32\", np.int32, 1)])\n",
      "C:\\Users\\Dell\\Anaconda3\\lib\\site-packages\\tensorflow\\python\\framework\\dtypes.py:525: FutureWarning: Passing (type, 1) or '1type' as a synonym of type is deprecated; in a future version of numpy, it will be understood as (type, (1,)) / '(1,)type'.\n",
      "  np_resource = np.dtype([(\"resource\", np.ubyte, 1)])\n",
      "C:\\Users\\Dell\\Anaconda3\\lib\\site-packages\\tensorboard\\compat\\tensorflow_stub\\dtypes.py:541: FutureWarning: Passing (type, 1) or '1type' as a synonym of type is deprecated; in a future version of numpy, it will be understood as (type, (1,)) / '(1,)type'.\n",
      "  _np_qint8 = np.dtype([(\"qint8\", np.int8, 1)])\n",
      "C:\\Users\\Dell\\Anaconda3\\lib\\site-packages\\tensorboard\\compat\\tensorflow_stub\\dtypes.py:542: FutureWarning: Passing (type, 1) or '1type' as a synonym of type is deprecated; in a future version of numpy, it will be understood as (type, (1,)) / '(1,)type'.\n",
      "  _np_quint8 = np.dtype([(\"quint8\", np.uint8, 1)])\n",
      "C:\\Users\\Dell\\Anaconda3\\lib\\site-packages\\tensorboard\\compat\\tensorflow_stub\\dtypes.py:543: FutureWarning: Passing (type, 1) or '1type' as a synonym of type is deprecated; in a future version of numpy, it will be understood as (type, (1,)) / '(1,)type'.\n",
      "  _np_qint16 = np.dtype([(\"qint16\", np.int16, 1)])\n",
      "C:\\Users\\Dell\\Anaconda3\\lib\\site-packages\\tensorboard\\compat\\tensorflow_stub\\dtypes.py:544: FutureWarning: Passing (type, 1) or '1type' as a synonym of type is deprecated; in a future version of numpy, it will be understood as (type, (1,)) / '(1,)type'.\n",
      "  _np_quint16 = np.dtype([(\"quint16\", np.uint16, 1)])\n",
      "C:\\Users\\Dell\\Anaconda3\\lib\\site-packages\\tensorboard\\compat\\tensorflow_stub\\dtypes.py:545: FutureWarning: Passing (type, 1) or '1type' as a synonym of type is deprecated; in a future version of numpy, it will be understood as (type, (1,)) / '(1,)type'.\n",
      "  _np_qint32 = np.dtype([(\"qint32\", np.int32, 1)])\n",
      "C:\\Users\\Dell\\Anaconda3\\lib\\site-packages\\tensorboard\\compat\\tensorflow_stub\\dtypes.py:550: FutureWarning: Passing (type, 1) or '1type' as a synonym of type is deprecated; in a future version of numpy, it will be understood as (type, (1,)) / '(1,)type'.\n",
      "  np_resource = np.dtype([(\"resource\", np.ubyte, 1)])\n"
     ]
    },
    {
     "name": "stdout",
     "output_type": "stream",
     "text": [
      "Keras version:  2.3.0\n"
     ]
    }
   ],
   "source": [
    "import keras\n",
    "import pandas as pd\n",
    "from keras.utils.np_utils import to_categorical\n",
    "import numpy as np\n",
    "from keras.models import Sequential, Model\n",
    "from keras.layers import MaxPooling1D, Dropout, Dense, Flatten, Reshape, Input, Concatenate\n",
    "from keras.layers import Convolution1D as Conv1D\n",
    "from keras.optimizers import SGD\n",
    "from sklearn.model_selection import train_test_split\n",
    "import sklearn.metrics as skm\n",
    "import tensorflow as tf\n",
    "\n",
    "print('Keras version: ',keras.__version__)"
   ]
  },
  {
   "cell_type": "code",
   "execution_count": 17,
   "metadata": {},
   "outputs": [],
   "source": [
    "def create_model(file, origen=True):\n",
    "    convmodel = Sequential()\n",
    "    convmodel.add(Conv1D(filters=10, kernel_size=3, activation='relu', input_shape=(7,1))) # los vectores tienen 7 elementos cada uno\n",
    "    convmodel.add(Conv1D(filters=10, kernel_size=2, activation='relu'))\n",
    "    convmodel.add(Dropout(0.1))\n",
    "    convmodel.add(MaxPooling1D(pool_size=2))\n",
    "    \n",
    "    #define two different inputs\n",
    "    input1 = Input((7, 1))\n",
    "    input2 = Input((7, 1))\n",
    "    input3 = Input((7, 1))\n",
    "    input4 = Input((7, 1))\n",
    "    input5 = Input((7, 1))\n",
    "    input6 = Input((15, ))\n",
    "\n",
    "    #use the model to get three different outputs (the same model)\n",
    "    out1 = convmodel(input1)\n",
    "    out2 = convmodel(input2)\n",
    "    out3 = convmodel(input3)\n",
    "    out4 = convmodel(input4)\n",
    "    out5 = convmodel(input5)\n",
    "\n",
    "    #concatenate the outputs and add the final part of your model: \n",
    "    out = Concatenate()([out1,out2,out3,out4,out5])\n",
    "    out = Flatten()(out)\n",
    "    out = Concatenate()([out,input6])  \n",
    "    out = Dense(50, activation='relu')(out)\n",
    "    out = Dense(50, activation='relu')(out)\n",
    "    \n",
    "    outputs=5\n",
    "    if origen==False:\n",
    "        outputs=4\n",
    "    \n",
    "    out = Dense(outputs, activation='softmax')(out)   \n",
    "\n",
    "    #create the model taking 2 inputs with one output\n",
    "    model = Model([input1,input2,input3,input4,input5,input6],out)\n",
    "    model.compile(loss='categorical_crossentropy', optimizer='adam', metrics=['accuracy'])\n",
    "    model.load_weights(file)\n",
    "    return model"
   ]
  },
  {
   "cell_type": "code",
   "execution_count": 7,
   "metadata": {},
   "outputs": [],
   "source": [
    "def compactState(yard):\n",
    "    sort = []\n",
    "    for stack in yard:\n",
    "      for container in stack:\n",
    "        if not container in sort:\n",
    "          sort.append(container)\n",
    "    sort = sorted(sort)\n",
    "    maxValue = 0\n",
    "    for i in range(len(yard)):\n",
    "      for j in range(len(yard[i])):\n",
    "        yard[i][j] = sort.index(yard[i][j]) + 1\n",
    "        if yard[i][j] > maxValue:\n",
    "          maxValue = yard[i][j]\n",
    "    return yard\n",
    "\n",
    "def elevateState(yard, h, max_item):\n",
    "    for stack in yard:\n",
    "      while len(stack) < h:\n",
    "        #stack.insert(0,max_item)\n",
    "        stack.insert(0,1)\n",
    "    return yard\n",
    "\n",
    "def flattenState(state):\n",
    "    flatten = []\n",
    "    for lista in state:\n",
    "        for item in lista:\n",
    "            flatten.append(item)\n",
    "    return flatten\n",
    "\n",
    "def normalize(state,max_item):\n",
    "    return np.array(state)/max_item\n",
    "\n",
    "\n",
    "def getStackValues(yard): #sorted stacks?\n",
    "    values = []\n",
    "    for stack in yard:\n",
    "        flag = False\n",
    "        cont = 0\n",
    "        for i in range(len(stack)):\n",
    "            if i==0:\n",
    "                cont += 1\n",
    "            else:\n",
    "                if stack[i] <= stack[i-1]:\n",
    "                    cont += 1\n",
    "                else: break\n",
    "        values.append(cont)\n",
    "    return values\n",
    "\n",
    "def getStackValues_old(yard):\n",
    "    values = []\n",
    "    for stack in yard:\n",
    "        flag = False\n",
    "        cont = 0\n",
    "        for i in range(len(stack)):\n",
    "            if flag:\n",
    "                cont += 1\n",
    "            else:\n",
    "                if i == 0:\n",
    "                    continue\n",
    "                if stack[i] > stack[i-1]:\n",
    "                    cont += 1\n",
    "                    flag = True\n",
    "        values.append(cont)\n",
    "    return values\n",
    "\n",
    "def getStackLen(yard):\n",
    "    lens = []\n",
    "    for stack in yard:\n",
    "        lens.append(len(stack))\n",
    "    return lens\n",
    "\n",
    "def getTopStacks(yard,max_item):\n",
    "    tops = []\n",
    "    for stack in yard:\n",
    "        if len(stack) != 0:\n",
    "            tops.append(stack[len(stack)-1])\n",
    "        else:\n",
    "            tops.append(max_item)\n",
    "    return tops\n"
   ]
  },
  {
   "cell_type": "code",
   "execution_count": 30,
   "metadata": {},
   "outputs": [],
   "source": [
    "import copy\n",
    "def generate_ann_state_old(yard,H):\n",
    "    yard=copy.deepcopy(yard)\n",
    "    max_item = max(set().union(*yard))\n",
    "    #max_item = max([max(stack) for stack in yard])\n",
    "    stackValues=getStackValues_old(yard) #well-placed\n",
    "    stacksLen = getStackLen(yard)\n",
    "    topStacks = getTopStacks(yard,max_item)\n",
    "    yard=elevateState(yard,H, max_item)\n",
    "    yard=compactState(yard)\n",
    "    yard=flattenState(yard)\n",
    "    yard=normalize(yard,max_item)\n",
    "    state=yard\n",
    "    state=np.append(state,normalize(stackValues,max_item))\n",
    "    state=np.append(state,normalize(stacksLen,max_item))\n",
    "    state=np.append(state,normalize(topStacks,max_item))\n",
    "    return state"
   ]
  },
  {
   "cell_type": "code",
   "execution_count": 12,
   "metadata": {},
   "outputs": [],
   "source": [
    "def predict_origin(layout,model):\n",
    "    X_test=generate_ann_state_old(layout.stacks,7)\n",
    "    X1=X_test[0:7]\n",
    "    X2=X_test[7:14]\n",
    "    X3=X_test[14:21]\n",
    "    X4=X_test[21:28]\n",
    "    X5=X_test[28:35]\n",
    "    X6=X_test[35:50]\n",
    "    X1.shape=(1,7,1)\n",
    "    X2.shape=(1,7,1)\n",
    "    X3.shape=(1,7,1)\n",
    "    X4.shape=(1,7,1)\n",
    "    X5.shape=(1,7,1)\n",
    "    X6.shape=(1,15)\n",
    "    return np.argmax(model.predict([X1,X2,X3,X4,X5,X6]))\n",
    "\n",
    "def predict_destination(layout,model,origin):\n",
    "    X_test=generate_ann_state_old(layout.stacks,7)\n",
    "    X1=X_test[0:7]\n",
    "    X2=X_test[7:14]\n",
    "    X3=X_test[14:21]\n",
    "    X4=X_test[21:28]\n",
    "    X5=X_test[28:35]\n",
    "    X6=X_test[35:50]\n",
    "    X1.shape=(1,7,1)\n",
    "    X2.shape=(1,7,1)\n",
    "    X3.shape=(1,7,1)\n",
    "    X4.shape=(1,7,1)\n",
    "    X5.shape=(1,7,1)\n",
    "    X6.shape=(1,15)\n",
    "    input = [X1,X2,X3,X4,X5,X6]\n",
    "    aux = input[0] \n",
    "    input[0] = input[origin] \n",
    "    input[origin] = aux\n",
    "    dest =  np.argmax(model.predict([X1,X2,X3,X4,X5,X6]))+1\n",
    "    if dest==origin: return 0\n",
    "    return dest"
   ]
  },
  {
   "cell_type": "code",
   "execution_count": 18,
   "metadata": {},
   "outputs": [],
   "source": [
    "model_origen = create_model('model_origen.h5')\n",
    "model_destino = create_model('model_destino.h5',origen=False)"
   ]
  },
  {
   "cell_type": "code",
   "execution_count": 111,
   "metadata": {},
   "outputs": [
    {
     "name": "stdout",
     "output_type": "stream",
     "text": [
      "[[11, 2, 3, 14, 19], [18, 17, 4, 9, 23], [24, 6, 25, 7, 21], [15, 1, 13, 22, 10], [12, 20, 5, 8, 16]]\n"
     ]
    },
    {
     "data": {
      "text/plain": [
       "[[11, 2, 3, 14, 19],\n",
       " [18, 17, 4, 9],\n",
       " [24, 6, 25, 7, 21],\n",
       " [15, 1, 13, 22, 10, 23],\n",
       " [12, 20, 5, 8, 16]]"
      ]
     },
     "execution_count": 111,
     "metadata": {},
     "output_type": "execute_result"
    }
   ],
   "source": [
    "import Pixie as px\n",
    "layout = px.read(\"5-5/data5-5-10.dat\")\n",
    "print(layout.stacks)\n",
    "\n",
    "origin = predict_origin(layout,model_origen)\n",
    "destination = predict_destination(layout,model_destino,origin)\n",
    "layout.move(origin,destination)\n",
    "layout.stacks"
   ]
  },
  {
   "cell_type": "code",
   "execution_count": 118,
   "metadata": {},
   "outputs": [
    {
     "ename": "IndexError",
     "evalue": "list index out of range",
     "output_type": "error",
     "traceback": [
      "\u001b[1;31m---------------------------------------------------------------------------\u001b[0m",
      "\u001b[1;31mIndexError\u001b[0m                                Traceback (most recent call last)",
      "\u001b[1;32m<ipython-input-118-42100dfc154a>\u001b[0m in \u001b[0;36m<module>\u001b[1;34m()\u001b[0m\n\u001b[0;32m      1\u001b[0m \u001b[0morigin\u001b[0m \u001b[1;33m=\u001b[0m \u001b[0mpredict_origin\u001b[0m\u001b[1;33m(\u001b[0m\u001b[0mlayout\u001b[0m\u001b[1;33m,\u001b[0m\u001b[0mmodel_origen\u001b[0m\u001b[1;33m)\u001b[0m\u001b[1;33m\u001b[0m\u001b[1;33m\u001b[0m\u001b[0m\n\u001b[0;32m      2\u001b[0m \u001b[0mdestination\u001b[0m \u001b[1;33m=\u001b[0m \u001b[0mpredict_destination\u001b[0m\u001b[1;33m(\u001b[0m\u001b[0mlayout\u001b[0m\u001b[1;33m,\u001b[0m\u001b[0mmodel_destino\u001b[0m\u001b[1;33m,\u001b[0m\u001b[0morigin\u001b[0m\u001b[1;33m)\u001b[0m\u001b[1;33m\u001b[0m\u001b[1;33m\u001b[0m\u001b[0m\n\u001b[1;32m----> 3\u001b[1;33m \u001b[0mlayout\u001b[0m\u001b[1;33m.\u001b[0m\u001b[0mmove\u001b[0m\u001b[1;33m(\u001b[0m\u001b[0morigin\u001b[0m\u001b[1;33m,\u001b[0m\u001b[0mdestination\u001b[0m\u001b[1;33m)\u001b[0m\u001b[1;33m\u001b[0m\u001b[1;33m\u001b[0m\u001b[0m\n\u001b[0m\u001b[0;32m      4\u001b[0m \u001b[0mlayout\u001b[0m\u001b[1;33m.\u001b[0m\u001b[0mstacks\u001b[0m\u001b[1;33m\u001b[0m\u001b[1;33m\u001b[0m\u001b[0m\n",
      "\u001b[1;32mC:\\Users\\Dell\\Documents\\local_projects\\cpmp-rl\\Layout.py\u001b[0m in \u001b[0;36mmove\u001b[1;34m(self, i, j, index)\u001b[0m\n\u001b[0;32m     44\u001b[0m         \u001b[1;32mif\u001b[0m \u001b[0mlen\u001b[0m\u001b[1;33m(\u001b[0m\u001b[0mself\u001b[0m\u001b[1;33m.\u001b[0m\u001b[0mstacks\u001b[0m\u001b[1;33m[\u001b[0m\u001b[0mj\u001b[0m\u001b[1;33m]\u001b[0m\u001b[1;33m)\u001b[0m \u001b[1;33m==\u001b[0m \u001b[0mself\u001b[0m\u001b[1;33m.\u001b[0m\u001b[0mH\u001b[0m\u001b[1;33m-\u001b[0m\u001b[1;36m1\u001b[0m\u001b[1;33m:\u001b[0m \u001b[0mself\u001b[0m\u001b[1;33m.\u001b[0m\u001b[0mfull_stacks\u001b[0m \u001b[1;33m+=\u001b[0m \u001b[1;36m1\u001b[0m\u001b[1;33m\u001b[0m\u001b[1;33m\u001b[0m\u001b[0m\n\u001b[0;32m     45\u001b[0m \u001b[1;33m\u001b[0m\u001b[0m\n\u001b[1;32m---> 46\u001b[1;33m         \u001b[0mc\u001b[0m \u001b[1;33m=\u001b[0m \u001b[0mself\u001b[0m\u001b[1;33m.\u001b[0m\u001b[0mstacks\u001b[0m\u001b[1;33m[\u001b[0m\u001b[0mi\u001b[0m\u001b[1;33m]\u001b[0m\u001b[1;33m[\u001b[0m\u001b[0mindex\u001b[0m\u001b[1;33m]\u001b[0m\u001b[1;33m\u001b[0m\u001b[1;33m\u001b[0m\u001b[0m\n\u001b[0m\u001b[0;32m     47\u001b[0m         \u001b[1;32mif\u001b[0m \u001b[0mself\u001b[0m\u001b[1;33m.\u001b[0m\u001b[0mis_sorted_stack\u001b[0m\u001b[1;33m(\u001b[0m\u001b[0mi\u001b[0m\u001b[1;33m)\u001b[0m\u001b[1;33m:\u001b[0m\u001b[1;33m\u001b[0m\u001b[1;33m\u001b[0m\u001b[0m\n\u001b[0;32m     48\u001b[0m             \u001b[0mself\u001b[0m\u001b[1;33m.\u001b[0m\u001b[0msorted_elements\u001b[0m\u001b[1;33m[\u001b[0m\u001b[0mi\u001b[0m\u001b[1;33m]\u001b[0m \u001b[1;33m-=\u001b[0m \u001b[1;36m1\u001b[0m\u001b[1;33m\u001b[0m\u001b[1;33m\u001b[0m\u001b[0m\n",
      "\u001b[1;31mIndexError\u001b[0m: list index out of range"
     ]
    }
   ],
   "source": [
    "origin = predict_origin(layout,model_origen)\n",
    "destination = predict_destination(layout,model_destino,origin)\n",
    "layout.move(origin,destination)\n",
    "layout.stacks"
   ]
  },
  {
   "cell_type": "code",
   "execution_count": 119,
   "metadata": {},
   "outputs": [
    {
     "data": {
      "text/plain": [
       "[[],\n",
       " [18, 17, 4, 14, 3, 2, 11],\n",
       " [24, 6, 25, 7, 21],\n",
       " [15, 1, 13, 22, 10, 23, 19, 9],\n",
       " [12, 20, 5, 8, 16]]"
      ]
     },
     "execution_count": 119,
     "metadata": {},
     "output_type": "execute_result"
    }
   ],
   "source": [
    "layout.stacks"
   ]
  },
  {
   "cell_type": "code",
   "execution_count": null,
   "metadata": {},
   "outputs": [],
   "source": []
  }
 ],
 "metadata": {
  "kernelspec": {
   "display_name": "Python 3",
   "language": "python",
   "name": "python3"
  },
  "language_info": {
   "codemirror_mode": {
    "name": "ipython",
    "version": 3
   },
   "file_extension": ".py",
   "mimetype": "text/x-python",
   "name": "python",
   "nbconvert_exporter": "python",
   "pygments_lexer": "ipython3",
   "version": "3.7.3"
  }
 },
 "nbformat": 4,
 "nbformat_minor": 4
}

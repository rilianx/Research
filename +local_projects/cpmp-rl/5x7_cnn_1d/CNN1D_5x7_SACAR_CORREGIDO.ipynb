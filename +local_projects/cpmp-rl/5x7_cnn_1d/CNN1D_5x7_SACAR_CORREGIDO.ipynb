{
 "cells": [
  {
   "cell_type": "markdown",
   "metadata": {
    "id": "wD8_9xv_LNqM"
   },
   "source": [
    "Importar librerias libreriales"
   ]
  },
  {
   "cell_type": "code",
   "execution_count": 47,
   "metadata": {
    "colab": {
     "base_uri": "https://localhost:8080/"
    },
    "executionInfo": {
     "elapsed": 2679,
     "status": "ok",
     "timestamp": 1625184341550,
     "user": {
      "displayName": "RODRIGO MAUREIRA CONTRERAS",
      "photoUrl": "https://lh3.googleusercontent.com/a-/AOh14GgGLFz8oud5_yEkYTgsdAdQGSYXhb2Ui7B66jE9ag=s64",
      "userId": "17102831893009830161"
     },
     "user_tz": 240
    },
    "id": "CIZnkGpRHvco",
    "outputId": "30a9ad99-61aa-4d10-c680-1971dc8c0de5"
   },
   "outputs": [
    {
     "name": "stdout",
     "output_type": "stream",
     "text": [
      "Keras version:  2.3.0\n"
     ]
    }
   ],
   "source": [
    "import keras\n",
    "import pandas as pd\n",
    "from keras.utils.np_utils import to_categorical\n",
    "import numpy as np\n",
    "from keras.models import Sequential, Model\n",
    "from keras.layers import MaxPooling1D, Dropout, Dense, Flatten, Reshape, Input, Concatenate, Activation\n",
    "from keras.layers import Convolution1D as Conv1D\n",
    "from keras.optimizers import SGD\n",
    "from sklearn.model_selection import train_test_split\n",
    "import tensorflow as tf\n",
    "\n",
    "print('Keras version: ',keras.__version__)"
   ]
  },
  {
   "cell_type": "markdown",
   "metadata": {
    "id": "QWp4WNV9LS2O"
   },
   "source": [
    "Importar dataset de Bruno"
   ]
  },
  {
   "cell_type": "code",
   "execution_count": 48,
   "metadata": {
    "colab": {
     "base_uri": "https://localhost:8080/"
    },
    "executionInfo": {
     "elapsed": 259,
     "status": "ok",
     "timestamp": 1625184539059,
     "user": {
      "displayName": "RODRIGO MAUREIRA CONTRERAS",
      "photoUrl": "https://lh3.googleusercontent.com/a-/AOh14GgGLFz8oud5_yEkYTgsdAdQGSYXhb2Ui7B66jE9ag=s64",
      "userId": "17102831893009830161"
     },
     "user_tz": 240
    },
    "id": "F392NiTpMgxF",
    "outputId": "2b451b89-fb40-4b19-81e6-4364b111384a"
   },
   "outputs": [
    {
     "name": "stdout",
     "output_type": "stream",
     "text": [
      "(6660, 50) (6660, 35, 1) (6660,)\n"
     ]
    }
   ],
   "source": [
    "df_X = pd.read_csv(\"xbsg5x7-cne.csv\", header=None)\n",
    "df_y = pd.read_csv(\"ybsg5x7-cne.csv\", header=None)\n",
    "\n",
    "y_origen = df_y[0]\n",
    "y_destino = df_y[1]\n",
    "\n",
    "X_train, X_test, y_train, y_test = train_test_split(df_X, y_origen, test_size=0.20, random_state=69)\n",
    "\n",
    "X_test = X_test.to_numpy()\n",
    "X_train = X_train.to_numpy()\n",
    "y_train = y_train.to_numpy()\n",
    "X_train_2 = np.delete(X_train,range(35,50),1)\n",
    "X_train_reshaped = np.expand_dims(X_train_2, axis=2)\n",
    "print(X_train.shape,X_train_reshaped.shape, y_train.shape)"
   ]
  },
  {
   "cell_type": "code",
   "execution_count": 70,
   "metadata": {
    "colab": {
     "base_uri": "https://localhost:8080/"
    },
    "executionInfo": {
     "elapsed": 328,
     "status": "ok",
     "timestamp": 1625184556185,
     "user": {
      "displayName": "RODRIGO MAUREIRA CONTRERAS",
      "photoUrl": "https://lh3.googleusercontent.com/a-/AOh14GgGLFz8oud5_yEkYTgsdAdQGSYXhb2Ui7B66jE9ag=s64",
      "userId": "17102831893009830161"
     },
     "user_tz": 240
    },
    "id": "aLC9D-0zreXr",
    "outputId": "ed04e96f-0100-4bf5-e296-f1a248352763"
   },
   "outputs": [
    {
     "data": {
      "text/plain": [
       "array([[0.24489796, 0.24489796, 0.24489796, 0.24489796, 0.23469388,\n",
       "        0.13265306, 0.09183673],\n",
       "       [0.01020408, 0.2244898 , 0.05102041, 0.16326531, 0.20408163,\n",
       "        0.03061224, 0.04081633],\n",
       "       [0.07142857, 0.02040816, 0.18367347, 0.1122449 , 0.10204082,\n",
       "        0.12244898, 0.03061224],\n",
       "       [0.24489796, 0.24489796, 0.17346939, 0.06122449, 0.15306122,\n",
       "        0.08163265, 0.14285714],\n",
       "       [0.24489796, 0.24489796, 0.24489796, 0.24489796, 0.24489796,\n",
       "        0.21428571, 0.19387755]])"
      ]
     },
     "execution_count": 70,
     "metadata": {},
     "output_type": "execute_result"
    }
   ],
   "source": [
    "X_train_reshaped.shape = (6660, 5, 7)\n",
    "X_train_reshaped[0]\n"
   ]
  },
  {
   "cell_type": "code",
   "execution_count": 69,
   "metadata": {
    "colab": {
     "base_uri": "https://localhost:8080/"
    },
    "executionInfo": {
     "elapsed": 260,
     "status": "ok",
     "timestamp": 1625184562901,
     "user": {
      "displayName": "RODRIGO MAUREIRA CONTRERAS",
      "photoUrl": "https://lh3.googleusercontent.com/a-/AOh14GgGLFz8oud5_yEkYTgsdAdQGSYXhb2Ui7B66jE9ag=s64",
      "userId": "17102831893009830161"
     },
     "user_tz": 240
    },
    "id": "hVB6oe2KreXr",
    "outputId": "983796ba-bb70-440f-8775-8a6e8d45370c"
   },
   "outputs": [
    {
     "data": {
      "text/plain": [
       "array([ 1.,  1.,  4.,  7.,  2.,  1.,  7.,  4.,  7.,  6., 99., 98., 41.,\n",
       "        2., 54.])"
      ]
     },
     "execution_count": 69,
     "metadata": {},
     "output_type": "execute_result"
    }
   ],
   "source": [
    "#Aquí se obtinenen los atributos \"no vectoriales\"\n",
    "XX_train =X_train[0:,35:50]\n",
    "XX_train.shape\n",
    "XX_train[1]"
   ]
  },
  {
   "cell_type": "code",
   "execution_count": 50,
   "metadata": {
    "colab": {
     "base_uri": "https://localhost:8080/"
    },
    "executionInfo": {
     "elapsed": 259,
     "status": "ok",
     "timestamp": 1625184569956,
     "user": {
      "displayName": "RODRIGO MAUREIRA CONTRERAS",
      "photoUrl": "https://lh3.googleusercontent.com/a-/AOh14GgGLFz8oud5_yEkYTgsdAdQGSYXhb2Ui7B66jE9ag=s64",
      "userId": "17102831893009830161"
     },
     "user_tz": 240
    },
    "id": "toJhMi48mpbs",
    "outputId": "49fa3501-8fcf-42a2-805a-6ec73ceee07e"
   },
   "outputs": [
    {
     "data": {
      "text/plain": [
       "array([1, 1, 4, 0, 3, 0, 1, 3, 0, 4], dtype=int64)"
      ]
     },
     "execution_count": 50,
     "metadata": {},
     "output_type": "execute_result"
    }
   ],
   "source": [
    "y_train[:10]"
   ]
  },
  {
   "cell_type": "code",
   "execution_count": 6,
   "metadata": {
    "colab": {
     "base_uri": "https://localhost:8080/"
    },
    "executionInfo": {
     "elapsed": 5,
     "status": "ok",
     "timestamp": 1625184571071,
     "user": {
      "displayName": "RODRIGO MAUREIRA CONTRERAS",
      "photoUrl": "https://lh3.googleusercontent.com/a-/AOh14GgGLFz8oud5_yEkYTgsdAdQGSYXhb2Ui7B66jE9ag=s64",
      "userId": "17102831893009830161"
     },
     "user_tz": 240
    },
    "id": "_Y7xrGjvmvbi",
    "outputId": "cfb46ab5-84b1-45ac-8b5f-e21268680c57"
   },
   "outputs": [
    {
     "data": {
      "text/plain": [
       "array([0, 1, 2, 3, 4], dtype=int64)"
      ]
     },
     "execution_count": 6,
     "metadata": {},
     "output_type": "execute_result"
    }
   ],
   "source": [
    "np.unique(y_train)"
   ]
  },
  {
   "cell_type": "code",
   "execution_count": 7,
   "metadata": {
    "executionInfo": {
     "elapsed": 3,
     "status": "ok",
     "timestamp": 1625184572766,
     "user": {
      "displayName": "RODRIGO MAUREIRA CONTRERAS",
      "photoUrl": "https://lh3.googleusercontent.com/a-/AOh14GgGLFz8oud5_yEkYTgsdAdQGSYXhb2Ui7B66jE9ag=s64",
      "userId": "17102831893009830161"
     },
     "user_tz": 240
    },
    "id": "Cafj1ebWm4x1"
   },
   "outputs": [],
   "source": [
    "from sklearn.preprocessing import OneHotEncoder"
   ]
  },
  {
   "cell_type": "code",
   "execution_count": 8,
   "metadata": {
    "executionInfo": {
     "elapsed": 5,
     "status": "ok",
     "timestamp": 1625184574347,
     "user": {
      "displayName": "RODRIGO MAUREIRA CONTRERAS",
      "photoUrl": "https://lh3.googleusercontent.com/a-/AOh14GgGLFz8oud5_yEkYTgsdAdQGSYXhb2Ui7B66jE9ag=s64",
      "userId": "17102831893009830161"
     },
     "user_tz": 240
    },
    "id": "rGV4ZTCMm-yM"
   },
   "outputs": [],
   "source": [
    "encoder = OneHotEncoder()\n",
    "y_train_coded = encoder.fit_transform(y_train.reshape(-1,1)).toarray() "
   ]
  },
  {
   "cell_type": "code",
   "execution_count": 9,
   "metadata": {
    "colab": {
     "base_uri": "https://localhost:8080/"
    },
    "executionInfo": {
     "elapsed": 278,
     "status": "ok",
     "timestamp": 1625184576535,
     "user": {
      "displayName": "RODRIGO MAUREIRA CONTRERAS",
      "photoUrl": "https://lh3.googleusercontent.com/a-/AOh14GgGLFz8oud5_yEkYTgsdAdQGSYXhb2Ui7B66jE9ag=s64",
      "userId": "17102831893009830161"
     },
     "user_tz": 240
    },
    "id": "Hfchjws0nLtf",
    "outputId": "f76111f7-2247-4f1e-92ee-2856b450421f"
   },
   "outputs": [
    {
     "data": {
      "text/plain": [
       "array([[0., 1., 0., 0., 0.],\n",
       "       [0., 1., 0., 0., 0.],\n",
       "       [0., 0., 0., 0., 1.],\n",
       "       [1., 0., 0., 0., 0.],\n",
       "       [0., 0., 0., 1., 0.],\n",
       "       [1., 0., 0., 0., 0.],\n",
       "       [0., 1., 0., 0., 0.],\n",
       "       [0., 0., 0., 1., 0.],\n",
       "       [1., 0., 0., 0., 0.],\n",
       "       [0., 0., 0., 0., 1.]])"
      ]
     },
     "execution_count": 9,
     "metadata": {},
     "output_type": "execute_result"
    }
   ],
   "source": [
    "y_train_coded[:10]"
   ]
  },
  {
   "cell_type": "markdown",
   "metadata": {
    "id": "JusOJkkgbxm4"
   },
   "source": [
    "Modelado de la red"
   ]
  },
  {
   "cell_type": "code",
   "execution_count": 21,
   "metadata": {
    "executionInfo": {
     "elapsed": 257,
     "status": "ok",
     "timestamp": 1625186933116,
     "user": {
      "displayName": "RODRIGO MAUREIRA CONTRERAS",
      "photoUrl": "https://lh3.googleusercontent.com/a-/AOh14GgGLFz8oud5_yEkYTgsdAdQGSYXhb2Ui7B66jE9ag=s64",
      "userId": "17102831893009830161"
     },
     "user_tz": 240
    },
    "id": "m7rEYxpLhi1O"
   },
   "outputs": [],
   "source": [
    "convmodel = Sequential()\n",
    "convmodel.add(Flatten(input_shape=(7,1)))\n",
    "convmodel.add(Dense(32, activation='relu'))\n",
    "convmodel.add(Dense(32, activation='relu'))\n",
    "#convmodel.add(Conv1D(filters=5, kernel_size=2, activation='relu', input_shape=(7,1)))\n",
    "#convmodel.add(Conv1D(filters=5, kernel_size=2, activation='relu'))\n",
    "#convmodel.add(Dropout(0.1))\n",
    "#convmodel.add(MaxPooling1D(pool_size=2))"
   ]
  },
  {
   "cell_type": "code",
   "execution_count": 22,
   "metadata": {
    "colab": {
     "base_uri": "https://localhost:8080/"
    },
    "executionInfo": {
     "elapsed": 673,
     "status": "ok",
     "timestamp": 1625186936616,
     "user": {
      "displayName": "RODRIGO MAUREIRA CONTRERAS",
      "photoUrl": "https://lh3.googleusercontent.com/a-/AOh14GgGLFz8oud5_yEkYTgsdAdQGSYXhb2Ui7B66jE9ag=s64",
      "userId": "17102831893009830161"
     },
     "user_tz": 240
    },
    "id": "WnBuImvmreXt",
    "outputId": "327bb2b9-e4e7-4d78-d708-7860e54db65a"
   },
   "outputs": [
    {
     "name": "stdout",
     "output_type": "stream",
     "text": [
      "Model: \"model_2\"\n",
      "__________________________________________________________________________________________________\n",
      "Layer (type)                    Output Shape         Param #     Connected to                     \n",
      "==================================================================================================\n",
      "input_19 (InputLayer)           (None, 7, 1)         0                                            \n",
      "__________________________________________________________________________________________________\n",
      "input_20 (InputLayer)           (None, 7, 1)         0                                            \n",
      "__________________________________________________________________________________________________\n",
      "input_21 (InputLayer)           (None, 7, 1)         0                                            \n",
      "__________________________________________________________________________________________________\n",
      "input_22 (InputLayer)           (None, 7, 1)         0                                            \n",
      "__________________________________________________________________________________________________\n",
      "input_23 (InputLayer)           (None, 7, 1)         0                                            \n",
      "__________________________________________________________________________________________________\n",
      "sequential_2 (Sequential)       (None, 32)           1312        input_19[0][0]                   \n",
      "                                                                 input_20[0][0]                   \n",
      "                                                                 input_21[0][0]                   \n",
      "                                                                 input_22[0][0]                   \n",
      "                                                                 input_23[0][0]                   \n",
      "__________________________________________________________________________________________________\n",
      "concatenate_5 (Concatenate)     (None, 160)          0           sequential_2[1][0]               \n",
      "                                                                 sequential_2[2][0]               \n",
      "                                                                 sequential_2[3][0]               \n",
      "                                                                 sequential_2[4][0]               \n",
      "                                                                 sequential_2[5][0]               \n",
      "__________________________________________________________________________________________________\n",
      "input_24 (InputLayer)           (None, 4)            0                                            \n",
      "__________________________________________________________________________________________________\n",
      "concatenate_6 (Concatenate)     (None, 164)          0           concatenate_5[0][0]              \n",
      "                                                                 input_24[0][0]                   \n",
      "__________________________________________________________________________________________________\n",
      "dense_8 (Dense)                 (None, 32)           5280        concatenate_6[0][0]              \n",
      "__________________________________________________________________________________________________\n",
      "dense_9 (Dense)                 (None, 32)           1056        dense_8[0][0]                    \n",
      "__________________________________________________________________________________________________\n",
      "dense_10 (Dense)                (None, 5)            165         dense_9[0][0]                    \n",
      "==================================================================================================\n",
      "Total params: 7,813\n",
      "Trainable params: 7,813\n",
      "Non-trainable params: 0\n",
      "__________________________________________________________________________________________________\n"
     ]
    }
   ],
   "source": [
    "#define two different inputs\n",
    "input1 = Input((7, 1))\n",
    "input2 = Input((7, 1))\n",
    "input3 = Input((7, 1))\n",
    "input4 = Input((7, 1))\n",
    "input5 = Input((7, 1))\n",
    "## falta input 4,5 y el 4 -> 6\n",
    "input6 = Input((4, ))\n",
    "   \n",
    "#use the model to get three different outputs (the same model)\n",
    "out1 = convmodel(input1)\n",
    "out2 = convmodel(input2)\n",
    "out3 = convmodel(input3)\n",
    "out4 = convmodel(input4)\n",
    "out5 = convmodel(input5)\n",
    "\n",
    "#concatenate the outputs and add the final part of your model: \n",
    "out = Concatenate()([out1,out2,out3,out4,out5])\n",
    "#out = Flatten()(out)\n",
    "out = Concatenate()([out,input6])\n",
    "out = Dense(32, activation='relu')(out)\n",
    "#convmodel.add(Dropout(0.4))\n",
    "out = Dense(32, activation='relu')(out)\n",
    "#convmodel.add(Dropout(0.1))\n",
    "#out = Dense(500, activation='relu')(out)\n",
    "out = Dense(5, activation='softmax')(out) \n",
    "\n",
    "#create the model taking 2 inputs with one output\n",
    "model = Model([input1,input2,input3,input4,input5,input6],out)\n",
    "opt = keras.optimizers.Adam(learning_rate=0.0001)\n",
    "model.compile(loss='categorical_crossentropy', optimizer=opt, metrics=['accuracy','categorical_crossentropy'])\n",
    "model.save_weights('model.h5')\n",
    "model.summary()\n"
   ]
  },
  {
   "cell_type": "code",
   "execution_count": 18,
   "metadata": {
    "colab": {
     "base_uri": "https://localhost:8080/"
    },
    "executionInfo": {
     "elapsed": 256,
     "status": "ok",
     "timestamp": 1625187880475,
     "user": {
      "displayName": "RODRIGO MAUREIRA CONTRERAS",
      "photoUrl": "https://lh3.googleusercontent.com/a-/AOh14GgGLFz8oud5_yEkYTgsdAdQGSYXhb2Ui7B66jE9ag=s64",
      "userId": "17102831893009830161"
     },
     "user_tz": 240
    },
    "id": "gL6ZFIQIreXt",
    "outputId": "55a3f2e6-b2d6-452b-b530-41079c783e51"
   },
   "outputs": [
    {
     "name": "stdout",
     "output_type": "stream",
     "text": [
      "(1665, 35, 1)\n"
     ]
    }
   ],
   "source": [
    "#X_test = X_test.to_numpy()\n",
    "X_test_2 = np.delete(X_test,range(35,50),1)\n",
    "X_test_reshaped = np.expand_dims(X_test_2, axis=2)\n",
    "print(X_test_reshaped.shape)\n",
    "X_test_reshaped.shape = (1665, 5, 7)\n",
    "XX_test = X_test[0:,36:40]\n",
    "\n",
    "X_test1 = X_test_reshaped[0:,0]; X_test1.shape=(1665,7,1)\n",
    "X_test2 = X_test_reshaped[0:,1]; X_test2.shape=(1665,7,1)\n",
    "X_test3 = X_test_reshaped[0:,2]; X_test3.shape=(1665,7,1)\n",
    "X_test4 = X_test_reshaped[0:,3]; X_test4.shape=(1665,7,1)\n",
    "X_test5 = X_test_reshaped[0:,4]; X_test5.shape=(1665,7,1)"
   ]
  },
  {
   "cell_type": "code",
   "execution_count": 19,
   "metadata": {
    "executionInfo": {
     "elapsed": 2965,
     "status": "ok",
     "timestamp": 1625187885577,
     "user": {
      "displayName": "RODRIGO MAUREIRA CONTRERAS",
      "photoUrl": "https://lh3.googleusercontent.com/a-/AOh14GgGLFz8oud5_yEkYTgsdAdQGSYXhb2Ui7B66jE9ag=s64",
      "userId": "17102831893009830161"
     },
     "user_tz": 240
    },
    "id": "DSVLld7BreXt"
   },
   "outputs": [],
   "source": [
    "m=model.predict([X_test1, X_test2, X_test3, X_test4, X_test5, XX_test])\n"
   ]
  },
  {
   "cell_type": "code",
   "execution_count": 20,
   "metadata": {
    "colab": {
     "base_uri": "https://localhost:8080/"
    },
    "executionInfo": {
     "elapsed": 259,
     "status": "ok",
     "timestamp": 1625187887528,
     "user": {
      "displayName": "RODRIGO MAUREIRA CONTRERAS",
      "photoUrl": "https://lh3.googleusercontent.com/a-/AOh14GgGLFz8oud5_yEkYTgsdAdQGSYXhb2Ui7B66jE9ag=s64",
      "userId": "17102831893009830161"
     },
     "user_tz": 240
    },
    "id": "mFEpVwWFlcUx",
    "outputId": "97efa66b-2ae6-468b-f8b1-97ed4a580f04"
   },
   "outputs": [
    {
     "name": "stdout",
     "output_type": "stream",
     "text": [
      "[4 3 3 ... 3 1 3]\n",
      "0.5195195195195195\n",
      "0.5173662407369254\n",
      "1.0228228228228229\n"
     ]
    }
   ],
   "source": [
    "import sklearn.metrics as skm\n",
    "#print(m)\n",
    "m_final = np.argmax(m, axis=1)\n",
    "print(m_final)\n",
    "print(skm.accuracy_score(y_test, m_final))\n",
    "print(skm.f1_score(y_test, m_final, average='macro'))\n",
    "print(skm.mean_absolute_error(y_test, m_final))"
   ]
  },
  {
   "cell_type": "code",
   "execution_count": null,
   "metadata": {},
   "outputs": [],
   "source": []
  }
 ],
 "metadata": {
  "colab": {
   "collapsed_sections": [],
   "name": "CNN1D_5x7_SACAR_CORREGIDO.ipynb",
   "provenance": []
  },
  "kernelspec": {
   "display_name": "Python 3",
   "language": "python",
   "name": "python3"
  },
  "language_info": {
   "codemirror_mode": {
    "name": "ipython",
    "version": 3
   },
   "file_extension": ".py",
   "mimetype": "text/x-python",
   "name": "python",
   "nbconvert_exporter": "python",
   "pygments_lexer": "ipython3",
   "version": "3.7.3"
  }
 },
 "nbformat": 4,
 "nbformat_minor": 4
}

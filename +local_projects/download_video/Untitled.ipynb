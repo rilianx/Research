{
 "cells": [
  {
   "cell_type": "code",
   "execution_count": 1,
   "metadata": {},
   "outputs": [
    {
     "name": "stdin",
     "output_type": "stream",
     "text": [
      "link copiado: rses/190154/lectures/3608344?wvideo=nec83kwb0n\"\n",
      "nombre de archivo mp4: video\n"
     ]
    },
    {
     "name": "stdout",
     "output_type": "stream",
     "text": [
      "nec83kwb0n\n",
      "Descargando archivo url:https://embed-ssl.wistia.com/deliveries/d55cd8fc2a51eb8a63371e150eb6136be41e18ac.bin\n"
     ]
    },
    {
     "data": {
      "text/plain": [
       "23609209"
      ]
     },
     "execution_count": 1,
     "metadata": {},
     "output_type": "execute_result"
    }
   ],
   "source": [
    "# %%writefile download_video.py\n",
    "\n",
    "import re \n",
    "import requests\n",
    "from bs4 import BeautifulSoup\n",
    "import json\n",
    "\n",
    "str = input(\"link copiado:\")\n",
    "output_file = input(\"nombre de archivo mp4:\")\n",
    "match = re.compile(r'.*(wvideo=)(.*)(\\\").*')\n",
    "wvideo = match.search(str).group(2) \n",
    "print(wvideo) \n",
    "\n",
    "page = requests.get(\"https://fast.wistia.net/embed/iframe/\"+wvideo+\"?videoFoam=true\")\n",
    "soup = BeautifulSoup(page.content, 'html.parser')\n",
    "\n",
    "script = soup.find_all('script')[4]\n",
    "\n",
    "#print(script.text)\n",
    "#http = re.compile(r'(.*)(https:.*bin)(.*)')\n",
    "url = re.findall(r'https:[^\"]*bin', script.text)[2]\n",
    "print(\"Descargando archivo url:\"+url)\n",
    "r = requests.get(url, allow_redirects=True)\n",
    "open(output_file+\".mp4\", 'wb').write(r.content)"
   ]
  },
  {
   "cell_type": "code",
   "execution_count": 5,
   "metadata": {},
   "outputs": [
    {
     "name": "stdout",
     "output_type": "stream",
     "text": [
      "\n",
      "  window._wq = window._wq || [];\n",
      "  window._wq.push(function (W) {\n",
      "    W.iframeInit({\"assets\":[{\"type\":\"original\",\"slug\":\"original\",\"display_name\":\"Original file\",\"details\":{},\"width\":1920,\"height\":1080,\"ext\":\"mp4\",\"size\":1113103851,\"bitrate\":19570,\"public\":true,\"status\":2,\"progress\":1.0,\"metadata\":{},\"url\":\"https://embed-ssl.wistia.com/deliveries/57c90528905cff616952a7b1e3cbd71bacc5f3b3.bin\",\"created_at\":1519926271},{\"type\":\"iphone_video\",\"slug\":\"mp4_h264_1902k\",\"display_name\":\"360p\",\"details\":{},\"container\":\"mp4\",\"codec\":\"h264\",\"width\":640,\"height\":360,\"ext\":\"mp4\",\"size\":108182007,\"bitrate\":1902,\"public\":true,\"status\":2,\"progress\":1.0,\"metadata\":{\"max_bitrate\":313499,\"average_bitrate\":252604,\"early_max_bitrate\":357307},\"url\":\"https://embed-ssl.wistia.com/deliveries/e437f129d422cfbca17392c850b79bbc7ef4d1b3.bin\",\"created_at\":1519926316,\"segment_duration\":3,\"opt_vbitrate\":1200},{\"type\":\"mp4_video\",\"slug\":\"mp4_h264_415k\",\"display_name\":\"224p\",\"details\":{},\"container\":\"mp4\",\"codec\":\"h264\",\"width\":400,\"height\":224,\"ext\":\"mp4\",\"size\":23609209,\"bitrate\":415,\"public\":true,\"status\":2,\"progress\":1.0,\"metadata\":{\"max_bitrate\":15228,\"average_bitrate\":14276,\"early_max_bitrate\":16920},\"url\":\"https://embed-ssl.wistia.com/deliveries/d55cd8fc2a51eb8a63371e150eb6136be41e18ac.bin\",\"created_at\":1519926316,\"segment_duration\":3,\"opt_vbitrate\":300},{\"type\":\"md_mp4_video\",\"slug\":\"mp4_h264_1831k\",\"display_name\":\"540p\",\"details\":{},\"container\":\"mp4\",\"codec\":\"h264\",\"width\":960,\"height\":540,\"ext\":\"mp4\",\"size\":104186942,\"bitrate\":1831,\"public\":true,\"status\":2,\"progress\":1.0,\"metadata\":{\"max_bitrate\":260194,\"average_bitrate\":243303,\"early_max_bitrate\":275134},\"url\":\"https://embed-ssl.wistia.com/deliveries/101b58fb1cfee233bafa041d972fdcdf1b99d7ae.bin\",\"created_at\":1519926316,\"segment_duration\":3,\"opt_vbitrate\":1800},{\"type\":\"hd_mp4_video\",\"slug\":\"mp4_h264_3287k\",\"display_name\":\"720p\",\"details\":{},\"container\":\"mp4\",\"codec\":\"h264\",\"width\":1280,\"height\":720,\"ext\":\"mp4\",\"size\":186971724,\"bitrate\":3287,\"public\":true,\"status\":2,\"progress\":1.0,\"metadata\":{\"max_bitrate\":507789,\"average_bitrate\":433637,\"early_max_bitrate\":539443},\"url\":\"https://embed-ssl.wistia.com/deliveries/b7d717e959bac9228ffdea54c361e29ab821fb2d.bin\",\"created_at\":1519926316,\"segment_duration\":3,\"opt_vbitrate\":3750},{\"type\":\"hd_mp4_video\",\"slug\":\"mp4_h264_5182k\",\"display_name\":\"1080p\",\"details\":{},\"container\":\"mp4\",\"codec\":\"h264\",\"width\":1920,\"height\":1080,\"ext\":\"mp4\",\"size\":294774321,\"bitrate\":5182,\"public\":true,\"status\":2,\"progress\":1.0,\"metadata\":{\"max_bitrate\":722402,\"average_bitrate\":681533,\"early_max_bitrate\":817300},\"url\":\"https://embed-ssl.wistia.com/deliveries/857c851990aa912c2425799e6ac78f878071876d.bin\",\"created_at\":1519926316,\"segment_duration\":3,\"opt_vbitrate\":5625},{\"type\":\"still_image\",\"slug\":\"still_image_1920x1080\",\"display_name\":\"Image\",\"details\":{},\"width\":1920,\"height\":1080,\"ext\":\"jpg\",\"size\":219449,\"bitrate\":0,\"public\":true,\"status\":2,\"progress\":1.0,\"metadata\":{},\"url\":\"https://embed-ssl.wistia.com/deliveries/f1eecf6d96c2dc9689a1b989b330d8f9ed716bf6.bin\",\"created_at\":1519926316},{\"type\":\"storyboard\",\"slug\":\"storyboard_2000x2260\",\"display_name\":\"Storyboard\",\"details\":{},\"width\":2000,\"height\":2260,\"ext\":\"jpg\",\"size\":1195663,\"bitrate\":0,\"public\":true,\"status\":2,\"progress\":1.0,\"metadata\":{\"frame_width\":200,\"frame_height\":113,\"frame_count\":200,\"aspect_ratio\":1.7777777777777777},\"url\":\"https://embed-ssl.wistia.com/deliveries/8dca2fec0aae3a0ff3230b6da171f51123837df6.bin\",\"created_at\":1519926316}],\"distilleryUrl\":\"https://distillery.wistia.com/x\",\"accountKey\":\"wistia-production_100959\",\"mediaKey\":\"wistia-production_32421404\",\"type\":\"Video\",\"mediaType\":\"Video\",\"progress\":1.0,\"status\":2,\"name\":\"Phillip's.mp4\",\"duration\":444.345,\"hashedId\":\"nec83kwb0n\",\"branding\":false,\"enableCustomerLogo\":true,\"seoDescription\":\"a school_71963 video\",\"preloadPreference\":\"\",\"flashPlayerUrl\":\"https://embed-ssl.wistia.com/flash/embed_player_v2.0.swf?2017-04-20\",\"showAbout\":true,\"createdAt\":1519926271,\"firstEmbedForAccount\":false,\"firstShareForAccount\":false,\"useMediaDataHostLogic\":true,\"projectId\":3105751,\"stats\":{\"loadCount\":786,\"playCount\":375,\"uniqueLoadCount\":442,\"uniquePlayCount\":296,\"averageEngagement\":0.723085},\"trackingTransmitInterval\":20,\"integrations\":{\"google_analytics\":true},\"captions\":[{\"language\":\"eng\",\"text\":\"Hey everybody so today we're in the historical town of Hitchin which is about half an hour from London to the north\\n\\nAnd we're asking English people some personal questions, and we'll learn some English along the way so\\n\\nLet's go\\n\\nWho should we ask?\\n\\nHello there sorry to disturb you would you mind answering a few questions, okay? What's your name?\\n\\nGerald. Gerald okay, and how many cups of tea do you drink a day on average would you say?\\n\\nThree. Three?\\n\\nDo you drink a lot of tea?\\n\\nYes quite a lot probably\\n\\nfour cups a day there abouts\\n\\nI would say on average\\n\\nIf I'm at work, I would drink\\n\\nfive\\n\\nIncluding my morning cup of tea.\\n\\nHello. What's your name Valerie Valerie?\\n\\nAnd Oh David. David.\\n\\nHow many cups of tea do you drink a day Valerie?\\n\\nLots lots? lots\\n\\nAbout six or seven.\\n\\nHow many cups of tea do you have a day can I ask?\\n\\nAbout eight. Eight cups.\\n\\nLove a cup of tea. It's so refreshing\\n\\nYeah, and it's it quenches your thirst. It’s lovely,\\n\\nand you have any do you have?\\n\\nAbout five. So a bit less.\\n\\nI have four as soon as I wake up\\n\\nfour\\n\\nI Know! I have my husband brings me one in the morning before he goes to work.\\n\\nI like mine with milk\\n\\nHe like says without milk.\\n\\nYeah, just a touch of sugar. Yeah, I'm trying to cut down on the sugar\\n\\nDo you dunk your biscuits in your tea?\\n\\nOnly if people aren't looking only if people are looking.\\n\\nShe has to bring her own teabags on holiday with her\\n\\nOh really. Yes, is that funny about her tea yeah,\\n\\nand what about yourself? How... I don't have too many\\n\\nI don't always have it every day either, so I'd normally make myself like just one in the morning and then one at night\\n\\nSo maximum three a day, okay. I don't know big massive tea drinker. Yeah\\n\\nBar amigo there\\n\\nDo you have a favourite British dish?\\n\\nNot really, no. No no Sunday roast is lovely. So’s fish and chips. Yes. Steak and kidney pies\\n\\nBut I like a lot of foreign food as well okay,\\n\\nMediterranean? Yes.\\n\\nIndian Indian as well.\\n\\nDo you have a favorite dish you really enjoy eating?\\n\\nI would say err\\n\\nMediterranean\\n\\nSoup oh yeah, yes, okay\\n\\nMediterranean soup? yes yes\\n\\nSo maybe like a gazpacho have you tried that before? No. I haven't tried that I don't know what that one is\\n\\nGood Sunday roast\\n\\nBeef Yorkshire pudding\\n\\nOkay, yeah,\\n\\nDo you like seafood? I'm not a great lover of seafood no\\n\\nI like vegetables a lot so\\n\\nYou can eat what you like through the week\\n\\nBut sunday is the day we have our roast and the traditional English meal\\n\\nGreat, which is a roast\\n\\nmeat roast potatoes Yorkshire pudding and all vegetables, okay, and\\n\\nApple pie and custard afterwards. Very nice!\\n\\nWhat food do you absolutely love?\\n\\nI love Spanish food my wife and family have just been over to the Spanish restaurant up here for lunch\\n\\nBut I missed out because I was working so yeah. I would have loved to have gone with them great. Yeah\\n\\nYeah, Mediterranean food tapas very nice, and there's a couple of nice restaurants in Hitchin for that, so yeah.\\n\\nDo you know any Spanish?\\n\\nBuenos dias, dos cervezas por favor and that's about it\\n\\nWhat more do you need?\\n\\nThe sun's out look at that\\n\\nBeautiful,\\n\\nWhat are you doing here today? We're just doing a bit of shopping. Yeah, and my daughter's going to get her eyes tested.\\n\\nWell thank you for talking to us.\\n\\nHave a nice day\\n\\nWill I be a film star?\\n\\nYou'll be famous now\\n\\nDo you like Hitchin? What do you think of Hitchin? Is it a good place to live?\\n\\nlovely place yeah.\\n\\nLived here for\\n\\nAbout 16 years now, okay, yeah\\n\\nNice place to live? It is definitely! Very good\\n\\nlots going on lots of nice places to shop lots of nice restaurants. Very good.\\n\\nYou're from Hitchin are you? Yes\\n\\nI was born in Hitchin. Born in Hitchin?\\n\\nIt used to be called the Folly, which is the Stevenage Road which is a very very old part.\\n\\nAnd I used to go to the British school over there. Oh right,\\n\\nand you've got your bicycle here\\n\\nIs it a good place for cycling do they have cycle lanes? Yeah sometimes sometimes\\n\\nThere's a some difficult bits where I have to get home\\n\\nI have to go under a very narrow railway bridge, but you know yeah, that's the way it is everywhere. It's better than London\\n\\nNot as nice as Holland.\\n\\nOh I won’t leave Hitchin. It’s lovely.\\n\\nYes, it’s my hometown and people are so nice and friendly and it's so olde-worlde\\n\\nIt's lovely yeah, you can get what you want here. You got the markets\\n\\nYou got everything.\\n\\nHave you ever been to Spain? Lots of times love Spain. Yeah, been to Madrid yeah\\n\\nBarcelona\\n\\nSeville\\n\\nAnd on the on the costas obviously Marbella. Estapona, been everywhere\\n\\nHave you picked up any Spanish?\\n\\nnot a lot\\n\\nUnfortunately,\\n\\nWhere are you off to now? I'm gonna go and grab a coffee\\n\\nCoffee?\\n\\nNot tea? Not tea now no, I'm gonna have, treat myself to a coffee in the sunshine sitting over there nice brilliant. Okay well\\n\\nThanks for speaking to us\\n\\nHave a nice day. You too. Thanks very much bye\\n\\nOkay Everybody well that's everything for today\\n\\nThank you for watching this video. We hope you enjoyed talking to the people of Hitchin\\n\\nWe really enjoyed it\\n\\nAnd if you get the chance to come to Hitchin in we recommend it very nice\\n\\nvery nice town lots of bars and restaurants cafes and\\n\\nLovely people as well very friendly, so we'll see you again soon\\n\\nBye\\n\\nYour glasses have got no lenses. I know yeah, there's more for aesthetics than for for seeing\\n\\nright\\n\\nIs this a spoof?\\n\\nNo no it’s not a spoof.\\n\\nThere's there's a little bit of a stereotype in Spain that British people only have\\n\\nOne shower per week. What do you say to that?\\n\\nI think most people have a shower every day. Yeah\\n\\nIt's not true. It's not true. Not true. We we shower every day\"}],\"hls_enabled\":true,\"embed_options\":{\"volumeControl\":\"true\",\"fullscreenButton\":\"true\",\"controlsVisibleOnLoad\":\"true\",\"playerColor\":\"54bbff\",\"bpbTime\":\"false\",\"plugin\":{\"captions-v1\":{\"onByDefault\":\"false\"}},\"vulcan\":\"false\",\"playsinline\":true}}, {});\n",
      "    window._wistiaHasInitialized = true;\n",
      "  });\n",
      "\n"
     ]
    }
   ],
   "source": [
    "print(script.get_text())"
   ]
  },
  {
   "cell_type": "code",
   "execution_count": null,
   "metadata": {},
   "outputs": [],
   "source": []
  }
 ],
 "metadata": {
  "kernelspec": {
   "display_name": "Python 3",
   "language": "python",
   "name": "python3"
  },
  "language_info": {
   "codemirror_mode": {
    "name": "ipython",
    "version": 3
   },
   "file_extension": ".py",
   "mimetype": "text/x-python",
   "name": "python",
   "nbconvert_exporter": "python",
   "pygments_lexer": "ipython3",
   "version": "3.7.3"
  }
 },
 "nbformat": 4,
 "nbformat_minor": 4
}

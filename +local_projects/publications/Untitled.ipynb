{
 "cells": [
  {
   "cell_type": "code",
   "execution_count": 112,
   "metadata": {},
   "outputs": [
    {
     "name": "stdout",
     "output_type": "stream",
     "text": [
      "jgo\n"
     ]
    },
    {
     "data": {
      "text/plain": [
       "['0925-5001', '1573-2916']"
      ]
     },
     "execution_count": 112,
     "metadata": {},
     "output_type": "execute_result"
    }
   ],
   "source": [
    "import re\n",
    "issn = dict()\n",
    "def get_issn(journal):\n",
    "    global issn\n",
    "    pattern = re.compile(r'(\\d{4}-\\d{4})', re.IGNORECASE)\n",
    "    \n",
    "    if journal in issn: return issn[journal]\n",
    "    page = \"https://dblp.org/db/journals/\"+journal+\"/index.html\";\n",
    "    webpage = requests.get(page)\n",
    "    soup = BeautifulSoup(webpage.content, 'html.parser')\n",
    "    issn_text = soup.findAll(text=re.compile(r'\\d{4}-\\d{4}'))\n",
    "    if len(issn_text)==0: \n",
    "        issn[journal] = \"\"\n",
    "        return \"\"\n",
    "    print(journal)\n",
    "    issn_text = pattern.findall(str(issn_text[0]))\n",
    "    issn[journal] = issn_text\n",
    "    return issn[journal]\n",
    "\n",
    "\n",
    "get_issn(\"jgo\")\n",
    "    "
   ]
  },
  {
   "cell_type": "code",
   "execution_count": 105,
   "metadata": {},
   "outputs": [],
   "source": [
    "import sys\n",
    "import time\n",
    "import requests\n",
    "from bs4 import BeautifulSoup\n",
    "\n",
    "#todas las listas (carga inicial)\n",
    "papers_dict = {}\n",
    "lists=[[\"iaraya\",\"https://dblp.org/pid/88/3432.html\"],[\"rsoto\",\"https://dblp.org/pid/41/5788.html\"],\n",
    "       [\"bcrawford\",\"https://dblp.org/pid/99/4622.html\"],[\"hallende\",\"https://dblp.org/pid/10/649.html\"],\n",
    "      [\"wpalma\",\"https://dblp.org/pid/02/5664.html\"],[\"gcabrera\",\"https://dblp.org/pid/146/1064.html\"],\n",
    "      [\"crusu\",\"https://dblp.org/pid/38/4610.html\"],[\"ccubillos\",\"https://dblp.org/pid/68/4753.html\"],\n",
    "      [\"dquinones\",\"https://dblp.org/pid/164/6412.html\"],[\"rvillarroel\",\"https://dblp.org/pid/33/2661.html\"],\n",
    "       [\"lperez\",\"https://dblp.org/pid/26/11291.html\"],[\"scano\",\"https://dblp.org/pid/166/1026.html\"]]\n",
    "#lists=[[\"iaraya\",\"https://dblp.org/pid/88/3432.html\"]]\n",
    "\n",
    "for l in lists:  \n",
    "    mlist = []\n",
    "    webpage = requests.get(l[1])\n",
    "    soup = BeautifulSoup(webpage.content, 'html.parser')\n",
    "    for nr in soup.find_all('div', class_=\"nr\"):\n",
    "        data = nr.find_next('cite', class_=\"data\")\n",
    "        title=data.find_next('span',class_=\"title\")\n",
    "        journal =title.find_next_sibling('a')\n",
    "        if journal==None: continue\n",
    "        mlist.append( (journal['href'].split('/')[5], data.text) ) \n",
    "    papers_dict[l[0]] = mlist "
   ]
  },
  {
   "cell_type": "code",
   "execution_count": 114,
   "metadata": {},
   "outputs": [],
   "source": [
    "from pandas import DataFrame, read_csv\n",
    "import matplotlib.pyplot as plt\n",
    "import pandas as pd \n",
    "\n",
    "file = r'JCR-2019.xls'\n",
    "quartil = dict()\n",
    "for sheet in range(4,0,-1):\n",
    "    P = pd.read_excel(file, sheet_name=sheet,header=3)[\"ISSN\"].tolist()\n",
    "    for p in P:\n",
    "        quartil[p]=sheet"
   ]
  },
  {
   "cell_type": "code",
   "execution_count": 117,
   "metadata": {},
   "outputs": [
    {
     "name": "stdout",
     "output_type": "stream",
     "text": [
      "iaraya\n",
      "Víctor Reyes, Ignacio Araya: AbsTaylor: upper bounding with inner regions in nonlinear continuous global optimization problems. J. Glob. Optim. 79(2): 413-429 (2021), Q1\n",
      "Ignacio Araya, Damir Aliquintui, Franco Ardiles, Braulio Lobo: Nonlinear biobjective optimization: improving the upper envelope using feasible line segments. J. Glob. Optim. 79(2): 503-520 (2021), Q1\n",
      "rsoto\n",
      "José Lemus-Romani, Borja Alonso, Jose Luis Moura, Broderick Crawford, Ricardo Soto, Felipe González: Limited Stop Services Design Considering Variable Dwell Time and Operating Capacity Constraints. IEEE Access 9: 30359-30373 (2021), Q1\n",
      "bcrawford\n",
      "José Lemus-Romani, Borja Alonso, Jose Luis Moura, Broderick Crawford, Ricardo Soto, Felipe González: Limited Stop Services Design Considering Variable Dwell Time and Operating Capacity Constraints. IEEE Access 9: 30359-30373 (2021), Q1\n",
      "hallende\n",
      "Gabriel Villavicencio Arancibia, Osvaldo Piña Bustamante, Gabriel Hermosilla Vigneau, Héctor Allende-Cid, Gonzalo Suazo Fuentelaba, Victor Araya Nieto: Estimation of Moisture Content in Thickened Tailings Dams: Machine Learning Techniques Applied to Remote Sensing Images. IEEE Access 9: 16988-16998 (2021), Q1\n",
      "wpalma\n",
      "gcabrera\n",
      "Zhenan Feng, Vicente A. González, Carol Mutch, Robert Amor, Guillermo Cabrera-Guerrero: Instructional mechanisms in immersive virtual reality serious games: Earthquake emergency training for children. J. Comput. Assist. Learn. 37(2): 542-556 (2021), Q2\n",
      "crusu\n",
      "ccubillos\n",
      "dquinones\n",
      "rvillarroel\n",
      "lperez\n",
      "scano\n"
     ]
    }
   ],
   "source": [
    "import re\n",
    "year=\"2021\"\n",
    "for p in papers_dict:\n",
    "    print(p)\n",
    "    for pp in range(len(papers_dict[p])):\n",
    "        #print(papers_dict[p][pp])\n",
    "        res = re.search(r\"(\"+year+\")\", papers_dict[p][pp][1])\n",
    "        if res: \n",
    "            for issn_ in get_issn(papers_dict[p][pp][0]):\n",
    "                if issn_ in quartil:\n",
    "                    print(papers_dict[p][pp][1] + \", Q\" + str(quartil[issn_]))\n",
    "                    break\n",
    "            #print(papers_dict[p][pp][1])"
   ]
  },
  {
   "cell_type": "code",
   "execution_count": 82,
   "metadata": {},
   "outputs": [
    {
     "data": {
      "text/plain": [
       "'hm'"
      ]
     },
     "execution_count": 82,
     "metadata": {},
     "output_type": "execute_result"
    }
   ],
   "source": [
    "papers_dict[p][pp][0]"
   ]
  },
  {
   "cell_type": "code",
   "execution_count": null,
   "metadata": {},
   "outputs": [],
   "source": []
  }
 ],
 "metadata": {
  "kernelspec": {
   "display_name": "Python 3",
   "language": "python",
   "name": "python3"
  },
  "language_info": {
   "codemirror_mode": {
    "name": "ipython",
    "version": 3
   },
   "file_extension": ".py",
   "mimetype": "text/x-python",
   "name": "python",
   "nbconvert_exporter": "python",
   "pygments_lexer": "ipython3",
   "version": "3.7.3"
  }
 },
 "nbformat": 4,
 "nbformat_minor": 4
}

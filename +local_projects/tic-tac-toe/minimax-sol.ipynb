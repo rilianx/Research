{
 "cells": [
  {
   "cell_type": "code",
   "execution_count": 115,
   "metadata": {},
   "outputs": [],
   "source": [
    "import numpy as np\n",
    "from copy import copy, deepcopy\n",
    "\n",
    "class Action:\n",
    "    def __init__(self, i, j):\n",
    "        self.i=i\n",
    "        self.j=j\n",
    "        \n",
    "    def __str__(self):\n",
    "        return str(self.i)+\",\"+str(self.j)\n",
    "\n",
    "class State:\n",
    "             \n",
    "  \n",
    "    def __init__(self, square, n_moves=0, next_move='x'):    \n",
    "        \n",
    "        #state attributes\n",
    "        self.square = deepcopy(square)\n",
    "        self.next_move = next_move\n",
    "        self.n_moves = n_moves\n",
    "        self.first_visit = True\n",
    "        self.value = None\n",
    "        self.winner = None\n",
    "        \n",
    "        # tree atributes\n",
    "        self.children=[]\n",
    "        self.parent=None\n",
    "        self.type='MAX'\n",
    "    \n",
    "    def get_actions(self):\n",
    "        actions = []\n",
    "        for i in range(3):\n",
    "            for j in range(3):\n",
    "                if self.square[i][j] == b'-':\n",
    "                    actions.append(Action(i,j))\n",
    "        return actions\n",
    "    \n",
    "    def transition(self, action):\n",
    "        s = copy(self)\n",
    "        #deepcopy(self)\n",
    "        s.square[action.i][action.j] = self.next_move\n",
    "        if self.next_move == 'x': s.next_move='o'\n",
    "        else: s.next_move = 'x'\n",
    "        s.n_moves += 1      \n",
    "        if s.has_winner(action.i,action.j):\n",
    "            if self.next_move=='x': s.winner='x'\n",
    "            else: s.winner='o'\n",
    "        \n",
    "        if self.type=='MIN': s.type='MAX'\n",
    "        else: s.type='MIN'\n",
    "            \n",
    "        return s\n",
    "    \n",
    "    def add_child(self, child):\n",
    "        self.children.append(child)\n",
    "        child.parent=self\n",
    "    \n",
    "    def eval(self, next_move):\n",
    "        if self.winner!=None:\n",
    "            if self.winner==next_move: return 1\n",
    "            else: return -1\n",
    "        elif self.n_moves==9: return 0\n",
    "        \n",
    "        elif len(self.children)>0:\n",
    "            max_value=-1000\n",
    "            min_value=1000\n",
    "            for c in self.children:\n",
    "                max_value = max(c.value,max_value)\n",
    "                min_value = min(c.value,min_value)\n",
    "                \n",
    "            if self.type==\"MAX\": return max_value\n",
    "            else: return min_value\n",
    "                \n",
    "        else: return None\n",
    "            \n",
    "           \n",
    "        \n",
    "    def has_winner(self, ii, jj):\n",
    "        symbol = self.square[ii][jj]\n",
    "        end = True\n",
    "        for j in range(0,3):\n",
    "            if symbol != self.square[ii][j]:\n",
    "                end=False; break\n",
    "        if end: return True\n",
    "                \n",
    "        end = True\n",
    "        for i in range(0,3):\n",
    "            if symbol != self.square[i][jj]:\n",
    "                end=False; break\n",
    "        if end: return True \n",
    "        \n",
    "        if(ii==jj):\n",
    "            end = True\n",
    "            for i in range(0,3):\n",
    "                j=i\n",
    "                if symbol != self.square[i][j]:\n",
    "                    end=False; break\n",
    "            if end: return True   \n",
    "\n",
    "        if jj==2-ii:\n",
    "            end = True\n",
    "            for i in range(0,3):\n",
    "                j=2-i\n",
    "                if symbol != self.square[i][j]:\n",
    "                    end=False; break\n",
    "            if end: return True   \n",
    "        \n",
    "        return False\n",
    "    \n",
    "    def __copy__(self):\n",
    "        return type(self)(self.square, self.n_moves, self.next_move)\n"
   ]
  },
  {
   "cell_type": "code",
   "execution_count": 116,
   "metadata": {},
   "outputs": [],
   "source": [
    "square = np.chararray((3, 3)); square[:] = '-'  \n",
    "s0=State(square)\n",
    "s1=s0.transition(Action(1,1))\n",
    "s2=s1.transition(Action(0,0))\n",
    "s3=s2.transition(Action(0,1))\n",
    "s4=s3.transition(Action(2,1))\n",
    "#s5=s4.transition(Action(2,1))"
   ]
  },
  {
   "cell_type": "code",
   "execution_count": 117,
   "metadata": {},
   "outputs": [
    {
     "name": "stdout",
     "output_type": "stream",
     "text": [
      "[[b'-' b'-' b'-']\n",
      " [b'-' b'-' b'-']\n",
      " [b'-' b'-' b'-']] MAX \n",
      "\n",
      "[[b'-' b'-' b'-']\n",
      " [b'-' b'x' b'-']\n",
      " [b'-' b'-' b'-']] MIN \n",
      "\n",
      "[[b'o' b'-' b'-']\n",
      " [b'-' b'x' b'-']\n",
      " [b'-' b'-' b'-']] MAX \n",
      "\n",
      "[[b'o' b'x' b'-']\n",
      " [b'-' b'x' b'-']\n",
      " [b'-' b'-' b'-']] MIN \n",
      "\n"
     ]
    }
   ],
   "source": [
    "print(s0.square,s0.type,\"\\n\")\n",
    "print(s1.square,s1.type,\"\\n\")\n",
    "print(s2.square,s2.type,\"\\n\")\n",
    "print(s3.square,s3.type,\"\\n\")"
   ]
  },
  {
   "cell_type": "code",
   "execution_count": 118,
   "metadata": {},
   "outputs": [],
   "source": [
    "#post-order\n",
    "def minimax(state): \n",
    "    S=[]\n",
    "    S.append(state)\n",
    "    i = 0\n",
    "    while len(S)>0:\n",
    "        i += 1\n",
    "        s = S[-1]\n",
    "        if s.first_visit:\n",
    "            s.first_visit=False\n",
    "            actions = s.get_actions()\n",
    "            for a in actions:\n",
    "                s_child=s.transition(a)\n",
    "                s.add_child(s_child)\n",
    "                S.append(s_child)\n",
    "        else: \n",
    "            s.value = s.eval(state.next_move)\n",
    "            S.pop()\n",
    "    print(\"iterations: \",i)\n"
   ]
  },
  {
   "cell_type": "code",
   "execution_count": 119,
   "metadata": {},
   "outputs": [],
   "source": [
    "def best_child(state):\n",
    "    max_value = -10\n",
    "    best_child = None\n",
    "    for c in state.children:\n",
    "        if c.value>max_value:\n",
    "            best_child = c\n",
    "            max_value=c.value\n",
    "    return best_child "
   ]
  },
  {
   "cell_type": "code",
   "execution_count": 120,
   "metadata": {},
   "outputs": [
    {
     "data": {
      "text/plain": [
       "chararray([[b'o', b'x', b'-'],\n",
       "           [b'-', b'x', b'-'],\n",
       "           [b'-', b'-', b'-']], dtype='|S1')"
      ]
     },
     "execution_count": 120,
     "metadata": {},
     "output_type": "execute_result"
    }
   ],
   "source": [
    "s3.square"
   ]
  },
  {
   "cell_type": "code",
   "execution_count": 122,
   "metadata": {},
   "outputs": [
    {
     "name": "stdout",
     "output_type": "stream",
     "text": [
      "iterations:  219202\n"
     ]
    },
    {
     "data": {
      "text/plain": [
       "(chararray([[b'o', b'-', b'-'],\n",
       "            [b'-', b'x', b'-'],\n",
       "            [b'-', b'-', b'-']], dtype='|S1'), 0)"
      ]
     },
     "execution_count": 122,
     "metadata": {},
     "output_type": "execute_result"
    }
   ],
   "source": [
    "s=copy(s1)\n",
    "minimax(s)\n",
    "s4=best_child(s)\n",
    "s4.square, s4.value"
   ]
  },
  {
   "cell_type": "code",
   "execution_count": 99,
   "metadata": {},
   "outputs": [
    {
     "name": "stdout",
     "output_type": "stream",
     "text": [
      "iterations:  27400\n"
     ]
    },
    {
     "data": {
      "text/plain": [
       "chararray([[b'o', b'x', b'-'],\n",
       "           [b'-', b'x', b'-'],\n",
       "           [b'-', b'-', b'-']], dtype='|S1')"
      ]
     },
     "execution_count": 99,
     "metadata": {},
     "output_type": "execute_result"
    }
   ],
   "source": [
    "s=s4.copy()\n",
    "minimax(s)\n",
    "s5=best_child(s)\n",
    "s5.square"
   ]
  },
  {
   "cell_type": "code",
   "execution_count": 68,
   "metadata": {},
   "outputs": [
    {
     "data": {
      "text/plain": [
       "chararray([[b'o', b'x', b'-'],\n",
       "           [b'x', b'x', b'o'],\n",
       "           [b'-', b'o', b'-']], dtype='|S1')"
      ]
     },
     "execution_count": 68,
     "metadata": {},
     "output_type": "execute_result"
    }
   ],
   "source": [
    "s=s5.copy()\n",
    "minimax(s)\n",
    "s6=best_child(s)\n",
    "s6.square"
   ]
  },
  {
   "cell_type": "code",
   "execution_count": 69,
   "metadata": {},
   "outputs": [
    {
     "data": {
      "text/plain": [
       "chararray([[b'o', b'x', b'x'],\n",
       "           [b'x', b'x', b'o'],\n",
       "           [b'-', b'o', b'-']], dtype='|S1')"
      ]
     },
     "execution_count": 69,
     "metadata": {},
     "output_type": "execute_result"
    }
   ],
   "source": [
    "s=s6.copy()\n",
    "minimax(s)\n",
    "s7=best_child(s)\n",
    "s7.square"
   ]
  },
  {
   "cell_type": "code",
   "execution_count": 70,
   "metadata": {},
   "outputs": [
    {
     "data": {
      "text/plain": [
       "chararray([[b'o', b'x', b'x'],\n",
       "           [b'x', b'x', b'o'],\n",
       "           [b'o', b'o', b'-']], dtype='|S1')"
      ]
     },
     "execution_count": 70,
     "metadata": {},
     "output_type": "execute_result"
    }
   ],
   "source": [
    "s=s7.copy()\n",
    "minimax(s)\n",
    "s8=best_child(s)\n",
    "s8.square"
   ]
  },
  {
   "cell_type": "code",
   "execution_count": 223,
   "metadata": {},
   "outputs": [
    {
     "data": {
      "text/plain": [
       "chararray([[b'o', b'x', b'x'],\n",
       "           [b'x', b'x', b'o'],\n",
       "           [b'o', b'o', b'-']], dtype='|S1')"
      ]
     },
     "execution_count": 223,
     "metadata": {},
     "output_type": "execute_result"
    }
   ],
   "source": [
    "s=s.transition(Action(2,0))\n",
    "s.square"
   ]
  },
  {
   "cell_type": "code",
   "execution_count": 224,
   "metadata": {},
   "outputs": [
    {
     "data": {
      "text/plain": [
       "chararray([[b'o', b'x', b'x'],\n",
       "           [b'x', b'x', b'o'],\n",
       "           [b'o', b'o', b'x']], dtype='|S1')"
      ]
     },
     "execution_count": 224,
     "metadata": {},
     "output_type": "execute_result"
    }
   ],
   "source": [
    "s=minimax(s)\n",
    "s.square"
   ]
  },
  {
   "cell_type": "code",
   "execution_count": null,
   "metadata": {},
   "outputs": [],
   "source": []
  }
 ],
 "metadata": {
  "kernelspec": {
   "display_name": "Python 3",
   "language": "python",
   "name": "python3"
  },
  "language_info": {
   "codemirror_mode": {
    "name": "ipython",
    "version": 3
   },
   "file_extension": ".py",
   "mimetype": "text/x-python",
   "name": "python",
   "nbconvert_exporter": "python",
   "pygments_lexer": "ipython3",
   "version": "3.7.3"
  }
 },
 "nbformat": 4,
 "nbformat_minor": 4
}

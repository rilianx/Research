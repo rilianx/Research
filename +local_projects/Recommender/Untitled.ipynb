{
 "cells": [
  {
   "cell_type": "code",
   "execution_count": 2,
   "metadata": {},
   "outputs": [],
   "source": [
    " import time\n",
    " import requests\n",
    " from bs4 import BeautifulSoup\n",
    "\n",
    " def Extract_UserReview(imdbID, tag, reviews, pages_per_movie):\n",
    "    key=\"\"\n",
    "    n=0\n",
    "    while n < pages_per_movie and key!=None:\n",
    "        if key==\"\":\n",
    "          url = 'https://www.imdb.com/title/{}/reviews/_ajax?sort=submissionDate'.format(imdbID)\n",
    "        else:\n",
    "          url = 'https://www.imdb.com/title/{}/reviews/_ajax?sort=submissionDate&paginationKey={}'.format(imdbID,key)\n",
    "\n",
    "        data = requests.get(url)\n",
    "        soup = BeautifulSoup(data.text, 'html.parser')      \n",
    "\n",
    "        #Extracting the user Review of the movie\n",
    "        rev = soup.findAll('div', {'class': 'review-container'})\n",
    "          \n",
    "        for res in rev:\n",
    "            reviews.id.append(imdbID)\n",
    "            rating_div =  res.findNext('span',  {'class': 'point-scale'})\n",
    "            #print(int(rating_div.find_previous_sibling('span').text))\n",
    "            if rating_div != None:\n",
    "                reviews.rating.append(int(rating_div.find_previous_sibling('span').text))\n",
    "            else:\n",
    "                 reviews.rating.append(-1)\n",
    "            reviews.title.append(res.findNext('a',  {'class': 'title'}).text)\n",
    "            reviews.data.append(res.findNext('div',  {'class': 'text'}).text)\n",
    "            reviews.target.append(tag)\n",
    "            #userReview.append(res.findNext('div',  {'class': 'text'}).text)\n",
    "            #if userReview is None:\n",
    "            #   userReview='N/A'\n",
    "\n",
    "        loadmore = soup.find('div', {'class': 'load-more-data'})\n",
    "        if loadmore == None: break\n",
    "        key = loadmore['data-key']\n",
    "        n += 1\n",
    "        time.sleep(1)\n",
    "       \n",
    "    return n"
   ]
  },
  {
   "cell_type": "code",
   "execution_count": 3,
   "metadata": {},
   "outputs": [],
   "source": [
    "import time\n",
    "\n",
    "def Extract_Reviews_List(imdb_list, reviews, pages_per_movie=1, n_movies=5, i=1):\n",
    "    n = 0\n",
    "    while True:\n",
    "      url = 'https://www.imdb.com/list/{}/?page={}'.format(imdb_list,i)\n",
    "      data = requests.get(url)\n",
    "      soup = BeautifulSoup(data.text, 'html.parser')      \n",
    "\n",
    "      #Extracting the user Review of the movie\n",
    "      movie = soup.findAll('div', {'class': 'lister-item-content'})\n",
    "      if movie == None: return\n",
    "      for res in movie:\n",
    "        time.sleep(1)\n",
    "        id_movie = res.h3.a[\"href\"].split('/')[-2]\n",
    "        print(id_movie)\n",
    "        reviews[id_movie]=Reviews()\n",
    "        Extract_UserReview(id_movie, id_movie, reviews[id_movie], pages_per_movie)\n",
    "        n += 1\n",
    "        if n==n_movies: return\n",
    "      i += 1"
   ]
  },
  {
   "cell_type": "code",
   "execution_count": 4,
   "metadata": {},
   "outputs": [],
   "source": [
    "class Reviews:\n",
    "    def __init__(self):\n",
    "        self.id = []\n",
    "        self.title = []\n",
    "        self.data = []\n",
    "        self.rating = []\n",
    "        self.target = [] "
   ]
  },
  {
   "cell_type": "code",
   "execution_count": 5,
   "metadata": {},
   "outputs": [
    {
     "name": "stdout",
     "output_type": "stream",
     "text": [
      "tt6751668\n",
      "tt9368628\n",
      "tt7670212\n",
      "tt8649186\n",
      "tt8228288\n",
      "tt7286456\n",
      "tt0437086\n",
      "tt7366338\n",
      "tt1190634\n",
      "tt8772296\n",
      "tt6156138\n",
      "tt6611916\n",
      "tt1950186\n",
      "tt5593384\n",
      "tt10199590\n",
      "tt8991268\n",
      "tt9074574\n",
      "tt7131622\n",
      "tt8579674\n",
      "tt5727208\n",
      "tt6292852\n",
      "tt8739752\n",
      "tt6821044\n",
      "tt7139936\n",
      "tt9185066\n",
      "tt8535968\n",
      "tt4648786\n",
      "tt8526872\n",
      "tt3513548\n",
      "tt5606664\n",
      "tt9561862\n",
      "tt6105098\n",
      "tt10199640\n",
      "tt8367814\n",
      "tt0489974\n",
      "tt1979376\n",
      "tt8652728\n",
      "tt7552686\n",
      "tt7984766\n",
      "tt8946378\n",
      "tt7752126\n",
      "tt8367814\n",
      "tt1302006\n",
      "tt8740778\n",
      "tt6062774\n",
      "tt4916630\n",
      "tt8123618\n",
      "tt0800325\n",
      "tt7967412\n",
      "tt1667354\n",
      "tt7533152\n",
      "tt7653254\n",
      "tt9172422\n",
      "tt8722346\n",
      "tt5116302\n",
      "tt7909970\n",
      "tt8772262\n",
      "tt5827916\n",
      "tt6348138\n",
      "tt8111088\n",
      "tt8151874\n",
      "tt7485048\n",
      "tt8637428\n",
      "tt8359816\n",
      "tt9243946\n",
      "tt2935510\n",
      "tt6146586\n",
      "tt2398149\n",
      "tt2066051\n",
      "tt7984734\n",
      "tt0441881\n",
      "tt6857112\n",
      "tt8291806\n",
      "tt6624144\n",
      "tt9071322\n",
      "tt10324144\n",
      "tt8009314\n",
      "tt2584384\n",
      "tt8613070\n",
      "tt3281548\n",
      "tt5180504\n",
      "tt8688634\n",
      "tt5886046\n",
      "tt6445414\n",
      "tt8291224\n",
      "tt6032328\n",
      "tt7736478\n",
      "tt6259380\n",
      "tt8781414\n",
      "tt6905542\n",
      "tt5952594\n",
      "tt9239888\n",
      "tt9581076\n",
      "tt8404614\n",
      "tt5932728\n",
      "tt3864056\n",
      "tt7778680\n",
      "tt7671064\n",
      "tt9617456\n",
      "tt7343762\n"
     ]
    }
   ],
   "source": [
    "reviews = dict()\n",
    "Extract_Reviews_List(\"ls024297541\", reviews, 5, 100) #films from 2019.. a list"
   ]
  },
  {
   "cell_type": "code",
   "execution_count": 7,
   "metadata": {},
   "outputs": [],
   "source": [
    "import csv\n",
    "import io\n",
    "with io.open(\"data.csv\", \"w\", encoding=\"utf-8\") as output:\n",
    "    writer = csv.writer(output)\n",
    "    for key in reviews:\n",
    "       writer.writerows(zip(reviews[key].id, reviews[key].title, reviews[key].data, reviews[key].rating))    "
   ]
  },
  {
   "cell_type": "code",
   "execution_count": 4,
   "metadata": {},
   "outputs": [],
   "source": [
    "import csv\n",
    "import io\n",
    "reviews = dict()\n",
    "with io.open(\"data.csv\", encoding=\"utf-8\") as input:\n",
    "    reader = csv.reader(input)\n",
    "    for row in reader:\n",
    "        if len(row)==0: continue\n",
    "        if row[0] not in reviews: reviews[row[0]]=Reviews()\n",
    "        reviews[row[0]].id.append(row[0])\n",
    "        reviews[row[0]].target.append(row[0])\n",
    "        reviews[row[0]].title.append(row[1])\n",
    "        reviews[row[0]].data.append(row[2])\n",
    "        reviews[row[0]].rating.append(float(row[3]))"
   ]
  },
  {
   "cell_type": "code",
   "execution_count": 5,
   "metadata": {},
   "outputs": [
    {
     "data": {
      "text/plain": [
       "45"
      ]
     },
     "execution_count": 5,
     "metadata": {},
     "output_type": "execute_result"
    }
   ],
   "source": [
    "len(reviews)"
   ]
  },
  {
   "cell_type": "code",
   "execution_count": 156,
   "metadata": {},
   "outputs": [],
   "source": [
    "import random\n",
    "keys = random.sample(reviews.keys(), 10)\n",
    "x=[]\n",
    "y=[]\n",
    "x2=[]\n",
    "for key in reviews:\n",
    "    x += reviews[key].data\n",
    "    x2 += reviews[key].rating\n",
    "    #if key in keys: \n",
    "    y += [key]*len(reviews[key].data)\n",
    "    #else:\n",
    "    #y += [\"N\"]*len(reviews[key].data)"
   ]
  },
  {
   "cell_type": "code",
   "execution_count": 66,
   "metadata": {},
   "outputs": [
    {
     "data": {
      "text/plain": [
       "[' it was wasted my time\\n',\n",
       " ' I appreciate your work🦋\\n',\n",
       " ' Modern Day Feminism\\n',\n",
       " ' Trash\\n',\n",
       " \" 2008's economy in a different light\\n\",\n",
       " ' Ridiculous movie and the acting is horrible\\n',\n",
       " ' BIG JAY OAKERSON STEALS THE SHOW!!!\\n',\n",
       " ' Unnecesary movie, Wu just killed her career\\n',\n",
       " ' Terrible\\n',\n",
       " ' How did JLo get nominated for this?\\n',\n",
       " ' Surprisingly good\\n',\n",
       " ' Shame!\\n',\n",
       " ' Toxic trash\\n',\n",
       " ' Girl Power: pull the plug!\\n',\n",
       " ' Practical Joke\\n',\n",
       " ' Drain the clock; not the c@#k!\\n',\n",
       " \" For what it's worth.....\\n\",\n",
       " ' Interesting but uneven.\\n',\n",
       " ' The depth is not enough\\n',\n",
       " ' Bad movie\\n',\n",
       " ' Overhyped, but okay.\\n',\n",
       " ' Maybe if it was written by aaron sorkin...\\n',\n",
       " ' Actually much better than I anticipated\\n',\n",
       " ' Pffffft.\\n',\n",
       " ' Good movie!\\n']"
      ]
     },
     "execution_count": 66,
     "metadata": {},
     "output_type": "execute_result"
    }
   ],
   "source": [
    "reviews[\"tt5503686\"].title"
   ]
  },
  {
   "cell_type": "code",
   "execution_count": 67,
   "metadata": {},
   "outputs": [
    {
     "data": {
      "text/plain": [
       "(882, 882, 882)"
      ]
     },
     "execution_count": 67,
     "metadata": {},
     "output_type": "execute_result"
    }
   ],
   "source": [
    "len(x2),len(x),len(y)"
   ]
  },
  {
   "cell_type": "code",
   "execution_count": 68,
   "metadata": {},
   "outputs": [
    {
     "name": "stderr",
     "output_type": "stream",
     "text": [
      "[nltk_data] Downloading package stopwords to\n",
      "[nltk_data]     C:\\Users\\Dell\\AppData\\Roaming\\nltk_data...\n",
      "[nltk_data]   Package stopwords is already up-to-date!\n",
      "[nltk_data] Downloading package wordnet to\n",
      "[nltk_data]     C:\\Users\\Dell\\AppData\\Roaming\\nltk_data...\n",
      "[nltk_data]   Package wordnet is already up-to-date!\n"
     ]
    }
   ],
   "source": [
    "import numpy as np\n",
    "import re\n",
    "import nltk\n",
    "from sklearn.datasets import load_files\n",
    "nltk.download('stopwords')\n",
    "import pickle\n",
    "from nltk.corpus import stopwords\n",
    "\n",
    "import nltk\n",
    "nltk.download('wordnet')\n",
    "from nltk.stem import WordNetLemmatizer\n",
    "from sklearn.feature_extraction.text import CountVectorizer\n",
    "from sklearn.feature_extraction.text import TfidfTransformer\n",
    "\n",
    "def preprocessing(X, blacklist=[\"film\",\"movie\"]):\n",
    "\n",
    "  documents = []\n",
    "\n",
    "  stemmer = WordNetLemmatizer()\n",
    "\n",
    "\n",
    "  for sen in range(0, len(X)):\n",
    "      # Remove all the special characters\n",
    "      document = re.sub(r'\\W', ' ', str(X[sen]))\n",
    "      \n",
    "      # remove all single characters\n",
    "      document = re.sub(r'\\s+[a-zA-Z]\\s+', ' ', document)\n",
    "      \n",
    "      # Remove single characters from the start\n",
    "      document = re.sub(r'\\^[a-zA-Z]\\s+', ' ', document) \n",
    "      \n",
    "      # Substituting multiple spaces with single space\n",
    "      document = re.sub(r'\\s+', ' ', document, flags=re.I)\n",
    "      \n",
    "      # Removing prefixed 'b'\n",
    "      document = re.sub(r'^b\\s+', '', document)\n",
    "      \n",
    "      # Converting to Lowercase\n",
    "      document = document.lower()\n",
    "\n",
    "      for word in blacklist: \n",
    "        document = document.replace(\" \"+word+\" \", \" \")\n",
    "\n",
    "      for word in stopwords.words('english'):\n",
    "        document = document.replace(\" \"+word+\" \", \" \")\n",
    "\n",
    "      if sen in y:\n",
    "        for word in stop_words[y[sen]]: \n",
    "          document = document.replace(\" \"+word+\" \", \" \")\n",
    "\n",
    "\n",
    "      # Lemmatization\n",
    "      document = document.split()\n",
    "\n",
    "      document = [stemmer.lemmatize(word) for word in document]\n",
    "      document = ' '.join(document)\n",
    "\n",
    "\n",
    "      documents.append(document)\n",
    "\n",
    "\n",
    "\n",
    "  return documents\n"
   ]
  },
  {
   "cell_type": "code",
   "execution_count": 174,
   "metadata": {},
   "outputs": [],
   "source": [
    "def generate_classifier(X,y):\n",
    "\n",
    "    from sklearn.model_selection import train_test_split\n",
    "    #X_train, X_test, y_train, y_test = train_test_split(X, y, test_size=0.5, random_state=0)\n",
    "    X_train = X\n",
    "    y_train = y\n",
    "\n",
    "    from sklearn.ensemble import RandomForestClassifier\n",
    "    from sklearn.neighbors import KNeighborsClassifier\n",
    "    \n",
    "    #classifier = RandomForestClassifier(n_estimators=100, max_depth=10, class_weight='balanced', random_state=0)\n",
    "    classifier = KNeighborsClassifier(n_neighbors=3)\n",
    "    classifier.fit(X_train, y_train) \n",
    "\n",
    "    #y_pred = classifier.predict(X_test)\n",
    "\n",
    "    from sklearn.metrics import classification_report, confusion_matrix, accuracy_score\n",
    "\n",
    "    #print(confusion_matrix(y_test,y_pred))\n",
    "    #print(classification_report(y_test,y_pred))\n",
    "    #print(accuracy_score(y_test, y_pred))\n",
    "    \n",
    "\n",
    "    return classifier, X_train"
   ]
  },
  {
   "cell_type": "code",
   "execution_count": 204,
   "metadata": {},
   "outputs": [],
   "source": [
    "docs = preprocessing(x)\n",
    "\n",
    "vectorizer = CountVectorizer(max_features=1500, min_df=5, max_df=0.5, ngram_range=(1, 2), stop_words=stopwords.words('english'))\n",
    "X = vectorizer.fit_transform(docs).toarray()\n",
    "\n",
    "tfidfconverter = TfidfTransformer()\n",
    "X = tfidfconverter.fit_transform(X).toarray()"
   ]
  },
  {
   "cell_type": "code",
   "execution_count": 234,
   "metadata": {},
   "outputs": [
    {
     "data": {
      "text/plain": [
       "(882, 1500)"
      ]
     },
     "execution_count": 234,
     "metadata": {},
     "output_type": "execute_result"
    }
   ],
   "source": [
    "Xnew = X #np.vstack((np.transpose(X),x2))\n",
    "#Xnew = np.transpose (Xnew)\n",
    "Xnew.shape"
   ]
  },
  {
   "cell_type": "code",
   "execution_count": 235,
   "metadata": {},
   "outputs": [],
   "source": [
    "classifier, X_train = generate_classifier(Xnew[0:200],y[0:200])"
   ]
  },
  {
   "cell_type": "code",
   "execution_count": 236,
   "metadata": {},
   "outputs": [
    {
     "name": "stdout",
     "output_type": "stream",
     "text": [
      "25\n"
     ]
    }
   ],
   "source": [
    "rev = Reviews()\n",
    "Extract_UserReview(\"tt5503686\", \"--\", rev, 1)\n",
    "print(len(rev.data))\n",
    "documents = preprocessing(rev.data, rev.target)\n",
    "XX = vectorizer.transform(documents).toarray()\n",
    "XX = tfidfconverter.transform(XX).toarray()\n",
    "#XX = np.vstack((np.transpose(XX),rev.rating))\n",
    "XX = np.transpose (XX)\n",
    "yy = rev.target"
   ]
  },
  {
   "cell_type": "code",
   "execution_count": 237,
   "metadata": {},
   "outputs": [
    {
     "data": {
      "text/plain": [
       "(array([[1.29268112, 1.30296516, 1.30855396, 1.31636021, 1.3170798 ]]),\n",
       " array([[185, 153, 155, 168,  73]], dtype=int64))"
      ]
     },
     "execution_count": 237,
     "metadata": {},
     "output_type": "execute_result"
    }
   ],
   "source": [
    "classifier.kneighbors([Xnew[201]],n_neighbors=5)"
   ]
  },
  {
   "cell_type": "code",
   "execution_count": 238,
   "metadata": {},
   "outputs": [
    {
     "name": "stdout",
     "output_type": "stream",
     "text": [
      "1.2926811177370698\n"
     ]
    },
    {
     "data": {
      "text/plain": [
       "0.16448776392301978"
      ]
     },
     "execution_count": 238,
     "metadata": {},
     "output_type": "execute_result"
    }
   ],
   "source": [
    "from scipy import spatial\n",
    "print(np.linalg.norm(X[201]-X[185]))\n",
    "1-spatial.distance.cosine(Xnew[201],Xnew[185])"
   ]
  },
  {
   "cell_type": "code",
   "execution_count": 240,
   "metadata": {},
   "outputs": [
    {
     "name": "stdout",
     "output_type": "stream",
     "text": [
      "tt2639336\n"
     ]
    }
   ],
   "source": [
    "print(y[201])"
   ]
  },
  {
   "cell_type": "code",
   "execution_count": 242,
   "metadata": {},
   "outputs": [
    {
     "name": "stdout",
     "output_type": "stream",
     "text": [
      "badly 0.20613630569684702\n",
      "cut 0.3225820391777414\n",
      "dark 0.3166695375513681\n",
      "felt 0.28081327490100655\n",
      "hell 0.20013903474599795\n"
     ]
    }
   ],
   "source": [
    "for i in range(len(X[185])):\n",
    "    if X[185][i]>0.2:\n",
    "        print(vectorizer.get_feature_names()[i],X[185][i])"
   ]
  },
  {
   "cell_type": "code",
   "execution_count": 243,
   "metadata": {},
   "outputs": [
    {
     "name": "stdout",
     "output_type": "stream",
     "text": [
      "dark 0.37732464583377107\n",
      "edge 0.22947328027728509\n",
      "finding 0.23228366744366505\n",
      "lonely 0.2384738077018113\n",
      "named 0.21159505103389137\n",
      "outstanding 0.21752104703951217\n",
      "path 0.23228366744366505\n",
      "twist 0.40628627164325243\n",
      "worker 0.22947328027728509\n"
     ]
    }
   ],
   "source": [
    "for i in range(len(X[201])):\n",
    "    if X[201][i]>0.2:\n",
    "        print(vectorizer.get_feature_names()[i],X[201][i])"
   ]
  },
  {
   "cell_type": "markdown",
   "metadata": {},
   "source": [
    "## features_importance = classifier.feature_importances_\n",
    "feature_names =vectorizer.get_feature_names()\n",
    " \n",
    "print(\"Feature ranking:\",len(feature_names))\n",
    "for i in range(len(features_importance)):\n",
    "    if(features_importance[i]>0.01):\n",
    "        if i!=len(features_importance)-1:\n",
    "            print(\"{} ({})\".format(feature_names[i], features_importance[i]))\n",
    "        else:\n",
    "            print(\"{} ({})\".format(\"rating\", features_importance[i]))"
   ]
  },
  {
   "cell_type": "code",
   "execution_count": 80,
   "metadata": {},
   "outputs": [],
   "source": [
    "from sklearn.metrics import classification_report, confusion_matrix, accuracy_score\n",
    "\n",
    "def predict(idMovie, vectorizer, tfidfconverter, classifier, pages=1):\n",
    "  rev = Reviews()\n",
    "  Extract_UserReview(idMovie, \"--\", rev, pages)\n",
    "  print(len(rev.data))\n",
    "  documents = preprocessing(rev.data, rev.target)\n",
    "  XX = vectorizer.transform(documents).toarray()\n",
    "  XX = tfidfconverter.transform(XX).toarray()\n",
    "  XX = np.vstack((np.transpose(XX),rev.rating))\n",
    "  XX = np.transpose (XX)\n",
    "  yy = rev.target\n",
    "\n",
    "  pred = classifier.predict_proba(XX)\n",
    "  print(pred)\n",
    "  sumprob_array = [sum(x)/len(x) for x in zip(*pred)]\n",
    "\n",
    "  y_pred = classifier.predict(XX)\n",
    "  conf_row = confusion_matrix(yy,y_pred)[0]\n",
    "  prob_array = [sum(x)/sum(conf_row) for x in zip(conf_row[1:len(conf_row)])]\n",
    "\n",
    "  return sumprob_array,prob_array"
   ]
  },
  {
   "cell_type": "code",
   "execution_count": 319,
   "metadata": {},
   "outputs": [
    {
     "data": {
      "text/plain": [
       "False"
      ]
     },
     "execution_count": 319,
     "metadata": {},
     "output_type": "execute_result"
    }
   ],
   "source": [
    "\"tt0166924\" in keys"
   ]
  },
  {
   "cell_type": "code",
   "execution_count": 305,
   "metadata": {},
   "outputs": [
    {
     "data": {
      "text/plain": [
       "['tt0162346',\n",
       " 'tt1100048',\n",
       " 'tt0286751',\n",
       " 'tt0430357',\n",
       " 'tt0407887',\n",
       " 'tt0842929',\n",
       " 'tt0317705',\n",
       " 'tt0460829',\n",
       " 'tt0216605',\n",
       " 'tt0302674']"
      ]
     },
     "execution_count": 305,
     "metadata": {},
     "output_type": "execute_result"
    }
   ],
   "source": [
    "keys"
   ]
  },
  {
   "cell_type": "code",
   "execution_count": 320,
   "metadata": {},
   "outputs": [
    {
     "name": "stdout",
     "output_type": "stream",
     "text": [
      "25\n",
      "tt0477348 False [0.9280000000000002, 0.072]\n",
      "25\n",
      "tt0407887 True [0.784, 0.21600000000000005]\n",
      "25\n",
      "tt0245429 False [0.9120000000000001, 0.08800000000000001]\n",
      "25\n",
      "tt0443706 False [0.8960000000000001, 0.10400000000000001]\n",
      "25\n",
      "tt0421715 False [0.96, 0.04]\n",
      "25\n",
      "tt0209144 False [0.9520000000000001, 0.048]\n",
      "25\n",
      "tt0206634 False [0.9280000000000002, 0.07200000000000001]\n",
      "25\n",
      "tt0338013 False [0.9359999999999999, 0.064]\n",
      "25\n",
      "tt0266697 False [0.96, 0.04]\n",
      "25\n",
      "tt0469494 False [0.9520000000000002, 0.048]\n",
      "25\n",
      "tt0364569 False [0.9040000000000002, 0.09600000000000002]\n",
      "25\n",
      "tt0253474 False [0.9440000000000001, 0.05600000000000001]\n",
      "25\n",
      "tt0166924 False [0.8240000000000002, 0.17600000000000002]\n",
      "25\n",
      "tt0327056 False [0.96, 0.04]\n",
      "25\n",
      "tt1205489 False [0.9440000000000002, 0.055999999999999994]\n",
      "25\n",
      "tt0246578 False [0.8800000000000001, 0.12]\n",
      "25\n",
      "tt0405159 False [0.92, 0.08]\n",
      "25\n",
      "tt0457430 False [0.9200000000000002, 0.07999999999999999]\n",
      "25\n",
      "tt0378194 False [0.976, 0.024000000000000004]\n",
      "25\n",
      "tt0388795 False [0.9600000000000002, 0.04]\n",
      "25\n",
      "tt0317705 True [0.736, 0.264]\n",
      "25\n",
      "tt1028528 False [0.992, 0.008]\n",
      "25\n",
      "tt0335266 False [0.9280000000000002, 0.07200000000000001]\n",
      "25\n",
      "tt0353969 False [0.9040000000000002, 0.096]\n",
      "25\n",
      "tt0405094 False [0.9600000000000002, 0.04]\n",
      "25\n",
      "tt0910970 False [0.888, 0.11200000000000002]\n",
      "25\n",
      "tt0290673 False [0.9200000000000003, 0.08]\n",
      "25\n",
      "tt0369339 False [0.936, 0.064]\n",
      "25\n",
      "tt0245574 False [0.9200000000000002, 0.07999999999999999]\n",
      "25\n",
      "tt0887912 False [0.96, 0.04]\n",
      "25\n",
      "tt0430357 True [0.7280000000000002, 0.2720000000000001]\n",
      "25\n",
      "tt0468492 False [0.936, 0.064]\n",
      "25\n",
      "tt0399146 False [0.9440000000000001, 0.05600000000000001]\n",
      "25\n",
      "tt0212720 False [0.9280000000000002, 0.07200000000000001]\n",
      "25\n",
      "tt0443680 False [0.9440000000000002, 0.05600000000000001]\n",
      "25\n",
      "tt0265666 False [0.936, 0.064]\n",
      "25\n",
      "tt0280707 False [0.9040000000000002, 0.096]\n",
      "25\n",
      "tt0276919 False [0.9520000000000001, 0.048]\n",
      "25\n",
      "tt0118694 False [0.9680000000000001, 0.032]\n",
      "25\n",
      "tt0381681 False [0.9520000000000002, 0.048]\n",
      "25\n",
      "tt0272338 False [0.9440000000000001, 0.055999999999999994]\n",
      "25\n",
      "tt0268126 False [0.9520000000000002, 0.048]\n",
      "25\n",
      "tt0162346 True [0.48, 0.52]\n",
      "25\n",
      "tt0254686 False [0.9440000000000001, 0.055999999999999994]\n",
      "25\n",
      "tt0389557 False [0.8960000000000002, 0.10400000000000002]\n",
      "25\n",
      "tt0498380 False [0.936, 0.064]\n",
      "25\n",
      "tt1139797 False [0.9440000000000001, 0.05600000000000001]\n",
      "25\n",
      "tt0307901 False [0.9279999999999999, 0.07200000000000001]\n",
      "25\n",
      "tt0402399 False [0.9440000000000001, 0.055999999999999994]\n",
      "25\n",
      "tt1149362 False [0.936, 0.064]\n",
      "25\n",
      "tt0168629 False [0.9120000000000001, 0.088]\n",
      "25\n",
      "tt0460829 True [0.544, 0.45600000000000007]\n",
      "25\n",
      "tt0363589 False [0.8400000000000002, 0.16000000000000003]\n",
      "25\n",
      "tt0986233 False [0.968, 0.032]\n",
      "25\n",
      "tt0280665 False [0.9520000000000001, 0.048]\n",
      "25\n",
      "tt0368794 False [0.9200000000000002, 0.08]\n",
      "25\n",
      "tt0387898 False [0.904, 0.09600000000000002]\n"
     ]
    },
    {
     "ename": "KeyboardInterrupt",
     "evalue": "",
     "output_type": "error",
     "traceback": [
      "\u001b[1;31m---------------------------------------------------------------------------\u001b[0m",
      "\u001b[1;31mKeyboardInterrupt\u001b[0m                         Traceback (most recent call last)",
      "\u001b[1;32m<ipython-input-320-7f2a5696bf1b>\u001b[0m in \u001b[0;36m<module>\u001b[1;34m()\u001b[0m\n\u001b[0;32m      1\u001b[0m \u001b[1;32mfor\u001b[0m \u001b[0mid\u001b[0m \u001b[1;32min\u001b[0m \u001b[0mreviews\u001b[0m\u001b[1;33m:\u001b[0m\u001b[1;33m\u001b[0m\u001b[1;33m\u001b[0m\u001b[0m\n\u001b[1;32m----> 2\u001b[1;33m     \u001b[0msumprob_array\u001b[0m\u001b[1;33m,\u001b[0m\u001b[0mprob_array\u001b[0m \u001b[1;33m=\u001b[0m \u001b[0mpredict\u001b[0m\u001b[1;33m(\u001b[0m\u001b[0mid\u001b[0m\u001b[1;33m,\u001b[0m \u001b[0mvectorizer\u001b[0m\u001b[1;33m,\u001b[0m \u001b[0mtfidfconverter\u001b[0m\u001b[1;33m,\u001b[0m \u001b[0mclassifier\u001b[0m\u001b[1;33m,\u001b[0m \u001b[0mpages\u001b[0m\u001b[1;33m=\u001b[0m\u001b[1;36m1\u001b[0m\u001b[1;33m)\u001b[0m\u001b[1;33m\u001b[0m\u001b[1;33m\u001b[0m\u001b[0m\n\u001b[0m\u001b[0;32m      3\u001b[0m     \u001b[0mprint\u001b[0m\u001b[1;33m(\u001b[0m\u001b[0mid\u001b[0m\u001b[1;33m,\u001b[0m\u001b[0mid\u001b[0m \u001b[1;32min\u001b[0m \u001b[0mkeys\u001b[0m\u001b[1;33m,\u001b[0m\u001b[0msumprob_array\u001b[0m\u001b[1;33m)\u001b[0m\u001b[1;33m\u001b[0m\u001b[1;33m\u001b[0m\u001b[0m\n",
      "\u001b[1;32m<ipython-input-271-97aaab344a37>\u001b[0m in \u001b[0;36mpredict\u001b[1;34m(idMovie, vectorizer, tfidfconverter, classifier, pages)\u001b[0m\n\u001b[0;32m      3\u001b[0m \u001b[1;32mdef\u001b[0m \u001b[0mpredict\u001b[0m\u001b[1;33m(\u001b[0m\u001b[0midMovie\u001b[0m\u001b[1;33m,\u001b[0m \u001b[0mvectorizer\u001b[0m\u001b[1;33m,\u001b[0m \u001b[0mtfidfconverter\u001b[0m\u001b[1;33m,\u001b[0m \u001b[0mclassifier\u001b[0m\u001b[1;33m,\u001b[0m \u001b[0mpages\u001b[0m\u001b[1;33m=\u001b[0m\u001b[1;36m1\u001b[0m\u001b[1;33m)\u001b[0m\u001b[1;33m:\u001b[0m\u001b[1;33m\u001b[0m\u001b[1;33m\u001b[0m\u001b[0m\n\u001b[0;32m      4\u001b[0m   \u001b[0mrev\u001b[0m \u001b[1;33m=\u001b[0m \u001b[0mReviews\u001b[0m\u001b[1;33m(\u001b[0m\u001b[1;33m)\u001b[0m\u001b[1;33m\u001b[0m\u001b[1;33m\u001b[0m\u001b[0m\n\u001b[1;32m----> 5\u001b[1;33m   \u001b[0mExtract_UserReview\u001b[0m\u001b[1;33m(\u001b[0m\u001b[0midMovie\u001b[0m\u001b[1;33m,\u001b[0m \u001b[1;34m\"--\"\u001b[0m\u001b[1;33m,\u001b[0m \u001b[0mrev\u001b[0m\u001b[1;33m,\u001b[0m \u001b[0mpages\u001b[0m\u001b[1;33m)\u001b[0m\u001b[1;33m\u001b[0m\u001b[1;33m\u001b[0m\u001b[0m\n\u001b[0m\u001b[0;32m      6\u001b[0m   \u001b[0mprint\u001b[0m\u001b[1;33m(\u001b[0m\u001b[0mlen\u001b[0m\u001b[1;33m(\u001b[0m\u001b[0mrev\u001b[0m\u001b[1;33m.\u001b[0m\u001b[0mdata\u001b[0m\u001b[1;33m)\u001b[0m\u001b[1;33m)\u001b[0m\u001b[1;33m\u001b[0m\u001b[1;33m\u001b[0m\u001b[0m\n\u001b[0;32m      7\u001b[0m   \u001b[0mdocuments\u001b[0m \u001b[1;33m=\u001b[0m \u001b[0mpreprocessing\u001b[0m\u001b[1;33m(\u001b[0m\u001b[0mrev\u001b[0m\u001b[1;33m.\u001b[0m\u001b[0mdata\u001b[0m\u001b[1;33m,\u001b[0m \u001b[0mrev\u001b[0m\u001b[1;33m.\u001b[0m\u001b[0mtarget\u001b[0m\u001b[1;33m)\u001b[0m\u001b[1;33m\u001b[0m\u001b[1;33m\u001b[0m\u001b[0m\n",
      "\u001b[1;32m<ipython-input-108-1e91fabcb8f4>\u001b[0m in \u001b[0;36mExtract_UserReview\u001b[1;34m(imdbID, tag, reviews, pages_per_movie)\u001b[0m\n\u001b[0;32m     12\u001b[0m          \u001b[0murl\u001b[0m \u001b[1;33m=\u001b[0m \u001b[1;34m'https://www.imdb.com/title/{}/reviews/_ajax?sort=submissionDate&paginationKey={}'\u001b[0m\u001b[1;33m.\u001b[0m\u001b[0mformat\u001b[0m\u001b[1;33m(\u001b[0m\u001b[0mimdbID\u001b[0m\u001b[1;33m,\u001b[0m\u001b[0mkey\u001b[0m\u001b[1;33m)\u001b[0m\u001b[1;33m\u001b[0m\u001b[1;33m\u001b[0m\u001b[0m\n\u001b[0;32m     13\u001b[0m \u001b[1;33m\u001b[0m\u001b[0m\n\u001b[1;32m---> 14\u001b[1;33m        \u001b[0mdata\u001b[0m \u001b[1;33m=\u001b[0m \u001b[0mrequests\u001b[0m\u001b[1;33m.\u001b[0m\u001b[0mget\u001b[0m\u001b[1;33m(\u001b[0m\u001b[0murl\u001b[0m\u001b[1;33m)\u001b[0m\u001b[1;33m\u001b[0m\u001b[1;33m\u001b[0m\u001b[0m\n\u001b[0m\u001b[0;32m     15\u001b[0m        \u001b[0msoup\u001b[0m \u001b[1;33m=\u001b[0m \u001b[0mBeautifulSoup\u001b[0m\u001b[1;33m(\u001b[0m\u001b[0mdata\u001b[0m\u001b[1;33m.\u001b[0m\u001b[0mtext\u001b[0m\u001b[1;33m,\u001b[0m \u001b[1;34m'html.parser'\u001b[0m\u001b[1;33m)\u001b[0m\u001b[1;33m\u001b[0m\u001b[1;33m\u001b[0m\u001b[0m\n\u001b[0;32m     16\u001b[0m \u001b[1;33m\u001b[0m\u001b[0m\n",
      "\u001b[1;32mC:\\Users\\Dell\\Anaconda3\\lib\\site-packages\\requests\\api.py\u001b[0m in \u001b[0;36mget\u001b[1;34m(url, params, **kwargs)\u001b[0m\n\u001b[0;32m     73\u001b[0m \u001b[1;33m\u001b[0m\u001b[0m\n\u001b[0;32m     74\u001b[0m     \u001b[0mkwargs\u001b[0m\u001b[1;33m.\u001b[0m\u001b[0msetdefault\u001b[0m\u001b[1;33m(\u001b[0m\u001b[1;34m'allow_redirects'\u001b[0m\u001b[1;33m,\u001b[0m \u001b[1;32mTrue\u001b[0m\u001b[1;33m)\u001b[0m\u001b[1;33m\u001b[0m\u001b[1;33m\u001b[0m\u001b[0m\n\u001b[1;32m---> 75\u001b[1;33m     \u001b[1;32mreturn\u001b[0m \u001b[0mrequest\u001b[0m\u001b[1;33m(\u001b[0m\u001b[1;34m'get'\u001b[0m\u001b[1;33m,\u001b[0m \u001b[0murl\u001b[0m\u001b[1;33m,\u001b[0m \u001b[0mparams\u001b[0m\u001b[1;33m=\u001b[0m\u001b[0mparams\u001b[0m\u001b[1;33m,\u001b[0m \u001b[1;33m**\u001b[0m\u001b[0mkwargs\u001b[0m\u001b[1;33m)\u001b[0m\u001b[1;33m\u001b[0m\u001b[1;33m\u001b[0m\u001b[0m\n\u001b[0m\u001b[0;32m     76\u001b[0m \u001b[1;33m\u001b[0m\u001b[0m\n\u001b[0;32m     77\u001b[0m \u001b[1;33m\u001b[0m\u001b[0m\n",
      "\u001b[1;32mC:\\Users\\Dell\\Anaconda3\\lib\\site-packages\\requests\\api.py\u001b[0m in \u001b[0;36mrequest\u001b[1;34m(method, url, **kwargs)\u001b[0m\n\u001b[0;32m     58\u001b[0m     \u001b[1;31m# cases, and look like a memory leak in others.\u001b[0m\u001b[1;33m\u001b[0m\u001b[1;33m\u001b[0m\u001b[1;33m\u001b[0m\u001b[0m\n\u001b[0;32m     59\u001b[0m     \u001b[1;32mwith\u001b[0m \u001b[0msessions\u001b[0m\u001b[1;33m.\u001b[0m\u001b[0mSession\u001b[0m\u001b[1;33m(\u001b[0m\u001b[1;33m)\u001b[0m \u001b[1;32mas\u001b[0m \u001b[0msession\u001b[0m\u001b[1;33m:\u001b[0m\u001b[1;33m\u001b[0m\u001b[1;33m\u001b[0m\u001b[0m\n\u001b[1;32m---> 60\u001b[1;33m         \u001b[1;32mreturn\u001b[0m \u001b[0msession\u001b[0m\u001b[1;33m.\u001b[0m\u001b[0mrequest\u001b[0m\u001b[1;33m(\u001b[0m\u001b[0mmethod\u001b[0m\u001b[1;33m=\u001b[0m\u001b[0mmethod\u001b[0m\u001b[1;33m,\u001b[0m \u001b[0murl\u001b[0m\u001b[1;33m=\u001b[0m\u001b[0murl\u001b[0m\u001b[1;33m,\u001b[0m \u001b[1;33m**\u001b[0m\u001b[0mkwargs\u001b[0m\u001b[1;33m)\u001b[0m\u001b[1;33m\u001b[0m\u001b[1;33m\u001b[0m\u001b[0m\n\u001b[0m\u001b[0;32m     61\u001b[0m \u001b[1;33m\u001b[0m\u001b[0m\n\u001b[0;32m     62\u001b[0m \u001b[1;33m\u001b[0m\u001b[0m\n",
      "\u001b[1;32mC:\\Users\\Dell\\Anaconda3\\lib\\site-packages\\requests\\sessions.py\u001b[0m in \u001b[0;36mrequest\u001b[1;34m(self, method, url, params, data, headers, cookies, files, auth, timeout, allow_redirects, proxies, hooks, stream, verify, cert, json)\u001b[0m\n\u001b[0;32m    531\u001b[0m         }\n\u001b[0;32m    532\u001b[0m         \u001b[0msend_kwargs\u001b[0m\u001b[1;33m.\u001b[0m\u001b[0mupdate\u001b[0m\u001b[1;33m(\u001b[0m\u001b[0msettings\u001b[0m\u001b[1;33m)\u001b[0m\u001b[1;33m\u001b[0m\u001b[1;33m\u001b[0m\u001b[0m\n\u001b[1;32m--> 533\u001b[1;33m         \u001b[0mresp\u001b[0m \u001b[1;33m=\u001b[0m \u001b[0mself\u001b[0m\u001b[1;33m.\u001b[0m\u001b[0msend\u001b[0m\u001b[1;33m(\u001b[0m\u001b[0mprep\u001b[0m\u001b[1;33m,\u001b[0m \u001b[1;33m**\u001b[0m\u001b[0msend_kwargs\u001b[0m\u001b[1;33m)\u001b[0m\u001b[1;33m\u001b[0m\u001b[1;33m\u001b[0m\u001b[0m\n\u001b[0m\u001b[0;32m    534\u001b[0m \u001b[1;33m\u001b[0m\u001b[0m\n\u001b[0;32m    535\u001b[0m         \u001b[1;32mreturn\u001b[0m \u001b[0mresp\u001b[0m\u001b[1;33m\u001b[0m\u001b[1;33m\u001b[0m\u001b[0m\n",
      "\u001b[1;32mC:\\Users\\Dell\\Anaconda3\\lib\\site-packages\\requests\\sessions.py\u001b[0m in \u001b[0;36msend\u001b[1;34m(self, request, **kwargs)\u001b[0m\n\u001b[0;32m    644\u001b[0m \u001b[1;33m\u001b[0m\u001b[0m\n\u001b[0;32m    645\u001b[0m         \u001b[1;31m# Send the request\u001b[0m\u001b[1;33m\u001b[0m\u001b[1;33m\u001b[0m\u001b[1;33m\u001b[0m\u001b[0m\n\u001b[1;32m--> 646\u001b[1;33m         \u001b[0mr\u001b[0m \u001b[1;33m=\u001b[0m \u001b[0madapter\u001b[0m\u001b[1;33m.\u001b[0m\u001b[0msend\u001b[0m\u001b[1;33m(\u001b[0m\u001b[0mrequest\u001b[0m\u001b[1;33m,\u001b[0m \u001b[1;33m**\u001b[0m\u001b[0mkwargs\u001b[0m\u001b[1;33m)\u001b[0m\u001b[1;33m\u001b[0m\u001b[1;33m\u001b[0m\u001b[0m\n\u001b[0m\u001b[0;32m    647\u001b[0m \u001b[1;33m\u001b[0m\u001b[0m\n\u001b[0;32m    648\u001b[0m         \u001b[1;31m# Total elapsed time of the request (approximately)\u001b[0m\u001b[1;33m\u001b[0m\u001b[1;33m\u001b[0m\u001b[1;33m\u001b[0m\u001b[0m\n",
      "\u001b[1;32mC:\\Users\\Dell\\Anaconda3\\lib\\site-packages\\requests\\adapters.py\u001b[0m in \u001b[0;36msend\u001b[1;34m(self, request, stream, timeout, verify, cert, proxies)\u001b[0m\n\u001b[0;32m    447\u001b[0m                     \u001b[0mdecode_content\u001b[0m\u001b[1;33m=\u001b[0m\u001b[1;32mFalse\u001b[0m\u001b[1;33m,\u001b[0m\u001b[1;33m\u001b[0m\u001b[1;33m\u001b[0m\u001b[0m\n\u001b[0;32m    448\u001b[0m                     \u001b[0mretries\u001b[0m\u001b[1;33m=\u001b[0m\u001b[0mself\u001b[0m\u001b[1;33m.\u001b[0m\u001b[0mmax_retries\u001b[0m\u001b[1;33m,\u001b[0m\u001b[1;33m\u001b[0m\u001b[1;33m\u001b[0m\u001b[0m\n\u001b[1;32m--> 449\u001b[1;33m                     \u001b[0mtimeout\u001b[0m\u001b[1;33m=\u001b[0m\u001b[0mtimeout\u001b[0m\u001b[1;33m\u001b[0m\u001b[1;33m\u001b[0m\u001b[0m\n\u001b[0m\u001b[0;32m    450\u001b[0m                 )\n\u001b[0;32m    451\u001b[0m \u001b[1;33m\u001b[0m\u001b[0m\n",
      "\u001b[1;32mC:\\Users\\Dell\\Anaconda3\\lib\\site-packages\\urllib3\\connectionpool.py\u001b[0m in \u001b[0;36murlopen\u001b[1;34m(self, method, url, body, headers, retries, redirect, assert_same_host, timeout, pool_timeout, release_conn, chunked, body_pos, **response_kw)\u001b[0m\n\u001b[0;32m    670\u001b[0m                 \u001b[0mbody\u001b[0m\u001b[1;33m=\u001b[0m\u001b[0mbody\u001b[0m\u001b[1;33m,\u001b[0m\u001b[1;33m\u001b[0m\u001b[1;33m\u001b[0m\u001b[0m\n\u001b[0;32m    671\u001b[0m                 \u001b[0mheaders\u001b[0m\u001b[1;33m=\u001b[0m\u001b[0mheaders\u001b[0m\u001b[1;33m,\u001b[0m\u001b[1;33m\u001b[0m\u001b[1;33m\u001b[0m\u001b[0m\n\u001b[1;32m--> 672\u001b[1;33m                 \u001b[0mchunked\u001b[0m\u001b[1;33m=\u001b[0m\u001b[0mchunked\u001b[0m\u001b[1;33m,\u001b[0m\u001b[1;33m\u001b[0m\u001b[1;33m\u001b[0m\u001b[0m\n\u001b[0m\u001b[0;32m    673\u001b[0m             )\n\u001b[0;32m    674\u001b[0m \u001b[1;33m\u001b[0m\u001b[0m\n",
      "\u001b[1;32mC:\\Users\\Dell\\Anaconda3\\lib\\site-packages\\urllib3\\connectionpool.py\u001b[0m in \u001b[0;36m_make_request\u001b[1;34m(self, conn, method, url, timeout, chunked, **httplib_request_kw)\u001b[0m\n\u001b[0;32m    374\u001b[0m         \u001b[1;31m# Trigger any extra validation we need to do.\u001b[0m\u001b[1;33m\u001b[0m\u001b[1;33m\u001b[0m\u001b[1;33m\u001b[0m\u001b[0m\n\u001b[0;32m    375\u001b[0m         \u001b[1;32mtry\u001b[0m\u001b[1;33m:\u001b[0m\u001b[1;33m\u001b[0m\u001b[1;33m\u001b[0m\u001b[0m\n\u001b[1;32m--> 376\u001b[1;33m             \u001b[0mself\u001b[0m\u001b[1;33m.\u001b[0m\u001b[0m_validate_conn\u001b[0m\u001b[1;33m(\u001b[0m\u001b[0mconn\u001b[0m\u001b[1;33m)\u001b[0m\u001b[1;33m\u001b[0m\u001b[1;33m\u001b[0m\u001b[0m\n\u001b[0m\u001b[0;32m    377\u001b[0m         \u001b[1;32mexcept\u001b[0m \u001b[1;33m(\u001b[0m\u001b[0mSocketTimeout\u001b[0m\u001b[1;33m,\u001b[0m \u001b[0mBaseSSLError\u001b[0m\u001b[1;33m)\u001b[0m \u001b[1;32mas\u001b[0m \u001b[0me\u001b[0m\u001b[1;33m:\u001b[0m\u001b[1;33m\u001b[0m\u001b[1;33m\u001b[0m\u001b[0m\n\u001b[0;32m    378\u001b[0m             \u001b[1;31m# Py2 raises this as a BaseSSLError, Py3 raises it as socket timeout.\u001b[0m\u001b[1;33m\u001b[0m\u001b[1;33m\u001b[0m\u001b[1;33m\u001b[0m\u001b[0m\n",
      "\u001b[1;32mC:\\Users\\Dell\\Anaconda3\\lib\\site-packages\\urllib3\\connectionpool.py\u001b[0m in \u001b[0;36m_validate_conn\u001b[1;34m(self, conn)\u001b[0m\n\u001b[0;32m    992\u001b[0m         \u001b[1;31m# Force connect early to allow us to validate the connection.\u001b[0m\u001b[1;33m\u001b[0m\u001b[1;33m\u001b[0m\u001b[1;33m\u001b[0m\u001b[0m\n\u001b[0;32m    993\u001b[0m         \u001b[1;32mif\u001b[0m \u001b[1;32mnot\u001b[0m \u001b[0mgetattr\u001b[0m\u001b[1;33m(\u001b[0m\u001b[0mconn\u001b[0m\u001b[1;33m,\u001b[0m \u001b[1;34m\"sock\"\u001b[0m\u001b[1;33m,\u001b[0m \u001b[1;32mNone\u001b[0m\u001b[1;33m)\u001b[0m\u001b[1;33m:\u001b[0m  \u001b[1;31m# AppEngine might not have  `.sock`\u001b[0m\u001b[1;33m\u001b[0m\u001b[1;33m\u001b[0m\u001b[0m\n\u001b[1;32m--> 994\u001b[1;33m             \u001b[0mconn\u001b[0m\u001b[1;33m.\u001b[0m\u001b[0mconnect\u001b[0m\u001b[1;33m(\u001b[0m\u001b[1;33m)\u001b[0m\u001b[1;33m\u001b[0m\u001b[1;33m\u001b[0m\u001b[0m\n\u001b[0m\u001b[0;32m    995\u001b[0m \u001b[1;33m\u001b[0m\u001b[0m\n\u001b[0;32m    996\u001b[0m         \u001b[1;32mif\u001b[0m \u001b[1;32mnot\u001b[0m \u001b[0mconn\u001b[0m\u001b[1;33m.\u001b[0m\u001b[0mis_verified\u001b[0m\u001b[1;33m:\u001b[0m\u001b[1;33m\u001b[0m\u001b[1;33m\u001b[0m\u001b[0m\n",
      "\u001b[1;32mC:\\Users\\Dell\\Anaconda3\\lib\\site-packages\\urllib3\\connection.py\u001b[0m in \u001b[0;36mconnect\u001b[1;34m(self)\u001b[0m\n\u001b[0;32m    392\u001b[0m             \u001b[0mca_cert_dir\u001b[0m\u001b[1;33m=\u001b[0m\u001b[0mself\u001b[0m\u001b[1;33m.\u001b[0m\u001b[0mca_cert_dir\u001b[0m\u001b[1;33m,\u001b[0m\u001b[1;33m\u001b[0m\u001b[1;33m\u001b[0m\u001b[0m\n\u001b[0;32m    393\u001b[0m             \u001b[0mserver_hostname\u001b[0m\u001b[1;33m=\u001b[0m\u001b[0mserver_hostname\u001b[0m\u001b[1;33m,\u001b[0m\u001b[1;33m\u001b[0m\u001b[1;33m\u001b[0m\u001b[0m\n\u001b[1;32m--> 394\u001b[1;33m             \u001b[0mssl_context\u001b[0m\u001b[1;33m=\u001b[0m\u001b[0mcontext\u001b[0m\u001b[1;33m,\u001b[0m\u001b[1;33m\u001b[0m\u001b[1;33m\u001b[0m\u001b[0m\n\u001b[0m\u001b[0;32m    395\u001b[0m         )\n\u001b[0;32m    396\u001b[0m \u001b[1;33m\u001b[0m\u001b[0m\n",
      "\u001b[1;32mC:\\Users\\Dell\\Anaconda3\\lib\\site-packages\\urllib3\\util\\ssl_.py\u001b[0m in \u001b[0;36mssl_wrap_socket\u001b[1;34m(sock, keyfile, certfile, cert_reqs, ca_certs, server_hostname, ssl_version, ciphers, ssl_context, ca_cert_dir, key_password)\u001b[0m\n\u001b[0;32m    368\u001b[0m     ) or IS_SECURETRANSPORT:\n\u001b[0;32m    369\u001b[0m         \u001b[1;32mif\u001b[0m \u001b[0mHAS_SNI\u001b[0m \u001b[1;32mand\u001b[0m \u001b[0mserver_hostname\u001b[0m \u001b[1;32mis\u001b[0m \u001b[1;32mnot\u001b[0m \u001b[1;32mNone\u001b[0m\u001b[1;33m:\u001b[0m\u001b[1;33m\u001b[0m\u001b[1;33m\u001b[0m\u001b[0m\n\u001b[1;32m--> 370\u001b[1;33m             \u001b[1;32mreturn\u001b[0m \u001b[0mcontext\u001b[0m\u001b[1;33m.\u001b[0m\u001b[0mwrap_socket\u001b[0m\u001b[1;33m(\u001b[0m\u001b[0msock\u001b[0m\u001b[1;33m,\u001b[0m \u001b[0mserver_hostname\u001b[0m\u001b[1;33m=\u001b[0m\u001b[0mserver_hostname\u001b[0m\u001b[1;33m)\u001b[0m\u001b[1;33m\u001b[0m\u001b[1;33m\u001b[0m\u001b[0m\n\u001b[0m\u001b[0;32m    371\u001b[0m \u001b[1;33m\u001b[0m\u001b[0m\n\u001b[0;32m    372\u001b[0m         warnings.warn(\n",
      "\u001b[1;32mC:\\Users\\Dell\\Anaconda3\\lib\\site-packages\\urllib3\\contrib\\pyopenssl.py\u001b[0m in \u001b[0;36mwrap_socket\u001b[1;34m(self, sock, server_side, do_handshake_on_connect, suppress_ragged_eofs, server_hostname)\u001b[0m\n\u001b[0;32m    483\u001b[0m         \u001b[1;32mwhile\u001b[0m \u001b[1;32mTrue\u001b[0m\u001b[1;33m:\u001b[0m\u001b[1;33m\u001b[0m\u001b[1;33m\u001b[0m\u001b[0m\n\u001b[0;32m    484\u001b[0m             \u001b[1;32mtry\u001b[0m\u001b[1;33m:\u001b[0m\u001b[1;33m\u001b[0m\u001b[1;33m\u001b[0m\u001b[0m\n\u001b[1;32m--> 485\u001b[1;33m                 \u001b[0mcnx\u001b[0m\u001b[1;33m.\u001b[0m\u001b[0mdo_handshake\u001b[0m\u001b[1;33m(\u001b[0m\u001b[1;33m)\u001b[0m\u001b[1;33m\u001b[0m\u001b[1;33m\u001b[0m\u001b[0m\n\u001b[0m\u001b[0;32m    486\u001b[0m             \u001b[1;32mexcept\u001b[0m \u001b[0mOpenSSL\u001b[0m\u001b[1;33m.\u001b[0m\u001b[0mSSL\u001b[0m\u001b[1;33m.\u001b[0m\u001b[0mWantReadError\u001b[0m\u001b[1;33m:\u001b[0m\u001b[1;33m\u001b[0m\u001b[1;33m\u001b[0m\u001b[0m\n\u001b[0;32m    487\u001b[0m                 \u001b[1;32mif\u001b[0m \u001b[1;32mnot\u001b[0m \u001b[0mutil\u001b[0m\u001b[1;33m.\u001b[0m\u001b[0mwait_for_read\u001b[0m\u001b[1;33m(\u001b[0m\u001b[0msock\u001b[0m\u001b[1;33m,\u001b[0m \u001b[0msock\u001b[0m\u001b[1;33m.\u001b[0m\u001b[0mgettimeout\u001b[0m\u001b[1;33m(\u001b[0m\u001b[1;33m)\u001b[0m\u001b[1;33m)\u001b[0m\u001b[1;33m:\u001b[0m\u001b[1;33m\u001b[0m\u001b[1;33m\u001b[0m\u001b[0m\n",
      "\u001b[1;32mC:\\Users\\Dell\\Anaconda3\\lib\\site-packages\\OpenSSL\\SSL.py\u001b[0m in \u001b[0;36mdo_handshake\u001b[1;34m(self)\u001b[0m\n\u001b[0;32m   1931\u001b[0m         \u001b[1;33m:\u001b[0m\u001b[1;32mreturn\u001b[0m\u001b[1;33m:\u001b[0m \u001b[1;32mNone\u001b[0m\u001b[1;33m.\u001b[0m\u001b[1;33m\u001b[0m\u001b[1;33m\u001b[0m\u001b[0m\n\u001b[0;32m   1932\u001b[0m         \"\"\"\n\u001b[1;32m-> 1933\u001b[1;33m         \u001b[0mresult\u001b[0m \u001b[1;33m=\u001b[0m \u001b[0m_lib\u001b[0m\u001b[1;33m.\u001b[0m\u001b[0mSSL_do_handshake\u001b[0m\u001b[1;33m(\u001b[0m\u001b[0mself\u001b[0m\u001b[1;33m.\u001b[0m\u001b[0m_ssl\u001b[0m\u001b[1;33m)\u001b[0m\u001b[1;33m\u001b[0m\u001b[1;33m\u001b[0m\u001b[0m\n\u001b[0m\u001b[0;32m   1934\u001b[0m         \u001b[0mself\u001b[0m\u001b[1;33m.\u001b[0m\u001b[0m_raise_ssl_error\u001b[0m\u001b[1;33m(\u001b[0m\u001b[0mself\u001b[0m\u001b[1;33m.\u001b[0m\u001b[0m_ssl\u001b[0m\u001b[1;33m,\u001b[0m \u001b[0mresult\u001b[0m\u001b[1;33m)\u001b[0m\u001b[1;33m\u001b[0m\u001b[1;33m\u001b[0m\u001b[0m\n\u001b[0;32m   1935\u001b[0m \u001b[1;33m\u001b[0m\u001b[0m\n",
      "\u001b[1;31mKeyboardInterrupt\u001b[0m: "
     ]
    }
   ],
   "source": [
    "for id in reviews:\n",
    "    sumprob_array,prob_array = predict(id, vectorizer, tfidfconverter, classifier, pages=1)\n",
    "    print(id,id in keys,sumprob_array)"
   ]
  },
  {
   "cell_type": "code",
   "execution_count": null,
   "metadata": {},
   "outputs": [],
   "source": []
  }
 ],
 "metadata": {
  "kernelspec": {
   "display_name": "Python 3",
   "language": "python",
   "name": "python3"
  },
  "language_info": {
   "codemirror_mode": {
    "name": "ipython",
    "version": 3
   },
   "file_extension": ".py",
   "mimetype": "text/x-python",
   "name": "python",
   "nbconvert_exporter": "python",
   "pygments_lexer": "ipython3",
   "version": "3.7.3"
  }
 },
 "nbformat": 4,
 "nbformat_minor": 4
}

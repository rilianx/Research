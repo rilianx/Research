{
 "cells": [
  {
   "cell_type": "code",
   "execution_count": 2,
   "metadata": {},
   "outputs": [],
   "source": [
    "from b1 import *\n",
    "from urllib.request import urlopen\n",
    "import json\n",
    "import numpy as np\n",
    "import pandas as pd\n",
    "import os\n",
    "import copy\n",
    "import math\n",
    "import statistics\n",
    "import sklearn.metrics as metrics\n",
    " \n",
    "# Evitar truncar data mostrada al usar jupyter notebook\n",
    "pd.set_option('display.max_rows', None)\n",
    "pd.set_option('display.max_columns', None)\n",
    " \n",
    "# Constante que aloja el diccionario JSON con toda la data\n",
    "DATA = None\n",
    "\n",
    "# Obtener data JSON\n",
    "if os.path.exists('./out/dataout.json'):\n",
    "    DATA = json.load(open('./out/dataout.json', 'r'))\n",
    "else:\n",
    "    data_url = urlopen('http://nutriexcel.cl/UMDU/dataout_v2.json')\n",
    "    DATA = json.loads(data_url.read())"
   ]
  },
  {
   "cell_type": "code",
   "execution_count": 3,
   "metadata": {},
   "outputs": [],
   "source": [
    "#@title **Parameters**\n",
    "\n",
    "# Objective vector\n",
    "TARGET = 'np'\n",
    "NORM_TYPE = 'col'\n",
    "N_FEATURES = 5\n",
    " \n",
    " \n",
    "# Import needed libraries ----------------------------------------\n",
    "from sklearn.model_selection import GridSearchCV, train_test_split\n",
    "from sklearn.pipeline import Pipeline\n",
    "from sklearn.feature_selection import RFE, SelectFromModel\n",
    "from sklearn.ensemble import GradientBoostingRegressor\n",
    "import sklearn.metrics as metrics\n",
    "from sklearn.model_selection import KFold\n",
    " \n",
    "random_state = None # Random state for train_test_split"
   ]
  },
  {
   "cell_type": "code",
   "execution_count": 35,
   "metadata": {},
   "outputs": [],
   "source": [
    "from sklearn.preprocessing import StandardScaler\n",
    "\n",
    "cursos = ['7','13','19','24','30','36']\n",
    "datalab_norm = []\n",
    "for i in range(1,5):\n",
    "\n",
    "    # CursoData retorna el curso de los alumnos del lab Correspondiente\n",
    "    datalab_all,cursoData = get_custom_dataframe(DATA, [i], [TARGET], 'all', labels=True, index=None)\n",
    "\n",
    "    #@title **Data preparation**\n",
    "\n",
    "    datalab = copy.deepcopy(datalab_all)\n",
    "    #print(datalab1_all)\n",
    "\n",
    "    # Group columns\n",
    "    datalab = apply(datalab, 'dis_lab'+str(i), norm_log, replace=True)\n",
    "    datalab = apply(datalab, 'qat?', max, replace=False)\n",
    "    datalab = apply(datalab, 'qat?', sum, replace=True)\n",
    "    datalab = apply(datalab, 'max(qat$_lab'+str(i)+')', norm_log, replace=True)\n",
    "    datalab = apply(datalab, 'sum(qat$_lab'+str(i)+')', norm_log, replace=True)\n",
    "    datalab = apply(datalab, 'qmsr?', statistics.mean)\n",
    "    datalab = datalab.round(4)\n",
    "\n",
    "    # Se transforma a dataframe la info de ese curso en particular\n",
    "    cursoDF = pd.DataFrame(cursoData,columns=['curso'])\n",
    "\n",
    "\n",
    "    # Se concatenan los dos dataframes \n",
    "    dfFinlab = pd.concat([datalab,cursoDF],axis=1)\n",
    "\n",
    "    first = True\n",
    "    for curso in cursos:\n",
    "        # Filtrar por curso\n",
    "        dfLabCurso = pd.DataFrame(dfFinlab.loc[dfFinlab['curso']==curso])\n",
    "\n",
    "        aux = dfLabCurso['mean(qmsr$_lab'+str(i)+')'].replace(0, (np.mean(dfLabCurso['mean(qmsr$_lab'+str(i)+')']))).copy()\n",
    "        dfLabCurso['mean(qmsr$_lab'+str(i)+')']=aux\n",
    "\n",
    "\n",
    "        scaler1 = StandardScaler()\n",
    "\n",
    "        # Se obtiene la columna con el promedio del curso X\n",
    "        promCurso = pd.DataFrame(dfLabCurso.reset_index()[TARGET])\n",
    "\n",
    "\n",
    "        # Se obtiene los datos del curso X para el lab Y normalizados Excluyendo la fila mean(p$p2)\n",
    "        # ------------               Función que normaliza la data      , el nombre de las col a colocar en el DF  [desde cual columna hasta cual]\n",
    "        DFnormalizado = pd.DataFrame(scaler1.fit_transform(dfLabCurso),columns=dfLabCurso.columns)[dfLabCurso.columns[1:14]]\n",
    "\n",
    "        datalabNormc = pd.concat([promCurso,DFnormalizado],axis=1)\n",
    "\n",
    "\n",
    "        if first: datalab_norm.append(datalabNormc); first=False\n",
    "        else: datalab_norm[i-1] = pd.concat([datalab_norm[i-1],datalabNormc], axis=0)\n",
    "\n",
    "        datalab_norm[i-1] = datalab_norm[i-1].reset_index(drop = True)\n",
    "\n",
    "#datalab1_norm"
   ]
  },
  {
   "cell_type": "code",
   "execution_count": 43,
   "metadata": {},
   "outputs": [
    {
     "name": "stderr",
     "output_type": "stream",
     "text": [
      "C:\\Users\\Dell\\Anaconda3\\lib\\site-packages\\ipykernel_launcher.py:3: FutureWarning: set_axis currently defaults to operating inplace.\n",
      "This will change in a future version of pandas, use inplace=True to avoid this warning.\n",
      "  This is separate from the ipykernel package so we can avoid doing imports until\n"
     ]
    },
    {
     "data": {
      "image/png": "[encoded data removed]",
      "text/plain": [
       "<Figure size 432x288 with 2 Axes>"
      ]
     },
     "metadata": {
      "needs_background": "light"
     },
     "output_type": "display_data"
    }
   ],
   "source": [
    "import seaborn as sn\n",
    "import matplotlib.pyplot as plt\n",
    "datalab = datalab_norm[2].set_axis(['np', 'g_3', 'pca_3', 't_3' ,'rct_3', 'ret_3', 'rer_3', 'dis_3', 'qI_3', 'qII_3', 'qIII_3', 'a_3', 'sr_3', 'ma_3'], axis=1)\n",
    "\n",
    "corrMatrix = datalab_norm[2].corr()\n",
    "sn.heatmap(corrMatrix, annot=False, cmap=sn.color_palette(\"Greys\"))\n",
    "plt.savefig(\"corr_lab3.png\")\n",
    "plt.show()\n"
   ]
  },
  {
   "cell_type": "code",
   "execution_count": 44,
   "metadata": {},
   "outputs": [
    {
     "name": "stderr",
     "output_type": "stream",
     "text": [
      "C:\\Users\\Dell\\Anaconda3\\lib\\site-packages\\ipykernel_launcher.py:3: FutureWarning: set_axis currently defaults to operating inplace.\n",
      "This will change in a future version of pandas, use inplace=True to avoid this warning.\n",
      "  This is separate from the ipykernel package so we can avoid doing imports until\n"
     ]
    },
    {
     "data": {
      "image/png": "[encoded data removed]",
      "text/plain": [
       "<Figure size 432x288 with 2 Axes>"
      ]
     },
     "metadata": {
      "needs_background": "light"
     },
     "output_type": "display_data"
    }
   ],
   "source": [
    "import seaborn as sn\n",
    "import matplotlib.pyplot as plt\n",
    "datalab = datalab_norm[3].set_axis(['np', 'g_4', 'pca_4', 't_4' ,'rct_4', 'ret_4', 'rer_4', 'dis_4', 'qI_4', 'qII_4', 'qIII_4', 'a_4', 'sr_4', 'ma_4'], axis=1)\n",
    "\n",
    "corrMatrix = datalab_norm[3].corr()\n",
    "sn.heatmap(corrMatrix, annot=False, cmap=sn.color_palette(\"Greys\"))\n",
    "plt.savefig(\"corr_lab4.png\")\n",
    "plt.show()\n"
   ]
  },
  {
   "cell_type": "markdown",
   "metadata": {},
   "source": [
    "### MODELS"
   ]
  },
  {
   "cell_type": "code",
   "execution_count": 39,
   "metadata": {},
   "outputs": [],
   "source": [
    "#@title **Grid/Random-SearchCV process**   \n",
    " \n",
    "def run_process(dataset, grid_cv, target=TARGET):\n",
    "    X, y = dataset.drop(target, axis=1), np.array(dataset[target])\n",
    "   \n",
    "    grid_cv.fit(X,y)\n",
    "    print('R2:', max(grid_cv.cv_results_['mean_test_score']))\n",
    "    \n",
    "    try:\n",
    "        selected_features = X.columns[grid_cv.best_estimator_.steps[0][-1].get_support()]\n",
    "    except:\n",
    "        return list(dataset.columns[1:])\n",
    "    \n",
    "    return list(selected_features)"
   ]
  },
  {
   "cell_type": "code",
   "execution_count": 40,
   "metadata": {},
   "outputs": [],
   "source": [
    "#@title **Random Forest Regressor** \n",
    "\n",
    "from sklearn.ensemble import  RandomForestRegressor\n",
    " \n",
    "estimator = RandomForestRegressor(random_state=1, n_jobs=-1)\n",
    " \n",
    "params = {\n",
    "    'n_estimators'  : [50,100,200,400],\n",
    "    'criterion'     : ['mse','mae'],\n",
    "    'max_features'  : ['auto','sqrt','log2'],\n",
    "    'max_depth'     : [5]\n",
    "}\n",
    " \n",
    "grid_rfr = GridSearchCV(estimator=estimator,\n",
    "                        param_grid=params,\n",
    "                        scoring='r2',\n",
    "                        verbose=1,\n",
    "                        n_jobs=-1,\n",
    "                        return_train_score=True,\n",
    "                        cv=KFold(n_splits=10, shuffle=False))"
   ]
  },
  {
   "cell_type": "code",
   "execution_count": 8,
   "metadata": {},
   "outputs": [
    {
     "name": "stdout",
     "output_type": "stream",
     "text": [
      "Fitting 10 folds for each of 72 candidates, totalling 720 fits\n"
     ]
    },
    {
     "name": "stderr",
     "output_type": "stream",
     "text": [
      "[Parallel(n_jobs=-1)]: Using backend LokyBackend with 4 concurrent workers.\n",
      "[Parallel(n_jobs=-1)]: Done  42 tasks      | elapsed:   15.0s\n",
      "[Parallel(n_jobs=-1)]: Done 192 tasks      | elapsed:  1.3min\n",
      "[Parallel(n_jobs=-1)]: Done 442 tasks      | elapsed:  3.1min\n",
      "[Parallel(n_jobs=-1)]: Done 720 out of 720 | elapsed:  6.2min finished\n"
     ]
    },
    {
     "name": "stdout",
     "output_type": "stream",
     "text": [
      "R2: 0.3111178224189947\n"
     ]
    }
   ],
   "source": [
    "dataset = datalab_norm[2]\n",
    "dataset_shuffle = dataset.sample(frac=1,random_state=1).reset_index(drop=True)\n",
    "dataset_shuffle=dataset_shuffle[dataset_shuffle.np>1]\n",
    "att_rfr=run_process(dataset_shuffle,grid_rfr)"
   ]
  },
  {
   "cell_type": "code",
   "execution_count": 24,
   "metadata": {},
   "outputs": [
    {
     "name": "stdout",
     "output_type": "stream",
     "text": [
      "Fitting 10 folds for each of 72 candidates, totalling 720 fits\n"
     ]
    },
    {
     "name": "stderr",
     "output_type": "stream",
     "text": [
      "[Parallel(n_jobs=-1)]: Using backend LokyBackend with 4 concurrent workers.\n",
      "[Parallel(n_jobs=-1)]: Done  42 tasks      | elapsed:   15.3s\n",
      "[Parallel(n_jobs=-1)]: Done 192 tasks      | elapsed:  1.3min\n",
      "[Parallel(n_jobs=-1)]: Done 442 tasks      | elapsed:  3.4min\n",
      "[Parallel(n_jobs=-1)]: Done 720 out of 720 | elapsed:  6.8min finished\n"
     ]
    },
    {
     "name": "stdout",
     "output_type": "stream",
     "text": [
      "R2: 0.14577809480691073\n"
     ]
    }
   ],
   "source": [
    "dataset = datalab_norm[3]\n",
    "dataset_shuffle = dataset.sample(frac=1,random_state=1).reset_index(drop=True)\n",
    "dataset_shuffle=dataset_shuffle[dataset_shuffle.np>1]\n",
    "att_rfr=run_process(dataset_shuffle,grid_rfr)"
   ]
  },
  {
   "cell_type": "code",
   "execution_count": 41,
   "metadata": {},
   "outputs": [
    {
     "name": "stdout",
     "output_type": "stream",
     "text": [
      "Fitting 10 folds for each of 24 candidates, totalling 240 fits\n"
     ]
    },
    {
     "name": "stderr",
     "output_type": "stream",
     "text": [
      "[Parallel(n_jobs=-1)]: Using backend LokyBackend with 4 concurrent workers.\n"
     ]
    },
    {
     "ename": "KeyboardInterrupt",
     "evalue": "",
     "output_type": "error",
     "traceback": [
      "\u001b[1;31m---------------------------------------------------------------------------\u001b[0m",
      "\u001b[1;31mKeyboardInterrupt\u001b[0m                         Traceback (most recent call last)",
      "\u001b[1;32m<ipython-input-41-da504567367b>\u001b[0m in \u001b[0;36m<module>\u001b[1;34m()\u001b[0m\n\u001b[0;32m      2\u001b[0m \u001b[0mdataset_shuffle\u001b[0m \u001b[1;33m=\u001b[0m \u001b[0mdataset\u001b[0m\u001b[1;33m.\u001b[0m\u001b[0msample\u001b[0m\u001b[1;33m(\u001b[0m\u001b[0mfrac\u001b[0m\u001b[1;33m=\u001b[0m\u001b[1;36m1\u001b[0m\u001b[1;33m,\u001b[0m\u001b[0mrandom_state\u001b[0m\u001b[1;33m=\u001b[0m\u001b[1;36m1\u001b[0m\u001b[1;33m)\u001b[0m\u001b[1;33m.\u001b[0m\u001b[0mreset_index\u001b[0m\u001b[1;33m(\u001b[0m\u001b[0mdrop\u001b[0m\u001b[1;33m=\u001b[0m\u001b[1;32mTrue\u001b[0m\u001b[1;33m)\u001b[0m\u001b[1;33m\u001b[0m\u001b[1;33m\u001b[0m\u001b[0m\n\u001b[0;32m      3\u001b[0m \u001b[0mdataset_shuffle\u001b[0m\u001b[1;33m=\u001b[0m\u001b[0mdataset_shuffle\u001b[0m\u001b[1;33m[\u001b[0m\u001b[0mdataset_shuffle\u001b[0m\u001b[1;33m.\u001b[0m\u001b[0mnp\u001b[0m\u001b[1;33m>\u001b[0m\u001b[1;36m1\u001b[0m\u001b[1;33m]\u001b[0m\u001b[1;33m\u001b[0m\u001b[1;33m\u001b[0m\u001b[0m\n\u001b[1;32m----> 4\u001b[1;33m \u001b[0matt_rfr\u001b[0m\u001b[1;33m=\u001b[0m\u001b[0mrun_process\u001b[0m\u001b[1;33m(\u001b[0m\u001b[0mdataset_shuffle\u001b[0m\u001b[1;33m,\u001b[0m\u001b[0mgrid_rfr\u001b[0m\u001b[1;33m)\u001b[0m\u001b[1;33m\u001b[0m\u001b[1;33m\u001b[0m\u001b[0m\n\u001b[0m",
      "\u001b[1;32m<ipython-input-39-01291edc10a3>\u001b[0m in \u001b[0;36mrun_process\u001b[1;34m(dataset, grid_cv, target)\u001b[0m\n\u001b[0;32m      4\u001b[0m     \u001b[0mX\u001b[0m\u001b[1;33m,\u001b[0m \u001b[0my\u001b[0m \u001b[1;33m=\u001b[0m \u001b[0mdataset\u001b[0m\u001b[1;33m.\u001b[0m\u001b[0mdrop\u001b[0m\u001b[1;33m(\u001b[0m\u001b[0mtarget\u001b[0m\u001b[1;33m,\u001b[0m \u001b[0maxis\u001b[0m\u001b[1;33m=\u001b[0m\u001b[1;36m1\u001b[0m\u001b[1;33m)\u001b[0m\u001b[1;33m,\u001b[0m \u001b[0mnp\u001b[0m\u001b[1;33m.\u001b[0m\u001b[0marray\u001b[0m\u001b[1;33m(\u001b[0m\u001b[0mdataset\u001b[0m\u001b[1;33m[\u001b[0m\u001b[0mtarget\u001b[0m\u001b[1;33m]\u001b[0m\u001b[1;33m)\u001b[0m\u001b[1;33m\u001b[0m\u001b[1;33m\u001b[0m\u001b[0m\n\u001b[0;32m      5\u001b[0m \u001b[1;33m\u001b[0m\u001b[0m\n\u001b[1;32m----> 6\u001b[1;33m     \u001b[0mgrid_cv\u001b[0m\u001b[1;33m.\u001b[0m\u001b[0mfit\u001b[0m\u001b[1;33m(\u001b[0m\u001b[0mX\u001b[0m\u001b[1;33m,\u001b[0m\u001b[0my\u001b[0m\u001b[1;33m)\u001b[0m\u001b[1;33m\u001b[0m\u001b[1;33m\u001b[0m\u001b[0m\n\u001b[0m\u001b[0;32m      7\u001b[0m     \u001b[0mprint\u001b[0m\u001b[1;33m(\u001b[0m\u001b[1;34m'R2:'\u001b[0m\u001b[1;33m,\u001b[0m \u001b[0mmax\u001b[0m\u001b[1;33m(\u001b[0m\u001b[0mgrid_cv\u001b[0m\u001b[1;33m.\u001b[0m\u001b[0mcv_results_\u001b[0m\u001b[1;33m[\u001b[0m\u001b[1;34m'mean_test_score'\u001b[0m\u001b[1;33m]\u001b[0m\u001b[1;33m)\u001b[0m\u001b[1;33m)\u001b[0m\u001b[1;33m\u001b[0m\u001b[1;33m\u001b[0m\u001b[0m\n\u001b[0;32m      8\u001b[0m \u001b[1;33m\u001b[0m\u001b[0m\n",
      "\u001b[1;32mC:\\Users\\Dell\\Anaconda3\\lib\\site-packages\\sklearn\\model_selection\\_search.py\u001b[0m in \u001b[0;36mfit\u001b[1;34m(self, X, y, groups, **fit_params)\u001b[0m\n\u001b[0;32m    710\u001b[0m                 \u001b[1;32mreturn\u001b[0m \u001b[0mresults\u001b[0m\u001b[1;33m\u001b[0m\u001b[1;33m\u001b[0m\u001b[0m\n\u001b[0;32m    711\u001b[0m \u001b[1;33m\u001b[0m\u001b[0m\n\u001b[1;32m--> 712\u001b[1;33m             \u001b[0mself\u001b[0m\u001b[1;33m.\u001b[0m\u001b[0m_run_search\u001b[0m\u001b[1;33m(\u001b[0m\u001b[0mevaluate_candidates\u001b[0m\u001b[1;33m)\u001b[0m\u001b[1;33m\u001b[0m\u001b[1;33m\u001b[0m\u001b[0m\n\u001b[0m\u001b[0;32m    713\u001b[0m \u001b[1;33m\u001b[0m\u001b[0m\n\u001b[0;32m    714\u001b[0m         \u001b[1;31m# For multi-metric evaluation, store the best_index_, best_params_ and\u001b[0m\u001b[1;33m\u001b[0m\u001b[1;33m\u001b[0m\u001b[1;33m\u001b[0m\u001b[0m\n",
      "\u001b[1;32mC:\\Users\\Dell\\Anaconda3\\lib\\site-packages\\sklearn\\model_selection\\_search.py\u001b[0m in \u001b[0;36m_run_search\u001b[1;34m(self, evaluate_candidates)\u001b[0m\n\u001b[0;32m   1151\u001b[0m     \u001b[1;32mdef\u001b[0m \u001b[0m_run_search\u001b[0m\u001b[1;33m(\u001b[0m\u001b[0mself\u001b[0m\u001b[1;33m,\u001b[0m \u001b[0mevaluate_candidates\u001b[0m\u001b[1;33m)\u001b[0m\u001b[1;33m:\u001b[0m\u001b[1;33m\u001b[0m\u001b[1;33m\u001b[0m\u001b[0m\n\u001b[0;32m   1152\u001b[0m         \u001b[1;34m\"\"\"Search all candidates in param_grid\"\"\"\u001b[0m\u001b[1;33m\u001b[0m\u001b[1;33m\u001b[0m\u001b[0m\n\u001b[1;32m-> 1153\u001b[1;33m         \u001b[0mevaluate_candidates\u001b[0m\u001b[1;33m(\u001b[0m\u001b[0mParameterGrid\u001b[0m\u001b[1;33m(\u001b[0m\u001b[0mself\u001b[0m\u001b[1;33m.\u001b[0m\u001b[0mparam_grid\u001b[0m\u001b[1;33m)\u001b[0m\u001b[1;33m)\u001b[0m\u001b[1;33m\u001b[0m\u001b[1;33m\u001b[0m\u001b[0m\n\u001b[0m\u001b[0;32m   1154\u001b[0m \u001b[1;33m\u001b[0m\u001b[0m\n\u001b[0;32m   1155\u001b[0m \u001b[1;33m\u001b[0m\u001b[0m\n",
      "\u001b[1;32mC:\\Users\\Dell\\Anaconda3\\lib\\site-packages\\sklearn\\model_selection\\_search.py\u001b[0m in \u001b[0;36mevaluate_candidates\u001b[1;34m(candidate_params)\u001b[0m\n\u001b[0;32m    689\u001b[0m                                \u001b[1;32mfor\u001b[0m \u001b[0mparameters\u001b[0m\u001b[1;33m,\u001b[0m \u001b[1;33m(\u001b[0m\u001b[0mtrain\u001b[0m\u001b[1;33m,\u001b[0m \u001b[0mtest\u001b[0m\u001b[1;33m)\u001b[0m\u001b[1;33m\u001b[0m\u001b[1;33m\u001b[0m\u001b[0m\n\u001b[0;32m    690\u001b[0m                                in product(candidate_params,\n\u001b[1;32m--> 691\u001b[1;33m                                           cv.split(X, y, groups)))\n\u001b[0m\u001b[0;32m    692\u001b[0m \u001b[1;33m\u001b[0m\u001b[0m\n\u001b[0;32m    693\u001b[0m                 \u001b[1;32mif\u001b[0m \u001b[0mlen\u001b[0m\u001b[1;33m(\u001b[0m\u001b[0mout\u001b[0m\u001b[1;33m)\u001b[0m \u001b[1;33m<\u001b[0m \u001b[1;36m1\u001b[0m\u001b[1;33m:\u001b[0m\u001b[1;33m\u001b[0m\u001b[1;33m\u001b[0m\u001b[0m\n",
      "\u001b[1;32mC:\\Users\\Dell\\Anaconda3\\lib\\site-packages\\joblib\\parallel.py\u001b[0m in \u001b[0;36m__call__\u001b[1;34m(self, iterable)\u001b[0m\n\u001b[0;32m   1014\u001b[0m \u001b[1;33m\u001b[0m\u001b[0m\n\u001b[0;32m   1015\u001b[0m             \u001b[1;32mwith\u001b[0m \u001b[0mself\u001b[0m\u001b[1;33m.\u001b[0m\u001b[0m_backend\u001b[0m\u001b[1;33m.\u001b[0m\u001b[0mretrieval_context\u001b[0m\u001b[1;33m(\u001b[0m\u001b[1;33m)\u001b[0m\u001b[1;33m:\u001b[0m\u001b[1;33m\u001b[0m\u001b[1;33m\u001b[0m\u001b[0m\n\u001b[1;32m-> 1016\u001b[1;33m                 \u001b[0mself\u001b[0m\u001b[1;33m.\u001b[0m\u001b[0mretrieve\u001b[0m\u001b[1;33m(\u001b[0m\u001b[1;33m)\u001b[0m\u001b[1;33m\u001b[0m\u001b[1;33m\u001b[0m\u001b[0m\n\u001b[0m\u001b[0;32m   1017\u001b[0m             \u001b[1;31m# Make sure that we get a last message telling us we are done\u001b[0m\u001b[1;33m\u001b[0m\u001b[1;33m\u001b[0m\u001b[1;33m\u001b[0m\u001b[0m\n\u001b[0;32m   1018\u001b[0m             \u001b[0melapsed_time\u001b[0m \u001b[1;33m=\u001b[0m \u001b[0mtime\u001b[0m\u001b[1;33m.\u001b[0m\u001b[0mtime\u001b[0m\u001b[1;33m(\u001b[0m\u001b[1;33m)\u001b[0m \u001b[1;33m-\u001b[0m \u001b[0mself\u001b[0m\u001b[1;33m.\u001b[0m\u001b[0m_start_time\u001b[0m\u001b[1;33m\u001b[0m\u001b[1;33m\u001b[0m\u001b[0m\n",
      "\u001b[1;32mC:\\Users\\Dell\\Anaconda3\\lib\\site-packages\\joblib\\parallel.py\u001b[0m in \u001b[0;36mretrieve\u001b[1;34m(self)\u001b[0m\n\u001b[0;32m    906\u001b[0m             \u001b[1;32mtry\u001b[0m\u001b[1;33m:\u001b[0m\u001b[1;33m\u001b[0m\u001b[1;33m\u001b[0m\u001b[0m\n\u001b[0;32m    907\u001b[0m                 \u001b[1;32mif\u001b[0m \u001b[0mgetattr\u001b[0m\u001b[1;33m(\u001b[0m\u001b[0mself\u001b[0m\u001b[1;33m.\u001b[0m\u001b[0m_backend\u001b[0m\u001b[1;33m,\u001b[0m \u001b[1;34m'supports_timeout'\u001b[0m\u001b[1;33m,\u001b[0m \u001b[1;32mFalse\u001b[0m\u001b[1;33m)\u001b[0m\u001b[1;33m:\u001b[0m\u001b[1;33m\u001b[0m\u001b[1;33m\u001b[0m\u001b[0m\n\u001b[1;32m--> 908\u001b[1;33m                     \u001b[0mself\u001b[0m\u001b[1;33m.\u001b[0m\u001b[0m_output\u001b[0m\u001b[1;33m.\u001b[0m\u001b[0mextend\u001b[0m\u001b[1;33m(\u001b[0m\u001b[0mjob\u001b[0m\u001b[1;33m.\u001b[0m\u001b[0mget\u001b[0m\u001b[1;33m(\u001b[0m\u001b[0mtimeout\u001b[0m\u001b[1;33m=\u001b[0m\u001b[0mself\u001b[0m\u001b[1;33m.\u001b[0m\u001b[0mtimeout\u001b[0m\u001b[1;33m)\u001b[0m\u001b[1;33m)\u001b[0m\u001b[1;33m\u001b[0m\u001b[1;33m\u001b[0m\u001b[0m\n\u001b[0m\u001b[0;32m    909\u001b[0m                 \u001b[1;32melse\u001b[0m\u001b[1;33m:\u001b[0m\u001b[1;33m\u001b[0m\u001b[1;33m\u001b[0m\u001b[0m\n\u001b[0;32m    910\u001b[0m                     \u001b[0mself\u001b[0m\u001b[1;33m.\u001b[0m\u001b[0m_output\u001b[0m\u001b[1;33m.\u001b[0m\u001b[0mextend\u001b[0m\u001b[1;33m(\u001b[0m\u001b[0mjob\u001b[0m\u001b[1;33m.\u001b[0m\u001b[0mget\u001b[0m\u001b[1;33m(\u001b[0m\u001b[1;33m)\u001b[0m\u001b[1;33m)\u001b[0m\u001b[1;33m\u001b[0m\u001b[1;33m\u001b[0m\u001b[0m\n",
      "\u001b[1;32mC:\\Users\\Dell\\Anaconda3\\lib\\site-packages\\joblib\\_parallel_backends.py\u001b[0m in \u001b[0;36mwrap_future_result\u001b[1;34m(future, timeout)\u001b[0m\n\u001b[0;32m    552\u001b[0m         AsyncResults.get from multiprocessing.\"\"\"\n\u001b[0;32m    553\u001b[0m         \u001b[1;32mtry\u001b[0m\u001b[1;33m:\u001b[0m\u001b[1;33m\u001b[0m\u001b[1;33m\u001b[0m\u001b[0m\n\u001b[1;32m--> 554\u001b[1;33m             \u001b[1;32mreturn\u001b[0m \u001b[0mfuture\u001b[0m\u001b[1;33m.\u001b[0m\u001b[0mresult\u001b[0m\u001b[1;33m(\u001b[0m\u001b[0mtimeout\u001b[0m\u001b[1;33m=\u001b[0m\u001b[0mtimeout\u001b[0m\u001b[1;33m)\u001b[0m\u001b[1;33m\u001b[0m\u001b[1;33m\u001b[0m\u001b[0m\n\u001b[0m\u001b[0;32m    555\u001b[0m         \u001b[1;32mexcept\u001b[0m \u001b[0mLokyTimeoutError\u001b[0m\u001b[1;33m:\u001b[0m\u001b[1;33m\u001b[0m\u001b[1;33m\u001b[0m\u001b[0m\n\u001b[0;32m    556\u001b[0m             \u001b[1;32mraise\u001b[0m \u001b[0mTimeoutError\u001b[0m\u001b[1;33m(\u001b[0m\u001b[1;33m)\u001b[0m\u001b[1;33m\u001b[0m\u001b[1;33m\u001b[0m\u001b[0m\n",
      "\u001b[1;32mC:\\Users\\Dell\\Anaconda3\\lib\\concurrent\\futures\\_base.py\u001b[0m in \u001b[0;36mresult\u001b[1;34m(self, timeout)\u001b[0m\n\u001b[0;32m    425\u001b[0m                 \u001b[1;32mreturn\u001b[0m \u001b[0mself\u001b[0m\u001b[1;33m.\u001b[0m\u001b[0m__get_result\u001b[0m\u001b[1;33m(\u001b[0m\u001b[1;33m)\u001b[0m\u001b[1;33m\u001b[0m\u001b[1;33m\u001b[0m\u001b[0m\n\u001b[0;32m    426\u001b[0m \u001b[1;33m\u001b[0m\u001b[0m\n\u001b[1;32m--> 427\u001b[1;33m             \u001b[0mself\u001b[0m\u001b[1;33m.\u001b[0m\u001b[0m_condition\u001b[0m\u001b[1;33m.\u001b[0m\u001b[0mwait\u001b[0m\u001b[1;33m(\u001b[0m\u001b[0mtimeout\u001b[0m\u001b[1;33m)\u001b[0m\u001b[1;33m\u001b[0m\u001b[1;33m\u001b[0m\u001b[0m\n\u001b[0m\u001b[0;32m    428\u001b[0m \u001b[1;33m\u001b[0m\u001b[0m\n\u001b[0;32m    429\u001b[0m             \u001b[1;32mif\u001b[0m \u001b[0mself\u001b[0m\u001b[1;33m.\u001b[0m\u001b[0m_state\u001b[0m \u001b[1;32min\u001b[0m \u001b[1;33m[\u001b[0m\u001b[0mCANCELLED\u001b[0m\u001b[1;33m,\u001b[0m \u001b[0mCANCELLED_AND_NOTIFIED\u001b[0m\u001b[1;33m]\u001b[0m\u001b[1;33m:\u001b[0m\u001b[1;33m\u001b[0m\u001b[1;33m\u001b[0m\u001b[0m\n",
      "\u001b[1;32mC:\\Users\\Dell\\Anaconda3\\lib\\threading.py\u001b[0m in \u001b[0;36mwait\u001b[1;34m(self, timeout)\u001b[0m\n\u001b[0;32m    294\u001b[0m         \u001b[1;32mtry\u001b[0m\u001b[1;33m:\u001b[0m    \u001b[1;31m# restore state no matter what (e.g., KeyboardInterrupt)\u001b[0m\u001b[1;33m\u001b[0m\u001b[1;33m\u001b[0m\u001b[0m\n\u001b[0;32m    295\u001b[0m             \u001b[1;32mif\u001b[0m \u001b[0mtimeout\u001b[0m \u001b[1;32mis\u001b[0m \u001b[1;32mNone\u001b[0m\u001b[1;33m:\u001b[0m\u001b[1;33m\u001b[0m\u001b[1;33m\u001b[0m\u001b[0m\n\u001b[1;32m--> 296\u001b[1;33m                 \u001b[0mwaiter\u001b[0m\u001b[1;33m.\u001b[0m\u001b[0macquire\u001b[0m\u001b[1;33m(\u001b[0m\u001b[1;33m)\u001b[0m\u001b[1;33m\u001b[0m\u001b[1;33m\u001b[0m\u001b[0m\n\u001b[0m\u001b[0;32m    297\u001b[0m                 \u001b[0mgotit\u001b[0m \u001b[1;33m=\u001b[0m \u001b[1;32mTrue\u001b[0m\u001b[1;33m\u001b[0m\u001b[1;33m\u001b[0m\u001b[0m\n\u001b[0;32m    298\u001b[0m             \u001b[1;32melse\u001b[0m\u001b[1;33m:\u001b[0m\u001b[1;33m\u001b[0m\u001b[1;33m\u001b[0m\u001b[0m\n",
      "\u001b[1;31mKeyboardInterrupt\u001b[0m: "
     ]
    }
   ],
   "source": [
    "dataset = datalab_norm[2][datalab_norm[2].columns.delete(1)].join(datalab_norm[3][datalab_norm[3].columns.delete([0,1])])\n",
    "dataset_shuffle = dataset.sample(frac=1,random_state=1).reset_index(drop=True)\n",
    "dataset_shuffle=dataset_shuffle[dataset_shuffle.np>1]\n",
    "att_rfr=run_process(dataset_shuffle,grid_rfr)"
   ]
  },
  {
   "cell_type": "markdown",
   "metadata": {},
   "source": [
    "### Conglomerado usando labs 2 y 3"
   ]
  },
  {
   "cell_type": "code",
   "execution_count": 73,
   "metadata": {},
   "outputs": [],
   "source": [
    "from sklearn.ensemble import  RandomForestRegressor\n",
    "\n",
    "estimator = RandomForestRegressor(random_state=1, n_jobs=-1)\n",
    " \n",
    "params = {\n",
    "    'n_estimators'  : [50,100,200,400],\n",
    "    'criterion'     : ['mse','mae'],\n",
    "    'max_features'  : ['auto','sqrt','log2']\n",
    "}\n",
    " \n",
    "grid_rfr = GridSearchCV(estimator=estimator,\n",
    "                        param_grid=params,\n",
    "                        scoring='r2',\n",
    "                        verbose=1,\n",
    "                        n_jobs=-1,\n",
    "                        return_train_score=True,\n",
    "                        cv=KFold(n_splits=10, shuffle=False))"
   ]
  },
  {
   "cell_type": "code",
   "execution_count": 74,
   "metadata": {},
   "outputs": [
    {
     "name": "stdout",
     "output_type": "stream",
     "text": [
      "Index(['np', 'mean(g_$)', 'mean(pca_$)', 'mean(t_$)', 'mean(rct_$)',\n",
      "       'mean(ret_$)', 'mean(rer_$)', 'mean(dis_$)', 'mean(qI_$)',\n",
      "       'mean(qII_$)', 'mean(qIII_$)', 'mean(a_$)', 'mean(sr_$)', 'mean(ma_$)'],\n",
      "      dtype='object')\n"
     ]
    }
   ],
   "source": [
    "import b1\n",
    "import importlib\n",
    "importlib.reload(b1)\n",
    "from b1 import *\n",
    "\n",
    "dataset = datalab_norm[2].join(datalab_norm[3][datalab_norm[3].columns.delete([0])])\n",
    "#remove_col(dataset, 'g?')\n",
    "for col in dataset.columns:\n",
    "    if col[-1]=='3':\n",
    "        dataset = apply(dataset, [col[:-1]+'3',col[:-1]+'4'], np.mean)\n",
    "print(dataset.columns)"
   ]
  },
  {
   "cell_type": "code",
   "execution_count": 75,
   "metadata": {},
   "outputs": [
    {
     "name": "stdout",
     "output_type": "stream",
     "text": [
      "Fitting 10 folds for each of 24 candidates, totalling 240 fits\n"
     ]
    },
    {
     "name": "stderr",
     "output_type": "stream",
     "text": [
      "[Parallel(n_jobs=-1)]: Using backend LokyBackend with 4 concurrent workers.\n",
      "[Parallel(n_jobs=-1)]: Done  42 tasks      | elapsed:   12.5s\n",
      "[Parallel(n_jobs=-1)]: Done 192 tasks      | elapsed:   58.9s\n",
      "[Parallel(n_jobs=-1)]: Done 240 out of 240 | elapsed:  1.3min finished\n"
     ]
    },
    {
     "name": "stdout",
     "output_type": "stream",
     "text": [
      "R2: 0.33206878736157497\n"
     ]
    }
   ],
   "source": [
    "dataset_shuffle = dataset.sample(frac=1,random_state=1).reset_index(drop=True)\n",
    "dataset_shuffle=dataset_shuffle[dataset_shuffle.np>1]\n",
    "att_rfr=run_process(dataset_shuffle,grid_rfr)"
   ]
  },
  {
   "cell_type": "code",
   "execution_count": 84,
   "metadata": {},
   "outputs": [
    {
     "data": {
      "text/plain": [
       "array([['mean(g_$)', '0', '0.19823765595914686'],\n",
       "       ['mean(pca_$)', '1', '0.0916086568925645'],\n",
       "       ['mean(qII_$)', '8', '0.09044946062143618'],\n",
       "       ['mean(qIII_$)', '9', '0.09026084215503212'],\n",
       "       ['mean(sr_$)', '11', '0.08207506213153386'],\n",
       "       ['mean(qI_$)', '7', '0.0718628757897187'],\n",
       "       ['mean(rer_$)', '5', '0.0701695650806905'],\n",
       "       ['mean(rct_$)', '3', '0.05927393738777817'],\n",
       "       ['mean(ret_$)', '4', '0.05870905007049707'],\n",
       "       ['mean(dis_$)', '6', '0.05352792123243046'],\n",
       "       ['mean(t_$)', '2', '0.04739251223320139'],\n",
       "       ['mean(a_$)', '10', '0.04390044661550098'],\n",
       "       ['mean(ma_$)', '12', '0.04253201383046907']], dtype='<U19')"
      ]
     },
     "execution_count": 84,
     "metadata": {},
     "output_type": "execute_result"
    }
   ],
   "source": [
    "sorted = np.argsort(-grid_rfr.best_estimator_.feature_importances_)\n",
    "np.array([grid_rfr.best_estimator_.feature_importances_[i] for i in sorted])\n",
    "np.array([[att_rfr[i],i,grid_rfr.best_estimator_.feature_importances_[i]] for i in sorted])"
   ]
  },
  {
   "cell_type": "code",
   "execution_count": 83,
   "metadata": {},
   "outputs": [
    {
     "name": "stdout",
     "output_type": "stream",
     "text": [
      "0.43470915454817194\n"
     ]
    }
   ],
   "source": [
    "X, y = dataset_shuffle.drop(TARGET, axis=1), np.array(dataset_shuffle[TARGET])\n",
    "X_train, X_test, y_train, y_test = train_test_split(X, y, test_size=0.33, random_state=50)\n",
    "grid_rfr.best_estimator_.fit(X_train,y_train)\n",
    "y = grid_rfr.best_estimator_.predict(X_test)\n",
    "\n",
    "print(grid_rfr.best_estimator_.score(X_test,y_test))"
   ]
  },
  {
   "cell_type": "code",
   "execution_count": 85,
   "metadata": {},
   "outputs": [
    {
     "data": {
      "text/plain": [
       "array([5.627  , 5.3475 , 4.0625 , 5.858  , 5.8745 , 5.0375 , 5.779  ,\n",
       "       5.37925, 6.1085 , 6.207  , 5.7825 , 5.79775, 5.4835 , 6.245  ,\n",
       "       3.5415 , 6.0735 , 6.234  , 5.491  , 6.433  , 6.225  , 6.0145 ,\n",
       "       5.705  , 5.3985 , 5.8385 , 6.328  , 5.36475, 5.816  , 5.35725,\n",
       "       5.6685 , 5.6965 , 5.349  , 5.537  , 5.67475, 5.903  , 5.76   ,\n",
       "       5.63   , 5.8335 , 4.8145 , 5.678  , 5.37375, 6.5465 , 6.2    ,\n",
       "       5.722  , 4.0405 , 4.45625, 5.461  , 5.4755 , 5.7415 , 5.809  ,\n",
       "       5.77525, 5.8265 , 5.3885 , 4.3045 , 4.534  , 5.1655 , 5.612  ,\n",
       "       5.82175, 6.1485 , 5.879  , 5.7085 , 5.7285 , 5.9915 , 3.943  ,\n",
       "       6.213  , 6.186  , 6.3285 , 5.413  , 5.651  , 5.1385 , 4.64925,\n",
       "       4.9595 , 4.1735 , 4.9255 , 5.381  , 5.7215 , 5.3005 , 5.87475,\n",
       "       5.566  ])"
      ]
     },
     "execution_count": 85,
     "metadata": {},
     "output_type": "execute_result"
    }
   ],
   "source": [
    "y"
   ]
  },
  {
   "cell_type": "code",
   "execution_count": 101,
   "metadata": {},
   "outputs": [
    {
     "data": {
      "image/png": "[encoded data removed]",
      "text/plain": [
       "<Figure size 432x288 with 1 Axes>"
      ]
     },
     "metadata": {
      "needs_background": "light"
     },
     "output_type": "display_data"
    }
   ],
   "source": [
    "import matplotlib.pyplot as plt\n",
    "Y = X_test.values.copy()\n",
    "\n",
    "t = np.arange(-1.4, 1.6, 0.2)\n",
    "att=5\n",
    "att_label='rer'\n",
    "plt.xlabel(att_label) \n",
    "plt.ylabel('±pred') \n",
    "\n",
    "\n",
    "for i in [[2,'o-'],[5,'v-'],[8,'^-'],[40,'s-']]:\n",
    "    Y[i[0]][att] = 0\n",
    "    r=grid_rfr.best_estimator_.predict([Y[i[0]]])\n",
    "    \n",
    "    ft = [grid_rfr.best_estimator_.predict([Y[i[0]]])-r for Y[i[0]][att] in t ]\n",
    "    plt.plot(t,ft, i[1], label=str(\"%.1f\" % r))\n",
    "\n",
    "\n",
    "plt.legend()\n",
    "\n",
    "plt.savefig(att_label+'.pdf')\n",
    "plt.show()"
   ]
  },
  {
   "cell_type": "markdown",
   "metadata": {},
   "source": [
    "### Linear Regression"
   ]
  },
  {
   "cell_type": "code",
   "execution_count": 61,
   "metadata": {},
   "outputs": [],
   "source": [
    "from sklearn.linear_model import LinearRegression\n",
    "estimator = LinearRegression()\n",
    " \n",
    "params = {\n",
    "    'n_jobs'    : [-1],\n",
    "}\n",
    " \n",
    "grid_lr = GridSearchCV(estimator=estimator,\n",
    "                       param_grid=params,\n",
    "                       scoring='r2',\n",
    "                       verbose=1,\n",
    "                       n_jobs=-1,\n",
    "                       return_train_score=True,\n",
    "                       cv=KFold(n_splits=10, shuffle=False))"
   ]
  },
  {
   "cell_type": "code",
   "execution_count": 62,
   "metadata": {},
   "outputs": [
    {
     "name": "stdout",
     "output_type": "stream",
     "text": [
      "Fitting 10 folds for each of 1 candidates, totalling 10 fits\n"
     ]
    },
    {
     "name": "stderr",
     "output_type": "stream",
     "text": [
      "[Parallel(n_jobs=-1)]: Using backend LokyBackend with 4 concurrent workers.\n"
     ]
    },
    {
     "name": "stdout",
     "output_type": "stream",
     "text": [
      "R2: 0.27148398566677123\n"
     ]
    },
    {
     "name": "stderr",
     "output_type": "stream",
     "text": [
      "[Parallel(n_jobs=-1)]: Done  10 out of  10 | elapsed:    3.6s finished\n"
     ]
    }
   ],
   "source": [
    "dataset_shuffle = dataset.sample(frac=1,random_state=1).reset_index(drop=True)\n",
    "dataset_shuffle=dataset_shuffle[dataset_shuffle.np>1]\n",
    "att=run_process(dataset_shuffle,grid_lr)"
   ]
  },
  {
   "cell_type": "code",
   "execution_count": 106,
   "metadata": {},
   "outputs": [
    {
     "data": {
      "text/plain": [
       "0.32956797110950387"
      ]
     },
     "execution_count": 106,
     "metadata": {},
     "output_type": "execute_result"
    }
   ],
   "source": [
    "X, y = dataset_shuffle.drop(TARGET, axis=1), np.array(dataset_shuffle[TARGET])\n",
    "#X = X[X.columns.delete(0)]\n",
    "X_train, X_test, y_train, y_test = train_test_split(X, y, test_size=0.33, random_state=45)\n",
    "\n",
    "grid_lr.best_estimator_.fit(X_train,y_train)\n",
    "ypred = grid_lr.best_estimator_.predict(X_test)\n",
    "grid_lr.best_estimator_.score(X_test,y_test)"
   ]
  },
  {
   "cell_type": "code",
   "execution_count": 107,
   "metadata": {},
   "outputs": [
    {
     "name": "stdout",
     "output_type": "stream",
     "text": [
      "                            OLS Regression Results                            \n",
      "==============================================================================\n",
      "Dep. Variable:                      y   R-squared:                       0.443\n",
      "Model:                            OLS   Adj. R-squared:                  0.410\n",
      "Method:                 Least Squares   F-statistic:                     13.45\n",
      "Date:                Wed, 14 Jul 2021   Prob (F-statistic):           9.41e-22\n",
      "Time:                        18:37:39   Log-Likelihood:                -276.93\n",
      "No. Observations:                 234   AIC:                             581.9\n",
      "Df Residuals:                     220   BIC:                             630.2\n",
      "Df Model:                          13                                         \n",
      "Covariance Type:            nonrobust                                         \n",
      "================================================================================\n",
      "                   coef    std err          t      P>|t|      [0.025      0.975]\n",
      "--------------------------------------------------------------------------------\n",
      "const            5.4973      0.054    102.351      0.000       5.391       5.603\n",
      "mean(g_$)        0.8020      0.118      6.771      0.000       0.569       1.035\n",
      "mean(pca_$)     -0.3208      0.108     -2.978      0.003      -0.533      -0.109\n",
      "mean(t_$)       -0.2272      0.137     -1.653      0.100      -0.498       0.044\n",
      "mean(rct_$)     -0.0180      0.095     -0.189      0.850      -0.205       0.169\n",
      "mean(ret_$)     -0.2145      0.102     -2.107      0.036      -0.415      -0.014\n",
      "mean(rer_$)     -0.0648      0.092     -0.708      0.479      -0.245       0.116\n",
      "mean(dis_$)     -0.0721      0.106     -0.683      0.495      -0.280       0.136\n",
      "mean(qI_$)      -0.0267      0.132     -0.202      0.840      -0.287       0.234\n",
      "mean(qII_$)      0.0186      0.166      0.112      0.911      -0.309       0.346\n",
      "mean(qIII_$)    -0.1614      0.129     -1.250      0.213      -0.416       0.093\n",
      "mean(a_$)        0.2084      0.375      0.555      0.579      -0.532       0.948\n",
      "mean(sr_$)      -0.1924      0.081     -2.384      0.018      -0.351      -0.033\n",
      "mean(ma_$)       0.2472      0.304      0.812      0.417      -0.352       0.847\n",
      "==============================================================================\n",
      "Omnibus:                       50.320   Durbin-Watson:                   1.967\n",
      "Prob(Omnibus):                  0.000   Jarque-Bera (JB):               94.655\n",
      "Skew:                          -1.093   Prob(JB):                     2.79e-21\n",
      "Kurtosis:                       5.220   Cond. No.                         16.0\n",
      "==============================================================================\n",
      "\n",
      "Warnings:\n",
      "[1] Standard Errors assume that the covariance matrix of the errors is correctly specified.\n"
     ]
    },
    {
     "name": "stderr",
     "output_type": "stream",
     "text": [
      "C:\\Users\\Dell\\Anaconda3\\lib\\site-packages\\numpy\\core\\fromnumeric.py:2495: FutureWarning: Method .ptp is deprecated and will be removed in a future version. Use numpy.ptp instead.\n",
      "  return ptp(axis=axis, out=out, **kwargs)\n"
     ]
    }
   ],
   "source": [
    "import statsmodels.api as sm\n",
    "X2 = sm.add_constant(X)\n",
    "est = sm.OLS(y, X2)\n",
    "est2 = est.fit()\n",
    "\n",
    "print(est2.summary())"
   ]
  },
  {
   "cell_type": "code",
   "execution_count": 104,
   "metadata": {},
   "outputs": [
    {
     "ename": "TypeError",
     "evalue": "'int' object is not subscriptable",
     "output_type": "error",
     "traceback": [
      "\u001b[1;31m---------------------------------------------------------------------------\u001b[0m",
      "\u001b[1;31mTypeError\u001b[0m                                 Traceback (most recent call last)",
      "\u001b[1;32m<ipython-input-104-83a8635e1983>\u001b[0m in \u001b[0;36m<module>\u001b[1;34m()\u001b[0m\n\u001b[0;32m      1\u001b[0m \u001b[0msorted\u001b[0m \u001b[1;33m=\u001b[0m \u001b[0mnp\u001b[0m\u001b[1;33m.\u001b[0m\u001b[0margsort\u001b[0m\u001b[1;33m(\u001b[0m\u001b[1;33m-\u001b[0m\u001b[0mabs\u001b[0m\u001b[1;33m(\u001b[0m\u001b[0mgrid_lr\u001b[0m\u001b[1;33m.\u001b[0m\u001b[0mbest_estimator_\u001b[0m\u001b[1;33m.\u001b[0m\u001b[0mcoef_\u001b[0m\u001b[1;33m)\u001b[0m\u001b[1;33m)\u001b[0m\u001b[1;33m\u001b[0m\u001b[1;33m\u001b[0m\u001b[0m\n\u001b[0;32m      2\u001b[0m \u001b[1;33m[\u001b[0m\u001b[0mgrid_lr\u001b[0m\u001b[1;33m.\u001b[0m\u001b[0mbest_estimator_\u001b[0m\u001b[1;33m.\u001b[0m\u001b[0mcoef_\u001b[0m\u001b[1;33m[\u001b[0m\u001b[0mi\u001b[0m\u001b[1;33m]\u001b[0m \u001b[1;32mfor\u001b[0m \u001b[0mi\u001b[0m \u001b[1;32min\u001b[0m \u001b[0msorted\u001b[0m\u001b[1;33m]\u001b[0m\u001b[1;33m\u001b[0m\u001b[1;33m\u001b[0m\u001b[0m\n\u001b[1;32m----> 3\u001b[1;33m \u001b[1;33m[\u001b[0m\u001b[1;33m[\u001b[0m\u001b[0matt\u001b[0m\u001b[1;33m[\u001b[0m\u001b[0mi\u001b[0m\u001b[1;33m]\u001b[0m\u001b[1;33m,\u001b[0m\u001b[0mgrid_lr\u001b[0m\u001b[1;33m.\u001b[0m\u001b[0mbest_estimator_\u001b[0m\u001b[1;33m.\u001b[0m\u001b[0mcoef_\u001b[0m\u001b[1;33m[\u001b[0m\u001b[0mi\u001b[0m\u001b[1;33m]\u001b[0m\u001b[1;33m]\u001b[0m \u001b[1;32mfor\u001b[0m \u001b[0mi\u001b[0m \u001b[1;32min\u001b[0m \u001b[0msorted\u001b[0m\u001b[1;33m]\u001b[0m\u001b[1;33m\u001b[0m\u001b[1;33m\u001b[0m\u001b[0m\n\u001b[0m",
      "\u001b[1;32m<ipython-input-104-83a8635e1983>\u001b[0m in \u001b[0;36m<listcomp>\u001b[1;34m(.0)\u001b[0m\n\u001b[0;32m      1\u001b[0m \u001b[0msorted\u001b[0m \u001b[1;33m=\u001b[0m \u001b[0mnp\u001b[0m\u001b[1;33m.\u001b[0m\u001b[0margsort\u001b[0m\u001b[1;33m(\u001b[0m\u001b[1;33m-\u001b[0m\u001b[0mabs\u001b[0m\u001b[1;33m(\u001b[0m\u001b[0mgrid_lr\u001b[0m\u001b[1;33m.\u001b[0m\u001b[0mbest_estimator_\u001b[0m\u001b[1;33m.\u001b[0m\u001b[0mcoef_\u001b[0m\u001b[1;33m)\u001b[0m\u001b[1;33m)\u001b[0m\u001b[1;33m\u001b[0m\u001b[1;33m\u001b[0m\u001b[0m\n\u001b[0;32m      2\u001b[0m \u001b[1;33m[\u001b[0m\u001b[0mgrid_lr\u001b[0m\u001b[1;33m.\u001b[0m\u001b[0mbest_estimator_\u001b[0m\u001b[1;33m.\u001b[0m\u001b[0mcoef_\u001b[0m\u001b[1;33m[\u001b[0m\u001b[0mi\u001b[0m\u001b[1;33m]\u001b[0m \u001b[1;32mfor\u001b[0m \u001b[0mi\u001b[0m \u001b[1;32min\u001b[0m \u001b[0msorted\u001b[0m\u001b[1;33m]\u001b[0m\u001b[1;33m\u001b[0m\u001b[1;33m\u001b[0m\u001b[0m\n\u001b[1;32m----> 3\u001b[1;33m \u001b[1;33m[\u001b[0m\u001b[1;33m[\u001b[0m\u001b[0matt\u001b[0m\u001b[1;33m[\u001b[0m\u001b[0mi\u001b[0m\u001b[1;33m]\u001b[0m\u001b[1;33m,\u001b[0m\u001b[0mgrid_lr\u001b[0m\u001b[1;33m.\u001b[0m\u001b[0mbest_estimator_\u001b[0m\u001b[1;33m.\u001b[0m\u001b[0mcoef_\u001b[0m\u001b[1;33m[\u001b[0m\u001b[0mi\u001b[0m\u001b[1;33m]\u001b[0m\u001b[1;33m]\u001b[0m \u001b[1;32mfor\u001b[0m \u001b[0mi\u001b[0m \u001b[1;32min\u001b[0m \u001b[0msorted\u001b[0m\u001b[1;33m]\u001b[0m\u001b[1;33m\u001b[0m\u001b[1;33m\u001b[0m\u001b[0m\n\u001b[0m",
      "\u001b[1;31mTypeError\u001b[0m: 'int' object is not subscriptable"
     ]
    }
   ],
   "source": [
    "sorted = np.argsort(-abs(grid_lr.best_estimator_.coef_))\n",
    "[grid_lr.best_estimator_.coef_[i] for i in sorted]\n",
    "[[att[i],grid_lr.best_estimator_.coef_[i]] for i in sorted]"
   ]
  },
  {
   "cell_type": "code",
   "execution_count": null,
   "metadata": {},
   "outputs": [],
   "source": []
  }
 ],
 "metadata": {
  "kernelspec": {
   "display_name": "Python 3",
   "language": "python",
   "name": "python3"
  },
  "language_info": {
   "codemirror_mode": {
    "name": "ipython",
    "version": 3
   },
   "file_extension": ".py",
   "mimetype": "text/x-python",
   "name": "python",
   "nbconvert_exporter": "python",
   "pygments_lexer": "ipython3",
   "version": "3.7.3"
  }
 },
 "nbformat": 4,
 "nbformat_minor": 4
}

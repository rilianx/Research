{
 "cells": [
  {
   "cell_type": "code",
   "execution_count": 1,
   "metadata": {},
   "outputs": [],
   "source": [
    "from b1 import *\n",
    "from urllib.request import urlopen\n",
    "import json\n",
    "import numpy as np\n",
    "import pandas as pd\n",
    "import os\n",
    "import copy\n",
    "import math\n",
    "import statistics\n",
    "import sklearn.metrics as metrics\n",
    " \n",
    "# Evitar truncar data mostrada al usar jupyter notebook\n",
    "pd.set_option('display.max_rows', None)\n",
    "pd.set_option('display.max_columns', None)\n",
    " \n",
    "# Constante que aloja el diccionario JSON con toda la data\n",
    "DATA = None\n",
    "\n",
    "# Obtener data JSON\n",
    "if os.path.exists('./out/dataout.json'):\n",
    "    DATA = json.load(open('./out/dataout.json', 'r'))\n",
    "else:\n",
    "    data_url = urlopen('http://nutriexcel.cl/UMDU/dataout_v2.json')\n",
    "    DATA = json.loads(data_url.read())\n",
    " \n",
    "# Labels base de las columnas\n",
    "LABELS_BASE = {\n",
    "    # Parámetros del alumno (Target)\n",
    "    'p1':                            ['p1'],\n",
    "    'p2':                            ['p2'],\n",
    "    'np':                            ['np'],\n",
    "    'p1p2':                          ['p1p2'], # Promedio p1p2 y p2p2\n",
    "    'p2p2':                          ['p2p2'],\n",
    "    \n",
    "    # Parámetros del laboratorio (Features)\n",
    "    'grade':                         ['g_lab#'],\n",
    "    'attempts':                      ['a_lab#'],\n",
    "    'usedtime':                      ['ut_lab#'],\n",
    "    'activetime':                    ['act_lab#'],\n",
    "    'disconnections':                ['dis_lab#'],      # log\n",
    "    'compilationtime':               ['ct_lab#'],\n",
    "    'runtimedebuggingtime':          ['rt_lab#'],\n",
    "    'compilationtimeratio':          ['ctr_lab#'],\n",
    "    'runtimedebuggingtimeratio':     ['rtr_lab#'],\n",
    "    'errorsreductionratio':          ['err_lab#'],\n",
    "    'compilationerrorsratio':        ['cer_lab#'],\n",
    "    'activequartiles':               ['actq1_lab#','actq2_lab#','actq3_lab#'],\n",
    "    'questionsdifficulty':           ['qd$_lab#'],\n",
    "    'questionsgrades':               ['qg$_lab#'],      # Promedio\n",
    "    'questionsattempts':             ['qat$_lab#'],     # Sumar - Max   # log\n",
    "    'questionsactivetime':           ['qact$_lab#'],    # Promedio\n",
    "    'questionsavgtime':              ['qavt$_lab#'],    # Promedio\n",
    "    'questionsmaxerrors':            ['qme$_lab#'],     # Max\n",
    "    'questionsmaxconsecutiveerrors': ['qmce$_lab#'],    # Max\n",
    "    'questionsmaxsimilarityratio':   ['qmsr$_lab#'],    # Promedio\n",
    "    'questionscorrectness':          ['qc$_lab#']       # Promedio\n",
    "}\n",
    " \n",
    " \n",
    "# Cantidad de preguntas por lab\n",
    "LABS_LENGTHS = {\n",
    "    '1': 7,\n",
    "    '2': 6,\n",
    "    '3': 6,\n",
    "    '4': 5,\n",
    "    '5': 3\n",
    "}"
   ]
  },
  {
   "cell_type": "code",
   "execution_count": 2,
   "metadata": {},
   "outputs": [
    {
     "name": "stdout",
     "output_type": "stream",
     "text": [
      "curso  7 : 55\n",
      "curso  13 : 22\n",
      "curso  19 : 54\n",
      "curso  24 : 28\n",
      "curso  30 : 53\n",
      "curso  36 : 41\n",
      "total: 253\n"
     ]
    }
   ],
   "source": [
    "total=0\n",
    "for id in DATA[\"courses\"]:\n",
    "    students=len(DATA[\"courses\"][id][\"students\"])\n",
    "    total+=students\n",
    "    print(\"curso \",id,\":\",students)\n",
    "print(\"total:\",total)"
   ]
  },
  {
   "cell_type": "code",
   "execution_count": 3,
   "metadata": {},
   "outputs": [],
   "source": [
    "#@title **Data preparation**\n",
    "#Se preparan los datos de los laboratorios\n",
    "# Get dataframe\n",
    "datalab1_all = get_custom_dataframe(DATA, [1], ['p1p2','p2p2'], 'all', labels=True, index=None)\n",
    "\n",
    "datalab1 = copy.deepcopy(datalab1_all)\n",
    " \n",
    "# Remove questionsdifficulty\n",
    "remove_col(datalab1, 'qd?')\n",
    "# Group columns\n",
    "datalab1_all = apply(datalab1_all, ['p1p2','p2p2'], statistics.mean)\n",
    "datalab1 = apply(datalab1, ['p1p2','p2p2'], statistics.mean)\n",
    "datalab1 = apply(datalab1, 'dis_lab1', norm_log)\n",
    "datalab1 = apply(datalab1, 'qg?', statistics.mean)\n",
    "datalab1 = apply(datalab1, 'qat?', sum, replace=False)\n",
    "datalab1 = apply(datalab1, 'sum(qat$_lab1)', norm_log, replace=False)\n",
    "datalab1 = apply(datalab1, 'qat?', max)\n",
    "datalab1 = apply(datalab1, 'qact?', statistics.mean)\n",
    "datalab1 = apply(datalab1, 'qavt?', statistics.mean)\n",
    "datalab1 = apply(datalab1, 'qme?', max)\n",
    "datalab1 = apply(datalab1, 'qmce?', max)\n",
    "datalab1 = apply(datalab1, 'qmsr?', statistics.mean)\n",
    "datalab1 = apply(datalab1, 'qc?', statistics.mean)\n",
    "aux = datalab1['act_lab1'] / datalab1['sum(qat$_lab1)']\n",
    "for i in range(len(aux)):\n",
    "    if not aux[i] > 0:\n",
    "        aux[i] = 0\n",
    "datalab1['avgtime_lab1'] = aux\n",
    "datalab1 = datalab1.round(4)\n",
    " \n",
    " \n",
    "# Get dataframe\n",
    "datalab2_all = get_custom_dataframe(DATA, [2], ['p1p2','p2p2'], 'all', labels=True, index=None)\n",
    " \n",
    "datalab2 = copy.deepcopy(datalab2_all)\n",
    " \n",
    "# Remove questionsdifficulty\n",
    "remove_col(datalab2, 'qd?')\n",
    "# Group columns\n",
    "datalab2_all = apply(datalab2_all, ['p1p2','p2p2'], statistics.mean)\n",
    "datalab2 = apply(datalab2, ['p1p2','p2p2'], statistics.mean)\n",
    "datalab2 = apply(datalab2, 'dis_lab2', norm_log)\n",
    "datalab2 = apply(datalab2, 'qg?', statistics.mean)\n",
    "datalab2 = apply(datalab2, 'qat?', sum, replace=False)\n",
    "datalab2 = apply(datalab2, 'sum(qat$_lab2)', norm_log, replace=False)\n",
    "datalab2 = apply(datalab2, 'qat?', max)\n",
    "datalab2 = apply(datalab2, 'qact?', statistics.mean)\n",
    "datalab2 = apply(datalab2, 'qavt?', statistics.mean)\n",
    "datalab2 = apply(datalab2, 'qme?', max)\n",
    "datalab2 = apply(datalab2, 'qmce?', max)\n",
    "datalab2 = apply(datalab2, 'qmsr?', statistics.mean)\n",
    "datalab2 = apply(datalab2, 'qc?', statistics.mean)\n",
    "aux = datalab2['act_lab2'] / datalab2['sum(qat$_lab2)']\n",
    "for i in range(len(aux)):\n",
    "    if not aux[i] > 0:\n",
    "        aux[i] = 0\n",
    "datalab2['avgtime_lab2'] = aux\n",
    "datalab2 = datalab2.round(4)\n",
    " \n",
    " \n",
    "# Get dataframe\n",
    "datalab3_all = get_custom_dataframe(DATA, [3], ['p1p2','p2p2'], 'all', labels=True, index=None)\n",
    " \n",
    "datalab3 = copy.deepcopy(datalab3_all)\n",
    " \n",
    "# Remove questionsdifficulty\n",
    "remove_col(datalab3, 'qd?')\n",
    "# Group columns\n",
    "datalab3_all = apply(datalab3_all, ['p1p2','p2p2'], statistics.mean)\n",
    "datalab3 = apply(datalab3, ['p1p2','p2p2'], statistics.mean)\n",
    "datalab3 = apply(datalab3, 'dis_lab3', norm_log)\n",
    "datalab3 = apply(datalab3, 'qg?', statistics.mean)\n",
    "datalab3 = apply(datalab3, 'qat?', sum, replace=False)\n",
    "datalab3 = apply(datalab3, 'sum(qat$_lab3)', norm_log, replace=False)\n",
    "datalab3 = apply(datalab3, 'qat?', max)\n",
    "datalab3 = apply(datalab3, 'qact?', statistics.mean)\n",
    "datalab3 = apply(datalab3, 'qavt?', statistics.mean)\n",
    "datalab3 = apply(datalab3, 'qme?', max)\n",
    "datalab3 = apply(datalab3, 'qmce?', max)\n",
    "datalab3 = apply(datalab3, 'qmsr?', statistics.mean)\n",
    "datalab3 = apply(datalab3, 'qc?', statistics.mean)\n",
    "aux = datalab3['act_lab3'] / datalab3['sum(qat$_lab3)']\n",
    "for i in range(len(aux)):\n",
    "    if not aux[i] > 0:\n",
    "        aux[i] = 0\n",
    "datalab3['avgtime_lab3'] = aux\n",
    "datalab3 = datalab3.round(4)\n",
    " \n",
    " \n",
    "# Get dataframe\n",
    "datalab4_all = get_custom_dataframe(DATA, [4], ['p1p2','p2p2'], 'all', labels=True, index=None)\n",
    " \n",
    "datalab4 = copy.deepcopy(datalab4_all)\n",
    " \n",
    "# Remove questionsdifficulty\n",
    "remove_col(datalab4, 'qd?')\n",
    "# Group columns\n",
    "datalab4_all = apply(datalab4_all, ['p1p2','p2p2'], statistics.mean)\n",
    "datalab4 = apply(datalab4, ['p1p2','p2p2'], statistics.mean)\n",
    "datalab4 = apply(datalab4, 'dis_lab4', norm_log)\n",
    "datalab4 = apply(datalab4, 'qg?', statistics.mean)\n",
    "datalab4 = apply(datalab4, 'qat?', sum, replace=False)\n",
    "datalab4 = apply(datalab4, 'sum(qat$_lab4)', norm_log, replace=False)\n",
    "datalab4 = apply(datalab4, 'qat?', max)\n",
    "datalab4 = apply(datalab4, 'qact?', statistics.mean)\n",
    "datalab4 = apply(datalab4, 'qavt?', statistics.mean)\n",
    "datalab4 = apply(datalab4, 'qme?', max)\n",
    "datalab4 = apply(datalab4, 'qmce?', max)\n",
    "datalab4 = apply(datalab4, 'qmsr?', statistics.mean)\n",
    "datalab4 = apply(datalab4, 'qc?', statistics.mean)\n",
    "aux = datalab4['act_lab4'] / datalab4['sum(qat$_lab4)']\n",
    "for i in range(len(aux)):\n",
    "    if not aux[i] > 0:\n",
    "        aux[i] = 0\n",
    "datalab4['avgtime_lab4'] = aux\n",
    "datalab4 = datalab4.round(4)"
   ]
  },
  {
   "cell_type": "code",
   "execution_count": 4,
   "metadata": {},
   "outputs": [],
   "source": [
    "#@title **Parameters**\n",
    "\n",
    "# Objective vector\n",
    "TARGET = 'mean(p$p2)'\n",
    "NORM_TYPE = 'col'\n",
    "N_FEATURES = 5\n",
    " \n",
    " \n",
    "# Import needed libraries ----------------------------------------\n",
    "from sklearn.model_selection import GridSearchCV, train_test_split\n",
    "from sklearn.pipeline import Pipeline\n",
    "from sklearn.feature_selection import RFE, SelectFromModel\n",
    "from sklearn.ensemble import GradientBoostingRegressor\n",
    "import sklearn.metrics as metrics\n",
    "from sklearn.model_selection import KFold\n",
    " \n",
    "random_state = None # Random state for train_test_split"
   ]
  },
  {
   "cell_type": "code",
   "execution_count": 5,
   "metadata": {},
   "outputs": [],
   "source": [
    "#@title **Scale features** (NORMALIZACIÓN?)\n",
    " \n",
    "# Scale features -------------------------------------------------\n",
    "from sklearn.preprocessing import StandardScaler\n",
    "\n",
    "scaler1 = StandardScaler()\n",
    "scaler2 = StandardScaler()\n",
    "scaler3 = StandardScaler()\n",
    "scaler4 = StandardScaler()\n",
    "scaler_all = StandardScaler()\n",
    "\n",
    "datalab1 = datalab1[[TARGET]].join(pd.DataFrame(scaler1.fit_transform(datalab1), columns=datalab1.columns)[datalab1.columns[1:]])\n",
    "datalab2 = datalab2[[TARGET]].join(pd.DataFrame(scaler2.fit_transform(datalab2), columns=datalab2.columns)[datalab2.columns[1:]])\n",
    "datalab3 = datalab3[[TARGET]].join(pd.DataFrame(scaler3.fit_transform(datalab3), columns=datalab3.columns)[datalab3.columns[1:]])\n",
    "datalab4 = datalab4[[TARGET]].join(pd.DataFrame(scaler4.fit_transform(datalab4), columns=datalab4.columns)[datalab4.columns[1:]])"
   ]
  },
  {
   "cell_type": "code",
   "execution_count": 6,
   "metadata": {},
   "outputs": [],
   "source": [
    "#@title **Grid/Random-SearchCV process**   ????????¿¿¿¿\n",
    " \n",
    "def run_process(dataset, grid_cv, target=TARGET):\n",
    "    X, y = dataset.drop(target, axis=1), np.array(dataset[target])\n",
    "   \n",
    "    grid_cv.fit(X,y)\n",
    "    print('R2:', max(grid_cv.cv_results_['mean_test_score']))\n",
    "    selected_features = X.columns[grid_cv.best_estimator_.steps[0][-1].get_support()]\n",
    "    \n",
    "    return list(selected_features)\n",
    "    \n",
    "def run_process_obsolete(dataset, grid_cv, target=TARGET):\n",
    "    X, y = dataset.drop(target, axis=1), np.array(dataset[target])\n",
    "   \n",
    "    grid_cv.fit(X,y)\n",
    " \n",
    "    try:\n",
    "        print('R2-test-fit:', max(grid_cv.cv_results_['mean_test_score']))\n",
    "    except:\n",
    "        pass\n",
    "\n",
    "    try:\n",
    "        X_train, X_test, y_train, y_test = train_test_split(X, y, test_size=0.33)\n",
    "        grid_cv.best_estimator_.fit(X_train, y_train)\n",
    "        print('R2-test', grid_cv.best_estimator_.score(X_test, y_test))\n",
    "        print('MSE-test', metrics.mean_squared_error(y_test,grid_cv.best_estimator_.predict(X_test)))\n",
    "\n",
    "        print('Best params:', grid_cv.best_params_)\n",
    "\n",
    "        selected_features = X.columns[grid_cv.best_estimator_.steps[0][-1].get_support()]\n",
    "        print('Selected features:', list(selected_features))\n",
    "\n",
    "        return list(selected_features)\n",
    "    except:\n",
    "        return list(dataset.columns[1:])"
   ]
  },
  {
   "cell_type": "markdown",
   "metadata": {},
   "source": [
    "### Aplicar RFE (Recursive Feature Elimination) + GridSearchCV para obtener los atributos relevantes de cada lab."
   ]
  },
  {
   "cell_type": "code",
   "execution_count": 7,
   "metadata": {},
   "outputs": [],
   "source": [
    "#@title **SVR - Recursive Features Elimination**\n",
    "\n",
    "from sklearn.svm import SVR\n",
    "\n",
    "sel_estimator = SVR(kernel='linear')\n",
    "selector = RFE(sel_estimator)\n",
    "estimator = SVR()\n",
    "\n",
    "pipe = Pipeline([\n",
    "    ('sel', selector),\n",
    "    ('est', estimator)\n",
    "])\n",
    "\n",
    "params = {\n",
    "    'sel__n_features_to_select' : [5],\n",
    "    'sel__step'                 : [1,2],\n",
    "    'est__C'                    : [0.01,0.1,1],\n",
    "    'est__gamma'                : ['scale','auto'],\n",
    "    'est__kernel'               : ['linear','poly','rbf']\n",
    "}\n",
    "\n",
    "grid_svr = GridSearchCV(estimator=pipe,\n",
    "                        param_grid=params,\n",
    "                        scoring='r2',\n",
    "                        verbose=1,\n",
    "                        n_jobs=-1,\n",
    "                        return_train_score=True,\n",
    "                        cv=KFold(n_splits=10, shuffle=False))"
   ]
  },
  {
   "cell_type": "code",
   "execution_count": 8,
   "metadata": {},
   "outputs": [],
   "source": [
    "#datalab1"
   ]
  },
  {
   "cell_type": "markdown",
   "metadata": {},
   "source": [
    "**Ejemplo usando datalab4**"
   ]
  },
  {
   "cell_type": "code",
   "execution_count": 11,
   "metadata": {},
   "outputs": [
    {
     "name": "stdout",
     "output_type": "stream",
     "text": [
      "Fitting 10 folds for each of 36 candidates, totalling 360 fits\n"
     ]
    },
    {
     "name": "stderr",
     "output_type": "stream",
     "text": [
      "[Parallel(n_jobs=-1)]: Using backend LokyBackend with 4 concurrent workers.\n",
      "[Parallel(n_jobs=-1)]: Done  42 tasks      | elapsed:   34.7s\n",
      "[Parallel(n_jobs=-1)]: Done 192 tasks      | elapsed:   57.2s\n",
      "[Parallel(n_jobs=-1)]: Done 360 out of 360 | elapsed:  1.3min finished\n"
     ]
    },
    {
     "name": "stdout",
     "output_type": "stream",
     "text": [
      "R2: 0.19666919930390753\n"
     ]
    },
    {
     "data": {
      "text/plain": [
       "['act_lab4',\n",
       " 'cer_lab4',\n",
       " 'mean(qg$_lab4)',\n",
       " 'max(qat$_lab4)',\n",
       " 'norm_log(sum(qat$_lab4))']"
      ]
     },
     "execution_count": 11,
     "metadata": {},
     "output_type": "execute_result"
    }
   ],
   "source": [
    "datalab4_shuffle = datalab4.sample(frac=1,random_state=1).reset_index(drop=True)\n",
    "selected_features_svr_4 = run_process(datalab4_shuffle,grid_svr)\n",
    "selected_features_svr_4"
   ]
  },
  {
   "cell_type": "code",
   "execution_count": 19,
   "metadata": {},
   "outputs": [],
   "source": [
    "estimator = SVR()\n",
    "\n",
    "params = {\n",
    "    'C'         : [0.01,0.1,1],\n",
    "    'gamma'     : ['scale','auto'],\n",
    "    'kernel'    : ['linear','poly','rbf']\n",
    "}\n",
    "\n",
    "grid_svr = GridSearchCV(estimator=estimator,\n",
    "                        param_grid=params,\n",
    "                        scoring='r2',\n",
    "                        verbose=1,\n",
    "                        n_jobs=-1,\n",
    "                        return_train_score=True,\n",
    "                        cv=KFold(n_splits=5, shuffle=True))"
   ]
  },
  {
   "cell_type": "markdown",
   "metadata": {},
   "source": [
    "**Estos se debería obtener usando RFE (más arriba)**"
   ]
  },
  {
   "cell_type": "code",
   "execution_count": 13,
   "metadata": {},
   "outputs": [],
   "source": [
    "selected_features_svr_1 = ['mean(qmsr$_lab1)','actq2_lab1','actq3_lab1','mean(qg$_lab1)','actq1_lab1']\n",
    "selected_features_svr_2 = ['max(qat$_lab2)','mean(qact$_lab2)','mean(qmsr$_lab2)','g_lab2','actq1_lab2']\n",
    "selected_features_svr_3 = ['g_lab3','mean(qmsr$_lab3)','act_lab3','mean(qact$_lab3)','avgtime_lab3']\n",
    "selected_features_svr_4 = ['max(qat$_lab4)','err_lab4','mean(qact$_lab4)','cer_lab4','rt_lab4']"
   ]
  },
  {
   "cell_type": "markdown",
   "metadata": {},
   "source": [
    "**Ajuste de modelo SVR usando datalab3 unión datalab4**"
   ]
  },
  {
   "cell_type": "code",
   "execution_count": 15,
   "metadata": {},
   "outputs": [
    {
     "name": "stdout",
     "output_type": "stream",
     "text": [
      "Fitting 10 folds for each of 36 candidates, totalling 360 fits\n"
     ]
    },
    {
     "name": "stderr",
     "output_type": "stream",
     "text": [
      "[Parallel(n_jobs=-1)]: Using backend LokyBackend with 4 concurrent workers.\n",
      "[Parallel(n_jobs=-1)]: Done  42 tasks      | elapsed:   29.8s\n",
      "[Parallel(n_jobs=-1)]: Done 192 tasks      | elapsed:   37.5s\n"
     ]
    },
    {
     "name": "stdout",
     "output_type": "stream",
     "text": [
      "R2: 0.237588624880987\n"
     ]
    },
    {
     "name": "stderr",
     "output_type": "stream",
     "text": [
      "[Parallel(n_jobs=-1)]: Done 360 out of 360 | elapsed:   45.4s finished\n"
     ]
    },
    {
     "data": {
      "text/plain": [
       "['g_lab3',\n",
       " 'mean(qmsr$_lab3)',\n",
       " 'max(qat$_lab4)',\n",
       " 'err_lab4',\n",
       " 'mean(qact$_lab4)']"
      ]
     },
     "execution_count": 15,
     "metadata": {},
     "output_type": "execute_result"
    }
   ],
   "source": [
    "datalab3_shuffle = datalab3.sample(frac=1,random_state=1).reset_index(drop=True)\n",
    "datalab4_shuffle = datalab4.sample(frac=1,random_state=1).reset_index(drop=True)\n",
    "dataset = datalab3_shuffle[[TARGET] + selected_features_svr_3].join(datalab4_shuffle[selected_features_svr_4])\n",
    "run_process(dataset,grid_svr)\n"
   ]
  },
  {
   "cell_type": "markdown",
   "metadata": {},
   "source": [
    "**Esto aun tengo que revisarlo**"
   ]
  },
  {
   "cell_type": "code",
   "execution_count": 16,
   "metadata": {},
   "outputs": [
    {
     "ename": "ValueError",
     "evalue": "X has a different shape than during fitting.",
     "output_type": "error",
     "traceback": [
      "\u001b[1;31m---------------------------------------------------------------------------\u001b[0m",
      "\u001b[1;31mValueError\u001b[0m                                Traceback (most recent call last)",
      "\u001b[1;32m<ipython-input-16-93a685e54883>\u001b[0m in \u001b[0;36m<module>\u001b[1;34m()\u001b[0m\n\u001b[0;32m      4\u001b[0m \u001b[0mX_train\u001b[0m\u001b[1;33m,\u001b[0m \u001b[0mX_test\u001b[0m\u001b[1;33m,\u001b[0m \u001b[0my_train\u001b[0m\u001b[1;33m,\u001b[0m \u001b[0my_test\u001b[0m \u001b[1;33m=\u001b[0m \u001b[0mtrain_test_split\u001b[0m\u001b[1;33m(\u001b[0m\u001b[0mX\u001b[0m\u001b[1;33m,\u001b[0m \u001b[0my\u001b[0m\u001b[1;33m,\u001b[0m \u001b[0mtest_size\u001b[0m\u001b[1;33m=\u001b[0m\u001b[1;36m0.33\u001b[0m\u001b[1;33m)\u001b[0m\u001b[1;33m\u001b[0m\u001b[1;33m\u001b[0m\u001b[0m\n\u001b[0;32m      5\u001b[0m \u001b[1;33m\u001b[0m\u001b[0m\n\u001b[1;32m----> 6\u001b[1;33m \u001b[0my_pred\u001b[0m \u001b[1;33m=\u001b[0m \u001b[0mgrid_svr\u001b[0m\u001b[1;33m.\u001b[0m\u001b[0mbest_estimator_\u001b[0m\u001b[1;33m.\u001b[0m\u001b[0mpredict\u001b[0m\u001b[1;33m(\u001b[0m\u001b[0mX_test\u001b[0m\u001b[1;33m)\u001b[0m\u001b[1;33m\u001b[0m\u001b[1;33m\u001b[0m\u001b[0m\n\u001b[0m\u001b[0;32m      7\u001b[0m \u001b[1;33m\u001b[0m\u001b[0m\n\u001b[0;32m      8\u001b[0m \u001b[0mprint\u001b[0m\u001b[1;33m(\u001b[0m\u001b[1;34m'R2'\u001b[0m\u001b[1;33m,\u001b[0m \u001b[0mgrid_svr\u001b[0m\u001b[1;33m.\u001b[0m\u001b[0mscore\u001b[0m\u001b[1;33m(\u001b[0m\u001b[0mX_test\u001b[0m\u001b[1;33m,\u001b[0m\u001b[0my_test\u001b[0m\u001b[1;33m)\u001b[0m\u001b[1;33m)\u001b[0m\u001b[1;33m\u001b[0m\u001b[1;33m\u001b[0m\u001b[0m\n",
      "\u001b[1;32mC:\\Users\\Dell\\Anaconda3\\lib\\site-packages\\sklearn\\utils\\metaestimators.py\u001b[0m in \u001b[0;36m<lambda>\u001b[1;34m(*args, **kwargs)\u001b[0m\n\u001b[0;32m    114\u001b[0m \u001b[1;33m\u001b[0m\u001b[0m\n\u001b[0;32m    115\u001b[0m         \u001b[1;31m# lambda, but not partial, allows help() to work with update_wrapper\u001b[0m\u001b[1;33m\u001b[0m\u001b[1;33m\u001b[0m\u001b[1;33m\u001b[0m\u001b[0m\n\u001b[1;32m--> 116\u001b[1;33m         \u001b[0mout\u001b[0m \u001b[1;33m=\u001b[0m \u001b[1;32mlambda\u001b[0m \u001b[1;33m*\u001b[0m\u001b[0margs\u001b[0m\u001b[1;33m,\u001b[0m \u001b[1;33m**\u001b[0m\u001b[0mkwargs\u001b[0m\u001b[1;33m:\u001b[0m \u001b[0mself\u001b[0m\u001b[1;33m.\u001b[0m\u001b[0mfn\u001b[0m\u001b[1;33m(\u001b[0m\u001b[0mobj\u001b[0m\u001b[1;33m,\u001b[0m \u001b[1;33m*\u001b[0m\u001b[0margs\u001b[0m\u001b[1;33m,\u001b[0m \u001b[1;33m**\u001b[0m\u001b[0mkwargs\u001b[0m\u001b[1;33m)\u001b[0m\u001b[1;33m\u001b[0m\u001b[1;33m\u001b[0m\u001b[0m\n\u001b[0m\u001b[0;32m    117\u001b[0m         \u001b[1;31m# update the docstring of the returned function\u001b[0m\u001b[1;33m\u001b[0m\u001b[1;33m\u001b[0m\u001b[1;33m\u001b[0m\u001b[0m\n\u001b[0;32m    118\u001b[0m         \u001b[0mupdate_wrapper\u001b[0m\u001b[1;33m(\u001b[0m\u001b[0mout\u001b[0m\u001b[1;33m,\u001b[0m \u001b[0mself\u001b[0m\u001b[1;33m.\u001b[0m\u001b[0mfn\u001b[0m\u001b[1;33m)\u001b[0m\u001b[1;33m\u001b[0m\u001b[1;33m\u001b[0m\u001b[0m\n",
      "\u001b[1;32mC:\\Users\\Dell\\Anaconda3\\lib\\site-packages\\sklearn\\pipeline.py\u001b[0m in \u001b[0;36mpredict\u001b[1;34m(self, X, **predict_params)\u001b[0m\n\u001b[0;32m    415\u001b[0m         \u001b[0mXt\u001b[0m \u001b[1;33m=\u001b[0m \u001b[0mX\u001b[0m\u001b[1;33m\u001b[0m\u001b[1;33m\u001b[0m\u001b[0m\n\u001b[0;32m    416\u001b[0m         \u001b[1;32mfor\u001b[0m \u001b[0m_\u001b[0m\u001b[1;33m,\u001b[0m \u001b[0mname\u001b[0m\u001b[1;33m,\u001b[0m \u001b[0mtransform\u001b[0m \u001b[1;32min\u001b[0m \u001b[0mself\u001b[0m\u001b[1;33m.\u001b[0m\u001b[0m_iter\u001b[0m\u001b[1;33m(\u001b[0m\u001b[0mwith_final\u001b[0m\u001b[1;33m=\u001b[0m\u001b[1;32mFalse\u001b[0m\u001b[1;33m)\u001b[0m\u001b[1;33m:\u001b[0m\u001b[1;33m\u001b[0m\u001b[1;33m\u001b[0m\u001b[0m\n\u001b[1;32m--> 417\u001b[1;33m             \u001b[0mXt\u001b[0m \u001b[1;33m=\u001b[0m \u001b[0mtransform\u001b[0m\u001b[1;33m.\u001b[0m\u001b[0mtransform\u001b[0m\u001b[1;33m(\u001b[0m\u001b[0mXt\u001b[0m\u001b[1;33m)\u001b[0m\u001b[1;33m\u001b[0m\u001b[1;33m\u001b[0m\u001b[0m\n\u001b[0m\u001b[0;32m    418\u001b[0m         \u001b[1;32mreturn\u001b[0m \u001b[0mself\u001b[0m\u001b[1;33m.\u001b[0m\u001b[0msteps\u001b[0m\u001b[1;33m[\u001b[0m\u001b[1;33m-\u001b[0m\u001b[1;36m1\u001b[0m\u001b[1;33m]\u001b[0m\u001b[1;33m[\u001b[0m\u001b[1;33m-\u001b[0m\u001b[1;36m1\u001b[0m\u001b[1;33m]\u001b[0m\u001b[1;33m.\u001b[0m\u001b[0mpredict\u001b[0m\u001b[1;33m(\u001b[0m\u001b[0mXt\u001b[0m\u001b[1;33m,\u001b[0m \u001b[1;33m**\u001b[0m\u001b[0mpredict_params\u001b[0m\u001b[1;33m)\u001b[0m\u001b[1;33m\u001b[0m\u001b[1;33m\u001b[0m\u001b[0m\n\u001b[0;32m    419\u001b[0m \u001b[1;33m\u001b[0m\u001b[0m\n",
      "\u001b[1;32mC:\\Users\\Dell\\Anaconda3\\lib\\site-packages\\sklearn\\feature_selection\\_base.py\u001b[0m in \u001b[0;36mtransform\u001b[1;34m(self, X)\u001b[0m\n\u001b[0;32m     82\u001b[0m             \u001b[1;32mreturn\u001b[0m \u001b[0mnp\u001b[0m\u001b[1;33m.\u001b[0m\u001b[0mempty\u001b[0m\u001b[1;33m(\u001b[0m\u001b[1;36m0\u001b[0m\u001b[1;33m)\u001b[0m\u001b[1;33m.\u001b[0m\u001b[0mreshape\u001b[0m\u001b[1;33m(\u001b[0m\u001b[1;33m(\u001b[0m\u001b[0mX\u001b[0m\u001b[1;33m.\u001b[0m\u001b[0mshape\u001b[0m\u001b[1;33m[\u001b[0m\u001b[1;36m0\u001b[0m\u001b[1;33m]\u001b[0m\u001b[1;33m,\u001b[0m \u001b[1;36m0\u001b[0m\u001b[1;33m)\u001b[0m\u001b[1;33m)\u001b[0m\u001b[1;33m\u001b[0m\u001b[1;33m\u001b[0m\u001b[0m\n\u001b[0;32m     83\u001b[0m         \u001b[1;32mif\u001b[0m \u001b[0mlen\u001b[0m\u001b[1;33m(\u001b[0m\u001b[0mmask\u001b[0m\u001b[1;33m)\u001b[0m \u001b[1;33m!=\u001b[0m \u001b[0mX\u001b[0m\u001b[1;33m.\u001b[0m\u001b[0mshape\u001b[0m\u001b[1;33m[\u001b[0m\u001b[1;36m1\u001b[0m\u001b[1;33m]\u001b[0m\u001b[1;33m:\u001b[0m\u001b[1;33m\u001b[0m\u001b[1;33m\u001b[0m\u001b[0m\n\u001b[1;32m---> 84\u001b[1;33m             \u001b[1;32mraise\u001b[0m \u001b[0mValueError\u001b[0m\u001b[1;33m(\u001b[0m\u001b[1;34m\"X has a different shape than during fitting.\"\u001b[0m\u001b[1;33m)\u001b[0m\u001b[1;33m\u001b[0m\u001b[1;33m\u001b[0m\u001b[0m\n\u001b[0m\u001b[0;32m     85\u001b[0m         \u001b[1;32mreturn\u001b[0m \u001b[0mX\u001b[0m\u001b[1;33m[\u001b[0m\u001b[1;33m:\u001b[0m\u001b[1;33m,\u001b[0m \u001b[0msafe_mask\u001b[0m\u001b[1;33m(\u001b[0m\u001b[0mX\u001b[0m\u001b[1;33m,\u001b[0m \u001b[0mmask\u001b[0m\u001b[1;33m)\u001b[0m\u001b[1;33m]\u001b[0m\u001b[1;33m\u001b[0m\u001b[1;33m\u001b[0m\u001b[0m\n\u001b[0;32m     86\u001b[0m \u001b[1;33m\u001b[0m\u001b[0m\n",
      "\u001b[1;31mValueError\u001b[0m: X has a different shape than during fitting."
     ]
    }
   ],
   "source": [
    "#Se crea gráfico con los resultados obtenidos\n",
    "dataset = datalab1[[TARGET] + selected_features_svr_1].join(datalab2[selected_features_svr_2]).join(datalab3[selected_features_svr_3]).join(datalab4[selected_features_svr_4])\n",
    "X, y = dataset.drop(TARGET, axis=1), np.array(dataset[TARGET])\n",
    "X_train, X_test, y_train, y_test = train_test_split(X, y, test_size=0.33)\n",
    " \n",
    "y_pred = grid_svr.best_estimator_.predict(X_test)\n",
    "\n",
    "print('R2', grid_svr.score(X_test,y_test))\n",
    "\n",
    "import matplotlib.pyplot as plt\n",
    "\n",
    "z = [0,7]\n",
    "\n",
    "plt.plot(y_test, y_pred, 'ro', z, z)\n",
    "plt.xlabel('y_true')\n",
    "plt.ylabel('y_pred')\n",
    "plt.show()"
   ]
  },
  {
   "cell_type": "code",
   "execution_count": 25,
   "metadata": {},
   "outputs": [],
   "source": [
    "#@title **Random Forest Regressor** ???????????????\n",
    "\n",
    "from sklearn.ensemble import  RandomForestRegressor\n",
    " \n",
    "# GradientBoostingRegressor / RandomForestRegressor / SVR(kernel='linear')\n",
    "sel_estimator = GradientBoostingRegressor(random_state=random_state)\n",
    " \n",
    "# RFE / SelectFromModel\n",
    "selector = RFE(sel_estimator)\n",
    "estimator = RandomForestRegressor(random_state=random_state, n_jobs=-1)\n",
    " \n",
    "pipe = Pipeline([\n",
    "    ('sel', selector),\n",
    "    ('est', estimator)\n",
    "])\n",
    " \n",
    "params = {\n",
    "    'sel__estimator__learning_rate': [0.05,0.1,0.2],\n",
    "    'sel__n_features_to_select'    : [5],\n",
    "    'est__n_estimators'            : [50,100,200,400],\n",
    "    'est__criterion'               : ['mse','mae'],\n",
    "    'est__max_features'            : ['auto','sqrt','log2']\n",
    "}\n",
    " \n",
    "grid_rfr = GridSearchCV(estimator=pipe,\n",
    "                        param_grid=params,\n",
    "                        scoring='r2',\n",
    "                        verbose=1,\n",
    "                        n_jobs=-1,\n",
    "                        return_train_score=True,\n",
    "                        cv=KFold(n_splits=5, shuffle=True))"
   ]
  },
  {
   "cell_type": "code",
   "execution_count": 26,
   "metadata": {},
   "outputs": [
    {
     "name": "stdout",
     "output_type": "stream",
     "text": [
      "Fitting 5 folds for each of 72 candidates, totalling 360 fits\n"
     ]
    },
    {
     "name": "stderr",
     "output_type": "stream",
     "text": [
      "[Parallel(n_jobs=-1)]: Using backend LokyBackend with 8 concurrent workers.\n",
      "[Parallel(n_jobs=-1)]: Done  34 tasks      | elapsed:   21.9s\n",
      "[Parallel(n_jobs=-1)]: Done 184 tasks      | elapsed:  1.7min\n",
      "[Parallel(n_jobs=-1)]: Done 360 out of 360 | elapsed:  3.7min finished\n"
     ]
    },
    {
     "name": "stdout",
     "output_type": "stream",
     "text": [
      "R2-test-fit: 0.15648469503339457\n",
      "R2-test -0.032941959549266375\n",
      "MSE-test 2.6734967288392766\n",
      "Best params: {'est__criterion': 'mse', 'est__max_features': 'sqrt', 'est__n_estimators': 200, 'sel__estimator__learning_rate': 0.2, 'sel__n_features_to_select': 5}\n",
      "Selected features: ['ct_lab1', 'rtr_lab1', 'cer_lab1', 'actq1_lab1', 'actq3_lab1']\n"
     ]
    }
   ],
   "source": [
    "# 9 veces cada laboratorio  LAB 1\n",
    "selected_features_rfr_1 = run_process(datalab1,grid_rfr)"
   ]
  },
  {
   "cell_type": "code",
   "execution_count": 27,
   "metadata": {},
   "outputs": [
    {
     "name": "stdout",
     "output_type": "stream",
     "text": [
      "Fitting 5 folds for each of 72 candidates, totalling 360 fits\n"
     ]
    },
    {
     "name": "stderr",
     "output_type": "stream",
     "text": [
      "[Parallel(n_jobs=-1)]: Using backend LokyBackend with 8 concurrent workers.\n",
      "[Parallel(n_jobs=-1)]: Done  34 tasks      | elapsed:   15.1s\n",
      "[Parallel(n_jobs=-1)]: Done 184 tasks      | elapsed:  1.2min\n",
      "[Parallel(n_jobs=-1)]: Done 360 out of 360 | elapsed:  2.7min finished\n"
     ]
    },
    {
     "name": "stdout",
     "output_type": "stream",
     "text": [
      "R2-test-fit: -0.018095746954170443\n",
      "R2-test -0.11301249609564001\n",
      "MSE-test 2.84100540864934\n",
      "Best params: {'est__criterion': 'mse', 'est__max_features': 'sqrt', 'est__n_estimators': 400, 'sel__estimator__learning_rate': 0.05, 'sel__n_features_to_select': 5}\n",
      "Selected features: ['ut_lab2', 'rt_lab2', 'actq1_lab2', 'mean(qact$_lab2)', 'mean(qavt$_lab2)']\n"
     ]
    }
   ],
   "source": [
    "selected_features_rfr_2 = run_process(datalab2,grid_rfr)"
   ]
  },
  {
   "cell_type": "code",
   "execution_count": 28,
   "metadata": {},
   "outputs": [
    {
     "name": "stdout",
     "output_type": "stream",
     "text": [
      "Fitting 5 folds for each of 72 candidates, totalling 360 fits\n"
     ]
    },
    {
     "name": "stderr",
     "output_type": "stream",
     "text": [
      "[Parallel(n_jobs=-1)]: Using backend LokyBackend with 8 concurrent workers.\n",
      "[Parallel(n_jobs=-1)]: Done  34 tasks      | elapsed:   11.8s\n",
      "[Parallel(n_jobs=-1)]: Done 184 tasks      | elapsed:  1.1min\n",
      "[Parallel(n_jobs=-1)]: Done 360 out of 360 | elapsed:  2.6min finished\n"
     ]
    },
    {
     "name": "stdout",
     "output_type": "stream",
     "text": [
      "R2-test-fit: 0.12379887449004692\n",
      "R2-test 0.3071248137683775\n",
      "MSE-test 1.7571345654761903\n",
      "Best params: {'est__criterion': 'mae', 'est__max_features': 'log2', 'est__n_estimators': 100, 'sel__estimator__learning_rate': 0.05, 'sel__n_features_to_select': 5}\n",
      "Selected features: ['ut_lab3', 'act_lab3', 'rt_lab3', 'actq1_lab3', 'avgtime_lab3']\n"
     ]
    }
   ],
   "source": [
    "selected_features_rfr_3 = run_process(datalab3,grid_rfr)"
   ]
  },
  {
   "cell_type": "code",
   "execution_count": 29,
   "metadata": {},
   "outputs": [
    {
     "name": "stdout",
     "output_type": "stream",
     "text": [
      "Fitting 5 folds for each of 72 candidates, totalling 360 fits\n"
     ]
    },
    {
     "name": "stderr",
     "output_type": "stream",
     "text": [
      "[Parallel(n_jobs=-1)]: Using backend LokyBackend with 8 concurrent workers.\n",
      "[Parallel(n_jobs=-1)]: Done  34 tasks      | elapsed:   11.2s\n",
      "[Parallel(n_jobs=-1)]: Done 184 tasks      | elapsed:  1.1min\n",
      "[Parallel(n_jobs=-1)]: Done 360 out of 360 | elapsed:  2.6min finished\n"
     ]
    },
    {
     "name": "stdout",
     "output_type": "stream",
     "text": [
      "R2-test-fit: 0.18982981180504127\n",
      "R2-test -0.03737131604175681\n",
      "MSE-test 2.5823852695578804\n",
      "Best params: {'est__criterion': 'mse', 'est__max_features': 'sqrt', 'est__n_estimators': 50, 'sel__estimator__learning_rate': 0.2, 'sel__n_features_to_select': 5}\n",
      "Selected features: ['g_lab4', 'rtr_lab4', 'actq1_lab4', 'actq2_lab4', 'mean(qc$_lab4)']\n"
     ]
    }
   ],
   "source": [
    "selected_features_rfr_4 = run_process(datalab4,grid_rfr)"
   ]
  },
  {
   "cell_type": "code",
   "execution_count": 30,
   "metadata": {},
   "outputs": [],
   "source": [
    "estimator = RandomForestRegressor(random_state=random_state, n_jobs=-1)\n",
    " \n",
    "params = {\n",
    "    'n_estimators'  : [50,100,200,400],\n",
    "    'criterion'     : ['mse','mae'],\n",
    "    'max_features'  : ['auto','sqrt','log2']\n",
    "}\n",
    " \n",
    "grid_rfr = GridSearchCV(estimator=estimator,\n",
    "                        param_grid=params,\n",
    "                        scoring='r2',\n",
    "                        verbose=1,\n",
    "                        n_jobs=-1,\n",
    "                        return_train_score=True,\n",
    "                        cv=KFold(n_splits=5, shuffle=True))"
   ]
  },
  {
   "cell_type": "code",
   "execution_count": 31,
   "metadata": {},
   "outputs": [
    {
     "name": "stdout",
     "output_type": "stream",
     "text": [
      "Fitting 5 folds for each of 24 candidates, totalling 120 fits\n"
     ]
    },
    {
     "name": "stderr",
     "output_type": "stream",
     "text": [
      "[Parallel(n_jobs=-1)]: Using backend LokyBackend with 8 concurrent workers.\n",
      "[Parallel(n_jobs=-1)]: Done  34 tasks      | elapsed:    2.3s\n",
      "[Parallel(n_jobs=-1)]: Done 120 out of 120 | elapsed:   14.7s finished\n"
     ]
    },
    {
     "name": "stdout",
     "output_type": "stream",
     "text": [
      "R2-test-fit: 0.010421397773547248\n",
      "R2-test 0.08380392277509674\n",
      "MSE-test 2.049888416459987\n",
      "Best params: {'criterion': 'mse', 'max_features': 'log2', 'n_estimators': 400}\n"
     ]
    },
    {
     "data": {
      "text/plain": [
       "['ct_lab1',\n",
       " 'rtr_lab1',\n",
       " 'cer_lab1',\n",
       " 'actq1_lab1',\n",
       " 'actq3_lab1',\n",
       " 'ut_lab2',\n",
       " 'rt_lab2',\n",
       " 'actq1_lab2',\n",
       " 'mean(qact$_lab2)',\n",
       " 'mean(qavt$_lab2)']"
      ]
     },
     "execution_count": 31,
     "metadata": {},
     "output_type": "execute_result"
    }
   ],
   "source": [
    "#Combinación de laboratorios\n",
    "dataset = datalab1[[TARGET] + selected_features_rfr_1].join(datalab2[selected_features_rfr_2])\n",
    "run_process(dataset,grid_rfr)"
   ]
  },
  {
   "cell_type": "code",
   "execution_count": 32,
   "metadata": {},
   "outputs": [
    {
     "name": "stdout",
     "output_type": "stream",
     "text": [
      "Fitting 5 folds for each of 24 candidates, totalling 120 fits\n"
     ]
    },
    {
     "name": "stderr",
     "output_type": "stream",
     "text": [
      "[Parallel(n_jobs=-1)]: Using backend LokyBackend with 8 concurrent workers.\n",
      "[Parallel(n_jobs=-1)]: Done  34 tasks      | elapsed:    2.5s\n",
      "[Parallel(n_jobs=-1)]: Done 120 out of 120 | elapsed:   16.0s finished\n"
     ]
    },
    {
     "name": "stdout",
     "output_type": "stream",
     "text": [
      "R2-test-fit: 0.2027638532757457\n",
      "R2-test 0.12983179492337216\n",
      "MSE-test 1.9741410863095237\n",
      "Best params: {'criterion': 'mae', 'max_features': 'sqrt', 'n_estimators': 100}\n"
     ]
    },
    {
     "data": {
      "text/plain": [
       "['ct_lab1',\n",
       " 'rtr_lab1',\n",
       " 'cer_lab1',\n",
       " 'actq1_lab1',\n",
       " 'actq3_lab1',\n",
       " 'ut_lab2',\n",
       " 'rt_lab2',\n",
       " 'actq1_lab2',\n",
       " 'mean(qact$_lab2)',\n",
       " 'mean(qavt$_lab2)',\n",
       " 'ut_lab3',\n",
       " 'act_lab3',\n",
       " 'rt_lab3',\n",
       " 'actq1_lab3',\n",
       " 'avgtime_lab3']"
      ]
     },
     "execution_count": 32,
     "metadata": {},
     "output_type": "execute_result"
    }
   ],
   "source": [
    "#Lab 1,2,3\n",
    "dataset = datalab1[[TARGET] + selected_features_rfr_1].join(datalab2[selected_features_rfr_2]).join(datalab3[selected_features_rfr_3])\n",
    "run_process(dataset,grid_rfr)"
   ]
  },
  {
   "cell_type": "code",
   "execution_count": 33,
   "metadata": {},
   "outputs": [
    {
     "name": "stdout",
     "output_type": "stream",
     "text": [
      "Fitting 5 folds for each of 24 candidates, totalling 120 fits\n"
     ]
    },
    {
     "name": "stderr",
     "output_type": "stream",
     "text": [
      "[Parallel(n_jobs=-1)]: Using backend LokyBackend with 8 concurrent workers.\n",
      "[Parallel(n_jobs=-1)]: Done  52 tasks      | elapsed:    4.2s\n",
      "[Parallel(n_jobs=-1)]: Done 120 out of 120 | elapsed:   17.7s finished\n"
     ]
    },
    {
     "name": "stdout",
     "output_type": "stream",
     "text": [
      "R2-test-fit: 0.24446863395794322\n",
      "R2-test 0.14342676987449687\n",
      "MSE-test 1.9213762440476192\n",
      "Best params: {'criterion': 'mae', 'max_features': 'auto', 'n_estimators': 100}\n"
     ]
    },
    {
     "data": {
      "text/plain": [
       "['ct_lab1',\n",
       " 'rtr_lab1',\n",
       " 'cer_lab1',\n",
       " 'actq1_lab1',\n",
       " 'actq3_lab1',\n",
       " 'ut_lab2',\n",
       " 'rt_lab2',\n",
       " 'actq1_lab2',\n",
       " 'mean(qact$_lab2)',\n",
       " 'mean(qavt$_lab2)',\n",
       " 'ut_lab3',\n",
       " 'act_lab3',\n",
       " 'rt_lab3',\n",
       " 'actq1_lab3',\n",
       " 'avgtime_lab3',\n",
       " 'g_lab4',\n",
       " 'rtr_lab4',\n",
       " 'actq1_lab4',\n",
       " 'actq2_lab4',\n",
       " 'mean(qc$_lab4)']"
      ]
     },
     "execution_count": 33,
     "metadata": {},
     "output_type": "execute_result"
    }
   ],
   "source": [
    "#Lab 1,2,3,4\n",
    "dataset = datalab1[[TARGET] + selected_features_rfr_1].join(datalab2[selected_features_rfr_2]).join(datalab3[selected_features_rfr_3]).join(datalab4[selected_features_rfr_4])\n",
    "run_process(dataset,grid_rfr)"
   ]
  },
  {
   "cell_type": "code",
   "execution_count": 34,
   "metadata": {},
   "outputs": [],
   "source": [
    "#@title **Linear Regression** REGRESION LINEAL\n",
    "\n",
    "from sklearn.linear_model import LinearRegression\n",
    " \n",
    "# GradientBoostingRegressor / RandomForestRegressor / SVR(kernel='linear')\n",
    "sel_estimator = GradientBoostingRegressor(random_state=random_state)\n",
    " \n",
    "# RFE / SelectFromModel\n",
    "selector = RFE(sel_estimator)\n",
    "estimator = LinearRegression()\n",
    "\n",
    "pipe = Pipeline([\n",
    "    ('sel', selector),\n",
    "    ('est', estimator)\n",
    "])\n",
    " \n",
    "# params = {'est__n_jobs': [-1], \n",
    "#           'est__normalize': [True], \n",
    "#           'sel__estimator__learning_rate': [0.1], \n",
    "#           'sel__estimator__n_estimators': [100], \n",
    "#           'sel__max_features': [10], \n",
    "#           'sel__prefit': [False]}\n",
    "\n",
    "params = {\n",
    "    'sel__n_features_to_select' : [5],\n",
    "    'sel__step'                 : [1,2],\n",
    "    'est__n_jobs'               : [-1],\n",
    "}\n",
    " \n",
    "grid_lr = GridSearchCV(estimator=pipe,\n",
    "                       param_grid=params,\n",
    "                       scoring='r2',\n",
    "                       verbose=1,\n",
    "                       n_jobs=-1,\n",
    "                       return_train_score=True,\n",
    "                       cv=KFold(n_splits=5, shuffle=True))"
   ]
  },
  {
   "cell_type": "code",
   "execution_count": 35,
   "metadata": {},
   "outputs": [
    {
     "name": "stdout",
     "output_type": "stream",
     "text": [
      "Fitting 5 folds for each of 2 candidates, totalling 10 fits\n"
     ]
    },
    {
     "name": "stderr",
     "output_type": "stream",
     "text": [
      "[Parallel(n_jobs=-1)]: Using backend LokyBackend with 8 concurrent workers.\n",
      "[Parallel(n_jobs=-1)]: Done   6 out of  10 | elapsed:    2.1s remaining:    1.4s\n",
      "[Parallel(n_jobs=-1)]: Done  10 out of  10 | elapsed:    2.2s finished\n"
     ]
    },
    {
     "name": "stdout",
     "output_type": "stream",
     "text": [
      "R2-test-fit: -0.039115662577532274\n",
      "R2-test -0.08542047328877844\n",
      "MSE-test 2.6884169923020687\n",
      "Best params: {'est__n_jobs': -1, 'sel__n_features_to_select': 5, 'sel__step': 1}\n",
      "Selected features: ['ut_lab1', 'rtr_lab1', 'actq1_lab1', 'actq2_lab1', 'mean(qmsr$_lab1)']\n"
     ]
    }
   ],
   "source": [
    "#Ejecución por cada laboratorio 10 veces LAB1 \n",
    "selected_features_lr_1 = run_process(datalab1,grid_lr)"
   ]
  },
  {
   "cell_type": "code",
   "execution_count": 36,
   "metadata": {},
   "outputs": [
    {
     "name": "stdout",
     "output_type": "stream",
     "text": [
      "Fitting 5 folds for each of 2 candidates, totalling 10 fits\n"
     ]
    },
    {
     "name": "stderr",
     "output_type": "stream",
     "text": [
      "[Parallel(n_jobs=-1)]: Using backend LokyBackend with 8 concurrent workers.\n",
      "[Parallel(n_jobs=-1)]: Done   6 out of  10 | elapsed:    2.0s remaining:    1.3s\n",
      "[Parallel(n_jobs=-1)]: Done  10 out of  10 | elapsed:    2.1s finished\n"
     ]
    },
    {
     "name": "stdout",
     "output_type": "stream",
     "text": [
      "R2-test-fit: -0.07139338539186058\n",
      "R2-test -0.0700585363584354\n",
      "MSE-test 2.555593914434384\n",
      "Best params: {'est__n_jobs': -1, 'sel__n_features_to_select': 5, 'sel__step': 1}\n",
      "Selected features: ['act_lab2', 'actq1_lab2', 'actq3_lab2', 'mean(qact$_lab2)', 'avgtime_lab2']\n"
     ]
    }
   ],
   "source": [
    "selected_features_lr_2 = run_process(datalab2,grid_lr)"
   ]
  },
  {
   "cell_type": "code",
   "execution_count": 37,
   "metadata": {},
   "outputs": [
    {
     "name": "stdout",
     "output_type": "stream",
     "text": [
      "Fitting 5 folds for each of 2 candidates, totalling 10 fits\n"
     ]
    },
    {
     "name": "stderr",
     "output_type": "stream",
     "text": [
      "[Parallel(n_jobs=-1)]: Using backend LokyBackend with 8 concurrent workers.\n",
      "[Parallel(n_jobs=-1)]: Done   6 out of  10 | elapsed:    2.0s remaining:    1.3s\n",
      "[Parallel(n_jobs=-1)]: Done  10 out of  10 | elapsed:    2.1s finished\n"
     ]
    },
    {
     "name": "stdout",
     "output_type": "stream",
     "text": [
      "R2-test-fit: 0.0631262032950449\n",
      "R2-test -0.5319301437463944\n",
      "MSE-test 3.46146302976157\n",
      "Best params: {'est__n_jobs': -1, 'sel__n_features_to_select': 5, 'sel__step': 2}\n",
      "Selected features: ['act_lab3', 'rt_lab3', 'rtr_lab3', 'err_lab3', 'actq2_lab3']\n"
     ]
    }
   ],
   "source": [
    "selected_features_lr_3 = run_process(datalab3,grid_lr)"
   ]
  },
  {
   "cell_type": "code",
   "execution_count": 38,
   "metadata": {},
   "outputs": [
    {
     "name": "stdout",
     "output_type": "stream",
     "text": [
      "Fitting 5 folds for each of 2 candidates, totalling 10 fits\n"
     ]
    },
    {
     "name": "stderr",
     "output_type": "stream",
     "text": [
      "[Parallel(n_jobs=-1)]: Using backend LokyBackend with 8 concurrent workers.\n",
      "[Parallel(n_jobs=-1)]: Done   6 out of  10 | elapsed:    2.0s remaining:    1.3s\n",
      "[Parallel(n_jobs=-1)]: Done  10 out of  10 | elapsed:    2.1s finished\n"
     ]
    },
    {
     "name": "stdout",
     "output_type": "stream",
     "text": [
      "R2-test-fit: 0.057554512101204366\n",
      "R2-test 0.2580964025049106\n",
      "MSE-test 1.8179340366868868\n",
      "Best params: {'est__n_jobs': -1, 'sel__n_features_to_select': 5, 'sel__step': 2}\n",
      "Selected features: ['rtr_lab4', 'err_lab4', 'cer_lab4', 'mean(qavt$_lab4)', 'mean(qc$_lab4)']\n"
     ]
    }
   ],
   "source": [
    "selected_features_lr_4 = run_process(datalab4,grid_lr)"
   ]
  },
  {
   "cell_type": "code",
   "execution_count": 39,
   "metadata": {},
   "outputs": [],
   "source": [
    "estimator = LinearRegression()\n",
    " \n",
    "params = {\n",
    "    'n_jobs'    : [-1],\n",
    "}\n",
    " \n",
    "grid_lr = GridSearchCV(estimator=estimator,\n",
    "                       param_grid=params,\n",
    "                       scoring='r2',\n",
    "                       verbose=1,\n",
    "                       n_jobs=-1,\n",
    "                       return_train_score=True,\n",
    "                       cv=KFold(n_splits=5, shuffle=True))"
   ]
  },
  {
   "cell_type": "code",
   "execution_count": 40,
   "metadata": {},
   "outputs": [],
   "source": [
    "selected_features_lr_1 = ['actq3_lab1','actq1_lab1','mean(qmsr$_lab1)','rtr_lab1','cer_lab1']\n",
    "selected_features_lr_2 = ['actq3_lab2','actq1_lab2','mean(qavt$_lab2)','avgtime_lab2','rt_lab2']\n",
    "selected_features_lr_3 = ['rt_lab3','actq1_lab3','ut_lab3','mean(qact$_lab3)','cer_lab3']\n",
    "selected_features_lr_4 = ['rt_lab4','cer_lab4','err_lab4','actq1_lab4','mean(qc$_lab4)']"
   ]
  },
  {
   "cell_type": "code",
   "execution_count": 41,
   "metadata": {},
   "outputs": [
    {
     "name": "stdout",
     "output_type": "stream",
     "text": [
      "Fitting 5 folds for each of 1 candidates, totalling 5 fits\n"
     ]
    },
    {
     "name": "stderr",
     "output_type": "stream",
     "text": [
      "[Parallel(n_jobs=-1)]: Using backend LokyBackend with 8 concurrent workers.\n"
     ]
    },
    {
     "name": "stdout",
     "output_type": "stream",
     "text": [
      "R2-test-fit: -0.03501798387094361\n",
      "R2-test -0.17181701099692348\n",
      "MSE-test 2.966399294676343\n",
      "Best params: {'n_jobs': -1}\n"
     ]
    },
    {
     "name": "stderr",
     "output_type": "stream",
     "text": [
      "[Parallel(n_jobs=-1)]: Done   2 out of   5 | elapsed:    1.8s remaining:    2.7s\n",
      "[Parallel(n_jobs=-1)]: Done   5 out of   5 | elapsed:    1.8s finished\n"
     ]
    },
    {
     "data": {
      "text/plain": [
       "['actq3_lab1',\n",
       " 'actq1_lab1',\n",
       " 'mean(qmsr$_lab1)',\n",
       " 'rtr_lab1',\n",
       " 'cer_lab1',\n",
       " 'actq3_lab2',\n",
       " 'actq1_lab2',\n",
       " 'mean(qavt$_lab2)',\n",
       " 'avgtime_lab2',\n",
       " 'rt_lab2']"
      ]
     },
     "execution_count": 41,
     "metadata": {},
     "output_type": "execute_result"
    }
   ],
   "source": [
    "# Combinación de laboratorios LR  (1 y 2)\n",
    "dataset = datalab1[[TARGET] + selected_features_lr_1].join(datalab2[selected_features_lr_2])\n",
    "run_process(dataset,grid_lr)"
   ]
  },
  {
   "cell_type": "code",
   "execution_count": 42,
   "metadata": {},
   "outputs": [
    {
     "name": "stdout",
     "output_type": "stream",
     "text": [
      "Fitting 5 folds for each of 1 candidates, totalling 5 fits\n"
     ]
    },
    {
     "name": "stderr",
     "output_type": "stream",
     "text": [
      "[Parallel(n_jobs=-1)]: Using backend LokyBackend with 8 concurrent workers.\n",
      "[Parallel(n_jobs=-1)]: Done   2 out of   5 | elapsed:    0.0s remaining:    0.0s\n"
     ]
    },
    {
     "name": "stdout",
     "output_type": "stream",
     "text": [
      "R2-test-fit: 0.012498569145814842\n",
      "R2-test 0.0946209769218439\n",
      "MSE-test 2.3491900691953846\n",
      "Best params: {'n_jobs': -1}\n"
     ]
    },
    {
     "name": "stderr",
     "output_type": "stream",
     "text": [
      "[Parallel(n_jobs=-1)]: Done   5 out of   5 | elapsed:    1.1s finished\n"
     ]
    },
    {
     "data": {
      "text/plain": [
       "['actq3_lab1',\n",
       " 'actq1_lab1',\n",
       " 'mean(qmsr$_lab1)',\n",
       " 'rtr_lab1',\n",
       " 'cer_lab1',\n",
       " 'actq3_lab2',\n",
       " 'actq1_lab2',\n",
       " 'mean(qavt$_lab2)',\n",
       " 'avgtime_lab2',\n",
       " 'rt_lab2',\n",
       " 'rt_lab3',\n",
       " 'actq1_lab3',\n",
       " 'ut_lab3',\n",
       " 'mean(qact$_lab3)',\n",
       " 'cer_lab3']"
      ]
     },
     "execution_count": 42,
     "metadata": {},
     "output_type": "execute_result"
    }
   ],
   "source": [
    "#1,2,3\n",
    "dataset = datalab1[[TARGET] + selected_features_lr_1].join(datalab2[selected_features_lr_2]).join(datalab3[selected_features_lr_3])\n",
    "run_process(dataset,grid_lr)"
   ]
  },
  {
   "cell_type": "code",
   "execution_count": 43,
   "metadata": {},
   "outputs": [
    {
     "name": "stdout",
     "output_type": "stream",
     "text": [
      "Fitting 5 folds for each of 1 candidates, totalling 5 fits\n",
      "R2-test-fit: 0.1625791624535387\n",
      "R2-test 0.1384856749093697\n",
      "MSE-test 2.034743970793914\n",
      "Best params: {'n_jobs': -1}\n"
     ]
    },
    {
     "name": "stderr",
     "output_type": "stream",
     "text": [
      "[Parallel(n_jobs=-1)]: Using backend LokyBackend with 8 concurrent workers.\n",
      "[Parallel(n_jobs=-1)]: Done   2 out of   5 | elapsed:    0.0s remaining:    0.0s\n",
      "[Parallel(n_jobs=-1)]: Done   5 out of   5 | elapsed:    0.0s finished\n"
     ]
    },
    {
     "data": {
      "text/plain": [
       "['actq3_lab1',\n",
       " 'actq1_lab1',\n",
       " 'mean(qmsr$_lab1)',\n",
       " 'rtr_lab1',\n",
       " 'cer_lab1',\n",
       " 'actq3_lab2',\n",
       " 'actq1_lab2',\n",
       " 'mean(qavt$_lab2)',\n",
       " 'avgtime_lab2',\n",
       " 'rt_lab2',\n",
       " 'rt_lab3',\n",
       " 'actq1_lab3',\n",
       " 'ut_lab3',\n",
       " 'mean(qact$_lab3)',\n",
       " 'cer_lab3',\n",
       " 'rt_lab4',\n",
       " 'cer_lab4',\n",
       " 'err_lab4',\n",
       " 'actq1_lab4',\n",
       " 'mean(qc$_lab4)']"
      ]
     },
     "execution_count": 43,
     "metadata": {},
     "output_type": "execute_result"
    }
   ],
   "source": [
    "#1,2,3 y 4\n",
    "dataset = datalab1[[TARGET] + selected_features_lr_1].join(datalab2[selected_features_lr_2]).join(datalab3[selected_features_lr_3]).join(datalab4[selected_features_lr_4])\n",
    "run_process(dataset,grid_lr)"
   ]
  },
  {
   "cell_type": "code",
   "execution_count": 45,
   "metadata": {},
   "outputs": [
    {
     "name": "stderr",
     "output_type": "stream",
     "text": [
      "\"apt-get\" no se reconoce como un comando interno o externo,\n",
      "programa o archivo por lotes ejecutable.\n"
     ]
    },
    {
     "name": "stdout",
     "output_type": "stream",
     "text": [
      "Requirement already satisfied: Cython in c:\\users\\asdrb\\anaconda3\\lib\\site-packages (0.29.21)\n",
      "Requirement already satisfied: numpy in c:\\users\\asdrb\\anaconda3\\lib\\site-packages (1.19.2)\n",
      "Collecting auto-sklearn\n",
      "  Downloading auto-sklearn-0.12.3.tar.gz (6.1 MB)\n"
     ]
    },
    {
     "name": "stderr",
     "output_type": "stream",
     "text": [
      "    ERROR: Command errored out with exit status 1:\n",
      "     command: 'C:\\Users\\ASDRB\\anaconda3\\python.exe' -c 'import sys, setuptools, tokenize; sys.argv[0] = '\"'\"'C:\\\\Users\\\\ASDRB\\\\AppData\\\\Local\\\\Temp\\\\pip-install-0gyzi1x1\\\\auto-sklearn\\\\setup.py'\"'\"'; __file__='\"'\"'C:\\\\Users\\\\ASDRB\\\\AppData\\\\Local\\\\Temp\\\\pip-install-0gyzi1x1\\\\auto-sklearn\\\\setup.py'\"'\"';f=getattr(tokenize, '\"'\"'open'\"'\"', open)(__file__);code=f.read().replace('\"'\"'\\r\\n'\"'\"', '\"'\"'\\n'\"'\"');f.close();exec(compile(code, __file__, '\"'\"'exec'\"'\"'))' egg_info --egg-base 'C:\\Users\\ASDRB\\AppData\\Local\\Temp\\pip-pip-egg-info-mphmcps0'\n",
      "         cwd: C:\\Users\\ASDRB\\AppData\\Local\\Temp\\pip-install-0gyzi1x1\\auto-sklearn\\\n",
      "    Complete output (5 lines):\n",
      "    Traceback (most recent call last):\n",
      "      File \"<string>\", line 1, in <module>\n",
      "      File \"C:\\Users\\ASDRB\\AppData\\Local\\Temp\\pip-install-0gyzi1x1\\auto-sklearn\\setup.py\", line 9, in <module>\n",
      "        raise ValueError(\n",
      "    ValueError: Detected unsupported operating system: win32. Please check the compability information of auto-sklearn: https://automl.github.io/auto-sklearn/master/installation.html#windows-osx-compatibility\n",
      "    ----------------------------------------\n",
      "ERROR: Command errored out with exit status 1: python setup.py egg_info Check the logs for full command output.\n"
     ]
    },
    {
     "name": "stdout",
     "output_type": "stream",
     "text": [
      "Collecting scikit-learn==0.23.0\n",
      "  Downloading scikit_learn-0.23.0-cp38-cp38-win_amd64.whl (6.8 MB)\n",
      "Requirement already satisfied: numpy>=1.13.3 in c:\\users\\asdrb\\anaconda3\\lib\\site-packages (from scikit-learn==0.23.0) (1.19.2)\n",
      "Requirement already satisfied: joblib>=0.11 in c:\\users\\asdrb\\anaconda3\\lib\\site-packages (from scikit-learn==0.23.0) (0.17.0)\n"
     ]
    },
    {
     "name": "stderr",
     "output_type": "stream",
     "text": [
      "ERROR: Could not install packages due to an EnvironmentError: [WinError 5] Acceso denegado: 'C:\\\\Users\\\\ASDRB\\\\anaconda3\\\\Lib\\\\site-packages\\\\~klearn\\\\decomposition\\\\_cdnmf_fast.cp38-win_amd64.pyd'\n",
      "Consider using the `--user` option or check the permissions.\n",
      "\n"
     ]
    },
    {
     "name": "stdout",
     "output_type": "stream",
     "text": [
      "Requirement already satisfied: scipy>=0.19.1 in c:\\users\\asdrb\\anaconda3\\lib\\site-packages (from scikit-learn==0.23.0) (1.5.2)\n",
      "Requirement already satisfied: threadpoolctl>=2.0.0 in c:\\users\\asdrb\\anaconda3\\lib\\site-packages (from scikit-learn==0.23.0) (2.1.0)\n",
      "Installing collected packages: scikit-learn\n",
      "  Attempting uninstall: scikit-learn\n",
      "    Found existing installation: scikit-learn 0.23.2\n",
      "    Uninstalling scikit-learn-0.23.2:\n",
      "      Successfully uninstalled scikit-learn-0.23.2\n",
      "Requirement already satisfied: dask in c:\\users\\asdrb\\anaconda3\\lib\\site-packages (2.30.0)\n",
      "Requirement already satisfied: distributed in c:\\users\\asdrb\\anaconda3\\lib\\site-packages (2.30.1)\n",
      "Requirement already satisfied: pyyaml in c:\\users\\asdrb\\anaconda3\\lib\\site-packages (from dask) (5.3.1)\n",
      "Requirement already satisfied: zict>=0.1.3 in c:\\users\\asdrb\\anaconda3\\lib\\site-packages (from distributed) (2.0.0)\n",
      "Requirement already satisfied: tornado>=6.0.3; python_version >= \"3.8\" in c:\\users\\asdrb\\anaconda3\\lib\\site-packages (from distributed) (6.0.4)\n",
      "Requirement already satisfied: click>=6.6 in c:\\users\\asdrb\\anaconda3\\lib\\site-packages (from distributed) (7.1.2)\n",
      "Requirement already satisfied: msgpack>=0.6.0 in c:\\users\\asdrb\\anaconda3\\lib\\site-packages (from distributed) (1.0.0)\n",
      "Requirement already satisfied: cloudpickle>=1.5.0 in c:\\users\\asdrb\\anaconda3\\lib\\site-packages (from distributed) (1.6.0)\n",
      "Requirement already satisfied: toolz>=0.8.2 in c:\\users\\asdrb\\anaconda3\\lib\\site-packages (from distributed) (0.11.1)\n",
      "Requirement already satisfied: sortedcontainers!=2.0.0,!=2.0.1 in c:\\users\\asdrb\\anaconda3\\lib\\site-packages (from distributed) (2.2.2)\n",
      "Requirement already satisfied: setuptools in c:\\users\\asdrb\\anaconda3\\lib\\site-packages (from distributed) (50.3.1.post20201107)\n",
      "Requirement already satisfied: psutil>=5.0 in c:\\users\\asdrb\\anaconda3\\lib\\site-packages (from distributed) (5.7.2)\n",
      "Requirement already satisfied: tblib>=1.6.0 in c:\\users\\asdrb\\anaconda3\\lib\\site-packages (from distributed) (1.7.0)\n",
      "Requirement already satisfied: heapdict in c:\\users\\asdrb\\anaconda3\\lib\\site-packages (from zict>=0.1.3->distributed) (1.0.1)\n"
     ]
    }
   ],
   "source": [
    "\n",
    "!pip install Cython numpy\n",
    "!pip install auto-sklearn\n",
    "\n",
    "!pip install scikit-learn==0.23.0\n",
    "\n",
    "\n",
    "!pip install dask distributed"
   ]
  },
  {
   "cell_type": "code",
   "execution_count": 47,
   "metadata": {},
   "outputs": [
    {
     "name": "stdout",
     "output_type": "stream",
     "text": [
      "Collecting keras\n",
      "  Downloading Keras-2.4.3-py2.py3-none-any.whl (36 kB)\n",
      "Requirement already satisfied: h5py in c:\\users\\asdrb\\anaconda3\\lib\\site-packages (from keras) (2.10.0)\n",
      "Requirement already satisfied: numpy>=1.9.1 in c:\\users\\asdrb\\anaconda3\\lib\\site-packages (from keras) (1.19.2)\n",
      "Requirement already satisfied: pyyaml in c:\\users\\asdrb\\anaconda3\\lib\\site-packages (from keras) (5.3.1)\n",
      "Requirement already satisfied: scipy>=0.14 in c:\\users\\asdrb\\anaconda3\\lib\\site-packages (from keras) (1.5.2)\n",
      "Requirement already satisfied: six in c:\\users\\asdrb\\anaconda3\\lib\\site-packages (from h5py->keras) (1.15.0)\n",
      "Installing collected packages: keras\n",
      "Successfully installed keras-2.4.3\n"
     ]
    }
   ],
   "source": [
    "!pip install keras"
   ]
  },
  {
   "cell_type": "code",
   "execution_count": 51,
   "metadata": {},
   "outputs": [
    {
     "name": "stdout",
     "output_type": "stream",
     "text": [
      "Requirement already satisfied: tensorflow in c:\\users\\asdrb\\anaconda3\\lib\\site-packages (2.4.1)\n",
      "Requirement already satisfied: tensorboard~=2.4 in c:\\users\\asdrb\\anaconda3\\lib\\site-packages (from tensorflow) (2.4.1)\n",
      "Requirement already satisfied: google-pasta~=0.2 in c:\\users\\asdrb\\anaconda3\\lib\\site-packages (from tensorflow) (0.2.0)\n",
      "Requirement already satisfied: opt-einsum~=3.3.0 in c:\\users\\asdrb\\anaconda3\\lib\\site-packages (from tensorflow) (3.3.0)\n",
      "Requirement already satisfied: grpcio~=1.32.0 in c:\\users\\asdrb\\anaconda3\\lib\\site-packages (from tensorflow) (1.32.0)\n",
      "Requirement already satisfied: wrapt~=1.12.1 in c:\\users\\asdrb\\anaconda3\\lib\\site-packages (from tensorflow) (1.12.1)\n",
      "Requirement already satisfied: h5py~=2.10.0 in c:\\users\\asdrb\\anaconda3\\lib\\site-packages (from tensorflow) (2.10.0)\n",
      "Requirement already satisfied: termcolor~=1.1.0 in c:\\users\\asdrb\\anaconda3\\lib\\site-packages (from tensorflow) (1.1.0)\n",
      "Requirement already satisfied: protobuf>=3.9.2 in c:\\users\\asdrb\\anaconda3\\lib\\site-packages (from tensorflow) (3.15.6)\n",
      "Requirement already satisfied: flatbuffers~=1.12.0 in c:\\users\\asdrb\\anaconda3\\lib\\site-packages (from tensorflow) (1.12)\n",
      "Requirement already satisfied: six~=1.15.0 in c:\\users\\asdrb\\anaconda3\\lib\\site-packages (from tensorflow) (1.15.0)\n",
      "Requirement already satisfied: keras-preprocessing~=1.1.2 in c:\\users\\asdrb\\anaconda3\\lib\\site-packages (from tensorflow) (1.1.2)\n",
      "Requirement already satisfied: wheel~=0.35 in c:\\users\\asdrb\\anaconda3\\lib\\site-packages (from tensorflow) (0.35.1)\n",
      "Requirement already satisfied: absl-py~=0.10 in c:\\users\\asdrb\\anaconda3\\lib\\site-packages (from tensorflow) (0.12.0)\n",
      "Requirement already satisfied: gast==0.3.3 in c:\\users\\asdrb\\anaconda3\\lib\\site-packages (from tensorflow) (0.3.3)\n",
      "Requirement already satisfied: typing-extensions~=3.7.4 in c:\\users\\asdrb\\anaconda3\\lib\\site-packages (from tensorflow) (3.7.4.3)\n",
      "Requirement already satisfied: numpy~=1.19.2 in c:\\users\\asdrb\\anaconda3\\lib\\site-packages (from tensorflow) (1.19.2)\n",
      "Requirement already satisfied: astunparse~=1.6.3 in c:\\users\\asdrb\\anaconda3\\lib\\site-packages (from tensorflow) (1.6.3)\n",
      "Requirement already satisfied: tensorflow-estimator<2.5.0,>=2.4.0 in c:\\users\\asdrb\\anaconda3\\lib\\site-packages (from tensorflow) (2.4.0)\n",
      "Requirement already satisfied: werkzeug>=0.11.15 in c:\\users\\asdrb\\anaconda3\\lib\\site-packages (from tensorboard~=2.4->tensorflow) (1.0.1)\n",
      "Requirement already satisfied: setuptools>=41.0.0 in c:\\users\\asdrb\\anaconda3\\lib\\site-packages (from tensorboard~=2.4->tensorflow) (50.3.1.post20201107)\n",
      "Requirement already satisfied: requests<3,>=2.21.0 in c:\\users\\asdrb\\anaconda3\\lib\\site-packages (from tensorboard~=2.4->tensorflow) (2.24.0)\n",
      "Requirement already satisfied: google-auth<2,>=1.6.3 in c:\\users\\asdrb\\anaconda3\\lib\\site-packages (from tensorboard~=2.4->tensorflow) (1.27.1)\n",
      "Requirement already satisfied: tensorboard-plugin-wit>=1.6.0 in c:\\users\\asdrb\\anaconda3\\lib\\site-packages (from tensorboard~=2.4->tensorflow) (1.8.0)\n",
      "Requirement already satisfied: markdown>=2.6.8 in c:\\users\\asdrb\\anaconda3\\lib\\site-packages (from tensorboard~=2.4->tensorflow) (3.3.4)\n",
      "Requirement already satisfied: google-auth-oauthlib<0.5,>=0.4.1 in c:\\users\\asdrb\\anaconda3\\lib\\site-packages (from tensorboard~=2.4->tensorflow) (0.4.3)\n",
      "Requirement already satisfied: certifi>=2017.4.17 in c:\\users\\asdrb\\anaconda3\\lib\\site-packages (from requests<3,>=2.21.0->tensorboard~=2.4->tensorflow) (2020.6.20)\n",
      "Requirement already satisfied: idna<3,>=2.5 in c:\\users\\asdrb\\anaconda3\\lib\\site-packages (from requests<3,>=2.21.0->tensorboard~=2.4->tensorflow) (2.10)\n",
      "Requirement already satisfied: chardet<4,>=3.0.2 in c:\\users\\asdrb\\anaconda3\\lib\\site-packages (from requests<3,>=2.21.0->tensorboard~=2.4->tensorflow) (3.0.4)\n",
      "Requirement already satisfied: urllib3!=1.25.0,!=1.25.1,<1.26,>=1.21.1 in c:\\users\\asdrb\\anaconda3\\lib\\site-packages (from requests<3,>=2.21.0->tensorboard~=2.4->tensorflow) (1.25.11)\n",
      "Requirement already satisfied: pyasn1-modules>=0.2.1 in c:\\users\\asdrb\\anaconda3\\lib\\site-packages (from google-auth<2,>=1.6.3->tensorboard~=2.4->tensorflow) (0.2.8)\n",
      "Requirement already satisfied: rsa<5,>=3.1.4; python_version >= \"3.6\" in c:\\users\\asdrb\\anaconda3\\lib\\site-packages (from google-auth<2,>=1.6.3->tensorboard~=2.4->tensorflow) (4.7.2)\n",
      "Requirement already satisfied: cachetools<5.0,>=2.0.0 in c:\\users\\asdrb\\anaconda3\\lib\\site-packages (from google-auth<2,>=1.6.3->tensorboard~=2.4->tensorflow) (4.2.1)\n",
      "Requirement already satisfied: requests-oauthlib>=0.7.0 in c:\\users\\asdrb\\anaconda3\\lib\\site-packages (from google-auth-oauthlib<0.5,>=0.4.1->tensorboard~=2.4->tensorflow) (1.3.0)\n",
      "Requirement already satisfied: pyasn1<0.5.0,>=0.4.6 in c:\\users\\asdrb\\anaconda3\\lib\\site-packages (from pyasn1-modules>=0.2.1->google-auth<2,>=1.6.3->tensorboard~=2.4->tensorflow) (0.4.8)\n",
      "Requirement already satisfied: oauthlib>=3.0.0 in c:\\users\\asdrb\\anaconda3\\lib\\site-packages (from requests-oauthlib>=0.7.0->google-auth-oauthlib<0.5,>=0.4.1->tensorboard~=2.4->tensorflow) (3.1.0)\n"
     ]
    }
   ],
   "source": [
    "!pip install tensorflow"
   ]
  },
  {
   "cell_type": "code",
   "execution_count": 52,
   "metadata": {},
   "outputs": [],
   "source": [
    "#@title **ANN**\n",
    "\n",
    "import keras\n",
    "from keras.models import Sequential\n",
    "from keras.layers import Dense\n",
    "from keras.layers.core import Dense, Dropout, Flatten\n",
    "from keras.optimizers import SGD\n",
    "from keras.layers import Dropout\n",
    "from keras.wrappers.scikit_learn import KerasRegressor\n",
    "from sklearn.model_selection import RandomizedSearchCV\n",
    "\n",
    "def create_model( nl1=1, nl2=1,  nl3=1, \n",
    "                 nn1=1000, nn2=500, nn3 = 200, lr=0.01, decay=0., l1=0.01, l2=0.01,\n",
    "                act = 'relu', dropout=0, input_shape=25, output_shape=1):\n",
    "    '''This is a model generating function so that we can search over neural net \n",
    "    parameters and architecture'''\n",
    "    \n",
    "    opt = 'SGD' # keras.optimizers.Adam(lr=lr, beta_1=0.9, beta_2=0.999,  decay=decay)\n",
    "    reg = keras.regularizers.l1_l2(l1=l1, l2=l2)\n",
    "                                                     \n",
    "    model = Sequential()\n",
    "    \n",
    "    # for the firt layer we need to specify the input dimensions\n",
    "    first=True\n",
    "    \n",
    "    for i in range(nl1):\n",
    "        if first:\n",
    "            model.add(Dense(nn1, input_dim=input_shape, activation=act, kernel_regularizer=reg))\n",
    "            first=False\n",
    "        else: \n",
    "            model.add(Dense(nn1, activation=act, kernel_regularizer=reg))\n",
    "        if dropout!=0:\n",
    "            model.add(Dropout(dropout))\n",
    "            \n",
    "    for i in range(nl2):\n",
    "        if first:\n",
    "            model.add(Dense(nn2, input_dim=input_shape, activation=act, kernel_regularizer=reg))\n",
    "            first=False\n",
    "        else: \n",
    "            model.add(Dense(nn2, activation=act, kernel_regularizer=reg))\n",
    "        if dropout!=0:\n",
    "            model.add(Dropout(dropout))\n",
    "            \n",
    "    for i in range(nl3):\n",
    "        if first:\n",
    "            model.add(Dense(nn3, input_dim=input_shape, activation=act, kernel_regularizer=reg))\n",
    "            first=False\n",
    "        else: \n",
    "            model.add(Dense(nn3, activation=act, kernel_regularizer=reg))\n",
    "        if dropout!=0:\n",
    "            model.add(Dropout(dropout))\n",
    "            \n",
    "    model.add(Dense(output_shape, activation='sigmoid'))\n",
    "    model.compile(loss='mse', optimizer=opt, metrics=['mse'],)\n",
    "    return model\n",
    "\n",
    "# model class to use in the scikit random search CV \n",
    "model = KerasRegressor(build_fn=create_model, epochs=20, batch_size=20, verbose=1)\n",
    "\n",
    "# learning algorithm parameters\n",
    "lr=[1e-2, 1e-3, 1e-4]\n",
    "decay=[1e-6,1e-9,0]\n",
    "\n",
    "# activation\n",
    "activation=['relu', 'sigmoid']\n",
    "\n",
    "# numbers of layers\n",
    "nl1 = [0,1,2,3]\n",
    "nl2 = [0,1,2,3]\n",
    "nl3 = [0,1,2,3]\n",
    "\n",
    "# neurons in each layer\n",
    "nn1=[20,50,100]\n",
    "nn2=[10,40,70]\n",
    "nn3=[5,15,30]\n",
    "# nn1=[300,700,1400,2100]\n",
    "# nn2=[100,400,800]\n",
    "# nn3=[50,150,300]\n",
    "\n",
    "# dropout and regularisation\n",
    "dropout = [0, 0.1, 0.2, 0.3]\n",
    "l1 = [0, 0.01, 0.003, 0.001, 0.0001]\n",
    "l2 = [0, 0.01, 0.003, 0.001, 0.0001]"
   ]
  },
  {
   "cell_type": "code",
   "execution_count": 53,
   "metadata": {},
   "outputs": [],
   "source": [
    "# GradientBoostingRegressor / RandomForestRegressor / SVR(kernel='linear')\n",
    "sel_estimator = GradientBoostingRegressor(random_state=random_state)\n",
    " \n",
    "# RFE / SelectFromModel\n",
    "selector = RFE(sel_estimator)\n",
    "estimator = model\n",
    " \n",
    "pipe = Pipeline([\n",
    "    ('sel', selector),\n",
    "    ('est', estimator)\n",
    "])\n",
    "\n",
    "param_grid = {\n",
    "    'sel__estimator__learning_rate': [0.05,0.1,0.2],\n",
    "    'sel__n_features_to_select'    : [5],\n",
    "    'est__nl1':            nl1,\n",
    "    'est__nl2':            nl2,\n",
    "    'est__nl3':            nl3,\n",
    "    'est__nn1':            nn1,\n",
    "    'est__nn2':            nn2,\n",
    "    'est__nn3':            nn3,\n",
    "    'est__act':            activation,\n",
    "    'est__l1':             l1,\n",
    "    'est__l2':             l2,\n",
    "    'est__lr':             lr,\n",
    "    'est__decay':          decay,\n",
    "    'est__dropout':        dropout, \n",
    "    'est__input_shape':    [5],\n",
    "    'est__output_shape':   [1]\n",
    "}\n",
    "\n",
    "rand_cv = RandomizedSearchCV(estimator=pipe,\n",
    "                             param_distributions=param_grid,\n",
    "                             verbose=100,\n",
    "                             n_iter=10,\n",
    "                             scoring='neg_mean_squared_error',\n",
    "                             n_jobs=-1,\n",
    "                             return_train_score=True,\n",
    "                             cv=KFold(n_splits=5, shuffle=True))"
   ]
  },
  {
   "cell_type": "code",
   "execution_count": 54,
   "metadata": {},
   "outputs": [
    {
     "name": "stdout",
     "output_type": "stream",
     "text": [
      "Fitting 5 folds for each of 10 candidates, totalling 50 fits\n",
      "[Parallel(n_jobs=-1)]: Using backend LokyBackend with 8 concurrent workers.\n",
      "[Parallel(n_jobs=-1)]: Done   1 tasks      | elapsed:   10.7s\n",
      "[Parallel(n_jobs=-1)]: Done   2 tasks      | elapsed:   10.8s\n",
      "[Parallel(n_jobs=-1)]: Done   3 tasks      | elapsed:   10.8s\n",
      "[Parallel(n_jobs=-1)]: Done   4 tasks      | elapsed:   10.8s\n",
      "[Parallel(n_jobs=-1)]: Done   5 tasks      | elapsed:   10.9s\n",
      "[Parallel(n_jobs=-1)]: Done   6 tasks      | elapsed:   11.4s\n",
      "[Parallel(n_jobs=-1)]: Done   7 tasks      | elapsed:   11.5s\n",
      "[Parallel(n_jobs=-1)]: Done   8 tasks      | elapsed:   11.7s\n",
      "[Parallel(n_jobs=-1)]: Done   9 tasks      | elapsed:   15.8s\n",
      "[Parallel(n_jobs=-1)]: Done  10 tasks      | elapsed:   15.8s\n",
      "[Parallel(n_jobs=-1)]: Done  11 tasks      | elapsed:   15.8s\n",
      "[Parallel(n_jobs=-1)]: Done  12 tasks      | elapsed:   15.9s\n",
      "[Parallel(n_jobs=-1)]: Done  13 tasks      | elapsed:   16.3s\n",
      "[Parallel(n_jobs=-1)]: Done  14 tasks      | elapsed:   17.0s\n",
      "[Parallel(n_jobs=-1)]: Done  15 tasks      | elapsed:   17.0s\n",
      "[Parallel(n_jobs=-1)]: Done  16 tasks      | elapsed:   17.2s\n",
      "[Parallel(n_jobs=-1)]: Done  17 tasks      | elapsed:   20.9s\n",
      "[Parallel(n_jobs=-1)]: Done  18 tasks      | elapsed:   21.2s\n",
      "[Parallel(n_jobs=-1)]: Done  19 tasks      | elapsed:   21.2s\n",
      "[Parallel(n_jobs=-1)]: Done  20 tasks      | elapsed:   21.4s\n",
      "[Parallel(n_jobs=-1)]: Done  21 tasks      | elapsed:   23.1s\n",
      "[Parallel(n_jobs=-1)]: Done  22 tasks      | elapsed:   23.6s\n",
      "[Parallel(n_jobs=-1)]: Done  23 tasks      | elapsed:   24.1s\n",
      "[Parallel(n_jobs=-1)]: Done  24 tasks      | elapsed:   24.3s\n",
      "[Parallel(n_jobs=-1)]: Done  25 tasks      | elapsed:   25.9s\n",
      "[Parallel(n_jobs=-1)]: Done  26 tasks      | elapsed:   26.0s\n",
      "[Parallel(n_jobs=-1)]: Done  27 tasks      | elapsed:   26.6s\n",
      "[Parallel(n_jobs=-1)]: Done  28 tasks      | elapsed:   27.6s\n",
      "[Parallel(n_jobs=-1)]: Done  29 tasks      | elapsed:   28.3s\n",
      "[Parallel(n_jobs=-1)]: Done  30 tasks      | elapsed:   28.3s\n",
      "[Parallel(n_jobs=-1)]: Done  31 tasks      | elapsed:   29.1s\n",
      "[Parallel(n_jobs=-1)]: Done  32 tasks      | elapsed:   29.3s\n",
      "[Parallel(n_jobs=-1)]: Done  33 tasks      | elapsed:   31.3s\n",
      "[Parallel(n_jobs=-1)]: Done  34 tasks      | elapsed:   31.6s\n",
      "[Parallel(n_jobs=-1)]: Done  35 tasks      | elapsed:   31.6s\n",
      "[Parallel(n_jobs=-1)]: Done  36 out of  50 | elapsed:   33.3s remaining:   12.9s\n",
      "[Parallel(n_jobs=-1)]: Done  37 out of  50 | elapsed:   34.0s remaining:   11.9s\n",
      "[Parallel(n_jobs=-1)]: Done  38 out of  50 | elapsed:   34.2s remaining:   10.7s\n",
      "[Parallel(n_jobs=-1)]: Done  39 out of  50 | elapsed:   35.1s remaining:    9.8s\n",
      "[Parallel(n_jobs=-1)]: Done  40 out of  50 | elapsed:   35.2s remaining:    8.7s\n",
      "[Parallel(n_jobs=-1)]: Done  41 out of  50 | elapsed:   36.5s remaining:    7.9s\n",
      "[Parallel(n_jobs=-1)]: Done  42 out of  50 | elapsed:   36.6s remaining:    6.9s\n",
      "[Parallel(n_jobs=-1)]: Done  43 out of  50 | elapsed:   36.7s remaining:    5.9s\n",
      "[Parallel(n_jobs=-1)]: Done  44 out of  50 | elapsed:   37.8s remaining:    5.1s\n",
      "[Parallel(n_jobs=-1)]: Done  45 out of  50 | elapsed:   38.5s remaining:    4.2s\n",
      "[Parallel(n_jobs=-1)]: Done  46 out of  50 | elapsed:   39.7s remaining:    3.4s\n",
      "[Parallel(n_jobs=-1)]: Done  47 out of  50 | elapsed:   40.0s remaining:    2.5s\n",
      "[Parallel(n_jobs=-1)]: Done  48 out of  50 | elapsed:   40.2s remaining:    1.6s\n",
      "[Parallel(n_jobs=-1)]: Done  50 out of  50 | elapsed:   40.8s remaining:    0.0s\n",
      "[Parallel(n_jobs=-1)]: Done  50 out of  50 | elapsed:   40.8s finished\n",
      "Epoch 1/20\n",
      "13/13 [==============================] - 1s 2ms/step - loss: 9.3307 - mse: 8.4846\n",
      "Epoch 2/20\n",
      "13/13 [==============================] - 0s 2ms/step - loss: 8.5806 - mse: 7.7350\n",
      "Epoch 3/20\n",
      "13/13 [==============================] - 0s 2ms/step - loss: 8.5133 - mse: 7.6679\n",
      "Epoch 4/20\n",
      "13/13 [==============================] - 0s 2ms/step - loss: 7.6955 - mse: 6.8502\n",
      "Epoch 5/20\n",
      "13/13 [==============================] - 0s 2ms/step - loss: 7.1590 - mse: 6.3137\n",
      "Epoch 6/20\n",
      "13/13 [==============================] - 0s 2ms/step - loss: 7.6258 - mse: 6.7803\n",
      "Epoch 7/20\n",
      "13/13 [==============================] - 0s 1ms/step - loss: 7.3269 - mse: 6.4813\n",
      "Epoch 8/20\n",
      "13/13 [==============================] - 0s 2ms/step - loss: 7.3232 - mse: 6.4776\n",
      "Epoch 9/20\n",
      "13/13 [==============================] - 0s 2ms/step - loss: 6.6235 - mse: 5.7781\n",
      "Epoch 10/20\n",
      "13/13 [==============================] - 0s 1ms/step - loss: 6.7705 - mse: 5.9254\n",
      "Epoch 11/20\n",
      "13/13 [==============================] - 0s 2ms/step - loss: 6.7544 - mse: 5.9096\n",
      "Epoch 12/20\n",
      "13/13 [==============================] - 0s 1ms/step - loss: 6.3347 - mse: 5.4902\n",
      "Epoch 13/20\n",
      "13/13 [==============================] - 0s 2ms/step - loss: 6.7647 - mse: 5.9205\n",
      "Epoch 14/20\n",
      "13/13 [==============================] - 0s 1ms/step - loss: 7.0125 - mse: 6.1687\n",
      "Epoch 15/20\n",
      "13/13 [==============================] - 0s 1ms/step - loss: 6.8233 - mse: 5.9799\n",
      "Epoch 16/20\n",
      "13/13 [==============================] - 0s 1ms/step - loss: 6.6189 - mse: 5.7759\n",
      "Epoch 17/20\n",
      "13/13 [==============================] - 0s 1ms/step - loss: 6.9086 - mse: 6.0660\n",
      "Epoch 18/20\n",
      "13/13 [==============================] - 0s 2ms/step - loss: 6.7634 - mse: 5.9212\n",
      "Epoch 19/20\n",
      "13/13 [==============================] - 0s 1ms/step - loss: 6.2389 - mse: 5.3971\n",
      "Epoch 20/20\n",
      "13/13 [==============================] - 0s 2ms/step - loss: 6.8219 - mse: 5.9805\n",
      "R2-test-fit: -5.906840522243419\n",
      "Epoch 1/20\n",
      "9/9 [==============================] - 1s 1ms/step - loss: 8.0319 - mse: 7.1862\n",
      "Epoch 2/20\n",
      "9/9 [==============================] - 0s 1ms/step - loss: 8.9245 - mse: 8.0792\n",
      "Epoch 3/20\n",
      "9/9 [==============================] - 0s 2ms/step - loss: 8.8632 - mse: 8.0181\n",
      "Epoch 4/20\n",
      "9/9 [==============================] - 0s 1ms/step - loss: 9.1049 - mse: 8.2600\n",
      "Epoch 5/20\n",
      "9/9 [==============================] - 0s 1ms/step - loss: 8.6254 - mse: 7.7806\n",
      "Epoch 6/20\n",
      "9/9 [==============================] - 0s 1ms/step - loss: 6.9565 - mse: 6.1117\n",
      "Epoch 7/20\n",
      "9/9 [==============================] - 0s 2ms/step - loss: 7.2487 - mse: 6.4038\n",
      "Epoch 8/20\n",
      "9/9 [==============================] - 0s 2ms/step - loss: 7.1466 - mse: 6.3017\n",
      "Epoch 9/20\n",
      "9/9 [==============================] - 0s 2ms/step - loss: 6.6618 - mse: 5.8168\n",
      "Epoch 10/20\n",
      "9/9 [==============================] - 0s 2ms/step - loss: 8.0570 - mse: 7.2121\n",
      "Epoch 11/20\n",
      "9/9 [==============================] - 0s 2ms/step - loss: 7.6413 - mse: 6.7964\n",
      "Epoch 12/20\n",
      "9/9 [==============================] - 0s 1ms/step - loss: 6.5580 - mse: 5.7132\n",
      "Epoch 13/20\n",
      "9/9 [==============================] - 0s 1ms/step - loss: 7.2180 - mse: 6.3734\n",
      "Epoch 14/20\n",
      "9/9 [==============================] - 0s 2ms/step - loss: 7.2979 - mse: 6.4535\n",
      "Epoch 15/20\n",
      "9/9 [==============================] - 0s 2ms/step - loss: 6.6969 - mse: 5.8527\n",
      "Epoch 16/20\n",
      "9/9 [==============================] - 0s 2ms/step - loss: 6.9172 - mse: 6.0733\n",
      "Epoch 17/20\n",
      "9/9 [==============================] - 0s 2ms/step - loss: 7.0457 - mse: 6.2019\n",
      "Epoch 18/20\n",
      "9/9 [==============================] - 0s 1ms/step - loss: 7.3794 - mse: 6.5359\n",
      "Epoch 19/20\n",
      "9/9 [==============================] - 0s 2ms/step - loss: 6.8690 - mse: 6.0258\n",
      "Epoch 20/20\n",
      "9/9 [==============================] - 0s 2ms/step - loss: 7.5684 - mse: 6.7254\n",
      "5/5 [==============================] - 0s 972us/step - loss: 6.4074 - mse: 5.5646\n",
      "R2-test -6.407395362854004\n",
      "5/5 [==============================] - 0s 976us/step\n",
      "MSE-test 5.564626906898993\n",
      "Best params: {'sel__n_features_to_select': 5, 'sel__estimator__learning_rate': 0.2, 'est__output_shape': 1, 'est__nn3': 30, 'est__nn2': 70, 'est__nn1': 100, 'est__nl3': 1, 'est__nl2': 3, 'est__nl1': 3, 'est__lr': 0.001, 'est__l2': 0.001, 'est__l1': 0.0001, 'est__input_shape': 5, 'est__dropout': 0, 'est__decay': 0, 'est__act': 'relu'}\n",
      "Selected features: ['ctr_lab1', 'rtr_lab1', 'actq1_lab1', 'actq3_lab1', 'mean(qmsr$_lab1)']\n"
     ]
    },
    {
     "data": {
      "text/plain": [
       "['ctr_lab1', 'rtr_lab1', 'actq1_lab1', 'actq3_lab1', 'mean(qmsr$_lab1)']"
      ]
     },
     "execution_count": 54,
     "metadata": {},
     "output_type": "execute_result"
    }
   ],
   "source": [
    "#Lab 1\n",
    "run_process(datalab1, rand_cv)"
   ]
  },
  {
   "cell_type": "code",
   "execution_count": 55,
   "metadata": {},
   "outputs": [
    {
     "name": "stdout",
     "output_type": "stream",
     "text": [
      "Fitting 5 folds for each of 10 candidates, totalling 50 fits\n",
      "[Parallel(n_jobs=-1)]: Using backend LokyBackend with 8 concurrent workers.\n",
      "[Parallel(n_jobs=-1)]: Done   1 tasks      | elapsed:    4.6s\n",
      "[Parallel(n_jobs=-1)]: Done   2 tasks      | elapsed:    4.6s\n",
      "[Parallel(n_jobs=-1)]: Done   3 tasks      | elapsed:    5.0s\n",
      "[Parallel(n_jobs=-1)]: Done   4 tasks      | elapsed:    5.8s\n",
      "[Parallel(n_jobs=-1)]: Done   5 tasks      | elapsed:    5.9s\n",
      "[Parallel(n_jobs=-1)]: Done   6 tasks      | elapsed:    6.4s\n",
      "[Parallel(n_jobs=-1)]: Done   7 tasks      | elapsed:    6.5s\n",
      "[Parallel(n_jobs=-1)]: Done   8 tasks      | elapsed:    7.4s\n",
      "[Parallel(n_jobs=-1)]: Done   9 tasks      | elapsed:    9.3s\n",
      "[Parallel(n_jobs=-1)]: Done  10 tasks      | elapsed:    9.4s\n",
      "[Parallel(n_jobs=-1)]: Done  11 tasks      | elapsed:    9.9s\n",
      "[Parallel(n_jobs=-1)]: Done  12 tasks      | elapsed:   10.7s\n",
      "[Parallel(n_jobs=-1)]: Done  13 tasks      | elapsed:   10.8s\n",
      "[Parallel(n_jobs=-1)]: Done  14 tasks      | elapsed:   11.8s\n",
      "[Parallel(n_jobs=-1)]: Done  15 tasks      | elapsed:   11.9s\n",
      "[Parallel(n_jobs=-1)]: Done  16 tasks      | elapsed:   12.0s\n",
      "[Parallel(n_jobs=-1)]: Done  17 tasks      | elapsed:   14.2s\n",
      "[Parallel(n_jobs=-1)]: Done  18 tasks      | elapsed:   14.5s\n",
      "[Parallel(n_jobs=-1)]: Done  19 tasks      | elapsed:   15.3s\n",
      "[Parallel(n_jobs=-1)]: Done  20 tasks      | elapsed:   15.5s\n",
      "[Parallel(n_jobs=-1)]: Done  21 tasks      | elapsed:   16.4s\n",
      "[Parallel(n_jobs=-1)]: Done  22 tasks      | elapsed:   17.7s\n",
      "[Parallel(n_jobs=-1)]: Done  23 tasks      | elapsed:   17.9s\n",
      "[Parallel(n_jobs=-1)]: Done  24 tasks      | elapsed:   18.0s\n",
      "[Parallel(n_jobs=-1)]: Done  25 tasks      | elapsed:   20.0s\n",
      "[Parallel(n_jobs=-1)]: Done  26 tasks      | elapsed:   20.5s\n",
      "[Parallel(n_jobs=-1)]: Done  27 tasks      | elapsed:   21.8s\n",
      "[Parallel(n_jobs=-1)]: Done  28 tasks      | elapsed:   21.8s\n",
      "[Parallel(n_jobs=-1)]: Done  29 tasks      | elapsed:   23.3s\n",
      "[Parallel(n_jobs=-1)]: Done  30 tasks      | elapsed:   23.4s\n",
      "[Parallel(n_jobs=-1)]: Done  31 tasks      | elapsed:   23.4s\n",
      "[Parallel(n_jobs=-1)]: Done  32 tasks      | elapsed:   23.6s\n",
      "[Parallel(n_jobs=-1)]: Done  33 tasks      | elapsed:   25.2s\n",
      "[Parallel(n_jobs=-1)]: Done  34 tasks      | elapsed:   25.6s\n",
      "[Parallel(n_jobs=-1)]: Done  35 tasks      | elapsed:   26.6s\n",
      "[Parallel(n_jobs=-1)]: Done  36 out of  50 | elapsed:   27.3s remaining:   10.6s\n",
      "[Parallel(n_jobs=-1)]: Done  37 out of  50 | elapsed:   28.4s remaining:    9.9s\n",
      "[Parallel(n_jobs=-1)]: Done  38 out of  50 | elapsed:   28.5s remaining:    8.9s\n",
      "[Parallel(n_jobs=-1)]: Done  39 out of  50 | elapsed:   28.6s remaining:    8.0s\n",
      "[Parallel(n_jobs=-1)]: Done  40 out of  50 | elapsed:   28.6s remaining:    7.1s\n",
      "[Parallel(n_jobs=-1)]: Done  41 out of  50 | elapsed:   30.5s remaining:    6.6s\n",
      "[Parallel(n_jobs=-1)]: Done  42 out of  50 | elapsed:   30.9s remaining:    5.8s\n",
      "[Parallel(n_jobs=-1)]: Done  43 out of  50 | elapsed:   32.3s remaining:    5.2s\n",
      "[Parallel(n_jobs=-1)]: Done  44 out of  50 | elapsed:   32.9s remaining:    4.4s\n",
      "[Parallel(n_jobs=-1)]: Done  45 out of  50 | elapsed:   33.5s remaining:    3.6s\n",
      "[Parallel(n_jobs=-1)]: Done  46 out of  50 | elapsed:   33.8s remaining:    2.8s\n",
      "[Parallel(n_jobs=-1)]: Done  47 out of  50 | elapsed:   33.9s remaining:    2.1s\n",
      "[Parallel(n_jobs=-1)]: Done  48 out of  50 | elapsed:   34.4s remaining:    1.3s\n",
      "[Parallel(n_jobs=-1)]: Done  50 out of  50 | elapsed:   35.2s remaining:    0.0s\n",
      "[Parallel(n_jobs=-1)]: Done  50 out of  50 | elapsed:   35.2s finished\n",
      "Epoch 1/20\n",
      "13/13 [==============================] - 1s 1ms/step - loss: 8.3090 - mse: 7.8208\n",
      "Epoch 2/20\n",
      "13/13 [==============================] - 0s 2ms/step - loss: 7.2867 - mse: 6.7988\n",
      "Epoch 3/20\n",
      "13/13 [==============================] - 0s 2ms/step - loss: 7.4969 - mse: 7.0089\n",
      "Epoch 4/20\n",
      "13/13 [==============================] - 0s 1ms/step - loss: 6.9035 - mse: 6.4155\n",
      "Epoch 5/20\n",
      "13/13 [==============================] - 0s 2ms/step - loss: 6.7842 - mse: 6.2960\n",
      "Epoch 6/20\n",
      "13/13 [==============================] - 0s 2ms/step - loss: 7.2518 - mse: 6.7635\n",
      "Epoch 7/20\n",
      "13/13 [==============================] - 0s 2ms/step - loss: 6.3542 - mse: 5.8659\n",
      "Epoch 8/20\n",
      "13/13 [==============================] - 0s 2ms/step - loss: 6.5250 - mse: 6.0367\n",
      "Epoch 9/20\n",
      "13/13 [==============================] - 0s 1ms/step - loss: 6.1778 - mse: 5.6896\n",
      "Epoch 10/20\n",
      "13/13 [==============================] - 0s 1ms/step - loss: 6.8002 - mse: 6.3120\n",
      "Epoch 11/20\n",
      "13/13 [==============================] - 0s 2ms/step - loss: 6.5090 - mse: 6.0210\n",
      "Epoch 12/20\n",
      "13/13 [==============================] - 0s 2ms/step - loss: 6.2155 - mse: 5.7276\n",
      "Epoch 13/20\n",
      "13/13 [==============================] - 0s 2ms/step - loss: 6.7373 - mse: 6.2496\n",
      "Epoch 14/20\n",
      "13/13 [==============================] - 0s 1ms/step - loss: 6.7372 - mse: 6.2496\n",
      "Epoch 15/20\n",
      "13/13 [==============================] - 0s 2ms/step - loss: 6.7562 - mse: 6.2688\n",
      "Epoch 16/20\n",
      "13/13 [==============================] - 0s 2ms/step - loss: 5.9938 - mse: 5.5066\n",
      "Epoch 17/20\n",
      "13/13 [==============================] - 0s 2ms/step - loss: 6.5830 - mse: 6.0959\n",
      "Epoch 18/20\n",
      "13/13 [==============================] - 0s 2ms/step - loss: 6.4274 - mse: 5.9405\n",
      "Epoch 19/20\n",
      "13/13 [==============================] - 0s 2ms/step - loss: 6.5378 - mse: 6.0511\n",
      "Epoch 20/20\n",
      "13/13 [==============================] - 0s 2ms/step - loss: 6.6395 - mse: 6.1530\n",
      "R2-test-fit: -5.917361165423424\n",
      "Epoch 1/20\n",
      "9/9 [==============================] - 1s 2ms/step - loss: 8.2736 - mse: 7.7880\n",
      "Epoch 2/20\n",
      "9/9 [==============================] - 0s 2ms/step - loss: 8.0859 - mse: 7.6003\n",
      "Epoch 3/20\n",
      "9/9 [==============================] - 0s 2ms/step - loss: 7.3361 - mse: 6.8505\n",
      "Epoch 4/20\n",
      "9/9 [==============================] - 0s 2ms/step - loss: 6.7549 - mse: 6.2691\n",
      "Epoch 5/20\n",
      "9/9 [==============================] - 0s 2ms/step - loss: 7.2471 - mse: 6.7612\n",
      "Epoch 6/20\n",
      "9/9 [==============================] - 0s 1ms/step - loss: 7.5240 - mse: 7.0380\n",
      "Epoch 7/20\n",
      "9/9 [==============================] - 0s 2ms/step - loss: 6.5977 - mse: 6.1116\n",
      "Epoch 8/20\n",
      "9/9 [==============================] - 0s 2ms/step - loss: 7.2471 - mse: 6.7610\n",
      "Epoch 9/20\n",
      "9/9 [==============================] - 0s 2ms/step - loss: 7.0486 - mse: 6.5624\n",
      "Epoch 10/20\n",
      "9/9 [==============================] - 0s 2ms/step - loss: 6.3488 - mse: 5.8627\n",
      "Epoch 11/20\n",
      "9/9 [==============================] - 0s 2ms/step - loss: 7.2192 - mse: 6.7331\n",
      "Epoch 12/20\n",
      "9/9 [==============================] - 0s 1ms/step - loss: 6.7068 - mse: 6.2208\n",
      "Epoch 13/20\n",
      "9/9 [==============================] - 0s 1ms/step - loss: 6.8118 - mse: 6.3259\n",
      "Epoch 14/20\n",
      "9/9 [==============================] - 0s 1ms/step - loss: 6.5990 - mse: 6.1132\n",
      "Epoch 15/20\n",
      "9/9 [==============================] - 0s 2ms/step - loss: 6.7629 - mse: 6.2771\n",
      "Epoch 16/20\n",
      "9/9 [==============================] - 0s 2ms/step - loss: 6.1987 - mse: 5.7130\n",
      "Epoch 17/20\n",
      "9/9 [==============================] - 0s 1ms/step - loss: 6.9148 - mse: 6.4293\n",
      "Epoch 18/20\n",
      "9/9 [==============================] - 0s 2ms/step - loss: 6.0333 - mse: 5.5479\n",
      "Epoch 19/20\n",
      "9/9 [==============================] - 0s 1ms/step - loss: 6.4552 - mse: 5.9699\n",
      "Epoch 20/20\n",
      "9/9 [==============================] - 0s 2ms/step - loss: 6.3744 - mse: 5.8892\n",
      "5/5 [==============================] - 0s 732us/step - loss: 6.1796 - mse: 5.6945\n",
      "R2-test -6.1796040534973145\n",
      "5/5 [==============================] - 0s 1ms/step\n",
      "MSE-test 5.69451188131961\n",
      "Best params: {'sel__n_features_to_select': 5, 'sel__estimator__learning_rate': 0.05, 'est__output_shape': 1, 'est__nn3': 30, 'est__nn2': 40, 'est__nn1': 100, 'est__nl3': 0, 'est__nl2': 1, 'est__nl1': 3, 'est__lr': 0.0001, 'est__l2': 0.001, 'est__l1': 0.0001, 'est__input_shape': 5, 'est__dropout': 0.3, 'est__decay': 1e-06, 'est__act': 'relu'}\n",
      "Selected features: ['act_lab2', 'rtr_lab2', 'actq3_lab2', 'mean(qmsr$_lab2)', 'avgtime_lab2']\n"
     ]
    },
    {
     "data": {
      "text/plain": [
       "['act_lab2', 'rtr_lab2', 'actq3_lab2', 'mean(qmsr$_lab2)', 'avgtime_lab2']"
      ]
     },
     "execution_count": 55,
     "metadata": {},
     "output_type": "execute_result"
    }
   ],
   "source": [
    "#Lab 2\n",
    "run_process(datalab2, rand_cv)"
   ]
  },
  {
   "cell_type": "code",
   "execution_count": 56,
   "metadata": {},
   "outputs": [
    {
     "name": "stdout",
     "output_type": "stream",
     "text": [
      "Fitting 5 folds for each of 10 candidates, totalling 50 fits\n",
      "[Parallel(n_jobs=-1)]: Using backend LokyBackend with 8 concurrent workers.\n",
      "[Parallel(n_jobs=-1)]: Done   1 tasks      | elapsed:    3.6s\n",
      "[Parallel(n_jobs=-1)]: Done   2 tasks      | elapsed:    3.6s\n",
      "[Parallel(n_jobs=-1)]: Done   3 tasks      | elapsed:    4.0s\n",
      "[Parallel(n_jobs=-1)]: Done   4 tasks      | elapsed:    4.6s\n",
      "[Parallel(n_jobs=-1)]: Done   5 tasks      | elapsed:    5.0s\n",
      "[Parallel(n_jobs=-1)]: Done   6 tasks      | elapsed:    5.3s\n",
      "[Parallel(n_jobs=-1)]: Done   7 tasks      | elapsed:    5.3s\n",
      "[Parallel(n_jobs=-1)]: Done   8 tasks      | elapsed:    5.4s\n",
      "[Parallel(n_jobs=-1)]: Done   9 tasks      | elapsed:    7.8s\n",
      "[Parallel(n_jobs=-1)]: Done  10 tasks      | elapsed:    7.9s\n",
      "[Parallel(n_jobs=-1)]: Done  11 tasks      | elapsed:    9.9s\n",
      "[Parallel(n_jobs=-1)]: Done  12 tasks      | elapsed:   10.1s\n",
      "[Parallel(n_jobs=-1)]: Done  13 tasks      | elapsed:   10.4s\n",
      "[Parallel(n_jobs=-1)]: Done  14 tasks      | elapsed:   10.4s\n",
      "[Parallel(n_jobs=-1)]: Done  15 tasks      | elapsed:   11.1s\n",
      "[Parallel(n_jobs=-1)]: Done  16 tasks      | elapsed:   11.4s\n",
      "[Parallel(n_jobs=-1)]: Done  17 tasks      | elapsed:   13.0s\n",
      "[Parallel(n_jobs=-1)]: Done  18 tasks      | elapsed:   13.3s\n",
      "[Parallel(n_jobs=-1)]: Done  19 tasks      | elapsed:   14.7s\n",
      "[Parallel(n_jobs=-1)]: Done  20 tasks      | elapsed:   15.3s\n",
      "[Parallel(n_jobs=-1)]: Done  21 tasks      | elapsed:   15.7s\n",
      "[Parallel(n_jobs=-1)]: Done  22 tasks      | elapsed:   15.7s\n",
      "[Parallel(n_jobs=-1)]: Done  23 tasks      | elapsed:   16.9s\n",
      "[Parallel(n_jobs=-1)]: Done  24 tasks      | elapsed:   17.0s\n",
      "[Parallel(n_jobs=-1)]: Done  25 tasks      | elapsed:   18.4s\n",
      "[Parallel(n_jobs=-1)]: Done  26 tasks      | elapsed:   18.4s\n",
      "[Parallel(n_jobs=-1)]: Done  27 tasks      | elapsed:   20.0s\n",
      "[Parallel(n_jobs=-1)]: Done  28 tasks      | elapsed:   20.5s\n",
      "[Parallel(n_jobs=-1)]: Done  29 tasks      | elapsed:   20.7s\n",
      "[Parallel(n_jobs=-1)]: Done  30 tasks      | elapsed:   21.1s\n",
      "[Parallel(n_jobs=-1)]: Done  31 tasks      | elapsed:   22.2s\n",
      "[Parallel(n_jobs=-1)]: Done  32 tasks      | elapsed:   22.7s\n",
      "[Parallel(n_jobs=-1)]: Done  33 tasks      | elapsed:   24.2s\n",
      "[Parallel(n_jobs=-1)]: Done  34 tasks      | elapsed:   24.4s\n",
      "[Parallel(n_jobs=-1)]: Done  35 tasks      | elapsed:   25.2s\n",
      "[Parallel(n_jobs=-1)]: Done  36 out of  50 | elapsed:   25.5s remaining:    9.9s\n",
      "[Parallel(n_jobs=-1)]: Done  37 out of  50 | elapsed:   25.9s remaining:    9.0s\n",
      "[Parallel(n_jobs=-1)]: Done  38 out of  50 | elapsed:   26.2s remaining:    8.2s\n",
      "[Parallel(n_jobs=-1)]: Done  39 out of  50 | elapsed:   27.7s remaining:    7.7s\n",
      "[Parallel(n_jobs=-1)]: Done  40 out of  50 | elapsed:   27.8s remaining:    6.9s\n",
      "[Parallel(n_jobs=-1)]: Done  41 out of  50 | elapsed:   30.6s remaining:    6.6s\n",
      "[Parallel(n_jobs=-1)]: Done  42 out of  50 | elapsed:   31.4s remaining:    5.9s\n",
      "[Parallel(n_jobs=-1)]: Done  43 out of  50 | elapsed:   32.1s remaining:    5.1s\n",
      "[Parallel(n_jobs=-1)]: Done  44 out of  50 | elapsed:   32.5s remaining:    4.3s\n",
      "[Parallel(n_jobs=-1)]: Done  45 out of  50 | elapsed:   32.6s remaining:    3.5s\n",
      "[Parallel(n_jobs=-1)]: Done  46 out of  50 | elapsed:   33.7s remaining:    2.8s\n",
      "[Parallel(n_jobs=-1)]: Done  47 out of  50 | elapsed:   33.9s remaining:    2.1s\n",
      "[Parallel(n_jobs=-1)]: Done  48 out of  50 | elapsed:   34.0s remaining:    1.3s\n",
      "[Parallel(n_jobs=-1)]: Done  50 out of  50 | elapsed:   35.7s remaining:    0.0s\n",
      "[Parallel(n_jobs=-1)]: Done  50 out of  50 | elapsed:   35.7s finished\n",
      "Epoch 1/20\n",
      "13/13 [==============================] - 1s 1ms/step - loss: 8.5556 - mse: 7.7534\n",
      "Epoch 2/20\n",
      "13/13 [==============================] - 0s 1ms/step - loss: 8.1147 - mse: 7.3131\n",
      "Epoch 3/20\n",
      "13/13 [==============================] - 0s 2ms/step - loss: 8.2712 - mse: 7.4695\n",
      "Epoch 4/20\n",
      "13/13 [==============================] - 0s 1ms/step - loss: 7.8065 - mse: 7.0046\n",
      "Epoch 5/20\n",
      "13/13 [==============================] - 0s 1ms/step - loss: 7.0434 - mse: 6.2415\n",
      "Epoch 6/20\n",
      "13/13 [==============================] - 0s 1ms/step - loss: 7.0219 - mse: 6.2201\n",
      "Epoch 7/20\n",
      "13/13 [==============================] - 0s 1ms/step - loss: 7.3652 - mse: 6.5635\n",
      "Epoch 8/20\n",
      "13/13 [==============================] - 0s 1ms/step - loss: 6.8070 - mse: 6.0056\n",
      "Epoch 9/20\n",
      "13/13 [==============================] - 0s 1ms/step - loss: 6.6477 - mse: 5.8466\n",
      "Epoch 10/20\n",
      "13/13 [==============================] - 0s 2ms/step - loss: 6.7377 - mse: 5.9370\n",
      "Epoch 11/20\n",
      "13/13 [==============================] - 0s 1ms/step - loss: 6.6350 - mse: 5.8347\n",
      "Epoch 12/20\n",
      "13/13 [==============================] - 0s 2ms/step - loss: 6.6316 - mse: 5.8319\n",
      "Epoch 13/20\n",
      "13/13 [==============================] - 0s 1ms/step - loss: 6.2922 - mse: 5.4930\n",
      "Epoch 14/20\n",
      "13/13 [==============================] - 0s 1ms/step - loss: 6.1052 - mse: 5.3065\n",
      "Epoch 15/20\n",
      "13/13 [==============================] - 0s 2ms/step - loss: 7.0942 - mse: 6.2960\n",
      "Epoch 16/20\n",
      "13/13 [==============================] - 0s 1ms/step - loss: 7.1487 - mse: 6.3510\n",
      "Epoch 17/20\n",
      "13/13 [==============================] - 0s 2ms/step - loss: 6.4174 - mse: 5.6203\n",
      "Epoch 18/20\n",
      "13/13 [==============================] - 0s 1ms/step - loss: 7.0719 - mse: 6.2755\n",
      "Epoch 19/20\n",
      "13/13 [==============================] - 0s 1ms/step - loss: 6.7596 - mse: 5.9637\n",
      "Epoch 20/20\n",
      "13/13 [==============================] - 0s 1ms/step - loss: 6.7625 - mse: 5.9673\n",
      "R2-test-fit: -5.9170090324487585\n",
      "Epoch 1/20\n",
      "9/9 [==============================] - 1s 1ms/step - loss: 8.4827 - mse: 7.6846\n",
      "Epoch 2/20\n",
      "9/9 [==============================] - 0s 976us/step - loss: 8.6495 - mse: 7.8524\n",
      "Epoch 3/20\n",
      "9/9 [==============================] - 0s 2ms/step - loss: 8.0479 - mse: 7.2514\n",
      "Epoch 4/20\n",
      "9/9 [==============================] - 0s 1ms/step - loss: 7.8943 - mse: 7.0983\n",
      "Epoch 5/20\n",
      "9/9 [==============================] - 0s 2ms/step - loss: 7.6056 - mse: 6.8097\n",
      "Epoch 6/20\n",
      "9/9 [==============================] - 0s 2ms/step - loss: 6.8045 - mse: 6.0088\n",
      "Epoch 7/20\n",
      "9/9 [==============================] - 0s 1ms/step - loss: 7.0736 - mse: 6.2780\n",
      "Epoch 8/20\n",
      "9/9 [==============================] - 0s 2ms/step - loss: 6.5815 - mse: 5.7862\n",
      "Epoch 9/20\n",
      "9/9 [==============================] - 0s 2ms/step - loss: 6.3230 - mse: 5.5278\n",
      "Epoch 10/20\n",
      "9/9 [==============================] - 0s 2ms/step - loss: 6.4692 - mse: 5.6743\n",
      "Epoch 11/20\n",
      "9/9 [==============================] - 0s 2ms/step - loss: 6.4255 - mse: 5.6308\n",
      "Epoch 12/20\n",
      "9/9 [==============================] - 0s 1ms/step - loss: 6.1077 - mse: 5.3133\n",
      "Epoch 13/20\n",
      "9/9 [==============================] - 0s 2ms/step - loss: 6.1610 - mse: 5.3669\n",
      "Epoch 14/20\n",
      "9/9 [==============================] - 0s 2ms/step - loss: 6.7745 - mse: 5.9806\n",
      "Epoch 15/20\n",
      "9/9 [==============================] - 0s 2ms/step - loss: 6.6603 - mse: 5.8668\n",
      "Epoch 16/20\n",
      "9/9 [==============================] - 0s 1ms/step - loss: 6.2168 - mse: 5.4236\n",
      "Epoch 17/20\n",
      "9/9 [==============================] - 0s 2ms/step - loss: 6.8770 - mse: 6.0842\n",
      "Epoch 18/20\n",
      "9/9 [==============================] - 0s 2ms/step - loss: 6.5415 - mse: 5.7490\n",
      "Epoch 19/20\n",
      "9/9 [==============================] - 0s 2ms/step - loss: 6.1735 - mse: 5.3814\n",
      "Epoch 20/20\n",
      "9/9 [==============================] - 0s 2ms/step - loss: 7.4634 - mse: 6.6717\n",
      "5/5 [==============================] - 0s 976us/step - loss: 7.2721 - mse: 6.4806\n",
      "R2-test -7.272057056427002\n",
      "5/5 [==============================] - 0s 732us/step\n",
      "MSE-test 6.480577539711481\n",
      "Best params: {'sel__n_features_to_select': 5, 'sel__estimator__learning_rate': 0.05, 'est__output_shape': 1, 'est__nn3': 30, 'est__nn2': 40, 'est__nn1': 100, 'est__nl3': 2, 'est__nl2': 3, 'est__nl1': 0, 'est__lr': 0.01, 'est__l2': 0.0001, 'est__l1': 0.001, 'est__input_shape': 5, 'est__dropout': 0.3, 'est__decay': 0, 'est__act': 'relu'}\n",
      "Selected features: ['g_lab3', 'ut_lab3', 'rt_lab3', 'actq2_lab3', 'mean(qavt$_lab3)']\n"
     ]
    },
    {
     "data": {
      "text/plain": [
       "['g_lab3', 'ut_lab3', 'rt_lab3', 'actq2_lab3', 'mean(qavt$_lab3)']"
      ]
     },
     "execution_count": 56,
     "metadata": {},
     "output_type": "execute_result"
    }
   ],
   "source": [
    "#Lab 3\n",
    "run_process(datalab3, rand_cv)"
   ]
  },
  {
   "cell_type": "code",
   "execution_count": 57,
   "metadata": {},
   "outputs": [
    {
     "name": "stdout",
     "output_type": "stream",
     "text": [
      "Fitting 5 folds for each of 10 candidates, totalling 50 fits\n",
      "[Parallel(n_jobs=-1)]: Using backend LokyBackend with 8 concurrent workers.\n",
      "[Parallel(n_jobs=-1)]: Done   1 tasks      | elapsed:    4.6s\n",
      "[Parallel(n_jobs=-1)]: Done   2 tasks      | elapsed:    4.8s\n",
      "[Parallel(n_jobs=-1)]: Done   3 tasks      | elapsed:    4.9s\n",
      "[Parallel(n_jobs=-1)]: Done   4 tasks      | elapsed:    4.9s\n",
      "[Parallel(n_jobs=-1)]: Done   5 tasks      | elapsed:    5.2s\n",
      "[Parallel(n_jobs=-1)]: Done   6 tasks      | elapsed:    5.9s\n",
      "[Parallel(n_jobs=-1)]: Done   7 tasks      | elapsed:    6.2s\n",
      "[Parallel(n_jobs=-1)]: Done   8 tasks      | elapsed:    6.3s\n",
      "[Parallel(n_jobs=-1)]: Done   9 tasks      | elapsed:    9.5s\n",
      "[Parallel(n_jobs=-1)]: Done  10 tasks      | elapsed:    9.7s\n",
      "[Parallel(n_jobs=-1)]: Done  11 tasks      | elapsed:   10.1s\n",
      "[Parallel(n_jobs=-1)]: Done  12 tasks      | elapsed:   10.6s\n",
      "[Parallel(n_jobs=-1)]: Done  13 tasks      | elapsed:   10.7s\n",
      "[Parallel(n_jobs=-1)]: Done  14 tasks      | elapsed:   11.0s\n",
      "[Parallel(n_jobs=-1)]: Done  15 tasks      | elapsed:   11.1s\n",
      "[Parallel(n_jobs=-1)]: Done  16 tasks      | elapsed:   11.7s\n",
      "[Parallel(n_jobs=-1)]: Done  17 tasks      | elapsed:   15.4s\n",
      "[Parallel(n_jobs=-1)]: Done  18 tasks      | elapsed:   15.7s\n",
      "[Parallel(n_jobs=-1)]: Done  19 tasks      | elapsed:   15.7s\n",
      "[Parallel(n_jobs=-1)]: Done  20 tasks      | elapsed:   15.8s\n",
      "[Parallel(n_jobs=-1)]: Done  21 tasks      | elapsed:   15.9s\n",
      "[Parallel(n_jobs=-1)]: Done  22 tasks      | elapsed:   16.7s\n",
      "[Parallel(n_jobs=-1)]: Done  23 tasks      | elapsed:   17.0s\n",
      "[Parallel(n_jobs=-1)]: Done  24 tasks      | elapsed:   17.1s\n",
      "[Parallel(n_jobs=-1)]: Done  25 tasks      | elapsed:   19.8s\n",
      "[Parallel(n_jobs=-1)]: Done  26 tasks      | elapsed:   19.9s\n",
      "[Parallel(n_jobs=-1)]: Done  27 tasks      | elapsed:   20.2s\n",
      "[Parallel(n_jobs=-1)]: Done  28 tasks      | elapsed:   20.4s\n",
      "[Parallel(n_jobs=-1)]: Done  29 tasks      | elapsed:   20.6s\n",
      "[Parallel(n_jobs=-1)]: Done  30 tasks      | elapsed:   21.1s\n",
      "[Parallel(n_jobs=-1)]: Done  31 tasks      | elapsed:   21.6s\n",
      "[Parallel(n_jobs=-1)]: Done  32 tasks      | elapsed:   22.2s\n",
      "[Parallel(n_jobs=-1)]: Done  33 tasks      | elapsed:   24.2s\n",
      "[Parallel(n_jobs=-1)]: Done  34 tasks      | elapsed:   25.0s\n",
      "[Parallel(n_jobs=-1)]: Done  35 tasks      | elapsed:   25.1s\n",
      "[Parallel(n_jobs=-1)]: Done  36 out of  50 | elapsed:   25.3s remaining:    9.8s\n",
      "[Parallel(n_jobs=-1)]: Done  37 out of  50 | elapsed:   25.9s remaining:    9.0s\n",
      "[Parallel(n_jobs=-1)]: Done  38 out of  50 | elapsed:   26.4s remaining:    8.3s\n",
      "[Parallel(n_jobs=-1)]: Done  39 out of  50 | elapsed:   27.5s remaining:    7.7s\n",
      "[Parallel(n_jobs=-1)]: Done  40 out of  50 | elapsed:   27.5s remaining:    6.8s\n",
      "[Parallel(n_jobs=-1)]: Done  41 out of  50 | elapsed:   29.7s remaining:    6.4s\n",
      "[Parallel(n_jobs=-1)]: Done  42 out of  50 | elapsed:   29.7s remaining:    5.6s\n",
      "[Parallel(n_jobs=-1)]: Done  43 out of  50 | elapsed:   30.8s remaining:    4.9s\n",
      "[Parallel(n_jobs=-1)]: Done  44 out of  50 | elapsed:   31.1s remaining:    4.2s\n",
      "[Parallel(n_jobs=-1)]: Done  45 out of  50 | elapsed:   31.1s remaining:    3.4s\n",
      "[Parallel(n_jobs=-1)]: Done  46 out of  50 | elapsed:   31.8s remaining:    2.7s\n",
      "[Parallel(n_jobs=-1)]: Done  47 out of  50 | elapsed:   32.5s remaining:    2.0s\n",
      "[Parallel(n_jobs=-1)]: Done  48 out of  50 | elapsed:   32.6s remaining:    1.3s\n",
      "[Parallel(n_jobs=-1)]: Done  50 out of  50 | elapsed:   33.6s remaining:    0.0s\n",
      "[Parallel(n_jobs=-1)]: Done  50 out of  50 | elapsed:   33.6s finished\n",
      "Epoch 1/20\n",
      "13/13 [==============================] - 1s 976us/step - loss: 7.7727 - mse: 7.7559\n",
      "Epoch 2/20\n",
      "13/13 [==============================] - 0s 976us/step - loss: 7.1736 - mse: 7.1568\n",
      "Epoch 3/20\n",
      "13/13 [==============================] - 0s 1ms/step - loss: 6.9259 - mse: 6.9089\n",
      "Epoch 4/20\n",
      "13/13 [==============================] - 0s 1ms/step - loss: 6.2416 - mse: 6.2246\n",
      "Epoch 5/20\n",
      "13/13 [==============================] - 0s 1ms/step - loss: 6.7757 - mse: 6.7586\n",
      "Epoch 6/20\n",
      "13/13 [==============================] - 0s 1ms/step - loss: 5.6316 - mse: 5.6144\n",
      "Epoch 7/20\n",
      "13/13 [==============================] - 0s 1ms/step - loss: 6.4283 - mse: 6.4111\n",
      "Epoch 8/20\n",
      "13/13 [==============================] - 0s 1ms/step - loss: 6.0639 - mse: 6.0467\n",
      "Epoch 9/20\n",
      "13/13 [==============================] - 0s 813us/step - loss: 5.8380 - mse: 5.8207\n",
      "Epoch 10/20\n",
      "13/13 [==============================] - 0s 1ms/step - loss: 5.6778 - mse: 5.6605\n",
      "Epoch 11/20\n",
      "13/13 [==============================] - 0s 976us/step - loss: 5.6570 - mse: 5.6397\n",
      "Epoch 12/20\n",
      "13/13 [==============================] - 0s 895us/step - loss: 5.9314 - mse: 5.9141\n",
      "Epoch 13/20\n",
      "13/13 [==============================] - 0s 1ms/step - loss: 6.0188 - mse: 6.0015\n",
      "Epoch 14/20\n",
      "13/13 [==============================] - 0s 895us/step - loss: 6.0863 - mse: 6.0690\n",
      "Epoch 15/20\n",
      "13/13 [==============================] - 0s 1ms/step - loss: 6.0245 - mse: 6.0072\n",
      "Epoch 16/20\n",
      "13/13 [==============================] - 0s 1ms/step - loss: 5.9832 - mse: 5.9658\n",
      "Epoch 17/20\n",
      "13/13 [==============================] - 0s 1ms/step - loss: 5.8365 - mse: 5.8191\n",
      "Epoch 18/20\n",
      "13/13 [==============================] - 0s 1ms/step - loss: 6.3510 - mse: 6.3336\n",
      "Epoch 19/20\n",
      "13/13 [==============================] - 0s 1ms/step - loss: 6.2798 - mse: 6.2625\n",
      "Epoch 20/20\n",
      "13/13 [==============================] - 0s 1ms/step - loss: 5.8673 - mse: 5.8499\n",
      "R2-test-fit: -5.931722058737549\n",
      "Epoch 1/20\n",
      "9/9 [==============================] - 1s 1ms/step - loss: 7.8377 - mse: 7.8205\n",
      "Epoch 2/20\n",
      "9/9 [==============================] - 0s 854us/step - loss: 7.9305 - mse: 7.9132\n",
      "Epoch 3/20\n",
      "9/9 [==============================] - 0s 1ms/step - loss: 7.2436 - mse: 7.2263\n",
      "Epoch 4/20\n",
      "9/9 [==============================] - 0s 1ms/step - loss: 7.4434 - mse: 7.4260\n",
      "Epoch 5/20\n",
      "9/9 [==============================] - 0s 1ms/step - loss: 6.6412 - mse: 6.6238\n",
      "Epoch 6/20\n",
      "9/9 [==============================] - 0s 1ms/step - loss: 6.6379 - mse: 6.6204\n",
      "Epoch 7/20\n",
      "9/9 [==============================] - 0s 2ms/step - loss: 6.0059 - mse: 5.9883\n",
      "Epoch 8/20\n",
      "9/9 [==============================] - 0s 1ms/step - loss: 6.5482 - mse: 6.5306\n",
      "Epoch 9/20\n",
      "9/9 [==============================] - 0s 1ms/step - loss: 6.1995 - mse: 6.1819\n",
      "Epoch 10/20\n",
      "9/9 [==============================] - 0s 1ms/step - loss: 5.9799 - mse: 5.9622\n",
      "Epoch 11/20\n",
      "9/9 [==============================] - 0s 979us/step - loss: 7.0158 - mse: 6.9981\n",
      "Epoch 12/20\n",
      "9/9 [==============================] - 0s 1ms/step - loss: 6.2699 - mse: 6.2522\n",
      "Epoch 13/20\n",
      "9/9 [==============================] - 0s 2ms/step - loss: 6.4241 - mse: 6.4064\n",
      "Epoch 14/20\n",
      "9/9 [==============================] - 0s 1ms/step - loss: 6.0736 - mse: 6.0559\n",
      "Epoch 15/20\n",
      "9/9 [==============================] - 0s 1ms/step - loss: 6.6537 - mse: 6.6360\n",
      "Epoch 16/20\n",
      "9/9 [==============================] - 0s 1ms/step - loss: 6.6664 - mse: 6.6487\n",
      "Epoch 17/20\n",
      "9/9 [==============================] - 0s 976us/step - loss: 6.5488 - mse: 6.5311\n",
      "Epoch 18/20\n",
      "9/9 [==============================] - 0s 1ms/step - loss: 6.1836 - mse: 6.1658\n",
      "Epoch 19/20\n",
      "9/9 [==============================] - 0s 1ms/step - loss: 5.3851 - mse: 5.3673\n",
      "Epoch 20/20\n",
      "9/9 [==============================] - 0s 1ms/step - loss: 6.5103 - mse: 6.4926\n",
      "5/5 [==============================] - 0s 733us/step - loss: 5.4414 - mse: 5.4237\n",
      "R2-test -5.441439151763916\n",
      "5/5 [==============================] - 0s 732us/step\n",
      "MSE-test 5.423655442888803\n",
      "Best params: {'sel__n_features_to_select': 5, 'sel__estimator__learning_rate': 0.05, 'est__output_shape': 1, 'est__nn3': 30, 'est__nn2': 10, 'est__nn1': 50, 'est__nl3': 1, 'est__nl2': 3, 'est__nl1': 0, 'est__lr': 0.01, 'est__l2': 0.0001, 'est__l1': 0.0001, 'est__input_shape': 5, 'est__dropout': 0.2, 'est__decay': 0, 'est__act': 'relu'}\n",
      "Selected features: ['norm_log(dis_lab4)', 'rtr_lab4', 'cer_lab4', 'actq1_lab4', 'avgtime_lab4']\n"
     ]
    },
    {
     "data": {
      "text/plain": [
       "['norm_log(dis_lab4)', 'rtr_lab4', 'cer_lab4', 'actq1_lab4', 'avgtime_lab4']"
      ]
     },
     "execution_count": 57,
     "metadata": {},
     "output_type": "execute_result"
    }
   ],
   "source": [
    "#Lab 4\n",
    "run_process(datalab4, rand_cv)"
   ]
  },
  {
   "cell_type": "code",
   "execution_count": 58,
   "metadata": {},
   "outputs": [],
   "source": [
    "estimator = model\n",
    "\n",
    "param_grid = {\n",
    "    'nl1':            nl1,\n",
    "    'nl2':            nl2,\n",
    "    'nl3':            nl3,\n",
    "    'nn1':            nn1,\n",
    "    'nn2':            nn2,\n",
    "    'nn3':            nn3,\n",
    "    'act':            activation,\n",
    "    'l1':             l1,\n",
    "    'l2':             l2,\n",
    "    'lr':             lr,\n",
    "    'decay':          decay,\n",
    "    'dropout':        dropout, \n",
    "    'input_shape':    [20],\n",
    "    'output_shape':   [1]\n",
    "}\n",
    "\n",
    "rand_cv = RandomizedSearchCV(estimator=estimator,\n",
    "                             param_distributions=param_grid,\n",
    "                             verbose=100,\n",
    "                             n_iter=10,\n",
    "                             scoring='neg_mean_squared_error',\n",
    "                             n_jobs=-1,\n",
    "                             return_train_score=True,\n",
    "                             cv=KFold(n_splits=5, shuffle=True))"
   ]
  },
  {
   "cell_type": "code",
   "execution_count": 59,
   "metadata": {},
   "outputs": [],
   "source": [
    "selected_features_ann_1 = ['actq3_lab1','actq1_lab1','mean(qmsr$_lab1)','rtr_lab1','cer_lab1']\n",
    "selected_features_ann_2 = ['actq3_lab2','actq1_lab2','mean(qavt$_lab2)','avgtime_lab2','rt_lab2']\n",
    "selected_features_ann_3 = ['rt_lab3','actq1_lab3','ut_lab3','mean(qact$_lab3)','cer_lab3']\n",
    "selected_features_ann_4 = ['rt_lab4','cer_lab4','err_lab4','actq1_lab4','mean(qc$_lab4)']"
   ]
  },
  {
   "cell_type": "code",
   "execution_count": 60,
   "metadata": {},
   "outputs": [
    {
     "name": "stdout",
     "output_type": "stream",
     "text": [
      "Fitting 5 folds for each of 10 candidates, totalling 50 fits\n",
      "[Parallel(n_jobs=-1)]: Using backend LokyBackend with 8 concurrent workers.\n",
      "[Parallel(n_jobs=-1)]: Done   1 tasks      | elapsed:    0.1s\n",
      "[Parallel(n_jobs=-1)]: Done   2 tasks      | elapsed:    0.2s\n",
      "[Parallel(n_jobs=-1)]: Done   3 tasks      | elapsed:    0.2s\n",
      "[Parallel(n_jobs=-1)]: Done   4 tasks      | elapsed:    0.2s\n",
      "[Parallel(n_jobs=-1)]: Done   5 tasks      | elapsed:    0.2s\n",
      "[Parallel(n_jobs=-1)]: Done   6 tasks      | elapsed:    0.3s\n",
      "[Parallel(n_jobs=-1)]: Done   7 tasks      | elapsed:    0.3s\n",
      "[Parallel(n_jobs=-1)]: Done   8 tasks      | elapsed:    0.3s\n",
      "[Parallel(n_jobs=-1)]: Done   9 tasks      | elapsed:    0.4s\n",
      "[Parallel(n_jobs=-1)]: Done  10 tasks      | elapsed:    0.5s\n",
      "[Parallel(n_jobs=-1)]: Done  11 tasks      | elapsed:    0.5s\n",
      "[Parallel(n_jobs=-1)]: Done  12 tasks      | elapsed:    0.5s\n",
      "[Parallel(n_jobs=-1)]: Done  13 tasks      | elapsed:    0.5s\n",
      "[Parallel(n_jobs=-1)]: Done  14 tasks      | elapsed:    0.6s\n",
      "[Parallel(n_jobs=-1)]: Done  15 tasks      | elapsed:    0.6s\n",
      "[Parallel(n_jobs=-1)]: Done  16 tasks      | elapsed:    0.6s\n",
      "[Parallel(n_jobs=-1)]: Done  17 tasks      | elapsed:    0.8s\n",
      "[Parallel(n_jobs=-1)]: Done  18 tasks      | elapsed:    0.8s\n",
      "[Parallel(n_jobs=-1)]: Done  19 tasks      | elapsed:    0.8s\n",
      "[Parallel(n_jobs=-1)]: Done  20 tasks      | elapsed:    0.8s\n",
      "[Parallel(n_jobs=-1)]: Done  21 tasks      | elapsed:    1.0s\n",
      "[Parallel(n_jobs=-1)]: Done  22 tasks      | elapsed:    1.0s\n",
      "[Parallel(n_jobs=-1)]: Done  23 tasks      | elapsed:    1.0s\n",
      "[Parallel(n_jobs=-1)]: Done  24 tasks      | elapsed:    1.2s\n",
      "[Parallel(n_jobs=-1)]: Done  25 tasks      | elapsed:    1.2s\n",
      "[Parallel(n_jobs=-1)]: Done  26 tasks      | elapsed:    1.3s\n",
      "[Parallel(n_jobs=-1)]: Done  27 tasks      | elapsed:    1.5s\n",
      "[Parallel(n_jobs=-1)]: Done  28 tasks      | elapsed:    1.5s\n",
      "[Parallel(n_jobs=-1)]: Done  29 tasks      | elapsed:    1.6s\n",
      "[Parallel(n_jobs=-1)]: Done  30 tasks      | elapsed:    1.7s\n",
      "[Parallel(n_jobs=-1)]: Done  31 tasks      | elapsed:    1.9s\n",
      "[Parallel(n_jobs=-1)]: Done  32 tasks      | elapsed:    1.9s\n",
      "[Parallel(n_jobs=-1)]: Done  33 tasks      | elapsed:    1.9s\n",
      "[Parallel(n_jobs=-1)]: Done  34 tasks      | elapsed:    1.9s\n",
      "[Parallel(n_jobs=-1)]: Done  35 tasks      | elapsed:    1.9s\n",
      "[Parallel(n_jobs=-1)]: Done  36 out of  50 | elapsed:    2.0s remaining:    0.7s\n",
      "[Parallel(n_jobs=-1)]: Done  37 out of  50 | elapsed:    2.0s remaining:    0.6s\n",
      "[Parallel(n_jobs=-1)]: Done  38 out of  50 | elapsed:    2.1s remaining:    0.6s\n",
      "[Parallel(n_jobs=-1)]: Done  39 out of  50 | elapsed:    2.2s remaining:    0.5s\n",
      "[Parallel(n_jobs=-1)]: Done  40 out of  50 | elapsed:    2.3s remaining:    0.5s\n",
      "[Parallel(n_jobs=-1)]: Done  41 out of  50 | elapsed:    2.3s remaining:    0.4s\n",
      "[Parallel(n_jobs=-1)]: Done  42 out of  50 | elapsed:    2.3s remaining:    0.4s\n",
      "[Parallel(n_jobs=-1)]: Done  43 out of  50 | elapsed:    2.3s remaining:    0.3s\n",
      "[Parallel(n_jobs=-1)]: Done  44 out of  50 | elapsed:    2.3s remaining:    0.2s\n",
      "[Parallel(n_jobs=-1)]: Done  45 out of  50 | elapsed:    2.3s remaining:    0.2s\n",
      "[Parallel(n_jobs=-1)]: Done  46 out of  50 | elapsed:    2.3s remaining:    0.1s\n",
      "[Parallel(n_jobs=-1)]: Done  47 out of  50 | elapsed:    2.4s remaining:    0.1s\n",
      "[Parallel(n_jobs=-1)]: Done  48 out of  50 | elapsed:    2.5s remaining:    0.0s\n",
      "[Parallel(n_jobs=-1)]: Done  50 out of  50 | elapsed:    2.5s remaining:    0.0s\n",
      "[Parallel(n_jobs=-1)]: Done  50 out of  50 | elapsed:    2.5s finished\n",
      "Epoch 1/20\n",
      "13/13 [==============================] - 0s 927us/step - loss: 8.8471 - mse: 8.8471\n",
      "Epoch 2/20\n",
      "13/13 [==============================] - 0s 1ms/step - loss: 8.0047 - mse: 8.0047\n",
      "Epoch 3/20\n",
      "13/13 [==============================] - 0s 1ms/step - loss: 7.7225 - mse: 7.7225\n",
      "Epoch 4/20\n",
      "13/13 [==============================] - 0s 1ms/step - loss: 7.9194 - mse: 7.9194\n",
      "Epoch 5/20\n",
      "13/13 [==============================] - 0s 1ms/step - loss: 6.9938 - mse: 6.9938\n",
      "Epoch 6/20\n",
      "13/13 [==============================] - 0s 976us/step - loss: 6.6569 - mse: 6.6569\n",
      "Epoch 7/20\n",
      "13/13 [==============================] - 0s 1ms/step - loss: 7.3963 - mse: 7.3963\n",
      "Epoch 8/20\n",
      "13/13 [==============================] - 0s 976us/step - loss: 7.4444 - mse: 7.4444\n",
      "Epoch 9/20\n",
      "13/13 [==============================] - 0s 895us/step - loss: 7.3545 - mse: 7.3545\n",
      "Epoch 10/20\n",
      "13/13 [==============================] - 0s 1ms/step - loss: 6.8450 - mse: 6.8450\n",
      "Epoch 11/20\n",
      "13/13 [==============================] - 0s 976us/step - loss: 7.1252 - mse: 7.1252\n",
      "Epoch 12/20\n",
      "13/13 [==============================] - 0s 1ms/step - loss: 6.9260 - mse: 6.9260\n",
      "Epoch 13/20\n",
      "13/13 [==============================] - 0s 1ms/step - loss: 7.4639 - mse: 7.4639\n",
      "Epoch 14/20\n",
      "13/13 [==============================] - 0s 732us/step - loss: 6.5637 - mse: 6.5637\n",
      "Epoch 15/20\n",
      "13/13 [==============================] - 0s 813us/step - loss: 5.8923 - mse: 5.8923\n",
      "Epoch 16/20\n",
      "13/13 [==============================] - 0s 813us/step - loss: 6.2475 - mse: 6.2475\n",
      "Epoch 17/20\n",
      "13/13 [==============================] - 0s 895us/step - loss: 6.7663 - mse: 6.7663\n",
      "Epoch 18/20\n",
      "13/13 [==============================] - 0s 732us/step - loss: 6.6470 - mse: 6.6470\n",
      "Epoch 19/20\n",
      "13/13 [==============================] - 0s 976us/step - loss: 6.3415 - mse: 6.3415\n",
      "Epoch 20/20\n",
      "13/13 [==============================] - 0s 813us/step - loss: 6.0208 - mse: 6.0208\n",
      "R2-test-fit: nan\n",
      "Epoch 1/20\n",
      "9/9 [==============================] - 0s 732us/step - loss: 8.2266 - mse: 8.2266\n",
      "Epoch 2/20\n",
      "9/9 [==============================] - 0s 854us/step - loss: 8.0985 - mse: 8.0985\n",
      "Epoch 3/20\n",
      "9/9 [==============================] - 0s 854us/step - loss: 8.4963 - mse: 8.4963\n",
      "Epoch 4/20\n",
      "9/9 [==============================] - 0s 1ms/step - loss: 8.5254 - mse: 8.5254\n",
      "Epoch 5/20\n",
      "9/9 [==============================] - 0s 847us/step - loss: 8.4737 - mse: 8.4737\n",
      "Epoch 6/20\n",
      "9/9 [==============================] - 0s 854us/step - loss: 8.1361 - mse: 8.1361\n",
      "Epoch 7/20\n",
      "9/9 [==============================] - 0s 976us/step - loss: 8.2878 - mse: 8.2878\n",
      "Epoch 8/20\n",
      "9/9 [==============================] - 0s 976us/step - loss: 7.2536 - mse: 7.2536\n",
      "Epoch 9/20\n",
      "9/9 [==============================] - 0s 732us/step - loss: 7.2597 - mse: 7.2597\n",
      "Epoch 10/20\n",
      "9/9 [==============================] - 0s 976us/step - loss: 7.7404 - mse: 7.7404\n",
      "Epoch 11/20\n",
      "9/9 [==============================] - 0s 1ms/step - loss: 8.1480 - mse: 8.1480\n",
      "Epoch 12/20\n",
      "9/9 [==============================] - 0s 854us/step - loss: 7.1945 - mse: 7.1945\n",
      "Epoch 13/20\n",
      "9/9 [==============================] - 0s 854us/step - loss: 7.3569 - mse: 7.3569\n",
      "Epoch 14/20\n",
      "9/9 [==============================] - 0s 1ms/step - loss: 6.6640 - mse: 6.6640\n",
      "Epoch 15/20\n",
      "9/9 [==============================] - 0s 1ms/step - loss: 7.2895 - mse: 7.2895\n",
      "Epoch 16/20\n",
      "9/9 [==============================] - 0s 854us/step - loss: 7.4906 - mse: 7.4906\n",
      "Epoch 17/20\n",
      "9/9 [==============================] - 0s 976us/step - loss: 6.9732 - mse: 6.9732\n",
      "Epoch 18/20\n",
      "9/9 [==============================] - 0s 732us/step - loss: 7.7763 - mse: 7.7763\n",
      "Epoch 19/20\n",
      "9/9 [==============================] - 0s 1ms/step - loss: 7.2343 - mse: 7.2343\n",
      "Epoch 20/20\n",
      "9/9 [==============================] - 0s 1ms/step - loss: 6.8322 - mse: 6.8322\n",
      "5/5 [==============================] - 0s 976us/step - loss: 5.7436 - mse: 5.7436\n",
      "R2-test -5.743605136871338\n",
      "5/5 [==============================] - 0s 732us/step\n",
      "MSE-test 5.743605536131016\n",
      "Best params: {'output_shape': 1, 'nn3': 15, 'nn2': 40, 'nn1': 50, 'nl3': 0, 'nl2': 0, 'nl1': 0, 'lr': 0.0001, 'l2': 0.001, 'l1': 0.0001, 'input_shape': 20, 'dropout': 0, 'decay': 1e-06, 'act': 'relu'}\n"
     ]
    },
    {
     "data": {
      "text/plain": [
       "['actq3_lab1',\n",
       " 'actq1_lab1',\n",
       " 'mean(qmsr$_lab1)',\n",
       " 'rtr_lab1',\n",
       " 'cer_lab1',\n",
       " 'actq3_lab2',\n",
       " 'actq1_lab2',\n",
       " 'mean(qavt$_lab2)',\n",
       " 'avgtime_lab2',\n",
       " 'rt_lab2']"
      ]
     },
     "execution_count": 60,
     "metadata": {},
     "output_type": "execute_result"
    }
   ],
   "source": [
    "#Lab 1 y 2 \n",
    "dataset = datalab1[[TARGET] + selected_features_ann_1].join(datalab2[selected_features_ann_2])\n",
    "run_process(dataset,rand_cv)"
   ]
  },
  {
   "cell_type": "code",
   "execution_count": 61,
   "metadata": {},
   "outputs": [
    {
     "name": "stdout",
     "output_type": "stream",
     "text": [
      "Fitting 5 folds for each of 10 candidates, totalling 50 fits\n",
      "[Parallel(n_jobs=-1)]: Using backend LokyBackend with 8 concurrent workers.\n",
      "[Parallel(n_jobs=-1)]: Done   1 tasks      | elapsed:    0.2s\n",
      "[Parallel(n_jobs=-1)]: Done   2 tasks      | elapsed:    0.2s\n",
      "[Parallel(n_jobs=-1)]: Done   3 tasks      | elapsed:    0.3s\n",
      "[Parallel(n_jobs=-1)]: Done   4 tasks      | elapsed:    0.3s\n",
      "[Parallel(n_jobs=-1)]: Done   5 tasks      | elapsed:    0.4s\n",
      "[Parallel(n_jobs=-1)]: Done   6 tasks      | elapsed:    0.4s\n",
      "[Parallel(n_jobs=-1)]: Done   7 tasks      | elapsed:    0.5s\n",
      "[Parallel(n_jobs=-1)]: Done   8 tasks      | elapsed:    0.5s\n",
      "[Parallel(n_jobs=-1)]: Done   9 tasks      | elapsed:    0.6s\n",
      "[Parallel(n_jobs=-1)]: Done  10 tasks      | elapsed:    0.6s\n",
      "[Parallel(n_jobs=-1)]: Done  11 tasks      | elapsed:    0.6s\n",
      "[Parallel(n_jobs=-1)]: Done  12 tasks      | elapsed:    0.7s\n",
      "[Parallel(n_jobs=-1)]: Done  13 tasks      | elapsed:    0.7s\n",
      "[Parallel(n_jobs=-1)]: Done  14 tasks      | elapsed:    0.7s\n",
      "[Parallel(n_jobs=-1)]: Done  15 tasks      | elapsed:    0.8s\n",
      "[Parallel(n_jobs=-1)]: Done  16 tasks      | elapsed:    0.8s\n",
      "[Parallel(n_jobs=-1)]: Done  17 tasks      | elapsed:    0.8s\n",
      "[Parallel(n_jobs=-1)]: Done  18 tasks      | elapsed:    0.9s\n",
      "[Parallel(n_jobs=-1)]: Done  19 tasks      | elapsed:    0.9s\n",
      "[Parallel(n_jobs=-1)]: Done  20 tasks      | elapsed:    1.0s\n",
      "[Parallel(n_jobs=-1)]: Done  21 tasks      | elapsed:    1.0s\n",
      "[Parallel(n_jobs=-1)]: Done  22 tasks      | elapsed:    1.1s\n",
      "[Parallel(n_jobs=-1)]: Done  23 tasks      | elapsed:    1.1s\n",
      "[Parallel(n_jobs=-1)]: Done  24 tasks      | elapsed:    1.1s\n",
      "[Parallel(n_jobs=-1)]: Done  25 tasks      | elapsed:    1.2s\n",
      "[Parallel(n_jobs=-1)]: Done  26 tasks      | elapsed:    1.2s\n",
      "[Parallel(n_jobs=-1)]: Done  27 tasks      | elapsed:    1.2s\n",
      "[Parallel(n_jobs=-1)]: Done  28 tasks      | elapsed:    1.3s\n",
      "[Parallel(n_jobs=-1)]: Done  29 tasks      | elapsed:    1.4s\n",
      "[Parallel(n_jobs=-1)]: Done  30 tasks      | elapsed:    1.5s\n",
      "[Parallel(n_jobs=-1)]: Done  31 tasks      | elapsed:    1.5s\n",
      "[Parallel(n_jobs=-1)]: Done  32 tasks      | elapsed:    1.6s\n",
      "[Parallel(n_jobs=-1)]: Done  33 tasks      | elapsed:    1.6s\n",
      "[Parallel(n_jobs=-1)]: Done  34 tasks      | elapsed:    1.6s\n",
      "[Parallel(n_jobs=-1)]: Done  35 tasks      | elapsed:    1.6s\n",
      "[Parallel(n_jobs=-1)]: Done  36 out of  50 | elapsed:    1.7s remaining:    0.6s\n",
      "[Parallel(n_jobs=-1)]: Done  37 out of  50 | elapsed:    1.7s remaining:    0.5s\n",
      "[Parallel(n_jobs=-1)]: Done  38 out of  50 | elapsed:    1.8s remaining:    0.5s\n",
      "[Parallel(n_jobs=-1)]: Done  39 out of  50 | elapsed:    1.8s remaining:    0.4s\n",
      "[Parallel(n_jobs=-1)]: Done  40 out of  50 | elapsed:    1.8s remaining:    0.4s\n",
      "[Parallel(n_jobs=-1)]: Done  41 out of  50 | elapsed:    1.9s remaining:    0.3s\n",
      "[Parallel(n_jobs=-1)]: Done  42 out of  50 | elapsed:    1.9s remaining:    0.3s\n",
      "[Parallel(n_jobs=-1)]: Done  43 out of  50 | elapsed:    1.9s remaining:    0.2s\n",
      "[Parallel(n_jobs=-1)]: Done  44 out of  50 | elapsed:    1.9s remaining:    0.2s\n",
      "[Parallel(n_jobs=-1)]: Done  45 out of  50 | elapsed:    2.0s remaining:    0.1s\n",
      "[Parallel(n_jobs=-1)]: Done  46 out of  50 | elapsed:    2.0s remaining:    0.1s\n",
      "[Parallel(n_jobs=-1)]: Done  47 out of  50 | elapsed:    2.0s remaining:    0.0s\n",
      "[Parallel(n_jobs=-1)]: Done  48 out of  50 | elapsed:    2.0s remaining:    0.0s\n",
      "[Parallel(n_jobs=-1)]: Done  50 out of  50 | elapsed:    2.1s remaining:    0.0s\n",
      "[Parallel(n_jobs=-1)]: Done  50 out of  50 | elapsed:    2.1s finished\n",
      "Epoch 1/20\n"
     ]
    },
    {
     "ename": "ValueError",
     "evalue": "in user code:\n\n    C:\\Users\\ASDRB\\anaconda3\\lib\\site-packages\\tensorflow\\python\\keras\\engine\\training.py:805 train_function  *\n        return step_function(self, iterator)\n    C:\\Users\\ASDRB\\anaconda3\\lib\\site-packages\\tensorflow\\python\\keras\\engine\\training.py:795 step_function  **\n        outputs = model.distribute_strategy.run(run_step, args=(data,))\n    C:\\Users\\ASDRB\\anaconda3\\lib\\site-packages\\tensorflow\\python\\distribute\\distribute_lib.py:1259 run\n        return self._extended.call_for_each_replica(fn, args=args, kwargs=kwargs)\n    C:\\Users\\ASDRB\\anaconda3\\lib\\site-packages\\tensorflow\\python\\distribute\\distribute_lib.py:2730 call_for_each_replica\n        return self._call_for_each_replica(fn, args, kwargs)\n    C:\\Users\\ASDRB\\anaconda3\\lib\\site-packages\\tensorflow\\python\\distribute\\distribute_lib.py:3417 _call_for_each_replica\n        return fn(*args, **kwargs)\n    C:\\Users\\ASDRB\\anaconda3\\lib\\site-packages\\tensorflow\\python\\keras\\engine\\training.py:788 run_step  **\n        outputs = model.train_step(data)\n    C:\\Users\\ASDRB\\anaconda3\\lib\\site-packages\\tensorflow\\python\\keras\\engine\\training.py:754 train_step\n        y_pred = self(x, training=True)\n    C:\\Users\\ASDRB\\anaconda3\\lib\\site-packages\\tensorflow\\python\\keras\\engine\\base_layer.py:998 __call__\n        input_spec.assert_input_compatibility(self.input_spec, inputs, self.name)\n    C:\\Users\\ASDRB\\anaconda3\\lib\\site-packages\\tensorflow\\python\\keras\\engine\\input_spec.py:255 assert_input_compatibility\n        raise ValueError(\n\n    ValueError: Input 0 of layer sequential_10 is incompatible with the layer: expected axis -1 of input shape to have value 20 but received input with shape (None, 15)\n",
     "output_type": "error",
     "traceback": [
      "\u001b[1;31m---------------------------------------------------------------------------\u001b[0m",
      "\u001b[1;31mValueError\u001b[0m                                Traceback (most recent call last)",
      "\u001b[1;32m<ipython-input-61-3e1f554f366c>\u001b[0m in \u001b[0;36m<module>\u001b[1;34m\u001b[0m\n\u001b[0;32m      1\u001b[0m \u001b[1;31m#Lab 1,2,3\u001b[0m\u001b[1;33m\u001b[0m\u001b[1;33m\u001b[0m\u001b[1;33m\u001b[0m\u001b[0m\n\u001b[0;32m      2\u001b[0m \u001b[0mdataset\u001b[0m \u001b[1;33m=\u001b[0m \u001b[0mdatalab1\u001b[0m\u001b[1;33m[\u001b[0m\u001b[1;33m[\u001b[0m\u001b[0mTARGET\u001b[0m\u001b[1;33m]\u001b[0m \u001b[1;33m+\u001b[0m \u001b[0mselected_features_ann_1\u001b[0m\u001b[1;33m]\u001b[0m\u001b[1;33m.\u001b[0m\u001b[0mjoin\u001b[0m\u001b[1;33m(\u001b[0m\u001b[0mdatalab2\u001b[0m\u001b[1;33m[\u001b[0m\u001b[0mselected_features_ann_2\u001b[0m\u001b[1;33m]\u001b[0m\u001b[1;33m)\u001b[0m\u001b[1;33m.\u001b[0m\u001b[0mjoin\u001b[0m\u001b[1;33m(\u001b[0m\u001b[0mdatalab3\u001b[0m\u001b[1;33m[\u001b[0m\u001b[0mselected_features_ann_3\u001b[0m\u001b[1;33m]\u001b[0m\u001b[1;33m)\u001b[0m\u001b[1;33m\u001b[0m\u001b[1;33m\u001b[0m\u001b[0m\n\u001b[1;32m----> 3\u001b[1;33m \u001b[0mrun_process\u001b[0m\u001b[1;33m(\u001b[0m\u001b[0mdataset\u001b[0m\u001b[1;33m,\u001b[0m\u001b[0mrand_cv\u001b[0m\u001b[1;33m)\u001b[0m\u001b[1;33m\u001b[0m\u001b[1;33m\u001b[0m\u001b[0m\n\u001b[0m",
      "\u001b[1;32m<ipython-input-9-7f4e66e488c2>\u001b[0m in \u001b[0;36mrun_process\u001b[1;34m(dataset, grid_cv, target)\u001b[0m\n\u001b[0;32m      4\u001b[0m     \u001b[0mX\u001b[0m\u001b[1;33m,\u001b[0m \u001b[0my\u001b[0m \u001b[1;33m=\u001b[0m \u001b[0mdataset\u001b[0m\u001b[1;33m.\u001b[0m\u001b[0mdrop\u001b[0m\u001b[1;33m(\u001b[0m\u001b[0mtarget\u001b[0m\u001b[1;33m,\u001b[0m \u001b[0maxis\u001b[0m\u001b[1;33m=\u001b[0m\u001b[1;36m1\u001b[0m\u001b[1;33m)\u001b[0m\u001b[1;33m,\u001b[0m \u001b[0mnp\u001b[0m\u001b[1;33m.\u001b[0m\u001b[0marray\u001b[0m\u001b[1;33m(\u001b[0m\u001b[0mdataset\u001b[0m\u001b[1;33m[\u001b[0m\u001b[0mtarget\u001b[0m\u001b[1;33m]\u001b[0m\u001b[1;33m)\u001b[0m\u001b[1;33m\u001b[0m\u001b[1;33m\u001b[0m\u001b[0m\n\u001b[0;32m      5\u001b[0m \u001b[1;33m\u001b[0m\u001b[0m\n\u001b[1;32m----> 6\u001b[1;33m     \u001b[0mgrid_cv\u001b[0m\u001b[1;33m.\u001b[0m\u001b[0mfit\u001b[0m\u001b[1;33m(\u001b[0m\u001b[0mX\u001b[0m\u001b[1;33m,\u001b[0m\u001b[0my\u001b[0m\u001b[1;33m)\u001b[0m\u001b[1;33m\u001b[0m\u001b[1;33m\u001b[0m\u001b[0m\n\u001b[0m\u001b[0;32m      7\u001b[0m \u001b[1;33m\u001b[0m\u001b[0m\n\u001b[0;32m      8\u001b[0m     \u001b[1;32mtry\u001b[0m\u001b[1;33m:\u001b[0m\u001b[1;33m\u001b[0m\u001b[1;33m\u001b[0m\u001b[0m\n",
      "\u001b[1;32m~\\anaconda3\\lib\\site-packages\\sklearn\\utils\\validation.py\u001b[0m in \u001b[0;36minner_f\u001b[1;34m(*args, **kwargs)\u001b[0m\n\u001b[0;32m     70\u001b[0m                           \u001b[1;34m\"result in an error\"\u001b[0m\u001b[1;33m.\u001b[0m\u001b[0mformat\u001b[0m\u001b[1;33m(\u001b[0m\u001b[1;34m\", \"\u001b[0m\u001b[1;33m.\u001b[0m\u001b[0mjoin\u001b[0m\u001b[1;33m(\u001b[0m\u001b[0margs_msg\u001b[0m\u001b[1;33m)\u001b[0m\u001b[1;33m)\u001b[0m\u001b[1;33m,\u001b[0m\u001b[1;33m\u001b[0m\u001b[1;33m\u001b[0m\u001b[0m\n\u001b[0;32m     71\u001b[0m                           FutureWarning)\n\u001b[1;32m---> 72\u001b[1;33m         \u001b[0mkwargs\u001b[0m\u001b[1;33m.\u001b[0m\u001b[0mupdate\u001b[0m\u001b[1;33m(\u001b[0m\u001b[1;33m{\u001b[0m\u001b[0mk\u001b[0m\u001b[1;33m:\u001b[0m \u001b[0marg\u001b[0m \u001b[1;32mfor\u001b[0m \u001b[0mk\u001b[0m\u001b[1;33m,\u001b[0m \u001b[0marg\u001b[0m \u001b[1;32min\u001b[0m \u001b[0mzip\u001b[0m\u001b[1;33m(\u001b[0m\u001b[0msig\u001b[0m\u001b[1;33m.\u001b[0m\u001b[0mparameters\u001b[0m\u001b[1;33m,\u001b[0m \u001b[0margs\u001b[0m\u001b[1;33m)\u001b[0m\u001b[1;33m}\u001b[0m\u001b[1;33m)\u001b[0m\u001b[1;33m\u001b[0m\u001b[1;33m\u001b[0m\u001b[0m\n\u001b[0m\u001b[0;32m     73\u001b[0m         \u001b[1;32mreturn\u001b[0m \u001b[0mf\u001b[0m\u001b[1;33m(\u001b[0m\u001b[1;33m**\u001b[0m\u001b[0mkwargs\u001b[0m\u001b[1;33m)\u001b[0m\u001b[1;33m\u001b[0m\u001b[1;33m\u001b[0m\u001b[0m\n\u001b[0;32m     74\u001b[0m     \u001b[1;32mreturn\u001b[0m \u001b[0minner_f\u001b[0m\u001b[1;33m\u001b[0m\u001b[1;33m\u001b[0m\u001b[0m\n",
      "\u001b[1;32m~\\anaconda3\\lib\\site-packages\\sklearn\\model_selection\\_search.py\u001b[0m in \u001b[0;36mfit\u001b[1;34m(self, X, y, groups, **fit_params)\u001b[0m\n\u001b[0;32m    763\u001b[0m             \u001b[0mrefit_start_time\u001b[0m \u001b[1;33m=\u001b[0m \u001b[0mtime\u001b[0m\u001b[1;33m.\u001b[0m\u001b[0mtime\u001b[0m\u001b[1;33m(\u001b[0m\u001b[1;33m)\u001b[0m\u001b[1;33m\u001b[0m\u001b[1;33m\u001b[0m\u001b[0m\n\u001b[0;32m    764\u001b[0m             \u001b[1;32mif\u001b[0m \u001b[0my\u001b[0m \u001b[1;32mis\u001b[0m \u001b[1;32mnot\u001b[0m \u001b[1;32mNone\u001b[0m\u001b[1;33m:\u001b[0m\u001b[1;33m\u001b[0m\u001b[1;33m\u001b[0m\u001b[0m\n\u001b[1;32m--> 765\u001b[1;33m                 \u001b[0mself\u001b[0m\u001b[1;33m.\u001b[0m\u001b[0mbest_estimator_\u001b[0m\u001b[1;33m.\u001b[0m\u001b[0mfit\u001b[0m\u001b[1;33m(\u001b[0m\u001b[0mX\u001b[0m\u001b[1;33m,\u001b[0m \u001b[0my\u001b[0m\u001b[1;33m,\u001b[0m \u001b[1;33m**\u001b[0m\u001b[0mfit_params\u001b[0m\u001b[1;33m)\u001b[0m\u001b[1;33m\u001b[0m\u001b[1;33m\u001b[0m\u001b[0m\n\u001b[0m\u001b[0;32m    766\u001b[0m             \u001b[1;32melse\u001b[0m\u001b[1;33m:\u001b[0m\u001b[1;33m\u001b[0m\u001b[1;33m\u001b[0m\u001b[0m\n\u001b[0;32m    767\u001b[0m                 \u001b[0mself\u001b[0m\u001b[1;33m.\u001b[0m\u001b[0mbest_estimator_\u001b[0m\u001b[1;33m.\u001b[0m\u001b[0mfit\u001b[0m\u001b[1;33m(\u001b[0m\u001b[0mX\u001b[0m\u001b[1;33m,\u001b[0m \u001b[1;33m**\u001b[0m\u001b[0mfit_params\u001b[0m\u001b[1;33m)\u001b[0m\u001b[1;33m\u001b[0m\u001b[1;33m\u001b[0m\u001b[0m\n",
      "\u001b[1;32m~\\anaconda3\\lib\\site-packages\\tensorflow\\python\\keras\\wrappers\\scikit_learn.py\u001b[0m in \u001b[0;36mfit\u001b[1;34m(self, x, y, **kwargs)\u001b[0m\n\u001b[0;32m    164\u001b[0m     \u001b[0mfit_args\u001b[0m\u001b[1;33m.\u001b[0m\u001b[0mupdate\u001b[0m\u001b[1;33m(\u001b[0m\u001b[0mkwargs\u001b[0m\u001b[1;33m)\u001b[0m\u001b[1;33m\u001b[0m\u001b[1;33m\u001b[0m\u001b[0m\n\u001b[0;32m    165\u001b[0m \u001b[1;33m\u001b[0m\u001b[0m\n\u001b[1;32m--> 166\u001b[1;33m     \u001b[0mhistory\u001b[0m \u001b[1;33m=\u001b[0m \u001b[0mself\u001b[0m\u001b[1;33m.\u001b[0m\u001b[0mmodel\u001b[0m\u001b[1;33m.\u001b[0m\u001b[0mfit\u001b[0m\u001b[1;33m(\u001b[0m\u001b[0mx\u001b[0m\u001b[1;33m,\u001b[0m \u001b[0my\u001b[0m\u001b[1;33m,\u001b[0m \u001b[1;33m**\u001b[0m\u001b[0mfit_args\u001b[0m\u001b[1;33m)\u001b[0m\u001b[1;33m\u001b[0m\u001b[1;33m\u001b[0m\u001b[0m\n\u001b[0m\u001b[0;32m    167\u001b[0m \u001b[1;33m\u001b[0m\u001b[0m\n\u001b[0;32m    168\u001b[0m     \u001b[1;32mreturn\u001b[0m \u001b[0mhistory\u001b[0m\u001b[1;33m\u001b[0m\u001b[1;33m\u001b[0m\u001b[0m\n",
      "\u001b[1;32m~\\anaconda3\\lib\\site-packages\\tensorflow\\python\\keras\\engine\\training.py\u001b[0m in \u001b[0;36mfit\u001b[1;34m(self, x, y, batch_size, epochs, verbose, callbacks, validation_split, validation_data, shuffle, class_weight, sample_weight, initial_epoch, steps_per_epoch, validation_steps, validation_batch_size, validation_freq, max_queue_size, workers, use_multiprocessing)\u001b[0m\n\u001b[0;32m   1098\u001b[0m                 _r=1):\n\u001b[0;32m   1099\u001b[0m               \u001b[0mcallbacks\u001b[0m\u001b[1;33m.\u001b[0m\u001b[0mon_train_batch_begin\u001b[0m\u001b[1;33m(\u001b[0m\u001b[0mstep\u001b[0m\u001b[1;33m)\u001b[0m\u001b[1;33m\u001b[0m\u001b[1;33m\u001b[0m\u001b[0m\n\u001b[1;32m-> 1100\u001b[1;33m               \u001b[0mtmp_logs\u001b[0m \u001b[1;33m=\u001b[0m \u001b[0mself\u001b[0m\u001b[1;33m.\u001b[0m\u001b[0mtrain_function\u001b[0m\u001b[1;33m(\u001b[0m\u001b[0miterator\u001b[0m\u001b[1;33m)\u001b[0m\u001b[1;33m\u001b[0m\u001b[1;33m\u001b[0m\u001b[0m\n\u001b[0m\u001b[0;32m   1101\u001b[0m               \u001b[1;32mif\u001b[0m \u001b[0mdata_handler\u001b[0m\u001b[1;33m.\u001b[0m\u001b[0mshould_sync\u001b[0m\u001b[1;33m:\u001b[0m\u001b[1;33m\u001b[0m\u001b[1;33m\u001b[0m\u001b[0m\n\u001b[0;32m   1102\u001b[0m                 \u001b[0mcontext\u001b[0m\u001b[1;33m.\u001b[0m\u001b[0masync_wait\u001b[0m\u001b[1;33m(\u001b[0m\u001b[1;33m)\u001b[0m\u001b[1;33m\u001b[0m\u001b[1;33m\u001b[0m\u001b[0m\n",
      "\u001b[1;32m~\\anaconda3\\lib\\site-packages\\tensorflow\\python\\eager\\def_function.py\u001b[0m in \u001b[0;36m__call__\u001b[1;34m(self, *args, **kwds)\u001b[0m\n\u001b[0;32m    826\u001b[0m     \u001b[0mtracing_count\u001b[0m \u001b[1;33m=\u001b[0m \u001b[0mself\u001b[0m\u001b[1;33m.\u001b[0m\u001b[0mexperimental_get_tracing_count\u001b[0m\u001b[1;33m(\u001b[0m\u001b[1;33m)\u001b[0m\u001b[1;33m\u001b[0m\u001b[1;33m\u001b[0m\u001b[0m\n\u001b[0;32m    827\u001b[0m     \u001b[1;32mwith\u001b[0m \u001b[0mtrace\u001b[0m\u001b[1;33m.\u001b[0m\u001b[0mTrace\u001b[0m\u001b[1;33m(\u001b[0m\u001b[0mself\u001b[0m\u001b[1;33m.\u001b[0m\u001b[0m_name\u001b[0m\u001b[1;33m)\u001b[0m \u001b[1;32mas\u001b[0m \u001b[0mtm\u001b[0m\u001b[1;33m:\u001b[0m\u001b[1;33m\u001b[0m\u001b[1;33m\u001b[0m\u001b[0m\n\u001b[1;32m--> 828\u001b[1;33m       \u001b[0mresult\u001b[0m \u001b[1;33m=\u001b[0m \u001b[0mself\u001b[0m\u001b[1;33m.\u001b[0m\u001b[0m_call\u001b[0m\u001b[1;33m(\u001b[0m\u001b[1;33m*\u001b[0m\u001b[0margs\u001b[0m\u001b[1;33m,\u001b[0m \u001b[1;33m**\u001b[0m\u001b[0mkwds\u001b[0m\u001b[1;33m)\u001b[0m\u001b[1;33m\u001b[0m\u001b[1;33m\u001b[0m\u001b[0m\n\u001b[0m\u001b[0;32m    829\u001b[0m       \u001b[0mcompiler\u001b[0m \u001b[1;33m=\u001b[0m \u001b[1;34m\"xla\"\u001b[0m \u001b[1;32mif\u001b[0m \u001b[0mself\u001b[0m\u001b[1;33m.\u001b[0m\u001b[0m_experimental_compile\u001b[0m \u001b[1;32melse\u001b[0m \u001b[1;34m\"nonXla\"\u001b[0m\u001b[1;33m\u001b[0m\u001b[1;33m\u001b[0m\u001b[0m\n\u001b[0;32m    830\u001b[0m       \u001b[0mnew_tracing_count\u001b[0m \u001b[1;33m=\u001b[0m \u001b[0mself\u001b[0m\u001b[1;33m.\u001b[0m\u001b[0mexperimental_get_tracing_count\u001b[0m\u001b[1;33m(\u001b[0m\u001b[1;33m)\u001b[0m\u001b[1;33m\u001b[0m\u001b[1;33m\u001b[0m\u001b[0m\n",
      "\u001b[1;32m~\\anaconda3\\lib\\site-packages\\tensorflow\\python\\eager\\def_function.py\u001b[0m in \u001b[0;36m_call\u001b[1;34m(self, *args, **kwds)\u001b[0m\n\u001b[0;32m    869\u001b[0m       \u001b[1;31m# This is the first call of __call__, so we have to initialize.\u001b[0m\u001b[1;33m\u001b[0m\u001b[1;33m\u001b[0m\u001b[1;33m\u001b[0m\u001b[0m\n\u001b[0;32m    870\u001b[0m       \u001b[0minitializers\u001b[0m \u001b[1;33m=\u001b[0m \u001b[1;33m[\u001b[0m\u001b[1;33m]\u001b[0m\u001b[1;33m\u001b[0m\u001b[1;33m\u001b[0m\u001b[0m\n\u001b[1;32m--> 871\u001b[1;33m       \u001b[0mself\u001b[0m\u001b[1;33m.\u001b[0m\u001b[0m_initialize\u001b[0m\u001b[1;33m(\u001b[0m\u001b[0margs\u001b[0m\u001b[1;33m,\u001b[0m \u001b[0mkwds\u001b[0m\u001b[1;33m,\u001b[0m \u001b[0madd_initializers_to\u001b[0m\u001b[1;33m=\u001b[0m\u001b[0minitializers\u001b[0m\u001b[1;33m)\u001b[0m\u001b[1;33m\u001b[0m\u001b[1;33m\u001b[0m\u001b[0m\n\u001b[0m\u001b[0;32m    872\u001b[0m     \u001b[1;32mfinally\u001b[0m\u001b[1;33m:\u001b[0m\u001b[1;33m\u001b[0m\u001b[1;33m\u001b[0m\u001b[0m\n\u001b[0;32m    873\u001b[0m       \u001b[1;31m# At this point we know that the initialization is complete (or less\u001b[0m\u001b[1;33m\u001b[0m\u001b[1;33m\u001b[0m\u001b[1;33m\u001b[0m\u001b[0m\n",
      "\u001b[1;32m~\\anaconda3\\lib\\site-packages\\tensorflow\\python\\eager\\def_function.py\u001b[0m in \u001b[0;36m_initialize\u001b[1;34m(self, args, kwds, add_initializers_to)\u001b[0m\n\u001b[0;32m    723\u001b[0m     \u001b[0mself\u001b[0m\u001b[1;33m.\u001b[0m\u001b[0m_graph_deleter\u001b[0m \u001b[1;33m=\u001b[0m \u001b[0mFunctionDeleter\u001b[0m\u001b[1;33m(\u001b[0m\u001b[0mself\u001b[0m\u001b[1;33m.\u001b[0m\u001b[0m_lifted_initializer_graph\u001b[0m\u001b[1;33m)\u001b[0m\u001b[1;33m\u001b[0m\u001b[1;33m\u001b[0m\u001b[0m\n\u001b[0;32m    724\u001b[0m     self._concrete_stateful_fn = (\n\u001b[1;32m--> 725\u001b[1;33m         self._stateful_fn._get_concrete_function_internal_garbage_collected(  # pylint: disable=protected-access\n\u001b[0m\u001b[0;32m    726\u001b[0m             *args, **kwds))\n\u001b[0;32m    727\u001b[0m \u001b[1;33m\u001b[0m\u001b[0m\n",
      "\u001b[1;32m~\\anaconda3\\lib\\site-packages\\tensorflow\\python\\eager\\function.py\u001b[0m in \u001b[0;36m_get_concrete_function_internal_garbage_collected\u001b[1;34m(self, *args, **kwargs)\u001b[0m\n\u001b[0;32m   2967\u001b[0m       \u001b[0margs\u001b[0m\u001b[1;33m,\u001b[0m \u001b[0mkwargs\u001b[0m \u001b[1;33m=\u001b[0m \u001b[1;32mNone\u001b[0m\u001b[1;33m,\u001b[0m \u001b[1;32mNone\u001b[0m\u001b[1;33m\u001b[0m\u001b[1;33m\u001b[0m\u001b[0m\n\u001b[0;32m   2968\u001b[0m     \u001b[1;32mwith\u001b[0m \u001b[0mself\u001b[0m\u001b[1;33m.\u001b[0m\u001b[0m_lock\u001b[0m\u001b[1;33m:\u001b[0m\u001b[1;33m\u001b[0m\u001b[1;33m\u001b[0m\u001b[0m\n\u001b[1;32m-> 2969\u001b[1;33m       \u001b[0mgraph_function\u001b[0m\u001b[1;33m,\u001b[0m \u001b[0m_\u001b[0m \u001b[1;33m=\u001b[0m \u001b[0mself\u001b[0m\u001b[1;33m.\u001b[0m\u001b[0m_maybe_define_function\u001b[0m\u001b[1;33m(\u001b[0m\u001b[0margs\u001b[0m\u001b[1;33m,\u001b[0m \u001b[0mkwargs\u001b[0m\u001b[1;33m)\u001b[0m\u001b[1;33m\u001b[0m\u001b[1;33m\u001b[0m\u001b[0m\n\u001b[0m\u001b[0;32m   2970\u001b[0m     \u001b[1;32mreturn\u001b[0m \u001b[0mgraph_function\u001b[0m\u001b[1;33m\u001b[0m\u001b[1;33m\u001b[0m\u001b[0m\n\u001b[0;32m   2971\u001b[0m \u001b[1;33m\u001b[0m\u001b[0m\n",
      "\u001b[1;32m~\\anaconda3\\lib\\site-packages\\tensorflow\\python\\eager\\function.py\u001b[0m in \u001b[0;36m_maybe_define_function\u001b[1;34m(self, args, kwargs)\u001b[0m\n\u001b[0;32m   3359\u001b[0m \u001b[1;33m\u001b[0m\u001b[0m\n\u001b[0;32m   3360\u001b[0m           \u001b[0mself\u001b[0m\u001b[1;33m.\u001b[0m\u001b[0m_function_cache\u001b[0m\u001b[1;33m.\u001b[0m\u001b[0mmissed\u001b[0m\u001b[1;33m.\u001b[0m\u001b[0madd\u001b[0m\u001b[1;33m(\u001b[0m\u001b[0mcall_context_key\u001b[0m\u001b[1;33m)\u001b[0m\u001b[1;33m\u001b[0m\u001b[1;33m\u001b[0m\u001b[0m\n\u001b[1;32m-> 3361\u001b[1;33m           \u001b[0mgraph_function\u001b[0m \u001b[1;33m=\u001b[0m \u001b[0mself\u001b[0m\u001b[1;33m.\u001b[0m\u001b[0m_create_graph_function\u001b[0m\u001b[1;33m(\u001b[0m\u001b[0margs\u001b[0m\u001b[1;33m,\u001b[0m \u001b[0mkwargs\u001b[0m\u001b[1;33m)\u001b[0m\u001b[1;33m\u001b[0m\u001b[1;33m\u001b[0m\u001b[0m\n\u001b[0m\u001b[0;32m   3362\u001b[0m           \u001b[0mself\u001b[0m\u001b[1;33m.\u001b[0m\u001b[0m_function_cache\u001b[0m\u001b[1;33m.\u001b[0m\u001b[0mprimary\u001b[0m\u001b[1;33m[\u001b[0m\u001b[0mcache_key\u001b[0m\u001b[1;33m]\u001b[0m \u001b[1;33m=\u001b[0m \u001b[0mgraph_function\u001b[0m\u001b[1;33m\u001b[0m\u001b[1;33m\u001b[0m\u001b[0m\n\u001b[0;32m   3363\u001b[0m \u001b[1;33m\u001b[0m\u001b[0m\n",
      "\u001b[1;32m~\\anaconda3\\lib\\site-packages\\tensorflow\\python\\eager\\function.py\u001b[0m in \u001b[0;36m_create_graph_function\u001b[1;34m(self, args, kwargs, override_flat_arg_shapes)\u001b[0m\n\u001b[0;32m   3194\u001b[0m     \u001b[0marg_names\u001b[0m \u001b[1;33m=\u001b[0m \u001b[0mbase_arg_names\u001b[0m \u001b[1;33m+\u001b[0m \u001b[0mmissing_arg_names\u001b[0m\u001b[1;33m\u001b[0m\u001b[1;33m\u001b[0m\u001b[0m\n\u001b[0;32m   3195\u001b[0m     graph_function = ConcreteFunction(\n\u001b[1;32m-> 3196\u001b[1;33m         func_graph_module.func_graph_from_py_func(\n\u001b[0m\u001b[0;32m   3197\u001b[0m             \u001b[0mself\u001b[0m\u001b[1;33m.\u001b[0m\u001b[0m_name\u001b[0m\u001b[1;33m,\u001b[0m\u001b[1;33m\u001b[0m\u001b[1;33m\u001b[0m\u001b[0m\n\u001b[0;32m   3198\u001b[0m             \u001b[0mself\u001b[0m\u001b[1;33m.\u001b[0m\u001b[0m_python_function\u001b[0m\u001b[1;33m,\u001b[0m\u001b[1;33m\u001b[0m\u001b[1;33m\u001b[0m\u001b[0m\n",
      "\u001b[1;32m~\\anaconda3\\lib\\site-packages\\tensorflow\\python\\framework\\func_graph.py\u001b[0m in \u001b[0;36mfunc_graph_from_py_func\u001b[1;34m(name, python_func, args, kwargs, signature, func_graph, autograph, autograph_options, add_control_dependencies, arg_names, op_return_value, collections, capture_by_value, override_flat_arg_shapes)\u001b[0m\n\u001b[0;32m    988\u001b[0m         \u001b[0m_\u001b[0m\u001b[1;33m,\u001b[0m \u001b[0moriginal_func\u001b[0m \u001b[1;33m=\u001b[0m \u001b[0mtf_decorator\u001b[0m\u001b[1;33m.\u001b[0m\u001b[0munwrap\u001b[0m\u001b[1;33m(\u001b[0m\u001b[0mpython_func\u001b[0m\u001b[1;33m)\u001b[0m\u001b[1;33m\u001b[0m\u001b[1;33m\u001b[0m\u001b[0m\n\u001b[0;32m    989\u001b[0m \u001b[1;33m\u001b[0m\u001b[0m\n\u001b[1;32m--> 990\u001b[1;33m       \u001b[0mfunc_outputs\u001b[0m \u001b[1;33m=\u001b[0m \u001b[0mpython_func\u001b[0m\u001b[1;33m(\u001b[0m\u001b[1;33m*\u001b[0m\u001b[0mfunc_args\u001b[0m\u001b[1;33m,\u001b[0m \u001b[1;33m**\u001b[0m\u001b[0mfunc_kwargs\u001b[0m\u001b[1;33m)\u001b[0m\u001b[1;33m\u001b[0m\u001b[1;33m\u001b[0m\u001b[0m\n\u001b[0m\u001b[0;32m    991\u001b[0m \u001b[1;33m\u001b[0m\u001b[0m\n\u001b[0;32m    992\u001b[0m       \u001b[1;31m# invariant: `func_outputs` contains only Tensors, CompositeTensors,\u001b[0m\u001b[1;33m\u001b[0m\u001b[1;33m\u001b[0m\u001b[1;33m\u001b[0m\u001b[0m\n",
      "\u001b[1;32m~\\anaconda3\\lib\\site-packages\\tensorflow\\python\\eager\\def_function.py\u001b[0m in \u001b[0;36mwrapped_fn\u001b[1;34m(*args, **kwds)\u001b[0m\n\u001b[0;32m    632\u001b[0m             \u001b[0mxla_context\u001b[0m\u001b[1;33m.\u001b[0m\u001b[0mExit\u001b[0m\u001b[1;33m(\u001b[0m\u001b[1;33m)\u001b[0m\u001b[1;33m\u001b[0m\u001b[1;33m\u001b[0m\u001b[0m\n\u001b[0;32m    633\u001b[0m         \u001b[1;32melse\u001b[0m\u001b[1;33m:\u001b[0m\u001b[1;33m\u001b[0m\u001b[1;33m\u001b[0m\u001b[0m\n\u001b[1;32m--> 634\u001b[1;33m           \u001b[0mout\u001b[0m \u001b[1;33m=\u001b[0m \u001b[0mweak_wrapped_fn\u001b[0m\u001b[1;33m(\u001b[0m\u001b[1;33m)\u001b[0m\u001b[1;33m.\u001b[0m\u001b[0m__wrapped__\u001b[0m\u001b[1;33m(\u001b[0m\u001b[1;33m*\u001b[0m\u001b[0margs\u001b[0m\u001b[1;33m,\u001b[0m \u001b[1;33m**\u001b[0m\u001b[0mkwds\u001b[0m\u001b[1;33m)\u001b[0m\u001b[1;33m\u001b[0m\u001b[1;33m\u001b[0m\u001b[0m\n\u001b[0m\u001b[0;32m    635\u001b[0m         \u001b[1;32mreturn\u001b[0m \u001b[0mout\u001b[0m\u001b[1;33m\u001b[0m\u001b[1;33m\u001b[0m\u001b[0m\n\u001b[0;32m    636\u001b[0m \u001b[1;33m\u001b[0m\u001b[0m\n",
      "\u001b[1;32m~\\anaconda3\\lib\\site-packages\\tensorflow\\python\\framework\\func_graph.py\u001b[0m in \u001b[0;36mwrapper\u001b[1;34m(*args, **kwargs)\u001b[0m\n\u001b[0;32m    975\u001b[0m           \u001b[1;32mexcept\u001b[0m \u001b[0mException\u001b[0m \u001b[1;32mas\u001b[0m \u001b[0me\u001b[0m\u001b[1;33m:\u001b[0m  \u001b[1;31m# pylint:disable=broad-except\u001b[0m\u001b[1;33m\u001b[0m\u001b[1;33m\u001b[0m\u001b[0m\n\u001b[0;32m    976\u001b[0m             \u001b[1;32mif\u001b[0m \u001b[0mhasattr\u001b[0m\u001b[1;33m(\u001b[0m\u001b[0me\u001b[0m\u001b[1;33m,\u001b[0m \u001b[1;34m\"ag_error_metadata\"\u001b[0m\u001b[1;33m)\u001b[0m\u001b[1;33m:\u001b[0m\u001b[1;33m\u001b[0m\u001b[1;33m\u001b[0m\u001b[0m\n\u001b[1;32m--> 977\u001b[1;33m               \u001b[1;32mraise\u001b[0m \u001b[0me\u001b[0m\u001b[1;33m.\u001b[0m\u001b[0mag_error_metadata\u001b[0m\u001b[1;33m.\u001b[0m\u001b[0mto_exception\u001b[0m\u001b[1;33m(\u001b[0m\u001b[0me\u001b[0m\u001b[1;33m)\u001b[0m\u001b[1;33m\u001b[0m\u001b[1;33m\u001b[0m\u001b[0m\n\u001b[0m\u001b[0;32m    978\u001b[0m             \u001b[1;32melse\u001b[0m\u001b[1;33m:\u001b[0m\u001b[1;33m\u001b[0m\u001b[1;33m\u001b[0m\u001b[0m\n\u001b[0;32m    979\u001b[0m               \u001b[1;32mraise\u001b[0m\u001b[1;33m\u001b[0m\u001b[1;33m\u001b[0m\u001b[0m\n",
      "\u001b[1;31mValueError\u001b[0m: in user code:\n\n    C:\\Users\\ASDRB\\anaconda3\\lib\\site-packages\\tensorflow\\python\\keras\\engine\\training.py:805 train_function  *\n        return step_function(self, iterator)\n    C:\\Users\\ASDRB\\anaconda3\\lib\\site-packages\\tensorflow\\python\\keras\\engine\\training.py:795 step_function  **\n        outputs = model.distribute_strategy.run(run_step, args=(data,))\n    C:\\Users\\ASDRB\\anaconda3\\lib\\site-packages\\tensorflow\\python\\distribute\\distribute_lib.py:1259 run\n        return self._extended.call_for_each_replica(fn, args=args, kwargs=kwargs)\n    C:\\Users\\ASDRB\\anaconda3\\lib\\site-packages\\tensorflow\\python\\distribute\\distribute_lib.py:2730 call_for_each_replica\n        return self._call_for_each_replica(fn, args, kwargs)\n    C:\\Users\\ASDRB\\anaconda3\\lib\\site-packages\\tensorflow\\python\\distribute\\distribute_lib.py:3417 _call_for_each_replica\n        return fn(*args, **kwargs)\n    C:\\Users\\ASDRB\\anaconda3\\lib\\site-packages\\tensorflow\\python\\keras\\engine\\training.py:788 run_step  **\n        outputs = model.train_step(data)\n    C:\\Users\\ASDRB\\anaconda3\\lib\\site-packages\\tensorflow\\python\\keras\\engine\\training.py:754 train_step\n        y_pred = self(x, training=True)\n    C:\\Users\\ASDRB\\anaconda3\\lib\\site-packages\\tensorflow\\python\\keras\\engine\\base_layer.py:998 __call__\n        input_spec.assert_input_compatibility(self.input_spec, inputs, self.name)\n    C:\\Users\\ASDRB\\anaconda3\\lib\\site-packages\\tensorflow\\python\\keras\\engine\\input_spec.py:255 assert_input_compatibility\n        raise ValueError(\n\n    ValueError: Input 0 of layer sequential_10 is incompatible with the layer: expected axis -1 of input shape to have value 20 but received input with shape (None, 15)\n"
     ]
    }
   ],
   "source": [
    "#Lab 1,2,3\n",
    "dataset = datalab1[[TARGET] + selected_features_ann_1].join(datalab2[selected_features_ann_2]).join(datalab3[selected_features_ann_3])\n",
    "run_process(dataset,rand_cv)"
   ]
  },
  {
   "cell_type": "code",
   "execution_count": 62,
   "metadata": {},
   "outputs": [
    {
     "name": "stdout",
     "output_type": "stream",
     "text": [
      "Fitting 5 folds for each of 10 candidates, totalling 50 fits\n",
      "[Parallel(n_jobs=-1)]: Using backend LokyBackend with 8 concurrent workers.\n",
      "[Parallel(n_jobs=-1)]: Done   1 tasks      | elapsed:    2.3s\n",
      "[Parallel(n_jobs=-1)]: Done   2 tasks      | elapsed:    2.4s\n",
      "[Parallel(n_jobs=-1)]: Done   3 tasks      | elapsed:    2.5s\n",
      "[Parallel(n_jobs=-1)]: Done   4 tasks      | elapsed:    2.5s\n",
      "[Parallel(n_jobs=-1)]: Done   5 tasks      | elapsed:    2.7s\n",
      "[Parallel(n_jobs=-1)]: Done   6 tasks      | elapsed:    3.0s\n",
      "[Parallel(n_jobs=-1)]: Done   7 tasks      | elapsed:    3.1s\n",
      "[Parallel(n_jobs=-1)]: Done   8 tasks      | elapsed:    3.3s\n",
      "[Parallel(n_jobs=-1)]: Done   9 tasks      | elapsed:    5.3s\n",
      "[Parallel(n_jobs=-1)]: Done  10 tasks      | elapsed:    5.4s\n",
      "[Parallel(n_jobs=-1)]: Done  11 tasks      | elapsed:    5.5s\n",
      "[Parallel(n_jobs=-1)]: Done  12 tasks      | elapsed:    5.6s\n",
      "[Parallel(n_jobs=-1)]: Done  13 tasks      | elapsed:    5.9s\n",
      "[Parallel(n_jobs=-1)]: Done  14 tasks      | elapsed:    6.1s\n",
      "[Parallel(n_jobs=-1)]: Done  15 tasks      | elapsed:    6.6s\n",
      "[Parallel(n_jobs=-1)]: Done  16 tasks      | elapsed:    6.9s\n",
      "[Parallel(n_jobs=-1)]: Done  17 tasks      | elapsed:    9.1s\n",
      "[Parallel(n_jobs=-1)]: Done  18 tasks      | elapsed:    9.1s\n",
      "[Parallel(n_jobs=-1)]: Done  19 tasks      | elapsed:    9.2s\n",
      "[Parallel(n_jobs=-1)]: Done  20 tasks      | elapsed:    9.3s\n",
      "[Parallel(n_jobs=-1)]: Done  21 tasks      | elapsed:    9.4s\n",
      "[Parallel(n_jobs=-1)]: Done  22 tasks      | elapsed:    9.5s\n",
      "[Parallel(n_jobs=-1)]: Done  23 tasks      | elapsed:    9.8s\n",
      "[Parallel(n_jobs=-1)]: Done  24 tasks      | elapsed:   10.3s\n",
      "[Parallel(n_jobs=-1)]: Done  25 tasks      | elapsed:   12.3s\n",
      "[Parallel(n_jobs=-1)]: Done  26 tasks      | elapsed:   12.4s\n",
      "[Parallel(n_jobs=-1)]: Done  27 tasks      | elapsed:   12.5s\n",
      "[Parallel(n_jobs=-1)]: Done  28 tasks      | elapsed:   12.6s\n",
      "[Parallel(n_jobs=-1)]: Done  29 tasks      | elapsed:   12.6s\n",
      "[Parallel(n_jobs=-1)]: Done  30 tasks      | elapsed:   12.7s\n",
      "[Parallel(n_jobs=-1)]: Done  31 tasks      | elapsed:   13.6s\n",
      "[Parallel(n_jobs=-1)]: Done  32 tasks      | elapsed:   13.8s\n",
      "[Parallel(n_jobs=-1)]: Done  33 tasks      | elapsed:   15.2s\n",
      "[Parallel(n_jobs=-1)]: Done  34 tasks      | elapsed:   15.3s\n",
      "[Parallel(n_jobs=-1)]: Done  35 tasks      | elapsed:   15.4s\n",
      "[Parallel(n_jobs=-1)]: Done  36 out of  50 | elapsed:   15.4s remaining:    5.9s\n",
      "[Parallel(n_jobs=-1)]: Done  37 out of  50 | elapsed:   15.5s remaining:    5.4s\n",
      "[Parallel(n_jobs=-1)]: Done  38 out of  50 | elapsed:   15.6s remaining:    4.9s\n",
      "[Parallel(n_jobs=-1)]: Done  39 out of  50 | elapsed:   16.3s remaining:    4.5s\n",
      "[Parallel(n_jobs=-1)]: Done  40 out of  50 | elapsed:   16.6s remaining:    4.1s\n",
      "[Parallel(n_jobs=-1)]: Done  41 out of  50 | elapsed:   17.7s remaining:    3.8s\n",
      "[Parallel(n_jobs=-1)]: Done  42 out of  50 | elapsed:   17.8s remaining:    3.3s\n",
      "[Parallel(n_jobs=-1)]: Done  43 out of  50 | elapsed:   17.8s remaining:    2.8s\n",
      "[Parallel(n_jobs=-1)]: Done  44 out of  50 | elapsed:   17.9s remaining:    2.4s\n",
      "[Parallel(n_jobs=-1)]: Done  45 out of  50 | elapsed:   17.9s remaining:    1.9s\n",
      "[Parallel(n_jobs=-1)]: Done  46 out of  50 | elapsed:   18.2s remaining:    1.5s\n",
      "[Parallel(n_jobs=-1)]: Done  47 out of  50 | elapsed:   18.8s remaining:    1.1s\n",
      "[Parallel(n_jobs=-1)]: Done  48 out of  50 | elapsed:   19.0s remaining:    0.7s\n",
      "[Parallel(n_jobs=-1)]: Done  50 out of  50 | elapsed:   19.3s remaining:    0.0s\n",
      "[Parallel(n_jobs=-1)]: Done  50 out of  50 | elapsed:   19.3s finished\n",
      "Epoch 1/20\n",
      "13/13 [==============================] - 1s 1ms/step - loss: 9.2681 - mse: 7.7041\n",
      "Epoch 2/20\n",
      "13/13 [==============================] - 0s 2ms/step - loss: 8.5869 - mse: 7.0238\n",
      "Epoch 3/20\n",
      "13/13 [==============================] - 0s 2ms/step - loss: 7.8589 - mse: 6.2952\n",
      "Epoch 4/20\n",
      "13/13 [==============================] - 0s 1ms/step - loss: 7.8752 - mse: 6.3112\n",
      "Epoch 5/20\n",
      "13/13 [==============================] - 0s 1ms/step - loss: 7.6363 - mse: 6.0729\n",
      "Epoch 6/20\n",
      "13/13 [==============================] - 0s 1ms/step - loss: 7.7243 - mse: 6.1618\n",
      "Epoch 7/20\n",
      "13/13 [==============================] - 0s 1ms/step - loss: 7.5786 - mse: 6.0173\n",
      "Epoch 8/20\n",
      "13/13 [==============================] - 0s 1ms/step - loss: 7.6298 - mse: 6.0699\n",
      "Epoch 9/20\n",
      "13/13 [==============================] - 0s 1ms/step - loss: 7.0740 - mse: 5.5154\n",
      "Epoch 10/20\n",
      "13/13 [==============================] - 0s 1ms/step - loss: 7.7018 - mse: 6.1447\n",
      "Epoch 11/20\n",
      "13/13 [==============================] - 0s 1ms/step - loss: 7.4086 - mse: 5.8529\n",
      "Epoch 12/20\n",
      "13/13 [==============================] - 0s 1ms/step - loss: 8.0161 - mse: 6.4619\n",
      "Epoch 13/20\n",
      "13/13 [==============================] - 0s 1ms/step - loss: 7.2578 - mse: 5.7051\n",
      "Epoch 14/20\n",
      "13/13 [==============================] - 0s 2ms/step - loss: 7.6256 - mse: 6.0744\n",
      "Epoch 15/20\n",
      "13/13 [==============================] - 0s 1ms/step - loss: 7.8590 - mse: 6.3093\n",
      "Epoch 16/20\n",
      "13/13 [==============================] - 0s 2ms/step - loss: 7.5265 - mse: 5.9783\n",
      "Epoch 17/20\n",
      "13/13 [==============================] - 0s 1ms/step - loss: 7.2654 - mse: 5.7188\n",
      "Epoch 18/20\n",
      "13/13 [==============================] - 0s 1ms/step - loss: 6.6580 - mse: 5.1130\n",
      "Epoch 19/20\n",
      "13/13 [==============================] - 0s 2ms/step - loss: 7.4297 - mse: 5.8862\n",
      "Epoch 20/20\n",
      "13/13 [==============================] - 0s 1ms/step - loss: 7.3219 - mse: 5.7800\n",
      "R2-test-fit: -5.914772404626338\n",
      "Epoch 1/20\n",
      "9/9 [==============================] - 1s 2ms/step - loss: 10.0116 - mse: 8.4531\n",
      "Epoch 2/20\n",
      "9/9 [==============================] - 0s 1ms/step - loss: 9.2347 - mse: 7.6773\n",
      "Epoch 3/20\n",
      "9/9 [==============================] - 0s 3ms/step - loss: 9.7687 - mse: 8.2124\n",
      "Epoch 4/20\n",
      "9/9 [==============================] - 0s 2ms/step - loss: 9.4534 - mse: 7.8980\n",
      "Epoch 5/20\n",
      "9/9 [==============================] - 0s 2ms/step - loss: 8.5259 - mse: 6.9713\n",
      "Epoch 6/20\n",
      "9/9 [==============================] - 0s 2ms/step - loss: 8.1841 - mse: 6.6301\n",
      "Epoch 7/20\n",
      "9/9 [==============================] - 0s 1ms/step - loss: 7.8706 - mse: 6.3171\n",
      "Epoch 8/20\n",
      "9/9 [==============================] - 0s 1ms/step - loss: 8.2150 - mse: 6.6619\n",
      "Epoch 9/20\n",
      "9/9 [==============================] - 0s 1ms/step - loss: 7.6878 - mse: 6.1352\n",
      "Epoch 10/20\n",
      "9/9 [==============================] - 0s 976us/step - loss: 7.6393 - mse: 6.0872\n",
      "Epoch 11/20\n",
      "9/9 [==============================] - 0s 1ms/step - loss: 7.9369 - mse: 6.3854\n",
      "Epoch 12/20\n",
      "9/9 [==============================] - 0s 1ms/step - loss: 8.0641 - mse: 6.5133\n",
      "Epoch 13/20\n",
      "9/9 [==============================] - 0s 1ms/step - loss: 7.4521 - mse: 5.9020\n",
      "Epoch 14/20\n",
      "9/9 [==============================] - 0s 1ms/step - loss: 7.3035 - mse: 5.7543\n",
      "Epoch 15/20\n",
      "9/9 [==============================] - 0s 1ms/step - loss: 7.6808 - mse: 6.1325\n",
      "Epoch 16/20\n",
      "9/9 [==============================] - 0s 1ms/step - loss: 8.1925 - mse: 6.6450\n",
      "Epoch 17/20\n",
      "9/9 [==============================] - 0s 2ms/step - loss: 7.3185 - mse: 5.7719\n",
      "Epoch 18/20\n",
      "9/9 [==============================] - 0s 1ms/step - loss: 8.4304 - mse: 6.8848\n",
      "Epoch 19/20\n",
      "9/9 [==============================] - 0s 976us/step - loss: 7.4008 - mse: 5.8561\n",
      "Epoch 20/20\n",
      "9/9 [==============================] - 0s 2ms/step - loss: 7.6000 - mse: 6.0563\n",
      "5/5 [==============================] - 0s 976us/step - loss: 7.0635 - mse: 5.5206\n",
      "R2-test -7.063543319702148\n",
      "5/5 [==============================] - 0s 732us/step\n",
      "MSE-test 5.520642022846529\n",
      "Best params: {'output_shape': 1, 'nn3': 30, 'nn2': 40, 'nn1': 100, 'nl3': 3, 'nl2': 3, 'nl1': 1, 'lr': 0.001, 'l2': 0.0001, 'l1': 0.001, 'input_shape': 20, 'dropout': 0, 'decay': 1e-06, 'act': 'relu'}\n"
     ]
    },
    {
     "data": {
      "text/plain": [
       "['actq3_lab1',\n",
       " 'actq1_lab1',\n",
       " 'mean(qmsr$_lab1)',\n",
       " 'rtr_lab1',\n",
       " 'cer_lab1',\n",
       " 'actq3_lab2',\n",
       " 'actq1_lab2',\n",
       " 'mean(qavt$_lab2)',\n",
       " 'avgtime_lab2',\n",
       " 'rt_lab2',\n",
       " 'rt_lab3',\n",
       " 'actq1_lab3',\n",
       " 'ut_lab3',\n",
       " 'mean(qact$_lab3)',\n",
       " 'cer_lab3',\n",
       " 'rt_lab4',\n",
       " 'cer_lab4',\n",
       " 'err_lab4',\n",
       " 'actq1_lab4',\n",
       " 'mean(qc$_lab4)']"
      ]
     },
     "execution_count": 62,
     "metadata": {},
     "output_type": "execute_result"
    }
   ],
   "source": [
    "dataset = datalab1[[TARGET] + selected_features_ann_1].join(datalab2[selected_features_ann_2]).join(datalab3[selected_features_ann_3]).join(datalab4[selected_features_ann_4])\n",
    "run_process(dataset,rand_cv)"
   ]
  },
  {
   "cell_type": "code",
   "execution_count": null,
   "metadata": {},
   "outputs": [],
   "source": []
  }
 ],
 "metadata": {
  "kernelspec": {
   "display_name": "Python 3",
   "language": "python",
   "name": "python3"
  },
  "language_info": {
   "codemirror_mode": {
    "name": "ipython",
    "version": 3
   },
   "file_extension": ".py",
   "mimetype": "text/x-python",
   "name": "python",
   "nbconvert_exporter": "python",
   "pygments_lexer": "ipython3",
   "version": "3.7.3"
  }
 },
 "nbformat": 4,
 "nbformat_minor": 4
}

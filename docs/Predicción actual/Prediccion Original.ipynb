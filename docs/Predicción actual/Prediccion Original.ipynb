{
 "cells": [
  {
   "cell_type": "code",
   "execution_count": 5,
   "metadata": {
    "id": "XS4st5usqTLN"
   },
   "outputs": [],
   "source": [
    "#@title **Main**\n",
    "from urllib.request import urlopen\n",
    "import json\n",
    "import numpy as np\n",
    "import pandas as pd\n",
    "import os\n",
    "import copy\n",
    "import math\n",
    "import statistics\n",
    "import sklearn.metrics as metrics\n",
    " \n",
    "# Evitar truncar data mostrada al usar jupyter notebook\n",
    "pd.set_option('display.max_rows', None)\n",
    "pd.set_option('display.max_columns', None)\n",
    " \n",
    "# Constante que aloja el diccionario JSON con toda la data\n",
    "DATA = None\n",
    "\n",
    "# Obtener data JSON\n",
    "if os.path.exists('./out/dataout.json'):\n",
    "    DATA = json.load(open('./out/dataout.json', 'r'))\n",
    "else:\n",
    "    data_url = urlopen('http://nutriexcel.cl/UMDU/dataout_v2.json')\n",
    "    DATA = json.loads(data_url.read())\n",
    " \n",
    "# Labels base de las columnas\n",
    "LABELS_BASE = {\n",
    "    # Parámetros del alumno (Target)\n",
    "    'p1':                            ['p1'],\n",
    "    'p2':                            ['p2'],\n",
    "    'np':                            ['np'],\n",
    "    'p1p2':                          ['p1p2'], # Promedio p1p2 y p2p2\n",
    "    'p2p2':                          ['p2p2'],\n",
    "    \n",
    "    # Parámetros del laboratorio (Features)\n",
    "    'grade':                         ['g_lab#'],\n",
    "    'attempts':                      ['a_lab#'],\n",
    "    'usedtime':                      ['ut_lab#'],\n",
    "    'activetime':                    ['act_lab#'],\n",
    "    'disconnections':                ['dis_lab#'],      # log\n",
    "    'compilationtime':               ['ct_lab#'],\n",
    "    'runtimedebuggingtime':          ['rt_lab#'],\n",
    "    'compilationtimeratio':          ['ctr_lab#'],\n",
    "    'runtimedebuggingtimeratio':     ['rtr_lab#'],\n",
    "    'errorsreductionratio':          ['err_lab#'],\n",
    "    'compilationerrorsratio':        ['cer_lab#'],\n",
    "    'activequartiles':               ['actq1_lab#','actq2_lab#','actq3_lab#'],\n",
    "    'questionsdifficulty':           ['qd$_lab#'],\n",
    "    'questionsgrades':               ['qg$_lab#'],      # Promedio\n",
    "    'questionsattempts':             ['qat$_lab#'],     # Sumar - Max   # log\n",
    "    'questionsactivetime':           ['qact$_lab#'],    # Promedio\n",
    "    'questionsavgtime':              ['qavt$_lab#'],    # Promedio\n",
    "    'questionsmaxerrors':            ['qme$_lab#'],     # Max\n",
    "    'questionsmaxconsecutiveerrors': ['qmce$_lab#'],    # Max\n",
    "    'questionsmaxsimilarityratio':   ['qmsr$_lab#'],    # Promedio\n",
    "    'questionscorrectness':          ['qc$_lab#']       # Promedio\n",
    "}\n",
    " \n",
    " \n",
    "# Cantidad de preguntas por lab\n",
    "LABS_LENGTHS = {\n",
    "    '1': 7,\n",
    "    '2': 6,\n",
    "    '3': 6,\n",
    "    '4': 5,\n",
    "    '5': 3\n",
    "}\n",
    " \n",
    "def get_labels(labs:list, obj_param:list, params:list):\n",
    "    '''Retorna una lista con los nombres de las columnas correspondientes.'''\n",
    "    labels = []\n",
    "    \n",
    "    if not obj_param == None:\n",
    "        for obj_p in obj_param:\n",
    "            labels.extend(LABELS_BASE[obj_p])\n",
    " \n",
    "    for lab in labs:\n",
    "        for param in params:\n",
    "            label_base = LABELS_BASE[param]\n",
    "            for lb in label_base:\n",
    "                aux_label = lb.replace('#', str(lab))\n",
    "                if '$' in aux_label:\n",
    "                    for i in range(LABS_LENGTHS[str(lab)]):\n",
    "                        labels.extend([aux_label.replace('$', str(i + 1))])\n",
    "                else:\n",
    "                    labels.extend([aux_label])\n",
    "    return labels\n",
    "                    \n",
    " \n",
    "def load_data(filepath = './out/dataout.json'):\n",
    "    '''Retorna un diccionario importado desde un archivo JSON.'''\n",
    "    return readJSON(filepath)\n",
    " \n",
    " \n",
    "def convert_to_dataframe(arr:list, labels:list=None, ids_idx:list=None):\n",
    "    '''Retorna un Pandas Dataframe.'''\n",
    "    return pd.DataFrame(np.array(arr), columns=labels, index=ids_idx)\n",
    " \n",
    " \n",
    "def get_custom_dataframe(data:dict, labs:list, obj_param:list, params:list, labels:bool=False, index:str=None):\n",
    "    '''Retorna un DataFrame de Pandas con etiquetas.'''\n",
    "    if params == 'all':\n",
    "        params = list(LABELS_BASE.keys())[5:]\n",
    "        \n",
    "    data, ids_idx = get_custom_data(labs, obj_param, params, data, index)\n",
    "    if labels:\n",
    "        return convert_to_dataframe(data, labels=get_labels(labs, obj_param, params), ids_idx=ids_idx)\n",
    "    else:\n",
    "        return convert_to_dataframe(data, labels=None, ids_idx=ids_idx)\n",
    " \n",
    "    \n",
    " \n",
    " \n",
    "def get_custom_data(labs:list, obj_param:list, params:list, data:dict, index:str):\n",
    "    dataout = []\n",
    "    idxs = []\n",
    "    for v1 in data['courses'].values():\n",
    "        for k2,v2 in v1['students'].items():\n",
    "            if index == 'id':\n",
    "                idxs.append(k2)\n",
    "            elif not index == None:\n",
    "                idxs.append(v2[index])\n",
    "            \n",
    "            studentdata = []\n",
    " \n",
    "            if not obj_param == None:\n",
    "                for obj_p in obj_param:\n",
    "                    studentdata.extend([v2[obj_p]])\n",
    "            \n",
    "            for labnumber in labs:\n",
    "                labkey = str(list(v2['labs'].keys())[int(labnumber) - 1])\n",
    "                \n",
    "                for param in params:\n",
    "                    val = v2['labs'][labkey][param]\n",
    "                    if isinstance(val, list):\n",
    "                        studentdata.extend(val)\n",
    "                    else:\n",
    "                        studentdata.extend([val])\n",
    "            \n",
    "            dataout.append(studentdata)\n",
    " \n",
    "    if len(idxs) == 0:\n",
    "        idxs = None\n",
    " \n",
    "    return dataout, idxs\n",
    " \n",
    " \n",
    "def readJSON(filename:str):\n",
    "    print('Leyendo archivo: \\'' + filename + '\\'')\n",
    "    return json.load(open(filename, 'r'))\n",
    " \n",
    "# --------------------------------------------------------------------------\n",
    " \n",
    "def norm_log(df):\n",
    "    min_value = min(df)\n",
    "    for i in range(len(df)):\n",
    "        df[i] = math.log(df[i] - min_value + 1)\n",
    " \n",
    "    return df\n",
    " \n",
    "# --------------------------------------------------------------------------\n",
    " \n",
    "def apply(df:pd.core.frame.DataFrame, columns, func, c=None, replace:bool=True):\n",
    "    '''\n",
    "    Aplica una función dada a una serie de parámetros dados.\n",
    "    df: Dataframe.\n",
    "    func: Función a aplicar (Ej.: 'sum', 'max', 'math.log', etc.).\n",
    "    params: Parámetro o lista de parámetros al cual/a los cuales aplicar la función. Si el parámetro param tiene un signo '?' al final, \n",
    "            se considerarán todos aquellos que empiecen con param. Si es una lista de parámetros, cada parámetro debe ser el nombre exacto,\n",
    "            es decir, no deben llevar '?'.\n",
    "    c: constante o parámetro a utilizar en el cálculo (Ej: sumar constante c; log base c). Se debe omitir si no aplica.\n",
    "    replace: Si es True, reemplaza la columna o columnas a las cuales se la aplica la función. Si es False, se agregan nuevas columnas.\n",
    "    '''\n",
    " \n",
    "    def one_param(df_new:pd.core.frame.DataFrame):\n",
    "        if not columns[-1] == '?':\n",
    "            try:\n",
    "                aux_column = function_handler(func, df_new[columns], c)\n",
    "            except KeyError:\n",
    "                raise Exception('Columna ' + columns + ' no existe.')\n",
    " \n",
    "            aux_column = pd.DataFrame(aux_column)\n",
    "            insert_columns(df_new, aux_column, [columns], replace, func.__name__, c)\n",
    "            \n",
    "            return df_new\n",
    "        else:\n",
    "            labels = list(df_new.columns) + ['???']\n",
    "            target_cols = []\n",
    "            target_cols_names = []\n",
    "            fg_newarr = True\n",
    "            fg_endarr = False\n",
    "            i = 0\n",
    " \n",
    "            while i < len(labels):\n",
    "                if labels[i][0] == columns[0] and columns[:-1] in labels[i]:\n",
    "                    target_cols.append(i)\n",
    "                    target_cols_names.append(labels[i])\n",
    "                    fg_newarr = False\n",
    "                elif not fg_newarr:\n",
    "                    fg_endarr = True\n",
    "                \n",
    "                if not fg_newarr and fg_endarr:\n",
    "                    fg_newarr = True\n",
    "                    fg_endarr = False\n",
    "                    aux_columns = []\n",
    "                    \n",
    "                    for row in df_new.values:\n",
    "                        aux_row = [row[col] for col in target_cols]\n",
    "                        aux_columns.append(function_handler(func, aux_row, c))\n",
    " \n",
    "                    aux_columns = pd.DataFrame(aux_columns)\n",
    "                    insert_columns(df_new, aux_columns, target_cols_names, replace, func.__name__, c)\n",
    " \n",
    "                    if replace:\n",
    "                        i -= len(target_cols)\n",
    "                        labels = list(df_new.columns) + ['???']\n",
    " \n",
    "                    target_cols = []\n",
    "                    target_cols_names = []\n",
    "                i += 1\n",
    "            \n",
    "            return df_new\n",
    " \n",
    " \n",
    "    def multi_param(df_new:pd.core.frame.DataFrame):\n",
    "        aux_columns = []\n",
    "        target_cols = [df_new.columns.get_loc(col) for col in columns]\n",
    " \n",
    "        for row in df_new.values:\n",
    "            try:\n",
    "                aux_row = [row[col] for col in range(len(target_cols))]\n",
    "            except KeyError:\n",
    "                raise Exception('Columna ' + columns + ' no existe.')\n",
    "            \n",
    "            aux_columns.append(function_handler(func, aux_row, c))\n",
    " \n",
    "        aux_columns = pd.DataFrame(aux_columns)\n",
    "        insert_columns(df_new, aux_columns, columns, replace, func.__name__, c)\n",
    " \n",
    "        return df_new\n",
    " \n",
    "    \n",
    "    def function_handler(func, col, c=None):\n",
    "        arr = copy.deepcopy(col)\n",
    "        try:\n",
    "            if c == None:\n",
    "                return func(arr)\n",
    "            else:\n",
    "                return func(arr, c)\n",
    "        except TypeError:\n",
    "            try:\n",
    "                return [function_handler(func, datum, c) for datum in arr]\n",
    "            except TypeError:\n",
    "                raise Exception('Operación sin sentido: x = ' + func.__name__ + '(x).')\n",
    "    \n",
    " \n",
    "    def insert_columns(df_new, sub_df, labels, replace, func_name, c):\n",
    "        const_name = ''\n",
    " \n",
    "        if not c == None:\n",
    "                const_name = ',' + str(c)\n",
    " \n",
    "        if len(sub_df.columns) == 1:\n",
    "            merg_name = labels[0]\n",
    "            \n",
    "            if len(labels) > 1:\n",
    "                merg_name = get_merged_name(labels[0])\n",
    " \n",
    "            new_name = func_name + '(' + merg_name + const_name + ')'\n",
    " \n",
    "            if replace:\n",
    "                df_new[labels[0]] = sub_df\n",
    "                df_new.rename(columns={labels[0]: new_name}, inplace=True)\n",
    " \n",
    "                if len(labels) > 1:\n",
    "                    for i in range(1, len(labels)):\n",
    "                        df_new.pop(labels[i])\n",
    "            else:\n",
    "                df_new[new_name] = sub_df\n",
    "        else:\n",
    "            new_names = [func_name + '(' + cur_name + const_name + ')' for cur_name in labels]\n",
    " \n",
    "            if replace:\n",
    "                for i in range(len(labels)):\n",
    "                    df_new[labels[i]] = sub_df[i]\n",
    "                    df_new.rename(columns={labels[i]: new_names[i]}, inplace=True)\n",
    "            else:\n",
    "                for i in range(len(labels)):\n",
    "                    df_new[new_names[i]] = sub_df[i]\n",
    " \n",
    " \n",
    "    def get_merged_name(basename:str):\n",
    "        merged_name = ''\n",
    "        flag = True\n",
    "        for i in range(len(basename)):\n",
    "            if flag and basename[i].isnumeric():\n",
    "                merged_name += '$'\n",
    "                flag = False\n",
    "            else:\n",
    "                merged_name += basename[i]\n",
    " \n",
    "        return merged_name\n",
    " \n",
    " \n",
    "    def are_valid_column_names(columns):\n",
    "        if type(columns) == list:\n",
    "            for col in columns:\n",
    "                if '?' in col:\n",
    "                    raise Exception('Nombres de columna en lista no deben contener \\'?\\'.')\n",
    "        \n",
    "        return True\n",
    " \n",
    " \n",
    "    df_new = copy.deepcopy(df)\n",
    "    are_valid_column_names(columns)\n",
    "    if type(columns) == list:\n",
    "        return multi_param(df_new)\n",
    "    else:\n",
    "        return one_param(df_new)\n",
    " \n",
    " \n",
    "def remove_col(df, column:str):\n",
    "    if column[-1] == '?':\n",
    "        for x in df.columns:\n",
    "            if x[0] == column[0] and column[:-1] in x:\n",
    "                df.pop(x)\n",
    "    else:\n",
    "        df.pop(column)\n",
    " \n",
    " \n",
    "def normalise_row(df):\n",
    "    df_aux = copy.deepcopy(df)\n",
    " \n",
    "    for i in range(len(df_aux)):\n",
    "        min_value = min(df_aux.iloc[i])\n",
    "        max_value = max(df_aux.iloc[i])\n",
    " \n",
    "        df_aux.iloc[i] = (df_aux.iloc[i] - min_value) / (max_value - min_value)\n",
    " \n",
    "    return df_aux\n",
    " \n",
    " \n",
    "def normalise_col(df, norm_params=None):\n",
    "    norm_params_aux = {}\n",
    "    df_aux = copy.deepcopy(df)\n",
    " \n",
    "    if norm_params == None:\n",
    "        for col in df_aux.columns:\n",
    "            min_value = min(df_aux[col])\n",
    "            max_value = max(df_aux[col])\n",
    "            \n",
    "            norm_params_aux[col] = {\n",
    "                'min_value': min_value,\n",
    "                'max_value': max_value\n",
    "            }\n",
    " \n",
    "            for i in range(len(df_aux[col])):\n",
    "                if not max_value - min_value == 0:\n",
    "                    df_aux[col].iloc[i] = (df_aux[col].iloc[i] - min_value) / (max_value - min_value)\n",
    "                else:\n",
    "                    df_aux[col].iloc[i] = 0\n",
    " \n",
    "        return df_aux, norm_params_aux\n",
    "    else:\n",
    "        for col in df_aux.columns:\n",
    "            for i in range(len(df_aux[col])):\n",
    "                if not norm_params[col]['max_value'] - norm_params[col]['min_value'] == 0:\n",
    "                    df_aux[col].iloc[i] = (df_aux[col].iloc[i] - norm_params[col]['min_value']) / (norm_params[col]['max_value'] - norm_params[col]['min_value'])\n",
    "                else:\n",
    "                    df_aux[col].iloc[i] = 0\n",
    "        return df_aux\n",
    " \n",
    " \n",
    "def normalise_log(df):\n",
    "    df_aux = copy.deepcopy(df)\n",
    " \n",
    "    for i in range(len(df_aux)):\n",
    "        for j in range(len(df_aux.iloc[i])):\n",
    "            df_aux.iloc[i][j] = math.log(df_aux.iloc[i][j]) if df_aux.iloc[i][j] > 0 else 0\n",
    " \n",
    "    return df_aux"
   ]
  },
  {
   "cell_type": "code",
   "execution_count": null,
   "metadata": {
    "colab": {
     "base_uri": "https://localhost:8080/"
    },
    "id": "UITm_5l4ZTiC",
    "outputId": "e5bdcde5-3565-4b4e-bb2e-5824f04edd53"
   },
   "outputs": [],
   "source": [
    "print(len(datalab1_all.columns))\n",
    "print(len(datalab2_all.columns))\n",
    "print(len(datalab3_all.columns))\n",
    "print(len(datalab4_all.columns))"
   ]
  },
  {
   "cell_type": "code",
   "execution_count": null,
   "metadata": {
    "colab": {
     "base_uri": "https://localhost:8080/"
    },
    "id": "e6PJXqVDZWft",
    "outputId": "c7cd075e-8f3e-4ff1-be9e-ac3a91c30a42"
   },
   "outputs": [],
   "source": [
    "print(len(datalab1.columns))\n",
    "print(len(datalab2.columns))\n",
    "print(len(datalab3.columns))\n",
    "print(len(datalab4.columns))"
   ]
  },
  {
   "cell_type": "code",
   "execution_count": null,
   "metadata": {
    "colab": {
     "base_uri": "https://localhost:8080/",
     "height": 224
    },
    "id": "ISnAKH4RaZ-T",
    "outputId": "ac175c30-b519-49f6-c554-7c8799d6df51"
   },
   "outputs": [],
   "source": [
    "datalab1.head()"
   ]
  },
  {
   "cell_type": "code",
   "execution_count": 6,
   "metadata": {
    "id": "3wJdhxdprjJM"
   },
   "outputs": [],
   "source": [
    "#@title **Data preparation**\n",
    "\n",
    "# Get dataframe\n",
    "datalab1_all = get_custom_dataframe(DATA, [1], ['p1p2','p2p2'], 'all', labels=True, index=None)\n",
    "\n",
    "datalab1 = copy.deepcopy(datalab1_all)\n",
    " \n",
    "# Remove questionsdifficulty\n",
    "remove_col(datalab1, 'qd?')\n",
    "# Group columns\n",
    "datalab1_all = apply(datalab1_all, ['p1p2','p2p2'], statistics.mean)\n",
    "datalab1 = apply(datalab1, ['p1p2','p2p2'], statistics.mean)\n",
    "datalab1 = apply(datalab1, 'dis_lab1', norm_log)\n",
    "datalab1 = apply(datalab1, 'qg?', statistics.mean)\n",
    "datalab1 = apply(datalab1, 'qat?', sum, replace=False)\n",
    "datalab1 = apply(datalab1, 'sum(qat$_lab1)', norm_log, replace=False)\n",
    "datalab1 = apply(datalab1, 'qat?', max)\n",
    "datalab1 = apply(datalab1, 'qact?', statistics.mean)\n",
    "datalab1 = apply(datalab1, 'qavt?', statistics.mean)\n",
    "datalab1 = apply(datalab1, 'qme?', max)\n",
    "datalab1 = apply(datalab1, 'qmce?', max)\n",
    "datalab1 = apply(datalab1, 'qmsr?', statistics.mean)\n",
    "datalab1 = apply(datalab1, 'qc?', statistics.mean)\n",
    "aux = datalab1['act_lab1'] / datalab1['sum(qat$_lab1)']\n",
    "for i in range(len(aux)):\n",
    "    if not aux[i] > 0:\n",
    "        aux[i] = 0\n",
    "datalab1['avgtime_lab1'] = aux\n",
    "datalab1 = datalab1.round(4)\n",
    " \n",
    " \n",
    "# Get dataframe\n",
    "datalab2_all = get_custom_dataframe(DATA, [2], ['p1p2','p2p2'], 'all', labels=True, index=None)\n",
    " \n",
    "datalab2 = copy.deepcopy(datalab2_all)\n",
    " \n",
    "# Remove questionsdifficulty\n",
    "remove_col(datalab2, 'qd?')\n",
    "# Group columns\n",
    "datalab2_all = apply(datalab2_all, ['p1p2','p2p2'], statistics.mean)\n",
    "datalab2 = apply(datalab2, ['p1p2','p2p2'], statistics.mean)\n",
    "datalab2 = apply(datalab2, 'dis_lab2', norm_log)\n",
    "datalab2 = apply(datalab2, 'qg?', statistics.mean)\n",
    "datalab2 = apply(datalab2, 'qat?', sum, replace=False)\n",
    "datalab2 = apply(datalab2, 'sum(qat$_lab2)', norm_log, replace=False)\n",
    "datalab2 = apply(datalab2, 'qat?', max)\n",
    "datalab2 = apply(datalab2, 'qact?', statistics.mean)\n",
    "datalab2 = apply(datalab2, 'qavt?', statistics.mean)\n",
    "datalab2 = apply(datalab2, 'qme?', max)\n",
    "datalab2 = apply(datalab2, 'qmce?', max)\n",
    "datalab2 = apply(datalab2, 'qmsr?', statistics.mean)\n",
    "datalab2 = apply(datalab2, 'qc?', statistics.mean)\n",
    "aux = datalab2['act_lab2'] / datalab2['sum(qat$_lab2)']\n",
    "for i in range(len(aux)):\n",
    "    if not aux[i] > 0:\n",
    "        aux[i] = 0\n",
    "datalab2['avgtime_lab2'] = aux\n",
    "datalab2 = datalab2.round(4)\n",
    " \n",
    " \n",
    "# Get dataframe\n",
    "datalab3_all = get_custom_dataframe(DATA, [3], ['p1p2','p2p2'], 'all', labels=True, index=None)\n",
    " \n",
    "datalab3 = copy.deepcopy(datalab3_all)\n",
    " \n",
    "# Remove questionsdifficulty\n",
    "remove_col(datalab3, 'qd?')\n",
    "# Group columns\n",
    "datalab3_all = apply(datalab3_all, ['p1p2','p2p2'], statistics.mean)\n",
    "datalab3 = apply(datalab3, ['p1p2','p2p2'], statistics.mean)\n",
    "datalab3 = apply(datalab3, 'dis_lab3', norm_log)\n",
    "datalab3 = apply(datalab3, 'qg?', statistics.mean)\n",
    "datalab3 = apply(datalab3, 'qat?', sum, replace=False)\n",
    "datalab3 = apply(datalab3, 'sum(qat$_lab3)', norm_log, replace=False)\n",
    "datalab3 = apply(datalab3, 'qat?', max)\n",
    "datalab3 = apply(datalab3, 'qact?', statistics.mean)\n",
    "datalab3 = apply(datalab3, 'qavt?', statistics.mean)\n",
    "datalab3 = apply(datalab3, 'qme?', max)\n",
    "datalab3 = apply(datalab3, 'qmce?', max)\n",
    "datalab3 = apply(datalab3, 'qmsr?', statistics.mean)\n",
    "datalab3 = apply(datalab3, 'qc?', statistics.mean)\n",
    "aux = datalab3['act_lab3'] / datalab3['sum(qat$_lab3)']\n",
    "for i in range(len(aux)):\n",
    "    if not aux[i] > 0:\n",
    "        aux[i] = 0\n",
    "datalab3['avgtime_lab3'] = aux\n",
    "datalab3 = datalab3.round(4)\n",
    " \n",
    " \n",
    "# Get dataframe\n",
    "datalab4_all = get_custom_dataframe(DATA, [4], ['p1p2','p2p2'], 'all', labels=True, index=None)\n",
    " \n",
    "datalab4 = copy.deepcopy(datalab4_all)\n",
    " \n",
    "# Remove questionsdifficulty\n",
    "remove_col(datalab4, 'qd?')\n",
    "# Group columns\n",
    "datalab4_all = apply(datalab4_all, ['p1p2','p2p2'], statistics.mean)\n",
    "datalab4 = apply(datalab4, ['p1p2','p2p2'], statistics.mean)\n",
    "datalab4 = apply(datalab4, 'dis_lab4', norm_log)\n",
    "datalab4 = apply(datalab4, 'qg?', statistics.mean)\n",
    "datalab4 = apply(datalab4, 'qat?', sum, replace=False)\n",
    "datalab4 = apply(datalab4, 'sum(qat$_lab4)', norm_log, replace=False)\n",
    "datalab4 = apply(datalab4, 'qat?', max)\n",
    "datalab4 = apply(datalab4, 'qact?', statistics.mean)\n",
    "datalab4 = apply(datalab4, 'qavt?', statistics.mean)\n",
    "datalab4 = apply(datalab4, 'qme?', max)\n",
    "datalab4 = apply(datalab4, 'qmce?', max)\n",
    "datalab4 = apply(datalab4, 'qmsr?', statistics.mean)\n",
    "datalab4 = apply(datalab4, 'qc?', statistics.mean)\n",
    "aux = datalab4['act_lab4'] / datalab4['sum(qat$_lab4)']\n",
    "for i in range(len(aux)):\n",
    "    if not aux[i] > 0:\n",
    "        aux[i] = 0\n",
    "datalab4['avgtime_lab4'] = aux\n",
    "datalab4 = datalab4.round(4)"
   ]
  },
  {
   "cell_type": "code",
   "execution_count": 7,
   "metadata": {
    "id": "Ir0fyIzcWvwt"
   },
   "outputs": [],
   "source": [
    "#@title **Parameters**\n",
    "\n",
    "# Objective vector\n",
    "TARGET = 'mean(p$p2)'\n",
    "NORM_TYPE = 'col'\n",
    "N_FEATURES = 5\n",
    " \n",
    " \n",
    "# Import needed libraries ----------------------------------------\n",
    "from sklearn.model_selection import GridSearchCV, train_test_split\n",
    "from sklearn.pipeline import Pipeline\n",
    "from sklearn.feature_selection import RFE, SelectFromModel\n",
    "from sklearn.ensemble import GradientBoostingRegressor\n",
    "import sklearn.metrics as metrics\n",
    "from sklearn.model_selection import KFold\n",
    " \n",
    "random_state = None # Random state for train_test_split"
   ]
  },
  {
   "cell_type": "code",
   "execution_count": 8,
   "metadata": {
    "colab": {
     "base_uri": "https://localhost:8080/",
     "height": 224
    },
    "id": "kJGuF_7wbtxN",
    "outputId": "6211511a-1cdf-49e2-ed9c-0ca23ea2a9c4"
   },
   "outputs": [
    {
     "data": {
      "text/html": [
       "<div>\n",
       "<style scoped>\n",
       "    .dataframe tbody tr th:only-of-type {\n",
       "        vertical-align: middle;\n",
       "    }\n",
       "\n",
       "    .dataframe tbody tr th {\n",
       "        vertical-align: top;\n",
       "    }\n",
       "\n",
       "    .dataframe thead th {\n",
       "        text-align: right;\n",
       "    }\n",
       "</style>\n",
       "<table border=\"1\" class=\"dataframe\">\n",
       "  <thead>\n",
       "    <tr style=\"text-align: right;\">\n",
       "      <th></th>\n",
       "      <th>mean(p$p2)</th>\n",
       "      <th>g_lab1</th>\n",
       "      <th>a_lab1</th>\n",
       "      <th>ut_lab1</th>\n",
       "      <th>act_lab1</th>\n",
       "      <th>norm_log(dis_lab1)</th>\n",
       "      <th>ct_lab1</th>\n",
       "      <th>rt_lab1</th>\n",
       "      <th>ctr_lab1</th>\n",
       "      <th>rtr_lab1</th>\n",
       "      <th>err_lab1</th>\n",
       "      <th>cer_lab1</th>\n",
       "      <th>actq1_lab1</th>\n",
       "      <th>actq2_lab1</th>\n",
       "      <th>actq3_lab1</th>\n",
       "      <th>mean(qg$_lab1)</th>\n",
       "      <th>max(qat$_lab1)</th>\n",
       "      <th>mean(qact$_lab1)</th>\n",
       "      <th>mean(qavt$_lab1)</th>\n",
       "      <th>max(qme$_lab1)</th>\n",
       "      <th>max(qmce$_lab1)</th>\n",
       "      <th>mean(qmsr$_lab1)</th>\n",
       "      <th>mean(qc$_lab1)</th>\n",
       "      <th>sum(qat$_lab1)</th>\n",
       "      <th>norm_log(sum(qat$_lab1))</th>\n",
       "      <th>avgtime_lab1</th>\n",
       "    </tr>\n",
       "  </thead>\n",
       "  <tbody>\n",
       "    <tr>\n",
       "      <th>0</th>\n",
       "      <td>2.00</td>\n",
       "      <td>7.0</td>\n",
       "      <td>1.0</td>\n",
       "      <td>52870.0</td>\n",
       "      <td>2144.0</td>\n",
       "      <td>1.0986</td>\n",
       "      <td>673.0</td>\n",
       "      <td>292.0</td>\n",
       "      <td>0.3139</td>\n",
       "      <td>0.1362</td>\n",
       "      <td>0.4118</td>\n",
       "      <td>0.5667</td>\n",
       "      <td>0.2096</td>\n",
       "      <td>0.2113</td>\n",
       "      <td>0.2129</td>\n",
       "      <td>1.0</td>\n",
       "      <td>11.0</td>\n",
       "      <td>137.8571</td>\n",
       "      <td>32.9762</td>\n",
       "      <td>9.0</td>\n",
       "      <td>9.0</td>\n",
       "      <td>0.8978</td>\n",
       "      <td>0.8764</td>\n",
       "      <td>30.0</td>\n",
       "      <td>3.4340</td>\n",
       "      <td>71.4667</td>\n",
       "    </tr>\n",
       "    <tr>\n",
       "      <th>1</th>\n",
       "      <td>2.25</td>\n",
       "      <td>7.0</td>\n",
       "      <td>1.0</td>\n",
       "      <td>12418.0</td>\n",
       "      <td>3343.0</td>\n",
       "      <td>0.6931</td>\n",
       "      <td>291.0</td>\n",
       "      <td>752.0</td>\n",
       "      <td>0.0870</td>\n",
       "      <td>0.2249</td>\n",
       "      <td>0.6471</td>\n",
       "      <td>0.4571</td>\n",
       "      <td>0.0081</td>\n",
       "      <td>0.0335</td>\n",
       "      <td>0.0357</td>\n",
       "      <td>1.0</td>\n",
       "      <td>13.0</td>\n",
       "      <td>226.0000</td>\n",
       "      <td>70.2262</td>\n",
       "      <td>4.0</td>\n",
       "      <td>4.0</td>\n",
       "      <td>0.6594</td>\n",
       "      <td>0.8201</td>\n",
       "      <td>35.0</td>\n",
       "      <td>3.5835</td>\n",
       "      <td>95.5143</td>\n",
       "    </tr>\n",
       "    <tr>\n",
       "      <th>2</th>\n",
       "      <td>1.25</td>\n",
       "      <td>7.0</td>\n",
       "      <td>1.0</td>\n",
       "      <td>217028.0</td>\n",
       "      <td>7613.0</td>\n",
       "      <td>2.4849</td>\n",
       "      <td>261.0</td>\n",
       "      <td>1664.0</td>\n",
       "      <td>0.0343</td>\n",
       "      <td>0.2186</td>\n",
       "      <td>0.7727</td>\n",
       "      <td>0.4364</td>\n",
       "      <td>0.5266</td>\n",
       "      <td>0.6602</td>\n",
       "      <td>0.6660</td>\n",
       "      <td>1.0</td>\n",
       "      <td>22.0</td>\n",
       "      <td>463.2857</td>\n",
       "      <td>71.4592</td>\n",
       "      <td>25.0</td>\n",
       "      <td>4.0</td>\n",
       "      <td>0.7856</td>\n",
       "      <td>0.6715</td>\n",
       "      <td>55.0</td>\n",
       "      <td>4.0254</td>\n",
       "      <td>138.4182</td>\n",
       "    </tr>\n",
       "    <tr>\n",
       "      <th>3</th>\n",
       "      <td>3.00</td>\n",
       "      <td>7.0</td>\n",
       "      <td>1.0</td>\n",
       "      <td>1925.0</td>\n",
       "      <td>1925.0</td>\n",
       "      <td>0.0000</td>\n",
       "      <td>337.0</td>\n",
       "      <td>1595.0</td>\n",
       "      <td>0.1751</td>\n",
       "      <td>0.8286</td>\n",
       "      <td>0.5000</td>\n",
       "      <td>0.4000</td>\n",
       "      <td>0.0342</td>\n",
       "      <td>0.0352</td>\n",
       "      <td>0.0366</td>\n",
       "      <td>1.0</td>\n",
       "      <td>6.0</td>\n",
       "      <td>288.1429</td>\n",
       "      <td>88.6286</td>\n",
       "      <td>5.0</td>\n",
       "      <td>3.0</td>\n",
       "      <td>0.9270</td>\n",
       "      <td>0.8275</td>\n",
       "      <td>25.0</td>\n",
       "      <td>3.2581</td>\n",
       "      <td>77.0000</td>\n",
       "    </tr>\n",
       "    <tr>\n",
       "      <th>4</th>\n",
       "      <td>2.00</td>\n",
       "      <td>7.0</td>\n",
       "      <td>1.0</td>\n",
       "      <td>4792.0</td>\n",
       "      <td>2771.0</td>\n",
       "      <td>1.3863</td>\n",
       "      <td>881.0</td>\n",
       "      <td>651.0</td>\n",
       "      <td>0.3179</td>\n",
       "      <td>0.2349</td>\n",
       "      <td>0.5294</td>\n",
       "      <td>0.5312</td>\n",
       "      <td>0.6627</td>\n",
       "      <td>0.6650</td>\n",
       "      <td>0.6678</td>\n",
       "      <td>1.0</td>\n",
       "      <td>13.0</td>\n",
       "      <td>222.0000</td>\n",
       "      <td>46.1580</td>\n",
       "      <td>9.0</td>\n",
       "      <td>9.0</td>\n",
       "      <td>0.9148</td>\n",
       "      <td>0.8259</td>\n",
       "      <td>32.0</td>\n",
       "      <td>3.4965</td>\n",
       "      <td>86.5938</td>\n",
       "    </tr>\n",
       "  </tbody>\n",
       "</table>\n",
       "</div>"
      ],
      "text/plain": [
       "   mean(p$p2)  g_lab1  a_lab1   ut_lab1  act_lab1  norm_log(dis_lab1)  \\\n",
       "0        2.00     7.0     1.0   52870.0    2144.0              1.0986   \n",
       "1        2.25     7.0     1.0   12418.0    3343.0              0.6931   \n",
       "2        1.25     7.0     1.0  217028.0    7613.0              2.4849   \n",
       "3        3.00     7.0     1.0    1925.0    1925.0              0.0000   \n",
       "4        2.00     7.0     1.0    4792.0    2771.0              1.3863   \n",
       "\n",
       "   ct_lab1  rt_lab1  ctr_lab1  rtr_lab1  err_lab1  cer_lab1  actq1_lab1  \\\n",
       "0    673.0    292.0    0.3139    0.1362    0.4118    0.5667      0.2096   \n",
       "1    291.0    752.0    0.0870    0.2249    0.6471    0.4571      0.0081   \n",
       "2    261.0   1664.0    0.0343    0.2186    0.7727    0.4364      0.5266   \n",
       "3    337.0   1595.0    0.1751    0.8286    0.5000    0.4000      0.0342   \n",
       "4    881.0    651.0    0.3179    0.2349    0.5294    0.5312      0.6627   \n",
       "\n",
       "   actq2_lab1  actq3_lab1  mean(qg$_lab1)  max(qat$_lab1)  mean(qact$_lab1)  \\\n",
       "0      0.2113      0.2129             1.0            11.0          137.8571   \n",
       "1      0.0335      0.0357             1.0            13.0          226.0000   \n",
       "2      0.6602      0.6660             1.0            22.0          463.2857   \n",
       "3      0.0352      0.0366             1.0             6.0          288.1429   \n",
       "4      0.6650      0.6678             1.0            13.0          222.0000   \n",
       "\n",
       "   mean(qavt$_lab1)  max(qme$_lab1)  max(qmce$_lab1)  mean(qmsr$_lab1)  \\\n",
       "0           32.9762             9.0              9.0            0.8978   \n",
       "1           70.2262             4.0              4.0            0.6594   \n",
       "2           71.4592            25.0              4.0            0.7856   \n",
       "3           88.6286             5.0              3.0            0.9270   \n",
       "4           46.1580             9.0              9.0            0.9148   \n",
       "\n",
       "   mean(qc$_lab1)  sum(qat$_lab1)  norm_log(sum(qat$_lab1))  avgtime_lab1  \n",
       "0          0.8764            30.0                    3.4340       71.4667  \n",
       "1          0.8201            35.0                    3.5835       95.5143  \n",
       "2          0.6715            55.0                    4.0254      138.4182  \n",
       "3          0.8275            25.0                    3.2581       77.0000  \n",
       "4          0.8259            32.0                    3.4965       86.5938  "
      ]
     },
     "execution_count": 8,
     "metadata": {},
     "output_type": "execute_result"
    }
   ],
   "source": [
    "datalab1.head()"
   ]
  },
  {
   "cell_type": "code",
   "execution_count": null,
   "metadata": {
    "colab": {
     "base_uri": "https://localhost:8080/",
     "height": 224
    },
    "id": "nbx-N7Bkb1zZ",
    "outputId": "b5ed75f0-7e4d-453d-bbf2-0bb902014e1b"
   },
   "outputs": [],
   "source": [
    "datalab1.head()"
   ]
  },
  {
   "cell_type": "code",
   "execution_count": null,
   "metadata": {
    "id": "Qo3ef38Mzspm"
   },
   "outputs": [],
   "source": [
    "#@title **Scale features**\n",
    " \n",
    "# Scale features -------------------------------------------------\n",
    "from sklearn.preprocessing import StandardScaler\n",
    "\n",
    "scaler1 = StandardScaler()\n",
    "scaler2 = StandardScaler()\n",
    "scaler3 = StandardScaler()\n",
    "scaler4 = StandardScaler()\n",
    "scaler_all = StandardScaler()\n",
    "\n",
    "datalab1 = datalab1[[TARGET]].join(pd.DataFrame(scaler1.fit_transform(datalab1), columns=datalab1.columns)[datalab1.columns[1:]])\n",
    "datalab2 = datalab2[[TARGET]].join(pd.DataFrame(scaler2.fit_transform(datalab2), columns=datalab2.columns)[datalab2.columns[1:]])\n",
    "datalab3 = datalab3[[TARGET]].join(pd.DataFrame(scaler3.fit_transform(datalab3), columns=datalab3.columns)[datalab3.columns[1:]])\n",
    "datalab4 = datalab4[[TARGET]].join(pd.DataFrame(scaler4.fit_transform(datalab4), columns=datalab4.columns)[datalab4.columns[1:]])"
   ]
  },
  {
   "cell_type": "code",
   "execution_count": null,
   "metadata": {
    "id": "x-775imysfLt"
   },
   "outputs": [],
   "source": [
    "#@title **Grid/Random-SearchCV process**\n",
    " \n",
    "def run_process(dataset, grid_cv, target=TARGET):\n",
    "    X, y = dataset.drop(target, axis=1), np.array(dataset[target])\n",
    "   \n",
    "    grid_cv.fit(X,y)\n",
    " \n",
    "    try:\n",
    "        print('R2-test-fit:', max(grid_cv.cv_results_['mean_test_score']))\n",
    "    except:\n",
    "        pass\n",
    "\n",
    "    try:\n",
    "        X_train, X_test, y_train, y_test = train_test_split(X, y, test_size=0.33)\n",
    "        grid_cv.best_estimator_.fit(X_train, y_train)\n",
    "        print('R2-test', grid_cv.best_estimator_.score(X_test, y_test))\n",
    "        print('MSE-test', metrics.mean_squared_error(y_test,grid_cv.best_estimator_.predict(X_test)))\n",
    "\n",
    "        print('Best params:', grid_cv.best_params_)\n",
    "\n",
    "        selected_features = X.columns[grid_cv.best_estimator_.steps[0][-1].get_support()]\n",
    "        print('Selected features:', list(selected_features))\n",
    "\n",
    "        return list(selected_features)\n",
    "    except:\n",
    "        return list(dataset.columns[1:])"
   ]
  },
  {
   "cell_type": "markdown",
   "metadata": {
    "id": "e-HwT4Mm5vXP"
   },
   "source": [
    "\n",
    "\n",
    "---\n",
    "\n"
   ]
  },
  {
   "cell_type": "code",
   "execution_count": null,
   "metadata": {
    "id": "A9u_CRdMRu8W"
   },
   "outputs": [],
   "source": [
    "#@title **SVR - Recursive Features Elimination**\n",
    "\n",
    "from sklearn.svm import SVR\n",
    "\n",
    "sel_estimator = SVR(kernel='linear')\n",
    "selector = RFE(sel_estimator)\n",
    "estimator = SVR()\n",
    "\n",
    "pipe = Pipeline([\n",
    "    ('sel', selector),\n",
    "    ('est', estimator)\n",
    "])\n",
    "\n",
    "params = {\n",
    "    'sel__n_features_to_select' : [5],\n",
    "    'sel__step'                 : [1,2],\n",
    "    'est__C'                    : [0.01,0.1,1],\n",
    "    'est__gamma'                : ['scale','auto'],\n",
    "    'est__kernel'               : ['linear','poly','rbf']\n",
    "}\n",
    "\n",
    "grid_svr = GridSearchCV(estimator=pipe,\n",
    "                        param_grid=params,\n",
    "                        scoring='r2',\n",
    "                        verbose=1,\n",
    "                        n_jobs=-1,\n",
    "                        return_train_score=True,\n",
    "                        cv=KFold(n_splits=5, shuffle=True))"
   ]
  },
  {
   "cell_type": "markdown",
   "metadata": {
    "id": "hdkMP0TOablZ"
   },
   "source": [
    "datalab1"
   ]
  },
  {
   "cell_type": "code",
   "execution_count": null,
   "metadata": {
    "colab": {
     "base_uri": "https://localhost:8080/"
    },
    "id": "eqNhUjWlVVV8",
    "outputId": "8dcfc3d2-84d4-4aa4-ff2d-8182c750c106"
   },
   "outputs": [],
   "source": [
    "selected_features_svr_1 = run_process(datalab1,grid_svr)"
   ]
  },
  {
   "cell_type": "code",
   "execution_count": null,
   "metadata": {
    "colab": {
     "base_uri": "https://localhost:8080/"
    },
    "id": "LH-_p_9fcYu5",
    "outputId": "d6e9505e-d38c-448a-856a-ebf6f289dbef"
   },
   "outputs": [],
   "source": [
    "selected_features_svr_1 = run_process(datalab1,grid_svr)"
   ]
  },
  {
   "cell_type": "code",
   "execution_count": null,
   "metadata": {
    "colab": {
     "base_uri": "https://localhost:8080/"
    },
    "id": "j3gVTJjpcY8l",
    "outputId": "39939876-2094-46b7-dac3-d50b92844d2b"
   },
   "outputs": [],
   "source": [
    "selected_features_svr_1 = run_process(datalab1,grid_svr)"
   ]
  },
  {
   "cell_type": "code",
   "execution_count": null,
   "metadata": {
    "colab": {
     "base_uri": "https://localhost:8080/"
    },
    "id": "_SuqwJklcZHe",
    "outputId": "0d9ff0f7-3e8d-42ee-8a80-71b73c11e025"
   },
   "outputs": [],
   "source": [
    "selected_features_svr_1 = run_process(datalab1,grid_svr)"
   ]
  },
  {
   "cell_type": "code",
   "execution_count": null,
   "metadata": {
    "colab": {
     "base_uri": "https://localhost:8080/"
    },
    "id": "Bmj-EYmMcZNC",
    "outputId": "549437a8-a256-4ee3-a3a5-7eb6a46ccd6a"
   },
   "outputs": [],
   "source": [
    "selected_features_svr_1 = run_process(datalab1,grid_svr)"
   ]
  },
  {
   "cell_type": "code",
   "execution_count": null,
   "metadata": {
    "colab": {
     "base_uri": "https://localhost:8080/"
    },
    "id": "kTnvSg_fcZSM",
    "outputId": "f76bedb0-158b-4784-8d5e-0938fe189389"
   },
   "outputs": [],
   "source": [
    "selected_features_svr_1 = run_process(datalab1,grid_svr)"
   ]
  },
  {
   "cell_type": "code",
   "execution_count": null,
   "metadata": {
    "colab": {
     "base_uri": "https://localhost:8080/"
    },
    "id": "o0kY88UacZYI",
    "outputId": "a7a35bbd-8870-4334-ba8a-6f4af005bb05"
   },
   "outputs": [],
   "source": [
    "selected_features_svr_1 = run_process(datalab1,grid_svr)"
   ]
  },
  {
   "cell_type": "code",
   "execution_count": null,
   "metadata": {
    "colab": {
     "base_uri": "https://localhost:8080/"
    },
    "id": "72qWsHwxcZdn",
    "outputId": "16b35472-e95f-4fa6-e2d5-164c702d30da"
   },
   "outputs": [],
   "source": [
    "selected_features_svr_1 = run_process(datalab1,grid_svr)"
   ]
  },
  {
   "cell_type": "code",
   "execution_count": null,
   "metadata": {
    "colab": {
     "base_uri": "https://localhost:8080/"
    },
    "id": "sJnJtRMMcZje",
    "outputId": "adfb6ee1-c93d-4882-e5f7-497041c651a4"
   },
   "outputs": [],
   "source": [
    "selected_features_svr_1 = run_process(datalab1,grid_svr)"
   ]
  },
  {
   "cell_type": "code",
   "execution_count": null,
   "metadata": {
    "colab": {
     "base_uri": "https://localhost:8080/"
    },
    "id": "JF5FL5qScZpD",
    "outputId": "6787a5ad-9dc9-479a-b4bb-e49feb53e520"
   },
   "outputs": [],
   "source": [
    "selected_features_svr_1 = run_process(datalab1,grid_svr)"
   ]
  },
  {
   "cell_type": "markdown",
   "metadata": {
    "id": "bKuA4_c8aMba"
   },
   "source": [
    "\n",
    "\n",
    "---\n",
    "\n"
   ]
  },
  {
   "cell_type": "markdown",
   "metadata": {
    "id": "TOR-AQ9eaMbc"
   },
   "source": [
    "datalab2"
   ]
  },
  {
   "cell_type": "code",
   "execution_count": null,
   "metadata": {
    "colab": {
     "base_uri": "https://localhost:8080/"
    },
    "id": "dS1TOnRGgi9c",
    "outputId": "bf2ec079-6ef0-4920-cd2a-d226f03b741e"
   },
   "outputs": [],
   "source": [
    "selected_features_svr_2 = run_process(datalab2,grid_svr)"
   ]
  },
  {
   "cell_type": "code",
   "execution_count": null,
   "metadata": {
    "colab": {
     "base_uri": "https://localhost:8080/"
    },
    "id": "5W-BcQDWchCk",
    "outputId": "fc3e3bc7-c02f-4d5d-f7e9-41c8b43e278f"
   },
   "outputs": [],
   "source": [
    "selected_features_svr_2 = run_process(datalab2,grid_svr)"
   ]
  },
  {
   "cell_type": "code",
   "execution_count": null,
   "metadata": {
    "colab": {
     "base_uri": "https://localhost:8080/"
    },
    "id": "QWp1LvGNchWu",
    "outputId": "95190e0f-77b3-4614-ef81-ed59cf7c40f5"
   },
   "outputs": [],
   "source": [
    "selected_features_svr_2 = run_process(datalab2,grid_svr)"
   ]
  },
  {
   "cell_type": "code",
   "execution_count": null,
   "metadata": {
    "colab": {
     "base_uri": "https://localhost:8080/"
    },
    "id": "wfjDF_7Hchl1",
    "outputId": "17ed3f26-3f4e-4ec7-b78b-d460336b9507"
   },
   "outputs": [],
   "source": [
    "selected_features_svr_2 = run_process(datalab2,grid_svr)"
   ]
  },
  {
   "cell_type": "code",
   "execution_count": null,
   "metadata": {
    "colab": {
     "base_uri": "https://localhost:8080/"
    },
    "id": "pw_BrzSsch6Q",
    "outputId": "9ee8214c-4b13-466a-a8d4-fb2de37cd565"
   },
   "outputs": [],
   "source": [
    "selected_features_svr_2 = run_process(datalab2,grid_svr)"
   ]
  },
  {
   "cell_type": "code",
   "execution_count": null,
   "metadata": {
    "colab": {
     "base_uri": "https://localhost:8080/"
    },
    "id": "O_8oRPBAciGc",
    "outputId": "4002229e-de71-4640-da74-671d5cc68ab2"
   },
   "outputs": [],
   "source": [
    "selected_features_svr_2 = run_process(datalab2,grid_svr)"
   ]
  },
  {
   "cell_type": "code",
   "execution_count": null,
   "metadata": {
    "colab": {
     "base_uri": "https://localhost:8080/"
    },
    "id": "uyBz1Z2bciUU",
    "outputId": "b5df7df7-4532-489a-f158-adb70320ccdd"
   },
   "outputs": [],
   "source": [
    "selected_features_svr_2 = run_process(datalab2,grid_svr)"
   ]
  },
  {
   "cell_type": "code",
   "execution_count": null,
   "metadata": {
    "colab": {
     "base_uri": "https://localhost:8080/"
    },
    "id": "5eW-jPrCcige",
    "outputId": "cd9f4fef-6337-43ee-9839-08d2b01e9be5"
   },
   "outputs": [],
   "source": [
    "selected_features_svr_2 = run_process(datalab2,grid_svr)"
   ]
  },
  {
   "cell_type": "code",
   "execution_count": null,
   "metadata": {
    "colab": {
     "base_uri": "https://localhost:8080/"
    },
    "id": "X0MQ_TtGci6F",
    "outputId": "7d393aa0-f56e-4c66-8120-39a270ac6ffe"
   },
   "outputs": [],
   "source": [
    "selected_features_svr_2 = run_process(datalab2,grid_svr)"
   ]
  },
  {
   "cell_type": "code",
   "execution_count": null,
   "metadata": {
    "colab": {
     "base_uri": "https://localhost:8080/"
    },
    "id": "p3O0rbIpcjDb",
    "outputId": "088f0521-2812-446b-b02d-5982b7cc2c35"
   },
   "outputs": [],
   "source": [
    "selected_features_svr_2 = run_process(datalab2,grid_svr)"
   ]
  },
  {
   "cell_type": "markdown",
   "metadata": {
    "id": "SgplN4l6aMbo"
   },
   "source": [
    "\n",
    "\n",
    "---\n",
    "\n"
   ]
  },
  {
   "cell_type": "markdown",
   "metadata": {
    "id": "VBvTy5TFaMbp"
   },
   "source": [
    "datalab3"
   ]
  },
  {
   "cell_type": "code",
   "execution_count": null,
   "metadata": {
    "colab": {
     "base_uri": "https://localhost:8080/"
    },
    "id": "TWoaf-bzaMbq",
    "outputId": "86e5f809-f7b3-4e93-8e4f-d30f02125f17"
   },
   "outputs": [],
   "source": [
    "selected_features_svr_3 = run_process(datalab3,grid_svr)"
   ]
  },
  {
   "cell_type": "code",
   "execution_count": null,
   "metadata": {
    "colab": {
     "base_uri": "https://localhost:8080/"
    },
    "id": "0Dsl5W66ct9-",
    "outputId": "ec48f5e7-f7e9-44d7-d651-67fd8c4a62b2"
   },
   "outputs": [],
   "source": [
    "selected_features_svr_3 = run_process(datalab3,grid_svr)"
   ]
  },
  {
   "cell_type": "code",
   "execution_count": null,
   "metadata": {
    "colab": {
     "base_uri": "https://localhost:8080/"
    },
    "id": "vvnPHq-ZcuXC",
    "outputId": "ba10d639-2c4b-42d5-b5af-01c45bf928b9"
   },
   "outputs": [],
   "source": [
    "selected_features_svr_3 = run_process(datalab3,grid_svr)"
   ]
  },
  {
   "cell_type": "code",
   "execution_count": null,
   "metadata": {
    "colab": {
     "base_uri": "https://localhost:8080/"
    },
    "id": "gQMHRIthculL",
    "outputId": "9899d649-9fa7-4fc8-c250-5abc4b6ebac0"
   },
   "outputs": [],
   "source": [
    "selected_features_svr_3 = run_process(datalab3,grid_svr)"
   ]
  },
  {
   "cell_type": "code",
   "execution_count": null,
   "metadata": {
    "colab": {
     "base_uri": "https://localhost:8080/"
    },
    "id": "OdUIqkKRcu4r",
    "outputId": "ce039417-2811-47ca-ddef-e3131ce998c6"
   },
   "outputs": [],
   "source": [
    "selected_features_svr_3 = run_process(datalab3,grid_svr)"
   ]
  },
  {
   "cell_type": "code",
   "execution_count": null,
   "metadata": {
    "colab": {
     "base_uri": "https://localhost:8080/"
    },
    "id": "vxjP-i45cybF",
    "outputId": "accff711-a6fc-44f3-f331-c3a42ffdc495"
   },
   "outputs": [],
   "source": [
    "selected_features_svr_3 = run_process(datalab3,grid_svr)"
   ]
  },
  {
   "cell_type": "code",
   "execution_count": null,
   "metadata": {
    "colab": {
     "base_uri": "https://localhost:8080/"
    },
    "id": "XOqTX7f9cybG",
    "outputId": "0e2e6297-6f3b-4d71-88d7-f8294f22a764"
   },
   "outputs": [],
   "source": [
    "selected_features_svr_3 = run_process(datalab3,grid_svr)"
   ]
  },
  {
   "cell_type": "code",
   "execution_count": null,
   "metadata": {
    "colab": {
     "base_uri": "https://localhost:8080/"
    },
    "id": "0x-ldjCQcybH",
    "outputId": "e6362960-1663-4aa8-b4a3-b52ac2a0c819"
   },
   "outputs": [],
   "source": [
    "selected_features_svr_3 = run_process(datalab3,grid_svr)"
   ]
  },
  {
   "cell_type": "code",
   "execution_count": null,
   "metadata": {
    "colab": {
     "base_uri": "https://localhost:8080/"
    },
    "id": "5GO_Ru6NcybH",
    "outputId": "a12d7c88-d036-492b-b683-4897ae47aa8d"
   },
   "outputs": [],
   "source": [
    "selected_features_svr_3 = run_process(datalab3,grid_svr)"
   ]
  },
  {
   "cell_type": "code",
   "execution_count": null,
   "metadata": {
    "colab": {
     "base_uri": "https://localhost:8080/"
    },
    "id": "3tGqfRvicybI",
    "outputId": "037ec1cb-21a2-4b28-cc9f-79c33c98e88a"
   },
   "outputs": [],
   "source": [
    "selected_features_svr_3 = run_process(datalab3,grid_svr)"
   ]
  },
  {
   "cell_type": "markdown",
   "metadata": {
    "id": "nkdmryPJaMcm"
   },
   "source": [
    "\n",
    "\n",
    "---\n",
    "\n"
   ]
  },
  {
   "cell_type": "markdown",
   "metadata": {
    "id": "tTB2siGNaMcn"
   },
   "source": [
    "datalab4"
   ]
  },
  {
   "cell_type": "code",
   "execution_count": null,
   "metadata": {
    "colab": {
     "base_uri": "https://localhost:8080/"
    },
    "id": "jPxdIF028QNJ",
    "outputId": "5bd4f85f-d625-4d85-f1c4-2b02921ba29e"
   },
   "outputs": [],
   "source": [
    "selected_features_svr_4 = run_process(datalab4,grid_svr)"
   ]
  },
  {
   "cell_type": "code",
   "execution_count": null,
   "metadata": {
    "colab": {
     "base_uri": "https://localhost:8080/"
    },
    "id": "NVtUorFUc5w7",
    "outputId": "fb0b67a9-b035-4317-b877-4faeeb871cdc"
   },
   "outputs": [],
   "source": [
    "selected_features_svr_4 = run_process(datalab4,grid_svr)"
   ]
  },
  {
   "cell_type": "code",
   "execution_count": null,
   "metadata": {
    "colab": {
     "base_uri": "https://localhost:8080/"
    },
    "id": "r5e6RTUPc56z",
    "outputId": "47df13bd-b1d0-433c-8b59-1d94ec09cb5f"
   },
   "outputs": [],
   "source": [
    "selected_features_svr_4 = run_process(datalab4,grid_svr)"
   ]
  },
  {
   "cell_type": "code",
   "execution_count": null,
   "metadata": {
    "colab": {
     "base_uri": "https://localhost:8080/"
    },
    "id": "j65LRjoTc6D9",
    "outputId": "48cf65df-6de9-49bf-c9dc-07e99c2f90b4"
   },
   "outputs": [],
   "source": [
    "selected_features_svr_4 = run_process(datalab4,grid_svr)"
   ]
  },
  {
   "cell_type": "code",
   "execution_count": null,
   "metadata": {
    "colab": {
     "base_uri": "https://localhost:8080/"
    },
    "id": "9SG1O-Npc6I3",
    "outputId": "81f9f0b1-cb36-450a-8353-4823b143e474"
   },
   "outputs": [],
   "source": [
    "selected_features_svr_4 = run_process(datalab4,grid_svr)"
   ]
  },
  {
   "cell_type": "code",
   "execution_count": null,
   "metadata": {
    "colab": {
     "base_uri": "https://localhost:8080/"
    },
    "id": "69U_UsRpc6yc",
    "outputId": "56ae35ad-deca-4c88-f45f-7501646825f2"
   },
   "outputs": [],
   "source": [
    "selected_features_svr_4 = run_process(datalab4,grid_svr)"
   ]
  },
  {
   "cell_type": "code",
   "execution_count": null,
   "metadata": {
    "colab": {
     "base_uri": "https://localhost:8080/"
    },
    "id": "8ot05tyVc684",
    "outputId": "f35798ec-24cd-46cc-9fd8-f7c715f67db6"
   },
   "outputs": [],
   "source": [
    "selected_features_svr_4 = run_process(datalab4,grid_svr)"
   ]
  },
  {
   "cell_type": "code",
   "execution_count": null,
   "metadata": {
    "colab": {
     "base_uri": "https://localhost:8080/"
    },
    "id": "AhnKCP-jc6_q",
    "outputId": "27c13267-948e-44df-c923-ae0e15f4c5e4"
   },
   "outputs": [],
   "source": [
    "selected_features_svr_4 = run_process(datalab4,grid_svr)"
   ]
  },
  {
   "cell_type": "code",
   "execution_count": null,
   "metadata": {
    "colab": {
     "base_uri": "https://localhost:8080/"
    },
    "id": "1-cX_3Vac7B6",
    "outputId": "c79a18f6-9825-4e4c-c30f-f8bd5bac8e92"
   },
   "outputs": [],
   "source": [
    "selected_features_svr_4 = run_process(datalab4,grid_svr)"
   ]
  },
  {
   "cell_type": "code",
   "execution_count": null,
   "metadata": {
    "colab": {
     "base_uri": "https://localhost:8080/"
    },
    "id": "_nl9rUbwc7JA",
    "outputId": "cca3d36f-5e24-4b2b-b9c9-5c04f2415c7b"
   },
   "outputs": [],
   "source": [
    "selected_features_svr_4 = run_process(datalab4,grid_svr)"
   ]
  },
  {
   "cell_type": "markdown",
   "metadata": {
    "id": "PdlSDGioKdR8"
   },
   "source": [
    "\n",
    "\n",
    "---\n",
    "\n"
   ]
  },
  {
   "cell_type": "code",
   "execution_count": null,
   "metadata": {
    "id": "ky4EgpioKcvl"
   },
   "outputs": [],
   "source": [
    "estimator = SVR()\n",
    "\n",
    "params = {\n",
    "    'C'         : [0.01,0.1,1],\n",
    "    'gamma'     : ['scale','auto'],\n",
    "    'kernel'    : ['linear','poly','rbf']\n",
    "}\n",
    "\n",
    "grid_svr = GridSearchCV(estimator=estimator,\n",
    "                        param_grid=params,\n",
    "                        scoring='r2',\n",
    "                        verbose=1,\n",
    "                        n_jobs=-1,\n",
    "                        return_train_score=True,\n",
    "                        cv=KFold(n_splits=5, shuffle=True))"
   ]
  },
  {
   "cell_type": "code",
   "execution_count": 3,
   "metadata": {
    "id": "fMCQ1TRsEMIl"
   },
   "outputs": [],
   "source": [
    "selected_features_svr_1 = ['mean(qmsr$_lab1)','actq2_lab1','actq3_lab1','mean(qg$_lab1)','actq1_lab1']\n",
    "selected_features_svr_2 = ['max(qat$_lab2)','mean(qact$_lab2)','mean(qmsr$_lab2)','g_lab2','actq1_lab2']\n",
    "selected_features_svr_3 = ['g_lab3','mean(qmsr$_lab3)','act_lab3','mean(qact$_lab3)','avgtime_lab3']\n",
    "selected_features_svr_4 = ['max(qat$_lab4)','err_lab4','mean(qact$_lab4)','cer_lab4','rt_lab4']"
   ]
  },
  {
   "cell_type": "markdown",
   "metadata": {
    "id": "eCdewrKzWqc3"
   },
   "source": [
    "datalab1_2"
   ]
  },
  {
   "cell_type": "code",
   "execution_count": 4,
   "metadata": {
    "colab": {
     "base_uri": "https://localhost:8080/"
    },
    "id": "6QVGBRMfeGOj",
    "outputId": "413497c2-4395-40e5-845f-4f24ca9b20e4"
   },
   "outputs": [
    {
     "ename": "NameError",
     "evalue": "name 'datalab1' is not defined",
     "output_type": "error",
     "traceback": [
      "\u001b[1;31m---------------------------------------------------------------------------\u001b[0m",
      "\u001b[1;31mNameError\u001b[0m                                 Traceback (most recent call last)",
      "\u001b[1;32m<ipython-input-4-40a0121768da>\u001b[0m in \u001b[0;36m<module>\u001b[1;34m\u001b[0m\n\u001b[1;32m----> 1\u001b[1;33m \u001b[0mdataset\u001b[0m \u001b[1;33m=\u001b[0m \u001b[0mdatalab1\u001b[0m\u001b[1;33m[\u001b[0m\u001b[1;33m[\u001b[0m\u001b[0mTARGET\u001b[0m\u001b[1;33m]\u001b[0m \u001b[1;33m+\u001b[0m \u001b[0mselected_features_svr_1\u001b[0m\u001b[1;33m]\u001b[0m\u001b[1;33m.\u001b[0m\u001b[0mjoin\u001b[0m\u001b[1;33m(\u001b[0m\u001b[0mdatalab2\u001b[0m\u001b[1;33m[\u001b[0m\u001b[0mselected_features_svr_2\u001b[0m\u001b[1;33m]\u001b[0m\u001b[1;33m)\u001b[0m\u001b[1;33m\u001b[0m\u001b[1;33m\u001b[0m\u001b[0m\n\u001b[0m\u001b[0;32m      2\u001b[0m \u001b[0mrun_process\u001b[0m\u001b[1;33m(\u001b[0m\u001b[0mdataset\u001b[0m\u001b[1;33m,\u001b[0m\u001b[0mgrid_svr\u001b[0m\u001b[1;33m)\u001b[0m\u001b[1;33m\u001b[0m\u001b[1;33m\u001b[0m\u001b[0m\n",
      "\u001b[1;31mNameError\u001b[0m: name 'datalab1' is not defined"
     ]
    }
   ],
   "source": [
    "dataset = datalab1[[TARGET] + selected_features_svr_1].join(datalab2[selected_features_svr_2])\n",
    "run_process(dataset,grid_svr)"
   ]
  },
  {
   "cell_type": "code",
   "execution_count": 5,
   "metadata": {
    "colab": {
     "base_uri": "https://localhost:8080/"
    },
    "id": "bSUaC62yNZVe",
    "outputId": "420f7275-ccbb-4a6d-9007-0ae05f38febe"
   },
   "outputs": [
    {
     "ename": "NameError",
     "evalue": "name 'datalab1' is not defined",
     "output_type": "error",
     "traceback": [
      "\u001b[1;31m---------------------------------------------------------------------------\u001b[0m",
      "\u001b[1;31mNameError\u001b[0m                                 Traceback (most recent call last)",
      "\u001b[1;32m<ipython-input-5-40a0121768da>\u001b[0m in \u001b[0;36m<module>\u001b[1;34m\u001b[0m\n\u001b[1;32m----> 1\u001b[1;33m \u001b[0mdataset\u001b[0m \u001b[1;33m=\u001b[0m \u001b[0mdatalab1\u001b[0m\u001b[1;33m[\u001b[0m\u001b[1;33m[\u001b[0m\u001b[0mTARGET\u001b[0m\u001b[1;33m]\u001b[0m \u001b[1;33m+\u001b[0m \u001b[0mselected_features_svr_1\u001b[0m\u001b[1;33m]\u001b[0m\u001b[1;33m.\u001b[0m\u001b[0mjoin\u001b[0m\u001b[1;33m(\u001b[0m\u001b[0mdatalab2\u001b[0m\u001b[1;33m[\u001b[0m\u001b[0mselected_features_svr_2\u001b[0m\u001b[1;33m]\u001b[0m\u001b[1;33m)\u001b[0m\u001b[1;33m\u001b[0m\u001b[1;33m\u001b[0m\u001b[0m\n\u001b[0m\u001b[0;32m      2\u001b[0m \u001b[0mrun_process\u001b[0m\u001b[1;33m(\u001b[0m\u001b[0mdataset\u001b[0m\u001b[1;33m,\u001b[0m\u001b[0mgrid_svr\u001b[0m\u001b[1;33m)\u001b[0m\u001b[1;33m\u001b[0m\u001b[1;33m\u001b[0m\u001b[0m\n",
      "\u001b[1;31mNameError\u001b[0m: name 'datalab1' is not defined"
     ]
    }
   ],
   "source": [
    "dataset = datalab1[[TARGET] + selected_features_svr_1].join(datalab2[selected_features_svr_2])\n",
    "run_process(dataset,grid_svr)"
   ]
  },
  {
   "cell_type": "code",
   "execution_count": 6,
   "metadata": {
    "colab": {
     "base_uri": "https://localhost:8080/"
    },
    "id": "gb0fOQg7NZ47",
    "outputId": "eaa2c825-9a0c-4741-87c8-5aa406ef08f1"
   },
   "outputs": [
    {
     "ename": "NameError",
     "evalue": "name 'datalab1' is not defined",
     "output_type": "error",
     "traceback": [
      "\u001b[1;31m---------------------------------------------------------------------------\u001b[0m",
      "\u001b[1;31mNameError\u001b[0m                                 Traceback (most recent call last)",
      "\u001b[1;32m<ipython-input-6-40a0121768da>\u001b[0m in \u001b[0;36m<module>\u001b[1;34m\u001b[0m\n\u001b[1;32m----> 1\u001b[1;33m \u001b[0mdataset\u001b[0m \u001b[1;33m=\u001b[0m \u001b[0mdatalab1\u001b[0m\u001b[1;33m[\u001b[0m\u001b[1;33m[\u001b[0m\u001b[0mTARGET\u001b[0m\u001b[1;33m]\u001b[0m \u001b[1;33m+\u001b[0m \u001b[0mselected_features_svr_1\u001b[0m\u001b[1;33m]\u001b[0m\u001b[1;33m.\u001b[0m\u001b[0mjoin\u001b[0m\u001b[1;33m(\u001b[0m\u001b[0mdatalab2\u001b[0m\u001b[1;33m[\u001b[0m\u001b[0mselected_features_svr_2\u001b[0m\u001b[1;33m]\u001b[0m\u001b[1;33m)\u001b[0m\u001b[1;33m\u001b[0m\u001b[1;33m\u001b[0m\u001b[0m\n\u001b[0m\u001b[0;32m      2\u001b[0m \u001b[0mrun_process\u001b[0m\u001b[1;33m(\u001b[0m\u001b[0mdataset\u001b[0m\u001b[1;33m,\u001b[0m\u001b[0mgrid_svr\u001b[0m\u001b[1;33m)\u001b[0m\u001b[1;33m\u001b[0m\u001b[1;33m\u001b[0m\u001b[0m\n",
      "\u001b[1;31mNameError\u001b[0m: name 'datalab1' is not defined"
     ]
    }
   ],
   "source": [
    "dataset = datalab1[[TARGET] + selected_features_svr_1].join(datalab2[selected_features_svr_2])\n",
    "run_process(dataset,grid_svr)"
   ]
  },
  {
   "cell_type": "code",
   "execution_count": 7,
   "metadata": {
    "colab": {
     "base_uri": "https://localhost:8080/"
    },
    "id": "vKiHB8mKNaI7",
    "outputId": "e91cdd1c-555e-4d88-8d64-8c0e2ccf538e"
   },
   "outputs": [
    {
     "ename": "NameError",
     "evalue": "name 'datalab1' is not defined",
     "output_type": "error",
     "traceback": [
      "\u001b[1;31m---------------------------------------------------------------------------\u001b[0m",
      "\u001b[1;31mNameError\u001b[0m                                 Traceback (most recent call last)",
      "\u001b[1;32m<ipython-input-7-40a0121768da>\u001b[0m in \u001b[0;36m<module>\u001b[1;34m\u001b[0m\n\u001b[1;32m----> 1\u001b[1;33m \u001b[0mdataset\u001b[0m \u001b[1;33m=\u001b[0m \u001b[0mdatalab1\u001b[0m\u001b[1;33m[\u001b[0m\u001b[1;33m[\u001b[0m\u001b[0mTARGET\u001b[0m\u001b[1;33m]\u001b[0m \u001b[1;33m+\u001b[0m \u001b[0mselected_features_svr_1\u001b[0m\u001b[1;33m]\u001b[0m\u001b[1;33m.\u001b[0m\u001b[0mjoin\u001b[0m\u001b[1;33m(\u001b[0m\u001b[0mdatalab2\u001b[0m\u001b[1;33m[\u001b[0m\u001b[0mselected_features_svr_2\u001b[0m\u001b[1;33m]\u001b[0m\u001b[1;33m)\u001b[0m\u001b[1;33m\u001b[0m\u001b[1;33m\u001b[0m\u001b[0m\n\u001b[0m\u001b[0;32m      2\u001b[0m \u001b[0mrun_process\u001b[0m\u001b[1;33m(\u001b[0m\u001b[0mdataset\u001b[0m\u001b[1;33m,\u001b[0m\u001b[0mgrid_svr\u001b[0m\u001b[1;33m)\u001b[0m\u001b[1;33m\u001b[0m\u001b[1;33m\u001b[0m\u001b[0m\n",
      "\u001b[1;31mNameError\u001b[0m: name 'datalab1' is not defined"
     ]
    }
   ],
   "source": [
    "dataset = datalab1[[TARGET] + selected_features_svr_1].join(datalab2[selected_features_svr_2])\n",
    "run_process(dataset,grid_svr)"
   ]
  },
  {
   "cell_type": "code",
   "execution_count": 8,
   "metadata": {
    "colab": {
     "base_uri": "https://localhost:8080/"
    },
    "id": "Jmj2D8hANaOq",
    "outputId": "ad819806-5a8e-48f8-9e47-14707f7336ea"
   },
   "outputs": [
    {
     "ename": "NameError",
     "evalue": "name 'datalab1' is not defined",
     "output_type": "error",
     "traceback": [
      "\u001b[1;31m---------------------------------------------------------------------------\u001b[0m",
      "\u001b[1;31mNameError\u001b[0m                                 Traceback (most recent call last)",
      "\u001b[1;32m<ipython-input-8-40a0121768da>\u001b[0m in \u001b[0;36m<module>\u001b[1;34m\u001b[0m\n\u001b[1;32m----> 1\u001b[1;33m \u001b[0mdataset\u001b[0m \u001b[1;33m=\u001b[0m \u001b[0mdatalab1\u001b[0m\u001b[1;33m[\u001b[0m\u001b[1;33m[\u001b[0m\u001b[0mTARGET\u001b[0m\u001b[1;33m]\u001b[0m \u001b[1;33m+\u001b[0m \u001b[0mselected_features_svr_1\u001b[0m\u001b[1;33m]\u001b[0m\u001b[1;33m.\u001b[0m\u001b[0mjoin\u001b[0m\u001b[1;33m(\u001b[0m\u001b[0mdatalab2\u001b[0m\u001b[1;33m[\u001b[0m\u001b[0mselected_features_svr_2\u001b[0m\u001b[1;33m]\u001b[0m\u001b[1;33m)\u001b[0m\u001b[1;33m\u001b[0m\u001b[1;33m\u001b[0m\u001b[0m\n\u001b[0m\u001b[0;32m      2\u001b[0m \u001b[0mrun_process\u001b[0m\u001b[1;33m(\u001b[0m\u001b[0mdataset\u001b[0m\u001b[1;33m,\u001b[0m\u001b[0mgrid_svr\u001b[0m\u001b[1;33m)\u001b[0m\u001b[1;33m\u001b[0m\u001b[1;33m\u001b[0m\u001b[0m\n",
      "\u001b[1;31mNameError\u001b[0m: name 'datalab1' is not defined"
     ]
    }
   ],
   "source": [
    "dataset = datalab1[[TARGET] + selected_features_svr_1].join(datalab2[selected_features_svr_2])\n",
    "run_process(dataset,grid_svr)"
   ]
  },
  {
   "cell_type": "code",
   "execution_count": 9,
   "metadata": {
    "colab": {
     "base_uri": "https://localhost:8080/"
    },
    "id": "G31KxrAANaTX",
    "outputId": "663e64ca-1df0-4242-dd55-7fb1e89d9119"
   },
   "outputs": [
    {
     "ename": "NameError",
     "evalue": "name 'datalab1' is not defined",
     "output_type": "error",
     "traceback": [
      "\u001b[1;31m---------------------------------------------------------------------------\u001b[0m",
      "\u001b[1;31mNameError\u001b[0m                                 Traceback (most recent call last)",
      "\u001b[1;32m<ipython-input-9-40a0121768da>\u001b[0m in \u001b[0;36m<module>\u001b[1;34m\u001b[0m\n\u001b[1;32m----> 1\u001b[1;33m \u001b[0mdataset\u001b[0m \u001b[1;33m=\u001b[0m \u001b[0mdatalab1\u001b[0m\u001b[1;33m[\u001b[0m\u001b[1;33m[\u001b[0m\u001b[0mTARGET\u001b[0m\u001b[1;33m]\u001b[0m \u001b[1;33m+\u001b[0m \u001b[0mselected_features_svr_1\u001b[0m\u001b[1;33m]\u001b[0m\u001b[1;33m.\u001b[0m\u001b[0mjoin\u001b[0m\u001b[1;33m(\u001b[0m\u001b[0mdatalab2\u001b[0m\u001b[1;33m[\u001b[0m\u001b[0mselected_features_svr_2\u001b[0m\u001b[1;33m]\u001b[0m\u001b[1;33m)\u001b[0m\u001b[1;33m\u001b[0m\u001b[1;33m\u001b[0m\u001b[0m\n\u001b[0m\u001b[0;32m      2\u001b[0m \u001b[0mrun_process\u001b[0m\u001b[1;33m(\u001b[0m\u001b[0mdataset\u001b[0m\u001b[1;33m,\u001b[0m\u001b[0mgrid_svr\u001b[0m\u001b[1;33m)\u001b[0m\u001b[1;33m\u001b[0m\u001b[1;33m\u001b[0m\u001b[0m\n",
      "\u001b[1;31mNameError\u001b[0m: name 'datalab1' is not defined"
     ]
    }
   ],
   "source": [
    "dataset = datalab1[[TARGET] + selected_features_svr_1].join(datalab2[selected_features_svr_2])\n",
    "run_process(dataset,grid_svr)"
   ]
  },
  {
   "cell_type": "code",
   "execution_count": 10,
   "metadata": {
    "colab": {
     "base_uri": "https://localhost:8080/"
    },
    "id": "xMzt8NHsNaXK",
    "outputId": "814800af-e229-418b-a5bc-fedcb6dcfc86"
   },
   "outputs": [
    {
     "ename": "NameError",
     "evalue": "name 'datalab1' is not defined",
     "output_type": "error",
     "traceback": [
      "\u001b[1;31m---------------------------------------------------------------------------\u001b[0m",
      "\u001b[1;31mNameError\u001b[0m                                 Traceback (most recent call last)",
      "\u001b[1;32m<ipython-input-10-40a0121768da>\u001b[0m in \u001b[0;36m<module>\u001b[1;34m\u001b[0m\n\u001b[1;32m----> 1\u001b[1;33m \u001b[0mdataset\u001b[0m \u001b[1;33m=\u001b[0m \u001b[0mdatalab1\u001b[0m\u001b[1;33m[\u001b[0m\u001b[1;33m[\u001b[0m\u001b[0mTARGET\u001b[0m\u001b[1;33m]\u001b[0m \u001b[1;33m+\u001b[0m \u001b[0mselected_features_svr_1\u001b[0m\u001b[1;33m]\u001b[0m\u001b[1;33m.\u001b[0m\u001b[0mjoin\u001b[0m\u001b[1;33m(\u001b[0m\u001b[0mdatalab2\u001b[0m\u001b[1;33m[\u001b[0m\u001b[0mselected_features_svr_2\u001b[0m\u001b[1;33m]\u001b[0m\u001b[1;33m)\u001b[0m\u001b[1;33m\u001b[0m\u001b[1;33m\u001b[0m\u001b[0m\n\u001b[0m\u001b[0;32m      2\u001b[0m \u001b[0mrun_process\u001b[0m\u001b[1;33m(\u001b[0m\u001b[0mdataset\u001b[0m\u001b[1;33m,\u001b[0m\u001b[0mgrid_svr\u001b[0m\u001b[1;33m)\u001b[0m\u001b[1;33m\u001b[0m\u001b[1;33m\u001b[0m\u001b[0m\n",
      "\u001b[1;31mNameError\u001b[0m: name 'datalab1' is not defined"
     ]
    }
   ],
   "source": [
    "dataset = datalab1[[TARGET] + selected_features_svr_1].join(datalab2[selected_features_svr_2])\n",
    "run_process(dataset,grid_svr)"
   ]
  },
  {
   "cell_type": "code",
   "execution_count": 11,
   "metadata": {
    "colab": {
     "base_uri": "https://localhost:8080/"
    },
    "id": "R10DaqogNbKY",
    "outputId": "7f5730be-6897-443a-8cc9-3dfb8a11d62c"
   },
   "outputs": [
    {
     "ename": "NameError",
     "evalue": "name 'datalab1' is not defined",
     "output_type": "error",
     "traceback": [
      "\u001b[1;31m---------------------------------------------------------------------------\u001b[0m",
      "\u001b[1;31mNameError\u001b[0m                                 Traceback (most recent call last)",
      "\u001b[1;32m<ipython-input-11-40a0121768da>\u001b[0m in \u001b[0;36m<module>\u001b[1;34m\u001b[0m\n\u001b[1;32m----> 1\u001b[1;33m \u001b[0mdataset\u001b[0m \u001b[1;33m=\u001b[0m \u001b[0mdatalab1\u001b[0m\u001b[1;33m[\u001b[0m\u001b[1;33m[\u001b[0m\u001b[0mTARGET\u001b[0m\u001b[1;33m]\u001b[0m \u001b[1;33m+\u001b[0m \u001b[0mselected_features_svr_1\u001b[0m\u001b[1;33m]\u001b[0m\u001b[1;33m.\u001b[0m\u001b[0mjoin\u001b[0m\u001b[1;33m(\u001b[0m\u001b[0mdatalab2\u001b[0m\u001b[1;33m[\u001b[0m\u001b[0mselected_features_svr_2\u001b[0m\u001b[1;33m]\u001b[0m\u001b[1;33m)\u001b[0m\u001b[1;33m\u001b[0m\u001b[1;33m\u001b[0m\u001b[0m\n\u001b[0m\u001b[0;32m      2\u001b[0m \u001b[0mrun_process\u001b[0m\u001b[1;33m(\u001b[0m\u001b[0mdataset\u001b[0m\u001b[1;33m,\u001b[0m\u001b[0mgrid_svr\u001b[0m\u001b[1;33m)\u001b[0m\u001b[1;33m\u001b[0m\u001b[1;33m\u001b[0m\u001b[0m\n",
      "\u001b[1;31mNameError\u001b[0m: name 'datalab1' is not defined"
     ]
    }
   ],
   "source": [
    "dataset = datalab1[[TARGET] + selected_features_svr_1].join(datalab2[selected_features_svr_2])\n",
    "run_process(dataset,grid_svr)"
   ]
  },
  {
   "cell_type": "code",
   "execution_count": 12,
   "metadata": {
    "colab": {
     "base_uri": "https://localhost:8080/"
    },
    "id": "c51CIf1rNbTg",
    "outputId": "ae2c5106-dbcc-4b36-c648-467f62e0a120"
   },
   "outputs": [
    {
     "ename": "NameError",
     "evalue": "name 'datalab1' is not defined",
     "output_type": "error",
     "traceback": [
      "\u001b[1;31m---------------------------------------------------------------------------\u001b[0m",
      "\u001b[1;31mNameError\u001b[0m                                 Traceback (most recent call last)",
      "\u001b[1;32m<ipython-input-12-40a0121768da>\u001b[0m in \u001b[0;36m<module>\u001b[1;34m\u001b[0m\n\u001b[1;32m----> 1\u001b[1;33m \u001b[0mdataset\u001b[0m \u001b[1;33m=\u001b[0m \u001b[0mdatalab1\u001b[0m\u001b[1;33m[\u001b[0m\u001b[1;33m[\u001b[0m\u001b[0mTARGET\u001b[0m\u001b[1;33m]\u001b[0m \u001b[1;33m+\u001b[0m \u001b[0mselected_features_svr_1\u001b[0m\u001b[1;33m]\u001b[0m\u001b[1;33m.\u001b[0m\u001b[0mjoin\u001b[0m\u001b[1;33m(\u001b[0m\u001b[0mdatalab2\u001b[0m\u001b[1;33m[\u001b[0m\u001b[0mselected_features_svr_2\u001b[0m\u001b[1;33m]\u001b[0m\u001b[1;33m)\u001b[0m\u001b[1;33m\u001b[0m\u001b[1;33m\u001b[0m\u001b[0m\n\u001b[0m\u001b[0;32m      2\u001b[0m \u001b[0mrun_process\u001b[0m\u001b[1;33m(\u001b[0m\u001b[0mdataset\u001b[0m\u001b[1;33m,\u001b[0m\u001b[0mgrid_svr\u001b[0m\u001b[1;33m)\u001b[0m\u001b[1;33m\u001b[0m\u001b[1;33m\u001b[0m\u001b[0m\n",
      "\u001b[1;31mNameError\u001b[0m: name 'datalab1' is not defined"
     ]
    }
   ],
   "source": [
    "dataset = datalab1[[TARGET] + selected_features_svr_1].join(datalab2[selected_features_svr_2])\n",
    "run_process(dataset,grid_svr)"
   ]
  },
  {
   "cell_type": "code",
   "execution_count": 13,
   "metadata": {
    "colab": {
     "base_uri": "https://localhost:8080/"
    },
    "id": "gXcAqOUDNbZH",
    "outputId": "979f4a20-0d77-4289-d043-8f35b3c764a0"
   },
   "outputs": [
    {
     "ename": "NameError",
     "evalue": "name 'datalab1' is not defined",
     "output_type": "error",
     "traceback": [
      "\u001b[1;31m---------------------------------------------------------------------------\u001b[0m",
      "\u001b[1;31mNameError\u001b[0m                                 Traceback (most recent call last)",
      "\u001b[1;32m<ipython-input-13-40a0121768da>\u001b[0m in \u001b[0;36m<module>\u001b[1;34m\u001b[0m\n\u001b[1;32m----> 1\u001b[1;33m \u001b[0mdataset\u001b[0m \u001b[1;33m=\u001b[0m \u001b[0mdatalab1\u001b[0m\u001b[1;33m[\u001b[0m\u001b[1;33m[\u001b[0m\u001b[0mTARGET\u001b[0m\u001b[1;33m]\u001b[0m \u001b[1;33m+\u001b[0m \u001b[0mselected_features_svr_1\u001b[0m\u001b[1;33m]\u001b[0m\u001b[1;33m.\u001b[0m\u001b[0mjoin\u001b[0m\u001b[1;33m(\u001b[0m\u001b[0mdatalab2\u001b[0m\u001b[1;33m[\u001b[0m\u001b[0mselected_features_svr_2\u001b[0m\u001b[1;33m]\u001b[0m\u001b[1;33m)\u001b[0m\u001b[1;33m\u001b[0m\u001b[1;33m\u001b[0m\u001b[0m\n\u001b[0m\u001b[0;32m      2\u001b[0m \u001b[0mrun_process\u001b[0m\u001b[1;33m(\u001b[0m\u001b[0mdataset\u001b[0m\u001b[1;33m,\u001b[0m\u001b[0mgrid_svr\u001b[0m\u001b[1;33m)\u001b[0m\u001b[1;33m\u001b[0m\u001b[1;33m\u001b[0m\u001b[0m\n",
      "\u001b[1;31mNameError\u001b[0m: name 'datalab1' is not defined"
     ]
    }
   ],
   "source": [
    "dataset = datalab1[[TARGET] + selected_features_svr_1].join(datalab2[selected_features_svr_2])\n",
    "run_process(dataset,grid_svr)"
   ]
  },
  {
   "cell_type": "markdown",
   "metadata": {
    "id": "ldQ3ZMOvDjAd"
   },
   "source": [
    "\n",
    "\n",
    "---\n",
    "\n"
   ]
  },
  {
   "cell_type": "markdown",
   "metadata": {
    "id": "0ySWugnYWufj"
   },
   "source": [
    "datalab1_2_3"
   ]
  },
  {
   "cell_type": "code",
   "execution_count": 14,
   "metadata": {
    "colab": {
     "base_uri": "https://localhost:8080/"
    },
    "id": "y0nWWtKHesiI",
    "outputId": "a13739a4-a0f9-4adb-ece3-db935f1e49d9"
   },
   "outputs": [
    {
     "ename": "NameError",
     "evalue": "name 'datalab1' is not defined",
     "output_type": "error",
     "traceback": [
      "\u001b[1;31m---------------------------------------------------------------------------\u001b[0m",
      "\u001b[1;31mNameError\u001b[0m                                 Traceback (most recent call last)",
      "\u001b[1;32m<ipython-input-14-dadec08574c4>\u001b[0m in \u001b[0;36m<module>\u001b[1;34m\u001b[0m\n\u001b[1;32m----> 1\u001b[1;33m \u001b[0mdataset\u001b[0m \u001b[1;33m=\u001b[0m \u001b[0mdatalab1\u001b[0m\u001b[1;33m[\u001b[0m\u001b[1;33m[\u001b[0m\u001b[0mTARGET\u001b[0m\u001b[1;33m]\u001b[0m \u001b[1;33m+\u001b[0m \u001b[0mselected_features_svr_1\u001b[0m\u001b[1;33m]\u001b[0m\u001b[1;33m.\u001b[0m\u001b[0mjoin\u001b[0m\u001b[1;33m(\u001b[0m\u001b[0mdatalab2\u001b[0m\u001b[1;33m[\u001b[0m\u001b[0mselected_features_svr_2\u001b[0m\u001b[1;33m]\u001b[0m\u001b[1;33m)\u001b[0m\u001b[1;33m.\u001b[0m\u001b[0mjoin\u001b[0m\u001b[1;33m(\u001b[0m\u001b[0mdatalab3\u001b[0m\u001b[1;33m[\u001b[0m\u001b[0mselected_features_svr_3\u001b[0m\u001b[1;33m]\u001b[0m\u001b[1;33m)\u001b[0m\u001b[1;33m\u001b[0m\u001b[1;33m\u001b[0m\u001b[0m\n\u001b[0m\u001b[0;32m      2\u001b[0m \u001b[0mrun_process\u001b[0m\u001b[1;33m(\u001b[0m\u001b[0mdataset\u001b[0m\u001b[1;33m,\u001b[0m\u001b[0mgrid_svr\u001b[0m\u001b[1;33m)\u001b[0m\u001b[1;33m\u001b[0m\u001b[1;33m\u001b[0m\u001b[0m\n",
      "\u001b[1;31mNameError\u001b[0m: name 'datalab1' is not defined"
     ]
    }
   ],
   "source": [
    "dataset = datalab1[[TARGET] + selected_features_svr_1].join(datalab2[selected_features_svr_2]).join(datalab3[selected_features_svr_3])\n",
    "run_process(dataset,grid_svr)"
   ]
  },
  {
   "cell_type": "code",
   "execution_count": 15,
   "metadata": {
    "colab": {
     "base_uri": "https://localhost:8080/"
    },
    "id": "LlwVnFigPsii",
    "outputId": "b5c44930-e938-4e46-c6f5-5744f4239f8a"
   },
   "outputs": [
    {
     "ename": "NameError",
     "evalue": "name 'datalab1' is not defined",
     "output_type": "error",
     "traceback": [
      "\u001b[1;31m---------------------------------------------------------------------------\u001b[0m",
      "\u001b[1;31mNameError\u001b[0m                                 Traceback (most recent call last)",
      "\u001b[1;32m<ipython-input-15-dadec08574c4>\u001b[0m in \u001b[0;36m<module>\u001b[1;34m\u001b[0m\n\u001b[1;32m----> 1\u001b[1;33m \u001b[0mdataset\u001b[0m \u001b[1;33m=\u001b[0m \u001b[0mdatalab1\u001b[0m\u001b[1;33m[\u001b[0m\u001b[1;33m[\u001b[0m\u001b[0mTARGET\u001b[0m\u001b[1;33m]\u001b[0m \u001b[1;33m+\u001b[0m \u001b[0mselected_features_svr_1\u001b[0m\u001b[1;33m]\u001b[0m\u001b[1;33m.\u001b[0m\u001b[0mjoin\u001b[0m\u001b[1;33m(\u001b[0m\u001b[0mdatalab2\u001b[0m\u001b[1;33m[\u001b[0m\u001b[0mselected_features_svr_2\u001b[0m\u001b[1;33m]\u001b[0m\u001b[1;33m)\u001b[0m\u001b[1;33m.\u001b[0m\u001b[0mjoin\u001b[0m\u001b[1;33m(\u001b[0m\u001b[0mdatalab3\u001b[0m\u001b[1;33m[\u001b[0m\u001b[0mselected_features_svr_3\u001b[0m\u001b[1;33m]\u001b[0m\u001b[1;33m)\u001b[0m\u001b[1;33m\u001b[0m\u001b[1;33m\u001b[0m\u001b[0m\n\u001b[0m\u001b[0;32m      2\u001b[0m \u001b[0mrun_process\u001b[0m\u001b[1;33m(\u001b[0m\u001b[0mdataset\u001b[0m\u001b[1;33m,\u001b[0m\u001b[0mgrid_svr\u001b[0m\u001b[1;33m)\u001b[0m\u001b[1;33m\u001b[0m\u001b[1;33m\u001b[0m\u001b[0m\n",
      "\u001b[1;31mNameError\u001b[0m: name 'datalab1' is not defined"
     ]
    }
   ],
   "source": [
    "dataset = datalab1[[TARGET] + selected_features_svr_1].join(datalab2[selected_features_svr_2]).join(datalab3[selected_features_svr_3])\n",
    "run_process(dataset,grid_svr)"
   ]
  },
  {
   "cell_type": "code",
   "execution_count": 16,
   "metadata": {
    "colab": {
     "base_uri": "https://localhost:8080/"
    },
    "id": "hGmmsL2jPxCG",
    "outputId": "6b00c9d4-74d2-4bdb-98f3-d6d776196cf5"
   },
   "outputs": [
    {
     "ename": "NameError",
     "evalue": "name 'datalab1' is not defined",
     "output_type": "error",
     "traceback": [
      "\u001b[1;31m---------------------------------------------------------------------------\u001b[0m",
      "\u001b[1;31mNameError\u001b[0m                                 Traceback (most recent call last)",
      "\u001b[1;32m<ipython-input-16-dadec08574c4>\u001b[0m in \u001b[0;36m<module>\u001b[1;34m\u001b[0m\n\u001b[1;32m----> 1\u001b[1;33m \u001b[0mdataset\u001b[0m \u001b[1;33m=\u001b[0m \u001b[0mdatalab1\u001b[0m\u001b[1;33m[\u001b[0m\u001b[1;33m[\u001b[0m\u001b[0mTARGET\u001b[0m\u001b[1;33m]\u001b[0m \u001b[1;33m+\u001b[0m \u001b[0mselected_features_svr_1\u001b[0m\u001b[1;33m]\u001b[0m\u001b[1;33m.\u001b[0m\u001b[0mjoin\u001b[0m\u001b[1;33m(\u001b[0m\u001b[0mdatalab2\u001b[0m\u001b[1;33m[\u001b[0m\u001b[0mselected_features_svr_2\u001b[0m\u001b[1;33m]\u001b[0m\u001b[1;33m)\u001b[0m\u001b[1;33m.\u001b[0m\u001b[0mjoin\u001b[0m\u001b[1;33m(\u001b[0m\u001b[0mdatalab3\u001b[0m\u001b[1;33m[\u001b[0m\u001b[0mselected_features_svr_3\u001b[0m\u001b[1;33m]\u001b[0m\u001b[1;33m)\u001b[0m\u001b[1;33m\u001b[0m\u001b[1;33m\u001b[0m\u001b[0m\n\u001b[0m\u001b[0;32m      2\u001b[0m \u001b[0mrun_process\u001b[0m\u001b[1;33m(\u001b[0m\u001b[0mdataset\u001b[0m\u001b[1;33m,\u001b[0m\u001b[0mgrid_svr\u001b[0m\u001b[1;33m)\u001b[0m\u001b[1;33m\u001b[0m\u001b[1;33m\u001b[0m\u001b[0m\n",
      "\u001b[1;31mNameError\u001b[0m: name 'datalab1' is not defined"
     ]
    }
   ],
   "source": [
    "dataset = datalab1[[TARGET] + selected_features_svr_1].join(datalab2[selected_features_svr_2]).join(datalab3[selected_features_svr_3])\n",
    "run_process(dataset,grid_svr)"
   ]
  },
  {
   "cell_type": "code",
   "execution_count": 17,
   "metadata": {
    "colab": {
     "base_uri": "https://localhost:8080/"
    },
    "id": "LVrUaY6wPyxo",
    "outputId": "83658722-3321-4fed-b28a-311d847ca84f"
   },
   "outputs": [
    {
     "ename": "NameError",
     "evalue": "name 'datalab1' is not defined",
     "output_type": "error",
     "traceback": [
      "\u001b[1;31m---------------------------------------------------------------------------\u001b[0m",
      "\u001b[1;31mNameError\u001b[0m                                 Traceback (most recent call last)",
      "\u001b[1;32m<ipython-input-17-dadec08574c4>\u001b[0m in \u001b[0;36m<module>\u001b[1;34m\u001b[0m\n\u001b[1;32m----> 1\u001b[1;33m \u001b[0mdataset\u001b[0m \u001b[1;33m=\u001b[0m \u001b[0mdatalab1\u001b[0m\u001b[1;33m[\u001b[0m\u001b[1;33m[\u001b[0m\u001b[0mTARGET\u001b[0m\u001b[1;33m]\u001b[0m \u001b[1;33m+\u001b[0m \u001b[0mselected_features_svr_1\u001b[0m\u001b[1;33m]\u001b[0m\u001b[1;33m.\u001b[0m\u001b[0mjoin\u001b[0m\u001b[1;33m(\u001b[0m\u001b[0mdatalab2\u001b[0m\u001b[1;33m[\u001b[0m\u001b[0mselected_features_svr_2\u001b[0m\u001b[1;33m]\u001b[0m\u001b[1;33m)\u001b[0m\u001b[1;33m.\u001b[0m\u001b[0mjoin\u001b[0m\u001b[1;33m(\u001b[0m\u001b[0mdatalab3\u001b[0m\u001b[1;33m[\u001b[0m\u001b[0mselected_features_svr_3\u001b[0m\u001b[1;33m]\u001b[0m\u001b[1;33m)\u001b[0m\u001b[1;33m\u001b[0m\u001b[1;33m\u001b[0m\u001b[0m\n\u001b[0m\u001b[0;32m      2\u001b[0m \u001b[0mrun_process\u001b[0m\u001b[1;33m(\u001b[0m\u001b[0mdataset\u001b[0m\u001b[1;33m,\u001b[0m\u001b[0mgrid_svr\u001b[0m\u001b[1;33m)\u001b[0m\u001b[1;33m\u001b[0m\u001b[1;33m\u001b[0m\u001b[0m\n",
      "\u001b[1;31mNameError\u001b[0m: name 'datalab1' is not defined"
     ]
    }
   ],
   "source": [
    "dataset = datalab1[[TARGET] + selected_features_svr_1].join(datalab2[selected_features_svr_2]).join(datalab3[selected_features_svr_3])\n",
    "run_process(dataset,grid_svr)"
   ]
  },
  {
   "cell_type": "code",
   "execution_count": 18,
   "metadata": {
    "colab": {
     "base_uri": "https://localhost:8080/"
    },
    "id": "TkCh4vEiP0WN",
    "outputId": "81dcabf2-1d1b-48ca-cd35-4e84f858f25f"
   },
   "outputs": [
    {
     "ename": "NameError",
     "evalue": "name 'datalab1' is not defined",
     "output_type": "error",
     "traceback": [
      "\u001b[1;31m---------------------------------------------------------------------------\u001b[0m",
      "\u001b[1;31mNameError\u001b[0m                                 Traceback (most recent call last)",
      "\u001b[1;32m<ipython-input-18-dadec08574c4>\u001b[0m in \u001b[0;36m<module>\u001b[1;34m\u001b[0m\n\u001b[1;32m----> 1\u001b[1;33m \u001b[0mdataset\u001b[0m \u001b[1;33m=\u001b[0m \u001b[0mdatalab1\u001b[0m\u001b[1;33m[\u001b[0m\u001b[1;33m[\u001b[0m\u001b[0mTARGET\u001b[0m\u001b[1;33m]\u001b[0m \u001b[1;33m+\u001b[0m \u001b[0mselected_features_svr_1\u001b[0m\u001b[1;33m]\u001b[0m\u001b[1;33m.\u001b[0m\u001b[0mjoin\u001b[0m\u001b[1;33m(\u001b[0m\u001b[0mdatalab2\u001b[0m\u001b[1;33m[\u001b[0m\u001b[0mselected_features_svr_2\u001b[0m\u001b[1;33m]\u001b[0m\u001b[1;33m)\u001b[0m\u001b[1;33m.\u001b[0m\u001b[0mjoin\u001b[0m\u001b[1;33m(\u001b[0m\u001b[0mdatalab3\u001b[0m\u001b[1;33m[\u001b[0m\u001b[0mselected_features_svr_3\u001b[0m\u001b[1;33m]\u001b[0m\u001b[1;33m)\u001b[0m\u001b[1;33m\u001b[0m\u001b[1;33m\u001b[0m\u001b[0m\n\u001b[0m\u001b[0;32m      2\u001b[0m \u001b[0mrun_process\u001b[0m\u001b[1;33m(\u001b[0m\u001b[0mdataset\u001b[0m\u001b[1;33m,\u001b[0m\u001b[0mgrid_svr\u001b[0m\u001b[1;33m)\u001b[0m\u001b[1;33m\u001b[0m\u001b[1;33m\u001b[0m\u001b[0m\n",
      "\u001b[1;31mNameError\u001b[0m: name 'datalab1' is not defined"
     ]
    }
   ],
   "source": [
    "dataset = datalab1[[TARGET] + selected_features_svr_1].join(datalab2[selected_features_svr_2]).join(datalab3[selected_features_svr_3])\n",
    "run_process(dataset,grid_svr)"
   ]
  },
  {
   "cell_type": "code",
   "execution_count": 19,
   "metadata": {
    "colab": {
     "base_uri": "https://localhost:8080/"
    },
    "id": "nGAJpyr-P2pj",
    "outputId": "66776254-b495-4f17-f864-0d9e5a4642ea"
   },
   "outputs": [
    {
     "ename": "NameError",
     "evalue": "name 'datalab1' is not defined",
     "output_type": "error",
     "traceback": [
      "\u001b[1;31m---------------------------------------------------------------------------\u001b[0m",
      "\u001b[1;31mNameError\u001b[0m                                 Traceback (most recent call last)",
      "\u001b[1;32m<ipython-input-19-dadec08574c4>\u001b[0m in \u001b[0;36m<module>\u001b[1;34m\u001b[0m\n\u001b[1;32m----> 1\u001b[1;33m \u001b[0mdataset\u001b[0m \u001b[1;33m=\u001b[0m \u001b[0mdatalab1\u001b[0m\u001b[1;33m[\u001b[0m\u001b[1;33m[\u001b[0m\u001b[0mTARGET\u001b[0m\u001b[1;33m]\u001b[0m \u001b[1;33m+\u001b[0m \u001b[0mselected_features_svr_1\u001b[0m\u001b[1;33m]\u001b[0m\u001b[1;33m.\u001b[0m\u001b[0mjoin\u001b[0m\u001b[1;33m(\u001b[0m\u001b[0mdatalab2\u001b[0m\u001b[1;33m[\u001b[0m\u001b[0mselected_features_svr_2\u001b[0m\u001b[1;33m]\u001b[0m\u001b[1;33m)\u001b[0m\u001b[1;33m.\u001b[0m\u001b[0mjoin\u001b[0m\u001b[1;33m(\u001b[0m\u001b[0mdatalab3\u001b[0m\u001b[1;33m[\u001b[0m\u001b[0mselected_features_svr_3\u001b[0m\u001b[1;33m]\u001b[0m\u001b[1;33m)\u001b[0m\u001b[1;33m\u001b[0m\u001b[1;33m\u001b[0m\u001b[0m\n\u001b[0m\u001b[0;32m      2\u001b[0m \u001b[0mrun_process\u001b[0m\u001b[1;33m(\u001b[0m\u001b[0mdataset\u001b[0m\u001b[1;33m,\u001b[0m\u001b[0mgrid_svr\u001b[0m\u001b[1;33m)\u001b[0m\u001b[1;33m\u001b[0m\u001b[1;33m\u001b[0m\u001b[0m\n",
      "\u001b[1;31mNameError\u001b[0m: name 'datalab1' is not defined"
     ]
    }
   ],
   "source": [
    "dataset = datalab1[[TARGET] + selected_features_svr_1].join(datalab2[selected_features_svr_2]).join(datalab3[selected_features_svr_3])\n",
    "run_process(dataset,grid_svr)"
   ]
  },
  {
   "cell_type": "code",
   "execution_count": 20,
   "metadata": {
    "colab": {
     "base_uri": "https://localhost:8080/"
    },
    "id": "AE0AAYfNP4l1",
    "outputId": "b9c235b4-1b29-4e42-9748-805f4fbeeacd"
   },
   "outputs": [
    {
     "ename": "NameError",
     "evalue": "name 'datalab1' is not defined",
     "output_type": "error",
     "traceback": [
      "\u001b[1;31m---------------------------------------------------------------------------\u001b[0m",
      "\u001b[1;31mNameError\u001b[0m                                 Traceback (most recent call last)",
      "\u001b[1;32m<ipython-input-20-dadec08574c4>\u001b[0m in \u001b[0;36m<module>\u001b[1;34m\u001b[0m\n\u001b[1;32m----> 1\u001b[1;33m \u001b[0mdataset\u001b[0m \u001b[1;33m=\u001b[0m \u001b[0mdatalab1\u001b[0m\u001b[1;33m[\u001b[0m\u001b[1;33m[\u001b[0m\u001b[0mTARGET\u001b[0m\u001b[1;33m]\u001b[0m \u001b[1;33m+\u001b[0m \u001b[0mselected_features_svr_1\u001b[0m\u001b[1;33m]\u001b[0m\u001b[1;33m.\u001b[0m\u001b[0mjoin\u001b[0m\u001b[1;33m(\u001b[0m\u001b[0mdatalab2\u001b[0m\u001b[1;33m[\u001b[0m\u001b[0mselected_features_svr_2\u001b[0m\u001b[1;33m]\u001b[0m\u001b[1;33m)\u001b[0m\u001b[1;33m.\u001b[0m\u001b[0mjoin\u001b[0m\u001b[1;33m(\u001b[0m\u001b[0mdatalab3\u001b[0m\u001b[1;33m[\u001b[0m\u001b[0mselected_features_svr_3\u001b[0m\u001b[1;33m]\u001b[0m\u001b[1;33m)\u001b[0m\u001b[1;33m\u001b[0m\u001b[1;33m\u001b[0m\u001b[0m\n\u001b[0m\u001b[0;32m      2\u001b[0m \u001b[0mrun_process\u001b[0m\u001b[1;33m(\u001b[0m\u001b[0mdataset\u001b[0m\u001b[1;33m,\u001b[0m\u001b[0mgrid_svr\u001b[0m\u001b[1;33m)\u001b[0m\u001b[1;33m\u001b[0m\u001b[1;33m\u001b[0m\u001b[0m\n",
      "\u001b[1;31mNameError\u001b[0m: name 'datalab1' is not defined"
     ]
    }
   ],
   "source": [
    "dataset = datalab1[[TARGET] + selected_features_svr_1].join(datalab2[selected_features_svr_2]).join(datalab3[selected_features_svr_3])\n",
    "run_process(dataset,grid_svr)"
   ]
  },
  {
   "cell_type": "code",
   "execution_count": 21,
   "metadata": {
    "colab": {
     "base_uri": "https://localhost:8080/"
    },
    "id": "kGgHuk1pP9w0",
    "outputId": "d40f438e-3d13-4ff8-c915-b17adfbcd9ef"
   },
   "outputs": [
    {
     "ename": "NameError",
     "evalue": "name 'datalab1' is not defined",
     "output_type": "error",
     "traceback": [
      "\u001b[1;31m---------------------------------------------------------------------------\u001b[0m",
      "\u001b[1;31mNameError\u001b[0m                                 Traceback (most recent call last)",
      "\u001b[1;32m<ipython-input-21-dadec08574c4>\u001b[0m in \u001b[0;36m<module>\u001b[1;34m\u001b[0m\n\u001b[1;32m----> 1\u001b[1;33m \u001b[0mdataset\u001b[0m \u001b[1;33m=\u001b[0m \u001b[0mdatalab1\u001b[0m\u001b[1;33m[\u001b[0m\u001b[1;33m[\u001b[0m\u001b[0mTARGET\u001b[0m\u001b[1;33m]\u001b[0m \u001b[1;33m+\u001b[0m \u001b[0mselected_features_svr_1\u001b[0m\u001b[1;33m]\u001b[0m\u001b[1;33m.\u001b[0m\u001b[0mjoin\u001b[0m\u001b[1;33m(\u001b[0m\u001b[0mdatalab2\u001b[0m\u001b[1;33m[\u001b[0m\u001b[0mselected_features_svr_2\u001b[0m\u001b[1;33m]\u001b[0m\u001b[1;33m)\u001b[0m\u001b[1;33m.\u001b[0m\u001b[0mjoin\u001b[0m\u001b[1;33m(\u001b[0m\u001b[0mdatalab3\u001b[0m\u001b[1;33m[\u001b[0m\u001b[0mselected_features_svr_3\u001b[0m\u001b[1;33m]\u001b[0m\u001b[1;33m)\u001b[0m\u001b[1;33m\u001b[0m\u001b[1;33m\u001b[0m\u001b[0m\n\u001b[0m\u001b[0;32m      2\u001b[0m \u001b[0mrun_process\u001b[0m\u001b[1;33m(\u001b[0m\u001b[0mdataset\u001b[0m\u001b[1;33m,\u001b[0m\u001b[0mgrid_svr\u001b[0m\u001b[1;33m)\u001b[0m\u001b[1;33m\u001b[0m\u001b[1;33m\u001b[0m\u001b[0m\n",
      "\u001b[1;31mNameError\u001b[0m: name 'datalab1' is not defined"
     ]
    }
   ],
   "source": [
    "dataset = datalab1[[TARGET] + selected_features_svr_1].join(datalab2[selected_features_svr_2]).join(datalab3[selected_features_svr_3])\n",
    "run_process(dataset,grid_svr)"
   ]
  },
  {
   "cell_type": "code",
   "execution_count": 22,
   "metadata": {
    "colab": {
     "base_uri": "https://localhost:8080/"
    },
    "id": "f3dRkq0iP_JM",
    "outputId": "9a56e98e-5a47-43be-d31e-ecd9ad9a8026"
   },
   "outputs": [
    {
     "ename": "NameError",
     "evalue": "name 'datalab1' is not defined",
     "output_type": "error",
     "traceback": [
      "\u001b[1;31m---------------------------------------------------------------------------\u001b[0m",
      "\u001b[1;31mNameError\u001b[0m                                 Traceback (most recent call last)",
      "\u001b[1;32m<ipython-input-22-dadec08574c4>\u001b[0m in \u001b[0;36m<module>\u001b[1;34m\u001b[0m\n\u001b[1;32m----> 1\u001b[1;33m \u001b[0mdataset\u001b[0m \u001b[1;33m=\u001b[0m \u001b[0mdatalab1\u001b[0m\u001b[1;33m[\u001b[0m\u001b[1;33m[\u001b[0m\u001b[0mTARGET\u001b[0m\u001b[1;33m]\u001b[0m \u001b[1;33m+\u001b[0m \u001b[0mselected_features_svr_1\u001b[0m\u001b[1;33m]\u001b[0m\u001b[1;33m.\u001b[0m\u001b[0mjoin\u001b[0m\u001b[1;33m(\u001b[0m\u001b[0mdatalab2\u001b[0m\u001b[1;33m[\u001b[0m\u001b[0mselected_features_svr_2\u001b[0m\u001b[1;33m]\u001b[0m\u001b[1;33m)\u001b[0m\u001b[1;33m.\u001b[0m\u001b[0mjoin\u001b[0m\u001b[1;33m(\u001b[0m\u001b[0mdatalab3\u001b[0m\u001b[1;33m[\u001b[0m\u001b[0mselected_features_svr_3\u001b[0m\u001b[1;33m]\u001b[0m\u001b[1;33m)\u001b[0m\u001b[1;33m\u001b[0m\u001b[1;33m\u001b[0m\u001b[0m\n\u001b[0m\u001b[0;32m      2\u001b[0m \u001b[0mrun_process\u001b[0m\u001b[1;33m(\u001b[0m\u001b[0mdataset\u001b[0m\u001b[1;33m,\u001b[0m\u001b[0mgrid_svr\u001b[0m\u001b[1;33m)\u001b[0m\u001b[1;33m\u001b[0m\u001b[1;33m\u001b[0m\u001b[0m\n",
      "\u001b[1;31mNameError\u001b[0m: name 'datalab1' is not defined"
     ]
    }
   ],
   "source": [
    "dataset = datalab1[[TARGET] + selected_features_svr_1].join(datalab2[selected_features_svr_2]).join(datalab3[selected_features_svr_3])\n",
    "run_process(dataset,grid_svr)"
   ]
  },
  {
   "cell_type": "code",
   "execution_count": 23,
   "metadata": {
    "colab": {
     "base_uri": "https://localhost:8080/"
    },
    "id": "z2yiONgTQAsA",
    "outputId": "743cad7d-9360-4db4-a74a-fcc38600b258"
   },
   "outputs": [
    {
     "ename": "NameError",
     "evalue": "name 'datalab1' is not defined",
     "output_type": "error",
     "traceback": [
      "\u001b[1;31m---------------------------------------------------------------------------\u001b[0m",
      "\u001b[1;31mNameError\u001b[0m                                 Traceback (most recent call last)",
      "\u001b[1;32m<ipython-input-23-dadec08574c4>\u001b[0m in \u001b[0;36m<module>\u001b[1;34m\u001b[0m\n\u001b[1;32m----> 1\u001b[1;33m \u001b[0mdataset\u001b[0m \u001b[1;33m=\u001b[0m \u001b[0mdatalab1\u001b[0m\u001b[1;33m[\u001b[0m\u001b[1;33m[\u001b[0m\u001b[0mTARGET\u001b[0m\u001b[1;33m]\u001b[0m \u001b[1;33m+\u001b[0m \u001b[0mselected_features_svr_1\u001b[0m\u001b[1;33m]\u001b[0m\u001b[1;33m.\u001b[0m\u001b[0mjoin\u001b[0m\u001b[1;33m(\u001b[0m\u001b[0mdatalab2\u001b[0m\u001b[1;33m[\u001b[0m\u001b[0mselected_features_svr_2\u001b[0m\u001b[1;33m]\u001b[0m\u001b[1;33m)\u001b[0m\u001b[1;33m.\u001b[0m\u001b[0mjoin\u001b[0m\u001b[1;33m(\u001b[0m\u001b[0mdatalab3\u001b[0m\u001b[1;33m[\u001b[0m\u001b[0mselected_features_svr_3\u001b[0m\u001b[1;33m]\u001b[0m\u001b[1;33m)\u001b[0m\u001b[1;33m\u001b[0m\u001b[1;33m\u001b[0m\u001b[0m\n\u001b[0m\u001b[0;32m      2\u001b[0m \u001b[0mrun_process\u001b[0m\u001b[1;33m(\u001b[0m\u001b[0mdataset\u001b[0m\u001b[1;33m,\u001b[0m\u001b[0mgrid_svr\u001b[0m\u001b[1;33m)\u001b[0m\u001b[1;33m\u001b[0m\u001b[1;33m\u001b[0m\u001b[0m\n",
      "\u001b[1;31mNameError\u001b[0m: name 'datalab1' is not defined"
     ]
    }
   ],
   "source": [
    "dataset = datalab1[[TARGET] + selected_features_svr_1].join(datalab2[selected_features_svr_2]).join(datalab3[selected_features_svr_3])\n",
    "run_process(dataset,grid_svr)"
   ]
  },
  {
   "cell_type": "markdown",
   "metadata": {
    "id": "FZly5VsCXAm1"
   },
   "source": [
    "datalab1_2_3_4"
   ]
  },
  {
   "cell_type": "code",
   "execution_count": 24,
   "metadata": {
    "colab": {
     "base_uri": "https://localhost:8080/"
    },
    "id": "tdy_a4Tzev0f",
    "outputId": "397aebb4-7270-44cd-d034-c125faf86181"
   },
   "outputs": [
    {
     "ename": "NameError",
     "evalue": "name 'datalab1' is not defined",
     "output_type": "error",
     "traceback": [
      "\u001b[1;31m---------------------------------------------------------------------------\u001b[0m",
      "\u001b[1;31mNameError\u001b[0m                                 Traceback (most recent call last)",
      "\u001b[1;32m<ipython-input-24-e15b4f516314>\u001b[0m in \u001b[0;36m<module>\u001b[1;34m\u001b[0m\n\u001b[1;32m----> 1\u001b[1;33m \u001b[0mdataset\u001b[0m \u001b[1;33m=\u001b[0m \u001b[0mdatalab1\u001b[0m\u001b[1;33m[\u001b[0m\u001b[1;33m[\u001b[0m\u001b[0mTARGET\u001b[0m\u001b[1;33m]\u001b[0m \u001b[1;33m+\u001b[0m \u001b[0mselected_features_svr_1\u001b[0m\u001b[1;33m]\u001b[0m\u001b[1;33m.\u001b[0m\u001b[0mjoin\u001b[0m\u001b[1;33m(\u001b[0m\u001b[0mdatalab2\u001b[0m\u001b[1;33m[\u001b[0m\u001b[0mselected_features_svr_2\u001b[0m\u001b[1;33m]\u001b[0m\u001b[1;33m)\u001b[0m\u001b[1;33m.\u001b[0m\u001b[0mjoin\u001b[0m\u001b[1;33m(\u001b[0m\u001b[0mdatalab3\u001b[0m\u001b[1;33m[\u001b[0m\u001b[0mselected_features_svr_3\u001b[0m\u001b[1;33m]\u001b[0m\u001b[1;33m)\u001b[0m\u001b[1;33m.\u001b[0m\u001b[0mjoin\u001b[0m\u001b[1;33m(\u001b[0m\u001b[0mdatalab4\u001b[0m\u001b[1;33m[\u001b[0m\u001b[0mselected_features_svr_4\u001b[0m\u001b[1;33m]\u001b[0m\u001b[1;33m)\u001b[0m\u001b[1;33m\u001b[0m\u001b[1;33m\u001b[0m\u001b[0m\n\u001b[0m\u001b[0;32m      2\u001b[0m \u001b[0mrun_process\u001b[0m\u001b[1;33m(\u001b[0m\u001b[0mdataset\u001b[0m\u001b[1;33m,\u001b[0m\u001b[0mgrid_svr\u001b[0m\u001b[1;33m)\u001b[0m\u001b[1;33m\u001b[0m\u001b[1;33m\u001b[0m\u001b[0m\n",
      "\u001b[1;31mNameError\u001b[0m: name 'datalab1' is not defined"
     ]
    }
   ],
   "source": [
    "dataset = datalab1[[TARGET] + selected_features_svr_1].join(datalab2[selected_features_svr_2]).join(datalab3[selected_features_svr_3]).join(datalab4[selected_features_svr_4])\n",
    "run_process(dataset,grid_svr)"
   ]
  },
  {
   "cell_type": "code",
   "execution_count": 25,
   "metadata": {
    "colab": {
     "base_uri": "https://localhost:8080/"
    },
    "id": "g8XtqxZSSw_Q",
    "outputId": "48ba3a14-b8e7-4310-b7be-256809225121"
   },
   "outputs": [
    {
     "ename": "NameError",
     "evalue": "name 'datalab1' is not defined",
     "output_type": "error",
     "traceback": [
      "\u001b[1;31m---------------------------------------------------------------------------\u001b[0m",
      "\u001b[1;31mNameError\u001b[0m                                 Traceback (most recent call last)",
      "\u001b[1;32m<ipython-input-25-e15b4f516314>\u001b[0m in \u001b[0;36m<module>\u001b[1;34m\u001b[0m\n\u001b[1;32m----> 1\u001b[1;33m \u001b[0mdataset\u001b[0m \u001b[1;33m=\u001b[0m \u001b[0mdatalab1\u001b[0m\u001b[1;33m[\u001b[0m\u001b[1;33m[\u001b[0m\u001b[0mTARGET\u001b[0m\u001b[1;33m]\u001b[0m \u001b[1;33m+\u001b[0m \u001b[0mselected_features_svr_1\u001b[0m\u001b[1;33m]\u001b[0m\u001b[1;33m.\u001b[0m\u001b[0mjoin\u001b[0m\u001b[1;33m(\u001b[0m\u001b[0mdatalab2\u001b[0m\u001b[1;33m[\u001b[0m\u001b[0mselected_features_svr_2\u001b[0m\u001b[1;33m]\u001b[0m\u001b[1;33m)\u001b[0m\u001b[1;33m.\u001b[0m\u001b[0mjoin\u001b[0m\u001b[1;33m(\u001b[0m\u001b[0mdatalab3\u001b[0m\u001b[1;33m[\u001b[0m\u001b[0mselected_features_svr_3\u001b[0m\u001b[1;33m]\u001b[0m\u001b[1;33m)\u001b[0m\u001b[1;33m.\u001b[0m\u001b[0mjoin\u001b[0m\u001b[1;33m(\u001b[0m\u001b[0mdatalab4\u001b[0m\u001b[1;33m[\u001b[0m\u001b[0mselected_features_svr_4\u001b[0m\u001b[1;33m]\u001b[0m\u001b[1;33m)\u001b[0m\u001b[1;33m\u001b[0m\u001b[1;33m\u001b[0m\u001b[0m\n\u001b[0m\u001b[0;32m      2\u001b[0m \u001b[0mrun_process\u001b[0m\u001b[1;33m(\u001b[0m\u001b[0mdataset\u001b[0m\u001b[1;33m,\u001b[0m\u001b[0mgrid_svr\u001b[0m\u001b[1;33m)\u001b[0m\u001b[1;33m\u001b[0m\u001b[1;33m\u001b[0m\u001b[0m\n",
      "\u001b[1;31mNameError\u001b[0m: name 'datalab1' is not defined"
     ]
    }
   ],
   "source": [
    "dataset = datalab1[[TARGET] + selected_features_svr_1].join(datalab2[selected_features_svr_2]).join(datalab3[selected_features_svr_3]).join(datalab4[selected_features_svr_4])\n",
    "run_process(dataset,grid_svr)"
   ]
  },
  {
   "cell_type": "code",
   "execution_count": 26,
   "metadata": {
    "colab": {
     "base_uri": "https://localhost:8080/"
    },
    "id": "pLT4BFsASyZp",
    "outputId": "486aa174-5369-4f4a-f560-cf9301e1f337"
   },
   "outputs": [
    {
     "ename": "NameError",
     "evalue": "name 'datalab1' is not defined",
     "output_type": "error",
     "traceback": [
      "\u001b[1;31m---------------------------------------------------------------------------\u001b[0m",
      "\u001b[1;31mNameError\u001b[0m                                 Traceback (most recent call last)",
      "\u001b[1;32m<ipython-input-26-e15b4f516314>\u001b[0m in \u001b[0;36m<module>\u001b[1;34m\u001b[0m\n\u001b[1;32m----> 1\u001b[1;33m \u001b[0mdataset\u001b[0m \u001b[1;33m=\u001b[0m \u001b[0mdatalab1\u001b[0m\u001b[1;33m[\u001b[0m\u001b[1;33m[\u001b[0m\u001b[0mTARGET\u001b[0m\u001b[1;33m]\u001b[0m \u001b[1;33m+\u001b[0m \u001b[0mselected_features_svr_1\u001b[0m\u001b[1;33m]\u001b[0m\u001b[1;33m.\u001b[0m\u001b[0mjoin\u001b[0m\u001b[1;33m(\u001b[0m\u001b[0mdatalab2\u001b[0m\u001b[1;33m[\u001b[0m\u001b[0mselected_features_svr_2\u001b[0m\u001b[1;33m]\u001b[0m\u001b[1;33m)\u001b[0m\u001b[1;33m.\u001b[0m\u001b[0mjoin\u001b[0m\u001b[1;33m(\u001b[0m\u001b[0mdatalab3\u001b[0m\u001b[1;33m[\u001b[0m\u001b[0mselected_features_svr_3\u001b[0m\u001b[1;33m]\u001b[0m\u001b[1;33m)\u001b[0m\u001b[1;33m.\u001b[0m\u001b[0mjoin\u001b[0m\u001b[1;33m(\u001b[0m\u001b[0mdatalab4\u001b[0m\u001b[1;33m[\u001b[0m\u001b[0mselected_features_svr_4\u001b[0m\u001b[1;33m]\u001b[0m\u001b[1;33m)\u001b[0m\u001b[1;33m\u001b[0m\u001b[1;33m\u001b[0m\u001b[0m\n\u001b[0m\u001b[0;32m      2\u001b[0m \u001b[0mrun_process\u001b[0m\u001b[1;33m(\u001b[0m\u001b[0mdataset\u001b[0m\u001b[1;33m,\u001b[0m\u001b[0mgrid_svr\u001b[0m\u001b[1;33m)\u001b[0m\u001b[1;33m\u001b[0m\u001b[1;33m\u001b[0m\u001b[0m\n",
      "\u001b[1;31mNameError\u001b[0m: name 'datalab1' is not defined"
     ]
    }
   ],
   "source": [
    "dataset = datalab1[[TARGET] + selected_features_svr_1].join(datalab2[selected_features_svr_2]).join(datalab3[selected_features_svr_3]).join(datalab4[selected_features_svr_4])\n",
    "run_process(dataset,grid_svr)"
   ]
  },
  {
   "cell_type": "code",
   "execution_count": 27,
   "metadata": {
    "colab": {
     "base_uri": "https://localhost:8080/"
    },
    "id": "8_iyQTu4SzD6",
    "outputId": "7cd455d8-c155-4092-eece-730f464ed186"
   },
   "outputs": [
    {
     "ename": "NameError",
     "evalue": "name 'datalab1' is not defined",
     "output_type": "error",
     "traceback": [
      "\u001b[1;31m---------------------------------------------------------------------------\u001b[0m",
      "\u001b[1;31mNameError\u001b[0m                                 Traceback (most recent call last)",
      "\u001b[1;32m<ipython-input-27-e15b4f516314>\u001b[0m in \u001b[0;36m<module>\u001b[1;34m\u001b[0m\n\u001b[1;32m----> 1\u001b[1;33m \u001b[0mdataset\u001b[0m \u001b[1;33m=\u001b[0m \u001b[0mdatalab1\u001b[0m\u001b[1;33m[\u001b[0m\u001b[1;33m[\u001b[0m\u001b[0mTARGET\u001b[0m\u001b[1;33m]\u001b[0m \u001b[1;33m+\u001b[0m \u001b[0mselected_features_svr_1\u001b[0m\u001b[1;33m]\u001b[0m\u001b[1;33m.\u001b[0m\u001b[0mjoin\u001b[0m\u001b[1;33m(\u001b[0m\u001b[0mdatalab2\u001b[0m\u001b[1;33m[\u001b[0m\u001b[0mselected_features_svr_2\u001b[0m\u001b[1;33m]\u001b[0m\u001b[1;33m)\u001b[0m\u001b[1;33m.\u001b[0m\u001b[0mjoin\u001b[0m\u001b[1;33m(\u001b[0m\u001b[0mdatalab3\u001b[0m\u001b[1;33m[\u001b[0m\u001b[0mselected_features_svr_3\u001b[0m\u001b[1;33m]\u001b[0m\u001b[1;33m)\u001b[0m\u001b[1;33m.\u001b[0m\u001b[0mjoin\u001b[0m\u001b[1;33m(\u001b[0m\u001b[0mdatalab4\u001b[0m\u001b[1;33m[\u001b[0m\u001b[0mselected_features_svr_4\u001b[0m\u001b[1;33m]\u001b[0m\u001b[1;33m)\u001b[0m\u001b[1;33m\u001b[0m\u001b[1;33m\u001b[0m\u001b[0m\n\u001b[0m\u001b[0;32m      2\u001b[0m \u001b[0mrun_process\u001b[0m\u001b[1;33m(\u001b[0m\u001b[0mdataset\u001b[0m\u001b[1;33m,\u001b[0m\u001b[0mgrid_svr\u001b[0m\u001b[1;33m)\u001b[0m\u001b[1;33m\u001b[0m\u001b[1;33m\u001b[0m\u001b[0m\n",
      "\u001b[1;31mNameError\u001b[0m: name 'datalab1' is not defined"
     ]
    }
   ],
   "source": [
    "dataset = datalab1[[TARGET] + selected_features_svr_1].join(datalab2[selected_features_svr_2]).join(datalab3[selected_features_svr_3]).join(datalab4[selected_features_svr_4])\n",
    "run_process(dataset,grid_svr)"
   ]
  },
  {
   "cell_type": "code",
   "execution_count": 28,
   "metadata": {
    "colab": {
     "base_uri": "https://localhost:8080/"
    },
    "id": "EZ7-16VVSznU",
    "outputId": "695cfd8b-5a33-4754-8c76-42832121f4f1"
   },
   "outputs": [
    {
     "ename": "NameError",
     "evalue": "name 'datalab1' is not defined",
     "output_type": "error",
     "traceback": [
      "\u001b[1;31m---------------------------------------------------------------------------\u001b[0m",
      "\u001b[1;31mNameError\u001b[0m                                 Traceback (most recent call last)",
      "\u001b[1;32m<ipython-input-28-e15b4f516314>\u001b[0m in \u001b[0;36m<module>\u001b[1;34m\u001b[0m\n\u001b[1;32m----> 1\u001b[1;33m \u001b[0mdataset\u001b[0m \u001b[1;33m=\u001b[0m \u001b[0mdatalab1\u001b[0m\u001b[1;33m[\u001b[0m\u001b[1;33m[\u001b[0m\u001b[0mTARGET\u001b[0m\u001b[1;33m]\u001b[0m \u001b[1;33m+\u001b[0m \u001b[0mselected_features_svr_1\u001b[0m\u001b[1;33m]\u001b[0m\u001b[1;33m.\u001b[0m\u001b[0mjoin\u001b[0m\u001b[1;33m(\u001b[0m\u001b[0mdatalab2\u001b[0m\u001b[1;33m[\u001b[0m\u001b[0mselected_features_svr_2\u001b[0m\u001b[1;33m]\u001b[0m\u001b[1;33m)\u001b[0m\u001b[1;33m.\u001b[0m\u001b[0mjoin\u001b[0m\u001b[1;33m(\u001b[0m\u001b[0mdatalab3\u001b[0m\u001b[1;33m[\u001b[0m\u001b[0mselected_features_svr_3\u001b[0m\u001b[1;33m]\u001b[0m\u001b[1;33m)\u001b[0m\u001b[1;33m.\u001b[0m\u001b[0mjoin\u001b[0m\u001b[1;33m(\u001b[0m\u001b[0mdatalab4\u001b[0m\u001b[1;33m[\u001b[0m\u001b[0mselected_features_svr_4\u001b[0m\u001b[1;33m]\u001b[0m\u001b[1;33m)\u001b[0m\u001b[1;33m\u001b[0m\u001b[1;33m\u001b[0m\u001b[0m\n\u001b[0m\u001b[0;32m      2\u001b[0m \u001b[0mrun_process\u001b[0m\u001b[1;33m(\u001b[0m\u001b[0mdataset\u001b[0m\u001b[1;33m,\u001b[0m\u001b[0mgrid_svr\u001b[0m\u001b[1;33m)\u001b[0m\u001b[1;33m\u001b[0m\u001b[1;33m\u001b[0m\u001b[0m\n",
      "\u001b[1;31mNameError\u001b[0m: name 'datalab1' is not defined"
     ]
    }
   ],
   "source": [
    "dataset = datalab1[[TARGET] + selected_features_svr_1].join(datalab2[selected_features_svr_2]).join(datalab3[selected_features_svr_3]).join(datalab4[selected_features_svr_4])\n",
    "run_process(dataset,grid_svr)"
   ]
  },
  {
   "cell_type": "code",
   "execution_count": 29,
   "metadata": {
    "colab": {
     "base_uri": "https://localhost:8080/"
    },
    "id": "9yEnQNQdS0No",
    "outputId": "af009a81-246c-4398-b5b3-54cdad27b93b"
   },
   "outputs": [
    {
     "ename": "NameError",
     "evalue": "name 'datalab1' is not defined",
     "output_type": "error",
     "traceback": [
      "\u001b[1;31m---------------------------------------------------------------------------\u001b[0m",
      "\u001b[1;31mNameError\u001b[0m                                 Traceback (most recent call last)",
      "\u001b[1;32m<ipython-input-29-e15b4f516314>\u001b[0m in \u001b[0;36m<module>\u001b[1;34m\u001b[0m\n\u001b[1;32m----> 1\u001b[1;33m \u001b[0mdataset\u001b[0m \u001b[1;33m=\u001b[0m \u001b[0mdatalab1\u001b[0m\u001b[1;33m[\u001b[0m\u001b[1;33m[\u001b[0m\u001b[0mTARGET\u001b[0m\u001b[1;33m]\u001b[0m \u001b[1;33m+\u001b[0m \u001b[0mselected_features_svr_1\u001b[0m\u001b[1;33m]\u001b[0m\u001b[1;33m.\u001b[0m\u001b[0mjoin\u001b[0m\u001b[1;33m(\u001b[0m\u001b[0mdatalab2\u001b[0m\u001b[1;33m[\u001b[0m\u001b[0mselected_features_svr_2\u001b[0m\u001b[1;33m]\u001b[0m\u001b[1;33m)\u001b[0m\u001b[1;33m.\u001b[0m\u001b[0mjoin\u001b[0m\u001b[1;33m(\u001b[0m\u001b[0mdatalab3\u001b[0m\u001b[1;33m[\u001b[0m\u001b[0mselected_features_svr_3\u001b[0m\u001b[1;33m]\u001b[0m\u001b[1;33m)\u001b[0m\u001b[1;33m.\u001b[0m\u001b[0mjoin\u001b[0m\u001b[1;33m(\u001b[0m\u001b[0mdatalab4\u001b[0m\u001b[1;33m[\u001b[0m\u001b[0mselected_features_svr_4\u001b[0m\u001b[1;33m]\u001b[0m\u001b[1;33m)\u001b[0m\u001b[1;33m\u001b[0m\u001b[1;33m\u001b[0m\u001b[0m\n\u001b[0m\u001b[0;32m      2\u001b[0m \u001b[0mrun_process\u001b[0m\u001b[1;33m(\u001b[0m\u001b[0mdataset\u001b[0m\u001b[1;33m,\u001b[0m\u001b[0mgrid_svr\u001b[0m\u001b[1;33m)\u001b[0m\u001b[1;33m\u001b[0m\u001b[1;33m\u001b[0m\u001b[0m\n",
      "\u001b[1;31mNameError\u001b[0m: name 'datalab1' is not defined"
     ]
    }
   ],
   "source": [
    "dataset = datalab1[[TARGET] + selected_features_svr_1].join(datalab2[selected_features_svr_2]).join(datalab3[selected_features_svr_3]).join(datalab4[selected_features_svr_4])\n",
    "run_process(dataset,grid_svr)"
   ]
  },
  {
   "cell_type": "code",
   "execution_count": 30,
   "metadata": {
    "colab": {
     "base_uri": "https://localhost:8080/"
    },
    "id": "CVaD4vtyS0zn",
    "outputId": "d1fc6a9a-c204-4f93-8f49-2dda3ddac101"
   },
   "outputs": [
    {
     "ename": "NameError",
     "evalue": "name 'datalab1' is not defined",
     "output_type": "error",
     "traceback": [
      "\u001b[1;31m---------------------------------------------------------------------------\u001b[0m",
      "\u001b[1;31mNameError\u001b[0m                                 Traceback (most recent call last)",
      "\u001b[1;32m<ipython-input-30-e15b4f516314>\u001b[0m in \u001b[0;36m<module>\u001b[1;34m\u001b[0m\n\u001b[1;32m----> 1\u001b[1;33m \u001b[0mdataset\u001b[0m \u001b[1;33m=\u001b[0m \u001b[0mdatalab1\u001b[0m\u001b[1;33m[\u001b[0m\u001b[1;33m[\u001b[0m\u001b[0mTARGET\u001b[0m\u001b[1;33m]\u001b[0m \u001b[1;33m+\u001b[0m \u001b[0mselected_features_svr_1\u001b[0m\u001b[1;33m]\u001b[0m\u001b[1;33m.\u001b[0m\u001b[0mjoin\u001b[0m\u001b[1;33m(\u001b[0m\u001b[0mdatalab2\u001b[0m\u001b[1;33m[\u001b[0m\u001b[0mselected_features_svr_2\u001b[0m\u001b[1;33m]\u001b[0m\u001b[1;33m)\u001b[0m\u001b[1;33m.\u001b[0m\u001b[0mjoin\u001b[0m\u001b[1;33m(\u001b[0m\u001b[0mdatalab3\u001b[0m\u001b[1;33m[\u001b[0m\u001b[0mselected_features_svr_3\u001b[0m\u001b[1;33m]\u001b[0m\u001b[1;33m)\u001b[0m\u001b[1;33m.\u001b[0m\u001b[0mjoin\u001b[0m\u001b[1;33m(\u001b[0m\u001b[0mdatalab4\u001b[0m\u001b[1;33m[\u001b[0m\u001b[0mselected_features_svr_4\u001b[0m\u001b[1;33m]\u001b[0m\u001b[1;33m)\u001b[0m\u001b[1;33m\u001b[0m\u001b[1;33m\u001b[0m\u001b[0m\n\u001b[0m\u001b[0;32m      2\u001b[0m \u001b[0mrun_process\u001b[0m\u001b[1;33m(\u001b[0m\u001b[0mdataset\u001b[0m\u001b[1;33m,\u001b[0m\u001b[0mgrid_svr\u001b[0m\u001b[1;33m)\u001b[0m\u001b[1;33m\u001b[0m\u001b[1;33m\u001b[0m\u001b[0m\n",
      "\u001b[1;31mNameError\u001b[0m: name 'datalab1' is not defined"
     ]
    }
   ],
   "source": [
    "dataset = datalab1[[TARGET] + selected_features_svr_1].join(datalab2[selected_features_svr_2]).join(datalab3[selected_features_svr_3]).join(datalab4[selected_features_svr_4])\n",
    "run_process(dataset,grid_svr)"
   ]
  },
  {
   "cell_type": "code",
   "execution_count": 31,
   "metadata": {
    "colab": {
     "base_uri": "https://localhost:8080/"
    },
    "id": "Z65xPZsSS1SQ",
    "outputId": "ed755199-021e-4bc2-ca76-0a2a53cb0d55"
   },
   "outputs": [
    {
     "ename": "NameError",
     "evalue": "name 'datalab1' is not defined",
     "output_type": "error",
     "traceback": [
      "\u001b[1;31m---------------------------------------------------------------------------\u001b[0m",
      "\u001b[1;31mNameError\u001b[0m                                 Traceback (most recent call last)",
      "\u001b[1;32m<ipython-input-31-e15b4f516314>\u001b[0m in \u001b[0;36m<module>\u001b[1;34m\u001b[0m\n\u001b[1;32m----> 1\u001b[1;33m \u001b[0mdataset\u001b[0m \u001b[1;33m=\u001b[0m \u001b[0mdatalab1\u001b[0m\u001b[1;33m[\u001b[0m\u001b[1;33m[\u001b[0m\u001b[0mTARGET\u001b[0m\u001b[1;33m]\u001b[0m \u001b[1;33m+\u001b[0m \u001b[0mselected_features_svr_1\u001b[0m\u001b[1;33m]\u001b[0m\u001b[1;33m.\u001b[0m\u001b[0mjoin\u001b[0m\u001b[1;33m(\u001b[0m\u001b[0mdatalab2\u001b[0m\u001b[1;33m[\u001b[0m\u001b[0mselected_features_svr_2\u001b[0m\u001b[1;33m]\u001b[0m\u001b[1;33m)\u001b[0m\u001b[1;33m.\u001b[0m\u001b[0mjoin\u001b[0m\u001b[1;33m(\u001b[0m\u001b[0mdatalab3\u001b[0m\u001b[1;33m[\u001b[0m\u001b[0mselected_features_svr_3\u001b[0m\u001b[1;33m]\u001b[0m\u001b[1;33m)\u001b[0m\u001b[1;33m.\u001b[0m\u001b[0mjoin\u001b[0m\u001b[1;33m(\u001b[0m\u001b[0mdatalab4\u001b[0m\u001b[1;33m[\u001b[0m\u001b[0mselected_features_svr_4\u001b[0m\u001b[1;33m]\u001b[0m\u001b[1;33m)\u001b[0m\u001b[1;33m\u001b[0m\u001b[1;33m\u001b[0m\u001b[0m\n\u001b[0m\u001b[0;32m      2\u001b[0m \u001b[0mrun_process\u001b[0m\u001b[1;33m(\u001b[0m\u001b[0mdataset\u001b[0m\u001b[1;33m,\u001b[0m\u001b[0mgrid_svr\u001b[0m\u001b[1;33m)\u001b[0m\u001b[1;33m\u001b[0m\u001b[1;33m\u001b[0m\u001b[0m\n",
      "\u001b[1;31mNameError\u001b[0m: name 'datalab1' is not defined"
     ]
    }
   ],
   "source": [
    "dataset = datalab1[[TARGET] + selected_features_svr_1].join(datalab2[selected_features_svr_2]).join(datalab3[selected_features_svr_3]).join(datalab4[selected_features_svr_4])\n",
    "run_process(dataset,grid_svr)"
   ]
  },
  {
   "cell_type": "code",
   "execution_count": 32,
   "metadata": {
    "colab": {
     "base_uri": "https://localhost:8080/"
    },
    "id": "aoc9n_IsS1wg",
    "outputId": "a4d57546-ee42-4481-ce80-70d4f121459a"
   },
   "outputs": [
    {
     "ename": "NameError",
     "evalue": "name 'datalab1' is not defined",
     "output_type": "error",
     "traceback": [
      "\u001b[1;31m---------------------------------------------------------------------------\u001b[0m",
      "\u001b[1;31mNameError\u001b[0m                                 Traceback (most recent call last)",
      "\u001b[1;32m<ipython-input-32-e15b4f516314>\u001b[0m in \u001b[0;36m<module>\u001b[1;34m\u001b[0m\n\u001b[1;32m----> 1\u001b[1;33m \u001b[0mdataset\u001b[0m \u001b[1;33m=\u001b[0m \u001b[0mdatalab1\u001b[0m\u001b[1;33m[\u001b[0m\u001b[1;33m[\u001b[0m\u001b[0mTARGET\u001b[0m\u001b[1;33m]\u001b[0m \u001b[1;33m+\u001b[0m \u001b[0mselected_features_svr_1\u001b[0m\u001b[1;33m]\u001b[0m\u001b[1;33m.\u001b[0m\u001b[0mjoin\u001b[0m\u001b[1;33m(\u001b[0m\u001b[0mdatalab2\u001b[0m\u001b[1;33m[\u001b[0m\u001b[0mselected_features_svr_2\u001b[0m\u001b[1;33m]\u001b[0m\u001b[1;33m)\u001b[0m\u001b[1;33m.\u001b[0m\u001b[0mjoin\u001b[0m\u001b[1;33m(\u001b[0m\u001b[0mdatalab3\u001b[0m\u001b[1;33m[\u001b[0m\u001b[0mselected_features_svr_3\u001b[0m\u001b[1;33m]\u001b[0m\u001b[1;33m)\u001b[0m\u001b[1;33m.\u001b[0m\u001b[0mjoin\u001b[0m\u001b[1;33m(\u001b[0m\u001b[0mdatalab4\u001b[0m\u001b[1;33m[\u001b[0m\u001b[0mselected_features_svr_4\u001b[0m\u001b[1;33m]\u001b[0m\u001b[1;33m)\u001b[0m\u001b[1;33m\u001b[0m\u001b[1;33m\u001b[0m\u001b[0m\n\u001b[0m\u001b[0;32m      2\u001b[0m \u001b[0mrun_process\u001b[0m\u001b[1;33m(\u001b[0m\u001b[0mdataset\u001b[0m\u001b[1;33m,\u001b[0m\u001b[0mgrid_svr\u001b[0m\u001b[1;33m)\u001b[0m\u001b[1;33m\u001b[0m\u001b[1;33m\u001b[0m\u001b[0m\n",
      "\u001b[1;31mNameError\u001b[0m: name 'datalab1' is not defined"
     ]
    }
   ],
   "source": [
    "dataset = datalab1[[TARGET] + selected_features_svr_1].join(datalab2[selected_features_svr_2]).join(datalab3[selected_features_svr_3]).join(datalab4[selected_features_svr_4])\n",
    "run_process(dataset,grid_svr)"
   ]
  },
  {
   "cell_type": "code",
   "execution_count": 33,
   "metadata": {
    "colab": {
     "base_uri": "https://localhost:8080/"
    },
    "id": "Tl_7nv-ES2Nb",
    "outputId": "922ffd84-daa0-4cfe-fb97-66d707ca66fc"
   },
   "outputs": [
    {
     "ename": "NameError",
     "evalue": "name 'datalab1' is not defined",
     "output_type": "error",
     "traceback": [
      "\u001b[1;31m---------------------------------------------------------------------------\u001b[0m",
      "\u001b[1;31mNameError\u001b[0m                                 Traceback (most recent call last)",
      "\u001b[1;32m<ipython-input-33-e15b4f516314>\u001b[0m in \u001b[0;36m<module>\u001b[1;34m\u001b[0m\n\u001b[1;32m----> 1\u001b[1;33m \u001b[0mdataset\u001b[0m \u001b[1;33m=\u001b[0m \u001b[0mdatalab1\u001b[0m\u001b[1;33m[\u001b[0m\u001b[1;33m[\u001b[0m\u001b[0mTARGET\u001b[0m\u001b[1;33m]\u001b[0m \u001b[1;33m+\u001b[0m \u001b[0mselected_features_svr_1\u001b[0m\u001b[1;33m]\u001b[0m\u001b[1;33m.\u001b[0m\u001b[0mjoin\u001b[0m\u001b[1;33m(\u001b[0m\u001b[0mdatalab2\u001b[0m\u001b[1;33m[\u001b[0m\u001b[0mselected_features_svr_2\u001b[0m\u001b[1;33m]\u001b[0m\u001b[1;33m)\u001b[0m\u001b[1;33m.\u001b[0m\u001b[0mjoin\u001b[0m\u001b[1;33m(\u001b[0m\u001b[0mdatalab3\u001b[0m\u001b[1;33m[\u001b[0m\u001b[0mselected_features_svr_3\u001b[0m\u001b[1;33m]\u001b[0m\u001b[1;33m)\u001b[0m\u001b[1;33m.\u001b[0m\u001b[0mjoin\u001b[0m\u001b[1;33m(\u001b[0m\u001b[0mdatalab4\u001b[0m\u001b[1;33m[\u001b[0m\u001b[0mselected_features_svr_4\u001b[0m\u001b[1;33m]\u001b[0m\u001b[1;33m)\u001b[0m\u001b[1;33m\u001b[0m\u001b[1;33m\u001b[0m\u001b[0m\n\u001b[0m\u001b[0;32m      2\u001b[0m \u001b[0mrun_process\u001b[0m\u001b[1;33m(\u001b[0m\u001b[0mdataset\u001b[0m\u001b[1;33m,\u001b[0m\u001b[0mgrid_svr\u001b[0m\u001b[1;33m)\u001b[0m\u001b[1;33m\u001b[0m\u001b[1;33m\u001b[0m\u001b[0m\n",
      "\u001b[1;31mNameError\u001b[0m: name 'datalab1' is not defined"
     ]
    }
   ],
   "source": [
    "dataset = datalab1[[TARGET] + selected_features_svr_1].join(datalab2[selected_features_svr_2]).join(datalab3[selected_features_svr_3]).join(datalab4[selected_features_svr_4])\n",
    "run_process(dataset,grid_svr)"
   ]
  },
  {
   "cell_type": "markdown",
   "metadata": {
    "id": "MCozIOxLBobg"
   },
   "source": [
    "\n",
    "\n",
    "---\n",
    "\n"
   ]
  },
  {
   "cell_type": "code",
   "execution_count": 34,
   "metadata": {
    "colab": {
     "base_uri": "https://localhost:8080/"
    },
    "id": "irizhHgYar4d",
    "outputId": "0c44e938-8bf6-4c7d-d02f-b5fb2c2ac732"
   },
   "outputs": [
    {
     "ename": "NameError",
     "evalue": "name 'datalab1' is not defined",
     "output_type": "error",
     "traceback": [
      "\u001b[1;31m---------------------------------------------------------------------------\u001b[0m",
      "\u001b[1;31mNameError\u001b[0m                                 Traceback (most recent call last)",
      "\u001b[1;32m<ipython-input-34-e15b4f516314>\u001b[0m in \u001b[0;36m<module>\u001b[1;34m\u001b[0m\n\u001b[1;32m----> 1\u001b[1;33m \u001b[0mdataset\u001b[0m \u001b[1;33m=\u001b[0m \u001b[0mdatalab1\u001b[0m\u001b[1;33m[\u001b[0m\u001b[1;33m[\u001b[0m\u001b[0mTARGET\u001b[0m\u001b[1;33m]\u001b[0m \u001b[1;33m+\u001b[0m \u001b[0mselected_features_svr_1\u001b[0m\u001b[1;33m]\u001b[0m\u001b[1;33m.\u001b[0m\u001b[0mjoin\u001b[0m\u001b[1;33m(\u001b[0m\u001b[0mdatalab2\u001b[0m\u001b[1;33m[\u001b[0m\u001b[0mselected_features_svr_2\u001b[0m\u001b[1;33m]\u001b[0m\u001b[1;33m)\u001b[0m\u001b[1;33m.\u001b[0m\u001b[0mjoin\u001b[0m\u001b[1;33m(\u001b[0m\u001b[0mdatalab3\u001b[0m\u001b[1;33m[\u001b[0m\u001b[0mselected_features_svr_3\u001b[0m\u001b[1;33m]\u001b[0m\u001b[1;33m)\u001b[0m\u001b[1;33m.\u001b[0m\u001b[0mjoin\u001b[0m\u001b[1;33m(\u001b[0m\u001b[0mdatalab4\u001b[0m\u001b[1;33m[\u001b[0m\u001b[0mselected_features_svr_4\u001b[0m\u001b[1;33m]\u001b[0m\u001b[1;33m)\u001b[0m\u001b[1;33m\u001b[0m\u001b[1;33m\u001b[0m\u001b[0m\n\u001b[0m\u001b[0;32m      2\u001b[0m \u001b[0mrun_process\u001b[0m\u001b[1;33m(\u001b[0m\u001b[0mdataset\u001b[0m\u001b[1;33m,\u001b[0m\u001b[0mgrid_svr\u001b[0m\u001b[1;33m)\u001b[0m\u001b[1;33m\u001b[0m\u001b[1;33m\u001b[0m\u001b[0m\n",
      "\u001b[1;31mNameError\u001b[0m: name 'datalab1' is not defined"
     ]
    }
   ],
   "source": [
    "dataset = datalab1[[TARGET] + selected_features_svr_1].join(datalab2[selected_features_svr_2]).join(datalab3[selected_features_svr_3]).join(datalab4[selected_features_svr_4])\n",
    "run_process(dataset,grid_svr)"
   ]
  },
  {
   "cell_type": "markdown",
   "metadata": {
    "id": "RdBSUr-IBp-t"
   },
   "source": [
    "Plots"
   ]
  },
  {
   "cell_type": "code",
   "execution_count": 35,
   "metadata": {
    "colab": {
     "base_uri": "https://localhost:8080/",
     "height": 297
    },
    "id": "onmkmS7-6ac1",
    "outputId": "5cabf760-d657-40ce-dacc-c2f00de73022"
   },
   "outputs": [
    {
     "ename": "NameError",
     "evalue": "name 'datalab1' is not defined",
     "output_type": "error",
     "traceback": [
      "\u001b[1;31m---------------------------------------------------------------------------\u001b[0m",
      "\u001b[1;31mNameError\u001b[0m                                 Traceback (most recent call last)",
      "\u001b[1;32m<ipython-input-35-d203e23bb185>\u001b[0m in \u001b[0;36m<module>\u001b[1;34m\u001b[0m\n\u001b[1;32m----> 1\u001b[1;33m \u001b[0mdataset\u001b[0m \u001b[1;33m=\u001b[0m \u001b[0mdatalab1\u001b[0m\u001b[1;33m[\u001b[0m\u001b[1;33m[\u001b[0m\u001b[0mTARGET\u001b[0m\u001b[1;33m]\u001b[0m \u001b[1;33m+\u001b[0m \u001b[0mselected_features_svr_1\u001b[0m\u001b[1;33m]\u001b[0m\u001b[1;33m.\u001b[0m\u001b[0mjoin\u001b[0m\u001b[1;33m(\u001b[0m\u001b[0mdatalab2\u001b[0m\u001b[1;33m[\u001b[0m\u001b[0mselected_features_svr_2\u001b[0m\u001b[1;33m]\u001b[0m\u001b[1;33m)\u001b[0m\u001b[1;33m.\u001b[0m\u001b[0mjoin\u001b[0m\u001b[1;33m(\u001b[0m\u001b[0mdatalab3\u001b[0m\u001b[1;33m[\u001b[0m\u001b[0mselected_features_svr_3\u001b[0m\u001b[1;33m]\u001b[0m\u001b[1;33m)\u001b[0m\u001b[1;33m.\u001b[0m\u001b[0mjoin\u001b[0m\u001b[1;33m(\u001b[0m\u001b[0mdatalab4\u001b[0m\u001b[1;33m[\u001b[0m\u001b[0mselected_features_svr_4\u001b[0m\u001b[1;33m]\u001b[0m\u001b[1;33m)\u001b[0m\u001b[1;33m\u001b[0m\u001b[1;33m\u001b[0m\u001b[0m\n\u001b[0m\u001b[0;32m      2\u001b[0m \u001b[0mX\u001b[0m\u001b[1;33m,\u001b[0m \u001b[0my\u001b[0m \u001b[1;33m=\u001b[0m \u001b[0mdataset\u001b[0m\u001b[1;33m.\u001b[0m\u001b[0mdrop\u001b[0m\u001b[1;33m(\u001b[0m\u001b[0mTARGET\u001b[0m\u001b[1;33m,\u001b[0m \u001b[0maxis\u001b[0m\u001b[1;33m=\u001b[0m\u001b[1;36m1\u001b[0m\u001b[1;33m)\u001b[0m\u001b[1;33m,\u001b[0m \u001b[0mnp\u001b[0m\u001b[1;33m.\u001b[0m\u001b[0marray\u001b[0m\u001b[1;33m(\u001b[0m\u001b[0mdataset\u001b[0m\u001b[1;33m[\u001b[0m\u001b[0mTARGET\u001b[0m\u001b[1;33m]\u001b[0m\u001b[1;33m)\u001b[0m\u001b[1;33m\u001b[0m\u001b[1;33m\u001b[0m\u001b[0m\n\u001b[0;32m      3\u001b[0m \u001b[0mX_train\u001b[0m\u001b[1;33m,\u001b[0m \u001b[0mX_test\u001b[0m\u001b[1;33m,\u001b[0m \u001b[0my_train\u001b[0m\u001b[1;33m,\u001b[0m \u001b[0my_test\u001b[0m \u001b[1;33m=\u001b[0m \u001b[0mtrain_test_split\u001b[0m\u001b[1;33m(\u001b[0m\u001b[0mX\u001b[0m\u001b[1;33m,\u001b[0m \u001b[0my\u001b[0m\u001b[1;33m,\u001b[0m \u001b[0mtest_size\u001b[0m\u001b[1;33m=\u001b[0m\u001b[1;36m0.33\u001b[0m\u001b[1;33m)\u001b[0m\u001b[1;33m\u001b[0m\u001b[1;33m\u001b[0m\u001b[0m\n\u001b[0;32m      4\u001b[0m \u001b[1;33m\u001b[0m\u001b[0m\n\u001b[0;32m      5\u001b[0m \u001b[0my_pred\u001b[0m \u001b[1;33m=\u001b[0m \u001b[0mgrid_svr\u001b[0m\u001b[1;33m.\u001b[0m\u001b[0mbest_estimator_\u001b[0m\u001b[1;33m.\u001b[0m\u001b[0mpredict\u001b[0m\u001b[1;33m(\u001b[0m\u001b[0mX_test\u001b[0m\u001b[1;33m)\u001b[0m\u001b[1;33m\u001b[0m\u001b[1;33m\u001b[0m\u001b[0m\n",
      "\u001b[1;31mNameError\u001b[0m: name 'datalab1' is not defined"
     ]
    }
   ],
   "source": [
    "dataset = datalab1[[TARGET] + selected_features_svr_1].join(datalab2[selected_features_svr_2]).join(datalab3[selected_features_svr_3]).join(datalab4[selected_features_svr_4])\n",
    "X, y = dataset.drop(TARGET, axis=1), np.array(dataset[TARGET])\n",
    "X_train, X_test, y_train, y_test = train_test_split(X, y, test_size=0.33)\n",
    " \n",
    "y_pred = grid_svr.best_estimator_.predict(X_test)\n",
    "\n",
    "print('R2', grid_svr.score(X_test,y_test))\n",
    "\n",
    "import matplotlib.pyplot as plt\n",
    "\n",
    "z = [0,7]\n",
    "\n",
    "plt.plot(y_test, y_pred, 'ro', z, z)\n",
    "plt.xlabel('y_true')\n",
    "plt.ylabel('y_pred')\n",
    "plt.show()"
   ]
  },
  {
   "cell_type": "markdown",
   "metadata": {
    "id": "U-fV0EzEeq5l"
   },
   "source": [
    "\n",
    "\n",
    "---\n",
    "\n"
   ]
  },
  {
   "cell_type": "code",
   "execution_count": 36,
   "metadata": {
    "id": "popqonA92_Wk"
   },
   "outputs": [
    {
     "ename": "NameError",
     "evalue": "name 'GradientBoostingRegressor' is not defined",
     "output_type": "error",
     "traceback": [
      "\u001b[1;31m---------------------------------------------------------------------------\u001b[0m",
      "\u001b[1;31mNameError\u001b[0m                                 Traceback (most recent call last)",
      "\u001b[1;32m<ipython-input-36-b7dd11af76ae>\u001b[0m in \u001b[0;36m<module>\u001b[1;34m\u001b[0m\n\u001b[0;32m      4\u001b[0m \u001b[1;33m\u001b[0m\u001b[0m\n\u001b[0;32m      5\u001b[0m \u001b[1;31m# GradientBoostingRegressor / RandomForestRegressor / SVR(kernel='linear')\u001b[0m\u001b[1;33m\u001b[0m\u001b[1;33m\u001b[0m\u001b[1;33m\u001b[0m\u001b[0m\n\u001b[1;32m----> 6\u001b[1;33m \u001b[0msel_estimator\u001b[0m \u001b[1;33m=\u001b[0m \u001b[0mGradientBoostingRegressor\u001b[0m\u001b[1;33m(\u001b[0m\u001b[0mrandom_state\u001b[0m\u001b[1;33m=\u001b[0m\u001b[0mrandom_state\u001b[0m\u001b[1;33m)\u001b[0m\u001b[1;33m\u001b[0m\u001b[1;33m\u001b[0m\u001b[0m\n\u001b[0m\u001b[0;32m      7\u001b[0m \u001b[1;33m\u001b[0m\u001b[0m\n\u001b[0;32m      8\u001b[0m \u001b[1;31m# RFE / SelectFromModel\u001b[0m\u001b[1;33m\u001b[0m\u001b[1;33m\u001b[0m\u001b[1;33m\u001b[0m\u001b[0m\n",
      "\u001b[1;31mNameError\u001b[0m: name 'GradientBoostingRegressor' is not defined"
     ]
    }
   ],
   "source": [
    "#@title **Random Forest Regressor**\n",
    " \n",
    "from sklearn.ensemble import  RandomForestRegressor\n",
    " \n",
    "# GradientBoostingRegressor / RandomForestRegressor / SVR(kernel='linear')\n",
    "sel_estimator = GradientBoostingRegressor(random_state=random_state)\n",
    " \n",
    "# RFE / SelectFromModel\n",
    "selector = RFE(sel_estimator)\n",
    "estimator = RandomForestRegressor(random_state=random_state, n_jobs=-1)\n",
    " \n",
    "pipe = Pipeline([\n",
    "    ('sel', selector),\n",
    "    ('est', estimator)\n",
    "])\n",
    " \n",
    "params = {\n",
    "    'sel__estimator__learning_rate': [0.05,0.1,0.2],\n",
    "    'sel__n_features_to_select'    : [5],\n",
    "    'est__n_estimators'            : [50,100,200,400],\n",
    "    'est__criterion'               : ['mse','mae'],\n",
    "    'est__max_features'            : ['auto','sqrt','log2']\n",
    "}\n",
    " \n",
    "grid_rfr = GridSearchCV(estimator=pipe,\n",
    "                        param_grid=params,\n",
    "                        scoring='r2',\n",
    "                        verbose=1,\n",
    "                        n_jobs=-1,\n",
    "                        return_train_score=True,\n",
    "                        cv=KFold(n_splits=5, shuffle=True))"
   ]
  },
  {
   "cell_type": "markdown",
   "metadata": {
    "id": "uALTVadcCWM4"
   },
   "source": [
    "datalab1"
   ]
  },
  {
   "cell_type": "code",
   "execution_count": 37,
   "metadata": {
    "colab": {
     "base_uri": "https://localhost:8080/"
    },
    "id": "7cS-JffScTh4",
    "outputId": "a10c7cb4-0ba6-4b47-e540-e6a5b7ad8e64"
   },
   "outputs": [
    {
     "ename": "NameError",
     "evalue": "name 'run_process' is not defined",
     "output_type": "error",
     "traceback": [
      "\u001b[1;31m---------------------------------------------------------------------------\u001b[0m",
      "\u001b[1;31mNameError\u001b[0m                                 Traceback (most recent call last)",
      "\u001b[1;32m<ipython-input-37-ca1e38359ce0>\u001b[0m in \u001b[0;36m<module>\u001b[1;34m\u001b[0m\n\u001b[1;32m----> 1\u001b[1;33m \u001b[0mselected_features_rfr_1\u001b[0m \u001b[1;33m=\u001b[0m \u001b[0mrun_process\u001b[0m\u001b[1;33m(\u001b[0m\u001b[0mdatalab1\u001b[0m\u001b[1;33m,\u001b[0m\u001b[0mgrid_rfr\u001b[0m\u001b[1;33m)\u001b[0m\u001b[1;33m\u001b[0m\u001b[1;33m\u001b[0m\u001b[0m\n\u001b[0m",
      "\u001b[1;31mNameError\u001b[0m: name 'run_process' is not defined"
     ]
    }
   ],
   "source": [
    "selected_features_rfr_1 = run_process(datalab1,grid_rfr)"
   ]
  },
  {
   "cell_type": "code",
   "execution_count": 38,
   "metadata": {
    "colab": {
     "base_uri": "https://localhost:8080/"
    },
    "id": "vLVzixzav86u",
    "outputId": "c6b158cf-26e1-47a1-a2af-9ef7f7aa20e6"
   },
   "outputs": [
    {
     "ename": "NameError",
     "evalue": "name 'run_process' is not defined",
     "output_type": "error",
     "traceback": [
      "\u001b[1;31m---------------------------------------------------------------------------\u001b[0m",
      "\u001b[1;31mNameError\u001b[0m                                 Traceback (most recent call last)",
      "\u001b[1;32m<ipython-input-38-ca1e38359ce0>\u001b[0m in \u001b[0;36m<module>\u001b[1;34m\u001b[0m\n\u001b[1;32m----> 1\u001b[1;33m \u001b[0mselected_features_rfr_1\u001b[0m \u001b[1;33m=\u001b[0m \u001b[0mrun_process\u001b[0m\u001b[1;33m(\u001b[0m\u001b[0mdatalab1\u001b[0m\u001b[1;33m,\u001b[0m\u001b[0mgrid_rfr\u001b[0m\u001b[1;33m)\u001b[0m\u001b[1;33m\u001b[0m\u001b[1;33m\u001b[0m\u001b[0m\n\u001b[0m",
      "\u001b[1;31mNameError\u001b[0m: name 'run_process' is not defined"
     ]
    }
   ],
   "source": [
    "selected_features_rfr_1 = run_process(datalab1,grid_rfr)"
   ]
  },
  {
   "cell_type": "code",
   "execution_count": 39,
   "metadata": {
    "colab": {
     "base_uri": "https://localhost:8080/"
    },
    "id": "5mV6cnIxv-Lt",
    "outputId": "6798d42e-7ba2-4236-b787-5e0c0f3e470f"
   },
   "outputs": [
    {
     "ename": "NameError",
     "evalue": "name 'run_process' is not defined",
     "output_type": "error",
     "traceback": [
      "\u001b[1;31m---------------------------------------------------------------------------\u001b[0m",
      "\u001b[1;31mNameError\u001b[0m                                 Traceback (most recent call last)",
      "\u001b[1;32m<ipython-input-39-ca1e38359ce0>\u001b[0m in \u001b[0;36m<module>\u001b[1;34m\u001b[0m\n\u001b[1;32m----> 1\u001b[1;33m \u001b[0mselected_features_rfr_1\u001b[0m \u001b[1;33m=\u001b[0m \u001b[0mrun_process\u001b[0m\u001b[1;33m(\u001b[0m\u001b[0mdatalab1\u001b[0m\u001b[1;33m,\u001b[0m\u001b[0mgrid_rfr\u001b[0m\u001b[1;33m)\u001b[0m\u001b[1;33m\u001b[0m\u001b[1;33m\u001b[0m\u001b[0m\n\u001b[0m",
      "\u001b[1;31mNameError\u001b[0m: name 'run_process' is not defined"
     ]
    }
   ],
   "source": [
    "selected_features_rfr_1 = run_process(datalab1,grid_rfr)"
   ]
  },
  {
   "cell_type": "code",
   "execution_count": 40,
   "metadata": {
    "colab": {
     "base_uri": "https://localhost:8080/"
    },
    "id": "RicTFLvdv-X8",
    "outputId": "e0344382-a4ee-4a3b-be2c-ac9c84d733a6"
   },
   "outputs": [
    {
     "ename": "NameError",
     "evalue": "name 'run_process' is not defined",
     "output_type": "error",
     "traceback": [
      "\u001b[1;31m---------------------------------------------------------------------------\u001b[0m",
      "\u001b[1;31mNameError\u001b[0m                                 Traceback (most recent call last)",
      "\u001b[1;32m<ipython-input-40-ca1e38359ce0>\u001b[0m in \u001b[0;36m<module>\u001b[1;34m\u001b[0m\n\u001b[1;32m----> 1\u001b[1;33m \u001b[0mselected_features_rfr_1\u001b[0m \u001b[1;33m=\u001b[0m \u001b[0mrun_process\u001b[0m\u001b[1;33m(\u001b[0m\u001b[0mdatalab1\u001b[0m\u001b[1;33m,\u001b[0m\u001b[0mgrid_rfr\u001b[0m\u001b[1;33m)\u001b[0m\u001b[1;33m\u001b[0m\u001b[1;33m\u001b[0m\u001b[0m\n\u001b[0m",
      "\u001b[1;31mNameError\u001b[0m: name 'run_process' is not defined"
     ]
    }
   ],
   "source": [
    "selected_features_rfr_1 = run_process(datalab1,grid_rfr)"
   ]
  },
  {
   "cell_type": "code",
   "execution_count": 41,
   "metadata": {
    "colab": {
     "base_uri": "https://localhost:8080/"
    },
    "id": "HXw1ybRfv-ep",
    "outputId": "d5b18b13-5db7-4749-a0ac-78a61ec133fb"
   },
   "outputs": [
    {
     "ename": "NameError",
     "evalue": "name 'run_process' is not defined",
     "output_type": "error",
     "traceback": [
      "\u001b[1;31m---------------------------------------------------------------------------\u001b[0m",
      "\u001b[1;31mNameError\u001b[0m                                 Traceback (most recent call last)",
      "\u001b[1;32m<ipython-input-41-ca1e38359ce0>\u001b[0m in \u001b[0;36m<module>\u001b[1;34m\u001b[0m\n\u001b[1;32m----> 1\u001b[1;33m \u001b[0mselected_features_rfr_1\u001b[0m \u001b[1;33m=\u001b[0m \u001b[0mrun_process\u001b[0m\u001b[1;33m(\u001b[0m\u001b[0mdatalab1\u001b[0m\u001b[1;33m,\u001b[0m\u001b[0mgrid_rfr\u001b[0m\u001b[1;33m)\u001b[0m\u001b[1;33m\u001b[0m\u001b[1;33m\u001b[0m\u001b[0m\n\u001b[0m",
      "\u001b[1;31mNameError\u001b[0m: name 'run_process' is not defined"
     ]
    }
   ],
   "source": [
    "selected_features_rfr_1 = run_process(datalab1,grid_rfr)"
   ]
  },
  {
   "cell_type": "code",
   "execution_count": 42,
   "metadata": {
    "colab": {
     "base_uri": "https://localhost:8080/"
    },
    "id": "pIXSVom3v-k0",
    "outputId": "22c532b4-9672-4e18-8c60-3219a5efaf94"
   },
   "outputs": [
    {
     "ename": "NameError",
     "evalue": "name 'run_process' is not defined",
     "output_type": "error",
     "traceback": [
      "\u001b[1;31m---------------------------------------------------------------------------\u001b[0m",
      "\u001b[1;31mNameError\u001b[0m                                 Traceback (most recent call last)",
      "\u001b[1;32m<ipython-input-42-ca1e38359ce0>\u001b[0m in \u001b[0;36m<module>\u001b[1;34m\u001b[0m\n\u001b[1;32m----> 1\u001b[1;33m \u001b[0mselected_features_rfr_1\u001b[0m \u001b[1;33m=\u001b[0m \u001b[0mrun_process\u001b[0m\u001b[1;33m(\u001b[0m\u001b[0mdatalab1\u001b[0m\u001b[1;33m,\u001b[0m\u001b[0mgrid_rfr\u001b[0m\u001b[1;33m)\u001b[0m\u001b[1;33m\u001b[0m\u001b[1;33m\u001b[0m\u001b[0m\n\u001b[0m",
      "\u001b[1;31mNameError\u001b[0m: name 'run_process' is not defined"
     ]
    }
   ],
   "source": [
    "selected_features_rfr_1 = run_process(datalab1,grid_rfr)"
   ]
  },
  {
   "cell_type": "code",
   "execution_count": 43,
   "metadata": {
    "colab": {
     "base_uri": "https://localhost:8080/"
    },
    "id": "YU9G0u9qv-sc",
    "outputId": "9b5c6af5-a686-47bf-f658-23c93ecf09b8"
   },
   "outputs": [
    {
     "ename": "NameError",
     "evalue": "name 'run_process' is not defined",
     "output_type": "error",
     "traceback": [
      "\u001b[1;31m---------------------------------------------------------------------------\u001b[0m",
      "\u001b[1;31mNameError\u001b[0m                                 Traceback (most recent call last)",
      "\u001b[1;32m<ipython-input-43-ca1e38359ce0>\u001b[0m in \u001b[0;36m<module>\u001b[1;34m\u001b[0m\n\u001b[1;32m----> 1\u001b[1;33m \u001b[0mselected_features_rfr_1\u001b[0m \u001b[1;33m=\u001b[0m \u001b[0mrun_process\u001b[0m\u001b[1;33m(\u001b[0m\u001b[0mdatalab1\u001b[0m\u001b[1;33m,\u001b[0m\u001b[0mgrid_rfr\u001b[0m\u001b[1;33m)\u001b[0m\u001b[1;33m\u001b[0m\u001b[1;33m\u001b[0m\u001b[0m\n\u001b[0m",
      "\u001b[1;31mNameError\u001b[0m: name 'run_process' is not defined"
     ]
    }
   ],
   "source": [
    "selected_features_rfr_1 = run_process(datalab1,grid_rfr)"
   ]
  },
  {
   "cell_type": "code",
   "execution_count": 44,
   "metadata": {
    "colab": {
     "base_uri": "https://localhost:8080/"
    },
    "id": "3zh_EM6Cv-ya",
    "outputId": "5d407706-7cae-4ae9-91c9-e643e2a75b8f"
   },
   "outputs": [
    {
     "ename": "NameError",
     "evalue": "name 'run_process' is not defined",
     "output_type": "error",
     "traceback": [
      "\u001b[1;31m---------------------------------------------------------------------------\u001b[0m",
      "\u001b[1;31mNameError\u001b[0m                                 Traceback (most recent call last)",
      "\u001b[1;32m<ipython-input-44-ca1e38359ce0>\u001b[0m in \u001b[0;36m<module>\u001b[1;34m\u001b[0m\n\u001b[1;32m----> 1\u001b[1;33m \u001b[0mselected_features_rfr_1\u001b[0m \u001b[1;33m=\u001b[0m \u001b[0mrun_process\u001b[0m\u001b[1;33m(\u001b[0m\u001b[0mdatalab1\u001b[0m\u001b[1;33m,\u001b[0m\u001b[0mgrid_rfr\u001b[0m\u001b[1;33m)\u001b[0m\u001b[1;33m\u001b[0m\u001b[1;33m\u001b[0m\u001b[0m\n\u001b[0m",
      "\u001b[1;31mNameError\u001b[0m: name 'run_process' is not defined"
     ]
    }
   ],
   "source": [
    "selected_features_rfr_1 = run_process(datalab1,grid_rfr)"
   ]
  },
  {
   "cell_type": "code",
   "execution_count": 45,
   "metadata": {
    "colab": {
     "base_uri": "https://localhost:8080/"
    },
    "id": "AJIe_wblv-4n",
    "outputId": "86dc7379-bda9-4395-d7f7-d6d06229010f"
   },
   "outputs": [
    {
     "ename": "NameError",
     "evalue": "name 'run_process' is not defined",
     "output_type": "error",
     "traceback": [
      "\u001b[1;31m---------------------------------------------------------------------------\u001b[0m",
      "\u001b[1;31mNameError\u001b[0m                                 Traceback (most recent call last)",
      "\u001b[1;32m<ipython-input-45-ca1e38359ce0>\u001b[0m in \u001b[0;36m<module>\u001b[1;34m\u001b[0m\n\u001b[1;32m----> 1\u001b[1;33m \u001b[0mselected_features_rfr_1\u001b[0m \u001b[1;33m=\u001b[0m \u001b[0mrun_process\u001b[0m\u001b[1;33m(\u001b[0m\u001b[0mdatalab1\u001b[0m\u001b[1;33m,\u001b[0m\u001b[0mgrid_rfr\u001b[0m\u001b[1;33m)\u001b[0m\u001b[1;33m\u001b[0m\u001b[1;33m\u001b[0m\u001b[0m\n\u001b[0m",
      "\u001b[1;31mNameError\u001b[0m: name 'run_process' is not defined"
     ]
    }
   ],
   "source": [
    "selected_features_rfr_1 = run_process(datalab1,grid_rfr)"
   ]
  },
  {
   "cell_type": "markdown",
   "metadata": {
    "id": "kxuEOxQ3DUIv"
   },
   "source": [
    "\n",
    "\n",
    "---\n",
    "\n"
   ]
  },
  {
   "cell_type": "markdown",
   "metadata": {
    "id": "fs6QeWPECibv"
   },
   "source": [
    "datalab2"
   ]
  },
  {
   "cell_type": "code",
   "execution_count": 46,
   "metadata": {
    "colab": {
     "base_uri": "https://localhost:8080/"
    },
    "id": "a-aZZOF1UtU6",
    "outputId": "8249eee6-0f17-45cc-9325-9e2b52aea6c5"
   },
   "outputs": [
    {
     "ename": "NameError",
     "evalue": "name 'run_process' is not defined",
     "output_type": "error",
     "traceback": [
      "\u001b[1;31m---------------------------------------------------------------------------\u001b[0m",
      "\u001b[1;31mNameError\u001b[0m                                 Traceback (most recent call last)",
      "\u001b[1;32m<ipython-input-46-f7987e836508>\u001b[0m in \u001b[0;36m<module>\u001b[1;34m\u001b[0m\n\u001b[1;32m----> 1\u001b[1;33m \u001b[0mselected_features_rfr_2\u001b[0m \u001b[1;33m=\u001b[0m \u001b[0mrun_process\u001b[0m\u001b[1;33m(\u001b[0m\u001b[0mdatalab2\u001b[0m\u001b[1;33m,\u001b[0m\u001b[0mgrid_rfr\u001b[0m\u001b[1;33m)\u001b[0m\u001b[1;33m\u001b[0m\u001b[1;33m\u001b[0m\u001b[0m\n\u001b[0m",
      "\u001b[1;31mNameError\u001b[0m: name 'run_process' is not defined"
     ]
    }
   ],
   "source": [
    "selected_features_rfr_2 = run_process(datalab2,grid_rfr)"
   ]
  },
  {
   "cell_type": "code",
   "execution_count": 47,
   "metadata": {
    "colab": {
     "base_uri": "https://localhost:8080/"
    },
    "id": "fnZrJ-xcvqPd",
    "outputId": "66783e5a-65cb-4e5f-b3cc-1a7313563e25"
   },
   "outputs": [
    {
     "ename": "NameError",
     "evalue": "name 'run_process' is not defined",
     "output_type": "error",
     "traceback": [
      "\u001b[1;31m---------------------------------------------------------------------------\u001b[0m",
      "\u001b[1;31mNameError\u001b[0m                                 Traceback (most recent call last)",
      "\u001b[1;32m<ipython-input-47-f7987e836508>\u001b[0m in \u001b[0;36m<module>\u001b[1;34m\u001b[0m\n\u001b[1;32m----> 1\u001b[1;33m \u001b[0mselected_features_rfr_2\u001b[0m \u001b[1;33m=\u001b[0m \u001b[0mrun_process\u001b[0m\u001b[1;33m(\u001b[0m\u001b[0mdatalab2\u001b[0m\u001b[1;33m,\u001b[0m\u001b[0mgrid_rfr\u001b[0m\u001b[1;33m)\u001b[0m\u001b[1;33m\u001b[0m\u001b[1;33m\u001b[0m\u001b[0m\n\u001b[0m",
      "\u001b[1;31mNameError\u001b[0m: name 'run_process' is not defined"
     ]
    }
   ],
   "source": [
    "selected_features_rfr_2 = run_process(datalab2,grid_rfr)"
   ]
  },
  {
   "cell_type": "code",
   "execution_count": 48,
   "metadata": {
    "colab": {
     "base_uri": "https://localhost:8080/"
    },
    "id": "ROQntNx6vq45",
    "outputId": "98d3791c-7e81-4f0f-b478-59d5eb5549ea"
   },
   "outputs": [
    {
     "ename": "NameError",
     "evalue": "name 'run_process' is not defined",
     "output_type": "error",
     "traceback": [
      "\u001b[1;31m---------------------------------------------------------------------------\u001b[0m",
      "\u001b[1;31mNameError\u001b[0m                                 Traceback (most recent call last)",
      "\u001b[1;32m<ipython-input-48-f7987e836508>\u001b[0m in \u001b[0;36m<module>\u001b[1;34m\u001b[0m\n\u001b[1;32m----> 1\u001b[1;33m \u001b[0mselected_features_rfr_2\u001b[0m \u001b[1;33m=\u001b[0m \u001b[0mrun_process\u001b[0m\u001b[1;33m(\u001b[0m\u001b[0mdatalab2\u001b[0m\u001b[1;33m,\u001b[0m\u001b[0mgrid_rfr\u001b[0m\u001b[1;33m)\u001b[0m\u001b[1;33m\u001b[0m\u001b[1;33m\u001b[0m\u001b[0m\n\u001b[0m",
      "\u001b[1;31mNameError\u001b[0m: name 'run_process' is not defined"
     ]
    }
   ],
   "source": [
    "selected_features_rfr_2 = run_process(datalab2,grid_rfr)"
   ]
  },
  {
   "cell_type": "code",
   "execution_count": 49,
   "metadata": {
    "colab": {
     "base_uri": "https://localhost:8080/"
    },
    "id": "xNlQ6dJovrQ2",
    "outputId": "70f872d5-d583-4527-edfc-36576b700bcb"
   },
   "outputs": [
    {
     "ename": "NameError",
     "evalue": "name 'run_process' is not defined",
     "output_type": "error",
     "traceback": [
      "\u001b[1;31m---------------------------------------------------------------------------\u001b[0m",
      "\u001b[1;31mNameError\u001b[0m                                 Traceback (most recent call last)",
      "\u001b[1;32m<ipython-input-49-f7987e836508>\u001b[0m in \u001b[0;36m<module>\u001b[1;34m\u001b[0m\n\u001b[1;32m----> 1\u001b[1;33m \u001b[0mselected_features_rfr_2\u001b[0m \u001b[1;33m=\u001b[0m \u001b[0mrun_process\u001b[0m\u001b[1;33m(\u001b[0m\u001b[0mdatalab2\u001b[0m\u001b[1;33m,\u001b[0m\u001b[0mgrid_rfr\u001b[0m\u001b[1;33m)\u001b[0m\u001b[1;33m\u001b[0m\u001b[1;33m\u001b[0m\u001b[0m\n\u001b[0m",
      "\u001b[1;31mNameError\u001b[0m: name 'run_process' is not defined"
     ]
    }
   ],
   "source": [
    "selected_features_rfr_2 = run_process(datalab2,grid_rfr)"
   ]
  },
  {
   "cell_type": "code",
   "execution_count": 50,
   "metadata": {
    "colab": {
     "base_uri": "https://localhost:8080/"
    },
    "id": "qTGhXVnavrVD",
    "outputId": "ba0581b1-00d4-448f-bb34-995320c828eb"
   },
   "outputs": [
    {
     "ename": "NameError",
     "evalue": "name 'run_process' is not defined",
     "output_type": "error",
     "traceback": [
      "\u001b[1;31m---------------------------------------------------------------------------\u001b[0m",
      "\u001b[1;31mNameError\u001b[0m                                 Traceback (most recent call last)",
      "\u001b[1;32m<ipython-input-50-f7987e836508>\u001b[0m in \u001b[0;36m<module>\u001b[1;34m\u001b[0m\n\u001b[1;32m----> 1\u001b[1;33m \u001b[0mselected_features_rfr_2\u001b[0m \u001b[1;33m=\u001b[0m \u001b[0mrun_process\u001b[0m\u001b[1;33m(\u001b[0m\u001b[0mdatalab2\u001b[0m\u001b[1;33m,\u001b[0m\u001b[0mgrid_rfr\u001b[0m\u001b[1;33m)\u001b[0m\u001b[1;33m\u001b[0m\u001b[1;33m\u001b[0m\u001b[0m\n\u001b[0m",
      "\u001b[1;31mNameError\u001b[0m: name 'run_process' is not defined"
     ]
    }
   ],
   "source": [
    "selected_features_rfr_2 = run_process(datalab2,grid_rfr)"
   ]
  },
  {
   "cell_type": "code",
   "execution_count": 51,
   "metadata": {
    "colab": {
     "base_uri": "https://localhost:8080/"
    },
    "id": "wFgXHF3NvraA",
    "outputId": "ad41e16f-b1e6-4d4e-8669-7ad95c416e92"
   },
   "outputs": [
    {
     "ename": "NameError",
     "evalue": "name 'run_process' is not defined",
     "output_type": "error",
     "traceback": [
      "\u001b[1;31m---------------------------------------------------------------------------\u001b[0m",
      "\u001b[1;31mNameError\u001b[0m                                 Traceback (most recent call last)",
      "\u001b[1;32m<ipython-input-51-f7987e836508>\u001b[0m in \u001b[0;36m<module>\u001b[1;34m\u001b[0m\n\u001b[1;32m----> 1\u001b[1;33m \u001b[0mselected_features_rfr_2\u001b[0m \u001b[1;33m=\u001b[0m \u001b[0mrun_process\u001b[0m\u001b[1;33m(\u001b[0m\u001b[0mdatalab2\u001b[0m\u001b[1;33m,\u001b[0m\u001b[0mgrid_rfr\u001b[0m\u001b[1;33m)\u001b[0m\u001b[1;33m\u001b[0m\u001b[1;33m\u001b[0m\u001b[0m\n\u001b[0m",
      "\u001b[1;31mNameError\u001b[0m: name 'run_process' is not defined"
     ]
    }
   ],
   "source": [
    "selected_features_rfr_2 = run_process(datalab2,grid_rfr)"
   ]
  },
  {
   "cell_type": "code",
   "execution_count": 52,
   "metadata": {
    "colab": {
     "base_uri": "https://localhost:8080/"
    },
    "id": "UN85lqL5vriT",
    "outputId": "0a848233-eed6-4fc1-ef46-6e315a81d2dc"
   },
   "outputs": [
    {
     "ename": "NameError",
     "evalue": "name 'run_process' is not defined",
     "output_type": "error",
     "traceback": [
      "\u001b[1;31m---------------------------------------------------------------------------\u001b[0m",
      "\u001b[1;31mNameError\u001b[0m                                 Traceback (most recent call last)",
      "\u001b[1;32m<ipython-input-52-f7987e836508>\u001b[0m in \u001b[0;36m<module>\u001b[1;34m\u001b[0m\n\u001b[1;32m----> 1\u001b[1;33m \u001b[0mselected_features_rfr_2\u001b[0m \u001b[1;33m=\u001b[0m \u001b[0mrun_process\u001b[0m\u001b[1;33m(\u001b[0m\u001b[0mdatalab2\u001b[0m\u001b[1;33m,\u001b[0m\u001b[0mgrid_rfr\u001b[0m\u001b[1;33m)\u001b[0m\u001b[1;33m\u001b[0m\u001b[1;33m\u001b[0m\u001b[0m\n\u001b[0m",
      "\u001b[1;31mNameError\u001b[0m: name 'run_process' is not defined"
     ]
    }
   ],
   "source": [
    "selected_features_rfr_2 = run_process(datalab2,grid_rfr)"
   ]
  },
  {
   "cell_type": "code",
   "execution_count": 53,
   "metadata": {
    "colab": {
     "base_uri": "https://localhost:8080/"
    },
    "id": "y8kRytTRvrmp",
    "outputId": "b620a7af-881a-4c12-fc4f-1d436a715250"
   },
   "outputs": [
    {
     "ename": "NameError",
     "evalue": "name 'run_process' is not defined",
     "output_type": "error",
     "traceback": [
      "\u001b[1;31m---------------------------------------------------------------------------\u001b[0m",
      "\u001b[1;31mNameError\u001b[0m                                 Traceback (most recent call last)",
      "\u001b[1;32m<ipython-input-53-f7987e836508>\u001b[0m in \u001b[0;36m<module>\u001b[1;34m\u001b[0m\n\u001b[1;32m----> 1\u001b[1;33m \u001b[0mselected_features_rfr_2\u001b[0m \u001b[1;33m=\u001b[0m \u001b[0mrun_process\u001b[0m\u001b[1;33m(\u001b[0m\u001b[0mdatalab2\u001b[0m\u001b[1;33m,\u001b[0m\u001b[0mgrid_rfr\u001b[0m\u001b[1;33m)\u001b[0m\u001b[1;33m\u001b[0m\u001b[1;33m\u001b[0m\u001b[0m\n\u001b[0m",
      "\u001b[1;31mNameError\u001b[0m: name 'run_process' is not defined"
     ]
    }
   ],
   "source": [
    "selected_features_rfr_2 = run_process(datalab2,grid_rfr)"
   ]
  },
  {
   "cell_type": "code",
   "execution_count": 54,
   "metadata": {
    "colab": {
     "base_uri": "https://localhost:8080/"
    },
    "id": "vRx6DZz8vrrD",
    "outputId": "175d92d1-bda0-482f-edab-8d1de3c3a7c5"
   },
   "outputs": [
    {
     "ename": "NameError",
     "evalue": "name 'run_process' is not defined",
     "output_type": "error",
     "traceback": [
      "\u001b[1;31m---------------------------------------------------------------------------\u001b[0m",
      "\u001b[1;31mNameError\u001b[0m                                 Traceback (most recent call last)",
      "\u001b[1;32m<ipython-input-54-f7987e836508>\u001b[0m in \u001b[0;36m<module>\u001b[1;34m\u001b[0m\n\u001b[1;32m----> 1\u001b[1;33m \u001b[0mselected_features_rfr_2\u001b[0m \u001b[1;33m=\u001b[0m \u001b[0mrun_process\u001b[0m\u001b[1;33m(\u001b[0m\u001b[0mdatalab2\u001b[0m\u001b[1;33m,\u001b[0m\u001b[0mgrid_rfr\u001b[0m\u001b[1;33m)\u001b[0m\u001b[1;33m\u001b[0m\u001b[1;33m\u001b[0m\u001b[0m\n\u001b[0m",
      "\u001b[1;31mNameError\u001b[0m: name 'run_process' is not defined"
     ]
    }
   ],
   "source": [
    "selected_features_rfr_2 = run_process(datalab2,grid_rfr)"
   ]
  },
  {
   "cell_type": "markdown",
   "metadata": {
    "id": "xdhchONQDScb"
   },
   "source": [
    "\n",
    "\n",
    "---\n",
    "\n"
   ]
  },
  {
   "cell_type": "markdown",
   "metadata": {
    "id": "eyuziR2NCrRH"
   },
   "source": [
    "datalab3"
   ]
  },
  {
   "cell_type": "code",
   "execution_count": 55,
   "metadata": {
    "colab": {
     "base_uri": "https://localhost:8080/"
    },
    "id": "GjNUOZBRUvRB",
    "outputId": "95eacf2f-6b6e-4394-f9e2-bca8b6925d43"
   },
   "outputs": [
    {
     "ename": "NameError",
     "evalue": "name 'run_process' is not defined",
     "output_type": "error",
     "traceback": [
      "\u001b[1;31m---------------------------------------------------------------------------\u001b[0m",
      "\u001b[1;31mNameError\u001b[0m                                 Traceback (most recent call last)",
      "\u001b[1;32m<ipython-input-55-426fb38264b2>\u001b[0m in \u001b[0;36m<module>\u001b[1;34m\u001b[0m\n\u001b[1;32m----> 1\u001b[1;33m \u001b[0mselected_features_rfr_3\u001b[0m \u001b[1;33m=\u001b[0m \u001b[0mrun_process\u001b[0m\u001b[1;33m(\u001b[0m\u001b[0mdatalab3\u001b[0m\u001b[1;33m,\u001b[0m\u001b[0mgrid_rfr\u001b[0m\u001b[1;33m)\u001b[0m\u001b[1;33m\u001b[0m\u001b[1;33m\u001b[0m\u001b[0m\n\u001b[0m",
      "\u001b[1;31mNameError\u001b[0m: name 'run_process' is not defined"
     ]
    }
   ],
   "source": [
    "selected_features_rfr_3 = run_process(datalab3,grid_rfr)"
   ]
  },
  {
   "cell_type": "code",
   "execution_count": 56,
   "metadata": {
    "colab": {
     "base_uri": "https://localhost:8080/"
    },
    "id": "bZq4CZP2vuBK",
    "outputId": "8b429d46-0593-4eda-8077-18136e15a4b9"
   },
   "outputs": [
    {
     "ename": "NameError",
     "evalue": "name 'run_process' is not defined",
     "output_type": "error",
     "traceback": [
      "\u001b[1;31m---------------------------------------------------------------------------\u001b[0m",
      "\u001b[1;31mNameError\u001b[0m                                 Traceback (most recent call last)",
      "\u001b[1;32m<ipython-input-56-426fb38264b2>\u001b[0m in \u001b[0;36m<module>\u001b[1;34m\u001b[0m\n\u001b[1;32m----> 1\u001b[1;33m \u001b[0mselected_features_rfr_3\u001b[0m \u001b[1;33m=\u001b[0m \u001b[0mrun_process\u001b[0m\u001b[1;33m(\u001b[0m\u001b[0mdatalab3\u001b[0m\u001b[1;33m,\u001b[0m\u001b[0mgrid_rfr\u001b[0m\u001b[1;33m)\u001b[0m\u001b[1;33m\u001b[0m\u001b[1;33m\u001b[0m\u001b[0m\n\u001b[0m",
      "\u001b[1;31mNameError\u001b[0m: name 'run_process' is not defined"
     ]
    }
   ],
   "source": [
    "selected_features_rfr_3 = run_process(datalab3,grid_rfr)"
   ]
  },
  {
   "cell_type": "code",
   "execution_count": 57,
   "metadata": {
    "colab": {
     "base_uri": "https://localhost:8080/"
    },
    "id": "uYCMpk1IvuG8",
    "outputId": "b1996ee9-c374-4881-f6bd-20f0fcd96335"
   },
   "outputs": [
    {
     "ename": "NameError",
     "evalue": "name 'run_process' is not defined",
     "output_type": "error",
     "traceback": [
      "\u001b[1;31m---------------------------------------------------------------------------\u001b[0m",
      "\u001b[1;31mNameError\u001b[0m                                 Traceback (most recent call last)",
      "\u001b[1;32m<ipython-input-57-426fb38264b2>\u001b[0m in \u001b[0;36m<module>\u001b[1;34m\u001b[0m\n\u001b[1;32m----> 1\u001b[1;33m \u001b[0mselected_features_rfr_3\u001b[0m \u001b[1;33m=\u001b[0m \u001b[0mrun_process\u001b[0m\u001b[1;33m(\u001b[0m\u001b[0mdatalab3\u001b[0m\u001b[1;33m,\u001b[0m\u001b[0mgrid_rfr\u001b[0m\u001b[1;33m)\u001b[0m\u001b[1;33m\u001b[0m\u001b[1;33m\u001b[0m\u001b[0m\n\u001b[0m",
      "\u001b[1;31mNameError\u001b[0m: name 'run_process' is not defined"
     ]
    }
   ],
   "source": [
    "selected_features_rfr_3 = run_process(datalab3,grid_rfr)"
   ]
  },
  {
   "cell_type": "code",
   "execution_count": 58,
   "metadata": {
    "colab": {
     "base_uri": "https://localhost:8080/"
    },
    "id": "_CbgQ5CDvuK-",
    "outputId": "a6b43ba5-7b62-4704-d2dc-c54d92077d73"
   },
   "outputs": [
    {
     "ename": "NameError",
     "evalue": "name 'run_process' is not defined",
     "output_type": "error",
     "traceback": [
      "\u001b[1;31m---------------------------------------------------------------------------\u001b[0m",
      "\u001b[1;31mNameError\u001b[0m                                 Traceback (most recent call last)",
      "\u001b[1;32m<ipython-input-58-426fb38264b2>\u001b[0m in \u001b[0;36m<module>\u001b[1;34m\u001b[0m\n\u001b[1;32m----> 1\u001b[1;33m \u001b[0mselected_features_rfr_3\u001b[0m \u001b[1;33m=\u001b[0m \u001b[0mrun_process\u001b[0m\u001b[1;33m(\u001b[0m\u001b[0mdatalab3\u001b[0m\u001b[1;33m,\u001b[0m\u001b[0mgrid_rfr\u001b[0m\u001b[1;33m)\u001b[0m\u001b[1;33m\u001b[0m\u001b[1;33m\u001b[0m\u001b[0m\n\u001b[0m",
      "\u001b[1;31mNameError\u001b[0m: name 'run_process' is not defined"
     ]
    }
   ],
   "source": [
    "selected_features_rfr_3 = run_process(datalab3,grid_rfr)"
   ]
  },
  {
   "cell_type": "code",
   "execution_count": 59,
   "metadata": {
    "colab": {
     "base_uri": "https://localhost:8080/"
    },
    "id": "WqIfbfTLvubE",
    "outputId": "b3dc74c9-9606-431d-83d2-9c8eb4242da3"
   },
   "outputs": [
    {
     "ename": "NameError",
     "evalue": "name 'run_process' is not defined",
     "output_type": "error",
     "traceback": [
      "\u001b[1;31m---------------------------------------------------------------------------\u001b[0m",
      "\u001b[1;31mNameError\u001b[0m                                 Traceback (most recent call last)",
      "\u001b[1;32m<ipython-input-59-426fb38264b2>\u001b[0m in \u001b[0;36m<module>\u001b[1;34m\u001b[0m\n\u001b[1;32m----> 1\u001b[1;33m \u001b[0mselected_features_rfr_3\u001b[0m \u001b[1;33m=\u001b[0m \u001b[0mrun_process\u001b[0m\u001b[1;33m(\u001b[0m\u001b[0mdatalab3\u001b[0m\u001b[1;33m,\u001b[0m\u001b[0mgrid_rfr\u001b[0m\u001b[1;33m)\u001b[0m\u001b[1;33m\u001b[0m\u001b[1;33m\u001b[0m\u001b[0m\n\u001b[0m",
      "\u001b[1;31mNameError\u001b[0m: name 'run_process' is not defined"
     ]
    }
   ],
   "source": [
    "selected_features_rfr_3 = run_process(datalab3,grid_rfr)"
   ]
  },
  {
   "cell_type": "code",
   "execution_count": 60,
   "metadata": {
    "colab": {
     "base_uri": "https://localhost:8080/"
    },
    "id": "6b411CoYvuhE",
    "outputId": "718681fb-5348-4168-ad07-9760f1553c11"
   },
   "outputs": [
    {
     "ename": "NameError",
     "evalue": "name 'run_process' is not defined",
     "output_type": "error",
     "traceback": [
      "\u001b[1;31m---------------------------------------------------------------------------\u001b[0m",
      "\u001b[1;31mNameError\u001b[0m                                 Traceback (most recent call last)",
      "\u001b[1;32m<ipython-input-60-426fb38264b2>\u001b[0m in \u001b[0;36m<module>\u001b[1;34m\u001b[0m\n\u001b[1;32m----> 1\u001b[1;33m \u001b[0mselected_features_rfr_3\u001b[0m \u001b[1;33m=\u001b[0m \u001b[0mrun_process\u001b[0m\u001b[1;33m(\u001b[0m\u001b[0mdatalab3\u001b[0m\u001b[1;33m,\u001b[0m\u001b[0mgrid_rfr\u001b[0m\u001b[1;33m)\u001b[0m\u001b[1;33m\u001b[0m\u001b[1;33m\u001b[0m\u001b[0m\n\u001b[0m",
      "\u001b[1;31mNameError\u001b[0m: name 'run_process' is not defined"
     ]
    }
   ],
   "source": [
    "selected_features_rfr_3 = run_process(datalab3,grid_rfr)"
   ]
  },
  {
   "cell_type": "code",
   "execution_count": 61,
   "metadata": {
    "colab": {
     "base_uri": "https://localhost:8080/"
    },
    "id": "38AOaQ2Uvum6",
    "outputId": "fdf2c098-eb44-4cfa-936d-154deaf9b7d6"
   },
   "outputs": [
    {
     "ename": "NameError",
     "evalue": "name 'run_process' is not defined",
     "output_type": "error",
     "traceback": [
      "\u001b[1;31m---------------------------------------------------------------------------\u001b[0m",
      "\u001b[1;31mNameError\u001b[0m                                 Traceback (most recent call last)",
      "\u001b[1;32m<ipython-input-61-426fb38264b2>\u001b[0m in \u001b[0;36m<module>\u001b[1;34m\u001b[0m\n\u001b[1;32m----> 1\u001b[1;33m \u001b[0mselected_features_rfr_3\u001b[0m \u001b[1;33m=\u001b[0m \u001b[0mrun_process\u001b[0m\u001b[1;33m(\u001b[0m\u001b[0mdatalab3\u001b[0m\u001b[1;33m,\u001b[0m\u001b[0mgrid_rfr\u001b[0m\u001b[1;33m)\u001b[0m\u001b[1;33m\u001b[0m\u001b[1;33m\u001b[0m\u001b[0m\n\u001b[0m",
      "\u001b[1;31mNameError\u001b[0m: name 'run_process' is not defined"
     ]
    }
   ],
   "source": [
    "selected_features_rfr_3 = run_process(datalab3,grid_rfr)"
   ]
  },
  {
   "cell_type": "code",
   "execution_count": 62,
   "metadata": {
    "colab": {
     "base_uri": "https://localhost:8080/"
    },
    "id": "83R37gEDvusq",
    "outputId": "eab85b01-b385-4eb6-b5e0-2a0c5144345d"
   },
   "outputs": [
    {
     "ename": "NameError",
     "evalue": "name 'run_process' is not defined",
     "output_type": "error",
     "traceback": [
      "\u001b[1;31m---------------------------------------------------------------------------\u001b[0m",
      "\u001b[1;31mNameError\u001b[0m                                 Traceback (most recent call last)",
      "\u001b[1;32m<ipython-input-62-426fb38264b2>\u001b[0m in \u001b[0;36m<module>\u001b[1;34m\u001b[0m\n\u001b[1;32m----> 1\u001b[1;33m \u001b[0mselected_features_rfr_3\u001b[0m \u001b[1;33m=\u001b[0m \u001b[0mrun_process\u001b[0m\u001b[1;33m(\u001b[0m\u001b[0mdatalab3\u001b[0m\u001b[1;33m,\u001b[0m\u001b[0mgrid_rfr\u001b[0m\u001b[1;33m)\u001b[0m\u001b[1;33m\u001b[0m\u001b[1;33m\u001b[0m\u001b[0m\n\u001b[0m",
      "\u001b[1;31mNameError\u001b[0m: name 'run_process' is not defined"
     ]
    }
   ],
   "source": [
    "selected_features_rfr_3 = run_process(datalab3,grid_rfr)"
   ]
  },
  {
   "cell_type": "code",
   "execution_count": 63,
   "metadata": {
    "colab": {
     "base_uri": "https://localhost:8080/"
    },
    "id": "ou_6RBkVvuyP",
    "outputId": "1ee82482-3bdb-4d2e-9773-b5638ff37816"
   },
   "outputs": [
    {
     "ename": "NameError",
     "evalue": "name 'run_process' is not defined",
     "output_type": "error",
     "traceback": [
      "\u001b[1;31m---------------------------------------------------------------------------\u001b[0m",
      "\u001b[1;31mNameError\u001b[0m                                 Traceback (most recent call last)",
      "\u001b[1;32m<ipython-input-63-426fb38264b2>\u001b[0m in \u001b[0;36m<module>\u001b[1;34m\u001b[0m\n\u001b[1;32m----> 1\u001b[1;33m \u001b[0mselected_features_rfr_3\u001b[0m \u001b[1;33m=\u001b[0m \u001b[0mrun_process\u001b[0m\u001b[1;33m(\u001b[0m\u001b[0mdatalab3\u001b[0m\u001b[1;33m,\u001b[0m\u001b[0mgrid_rfr\u001b[0m\u001b[1;33m)\u001b[0m\u001b[1;33m\u001b[0m\u001b[1;33m\u001b[0m\u001b[0m\n\u001b[0m",
      "\u001b[1;31mNameError\u001b[0m: name 'run_process' is not defined"
     ]
    }
   ],
   "source": [
    "selected_features_rfr_3 = run_process(datalab3,grid_rfr)"
   ]
  },
  {
   "cell_type": "markdown",
   "metadata": {
    "id": "gYI0HHfcDP9D"
   },
   "source": [
    "\n",
    "\n",
    "---\n",
    "\n"
   ]
  },
  {
   "cell_type": "markdown",
   "metadata": {
    "id": "JZ2yIOq1CuXa"
   },
   "source": [
    "datalab4"
   ]
  },
  {
   "cell_type": "code",
   "execution_count": 64,
   "metadata": {
    "colab": {
     "base_uri": "https://localhost:8080/"
    },
    "id": "SbqBV9AVUxRW",
    "outputId": "89070a47-df4f-4082-d075-5b96290fb1ed"
   },
   "outputs": [
    {
     "ename": "NameError",
     "evalue": "name 'run_process' is not defined",
     "output_type": "error",
     "traceback": [
      "\u001b[1;31m---------------------------------------------------------------------------\u001b[0m",
      "\u001b[1;31mNameError\u001b[0m                                 Traceback (most recent call last)",
      "\u001b[1;32m<ipython-input-64-d95e38bb2ded>\u001b[0m in \u001b[0;36m<module>\u001b[1;34m\u001b[0m\n\u001b[1;32m----> 1\u001b[1;33m \u001b[0mselected_features_rfr_4\u001b[0m \u001b[1;33m=\u001b[0m \u001b[0mrun_process\u001b[0m\u001b[1;33m(\u001b[0m\u001b[0mdatalab4\u001b[0m\u001b[1;33m,\u001b[0m\u001b[0mgrid_rfr\u001b[0m\u001b[1;33m)\u001b[0m\u001b[1;33m\u001b[0m\u001b[1;33m\u001b[0m\u001b[0m\n\u001b[0m",
      "\u001b[1;31mNameError\u001b[0m: name 'run_process' is not defined"
     ]
    }
   ],
   "source": [
    "selected_features_rfr_4 = run_process(datalab4,grid_rfr)"
   ]
  },
  {
   "cell_type": "code",
   "execution_count": 65,
   "metadata": {
    "colab": {
     "base_uri": "https://localhost:8080/"
    },
    "id": "Hgy9FUefvxBH",
    "outputId": "18a99c06-e958-4b49-d26e-3b0e084dc9a8"
   },
   "outputs": [
    {
     "ename": "NameError",
     "evalue": "name 'run_process' is not defined",
     "output_type": "error",
     "traceback": [
      "\u001b[1;31m---------------------------------------------------------------------------\u001b[0m",
      "\u001b[1;31mNameError\u001b[0m                                 Traceback (most recent call last)",
      "\u001b[1;32m<ipython-input-65-d95e38bb2ded>\u001b[0m in \u001b[0;36m<module>\u001b[1;34m\u001b[0m\n\u001b[1;32m----> 1\u001b[1;33m \u001b[0mselected_features_rfr_4\u001b[0m \u001b[1;33m=\u001b[0m \u001b[0mrun_process\u001b[0m\u001b[1;33m(\u001b[0m\u001b[0mdatalab4\u001b[0m\u001b[1;33m,\u001b[0m\u001b[0mgrid_rfr\u001b[0m\u001b[1;33m)\u001b[0m\u001b[1;33m\u001b[0m\u001b[1;33m\u001b[0m\u001b[0m\n\u001b[0m",
      "\u001b[1;31mNameError\u001b[0m: name 'run_process' is not defined"
     ]
    }
   ],
   "source": [
    "selected_features_rfr_4 = run_process(datalab4,grid_rfr)"
   ]
  },
  {
   "cell_type": "code",
   "execution_count": 66,
   "metadata": {
    "colab": {
     "base_uri": "https://localhost:8080/"
    },
    "id": "C28USGCQvxFM",
    "outputId": "379f2e39-03f0-4947-9b68-a78a330796d4"
   },
   "outputs": [
    {
     "ename": "NameError",
     "evalue": "name 'run_process' is not defined",
     "output_type": "error",
     "traceback": [
      "\u001b[1;31m---------------------------------------------------------------------------\u001b[0m",
      "\u001b[1;31mNameError\u001b[0m                                 Traceback (most recent call last)",
      "\u001b[1;32m<ipython-input-66-d95e38bb2ded>\u001b[0m in \u001b[0;36m<module>\u001b[1;34m\u001b[0m\n\u001b[1;32m----> 1\u001b[1;33m \u001b[0mselected_features_rfr_4\u001b[0m \u001b[1;33m=\u001b[0m \u001b[0mrun_process\u001b[0m\u001b[1;33m(\u001b[0m\u001b[0mdatalab4\u001b[0m\u001b[1;33m,\u001b[0m\u001b[0mgrid_rfr\u001b[0m\u001b[1;33m)\u001b[0m\u001b[1;33m\u001b[0m\u001b[1;33m\u001b[0m\u001b[0m\n\u001b[0m",
      "\u001b[1;31mNameError\u001b[0m: name 'run_process' is not defined"
     ]
    }
   ],
   "source": [
    "selected_features_rfr_4 = run_process(datalab4,grid_rfr)"
   ]
  },
  {
   "cell_type": "code",
   "execution_count": 67,
   "metadata": {
    "colab": {
     "base_uri": "https://localhost:8080/"
    },
    "id": "hC82ZJSVvxPH",
    "outputId": "9a033f6a-6000-439c-f6c1-90b9418178fa"
   },
   "outputs": [
    {
     "ename": "NameError",
     "evalue": "name 'run_process' is not defined",
     "output_type": "error",
     "traceback": [
      "\u001b[1;31m---------------------------------------------------------------------------\u001b[0m",
      "\u001b[1;31mNameError\u001b[0m                                 Traceback (most recent call last)",
      "\u001b[1;32m<ipython-input-67-d95e38bb2ded>\u001b[0m in \u001b[0;36m<module>\u001b[1;34m\u001b[0m\n\u001b[1;32m----> 1\u001b[1;33m \u001b[0mselected_features_rfr_4\u001b[0m \u001b[1;33m=\u001b[0m \u001b[0mrun_process\u001b[0m\u001b[1;33m(\u001b[0m\u001b[0mdatalab4\u001b[0m\u001b[1;33m,\u001b[0m\u001b[0mgrid_rfr\u001b[0m\u001b[1;33m)\u001b[0m\u001b[1;33m\u001b[0m\u001b[1;33m\u001b[0m\u001b[0m\n\u001b[0m",
      "\u001b[1;31mNameError\u001b[0m: name 'run_process' is not defined"
     ]
    }
   ],
   "source": [
    "selected_features_rfr_4 = run_process(datalab4,grid_rfr)"
   ]
  },
  {
   "cell_type": "code",
   "execution_count": 68,
   "metadata": {
    "colab": {
     "base_uri": "https://localhost:8080/"
    },
    "id": "3thy5E7vvxTX",
    "outputId": "b7e10589-c3eb-4718-ba43-175410aa4207"
   },
   "outputs": [
    {
     "ename": "NameError",
     "evalue": "name 'run_process' is not defined",
     "output_type": "error",
     "traceback": [
      "\u001b[1;31m---------------------------------------------------------------------------\u001b[0m",
      "\u001b[1;31mNameError\u001b[0m                                 Traceback (most recent call last)",
      "\u001b[1;32m<ipython-input-68-d95e38bb2ded>\u001b[0m in \u001b[0;36m<module>\u001b[1;34m\u001b[0m\n\u001b[1;32m----> 1\u001b[1;33m \u001b[0mselected_features_rfr_4\u001b[0m \u001b[1;33m=\u001b[0m \u001b[0mrun_process\u001b[0m\u001b[1;33m(\u001b[0m\u001b[0mdatalab4\u001b[0m\u001b[1;33m,\u001b[0m\u001b[0mgrid_rfr\u001b[0m\u001b[1;33m)\u001b[0m\u001b[1;33m\u001b[0m\u001b[1;33m\u001b[0m\u001b[0m\n\u001b[0m",
      "\u001b[1;31mNameError\u001b[0m: name 'run_process' is not defined"
     ]
    }
   ],
   "source": [
    "selected_features_rfr_4 = run_process(datalab4,grid_rfr)"
   ]
  },
  {
   "cell_type": "code",
   "execution_count": 69,
   "metadata": {
    "colab": {
     "base_uri": "https://localhost:8080/"
    },
    "id": "Mt1tbCmBvxXh",
    "outputId": "dee43da1-7118-41da-cddb-18f304a4fbc8"
   },
   "outputs": [
    {
     "ename": "NameError",
     "evalue": "name 'run_process' is not defined",
     "output_type": "error",
     "traceback": [
      "\u001b[1;31m---------------------------------------------------------------------------\u001b[0m",
      "\u001b[1;31mNameError\u001b[0m                                 Traceback (most recent call last)",
      "\u001b[1;32m<ipython-input-69-d95e38bb2ded>\u001b[0m in \u001b[0;36m<module>\u001b[1;34m\u001b[0m\n\u001b[1;32m----> 1\u001b[1;33m \u001b[0mselected_features_rfr_4\u001b[0m \u001b[1;33m=\u001b[0m \u001b[0mrun_process\u001b[0m\u001b[1;33m(\u001b[0m\u001b[0mdatalab4\u001b[0m\u001b[1;33m,\u001b[0m\u001b[0mgrid_rfr\u001b[0m\u001b[1;33m)\u001b[0m\u001b[1;33m\u001b[0m\u001b[1;33m\u001b[0m\u001b[0m\n\u001b[0m",
      "\u001b[1;31mNameError\u001b[0m: name 'run_process' is not defined"
     ]
    }
   ],
   "source": [
    "selected_features_rfr_4 = run_process(datalab4,grid_rfr)"
   ]
  },
  {
   "cell_type": "code",
   "execution_count": 70,
   "metadata": {
    "colab": {
     "base_uri": "https://localhost:8080/"
    },
    "id": "HjICh02Mvxf7",
    "outputId": "6c573c92-b6b7-45aa-d5fe-d28c3f776970"
   },
   "outputs": [
    {
     "ename": "NameError",
     "evalue": "name 'run_process' is not defined",
     "output_type": "error",
     "traceback": [
      "\u001b[1;31m---------------------------------------------------------------------------\u001b[0m",
      "\u001b[1;31mNameError\u001b[0m                                 Traceback (most recent call last)",
      "\u001b[1;32m<ipython-input-70-d95e38bb2ded>\u001b[0m in \u001b[0;36m<module>\u001b[1;34m\u001b[0m\n\u001b[1;32m----> 1\u001b[1;33m \u001b[0mselected_features_rfr_4\u001b[0m \u001b[1;33m=\u001b[0m \u001b[0mrun_process\u001b[0m\u001b[1;33m(\u001b[0m\u001b[0mdatalab4\u001b[0m\u001b[1;33m,\u001b[0m\u001b[0mgrid_rfr\u001b[0m\u001b[1;33m)\u001b[0m\u001b[1;33m\u001b[0m\u001b[1;33m\u001b[0m\u001b[0m\n\u001b[0m",
      "\u001b[1;31mNameError\u001b[0m: name 'run_process' is not defined"
     ]
    }
   ],
   "source": [
    "selected_features_rfr_4 = run_process(datalab4,grid_rfr)"
   ]
  },
  {
   "cell_type": "code",
   "execution_count": null,
   "metadata": {
    "colab": {
     "base_uri": "https://localhost:8080/"
    },
    "id": "4usHq8mdvxkj",
    "outputId": "fed733f7-9d83-43d8-f7e2-2a9b35bbf3e7"
   },
   "outputs": [
    {
     "name": "stdout",
     "output_type": "stream",
     "text": [
      "Fitting 5 folds for each of 72 candidates, totalling 360 fits\n",
      "R2-test-fit: 0.22962021285811343\n",
      "R2-test 0.12255895240539283\n",
      "MSE-test 2.3181107077752965\n",
      "Best params: {'est__criterion': 'mae', 'est__max_features': 'log2', 'est__n_estimators': 400, 'sel__estimator__learning_rate': 0.2, 'sel__n_features_to_select': 5}\n",
      "Selected features: ['g_lab4', 'rt_lab4', 'cer_lab4', 'actq1_lab4', 'mean(qavt$_lab4)']\n"
     ]
    }
   ],
   "source": [
    "selected_features_rfr_4 = run_process(datalab4,grid_rfr)"
   ]
  },
  {
   "cell_type": "code",
   "execution_count": null,
   "metadata": {
    "colab": {
     "base_uri": "https://localhost:8080/"
    },
    "id": "7n2a9zFevxpg",
    "outputId": "eb8ebbc9-aaed-4c75-9ac2-1b40a6bd3f7a"
   },
   "outputs": [
    {
     "name": "stdout",
     "output_type": "stream",
     "text": [
      "Fitting 5 folds for each of 72 candidates, totalling 360 fits\n",
      "R2-test-fit: 0.2328573698162033\n",
      "R2-test 0.07285905085094702\n",
      "MSE-test 2.344858178063425\n",
      "Best params: {'est__criterion': 'mse', 'est__max_features': 'sqrt', 'est__n_estimators': 200, 'sel__estimator__learning_rate': 0.2, 'sel__n_features_to_select': 5}\n",
      "Selected features: ['rt_lab4', 'rtr_lab4', 'cer_lab4', 'actq2_lab4', 'mean(qavt$_lab4)']\n"
     ]
    }
   ],
   "source": [
    "selected_features_rfr_4 = run_process(datalab4,grid_rfr)"
   ]
  },
  {
   "cell_type": "markdown",
   "metadata": {
    "id": "gcDG_LAbDM7T"
   },
   "source": [
    "\n",
    "\n",
    "---\n",
    "\n"
   ]
  },
  {
   "cell_type": "code",
   "execution_count": null,
   "metadata": {
    "id": "BMxHPh0dRQgP"
   },
   "outputs": [],
   "source": [
    "estimator = RandomForestRegressor(random_state=random_state, n_jobs=-1)\n",
    " \n",
    "params = {\n",
    "    'n_estimators'  : [50,100,200,400],\n",
    "    'criterion'     : ['mse','mae'],\n",
    "    'max_features'  : ['auto','sqrt','log2']\n",
    "}\n",
    " \n",
    "grid_rfr = GridSearchCV(estimator=estimator,\n",
    "                        param_grid=params,\n",
    "                        scoring='r2',\n",
    "                        verbose=1,\n",
    "                        n_jobs=-1,\n",
    "                        return_train_score=True,\n",
    "                        cv=KFold(n_splits=5, shuffle=True))"
   ]
  },
  {
   "cell_type": "markdown",
   "metadata": {
    "id": "lSdoR6xEXrqE"
   },
   "source": [
    "datalab1_2"
   ]
  },
  {
   "cell_type": "code",
   "execution_count": null,
   "metadata": {
    "colab": {
     "base_uri": "https://localhost:8080/"
    },
    "id": "ik9XJ4HwXrqN",
    "outputId": "eb12035d-456b-42e9-aea4-26d70949bde7"
   },
   "outputs": [
    {
     "name": "stdout",
     "output_type": "stream",
     "text": [
      "Fitting 5 folds for each of 24 candidates, totalling 120 fits\n",
      "R2-test-fit: 0.06604780071295309\n",
      "R2-test 0.026004780335071254\n",
      "MSE-test 2.524526314360119\n",
      "Best params: {'criterion': 'mse', 'max_features': 'sqrt', 'n_estimators': 400}\n"
     ]
    },
    {
     "data": {
      "text/plain": [
       "['rtr_lab1',\n",
       " 'actq1_lab1',\n",
       " 'actq3_lab1',\n",
       " 'mean(qmsr$_lab1)',\n",
       " 'mean(qc$_lab1)',\n",
       " 'ut_lab2',\n",
       " 'act_lab2',\n",
       " 'actq1_lab2',\n",
       " 'mean(qavt$_lab2)',\n",
       " 'avgtime_lab2']"
      ]
     },
     "execution_count": 42,
     "metadata": {
      "tags": []
     },
     "output_type": "execute_result"
    }
   ],
   "source": [
    "dataset = datalab1[[TARGET] + selected_features_rfr_1].join(datalab2[selected_features_rfr_2])\n",
    "run_process(dataset,grid_rfr)"
   ]
  },
  {
   "cell_type": "code",
   "execution_count": null,
   "metadata": {
    "colab": {
     "base_uri": "https://localhost:8080/"
    },
    "id": "bil9vaqaw3K8",
    "outputId": "afd11a21-c47b-4ee2-f62d-4f9e7c8941e2"
   },
   "outputs": [
    {
     "name": "stdout",
     "output_type": "stream",
     "text": [
      "Fitting 5 folds for each of 24 candidates, totalling 120 fits\n",
      "R2-test-fit: 0.08627640515217602\n",
      "R2-test 0.02703867022351436\n",
      "MSE-test 2.5726994944196426\n",
      "Best params: {'criterion': 'mse', 'max_features': 'log2', 'n_estimators': 400}\n"
     ]
    },
    {
     "data": {
      "text/plain": [
       "['rtr_lab1',\n",
       " 'actq1_lab1',\n",
       " 'actq3_lab1',\n",
       " 'mean(qmsr$_lab1)',\n",
       " 'mean(qc$_lab1)',\n",
       " 'ut_lab2',\n",
       " 'act_lab2',\n",
       " 'actq1_lab2',\n",
       " 'mean(qavt$_lab2)',\n",
       " 'avgtime_lab2']"
      ]
     },
     "execution_count": 43,
     "metadata": {
      "tags": []
     },
     "output_type": "execute_result"
    }
   ],
   "source": [
    "dataset = datalab1[[TARGET] + selected_features_rfr_1].join(datalab2[selected_features_rfr_2])\n",
    "run_process(dataset,grid_rfr)"
   ]
  },
  {
   "cell_type": "code",
   "execution_count": null,
   "metadata": {
    "colab": {
     "base_uri": "https://localhost:8080/"
    },
    "id": "TrlKWNc9w3Y9",
    "outputId": "d1feb4e1-9b5c-4480-f5d0-d048f43ec087"
   },
   "outputs": [
    {
     "name": "stdout",
     "output_type": "stream",
     "text": [
      "Fitting 5 folds for each of 24 candidates, totalling 120 fits\n",
      "R2-test-fit: 0.044900703937422626\n",
      "R2-test 0.02379749008497123\n",
      "MSE-test 2.814884295386905\n",
      "Best params: {'criterion': 'mse', 'max_features': 'sqrt', 'n_estimators': 200}\n"
     ]
    },
    {
     "data": {
      "text/plain": [
       "['rtr_lab1',\n",
       " 'actq1_lab1',\n",
       " 'actq3_lab1',\n",
       " 'mean(qmsr$_lab1)',\n",
       " 'mean(qc$_lab1)',\n",
       " 'ut_lab2',\n",
       " 'act_lab2',\n",
       " 'actq1_lab2',\n",
       " 'mean(qavt$_lab2)',\n",
       " 'avgtime_lab2']"
      ]
     },
     "execution_count": 44,
     "metadata": {
      "tags": []
     },
     "output_type": "execute_result"
    }
   ],
   "source": [
    "dataset = datalab1[[TARGET] + selected_features_rfr_1].join(datalab2[selected_features_rfr_2])\n",
    "run_process(dataset,grid_rfr)"
   ]
  },
  {
   "cell_type": "code",
   "execution_count": null,
   "metadata": {
    "colab": {
     "base_uri": "https://localhost:8080/"
    },
    "id": "OV5PrHRrw3xx",
    "outputId": "c7220432-f195-4be3-9b8a-7a8d3f6415c6"
   },
   "outputs": [
    {
     "name": "stdout",
     "output_type": "stream",
     "text": [
      "Fitting 5 folds for each of 24 candidates, totalling 120 fits\n",
      "R2-test-fit: 0.012245398443196432\n",
      "R2-test 0.10801475843065234\n",
      "MSE-test 2.0654830985863093\n",
      "Best params: {'criterion': 'mae', 'max_features': 'sqrt', 'n_estimators': 400}\n"
     ]
    },
    {
     "data": {
      "text/plain": [
       "['rtr_lab1',\n",
       " 'actq1_lab1',\n",
       " 'actq3_lab1',\n",
       " 'mean(qmsr$_lab1)',\n",
       " 'mean(qc$_lab1)',\n",
       " 'ut_lab2',\n",
       " 'act_lab2',\n",
       " 'actq1_lab2',\n",
       " 'mean(qavt$_lab2)',\n",
       " 'avgtime_lab2']"
      ]
     },
     "execution_count": 45,
     "metadata": {
      "tags": []
     },
     "output_type": "execute_result"
    }
   ],
   "source": [
    "dataset = datalab1[[TARGET] + selected_features_rfr_1].join(datalab2[selected_features_rfr_2])\n",
    "run_process(dataset,grid_rfr)"
   ]
  },
  {
   "cell_type": "code",
   "execution_count": null,
   "metadata": {
    "colab": {
     "base_uri": "https://localhost:8080/"
    },
    "id": "qBpRxjQSw34H",
    "outputId": "dbe466a6-75c2-4e7e-f99a-2eabc8efa6fa"
   },
   "outputs": [
    {
     "name": "stdout",
     "output_type": "stream",
     "text": [
      "Fitting 5 folds for each of 24 candidates, totalling 120 fits\n",
      "R2-test-fit: 0.07378431602592536\n",
      "R2-test 0.13140791245439876\n",
      "MSE-test 2.3593600357142863\n",
      "Best params: {'criterion': 'mse', 'max_features': 'log2', 'n_estimators': 200}\n"
     ]
    },
    {
     "data": {
      "text/plain": [
       "['rtr_lab1',\n",
       " 'actq1_lab1',\n",
       " 'actq3_lab1',\n",
       " 'mean(qmsr$_lab1)',\n",
       " 'mean(qc$_lab1)',\n",
       " 'ut_lab2',\n",
       " 'act_lab2',\n",
       " 'actq1_lab2',\n",
       " 'mean(qavt$_lab2)',\n",
       " 'avgtime_lab2']"
      ]
     },
     "execution_count": 46,
     "metadata": {
      "tags": []
     },
     "output_type": "execute_result"
    }
   ],
   "source": [
    "dataset = datalab1[[TARGET] + selected_features_rfr_1].join(datalab2[selected_features_rfr_2])\n",
    "run_process(dataset,grid_rfr)"
   ]
  },
  {
   "cell_type": "code",
   "execution_count": null,
   "metadata": {
    "colab": {
     "base_uri": "https://localhost:8080/"
    },
    "id": "AXfXiy5Qw3-R",
    "outputId": "ff8f69f4-14d9-496f-862d-c8e25e412042"
   },
   "outputs": [
    {
     "name": "stdout",
     "output_type": "stream",
     "text": [
      "Fitting 5 folds for each of 24 candidates, totalling 120 fits\n",
      "R2-test-fit: 0.09630032960042967\n",
      "R2-test 0.041967912360950654\n",
      "MSE-test 2.568257824939599\n",
      "Best params: {'criterion': 'mse', 'max_features': 'log2', 'n_estimators': 200}\n"
     ]
    },
    {
     "data": {
      "text/plain": [
       "['rtr_lab1',\n",
       " 'actq1_lab1',\n",
       " 'actq3_lab1',\n",
       " 'mean(qmsr$_lab1)',\n",
       " 'mean(qc$_lab1)',\n",
       " 'ut_lab2',\n",
       " 'act_lab2',\n",
       " 'actq1_lab2',\n",
       " 'mean(qavt$_lab2)',\n",
       " 'avgtime_lab2']"
      ]
     },
     "execution_count": 47,
     "metadata": {
      "tags": []
     },
     "output_type": "execute_result"
    }
   ],
   "source": [
    "dataset = datalab1[[TARGET] + selected_features_rfr_1].join(datalab2[selected_features_rfr_2])\n",
    "run_process(dataset,grid_rfr)"
   ]
  },
  {
   "cell_type": "code",
   "execution_count": null,
   "metadata": {
    "colab": {
     "base_uri": "https://localhost:8080/"
    },
    "id": "Nrh_Mi-ow4JB",
    "outputId": "e6fe7097-c4f3-471e-fb61-9044fef17113"
   },
   "outputs": [
    {
     "name": "stdout",
     "output_type": "stream",
     "text": [
      "Fitting 5 folds for each of 24 candidates, totalling 120 fits\n",
      "R2-test-fit: 0.1015374122153107\n",
      "R2-test 0.04347043552124441\n",
      "MSE-test 2.1189285298226435\n",
      "Best params: {'criterion': 'mse', 'max_features': 'log2', 'n_estimators': 100}\n"
     ]
    },
    {
     "data": {
      "text/plain": [
       "['rtr_lab1',\n",
       " 'actq1_lab1',\n",
       " 'actq3_lab1',\n",
       " 'mean(qmsr$_lab1)',\n",
       " 'mean(qc$_lab1)',\n",
       " 'ut_lab2',\n",
       " 'act_lab2',\n",
       " 'actq1_lab2',\n",
       " 'mean(qavt$_lab2)',\n",
       " 'avgtime_lab2']"
      ]
     },
     "execution_count": 48,
     "metadata": {
      "tags": []
     },
     "output_type": "execute_result"
    }
   ],
   "source": [
    "dataset = datalab1[[TARGET] + selected_features_rfr_1].join(datalab2[selected_features_rfr_2])\n",
    "run_process(dataset,grid_rfr)"
   ]
  },
  {
   "cell_type": "code",
   "execution_count": null,
   "metadata": {
    "colab": {
     "base_uri": "https://localhost:8080/"
    },
    "id": "Xirt6w2gw4N_",
    "outputId": "fd48d880-c7f0-46ce-f9a4-a9b1848bcfaa"
   },
   "outputs": [
    {
     "name": "stdout",
     "output_type": "stream",
     "text": [
      "Fitting 5 folds for each of 24 candidates, totalling 120 fits\n",
      "R2-test-fit: 0.12087841494931492\n",
      "R2-test 0.17936315562725613\n",
      "MSE-test 2.1027432218915343\n",
      "Best params: {'criterion': 'mse', 'max_features': 'log2', 'n_estimators': 100}\n"
     ]
    },
    {
     "data": {
      "text/plain": [
       "['rtr_lab1',\n",
       " 'actq1_lab1',\n",
       " 'actq3_lab1',\n",
       " 'mean(qmsr$_lab1)',\n",
       " 'mean(qc$_lab1)',\n",
       " 'ut_lab2',\n",
       " 'act_lab2',\n",
       " 'actq1_lab2',\n",
       " 'mean(qavt$_lab2)',\n",
       " 'avgtime_lab2']"
      ]
     },
     "execution_count": 49,
     "metadata": {
      "tags": []
     },
     "output_type": "execute_result"
    }
   ],
   "source": [
    "dataset = datalab1[[TARGET] + selected_features_rfr_1].join(datalab2[selected_features_rfr_2])\n",
    "run_process(dataset,grid_rfr)"
   ]
  },
  {
   "cell_type": "code",
   "execution_count": null,
   "metadata": {
    "colab": {
     "base_uri": "https://localhost:8080/"
    },
    "id": "8VmJPXqJw4UO",
    "outputId": "1089a1c7-bce3-43a1-dbbe-abbdf0a8a30c"
   },
   "outputs": [
    {
     "name": "stdout",
     "output_type": "stream",
     "text": [
      "Fitting 5 folds for each of 24 candidates, totalling 120 fits\n",
      "R2-test-fit: 0.07467040985905342\n",
      "R2-test 0.12036205639661901\n",
      "MSE-test 2.622708284412203\n",
      "Best params: {'criterion': 'mse', 'max_features': 'sqrt', 'n_estimators': 400}\n"
     ]
    },
    {
     "data": {
      "text/plain": [
       "['rtr_lab1',\n",
       " 'actq1_lab1',\n",
       " 'actq3_lab1',\n",
       " 'mean(qmsr$_lab1)',\n",
       " 'mean(qc$_lab1)',\n",
       " 'ut_lab2',\n",
       " 'act_lab2',\n",
       " 'actq1_lab2',\n",
       " 'mean(qavt$_lab2)',\n",
       " 'avgtime_lab2']"
      ]
     },
     "execution_count": 50,
     "metadata": {
      "tags": []
     },
     "output_type": "execute_result"
    }
   ],
   "source": [
    "dataset = datalab1[[TARGET] + selected_features_rfr_1].join(datalab2[selected_features_rfr_2])\n",
    "run_process(dataset,grid_rfr)"
   ]
  },
  {
   "cell_type": "markdown",
   "metadata": {
    "id": "4DrJROxOXrqO"
   },
   "source": [
    "datalab1_2_3"
   ]
  },
  {
   "cell_type": "code",
   "execution_count": null,
   "metadata": {
    "colab": {
     "base_uri": "https://localhost:8080/"
    },
    "id": "zWrEj-BdXdm8",
    "outputId": "bee8163e-a86a-4f19-b75a-4990efa6e48a"
   },
   "outputs": [
    {
     "name": "stdout",
     "output_type": "stream",
     "text": [
      "Fitting 5 folds for each of 24 candidates, totalling 120 fits\n",
      "R2-test-fit: 0.147755680573684\n",
      "R2-test 0.11101195775792494\n",
      "MSE-test 2.1909734583333336\n",
      "Best params: {'criterion': 'mse', 'max_features': 'log2', 'n_estimators': 200}\n"
     ]
    },
    {
     "data": {
      "text/plain": [
       "['rtr_lab1',\n",
       " 'actq1_lab1',\n",
       " 'actq3_lab1',\n",
       " 'mean(qmsr$_lab1)',\n",
       " 'mean(qc$_lab1)',\n",
       " 'ut_lab2',\n",
       " 'act_lab2',\n",
       " 'actq1_lab2',\n",
       " 'mean(qavt$_lab2)',\n",
       " 'avgtime_lab2',\n",
       " 'act_lab3',\n",
       " 'rt_lab3',\n",
       " 'rtr_lab3',\n",
       " 'cer_lab3',\n",
       " 'actq2_lab3']"
      ]
     },
     "execution_count": 51,
     "metadata": {
      "tags": []
     },
     "output_type": "execute_result"
    }
   ],
   "source": [
    "dataset = datalab1[[TARGET] + selected_features_rfr_1].join(datalab2[selected_features_rfr_2]).join(datalab3[selected_features_rfr_3])\n",
    "run_process(dataset,grid_rfr)"
   ]
  },
  {
   "cell_type": "code",
   "execution_count": null,
   "metadata": {
    "colab": {
     "base_uri": "https://localhost:8080/"
    },
    "id": "LGVUl_AAw5eX",
    "outputId": "53dfa6a7-575e-413a-ed10-5bebf164e244"
   },
   "outputs": [
    {
     "name": "stdout",
     "output_type": "stream",
     "text": [
      "Fitting 5 folds for each of 24 candidates, totalling 120 fits\n",
      "R2-test-fit: 0.23312196068662475\n",
      "R2-test 0.16639343504648263\n",
      "MSE-test 1.9574121199776782\n",
      "Best params: {'criterion': 'mse', 'max_features': 'log2', 'n_estimators': 400}\n"
     ]
    },
    {
     "data": {
      "text/plain": [
       "['rtr_lab1',\n",
       " 'actq1_lab1',\n",
       " 'actq3_lab1',\n",
       " 'mean(qmsr$_lab1)',\n",
       " 'mean(qc$_lab1)',\n",
       " 'ut_lab2',\n",
       " 'act_lab2',\n",
       " 'actq1_lab2',\n",
       " 'mean(qavt$_lab2)',\n",
       " 'avgtime_lab2',\n",
       " 'act_lab3',\n",
       " 'rt_lab3',\n",
       " 'rtr_lab3',\n",
       " 'cer_lab3',\n",
       " 'actq2_lab3']"
      ]
     },
     "execution_count": 52,
     "metadata": {
      "tags": []
     },
     "output_type": "execute_result"
    }
   ],
   "source": [
    "dataset = datalab1[[TARGET] + selected_features_rfr_1].join(datalab2[selected_features_rfr_2]).join(datalab3[selected_features_rfr_3])\n",
    "run_process(dataset,grid_rfr)"
   ]
  },
  {
   "cell_type": "code",
   "execution_count": null,
   "metadata": {
    "colab": {
     "base_uri": "https://localhost:8080/"
    },
    "id": "KHxAVZzmw5lr",
    "outputId": "88c03820-111f-49af-ccde-37fc6075b08b"
   },
   "outputs": [
    {
     "name": "stdout",
     "output_type": "stream",
     "text": [
      "Fitting 5 folds for each of 24 candidates, totalling 120 fits\n",
      "R2-test-fit: 0.18954187908887468\n",
      "R2-test 0.21518411061840093\n",
      "MSE-test 1.856312866071429\n",
      "Best params: {'criterion': 'mae', 'max_features': 'log2', 'n_estimators': 200}\n"
     ]
    },
    {
     "data": {
      "text/plain": [
       "['rtr_lab1',\n",
       " 'actq1_lab1',\n",
       " 'actq3_lab1',\n",
       " 'mean(qmsr$_lab1)',\n",
       " 'mean(qc$_lab1)',\n",
       " 'ut_lab2',\n",
       " 'act_lab2',\n",
       " 'actq1_lab2',\n",
       " 'mean(qavt$_lab2)',\n",
       " 'avgtime_lab2',\n",
       " 'act_lab3',\n",
       " 'rt_lab3',\n",
       " 'rtr_lab3',\n",
       " 'cer_lab3',\n",
       " 'actq2_lab3']"
      ]
     },
     "execution_count": 53,
     "metadata": {
      "tags": []
     },
     "output_type": "execute_result"
    }
   ],
   "source": [
    "dataset = datalab1[[TARGET] + selected_features_rfr_1].join(datalab2[selected_features_rfr_2]).join(datalab3[selected_features_rfr_3])\n",
    "run_process(dataset,grid_rfr)"
   ]
  },
  {
   "cell_type": "code",
   "execution_count": null,
   "metadata": {
    "colab": {
     "base_uri": "https://localhost:8080/"
    },
    "id": "E86Cm5Vjw5yp",
    "outputId": "4cec8474-a923-48fb-d8f1-e0274f01ad9f"
   },
   "outputs": [
    {
     "name": "stdout",
     "output_type": "stream",
     "text": [
      "Fitting 5 folds for each of 24 candidates, totalling 120 fits\n",
      "R2-test-fit: 0.17872261930104313\n",
      "R2-test 0.19659789986313458\n",
      "MSE-test 2.0733521309523812\n",
      "Best params: {'criterion': 'mae', 'max_features': 'log2', 'n_estimators': 50}\n"
     ]
    },
    {
     "data": {
      "text/plain": [
       "['rtr_lab1',\n",
       " 'actq1_lab1',\n",
       " 'actq3_lab1',\n",
       " 'mean(qmsr$_lab1)',\n",
       " 'mean(qc$_lab1)',\n",
       " 'ut_lab2',\n",
       " 'act_lab2',\n",
       " 'actq1_lab2',\n",
       " 'mean(qavt$_lab2)',\n",
       " 'avgtime_lab2',\n",
       " 'act_lab3',\n",
       " 'rt_lab3',\n",
       " 'rtr_lab3',\n",
       " 'cer_lab3',\n",
       " 'actq2_lab3']"
      ]
     },
     "execution_count": 54,
     "metadata": {
      "tags": []
     },
     "output_type": "execute_result"
    }
   ],
   "source": [
    "dataset = datalab1[[TARGET] + selected_features_rfr_1].join(datalab2[selected_features_rfr_2]).join(datalab3[selected_features_rfr_3])\n",
    "run_process(dataset,grid_rfr)"
   ]
  },
  {
   "cell_type": "code",
   "execution_count": null,
   "metadata": {
    "colab": {
     "base_uri": "https://localhost:8080/"
    },
    "id": "19LIOQJFw559",
    "outputId": "48d90009-634e-45af-96b3-e8594bf41bc1"
   },
   "outputs": [
    {
     "name": "stdout",
     "output_type": "stream",
     "text": [
      "Fitting 5 folds for each of 24 candidates, totalling 120 fits\n",
      "R2-test-fit: 0.16326078507732564\n",
      "R2-test 0.1070529117568152\n",
      "MSE-test 2.3454449285714283\n",
      "Best params: {'criterion': 'mae', 'max_features': 'log2', 'n_estimators': 200}\n"
     ]
    },
    {
     "data": {
      "text/plain": [
       "['rtr_lab1',\n",
       " 'actq1_lab1',\n",
       " 'actq3_lab1',\n",
       " 'mean(qmsr$_lab1)',\n",
       " 'mean(qc$_lab1)',\n",
       " 'ut_lab2',\n",
       " 'act_lab2',\n",
       " 'actq1_lab2',\n",
       " 'mean(qavt$_lab2)',\n",
       " 'avgtime_lab2',\n",
       " 'act_lab3',\n",
       " 'rt_lab3',\n",
       " 'rtr_lab3',\n",
       " 'cer_lab3',\n",
       " 'actq2_lab3']"
      ]
     },
     "execution_count": 55,
     "metadata": {
      "tags": []
     },
     "output_type": "execute_result"
    }
   ],
   "source": [
    "dataset = datalab1[[TARGET] + selected_features_rfr_1].join(datalab2[selected_features_rfr_2]).join(datalab3[selected_features_rfr_3])\n",
    "run_process(dataset,grid_rfr)"
   ]
  },
  {
   "cell_type": "code",
   "execution_count": null,
   "metadata": {
    "colab": {
     "base_uri": "https://localhost:8080/"
    },
    "id": "Ig70nx_Zw6Ak",
    "outputId": "4c4b1662-3b7c-4e2f-a0a8-4595186a9d9c"
   },
   "outputs": [
    {
     "name": "stdout",
     "output_type": "stream",
     "text": [
      "Fitting 5 folds for each of 24 candidates, totalling 120 fits\n",
      "R2-test-fit: 0.22979258141937947\n",
      "R2-test 0.05450215164382566\n",
      "MSE-test 2.1140117857142857\n",
      "Best params: {'criterion': 'mae', 'max_features': 'auto', 'n_estimators': 50}\n"
     ]
    },
    {
     "data": {
      "text/plain": [
       "['rtr_lab1',\n",
       " 'actq1_lab1',\n",
       " 'actq3_lab1',\n",
       " 'mean(qmsr$_lab1)',\n",
       " 'mean(qc$_lab1)',\n",
       " 'ut_lab2',\n",
       " 'act_lab2',\n",
       " 'actq1_lab2',\n",
       " 'mean(qavt$_lab2)',\n",
       " 'avgtime_lab2',\n",
       " 'act_lab3',\n",
       " 'rt_lab3',\n",
       " 'rtr_lab3',\n",
       " 'cer_lab3',\n",
       " 'actq2_lab3']"
      ]
     },
     "execution_count": 56,
     "metadata": {
      "tags": []
     },
     "output_type": "execute_result"
    }
   ],
   "source": [
    "dataset = datalab1[[TARGET] + selected_features_rfr_1].join(datalab2[selected_features_rfr_2]).join(datalab3[selected_features_rfr_3])\n",
    "run_process(dataset,grid_rfr)"
   ]
  },
  {
   "cell_type": "code",
   "execution_count": null,
   "metadata": {
    "colab": {
     "base_uri": "https://localhost:8080/"
    },
    "id": "CtKRAoCDw6Lr",
    "outputId": "a7226c01-a27f-4946-87f9-31002114a873"
   },
   "outputs": [
    {
     "name": "stdout",
     "output_type": "stream",
     "text": [
      "Fitting 5 folds for each of 24 candidates, totalling 120 fits\n",
      "R2-test-fit: 0.2266959597065262\n",
      "R2-test 0.17635329040331338\n",
      "MSE-test 2.440279833333333\n",
      "Best params: {'criterion': 'mae', 'max_features': 'log2', 'n_estimators': 50}\n"
     ]
    },
    {
     "data": {
      "text/plain": [
       "['rtr_lab1',\n",
       " 'actq1_lab1',\n",
       " 'actq3_lab1',\n",
       " 'mean(qmsr$_lab1)',\n",
       " 'mean(qc$_lab1)',\n",
       " 'ut_lab2',\n",
       " 'act_lab2',\n",
       " 'actq1_lab2',\n",
       " 'mean(qavt$_lab2)',\n",
       " 'avgtime_lab2',\n",
       " 'act_lab3',\n",
       " 'rt_lab3',\n",
       " 'rtr_lab3',\n",
       " 'cer_lab3',\n",
       " 'actq2_lab3']"
      ]
     },
     "execution_count": 57,
     "metadata": {
      "tags": []
     },
     "output_type": "execute_result"
    }
   ],
   "source": [
    "dataset = datalab1[[TARGET] + selected_features_rfr_1].join(datalab2[selected_features_rfr_2]).join(datalab3[selected_features_rfr_3])\n",
    "run_process(dataset,grid_rfr)"
   ]
  },
  {
   "cell_type": "code",
   "execution_count": null,
   "metadata": {
    "colab": {
     "base_uri": "https://localhost:8080/"
    },
    "id": "v3OIK0l4w6SB",
    "outputId": "adfa7735-c66f-4aaa-9e9c-9a59d4dfc3da"
   },
   "outputs": [
    {
     "name": "stdout",
     "output_type": "stream",
     "text": [
      "Fitting 5 folds for each of 24 candidates, totalling 120 fits\n",
      "R2-test-fit: 0.1929070812033978\n",
      "R2-test 0.07222849524853003\n",
      "MSE-test 2.462800424525669\n",
      "Best params: {'criterion': 'mae', 'max_features': 'auto', 'n_estimators': 400}\n"
     ]
    },
    {
     "data": {
      "text/plain": [
       "['rtr_lab1',\n",
       " 'actq1_lab1',\n",
       " 'actq3_lab1',\n",
       " 'mean(qmsr$_lab1)',\n",
       " 'mean(qc$_lab1)',\n",
       " 'ut_lab2',\n",
       " 'act_lab2',\n",
       " 'actq1_lab2',\n",
       " 'mean(qavt$_lab2)',\n",
       " 'avgtime_lab2',\n",
       " 'act_lab3',\n",
       " 'rt_lab3',\n",
       " 'rtr_lab3',\n",
       " 'cer_lab3',\n",
       " 'actq2_lab3']"
      ]
     },
     "execution_count": 58,
     "metadata": {
      "tags": []
     },
     "output_type": "execute_result"
    }
   ],
   "source": [
    "dataset = datalab1[[TARGET] + selected_features_rfr_1].join(datalab2[selected_features_rfr_2]).join(datalab3[selected_features_rfr_3])\n",
    "run_process(dataset,grid_rfr)"
   ]
  },
  {
   "cell_type": "code",
   "execution_count": null,
   "metadata": {
    "colab": {
     "base_uri": "https://localhost:8080/"
    },
    "id": "mulgg_KMw6YV",
    "outputId": "ee27de0f-a790-41cd-9c63-4e8ea715ed60"
   },
   "outputs": [
    {
     "name": "stdout",
     "output_type": "stream",
     "text": [
      "Fitting 5 folds for each of 24 candidates, totalling 120 fits\n",
      "R2-test-fit: 0.22221137930537044\n",
      "R2-test 0.185845476731321\n",
      "MSE-test 2.4747632120535714\n",
      "Best params: {'criterion': 'mse', 'max_features': 'sqrt', 'n_estimators': 200}\n"
     ]
    },
    {
     "data": {
      "text/plain": [
       "['rtr_lab1',\n",
       " 'actq1_lab1',\n",
       " 'actq3_lab1',\n",
       " 'mean(qmsr$_lab1)',\n",
       " 'mean(qc$_lab1)',\n",
       " 'ut_lab2',\n",
       " 'act_lab2',\n",
       " 'actq1_lab2',\n",
       " 'mean(qavt$_lab2)',\n",
       " 'avgtime_lab2',\n",
       " 'act_lab3',\n",
       " 'rt_lab3',\n",
       " 'rtr_lab3',\n",
       " 'cer_lab3',\n",
       " 'actq2_lab3']"
      ]
     },
     "execution_count": 59,
     "metadata": {
      "tags": []
     },
     "output_type": "execute_result"
    }
   ],
   "source": [
    "dataset = datalab1[[TARGET] + selected_features_rfr_1].join(datalab2[selected_features_rfr_2]).join(datalab3[selected_features_rfr_3])\n",
    "run_process(dataset,grid_rfr)"
   ]
  },
  {
   "cell_type": "markdown",
   "metadata": {
    "id": "jzH4vkGHXdm_"
   },
   "source": [
    "datalab1_2_3_4"
   ]
  },
  {
   "cell_type": "code",
   "execution_count": null,
   "metadata": {
    "colab": {
     "base_uri": "https://localhost:8080/"
    },
    "id": "22Cl_fI3Xdm_",
    "outputId": "edcdfa59-971d-408a-bb0a-2770c386a647"
   },
   "outputs": [
    {
     "name": "stdout",
     "output_type": "stream",
     "text": [
      "Fitting 5 folds for each of 24 candidates, totalling 120 fits\n",
      "R2-test-fit: 0.24157051987558145\n",
      "R2-test 0.28403941560651547\n",
      "MSE-test 2.0385483519345238\n",
      "Best params: {'criterion': 'mse', 'max_features': 'sqrt', 'n_estimators': 200}\n"
     ]
    },
    {
     "data": {
      "text/plain": [
       "['rtr_lab1',\n",
       " 'actq1_lab1',\n",
       " 'actq3_lab1',\n",
       " 'mean(qmsr$_lab1)',\n",
       " 'mean(qc$_lab1)',\n",
       " 'ut_lab2',\n",
       " 'act_lab2',\n",
       " 'actq1_lab2',\n",
       " 'mean(qavt$_lab2)',\n",
       " 'avgtime_lab2',\n",
       " 'act_lab3',\n",
       " 'rt_lab3',\n",
       " 'rtr_lab3',\n",
       " 'cer_lab3',\n",
       " 'actq2_lab3',\n",
       " 'rt_lab4',\n",
       " 'rtr_lab4',\n",
       " 'cer_lab4',\n",
       " 'actq2_lab4',\n",
       " 'mean(qavt$_lab4)']"
      ]
     },
     "execution_count": 60,
     "metadata": {
      "tags": []
     },
     "output_type": "execute_result"
    }
   ],
   "source": [
    "dataset = datalab1[[TARGET] + selected_features_rfr_1].join(datalab2[selected_features_rfr_2]).join(datalab3[selected_features_rfr_3]).join(datalab4[selected_features_rfr_4])\n",
    "run_process(dataset,grid_rfr)"
   ]
  },
  {
   "cell_type": "code",
   "execution_count": null,
   "metadata": {
    "colab": {
     "base_uri": "https://localhost:8080/"
    },
    "id": "eyntGif0w7Xk",
    "outputId": "b4f0c12a-733c-40fe-8a3d-779de3befd8c"
   },
   "outputs": [
    {
     "name": "stdout",
     "output_type": "stream",
     "text": [
      "Fitting 5 folds for each of 24 candidates, totalling 120 fits\n",
      "R2-test-fit: 0.2385795855179619\n",
      "R2-test 0.21906480046303567\n",
      "MSE-test 1.8615210788690475\n",
      "Best params: {'criterion': 'mse', 'max_features': 'log2', 'n_estimators': 200}\n"
     ]
    },
    {
     "data": {
      "text/plain": [
       "['rtr_lab1',\n",
       " 'actq1_lab1',\n",
       " 'actq3_lab1',\n",
       " 'mean(qmsr$_lab1)',\n",
       " 'mean(qc$_lab1)',\n",
       " 'ut_lab2',\n",
       " 'act_lab2',\n",
       " 'actq1_lab2',\n",
       " 'mean(qavt$_lab2)',\n",
       " 'avgtime_lab2',\n",
       " 'act_lab3',\n",
       " 'rt_lab3',\n",
       " 'rtr_lab3',\n",
       " 'cer_lab3',\n",
       " 'actq2_lab3',\n",
       " 'rt_lab4',\n",
       " 'rtr_lab4',\n",
       " 'cer_lab4',\n",
       " 'actq2_lab4',\n",
       " 'mean(qavt$_lab4)']"
      ]
     },
     "execution_count": 61,
     "metadata": {
      "tags": []
     },
     "output_type": "execute_result"
    }
   ],
   "source": [
    "dataset = datalab1[[TARGET] + selected_features_rfr_1].join(datalab2[selected_features_rfr_2]).join(datalab3[selected_features_rfr_3]).join(datalab4[selected_features_rfr_4])\n",
    "run_process(dataset,grid_rfr)"
   ]
  },
  {
   "cell_type": "code",
   "execution_count": null,
   "metadata": {
    "colab": {
     "base_uri": "https://localhost:8080/"
    },
    "id": "ZuMSyyDVw7d5",
    "outputId": "c54f7a1d-d54b-4ccf-9f41-5d867310aa4d"
   },
   "outputs": [
    {
     "name": "stdout",
     "output_type": "stream",
     "text": [
      "Fitting 5 folds for each of 24 candidates, totalling 120 fits\n",
      "R2-test-fit: 0.26342413041983814\n",
      "R2-test 0.23640285688539042\n",
      "MSE-test 2.224716901041667\n",
      "Best params: {'criterion': 'mse', 'max_features': 'sqrt', 'n_estimators': 200}\n"
     ]
    },
    {
     "data": {
      "text/plain": [
       "['rtr_lab1',\n",
       " 'actq1_lab1',\n",
       " 'actq3_lab1',\n",
       " 'mean(qmsr$_lab1)',\n",
       " 'mean(qc$_lab1)',\n",
       " 'ut_lab2',\n",
       " 'act_lab2',\n",
       " 'actq1_lab2',\n",
       " 'mean(qavt$_lab2)',\n",
       " 'avgtime_lab2',\n",
       " 'act_lab3',\n",
       " 'rt_lab3',\n",
       " 'rtr_lab3',\n",
       " 'cer_lab3',\n",
       " 'actq2_lab3',\n",
       " 'rt_lab4',\n",
       " 'rtr_lab4',\n",
       " 'cer_lab4',\n",
       " 'actq2_lab4',\n",
       " 'mean(qavt$_lab4)']"
      ]
     },
     "execution_count": 62,
     "metadata": {
      "tags": []
     },
     "output_type": "execute_result"
    }
   ],
   "source": [
    "dataset = datalab1[[TARGET] + selected_features_rfr_1].join(datalab2[selected_features_rfr_2]).join(datalab3[selected_features_rfr_3]).join(datalab4[selected_features_rfr_4])\n",
    "run_process(dataset,grid_rfr)"
   ]
  },
  {
   "cell_type": "code",
   "execution_count": null,
   "metadata": {
    "colab": {
     "base_uri": "https://localhost:8080/"
    },
    "id": "u4GqQSx7w7nK",
    "outputId": "e7010676-f028-4d90-cec0-877d78de3d89"
   },
   "outputs": [
    {
     "name": "stdout",
     "output_type": "stream",
     "text": [
      "Fitting 5 folds for each of 24 candidates, totalling 120 fits\n",
      "R2-test-fit: 0.24383929926131126\n",
      "R2-test 0.3592372346008387\n",
      "MSE-test 1.6555896383928579\n",
      "Best params: {'criterion': 'mse', 'max_features': 'sqrt', 'n_estimators': 400}\n"
     ]
    },
    {
     "data": {
      "text/plain": [
       "['rtr_lab1',\n",
       " 'actq1_lab1',\n",
       " 'actq3_lab1',\n",
       " 'mean(qmsr$_lab1)',\n",
       " 'mean(qc$_lab1)',\n",
       " 'ut_lab2',\n",
       " 'act_lab2',\n",
       " 'actq1_lab2',\n",
       " 'mean(qavt$_lab2)',\n",
       " 'avgtime_lab2',\n",
       " 'act_lab3',\n",
       " 'rt_lab3',\n",
       " 'rtr_lab3',\n",
       " 'cer_lab3',\n",
       " 'actq2_lab3',\n",
       " 'rt_lab4',\n",
       " 'rtr_lab4',\n",
       " 'cer_lab4',\n",
       " 'actq2_lab4',\n",
       " 'mean(qavt$_lab4)']"
      ]
     },
     "execution_count": 63,
     "metadata": {
      "tags": []
     },
     "output_type": "execute_result"
    }
   ],
   "source": [
    "dataset = datalab1[[TARGET] + selected_features_rfr_1].join(datalab2[selected_features_rfr_2]).join(datalab3[selected_features_rfr_3]).join(datalab4[selected_features_rfr_4])\n",
    "run_process(dataset,grid_rfr)"
   ]
  },
  {
   "cell_type": "code",
   "execution_count": null,
   "metadata": {
    "colab": {
     "base_uri": "https://localhost:8080/"
    },
    "id": "f5btPbf7w7ti",
    "outputId": "bcd9347e-be48-4969-9358-5ae3727f026b"
   },
   "outputs": [
    {
     "name": "stdout",
     "output_type": "stream",
     "text": [
      "Fitting 5 folds for each of 24 candidates, totalling 120 fits\n",
      "R2-test-fit: 0.27462749202242304\n",
      "R2-test 0.2864586534738772\n",
      "MSE-test 1.9060561703869052\n",
      "Best params: {'criterion': 'mse', 'max_features': 'sqrt', 'n_estimators': 400}\n"
     ]
    },
    {
     "data": {
      "text/plain": [
       "['rtr_lab1',\n",
       " 'actq1_lab1',\n",
       " 'actq3_lab1',\n",
       " 'mean(qmsr$_lab1)',\n",
       " 'mean(qc$_lab1)',\n",
       " 'ut_lab2',\n",
       " 'act_lab2',\n",
       " 'actq1_lab2',\n",
       " 'mean(qavt$_lab2)',\n",
       " 'avgtime_lab2',\n",
       " 'act_lab3',\n",
       " 'rt_lab3',\n",
       " 'rtr_lab3',\n",
       " 'cer_lab3',\n",
       " 'actq2_lab3',\n",
       " 'rt_lab4',\n",
       " 'rtr_lab4',\n",
       " 'cer_lab4',\n",
       " 'actq2_lab4',\n",
       " 'mean(qavt$_lab4)']"
      ]
     },
     "execution_count": 64,
     "metadata": {
      "tags": []
     },
     "output_type": "execute_result"
    }
   ],
   "source": [
    "dataset = datalab1[[TARGET] + selected_features_rfr_1].join(datalab2[selected_features_rfr_2]).join(datalab3[selected_features_rfr_3]).join(datalab4[selected_features_rfr_4])\n",
    "run_process(dataset,grid_rfr)"
   ]
  },
  {
   "cell_type": "code",
   "execution_count": null,
   "metadata": {
    "colab": {
     "base_uri": "https://localhost:8080/"
    },
    "id": "pSdL7_Ihw7z4",
    "outputId": "56e02191-c142-4dc1-bd67-1b0062ef8480"
   },
   "outputs": [
    {
     "name": "stdout",
     "output_type": "stream",
     "text": [
      "Fitting 5 folds for each of 24 candidates, totalling 120 fits\n",
      "R2-test-fit: 0.23339601674518978\n",
      "R2-test 0.16670798002677523\n",
      "MSE-test 2.1195481071428572\n",
      "Best params: {'criterion': 'mse', 'max_features': 'sqrt', 'n_estimators': 50}\n"
     ]
    },
    {
     "data": {
      "text/plain": [
       "['rtr_lab1',\n",
       " 'actq1_lab1',\n",
       " 'actq3_lab1',\n",
       " 'mean(qmsr$_lab1)',\n",
       " 'mean(qc$_lab1)',\n",
       " 'ut_lab2',\n",
       " 'act_lab2',\n",
       " 'actq1_lab2',\n",
       " 'mean(qavt$_lab2)',\n",
       " 'avgtime_lab2',\n",
       " 'act_lab3',\n",
       " 'rt_lab3',\n",
       " 'rtr_lab3',\n",
       " 'cer_lab3',\n",
       " 'actq2_lab3',\n",
       " 'rt_lab4',\n",
       " 'rtr_lab4',\n",
       " 'cer_lab4',\n",
       " 'actq2_lab4',\n",
       " 'mean(qavt$_lab4)']"
      ]
     },
     "execution_count": 65,
     "metadata": {
      "tags": []
     },
     "output_type": "execute_result"
    }
   ],
   "source": [
    "dataset = datalab1[[TARGET] + selected_features_rfr_1].join(datalab2[selected_features_rfr_2]).join(datalab3[selected_features_rfr_3]).join(datalab4[selected_features_rfr_4])\n",
    "run_process(dataset,grid_rfr)"
   ]
  },
  {
   "cell_type": "code",
   "execution_count": null,
   "metadata": {
    "colab": {
     "base_uri": "https://localhost:8080/"
    },
    "id": "ImYksOTaw78L",
    "outputId": "164f71eb-22a2-4850-a661-2aa9d6213c4d"
   },
   "outputs": [
    {
     "name": "stdout",
     "output_type": "stream",
     "text": [
      "Fitting 5 folds for each of 24 candidates, totalling 120 fits\n",
      "R2-test-fit: 0.2245456730943573\n",
      "R2-test 0.3165732191338049\n",
      "MSE-test 1.9219487068452379\n",
      "Best params: {'criterion': 'mse', 'max_features': 'sqrt', 'n_estimators': 400}\n"
     ]
    },
    {
     "data": {
      "text/plain": [
       "['rtr_lab1',\n",
       " 'actq1_lab1',\n",
       " 'actq3_lab1',\n",
       " 'mean(qmsr$_lab1)',\n",
       " 'mean(qc$_lab1)',\n",
       " 'ut_lab2',\n",
       " 'act_lab2',\n",
       " 'actq1_lab2',\n",
       " 'mean(qavt$_lab2)',\n",
       " 'avgtime_lab2',\n",
       " 'act_lab3',\n",
       " 'rt_lab3',\n",
       " 'rtr_lab3',\n",
       " 'cer_lab3',\n",
       " 'actq2_lab3',\n",
       " 'rt_lab4',\n",
       " 'rtr_lab4',\n",
       " 'cer_lab4',\n",
       " 'actq2_lab4',\n",
       " 'mean(qavt$_lab4)']"
      ]
     },
     "execution_count": 66,
     "metadata": {
      "tags": []
     },
     "output_type": "execute_result"
    }
   ],
   "source": [
    "dataset = datalab1[[TARGET] + selected_features_rfr_1].join(datalab2[selected_features_rfr_2]).join(datalab3[selected_features_rfr_3]).join(datalab4[selected_features_rfr_4])\n",
    "run_process(dataset,grid_rfr)"
   ]
  },
  {
   "cell_type": "code",
   "execution_count": null,
   "metadata": {
    "colab": {
     "base_uri": "https://localhost:8080/"
    },
    "id": "juzERaq0w8Cf",
    "outputId": "a83db703-8f28-4094-fe9f-f5ffcd6244b3"
   },
   "outputs": [
    {
     "name": "stdout",
     "output_type": "stream",
     "text": [
      "Fitting 5 folds for each of 24 candidates, totalling 120 fits\n",
      "R2-test-fit: 0.25409295192745696\n",
      "R2-test 0.14114809115218596\n",
      "MSE-test 1.8609197470238104\n",
      "Best params: {'criterion': 'mse', 'max_features': 'log2', 'n_estimators': 100}\n"
     ]
    },
    {
     "data": {
      "text/plain": [
       "['rtr_lab1',\n",
       " 'actq1_lab1',\n",
       " 'actq3_lab1',\n",
       " 'mean(qmsr$_lab1)',\n",
       " 'mean(qc$_lab1)',\n",
       " 'ut_lab2',\n",
       " 'act_lab2',\n",
       " 'actq1_lab2',\n",
       " 'mean(qavt$_lab2)',\n",
       " 'avgtime_lab2',\n",
       " 'act_lab3',\n",
       " 'rt_lab3',\n",
       " 'rtr_lab3',\n",
       " 'cer_lab3',\n",
       " 'actq2_lab3',\n",
       " 'rt_lab4',\n",
       " 'rtr_lab4',\n",
       " 'cer_lab4',\n",
       " 'actq2_lab4',\n",
       " 'mean(qavt$_lab4)']"
      ]
     },
     "execution_count": 67,
     "metadata": {
      "tags": []
     },
     "output_type": "execute_result"
    }
   ],
   "source": [
    "dataset = datalab1[[TARGET] + selected_features_rfr_1].join(datalab2[selected_features_rfr_2]).join(datalab3[selected_features_rfr_3]).join(datalab4[selected_features_rfr_4])\n",
    "run_process(dataset,grid_rfr)"
   ]
  },
  {
   "cell_type": "code",
   "execution_count": null,
   "metadata": {
    "colab": {
     "base_uri": "https://localhost:8080/"
    },
    "id": "toN7Fv8ew8JO",
    "outputId": "282174b8-07df-4c2e-af5b-c2ae8be8e255"
   },
   "outputs": [
    {
     "name": "stdout",
     "output_type": "stream",
     "text": [
      "Fitting 5 folds for each of 24 candidates, totalling 120 fits\n",
      "R2-test-fit: 0.22610258825938678\n",
      "R2-test 0.29629842289854136\n",
      "MSE-test 1.81886213374256\n",
      "Best params: {'criterion': 'mse', 'max_features': 'log2', 'n_estimators': 400}\n"
     ]
    },
    {
     "data": {
      "text/plain": [
       "['rtr_lab1',\n",
       " 'actq1_lab1',\n",
       " 'actq3_lab1',\n",
       " 'mean(qmsr$_lab1)',\n",
       " 'mean(qc$_lab1)',\n",
       " 'ut_lab2',\n",
       " 'act_lab2',\n",
       " 'actq1_lab2',\n",
       " 'mean(qavt$_lab2)',\n",
       " 'avgtime_lab2',\n",
       " 'act_lab3',\n",
       " 'rt_lab3',\n",
       " 'rtr_lab3',\n",
       " 'cer_lab3',\n",
       " 'actq2_lab3',\n",
       " 'rt_lab4',\n",
       " 'rtr_lab4',\n",
       " 'cer_lab4',\n",
       " 'actq2_lab4',\n",
       " 'mean(qavt$_lab4)']"
      ]
     },
     "execution_count": 68,
     "metadata": {
      "tags": []
     },
     "output_type": "execute_result"
    }
   ],
   "source": [
    "dataset = datalab1[[TARGET] + selected_features_rfr_1].join(datalab2[selected_features_rfr_2]).join(datalab3[selected_features_rfr_3]).join(datalab4[selected_features_rfr_4])\n",
    "run_process(dataset,grid_rfr)"
   ]
  },
  {
   "cell_type": "markdown",
   "metadata": {
    "id": "kEZJscdpYNwc"
   },
   "source": [
    "\n",
    "\n",
    "---\n",
    "\n"
   ]
  },
  {
   "cell_type": "code",
   "execution_count": null,
   "metadata": {
    "id": "u1MZGvNaKeBA"
   },
   "outputs": [],
   "source": [
    "#@title **Linear Regression**\n",
    "\n",
    "from sklearn.linear_model import LinearRegression\n",
    " \n",
    "# GradientBoostingRegressor / RandomForestRegressor / SVR(kernel='linear')\n",
    "sel_estimator = GradientBoostingRegressor(random_state=random_state)\n",
    " \n",
    "# RFE / SelectFromModel\n",
    "selector = RFE(sel_estimator)\n",
    "estimator = LinearRegression()\n",
    "\n",
    "pipe = Pipeline([\n",
    "    ('sel', selector),\n",
    "    ('est', estimator)\n",
    "])\n",
    " \n",
    "# params = {'est__n_jobs': [-1], \n",
    "#           'est__normalize': [True], \n",
    "#           'sel__estimator__learning_rate': [0.1], \n",
    "#           'sel__estimator__n_estimators': [100], \n",
    "#           'sel__max_features': [10], \n",
    "#           'sel__prefit': [False]}\n",
    "\n",
    "params = {\n",
    "    'sel__n_features_to_select' : [5],\n",
    "    'sel__step'                 : [1,2],\n",
    "    'est__n_jobs'               : [-1],\n",
    "}\n",
    " \n",
    "grid_lr = GridSearchCV(estimator=pipe,\n",
    "                       param_grid=params,\n",
    "                       scoring='r2',\n",
    "                       verbose=1,\n",
    "                       n_jobs=-1,\n",
    "                       return_train_score=True,\n",
    "                       cv=KFold(n_splits=5, shuffle=True))"
   ]
  },
  {
   "cell_type": "code",
   "execution_count": null,
   "metadata": {
    "colab": {
     "base_uri": "https://localhost:8080/"
    },
    "id": "0ntQUAzASXp7",
    "outputId": "3f5fc1a2-30cb-4f10-d290-bc8d5bd01553"
   },
   "outputs": [
    {
     "name": "stdout",
     "output_type": "stream",
     "text": [
      "Fitting 5 folds for each of 2 candidates, totalling 10 fits\n"
     ]
    },
    {
     "name": "stderr",
     "output_type": "stream",
     "text": [
      "[Parallel(n_jobs=-1)]: Using backend LokyBackend with 2 concurrent workers.\n",
      "[Parallel(n_jobs=-1)]: Done  10 out of  10 | elapsed:   12.5s finished\n"
     ]
    },
    {
     "name": "stdout",
     "output_type": "stream",
     "text": [
      "R2-test-fit: 0.02811225355053535\n",
      "R2-test 0.032558596746795065\n",
      "MSE-test 2.5196610989325885\n",
      "Best params: {'est__n_jobs': -1, 'sel__n_features_to_select': 5, 'sel__step': 1}\n",
      "Selected features: ['ut_lab1', 'actq1_lab1', 'actq3_lab1', 'mean(qmsr$_lab1)', 'avgtime_lab1']\n"
     ]
    }
   ],
   "source": [
    "selected_features_lr_1 = run_process(datalab1,grid_lr)"
   ]
  },
  {
   "cell_type": "code",
   "execution_count": null,
   "metadata": {
    "colab": {
     "base_uri": "https://localhost:8080/"
    },
    "id": "TDw-YwWWiZSq",
    "outputId": "5c5ab1ad-0303-49d7-8456-1a42a21c0d39"
   },
   "outputs": [
    {
     "name": "stdout",
     "output_type": "stream",
     "text": [
      "Fitting 5 folds for each of 2 candidates, totalling 10 fits\n",
      "R2-test-fit: 0.03897143860883288\n",
      "R2-test 0.004269003431778162\n",
      "MSE-test 2.417052323166249\n",
      "Best params: {'est__n_jobs': -1, 'sel__n_features_to_select': 5, 'sel__step': 1}\n",
      "Selected features: ['ctr_lab1', 'rtr_lab1', 'actq1_lab1', 'actq3_lab1', 'mean(qmsr$_lab1)']\n"
     ]
    }
   ],
   "source": [
    "selected_features_lr_1 = run_process(datalab1,grid_lr)"
   ]
  },
  {
   "cell_type": "code",
   "execution_count": null,
   "metadata": {
    "colab": {
     "base_uri": "https://localhost:8080/"
    },
    "id": "HHCYgipoiZXQ",
    "outputId": "20fbf662-8630-453c-a879-050a0925553e"
   },
   "outputs": [
    {
     "name": "stdout",
     "output_type": "stream",
     "text": [
      "Fitting 5 folds for each of 2 candidates, totalling 10 fits\n",
      "R2-test-fit: 0.01836910463115362\n",
      "R2-test -0.0351778738876205\n",
      "MSE-test 2.087744784828418\n",
      "Best params: {'est__n_jobs': -1, 'sel__n_features_to_select': 5, 'sel__step': 1}\n",
      "Selected features: ['act_lab1', 'rtr_lab1', 'actq3_lab1', 'mean(qmsr$_lab1)', 'mean(qc$_lab1)']\n"
     ]
    }
   ],
   "source": [
    "selected_features_lr_1 = run_process(datalab1,grid_lr)"
   ]
  },
  {
   "cell_type": "code",
   "execution_count": null,
   "metadata": {
    "colab": {
     "base_uri": "https://localhost:8080/"
    },
    "id": "W85uhT1diZdk",
    "outputId": "0cb613d3-ab9b-47b4-9526-f656b30e6d72"
   },
   "outputs": [
    {
     "name": "stdout",
     "output_type": "stream",
     "text": [
      "Fitting 5 folds for each of 2 candidates, totalling 10 fits\n",
      "R2-test-fit: -0.016888356437965758\n",
      "R2-test -0.072736786954678\n",
      "MSE-test 2.3794821493071088\n",
      "Best params: {'est__n_jobs': -1, 'sel__n_features_to_select': 5, 'sel__step': 1}\n",
      "Selected features: ['rtr_lab1', 'cer_lab1', 'actq1_lab1', 'actq3_lab1', 'mean(qmsr$_lab1)']\n"
     ]
    }
   ],
   "source": [
    "selected_features_lr_1 = run_process(datalab1,grid_lr)"
   ]
  },
  {
   "cell_type": "code",
   "execution_count": null,
   "metadata": {
    "colab": {
     "base_uri": "https://localhost:8080/"
    },
    "id": "MqZP3Xg8iZxD",
    "outputId": "3aacd3cc-02d3-48ec-b84f-850285792060"
   },
   "outputs": [
    {
     "name": "stdout",
     "output_type": "stream",
     "text": [
      "Fitting 5 folds for each of 2 candidates, totalling 10 fits\n",
      "R2-test-fit: 0.031864327359388\n",
      "R2-test -0.1664606626861289\n",
      "MSE-test 2.7362078241077707\n",
      "Best params: {'est__n_jobs': -1, 'sel__n_features_to_select': 5, 'sel__step': 1}\n",
      "Selected features: ['rt_lab1', 'ctr_lab1', 'cer_lab1', 'actq1_lab1', 'actq3_lab1']\n"
     ]
    }
   ],
   "source": [
    "selected_features_lr_1 = run_process(datalab1,grid_lr)"
   ]
  },
  {
   "cell_type": "code",
   "execution_count": null,
   "metadata": {
    "colab": {
     "base_uri": "https://localhost:8080/"
    },
    "id": "5dA-C5XsiaAw",
    "outputId": "8e92c7c7-451c-47f7-cb80-bbe0a8df1dd8"
   },
   "outputs": [
    {
     "name": "stdout",
     "output_type": "stream",
     "text": [
      "Fitting 5 folds for each of 2 candidates, totalling 10 fits\n",
      "R2-test-fit: -0.015313234783943197\n",
      "R2-test -0.02341772855642965\n",
      "MSE-test 3.108214716784758\n",
      "Best params: {'est__n_jobs': -1, 'sel__n_features_to_select': 5, 'sel__step': 2}\n",
      "Selected features: ['rt_lab1', 'ctr_lab1', 'actq1_lab1', 'actq3_lab1', 'avgtime_lab1']\n"
     ]
    }
   ],
   "source": [
    "selected_features_lr_1 = run_process(datalab1,grid_lr)"
   ]
  },
  {
   "cell_type": "code",
   "execution_count": null,
   "metadata": {
    "colab": {
     "base_uri": "https://localhost:8080/"
    },
    "id": "jeSbwT_TiaFn",
    "outputId": "c5afe54b-200d-4a1f-a088-f56d4dbb1f00"
   },
   "outputs": [
    {
     "name": "stdout",
     "output_type": "stream",
     "text": [
      "Fitting 5 folds for each of 2 candidates, totalling 10 fits\n",
      "R2-test-fit: 0.0006082950578217616\n",
      "R2-test -0.046412203405714836\n",
      "MSE-test 2.188859717264865\n",
      "Best params: {'est__n_jobs': -1, 'sel__n_features_to_select': 5, 'sel__step': 2}\n",
      "Selected features: ['rt_lab1', 'rtr_lab1', 'cer_lab1', 'actq3_lab1', 'mean(qmsr$_lab1)']\n"
     ]
    }
   ],
   "source": [
    "selected_features_lr_1 = run_process(datalab1,grid_lr)"
   ]
  },
  {
   "cell_type": "code",
   "execution_count": null,
   "metadata": {
    "colab": {
     "base_uri": "https://localhost:8080/"
    },
    "id": "bIB4vOl_iaKh",
    "outputId": "5d9a7520-9990-4db1-ce63-3c654834e2b2"
   },
   "outputs": [
    {
     "name": "stdout",
     "output_type": "stream",
     "text": [
      "Fitting 5 folds for each of 2 candidates, totalling 10 fits\n",
      "R2-test-fit: 0.01726029461881915\n",
      "R2-test -0.161316514713018\n",
      "MSE-test 2.583963808227975\n",
      "Best params: {'est__n_jobs': -1, 'sel__n_features_to_select': 5, 'sel__step': 2}\n",
      "Selected features: ['ct_lab1', 'actq1_lab1', 'actq3_lab1', 'mean(qavt$_lab1)', 'mean(qmsr$_lab1)']\n"
     ]
    }
   ],
   "source": [
    "selected_features_lr_1 = run_process(datalab1,grid_lr)"
   ]
  },
  {
   "cell_type": "code",
   "execution_count": null,
   "metadata": {
    "colab": {
     "base_uri": "https://localhost:8080/"
    },
    "id": "HrnpAK3kiaPk",
    "outputId": "40106e8c-4df1-46c7-d438-94d22812f588"
   },
   "outputs": [
    {
     "name": "stdout",
     "output_type": "stream",
     "text": [
      "Fitting 5 folds for each of 2 candidates, totalling 10 fits\n",
      "R2-test-fit: -0.07246426008578868\n",
      "R2-test 0.044227075998590326\n",
      "MSE-test 2.421602954766893\n",
      "Best params: {'est__n_jobs': -1, 'sel__n_features_to_select': 5, 'sel__step': 1}\n",
      "Selected features: ['cer_lab1', 'actq1_lab1', 'actq3_lab1', 'mean(qmsr$_lab1)', 'mean(qc$_lab1)']\n"
     ]
    }
   ],
   "source": [
    "selected_features_lr_1 = run_process(datalab1,grid_lr)"
   ]
  },
  {
   "cell_type": "code",
   "execution_count": null,
   "metadata": {
    "colab": {
     "base_uri": "https://localhost:8080/"
    },
    "id": "M-GxcpvxiaVm",
    "outputId": "f452cb8b-2579-4f18-cb6e-fb36f585c7a6"
   },
   "outputs": [
    {
     "name": "stdout",
     "output_type": "stream",
     "text": [
      "Fitting 5 folds for each of 2 candidates, totalling 10 fits\n",
      "R2-test-fit: 0.01283722159498144\n",
      "R2-test -0.01219173166213916\n",
      "MSE-test 2.573386661691931\n",
      "Best params: {'est__n_jobs': -1, 'sel__n_features_to_select': 5, 'sel__step': 1}\n",
      "Selected features: ['ut_lab1', 'rtr_lab1', 'actq1_lab1', 'actq3_lab1', 'mean(qmsr$_lab1)']\n"
     ]
    }
   ],
   "source": [
    "selected_features_lr_1 = run_process(datalab1,grid_lr)"
   ]
  },
  {
   "cell_type": "markdown",
   "metadata": {
    "id": "Yoer3FcliWAf"
   },
   "source": [
    "\n",
    "\n",
    "---\n",
    "\n"
   ]
  },
  {
   "cell_type": "code",
   "execution_count": null,
   "metadata": {
    "colab": {
     "base_uri": "https://localhost:8080/"
    },
    "id": "gZ-_JR2zaRUo",
    "outputId": "fe1b29a2-b76c-465d-eb37-149f42a73837"
   },
   "outputs": [
    {
     "name": "stdout",
     "output_type": "stream",
     "text": [
      "Fitting 5 folds for each of 2 candidates, totalling 10 fits\n"
     ]
    },
    {
     "name": "stderr",
     "output_type": "stream",
     "text": [
      "[Parallel(n_jobs=-1)]: Using backend LokyBackend with 2 concurrent workers.\n",
      "[Parallel(n_jobs=-1)]: Done  10 out of  10 | elapsed:   12.8s finished\n"
     ]
    },
    {
     "name": "stdout",
     "output_type": "stream",
     "text": [
      "R2-test-fit: -0.018461526297947884\n",
      "R2-test -0.01656735636802731\n",
      "MSE-test 2.728017786168922\n",
      "Best params: {'est__n_jobs': -1, 'sel__n_features_to_select': 5, 'sel__step': 2}\n",
      "Selected features: ['actq1_lab2', 'actq3_lab2', 'mean(qact$_lab2)', 'mean(qavt$_lab2)', 'avgtime_lab2']\n"
     ]
    }
   ],
   "source": [
    "selected_features_lr_2 = run_process(datalab2,grid_lr)"
   ]
  },
  {
   "cell_type": "code",
   "execution_count": null,
   "metadata": {
    "colab": {
     "base_uri": "https://localhost:8080/"
    },
    "id": "Lm2o9SYFUXof",
    "outputId": "0fc74f25-e72d-4e3c-b7e5-cdcc764f0c92"
   },
   "outputs": [
    {
     "name": "stdout",
     "output_type": "stream",
     "text": [
      "Fitting 5 folds for each of 2 candidates, totalling 10 fits\n"
     ]
    },
    {
     "name": "stderr",
     "output_type": "stream",
     "text": [
      "[Parallel(n_jobs=-1)]: Using backend LokyBackend with 2 concurrent workers.\n",
      "[Parallel(n_jobs=-1)]: Done  10 out of  10 | elapsed:   11.4s finished\n"
     ]
    },
    {
     "name": "stdout",
     "output_type": "stream",
     "text": [
      "R2-test-fit: -0.007773403567338933\n",
      "R2-test 0.0021815699112528453\n",
      "MSE-test 2.5931524128877563\n",
      "Best params: {'est__n_jobs': -1, 'sel__n_features_to_select': 5, 'sel__step': 2}\n",
      "Selected features: ['rt_lab2', 'actq1_lab2', 'actq3_lab2', 'mean(qavt$_lab2)', 'sum(qat$_lab2)']\n"
     ]
    }
   ],
   "source": [
    "selected_features_lr_2 = run_process(datalab2,grid_lr)"
   ]
  },
  {
   "cell_type": "code",
   "execution_count": null,
   "metadata": {
    "colab": {
     "base_uri": "https://localhost:8080/"
    },
    "id": "_NJ1kbSQUXw1",
    "outputId": "5bf816fc-2500-4f8c-9883-4af69b4ec784"
   },
   "outputs": [
    {
     "name": "stdout",
     "output_type": "stream",
     "text": [
      "Fitting 5 folds for each of 2 candidates, totalling 10 fits\n"
     ]
    },
    {
     "name": "stderr",
     "output_type": "stream",
     "text": [
      "[Parallel(n_jobs=-1)]: Using backend LokyBackend with 2 concurrent workers.\n",
      "[Parallel(n_jobs=-1)]: Done  10 out of  10 | elapsed:   11.4s finished\n"
     ]
    },
    {
     "name": "stdout",
     "output_type": "stream",
     "text": [
      "R2-test-fit: -0.05430646627827982\n",
      "R2-test -0.004493133035586405\n",
      "MSE-test 2.2068622310502883\n",
      "Best params: {'est__n_jobs': -1, 'sel__n_features_to_select': 5, 'sel__step': 2}\n",
      "Selected features: ['actq1_lab2', 'actq3_lab2', 'mean(qact$_lab2)', 'mean(qavt$_lab2)', 'mean(qmsr$_lab2)']\n"
     ]
    }
   ],
   "source": [
    "selected_features_lr_2 = run_process(datalab2,grid_lr)"
   ]
  },
  {
   "cell_type": "code",
   "execution_count": null,
   "metadata": {
    "colab": {
     "base_uri": "https://localhost:8080/"
    },
    "id": "L_LD1Ql0UX3n",
    "outputId": "37bc9ac8-4ec2-40df-8d9d-054ea5470f3a"
   },
   "outputs": [
    {
     "name": "stdout",
     "output_type": "stream",
     "text": [
      "Fitting 5 folds for each of 2 candidates, totalling 10 fits\n"
     ]
    },
    {
     "name": "stderr",
     "output_type": "stream",
     "text": [
      "[Parallel(n_jobs=-1)]: Using backend LokyBackend with 2 concurrent workers.\n",
      "[Parallel(n_jobs=-1)]: Done  10 out of  10 | elapsed:   11.6s finished\n"
     ]
    },
    {
     "name": "stdout",
     "output_type": "stream",
     "text": [
      "R2-test-fit: -0.01116308943135631\n",
      "R2-test -0.09358823440447739\n",
      "MSE-test 2.8867796259404037\n",
      "Best params: {'est__n_jobs': -1, 'sel__n_features_to_select': 5, 'sel__step': 1}\n",
      "Selected features: ['ct_lab2', 'rt_lab2', 'actq1_lab2', 'actq3_lab2', 'mean(qmsr$_lab2)']\n"
     ]
    }
   ],
   "source": [
    "selected_features_lr_2 = run_process(datalab2,grid_lr)"
   ]
  },
  {
   "cell_type": "code",
   "execution_count": null,
   "metadata": {
    "colab": {
     "base_uri": "https://localhost:8080/"
    },
    "id": "zjots8fGUX8_",
    "outputId": "a9d48a23-0e03-4189-f932-f92c511430b0"
   },
   "outputs": [
    {
     "name": "stdout",
     "output_type": "stream",
     "text": [
      "Fitting 5 folds for each of 2 candidates, totalling 10 fits\n"
     ]
    },
    {
     "name": "stderr",
     "output_type": "stream",
     "text": [
      "[Parallel(n_jobs=-1)]: Using backend LokyBackend with 2 concurrent workers.\n",
      "[Parallel(n_jobs=-1)]: Done  10 out of  10 | elapsed:   11.5s finished\n"
     ]
    },
    {
     "name": "stdout",
     "output_type": "stream",
     "text": [
      "R2-test-fit: -0.1206116023011315\n",
      "R2-test -0.011551057319366675\n",
      "MSE-test 2.3917258136634243\n",
      "Best params: {'est__n_jobs': -1, 'sel__n_features_to_select': 5, 'sel__step': 1}\n",
      "Selected features: ['rtr_lab2', 'actq1_lab2', 'actq3_lab2', 'mean(qact$_lab2)', 'avgtime_lab2']\n"
     ]
    }
   ],
   "source": [
    "selected_features_lr_2 = run_process(datalab2,grid_lr)"
   ]
  },
  {
   "cell_type": "code",
   "execution_count": null,
   "metadata": {
    "colab": {
     "base_uri": "https://localhost:8080/"
    },
    "id": "FXSul_YzUYC2",
    "outputId": "6c432762-d020-4d6f-c966-ee41a2bb4a91"
   },
   "outputs": [
    {
     "name": "stdout",
     "output_type": "stream",
     "text": [
      "Fitting 5 folds for each of 2 candidates, totalling 10 fits\n"
     ]
    },
    {
     "name": "stderr",
     "output_type": "stream",
     "text": [
      "[Parallel(n_jobs=-1)]: Using backend LokyBackend with 2 concurrent workers.\n",
      "[Parallel(n_jobs=-1)]: Done  10 out of  10 | elapsed:   11.4s finished\n"
     ]
    },
    {
     "name": "stdout",
     "output_type": "stream",
     "text": [
      "R2-test-fit: -0.02593232376933572\n",
      "R2-test -0.0029205063247796925\n",
      "MSE-test 2.783499546633971\n",
      "Best params: {'est__n_jobs': -1, 'sel__n_features_to_select': 5, 'sel__step': 2}\n",
      "Selected features: ['ut_lab2', 'rt_lab2', 'actq2_lab2', 'actq3_lab2', 'avgtime_lab2']\n"
     ]
    }
   ],
   "source": [
    "selected_features_lr_2 = run_process(datalab2,grid_lr)"
   ]
  },
  {
   "cell_type": "code",
   "execution_count": null,
   "metadata": {
    "colab": {
     "base_uri": "https://localhost:8080/"
    },
    "id": "S5q0EqS3UYJB",
    "outputId": "b0dcce39-d5b5-4a38-8737-46844dd4c21f"
   },
   "outputs": [
    {
     "name": "stdout",
     "output_type": "stream",
     "text": [
      "Fitting 5 folds for each of 2 candidates, totalling 10 fits\n"
     ]
    },
    {
     "name": "stderr",
     "output_type": "stream",
     "text": [
      "[Parallel(n_jobs=-1)]: Using backend LokyBackend with 2 concurrent workers.\n",
      "[Parallel(n_jobs=-1)]: Done  10 out of  10 | elapsed:   11.5s finished\n"
     ]
    },
    {
     "name": "stdout",
     "output_type": "stream",
     "text": [
      "R2-test-fit: -0.05192043074153698\n",
      "R2-test -0.048880376819264715\n",
      "MSE-test 2.768709730396985\n",
      "Best params: {'est__n_jobs': -1, 'sel__n_features_to_select': 5, 'sel__step': 1}\n",
      "Selected features: ['rt_lab2', 'rtr_lab2', 'actq1_lab2', 'mean(qavt$_lab2)', 'mean(qc$_lab2)']\n"
     ]
    }
   ],
   "source": [
    "selected_features_lr_2 = run_process(datalab2,grid_lr)"
   ]
  },
  {
   "cell_type": "code",
   "execution_count": null,
   "metadata": {
    "colab": {
     "base_uri": "https://localhost:8080/"
    },
    "id": "hapnKSOYUYOl",
    "outputId": "330fa28e-e9f6-4fc7-bb1e-d99192923561"
   },
   "outputs": [
    {
     "name": "stdout",
     "output_type": "stream",
     "text": [
      "Fitting 5 folds for each of 2 candidates, totalling 10 fits\n"
     ]
    },
    {
     "name": "stderr",
     "output_type": "stream",
     "text": [
      "[Parallel(n_jobs=-1)]: Using backend LokyBackend with 2 concurrent workers.\n",
      "[Parallel(n_jobs=-1)]: Done  10 out of  10 | elapsed:   11.6s finished\n"
     ]
    },
    {
     "name": "stdout",
     "output_type": "stream",
     "text": [
      "R2-test-fit: -0.0714844975712177\n",
      "R2-test -0.055959025146244956\n",
      "MSE-test 2.8695866093217424\n",
      "Best params: {'est__n_jobs': -1, 'sel__n_features_to_select': 5, 'sel__step': 1}\n",
      "Selected features: ['rtr_lab2', 'actq1_lab2', 'actq3_lab2', 'mean(qavt$_lab2)', 'avgtime_lab2']\n"
     ]
    }
   ],
   "source": [
    "selected_features_lr_2 = run_process(datalab2,grid_lr)"
   ]
  },
  {
   "cell_type": "code",
   "execution_count": null,
   "metadata": {
    "colab": {
     "base_uri": "https://localhost:8080/"
    },
    "id": "83ogydKRUYUW",
    "outputId": "76b476d5-a079-4942-e76a-22a8240711bf"
   },
   "outputs": [
    {
     "name": "stdout",
     "output_type": "stream",
     "text": [
      "Fitting 5 folds for each of 2 candidates, totalling 10 fits\n"
     ]
    },
    {
     "name": "stderr",
     "output_type": "stream",
     "text": [
      "[Parallel(n_jobs=-1)]: Using backend LokyBackend with 2 concurrent workers.\n",
      "[Parallel(n_jobs=-1)]: Done  10 out of  10 | elapsed:   11.5s finished\n"
     ]
    },
    {
     "name": "stdout",
     "output_type": "stream",
     "text": [
      "R2-test-fit: -0.0651951168662043\n",
      "R2-test -0.01142981763075124\n",
      "MSE-test 2.5371307013634965\n",
      "Best params: {'est__n_jobs': -1, 'sel__n_features_to_select': 5, 'sel__step': 2}\n",
      "Selected features: ['ct_lab2', 'rt_lab2', 'actq3_lab2', 'mean(qavt$_lab2)', 'mean(qmsr$_lab2)']\n"
     ]
    }
   ],
   "source": [
    "selected_features_lr_2 = run_process(datalab2,grid_lr)"
   ]
  },
  {
   "cell_type": "code",
   "execution_count": null,
   "metadata": {
    "colab": {
     "base_uri": "https://localhost:8080/"
    },
    "id": "HDqgsEz2UYZy",
    "outputId": "705191e4-292c-41f8-c6f3-da10ebf8535d"
   },
   "outputs": [
    {
     "name": "stdout",
     "output_type": "stream",
     "text": [
      "Fitting 5 folds for each of 2 candidates, totalling 10 fits\n"
     ]
    },
    {
     "name": "stderr",
     "output_type": "stream",
     "text": [
      "[Parallel(n_jobs=-1)]: Using backend LokyBackend with 2 concurrent workers.\n",
      "[Parallel(n_jobs=-1)]: Done  10 out of  10 | elapsed:   11.4s finished\n"
     ]
    },
    {
     "name": "stdout",
     "output_type": "stream",
     "text": [
      "R2-test-fit: 0.003965659978402014\n",
      "R2-test -0.08150860925278214\n",
      "MSE-test 2.5136932429176713\n",
      "Best params: {'est__n_jobs': -1, 'sel__n_features_to_select': 5, 'sel__step': 1}\n",
      "Selected features: ['act_lab2', 'actq1_lab2', 'actq3_lab2', 'mean(qmsr$_lab2)', 'avgtime_lab2']\n"
     ]
    }
   ],
   "source": [
    "selected_features_lr_2 = run_process(datalab2,grid_lr)"
   ]
  },
  {
   "cell_type": "markdown",
   "metadata": {
    "id": "iIs-feyJUTDF"
   },
   "source": [
    "\n",
    "\n",
    "---\n",
    "\n"
   ]
  },
  {
   "cell_type": "code",
   "execution_count": null,
   "metadata": {
    "colab": {
     "base_uri": "https://localhost:8080/"
    },
    "id": "vQ0rerykbVhN",
    "outputId": "9f70a7f5-71d6-4f40-db9a-64f27592a8d7"
   },
   "outputs": [
    {
     "name": "stdout",
     "output_type": "stream",
     "text": [
      "Fitting 5 folds for each of 2 candidates, totalling 10 fits\n"
     ]
    },
    {
     "name": "stderr",
     "output_type": "stream",
     "text": [
      "[Parallel(n_jobs=-1)]: Using backend LokyBackend with 2 concurrent workers.\n",
      "[Parallel(n_jobs=-1)]: Done  10 out of  10 | elapsed:   12.3s finished\n"
     ]
    },
    {
     "name": "stdout",
     "output_type": "stream",
     "text": [
      "R2-test-fit: -0.018753894671260762\n",
      "R2-test -0.036618679024586376\n",
      "MSE-test 2.193674863056382\n",
      "Best params: {'est__n_jobs': -1, 'sel__n_features_to_select': 5, 'sel__step': 2}\n",
      "Selected features: ['ut_lab3', 'act_lab3', 'rt_lab3', 'actq1_lab3', 'mean(qc$_lab3)']\n"
     ]
    }
   ],
   "source": [
    "selected_features_lr_3 = run_process(datalab3,grid_lr)"
   ]
  },
  {
   "cell_type": "code",
   "execution_count": null,
   "metadata": {
    "colab": {
     "base_uri": "https://localhost:8080/"
    },
    "id": "W8Fta5vpUfzc",
    "outputId": "532102df-ac52-429b-f894-62999be1fcc2"
   },
   "outputs": [
    {
     "name": "stdout",
     "output_type": "stream",
     "text": [
      "Fitting 5 folds for each of 2 candidates, totalling 10 fits\n"
     ]
    },
    {
     "name": "stderr",
     "output_type": "stream",
     "text": [
      "[Parallel(n_jobs=-1)]: Using backend LokyBackend with 2 concurrent workers.\n",
      "[Parallel(n_jobs=-1)]: Done  10 out of  10 | elapsed:   11.0s finished\n"
     ]
    },
    {
     "name": "stdout",
     "output_type": "stream",
     "text": [
      "R2-test-fit: -0.004440166709342819\n",
      "R2-test 0.07991681328798839\n",
      "MSE-test 2.146431435960078\n",
      "Best params: {'est__n_jobs': -1, 'sel__n_features_to_select': 5, 'sel__step': 1}\n",
      "Selected features: ['ut_lab3', 'rt_lab3', 'actq1_lab3', 'mean(qact$_lab3)', 'avgtime_lab3']\n"
     ]
    }
   ],
   "source": [
    "selected_features_lr_3 = run_process(datalab3,grid_lr)"
   ]
  },
  {
   "cell_type": "code",
   "execution_count": null,
   "metadata": {
    "colab": {
     "base_uri": "https://localhost:8080/"
    },
    "id": "aGP7NITbUf6F",
    "outputId": "ce1cc451-2f78-43b4-c4d1-df10b4522940"
   },
   "outputs": [
    {
     "name": "stdout",
     "output_type": "stream",
     "text": [
      "Fitting 5 folds for each of 2 candidates, totalling 10 fits\n"
     ]
    },
    {
     "name": "stderr",
     "output_type": "stream",
     "text": [
      "[Parallel(n_jobs=-1)]: Using backend LokyBackend with 2 concurrent workers.\n",
      "[Parallel(n_jobs=-1)]: Done  10 out of  10 | elapsed:   11.1s finished\n"
     ]
    },
    {
     "name": "stdout",
     "output_type": "stream",
     "text": [
      "R2-test-fit: 0.08125987552270511\n",
      "R2-test 0.02573825965896326\n",
      "MSE-test 2.117440735447757\n",
      "Best params: {'est__n_jobs': -1, 'sel__n_features_to_select': 5, 'sel__step': 1}\n",
      "Selected features: ['ut_lab3', 'rt_lab3', 'cer_lab3', 'actq1_lab3', 'mean(qmsr$_lab3)']\n"
     ]
    }
   ],
   "source": [
    "selected_features_lr_3 = run_process(datalab3,grid_lr)"
   ]
  },
  {
   "cell_type": "code",
   "execution_count": null,
   "metadata": {
    "colab": {
     "base_uri": "https://localhost:8080/"
    },
    "id": "xJCWlOT4UgAI",
    "outputId": "dcf5fb66-7d42-45ef-d93b-b25760ff7131"
   },
   "outputs": [
    {
     "name": "stdout",
     "output_type": "stream",
     "text": [
      "Fitting 5 folds for each of 2 candidates, totalling 10 fits\n"
     ]
    },
    {
     "name": "stderr",
     "output_type": "stream",
     "text": [
      "[Parallel(n_jobs=-1)]: Using backend LokyBackend with 2 concurrent workers.\n",
      "[Parallel(n_jobs=-1)]: Done  10 out of  10 | elapsed:   11.0s finished\n"
     ]
    },
    {
     "name": "stdout",
     "output_type": "stream",
     "text": [
      "R2-test-fit: 0.019140204136254724\n",
      "R2-test 0.008802314475705342\n",
      "MSE-test 2.6665279223885143\n",
      "Best params: {'est__n_jobs': -1, 'sel__n_features_to_select': 5, 'sel__step': 2}\n",
      "Selected features: ['ut_lab3', 'act_lab3', 'rt_lab3', 'err_lab3', 'actq1_lab3']\n"
     ]
    }
   ],
   "source": [
    "selected_features_lr_3 = run_process(datalab3,grid_lr)"
   ]
  },
  {
   "cell_type": "code",
   "execution_count": null,
   "metadata": {
    "colab": {
     "base_uri": "https://localhost:8080/"
    },
    "id": "UGg3A9V8UgFI",
    "outputId": "c6ed80f9-b73b-4904-ae34-1dbebe432600"
   },
   "outputs": [
    {
     "name": "stdout",
     "output_type": "stream",
     "text": [
      "Fitting 5 folds for each of 2 candidates, totalling 10 fits\n"
     ]
    },
    {
     "name": "stderr",
     "output_type": "stream",
     "text": [
      "[Parallel(n_jobs=-1)]: Using backend LokyBackend with 2 concurrent workers.\n",
      "[Parallel(n_jobs=-1)]: Done  10 out of  10 | elapsed:   11.2s finished\n"
     ]
    },
    {
     "name": "stdout",
     "output_type": "stream",
     "text": [
      "R2-test-fit: 0.04813360498324746\n",
      "R2-test -0.09553660911426132\n",
      "MSE-test 2.561914534097449\n",
      "Best params: {'est__n_jobs': -1, 'sel__n_features_to_select': 5, 'sel__step': 1}\n",
      "Selected features: ['ut_lab3', 'rt_lab3', 'cer_lab3', 'actq1_lab3', 'mean(qact$_lab3)']\n"
     ]
    }
   ],
   "source": [
    "selected_features_lr_3 = run_process(datalab3,grid_lr)"
   ]
  },
  {
   "cell_type": "code",
   "execution_count": null,
   "metadata": {
    "colab": {
     "base_uri": "https://localhost:8080/"
    },
    "id": "Wbbq7P2hUgJ2",
    "outputId": "7d7663dd-3c8f-43e7-d5a2-a4b96469d4c1"
   },
   "outputs": [
    {
     "name": "stdout",
     "output_type": "stream",
     "text": [
      "Fitting 5 folds for each of 2 candidates, totalling 10 fits\n"
     ]
    },
    {
     "name": "stderr",
     "output_type": "stream",
     "text": [
      "[Parallel(n_jobs=-1)]: Using backend LokyBackend with 2 concurrent workers.\n",
      "[Parallel(n_jobs=-1)]: Done  10 out of  10 | elapsed:   11.1s finished\n"
     ]
    },
    {
     "name": "stdout",
     "output_type": "stream",
     "text": [
      "R2-test-fit: 0.049884782524431494\n",
      "R2-test -0.17097118403651224\n",
      "MSE-test 2.7892198376738415\n",
      "Best params: {'est__n_jobs': -1, 'sel__n_features_to_select': 5, 'sel__step': 2}\n",
      "Selected features: ['ut_lab3', 'act_lab3', 'rt_lab3', 'rtr_lab3', 'actq1_lab3']\n"
     ]
    }
   ],
   "source": [
    "selected_features_lr_3 = run_process(datalab3,grid_lr)"
   ]
  },
  {
   "cell_type": "code",
   "execution_count": null,
   "metadata": {
    "colab": {
     "base_uri": "https://localhost:8080/"
    },
    "id": "9ocbSHmMUgPR",
    "outputId": "ddaf5305-3f87-4c06-9608-203ca45bb071"
   },
   "outputs": [
    {
     "name": "stdout",
     "output_type": "stream",
     "text": [
      "Fitting 5 folds for each of 2 candidates, totalling 10 fits\n"
     ]
    },
    {
     "name": "stderr",
     "output_type": "stream",
     "text": [
      "[Parallel(n_jobs=-1)]: Using backend LokyBackend with 2 concurrent workers.\n",
      "[Parallel(n_jobs=-1)]: Done  10 out of  10 | elapsed:   11.1s finished\n"
     ]
    },
    {
     "name": "stdout",
     "output_type": "stream",
     "text": [
      "R2-test-fit: 0.07901984112542626\n",
      "R2-test 0.09808442468200484\n",
      "MSE-test 2.466566218560531\n",
      "Best params: {'est__n_jobs': -1, 'sel__n_features_to_select': 5, 'sel__step': 1}\n",
      "Selected features: ['rt_lab3', 'cer_lab3', 'actq1_lab3', 'mean(qavt$_lab3)', 'avgtime_lab3']\n"
     ]
    }
   ],
   "source": [
    "selected_features_lr_3 = run_process(datalab3,grid_lr)"
   ]
  },
  {
   "cell_type": "code",
   "execution_count": null,
   "metadata": {
    "colab": {
     "base_uri": "https://localhost:8080/"
    },
    "id": "MMqy1CNzUgUq",
    "outputId": "57464362-7303-475e-ea69-36b168f708e3"
   },
   "outputs": [
    {
     "name": "stdout",
     "output_type": "stream",
     "text": [
      "Fitting 5 folds for each of 2 candidates, totalling 10 fits\n"
     ]
    },
    {
     "name": "stderr",
     "output_type": "stream",
     "text": [
      "[Parallel(n_jobs=-1)]: Using backend LokyBackend with 2 concurrent workers.\n",
      "[Parallel(n_jobs=-1)]: Done  10 out of  10 | elapsed:   11.2s finished\n"
     ]
    },
    {
     "name": "stdout",
     "output_type": "stream",
     "text": [
      "R2-test-fit: 0.0156938361456719\n",
      "R2-test 0.24565067450876066\n",
      "MSE-test 2.1057344436146046\n",
      "Best params: {'est__n_jobs': -1, 'sel__n_features_to_select': 5, 'sel__step': 1}\n",
      "Selected features: ['g_lab3', 'rt_lab3', 'actq2_lab3', 'mean(qact$_lab3)', 'mean(qmsr$_lab3)']\n"
     ]
    }
   ],
   "source": [
    "selected_features_lr_3 = run_process(datalab3,grid_lr)"
   ]
  },
  {
   "cell_type": "code",
   "execution_count": null,
   "metadata": {
    "colab": {
     "base_uri": "https://localhost:8080/"
    },
    "id": "YBAJVT5BUgaB",
    "outputId": "e3b9779a-d6a9-48f7-dacf-7e2d1314b1a1"
   },
   "outputs": [
    {
     "name": "stdout",
     "output_type": "stream",
     "text": [
      "Fitting 5 folds for each of 2 candidates, totalling 10 fits\n"
     ]
    },
    {
     "name": "stderr",
     "output_type": "stream",
     "text": [
      "[Parallel(n_jobs=-1)]: Using backend LokyBackend with 2 concurrent workers.\n",
      "[Parallel(n_jobs=-1)]: Done  10 out of  10 | elapsed:   11.1s finished\n"
     ]
    },
    {
     "name": "stdout",
     "output_type": "stream",
     "text": [
      "R2-test-fit: 0.06193559239384365\n",
      "R2-test 0.14678473679200843\n",
      "MSE-test 2.2711414959040277\n",
      "Best params: {'est__n_jobs': -1, 'sel__n_features_to_select': 5, 'sel__step': 1}\n",
      "Selected features: ['ut_lab3', 'rt_lab3', 'err_lab3', 'actq1_lab3', 'avgtime_lab3']\n"
     ]
    }
   ],
   "source": [
    "selected_features_lr_3 = run_process(datalab3,grid_lr)"
   ]
  },
  {
   "cell_type": "code",
   "execution_count": null,
   "metadata": {
    "colab": {
     "base_uri": "https://localhost:8080/"
    },
    "id": "I_DGPDgxUgjk",
    "outputId": "66697ae6-4a03-4c3f-d07a-e951c14be96e"
   },
   "outputs": [
    {
     "name": "stdout",
     "output_type": "stream",
     "text": [
      "Fitting 5 folds for each of 2 candidates, totalling 10 fits\n"
     ]
    },
    {
     "name": "stderr",
     "output_type": "stream",
     "text": [
      "[Parallel(n_jobs=-1)]: Using backend LokyBackend with 2 concurrent workers.\n",
      "[Parallel(n_jobs=-1)]: Done  10 out of  10 | elapsed:   11.2s finished\n"
     ]
    },
    {
     "name": "stdout",
     "output_type": "stream",
     "text": [
      "R2-test-fit: 0.09405118309763708\n",
      "R2-test -0.0868456089935159\n",
      "MSE-test 3.0897005932879864\n",
      "Best params: {'est__n_jobs': -1, 'sel__n_features_to_select': 5, 'sel__step': 2}\n",
      "Selected features: ['ut_lab3', 'cer_lab3', 'actq1_lab3', 'max(qat$_lab3)', 'mean(qact$_lab3)']\n"
     ]
    }
   ],
   "source": [
    "selected_features_lr_3 = run_process(datalab3,grid_lr)"
   ]
  },
  {
   "cell_type": "markdown",
   "metadata": {
    "id": "85h4EZ3MUUBg"
   },
   "source": [
    "\n",
    "\n",
    "---\n",
    "\n"
   ]
  },
  {
   "cell_type": "code",
   "execution_count": null,
   "metadata": {
    "colab": {
     "base_uri": "https://localhost:8080/"
    },
    "id": "XCwRqshOOsOi",
    "outputId": "91c0342a-f307-4a84-d6d2-f73e210b1b78"
   },
   "outputs": [
    {
     "name": "stdout",
     "output_type": "stream",
     "text": [
      "Fitting 5 folds for each of 2 candidates, totalling 10 fits\n"
     ]
    },
    {
     "name": "stderr",
     "output_type": "stream",
     "text": [
      "[Parallel(n_jobs=-1)]: Using backend LokyBackend with 2 concurrent workers.\n",
      "[Parallel(n_jobs=-1)]: Done  10 out of  10 | elapsed:   11.8s finished\n"
     ]
    },
    {
     "name": "stdout",
     "output_type": "stream",
     "text": [
      "R2-test-fit: 0.10961748103163853\n",
      "R2-test -0.08406250297935403\n",
      "MSE-test 2.714640536686722\n",
      "Best params: {'est__n_jobs': -1, 'sel__n_features_to_select': 5, 'sel__step': 2}\n",
      "Selected features: ['g_lab4', 'rt_lab4', 'rtr_lab4', 'err_lab4', 'mean(qmsr$_lab4)']\n"
     ]
    }
   ],
   "source": [
    "selected_features_lr_4 = run_process(datalab4,grid_lr)"
   ]
  },
  {
   "cell_type": "code",
   "execution_count": null,
   "metadata": {
    "colab": {
     "base_uri": "https://localhost:8080/"
    },
    "id": "lkibQpuMUkQk",
    "outputId": "01048977-f0e4-4686-c746-c4e366b4f5ef"
   },
   "outputs": [
    {
     "name": "stdout",
     "output_type": "stream",
     "text": [
      "Fitting 5 folds for each of 2 candidates, totalling 10 fits\n"
     ]
    },
    {
     "name": "stderr",
     "output_type": "stream",
     "text": [
      "[Parallel(n_jobs=-1)]: Using backend LokyBackend with 2 concurrent workers.\n",
      "[Parallel(n_jobs=-1)]: Done  10 out of  10 | elapsed:   10.6s finished\n"
     ]
    },
    {
     "name": "stdout",
     "output_type": "stream",
     "text": [
      "R2-test-fit: 0.02417530486505002\n",
      "R2-test 0.047913569472122\n",
      "MSE-test 2.2944419405263337\n",
      "Best params: {'est__n_jobs': -1, 'sel__n_features_to_select': 5, 'sel__step': 2}\n",
      "Selected features: ['norm_log(dis_lab4)', 'rt_lab4', 'rtr_lab4', 'err_lab4', 'actq2_lab4']\n"
     ]
    }
   ],
   "source": [
    "selected_features_lr_4 = run_process(datalab4,grid_lr)"
   ]
  },
  {
   "cell_type": "code",
   "execution_count": null,
   "metadata": {
    "colab": {
     "base_uri": "https://localhost:8080/"
    },
    "id": "_gysj1dXUkX-",
    "outputId": "7f7acebf-573f-48ad-c3a3-02c3f5bd9fb5"
   },
   "outputs": [
    {
     "name": "stdout",
     "output_type": "stream",
     "text": [
      "Fitting 5 folds for each of 2 candidates, totalling 10 fits\n"
     ]
    },
    {
     "name": "stderr",
     "output_type": "stream",
     "text": [
      "[Parallel(n_jobs=-1)]: Using backend LokyBackend with 2 concurrent workers.\n",
      "[Parallel(n_jobs=-1)]: Done  10 out of  10 | elapsed:   10.4s finished\n"
     ]
    },
    {
     "name": "stdout",
     "output_type": "stream",
     "text": [
      "R2-test-fit: 0.14429264908363348\n",
      "R2-test 0.17428692006586963\n",
      "MSE-test 1.9188218608654248\n",
      "Best params: {'est__n_jobs': -1, 'sel__n_features_to_select': 5, 'sel__step': 1}\n",
      "Selected features: ['g_lab4', 'rt_lab4', 'err_lab4', 'cer_lab4', 'actq1_lab4']\n"
     ]
    }
   ],
   "source": [
    "selected_features_lr_4 = run_process(datalab4,grid_lr)"
   ]
  },
  {
   "cell_type": "code",
   "execution_count": null,
   "metadata": {
    "colab": {
     "base_uri": "https://localhost:8080/"
    },
    "id": "zRsF5IU4Ukkg",
    "outputId": "daef3d84-c290-4a70-b2f8-a14b076338be"
   },
   "outputs": [
    {
     "name": "stdout",
     "output_type": "stream",
     "text": [
      "Fitting 5 folds for each of 2 candidates, totalling 10 fits\n"
     ]
    },
    {
     "name": "stderr",
     "output_type": "stream",
     "text": [
      "[Parallel(n_jobs=-1)]: Using backend LokyBackend with 2 concurrent workers.\n",
      "[Parallel(n_jobs=-1)]: Done  10 out of  10 | elapsed:   10.4s finished\n"
     ]
    },
    {
     "name": "stdout",
     "output_type": "stream",
     "text": [
      "R2-test-fit: 0.04990210003970279\n",
      "R2-test 0.1631059458143865\n",
      "MSE-test 2.4667674636059678\n",
      "Best params: {'est__n_jobs': -1, 'sel__n_features_to_select': 5, 'sel__step': 1}\n",
      "Selected features: ['rt_lab4', 'cer_lab4', 'actq1_lab4', 'mean(qavt$_lab4)', 'sum(qat$_lab4)']\n"
     ]
    }
   ],
   "source": [
    "selected_features_lr_4 = run_process(datalab4,grid_lr)"
   ]
  },
  {
   "cell_type": "code",
   "execution_count": null,
   "metadata": {
    "colab": {
     "base_uri": "https://localhost:8080/"
    },
    "id": "164m0H79Ukp1",
    "outputId": "2db4e2c8-25cc-4135-94f5-664cbaa38092"
   },
   "outputs": [
    {
     "name": "stdout",
     "output_type": "stream",
     "text": [
      "Fitting 5 folds for each of 2 candidates, totalling 10 fits\n"
     ]
    },
    {
     "name": "stderr",
     "output_type": "stream",
     "text": [
      "[Parallel(n_jobs=-1)]: Using backend LokyBackend with 2 concurrent workers.\n",
      "[Parallel(n_jobs=-1)]: Done  10 out of  10 | elapsed:   10.5s finished\n"
     ]
    },
    {
     "name": "stdout",
     "output_type": "stream",
     "text": [
      "R2-test-fit: 0.07181582605790733\n",
      "R2-test 0.04539439920541622\n",
      "MSE-test 2.4541102523239036\n",
      "Best params: {'est__n_jobs': -1, 'sel__n_features_to_select': 5, 'sel__step': 1}\n",
      "Selected features: ['act_lab4', 'rt_lab4', 'cer_lab4', 'actq1_lab4', 'mean(qc$_lab4)']\n"
     ]
    }
   ],
   "source": [
    "selected_features_lr_4 = run_process(datalab4,grid_lr)"
   ]
  },
  {
   "cell_type": "code",
   "execution_count": null,
   "metadata": {
    "colab": {
     "base_uri": "https://localhost:8080/"
    },
    "id": "w5Zy0SOKUkvI",
    "outputId": "60919c15-3d84-4a7d-bd14-7c574698d4e4"
   },
   "outputs": [
    {
     "name": "stdout",
     "output_type": "stream",
     "text": [
      "Fitting 5 folds for each of 2 candidates, totalling 10 fits\n"
     ]
    },
    {
     "name": "stderr",
     "output_type": "stream",
     "text": [
      "[Parallel(n_jobs=-1)]: Using backend LokyBackend with 2 concurrent workers.\n",
      "[Parallel(n_jobs=-1)]: Done  10 out of  10 | elapsed:   10.6s finished\n"
     ]
    },
    {
     "name": "stdout",
     "output_type": "stream",
     "text": [
      "R2-test-fit: 0.1378296418697363\n",
      "R2-test 0.040238021597752915\n",
      "MSE-test 1.9367207124060317\n",
      "Best params: {'est__n_jobs': -1, 'sel__n_features_to_select': 5, 'sel__step': 1}\n",
      "Selected features: ['g_lab4', 'rt_lab4', 'cer_lab4', 'mean(qavt$_lab4)', 'mean(qc$_lab4)']\n"
     ]
    }
   ],
   "source": [
    "selected_features_lr_4 = run_process(datalab4,grid_lr)"
   ]
  },
  {
   "cell_type": "code",
   "execution_count": null,
   "metadata": {
    "colab": {
     "base_uri": "https://localhost:8080/"
    },
    "id": "fq0NifuxUk3k",
    "outputId": "55f3d31b-20ad-4968-e393-36d930a0e723"
   },
   "outputs": [
    {
     "name": "stdout",
     "output_type": "stream",
     "text": [
      "Fitting 5 folds for each of 2 candidates, totalling 10 fits\n"
     ]
    },
    {
     "name": "stderr",
     "output_type": "stream",
     "text": [
      "[Parallel(n_jobs=-1)]: Using backend LokyBackend with 2 concurrent workers.\n",
      "[Parallel(n_jobs=-1)]: Done  10 out of  10 | elapsed:   10.5s finished\n"
     ]
    },
    {
     "name": "stdout",
     "output_type": "stream",
     "text": [
      "R2-test-fit: 0.17125830229583766\n",
      "R2-test 0.18716368014853402\n",
      "MSE-test 1.9397974171929793\n",
      "Best params: {'est__n_jobs': -1, 'sel__n_features_to_select': 5, 'sel__step': 2}\n",
      "Selected features: ['rt_lab4', 'rtr_lab4', 'err_lab4', 'cer_lab4', 'actq1_lab4']\n"
     ]
    }
   ],
   "source": [
    "selected_features_lr_4 = run_process(datalab4,grid_lr)"
   ]
  },
  {
   "cell_type": "code",
   "execution_count": null,
   "metadata": {
    "colab": {
     "base_uri": "https://localhost:8080/"
    },
    "id": "doOGpPTeUk8Q",
    "outputId": "93da0eb0-6631-430c-c2c5-f1ecf99ca9d5"
   },
   "outputs": [
    {
     "name": "stdout",
     "output_type": "stream",
     "text": [
      "Fitting 5 folds for each of 2 candidates, totalling 10 fits\n"
     ]
    },
    {
     "name": "stderr",
     "output_type": "stream",
     "text": [
      "[Parallel(n_jobs=-1)]: Using backend LokyBackend with 2 concurrent workers.\n",
      "[Parallel(n_jobs=-1)]: Done  10 out of  10 | elapsed:   10.5s finished\n"
     ]
    },
    {
     "name": "stdout",
     "output_type": "stream",
     "text": [
      "R2-test-fit: 0.15394968300004638\n",
      "R2-test 0.22039316218095983\n",
      "MSE-test 2.113539715414571\n",
      "Best params: {'est__n_jobs': -1, 'sel__n_features_to_select': 5, 'sel__step': 1}\n",
      "Selected features: ['rt_lab4', 'rtr_lab4', 'err_lab4', 'cer_lab4', 'mean(qc$_lab4)']\n"
     ]
    }
   ],
   "source": [
    "selected_features_lr_4 = run_process(datalab4,grid_lr)"
   ]
  },
  {
   "cell_type": "code",
   "execution_count": null,
   "metadata": {
    "colab": {
     "base_uri": "https://localhost:8080/"
    },
    "id": "8IbXOkX4UlB3",
    "outputId": "93734484-6746-414a-e7c7-d84de5468662"
   },
   "outputs": [
    {
     "name": "stdout",
     "output_type": "stream",
     "text": [
      "Fitting 5 folds for each of 2 candidates, totalling 10 fits\n"
     ]
    },
    {
     "name": "stderr",
     "output_type": "stream",
     "text": [
      "[Parallel(n_jobs=-1)]: Using backend LokyBackend with 2 concurrent workers.\n",
      "[Parallel(n_jobs=-1)]: Done  10 out of  10 | elapsed:   10.6s finished\n"
     ]
    },
    {
     "name": "stdout",
     "output_type": "stream",
     "text": [
      "R2-test-fit: -0.0032660208455336237\n",
      "R2-test 0.17636202791941824\n",
      "MSE-test 2.0575015829340364\n",
      "Best params: {'est__n_jobs': -1, 'sel__n_features_to_select': 5, 'sel__step': 2}\n",
      "Selected features: ['g_lab4', 'act_lab4', 'actq1_lab4', 'mean(qmsr$_lab4)', 'mean(qc$_lab4)']\n"
     ]
    }
   ],
   "source": [
    "selected_features_lr_4 = run_process(datalab4,grid_lr)"
   ]
  },
  {
   "cell_type": "code",
   "execution_count": null,
   "metadata": {
    "colab": {
     "base_uri": "https://localhost:8080/"
    },
    "id": "G0jkcxyMUlIG",
    "outputId": "9c0d07fc-ffa2-4719-e34c-9eec5bb3eaeb"
   },
   "outputs": [
    {
     "name": "stdout",
     "output_type": "stream",
     "text": [
      "Fitting 5 folds for each of 2 candidates, totalling 10 fits\n"
     ]
    },
    {
     "name": "stderr",
     "output_type": "stream",
     "text": [
      "[Parallel(n_jobs=-1)]: Using backend LokyBackend with 2 concurrent workers.\n",
      "[Parallel(n_jobs=-1)]: Done  10 out of  10 | elapsed:   10.7s finished\n"
     ]
    },
    {
     "name": "stdout",
     "output_type": "stream",
     "text": [
      "R2-test-fit: 0.13889850176655444\n",
      "R2-test 0.16683914167981564\n",
      "MSE-test 2.084583581546277\n",
      "Best params: {'est__n_jobs': -1, 'sel__n_features_to_select': 5, 'sel__step': 1}\n",
      "Selected features: ['rt_lab4', 'err_lab4', 'cer_lab4', 'actq1_lab4', 'mean(qc$_lab4)']\n"
     ]
    }
   ],
   "source": [
    "selected_features_lr_4 = run_process(datalab4,grid_lr)"
   ]
  },
  {
   "cell_type": "markdown",
   "metadata": {
    "id": "ap4nHG1JY7oV"
   },
   "source": [
    "\n",
    "\n",
    "---\n",
    "\n"
   ]
  },
  {
   "cell_type": "code",
   "execution_count": null,
   "metadata": {
    "id": "CcRHjOOZZlYS"
   },
   "outputs": [],
   "source": [
    "estimator = LinearRegression()\n",
    " \n",
    "params = {\n",
    "    'n_jobs'    : [-1],\n",
    "}\n",
    " \n",
    "grid_lr = GridSearchCV(estimator=estimator,\n",
    "                       param_grid=params,\n",
    "                       scoring='r2',\n",
    "                       verbose=1,\n",
    "                       n_jobs=-1,\n",
    "                       return_train_score=True,\n",
    "                       cv=KFold(n_splits=5, shuffle=True))"
   ]
  },
  {
   "cell_type": "code",
   "execution_count": null,
   "metadata": {
    "id": "Kmdwntj-VAbV"
   },
   "outputs": [],
   "source": [
    "selected_features_lr_1 = ['actq3_lab1','actq1_lab1','mean(qmsr$_lab1)','rtr_lab1','cer_lab1']\n",
    "selected_features_lr_2 = ['actq3_lab2','actq1_lab2','mean(qavt$_lab2)','avgtime_lab2','rt_lab2']\n",
    "selected_features_lr_3 = ['rt_lab3','actq1_lab3','ut_lab3','mean(qact$_lab3)','cer_lab3']\n",
    "selected_features_lr_4 = ['rt_lab4','cer_lab4','err_lab4','actq1_lab4','mean(qc$_lab4)']"
   ]
  },
  {
   "cell_type": "markdown",
   "metadata": {
    "id": "S0xuYFddcdw0"
   },
   "source": [
    "1_2"
   ]
  },
  {
   "cell_type": "code",
   "execution_count": null,
   "metadata": {
    "colab": {
     "base_uri": "https://localhost:8080/"
    },
    "id": "7zdjsAZacfYy",
    "outputId": "775bc153-c0d4-4049-a59c-d392e96f4cb1"
   },
   "outputs": [
    {
     "name": "stdout",
     "output_type": "stream",
     "text": [
      "Fitting 5 folds for each of 1 candidates, totalling 5 fits\n"
     ]
    },
    {
     "name": "stderr",
     "output_type": "stream",
     "text": [
      "[Parallel(n_jobs=-1)]: Using backend LokyBackend with 2 concurrent workers.\n"
     ]
    },
    {
     "name": "stdout",
     "output_type": "stream",
     "text": [
      "R2-test-fit: 0.006911971881848245\n",
      "R2-test -0.036086090944452476\n",
      "MSE-test 2.317345083670907\n",
      "Best params: {'n_jobs': -1}\n"
     ]
    },
    {
     "name": "stderr",
     "output_type": "stream",
     "text": [
      "[Parallel(n_jobs=-1)]: Done   5 out of   5 | elapsed:    1.2s finished\n"
     ]
    },
    {
     "data": {
      "text/plain": [
       "['actq3_lab1',\n",
       " 'actq1_lab1',\n",
       " 'mean(qmsr$_lab1)',\n",
       " 'rtr_lab1',\n",
       " 'cer_lab1',\n",
       " 'actq3_lab2',\n",
       " 'actq1_lab2',\n",
       " 'mean(qavt$_lab2)',\n",
       " 'avgtime_lab2',\n",
       " 'rt_lab2']"
      ]
     },
     "execution_count": 82,
     "metadata": {
      "tags": []
     },
     "output_type": "execute_result"
    }
   ],
   "source": [
    "dataset = datalab1[[TARGET] + selected_features_lr_1].join(datalab2[selected_features_lr_2])\n",
    "run_process(dataset,grid_lr)"
   ]
  },
  {
   "cell_type": "code",
   "execution_count": null,
   "metadata": {
    "colab": {
     "base_uri": "https://localhost:8080/"
    },
    "id": "86Gf6sgiUsmM",
    "outputId": "a5052834-162d-4d08-dec1-2641cc835dcf"
   },
   "outputs": [
    {
     "name": "stdout",
     "output_type": "stream",
     "text": [
      "Fitting 5 folds for each of 1 candidates, totalling 5 fits\n",
      "R2-test-fit: -0.003540234460532088\n",
      "R2-test 0.0794383847029313\n",
      "MSE-test 2.5780813366497703\n",
      "Best params: {'n_jobs': -1}\n"
     ]
    },
    {
     "name": "stderr",
     "output_type": "stream",
     "text": [
      "[Parallel(n_jobs=-1)]: Using backend LokyBackend with 2 concurrent workers.\n",
      "[Parallel(n_jobs=-1)]: Done   5 out of   5 | elapsed:    0.0s finished\n"
     ]
    },
    {
     "data": {
      "text/plain": [
       "['actq3_lab1',\n",
       " 'actq1_lab1',\n",
       " 'mean(qmsr$_lab1)',\n",
       " 'rtr_lab1',\n",
       " 'cer_lab1',\n",
       " 'actq3_lab2',\n",
       " 'actq1_lab2',\n",
       " 'mean(qavt$_lab2)',\n",
       " 'avgtime_lab2',\n",
       " 'rt_lab2']"
      ]
     },
     "execution_count": 83,
     "metadata": {
      "tags": []
     },
     "output_type": "execute_result"
    }
   ],
   "source": [
    "dataset = datalab1[[TARGET] + selected_features_lr_1].join(datalab2[selected_features_lr_2])\n",
    "run_process(dataset,grid_lr)"
   ]
  },
  {
   "cell_type": "code",
   "execution_count": null,
   "metadata": {
    "colab": {
     "base_uri": "https://localhost:8080/"
    },
    "id": "K5kT0pkYUs3s",
    "outputId": "a0276d7f-1a5d-41e6-caa2-dc09ff844f2f"
   },
   "outputs": [
    {
     "name": "stdout",
     "output_type": "stream",
     "text": [
      "Fitting 5 folds for each of 1 candidates, totalling 5 fits\n",
      "R2-test-fit: -0.046590123398674944\n",
      "R2-test -0.09455756729624443\n",
      "MSE-test 3.0911462928259437\n",
      "Best params: {'n_jobs': -1}\n"
     ]
    },
    {
     "name": "stderr",
     "output_type": "stream",
     "text": [
      "[Parallel(n_jobs=-1)]: Using backend LokyBackend with 2 concurrent workers.\n",
      "[Parallel(n_jobs=-1)]: Done   5 out of   5 | elapsed:    0.0s finished\n"
     ]
    },
    {
     "data": {
      "text/plain": [
       "['actq3_lab1',\n",
       " 'actq1_lab1',\n",
       " 'mean(qmsr$_lab1)',\n",
       " 'rtr_lab1',\n",
       " 'cer_lab1',\n",
       " 'actq3_lab2',\n",
       " 'actq1_lab2',\n",
       " 'mean(qavt$_lab2)',\n",
       " 'avgtime_lab2',\n",
       " 'rt_lab2']"
      ]
     },
     "execution_count": 84,
     "metadata": {
      "tags": []
     },
     "output_type": "execute_result"
    }
   ],
   "source": [
    "dataset = datalab1[[TARGET] + selected_features_lr_1].join(datalab2[selected_features_lr_2])\n",
    "run_process(dataset,grid_lr)"
   ]
  },
  {
   "cell_type": "code",
   "execution_count": null,
   "metadata": {
    "colab": {
     "base_uri": "https://localhost:8080/"
    },
    "id": "px9Pe7bDUwB3",
    "outputId": "0dc44707-e263-4379-87b1-0db872a0b8b4"
   },
   "outputs": [
    {
     "name": "stdout",
     "output_type": "stream",
     "text": [
      "Fitting 5 folds for each of 1 candidates, totalling 5 fits\n",
      "R2-test-fit: 0.01494113936741721\n",
      "R2-test -0.013487881409562696\n",
      "MSE-test 2.413164056043086\n",
      "Best params: {'n_jobs': -1}\n"
     ]
    },
    {
     "name": "stderr",
     "output_type": "stream",
     "text": [
      "[Parallel(n_jobs=-1)]: Using backend LokyBackend with 2 concurrent workers.\n",
      "[Parallel(n_jobs=-1)]: Done   5 out of   5 | elapsed:    0.0s finished\n"
     ]
    },
    {
     "data": {
      "text/plain": [
       "['actq3_lab1',\n",
       " 'actq1_lab1',\n",
       " 'mean(qmsr$_lab1)',\n",
       " 'rtr_lab1',\n",
       " 'cer_lab1',\n",
       " 'actq3_lab2',\n",
       " 'actq1_lab2',\n",
       " 'mean(qavt$_lab2)',\n",
       " 'avgtime_lab2',\n",
       " 'rt_lab2']"
      ]
     },
     "execution_count": 85,
     "metadata": {
      "tags": []
     },
     "output_type": "execute_result"
    }
   ],
   "source": [
    "dataset = datalab1[[TARGET] + selected_features_lr_1].join(datalab2[selected_features_lr_2])\n",
    "run_process(dataset,grid_lr)"
   ]
  },
  {
   "cell_type": "code",
   "execution_count": null,
   "metadata": {
    "colab": {
     "base_uri": "https://localhost:8080/"
    },
    "id": "h-yDRf2RUwH4",
    "outputId": "3401b272-6a08-4d82-86d1-6e7d35d54433"
   },
   "outputs": [
    {
     "name": "stdout",
     "output_type": "stream",
     "text": [
      "Fitting 5 folds for each of 1 candidates, totalling 5 fits\n",
      "R2-test-fit: -0.029978878483077166\n",
      "R2-test -0.09356225342973579\n",
      "MSE-test 2.5596454965971103\n",
      "Best params: {'n_jobs': -1}\n"
     ]
    },
    {
     "name": "stderr",
     "output_type": "stream",
     "text": [
      "[Parallel(n_jobs=-1)]: Using backend LokyBackend with 2 concurrent workers.\n",
      "[Parallel(n_jobs=-1)]: Done   5 out of   5 | elapsed:    0.0s finished\n"
     ]
    },
    {
     "data": {
      "text/plain": [
       "['actq3_lab1',\n",
       " 'actq1_lab1',\n",
       " 'mean(qmsr$_lab1)',\n",
       " 'rtr_lab1',\n",
       " 'cer_lab1',\n",
       " 'actq3_lab2',\n",
       " 'actq1_lab2',\n",
       " 'mean(qavt$_lab2)',\n",
       " 'avgtime_lab2',\n",
       " 'rt_lab2']"
      ]
     },
     "execution_count": 86,
     "metadata": {
      "tags": []
     },
     "output_type": "execute_result"
    }
   ],
   "source": [
    "dataset = datalab1[[TARGET] + selected_features_lr_1].join(datalab2[selected_features_lr_2])\n",
    "run_process(dataset,grid_lr)"
   ]
  },
  {
   "cell_type": "code",
   "execution_count": null,
   "metadata": {
    "colab": {
     "base_uri": "https://localhost:8080/"
    },
    "id": "knIpXVOyUwNP",
    "outputId": "04ff2f1d-463b-438f-d538-28c9c8c61b66"
   },
   "outputs": [
    {
     "name": "stdout",
     "output_type": "stream",
     "text": [
      "Fitting 5 folds for each of 1 candidates, totalling 5 fits\n"
     ]
    },
    {
     "name": "stderr",
     "output_type": "stream",
     "text": [
      "[Parallel(n_jobs=-1)]: Using backend LokyBackend with 2 concurrent workers.\n"
     ]
    },
    {
     "name": "stdout",
     "output_type": "stream",
     "text": [
      "R2-test-fit: -0.02061660725764882\n",
      "R2-test -0.2912312061511111\n",
      "MSE-test 3.081248045059268\n",
      "Best params: {'n_jobs': -1}\n"
     ]
    },
    {
     "name": "stderr",
     "output_type": "stream",
     "text": [
      "[Parallel(n_jobs=-1)]: Done   5 out of   5 | elapsed:    0.0s finished\n"
     ]
    },
    {
     "data": {
      "text/plain": [
       "['actq3_lab1',\n",
       " 'actq1_lab1',\n",
       " 'mean(qmsr$_lab1)',\n",
       " 'rtr_lab1',\n",
       " 'cer_lab1',\n",
       " 'actq3_lab2',\n",
       " 'actq1_lab2',\n",
       " 'mean(qavt$_lab2)',\n",
       " 'avgtime_lab2',\n",
       " 'rt_lab2']"
      ]
     },
     "execution_count": 87,
     "metadata": {
      "tags": []
     },
     "output_type": "execute_result"
    }
   ],
   "source": [
    "dataset = datalab1[[TARGET] + selected_features_lr_1].join(datalab2[selected_features_lr_2])\n",
    "run_process(dataset,grid_lr)"
   ]
  },
  {
   "cell_type": "code",
   "execution_count": null,
   "metadata": {
    "colab": {
     "base_uri": "https://localhost:8080/"
    },
    "id": "BLkmi7MYUwbi",
    "outputId": "3b6a74ea-be52-4e8c-ee86-1872aba514ba"
   },
   "outputs": [
    {
     "name": "stdout",
     "output_type": "stream",
     "text": [
      "Fitting 5 folds for each of 1 candidates, totalling 5 fits\n"
     ]
    },
    {
     "name": "stderr",
     "output_type": "stream",
     "text": [
      "[Parallel(n_jobs=-1)]: Using backend LokyBackend with 2 concurrent workers.\n"
     ]
    },
    {
     "name": "stdout",
     "output_type": "stream",
     "text": [
      "R2-test-fit: 0.026025901495438774\n",
      "R2-test -0.011473874863089595\n",
      "MSE-test 2.650700890786687\n",
      "Best params: {'n_jobs': -1}\n"
     ]
    },
    {
     "name": "stderr",
     "output_type": "stream",
     "text": [
      "[Parallel(n_jobs=-1)]: Done   5 out of   5 | elapsed:    0.0s finished\n"
     ]
    },
    {
     "data": {
      "text/plain": [
       "['actq3_lab1',\n",
       " 'actq1_lab1',\n",
       " 'mean(qmsr$_lab1)',\n",
       " 'rtr_lab1',\n",
       " 'cer_lab1',\n",
       " 'actq3_lab2',\n",
       " 'actq1_lab2',\n",
       " 'mean(qavt$_lab2)',\n",
       " 'avgtime_lab2',\n",
       " 'rt_lab2']"
      ]
     },
     "execution_count": 88,
     "metadata": {
      "tags": []
     },
     "output_type": "execute_result"
    }
   ],
   "source": [
    "dataset = datalab1[[TARGET] + selected_features_lr_1].join(datalab2[selected_features_lr_2])\n",
    "run_process(dataset,grid_lr)"
   ]
  },
  {
   "cell_type": "code",
   "execution_count": null,
   "metadata": {
    "colab": {
     "base_uri": "https://localhost:8080/"
    },
    "id": "BwhBbivlUwg1",
    "outputId": "475412e4-3278-4b4a-ddcc-6360efd19633"
   },
   "outputs": [
    {
     "name": "stdout",
     "output_type": "stream",
     "text": [
      "Fitting 5 folds for each of 1 candidates, totalling 5 fits\n"
     ]
    },
    {
     "name": "stderr",
     "output_type": "stream",
     "text": [
      "[Parallel(n_jobs=-1)]: Using backend LokyBackend with 2 concurrent workers.\n"
     ]
    },
    {
     "name": "stdout",
     "output_type": "stream",
     "text": [
      "R2-test-fit: -0.009699739648013295\n",
      "R2-test 0.08507543469984125\n",
      "MSE-test 2.1607507383692717\n",
      "Best params: {'n_jobs': -1}\n"
     ]
    },
    {
     "name": "stderr",
     "output_type": "stream",
     "text": [
      "[Parallel(n_jobs=-1)]: Done   5 out of   5 | elapsed:    0.0s finished\n"
     ]
    },
    {
     "data": {
      "text/plain": [
       "['actq3_lab1',\n",
       " 'actq1_lab1',\n",
       " 'mean(qmsr$_lab1)',\n",
       " 'rtr_lab1',\n",
       " 'cer_lab1',\n",
       " 'actq3_lab2',\n",
       " 'actq1_lab2',\n",
       " 'mean(qavt$_lab2)',\n",
       " 'avgtime_lab2',\n",
       " 'rt_lab2']"
      ]
     },
     "execution_count": 89,
     "metadata": {
      "tags": []
     },
     "output_type": "execute_result"
    }
   ],
   "source": [
    "dataset = datalab1[[TARGET] + selected_features_lr_1].join(datalab2[selected_features_lr_2])\n",
    "run_process(dataset,grid_lr)"
   ]
  },
  {
   "cell_type": "code",
   "execution_count": null,
   "metadata": {
    "colab": {
     "base_uri": "https://localhost:8080/"
    },
    "id": "aHGnBfyMUwnx",
    "outputId": "aac7f6ad-7161-466c-d930-322a407c4e17"
   },
   "outputs": [
    {
     "name": "stdout",
     "output_type": "stream",
     "text": [
      "Fitting 5 folds for each of 1 candidates, totalling 5 fits\n"
     ]
    },
    {
     "name": "stderr",
     "output_type": "stream",
     "text": [
      "[Parallel(n_jobs=-1)]: Using backend LokyBackend with 2 concurrent workers.\n",
      "[Parallel(n_jobs=-1)]: Done   5 out of   5 | elapsed:    0.0s finished\n"
     ]
    },
    {
     "name": "stdout",
     "output_type": "stream",
     "text": [
      "R2-test-fit: -0.068743834194177\n",
      "R2-test 0.008960301171420104\n",
      "MSE-test 2.4510015730681665\n",
      "Best params: {'n_jobs': -1}\n"
     ]
    },
    {
     "data": {
      "text/plain": [
       "['actq3_lab1',\n",
       " 'actq1_lab1',\n",
       " 'mean(qmsr$_lab1)',\n",
       " 'rtr_lab1',\n",
       " 'cer_lab1',\n",
       " 'actq3_lab2',\n",
       " 'actq1_lab2',\n",
       " 'mean(qavt$_lab2)',\n",
       " 'avgtime_lab2',\n",
       " 'rt_lab2']"
      ]
     },
     "execution_count": 90,
     "metadata": {
      "tags": []
     },
     "output_type": "execute_result"
    }
   ],
   "source": [
    "dataset = datalab1[[TARGET] + selected_features_lr_1].join(datalab2[selected_features_lr_2])\n",
    "run_process(dataset,grid_lr)"
   ]
  },
  {
   "cell_type": "code",
   "execution_count": null,
   "metadata": {
    "colab": {
     "base_uri": "https://localhost:8080/"
    },
    "id": "a2GlFXOfUwwy",
    "outputId": "560ad4c9-9a3c-42bb-e402-d6b0727a81f6"
   },
   "outputs": [
    {
     "name": "stdout",
     "output_type": "stream",
     "text": [
      "Fitting 5 folds for each of 1 candidates, totalling 5 fits\n"
     ]
    },
    {
     "name": "stderr",
     "output_type": "stream",
     "text": [
      "[Parallel(n_jobs=-1)]: Using backend LokyBackend with 2 concurrent workers.\n",
      "[Parallel(n_jobs=-1)]: Done   5 out of   5 | elapsed:    0.0s finished\n"
     ]
    },
    {
     "name": "stdout",
     "output_type": "stream",
     "text": [
      "R2-test-fit: 0.0009485423355833023\n",
      "R2-test -0.13710154890430148\n",
      "MSE-test 2.5407108704484296\n",
      "Best params: {'n_jobs': -1}\n"
     ]
    },
    {
     "data": {
      "text/plain": [
       "['actq3_lab1',\n",
       " 'actq1_lab1',\n",
       " 'mean(qmsr$_lab1)',\n",
       " 'rtr_lab1',\n",
       " 'cer_lab1',\n",
       " 'actq3_lab2',\n",
       " 'actq1_lab2',\n",
       " 'mean(qavt$_lab2)',\n",
       " 'avgtime_lab2',\n",
       " 'rt_lab2']"
      ]
     },
     "execution_count": 91,
     "metadata": {
      "tags": []
     },
     "output_type": "execute_result"
    }
   ],
   "source": [
    "dataset = datalab1[[TARGET] + selected_features_lr_1].join(datalab2[selected_features_lr_2])\n",
    "run_process(dataset,grid_lr)"
   ]
  },
  {
   "cell_type": "markdown",
   "metadata": {
    "id": "WBLI0XAnUpcg"
   },
   "source": [
    "\n",
    "\n",
    "---\n",
    "\n"
   ]
  },
  {
   "cell_type": "markdown",
   "metadata": {
    "id": "SWswdGPQc_XP"
   },
   "source": [
    "1_2_3"
   ]
  },
  {
   "cell_type": "code",
   "execution_count": null,
   "metadata": {
    "colab": {
     "base_uri": "https://localhost:8080/"
    },
    "id": "1zMmqlBHc-qA",
    "outputId": "db40e4a2-6a54-4cae-e460-7c2ba1f08000"
   },
   "outputs": [
    {
     "name": "stdout",
     "output_type": "stream",
     "text": [
      "Fitting 5 folds for each of 1 candidates, totalling 5 fits\n",
      "R2-test-fit: 0.07280532021956979\n",
      "R2-test 0.12141717161565224\n",
      "MSE-test 2.3262559793782014\n",
      "Best params: {'n_jobs': -1}\n"
     ]
    },
    {
     "name": "stderr",
     "output_type": "stream",
     "text": [
      "[Parallel(n_jobs=-1)]: Using backend LokyBackend with 2 concurrent workers.\n",
      "[Parallel(n_jobs=-1)]: Done   5 out of   5 | elapsed:    0.0s finished\n"
     ]
    },
    {
     "data": {
      "text/plain": [
       "['actq3_lab1',\n",
       " 'actq1_lab1',\n",
       " 'mean(qmsr$_lab1)',\n",
       " 'rtr_lab1',\n",
       " 'cer_lab1',\n",
       " 'actq3_lab2',\n",
       " 'actq1_lab2',\n",
       " 'mean(qavt$_lab2)',\n",
       " 'avgtime_lab2',\n",
       " 'rt_lab2',\n",
       " 'rt_lab3',\n",
       " 'actq1_lab3',\n",
       " 'ut_lab3',\n",
       " 'mean(qact$_lab3)',\n",
       " 'cer_lab3']"
      ]
     },
     "execution_count": 92,
     "metadata": {
      "tags": []
     },
     "output_type": "execute_result"
    }
   ],
   "source": [
    "dataset = datalab1[[TARGET] + selected_features_lr_1].join(datalab2[selected_features_lr_2]).join(datalab3[selected_features_lr_3])\n",
    "run_process(dataset,grid_lr)"
   ]
  },
  {
   "cell_type": "code",
   "execution_count": null,
   "metadata": {
    "colab": {
     "base_uri": "https://localhost:8080/"
    },
    "id": "i3pLnBkXUzBM",
    "outputId": "4df1d7f7-7008-45f5-f772-d6c2d2e4fefe"
   },
   "outputs": [
    {
     "name": "stdout",
     "output_type": "stream",
     "text": [
      "Fitting 5 folds for each of 1 candidates, totalling 5 fits\n",
      "R2-test-fit: 5.830295615796288e-05\n",
      "R2-test 0.012427536060766076\n",
      "MSE-test 2.4140726711615565\n",
      "Best params: {'n_jobs': -1}\n"
     ]
    },
    {
     "name": "stderr",
     "output_type": "stream",
     "text": [
      "[Parallel(n_jobs=-1)]: Using backend LokyBackend with 2 concurrent workers.\n",
      "[Parallel(n_jobs=-1)]: Done   5 out of   5 | elapsed:    0.0s finished\n"
     ]
    },
    {
     "data": {
      "text/plain": [
       "['actq3_lab1',\n",
       " 'actq1_lab1',\n",
       " 'mean(qmsr$_lab1)',\n",
       " 'rtr_lab1',\n",
       " 'cer_lab1',\n",
       " 'actq3_lab2',\n",
       " 'actq1_lab2',\n",
       " 'mean(qavt$_lab2)',\n",
       " 'avgtime_lab2',\n",
       " 'rt_lab2',\n",
       " 'rt_lab3',\n",
       " 'actq1_lab3',\n",
       " 'ut_lab3',\n",
       " 'mean(qact$_lab3)',\n",
       " 'cer_lab3']"
      ]
     },
     "execution_count": 93,
     "metadata": {
      "tags": []
     },
     "output_type": "execute_result"
    }
   ],
   "source": [
    "dataset = datalab1[[TARGET] + selected_features_lr_1].join(datalab2[selected_features_lr_2]).join(datalab3[selected_features_lr_3])\n",
    "run_process(dataset,grid_lr)"
   ]
  },
  {
   "cell_type": "code",
   "execution_count": null,
   "metadata": {
    "colab": {
     "base_uri": "https://localhost:8080/"
    },
    "id": "4Kyn4xlqUzJd",
    "outputId": "a7198853-400e-4e0a-ca1f-17480b4000f6"
   },
   "outputs": [
    {
     "name": "stdout",
     "output_type": "stream",
     "text": [
      "Fitting 5 folds for each of 1 candidates, totalling 5 fits\n",
      "R2-test-fit: 0.044320763610744794\n",
      "R2-test 0.06863106085845805\n",
      "MSE-test 2.2071133914849135\n",
      "Best params: {'n_jobs': -1}\n"
     ]
    },
    {
     "name": "stderr",
     "output_type": "stream",
     "text": [
      "[Parallel(n_jobs=-1)]: Using backend LokyBackend with 2 concurrent workers.\n",
      "[Parallel(n_jobs=-1)]: Done   5 out of   5 | elapsed:    0.0s finished\n"
     ]
    },
    {
     "data": {
      "text/plain": [
       "['actq3_lab1',\n",
       " 'actq1_lab1',\n",
       " 'mean(qmsr$_lab1)',\n",
       " 'rtr_lab1',\n",
       " 'cer_lab1',\n",
       " 'actq3_lab2',\n",
       " 'actq1_lab2',\n",
       " 'mean(qavt$_lab2)',\n",
       " 'avgtime_lab2',\n",
       " 'rt_lab2',\n",
       " 'rt_lab3',\n",
       " 'actq1_lab3',\n",
       " 'ut_lab3',\n",
       " 'mean(qact$_lab3)',\n",
       " 'cer_lab3']"
      ]
     },
     "execution_count": 94,
     "metadata": {
      "tags": []
     },
     "output_type": "execute_result"
    }
   ],
   "source": [
    "dataset = datalab1[[TARGET] + selected_features_lr_1].join(datalab2[selected_features_lr_2]).join(datalab3[selected_features_lr_3])\n",
    "run_process(dataset,grid_lr)"
   ]
  },
  {
   "cell_type": "code",
   "execution_count": null,
   "metadata": {
    "colab": {
     "base_uri": "https://localhost:8080/"
    },
    "id": "Pk6-db9fUzWZ",
    "outputId": "4224a77b-3069-4f4d-a25a-27945aaedfec"
   },
   "outputs": [
    {
     "name": "stdout",
     "output_type": "stream",
     "text": [
      "Fitting 5 folds for each of 1 candidates, totalling 5 fits\n",
      "R2-test-fit: -0.012095135878418373\n",
      "R2-test -0.10484859642135258\n",
      "MSE-test 2.7897000371370266\n",
      "Best params: {'n_jobs': -1}\n"
     ]
    },
    {
     "name": "stderr",
     "output_type": "stream",
     "text": [
      "[Parallel(n_jobs=-1)]: Using backend LokyBackend with 2 concurrent workers.\n",
      "[Parallel(n_jobs=-1)]: Done   5 out of   5 | elapsed:    0.0s finished\n"
     ]
    },
    {
     "data": {
      "text/plain": [
       "['actq3_lab1',\n",
       " 'actq1_lab1',\n",
       " 'mean(qmsr$_lab1)',\n",
       " 'rtr_lab1',\n",
       " 'cer_lab1',\n",
       " 'actq3_lab2',\n",
       " 'actq1_lab2',\n",
       " 'mean(qavt$_lab2)',\n",
       " 'avgtime_lab2',\n",
       " 'rt_lab2',\n",
       " 'rt_lab3',\n",
       " 'actq1_lab3',\n",
       " 'ut_lab3',\n",
       " 'mean(qact$_lab3)',\n",
       " 'cer_lab3']"
      ]
     },
     "execution_count": 95,
     "metadata": {
      "tags": []
     },
     "output_type": "execute_result"
    }
   ],
   "source": [
    "dataset = datalab1[[TARGET] + selected_features_lr_1].join(datalab2[selected_features_lr_2]).join(datalab3[selected_features_lr_3])\n",
    "run_process(dataset,grid_lr)"
   ]
  },
  {
   "cell_type": "code",
   "execution_count": null,
   "metadata": {
    "colab": {
     "base_uri": "https://localhost:8080/"
    },
    "id": "2_qpS63_Uzcb",
    "outputId": "5ef3ad22-880d-4763-e1c3-4af5141a054b"
   },
   "outputs": [
    {
     "name": "stdout",
     "output_type": "stream",
     "text": [
      "Fitting 5 folds for each of 1 candidates, totalling 5 fits\n",
      "R2-test-fit: -0.004509247793069604\n",
      "R2-test 0.08611742188209426\n",
      "MSE-test 2.382789514680097\n",
      "Best params: {'n_jobs': -1}\n"
     ]
    },
    {
     "name": "stderr",
     "output_type": "stream",
     "text": [
      "[Parallel(n_jobs=-1)]: Using backend LokyBackend with 2 concurrent workers.\n",
      "[Parallel(n_jobs=-1)]: Done   5 out of   5 | elapsed:    0.0s finished\n"
     ]
    },
    {
     "data": {
      "text/plain": [
       "['actq3_lab1',\n",
       " 'actq1_lab1',\n",
       " 'mean(qmsr$_lab1)',\n",
       " 'rtr_lab1',\n",
       " 'cer_lab1',\n",
       " 'actq3_lab2',\n",
       " 'actq1_lab2',\n",
       " 'mean(qavt$_lab2)',\n",
       " 'avgtime_lab2',\n",
       " 'rt_lab2',\n",
       " 'rt_lab3',\n",
       " 'actq1_lab3',\n",
       " 'ut_lab3',\n",
       " 'mean(qact$_lab3)',\n",
       " 'cer_lab3']"
      ]
     },
     "execution_count": 96,
     "metadata": {
      "tags": []
     },
     "output_type": "execute_result"
    }
   ],
   "source": [
    "dataset = datalab1[[TARGET] + selected_features_lr_1].join(datalab2[selected_features_lr_2]).join(datalab3[selected_features_lr_3])\n",
    "run_process(dataset,grid_lr)"
   ]
  },
  {
   "cell_type": "code",
   "execution_count": null,
   "metadata": {
    "colab": {
     "base_uri": "https://localhost:8080/"
    },
    "id": "coUOGLC8UziA",
    "outputId": "b230aa99-4745-451f-ec80-431f5c92ef1f"
   },
   "outputs": [
    {
     "name": "stdout",
     "output_type": "stream",
     "text": [
      "Fitting 5 folds for each of 1 candidates, totalling 5 fits\n",
      "R2-test-fit: -0.03789042601758361\n",
      "R2-test -0.13072142250733276\n",
      "MSE-test 2.775054141731726\n",
      "Best params: {'n_jobs': -1}\n"
     ]
    },
    {
     "name": "stderr",
     "output_type": "stream",
     "text": [
      "[Parallel(n_jobs=-1)]: Using backend LokyBackend with 2 concurrent workers.\n",
      "[Parallel(n_jobs=-1)]: Done   5 out of   5 | elapsed:    0.0s finished\n"
     ]
    },
    {
     "data": {
      "text/plain": [
       "['actq3_lab1',\n",
       " 'actq1_lab1',\n",
       " 'mean(qmsr$_lab1)',\n",
       " 'rtr_lab1',\n",
       " 'cer_lab1',\n",
       " 'actq3_lab2',\n",
       " 'actq1_lab2',\n",
       " 'mean(qavt$_lab2)',\n",
       " 'avgtime_lab2',\n",
       " 'rt_lab2',\n",
       " 'rt_lab3',\n",
       " 'actq1_lab3',\n",
       " 'ut_lab3',\n",
       " 'mean(qact$_lab3)',\n",
       " 'cer_lab3']"
      ]
     },
     "execution_count": 97,
     "metadata": {
      "tags": []
     },
     "output_type": "execute_result"
    }
   ],
   "source": [
    "dataset = datalab1[[TARGET] + selected_features_lr_1].join(datalab2[selected_features_lr_2]).join(datalab3[selected_features_lr_3])\n",
    "run_process(dataset,grid_lr)"
   ]
  },
  {
   "cell_type": "code",
   "execution_count": null,
   "metadata": {
    "colab": {
     "base_uri": "https://localhost:8080/"
    },
    "id": "TvukzCS4UzpW",
    "outputId": "0d73b31f-686d-4707-a15e-a243e63040fe"
   },
   "outputs": [
    {
     "name": "stdout",
     "output_type": "stream",
     "text": [
      "Fitting 5 folds for each of 1 candidates, totalling 5 fits\n",
      "R2-test-fit: 0.036234337665218705\n",
      "R2-test 0.01943093799897322\n",
      "MSE-test 2.4445363669576685\n",
      "Best params: {'n_jobs': -1}\n"
     ]
    },
    {
     "name": "stderr",
     "output_type": "stream",
     "text": [
      "[Parallel(n_jobs=-1)]: Using backend LokyBackend with 2 concurrent workers.\n",
      "[Parallel(n_jobs=-1)]: Done   5 out of   5 | elapsed:    0.0s finished\n"
     ]
    },
    {
     "data": {
      "text/plain": [
       "['actq3_lab1',\n",
       " 'actq1_lab1',\n",
       " 'mean(qmsr$_lab1)',\n",
       " 'rtr_lab1',\n",
       " 'cer_lab1',\n",
       " 'actq3_lab2',\n",
       " 'actq1_lab2',\n",
       " 'mean(qavt$_lab2)',\n",
       " 'avgtime_lab2',\n",
       " 'rt_lab2',\n",
       " 'rt_lab3',\n",
       " 'actq1_lab3',\n",
       " 'ut_lab3',\n",
       " 'mean(qact$_lab3)',\n",
       " 'cer_lab3']"
      ]
     },
     "execution_count": 98,
     "metadata": {
      "tags": []
     },
     "output_type": "execute_result"
    }
   ],
   "source": [
    "dataset = datalab1[[TARGET] + selected_features_lr_1].join(datalab2[selected_features_lr_2]).join(datalab3[selected_features_lr_3])\n",
    "run_process(dataset,grid_lr)"
   ]
  },
  {
   "cell_type": "code",
   "execution_count": null,
   "metadata": {
    "colab": {
     "base_uri": "https://localhost:8080/"
    },
    "id": "Od2e0PVZUzw_",
    "outputId": "eb80f0bd-8a5e-43ec-e4b8-2376e8352d1e"
   },
   "outputs": [
    {
     "name": "stdout",
     "output_type": "stream",
     "text": [
      "Fitting 5 folds for each of 1 candidates, totalling 5 fits\n",
      "R2-test-fit: 0.004192329211226786\n",
      "R2-test 0.016468642925129506\n",
      "MSE-test 2.175581885746646\n",
      "Best params: {'n_jobs': -1}\n"
     ]
    },
    {
     "name": "stderr",
     "output_type": "stream",
     "text": [
      "[Parallel(n_jobs=-1)]: Using backend LokyBackend with 2 concurrent workers.\n",
      "[Parallel(n_jobs=-1)]: Done   5 out of   5 | elapsed:    0.0s finished\n"
     ]
    },
    {
     "data": {
      "text/plain": [
       "['actq3_lab1',\n",
       " 'actq1_lab1',\n",
       " 'mean(qmsr$_lab1)',\n",
       " 'rtr_lab1',\n",
       " 'cer_lab1',\n",
       " 'actq3_lab2',\n",
       " 'actq1_lab2',\n",
       " 'mean(qavt$_lab2)',\n",
       " 'avgtime_lab2',\n",
       " 'rt_lab2',\n",
       " 'rt_lab3',\n",
       " 'actq1_lab3',\n",
       " 'ut_lab3',\n",
       " 'mean(qact$_lab3)',\n",
       " 'cer_lab3']"
      ]
     },
     "execution_count": 99,
     "metadata": {
      "tags": []
     },
     "output_type": "execute_result"
    }
   ],
   "source": [
    "dataset = datalab1[[TARGET] + selected_features_lr_1].join(datalab2[selected_features_lr_2]).join(datalab3[selected_features_lr_3])\n",
    "run_process(dataset,grid_lr)"
   ]
  },
  {
   "cell_type": "code",
   "execution_count": null,
   "metadata": {
    "colab": {
     "base_uri": "https://localhost:8080/"
    },
    "id": "mtyjSUvFUz3F",
    "outputId": "b771ebc4-7587-4bc7-803c-29bb968be2f7"
   },
   "outputs": [
    {
     "name": "stdout",
     "output_type": "stream",
     "text": [
      "Fitting 5 folds for each of 1 candidates, totalling 5 fits\n"
     ]
    },
    {
     "name": "stderr",
     "output_type": "stream",
     "text": [
      "[Parallel(n_jobs=-1)]: Using backend LokyBackend with 2 concurrent workers.\n",
      "[Parallel(n_jobs=-1)]: Done   5 out of   5 | elapsed:    0.0s finished\n"
     ]
    },
    {
     "name": "stdout",
     "output_type": "stream",
     "text": [
      "R2-test-fit: 0.03902897311234281\n",
      "R2-test -0.06618909207438994\n",
      "MSE-test 2.9331634819395886\n",
      "Best params: {'n_jobs': -1}\n"
     ]
    },
    {
     "data": {
      "text/plain": [
       "['actq3_lab1',\n",
       " 'actq1_lab1',\n",
       " 'mean(qmsr$_lab1)',\n",
       " 'rtr_lab1',\n",
       " 'cer_lab1',\n",
       " 'actq3_lab2',\n",
       " 'actq1_lab2',\n",
       " 'mean(qavt$_lab2)',\n",
       " 'avgtime_lab2',\n",
       " 'rt_lab2',\n",
       " 'rt_lab3',\n",
       " 'actq1_lab3',\n",
       " 'ut_lab3',\n",
       " 'mean(qact$_lab3)',\n",
       " 'cer_lab3']"
      ]
     },
     "execution_count": 100,
     "metadata": {
      "tags": []
     },
     "output_type": "execute_result"
    }
   ],
   "source": [
    "dataset = datalab1[[TARGET] + selected_features_lr_1].join(datalab2[selected_features_lr_2]).join(datalab3[selected_features_lr_3])\n",
    "run_process(dataset,grid_lr)"
   ]
  },
  {
   "cell_type": "code",
   "execution_count": null,
   "metadata": {
    "colab": {
     "base_uri": "https://localhost:8080/"
    },
    "id": "FExixBgpUz_B",
    "outputId": "9171d815-77b1-4315-9916-f9c561545df2"
   },
   "outputs": [
    {
     "name": "stdout",
     "output_type": "stream",
     "text": [
      "Fitting 5 folds for each of 1 candidates, totalling 5 fits\n"
     ]
    },
    {
     "name": "stderr",
     "output_type": "stream",
     "text": [
      "[Parallel(n_jobs=-1)]: Using backend LokyBackend with 2 concurrent workers.\n",
      "[Parallel(n_jobs=-1)]: Done   5 out of   5 | elapsed:    0.0s finished\n"
     ]
    },
    {
     "name": "stdout",
     "output_type": "stream",
     "text": [
      "R2-test-fit: 0.0742841863991344\n",
      "R2-test 0.03739365033290498\n",
      "MSE-test 2.413619461558209\n",
      "Best params: {'n_jobs': -1}\n"
     ]
    },
    {
     "data": {
      "text/plain": [
       "['actq3_lab1',\n",
       " 'actq1_lab1',\n",
       " 'mean(qmsr$_lab1)',\n",
       " 'rtr_lab1',\n",
       " 'cer_lab1',\n",
       " 'actq3_lab2',\n",
       " 'actq1_lab2',\n",
       " 'mean(qavt$_lab2)',\n",
       " 'avgtime_lab2',\n",
       " 'rt_lab2',\n",
       " 'rt_lab3',\n",
       " 'actq1_lab3',\n",
       " 'ut_lab3',\n",
       " 'mean(qact$_lab3)',\n",
       " 'cer_lab3']"
      ]
     },
     "execution_count": 101,
     "metadata": {
      "tags": []
     },
     "output_type": "execute_result"
    }
   ],
   "source": [
    "dataset = datalab1[[TARGET] + selected_features_lr_1].join(datalab2[selected_features_lr_2]).join(datalab3[selected_features_lr_3])\n",
    "run_process(dataset,grid_lr)"
   ]
  },
  {
   "cell_type": "markdown",
   "metadata": {
    "id": "69LDPiNjUqOX"
   },
   "source": [
    "\n",
    "\n",
    "---\n",
    "\n"
   ]
  },
  {
   "cell_type": "markdown",
   "metadata": {
    "id": "yxVL1xUpdBJ_"
   },
   "source": [
    "1_2_3_4"
   ]
  },
  {
   "cell_type": "code",
   "execution_count": null,
   "metadata": {
    "colab": {
     "base_uri": "https://localhost:8080/"
    },
    "id": "WbIeN-7Sc-qI",
    "outputId": "a508d00d-2815-4068-f4f0-3c675d3613f4"
   },
   "outputs": [
    {
     "name": "stdout",
     "output_type": "stream",
     "text": [
      "Fitting 5 folds for each of 1 candidates, totalling 5 fits\n",
      "R2-test-fit: 0.07159460170533863\n",
      "R2-test 0.17405937131044213\n",
      "MSE-test 1.942184873533853\n",
      "Best params: {'n_jobs': -1}\n"
     ]
    },
    {
     "name": "stderr",
     "output_type": "stream",
     "text": [
      "[Parallel(n_jobs=-1)]: Using backend LokyBackend with 2 concurrent workers.\n",
      "[Parallel(n_jobs=-1)]: Done   5 out of   5 | elapsed:    0.0s finished\n"
     ]
    },
    {
     "data": {
      "text/plain": [
       "['actq3_lab1',\n",
       " 'actq1_lab1',\n",
       " 'mean(qmsr$_lab1)',\n",
       " 'rtr_lab1',\n",
       " 'cer_lab1',\n",
       " 'actq3_lab2',\n",
       " 'actq1_lab2',\n",
       " 'mean(qavt$_lab2)',\n",
       " 'avgtime_lab2',\n",
       " 'rt_lab2',\n",
       " 'rt_lab3',\n",
       " 'actq1_lab3',\n",
       " 'ut_lab3',\n",
       " 'mean(qact$_lab3)',\n",
       " 'cer_lab3',\n",
       " 'rt_lab4',\n",
       " 'cer_lab4',\n",
       " 'err_lab4',\n",
       " 'actq1_lab4',\n",
       " 'mean(qc$_lab4)']"
      ]
     },
     "execution_count": 102,
     "metadata": {
      "tags": []
     },
     "output_type": "execute_result"
    }
   ],
   "source": [
    "dataset = datalab1[[TARGET] + selected_features_lr_1].join(datalab2[selected_features_lr_2]).join(datalab3[selected_features_lr_3]).join(datalab4[selected_features_lr_4])\n",
    "run_process(dataset,grid_lr)"
   ]
  },
  {
   "cell_type": "code",
   "execution_count": null,
   "metadata": {
    "colab": {
     "base_uri": "https://localhost:8080/"
    },
    "id": "WMoBjjMkU1XD",
    "outputId": "2d979f68-b878-4bd4-dfe9-1921d46ab5c3"
   },
   "outputs": [
    {
     "name": "stdout",
     "output_type": "stream",
     "text": [
      "Fitting 5 folds for each of 1 candidates, totalling 5 fits\n",
      "R2-test-fit: 0.13712423030689774\n",
      "R2-test 0.19019282289091122\n",
      "MSE-test 2.20798787288616\n",
      "Best params: {'n_jobs': -1}\n"
     ]
    },
    {
     "name": "stderr",
     "output_type": "stream",
     "text": [
      "[Parallel(n_jobs=-1)]: Using backend LokyBackend with 2 concurrent workers.\n",
      "[Parallel(n_jobs=-1)]: Done   5 out of   5 | elapsed:    0.0s finished\n"
     ]
    },
    {
     "data": {
      "text/plain": [
       "['actq3_lab1',\n",
       " 'actq1_lab1',\n",
       " 'mean(qmsr$_lab1)',\n",
       " 'rtr_lab1',\n",
       " 'cer_lab1',\n",
       " 'actq3_lab2',\n",
       " 'actq1_lab2',\n",
       " 'mean(qavt$_lab2)',\n",
       " 'avgtime_lab2',\n",
       " 'rt_lab2',\n",
       " 'rt_lab3',\n",
       " 'actq1_lab3',\n",
       " 'ut_lab3',\n",
       " 'mean(qact$_lab3)',\n",
       " 'cer_lab3',\n",
       " 'rt_lab4',\n",
       " 'cer_lab4',\n",
       " 'err_lab4',\n",
       " 'actq1_lab4',\n",
       " 'mean(qc$_lab4)']"
      ]
     },
     "execution_count": 103,
     "metadata": {
      "tags": []
     },
     "output_type": "execute_result"
    }
   ],
   "source": [
    "dataset = datalab1[[TARGET] + selected_features_lr_1].join(datalab2[selected_features_lr_2]).join(datalab3[selected_features_lr_3]).join(datalab4[selected_features_lr_4])\n",
    "run_process(dataset,grid_lr)"
   ]
  },
  {
   "cell_type": "code",
   "execution_count": null,
   "metadata": {
    "colab": {
     "base_uri": "https://localhost:8080/"
    },
    "id": "O485Lv5NU1gn",
    "outputId": "5c868efe-e83d-479b-8ae0-5e145fa1982d"
   },
   "outputs": [
    {
     "name": "stdout",
     "output_type": "stream",
     "text": [
      "Fitting 5 folds for each of 1 candidates, totalling 5 fits\n",
      "R2-test-fit: 0.08485515397573942\n",
      "R2-test 0.17004986401493094\n",
      "MSE-test 2.0482862947366565\n",
      "Best params: {'n_jobs': -1}\n"
     ]
    },
    {
     "name": "stderr",
     "output_type": "stream",
     "text": [
      "[Parallel(n_jobs=-1)]: Using backend LokyBackend with 2 concurrent workers.\n",
      "[Parallel(n_jobs=-1)]: Done   5 out of   5 | elapsed:    0.0s finished\n"
     ]
    },
    {
     "data": {
      "text/plain": [
       "['actq3_lab1',\n",
       " 'actq1_lab1',\n",
       " 'mean(qmsr$_lab1)',\n",
       " 'rtr_lab1',\n",
       " 'cer_lab1',\n",
       " 'actq3_lab2',\n",
       " 'actq1_lab2',\n",
       " 'mean(qavt$_lab2)',\n",
       " 'avgtime_lab2',\n",
       " 'rt_lab2',\n",
       " 'rt_lab3',\n",
       " 'actq1_lab3',\n",
       " 'ut_lab3',\n",
       " 'mean(qact$_lab3)',\n",
       " 'cer_lab3',\n",
       " 'rt_lab4',\n",
       " 'cer_lab4',\n",
       " 'err_lab4',\n",
       " 'actq1_lab4',\n",
       " 'mean(qc$_lab4)']"
      ]
     },
     "execution_count": 104,
     "metadata": {
      "tags": []
     },
     "output_type": "execute_result"
    }
   ],
   "source": [
    "dataset = datalab1[[TARGET] + selected_features_lr_1].join(datalab2[selected_features_lr_2]).join(datalab3[selected_features_lr_3]).join(datalab4[selected_features_lr_4])\n",
    "run_process(dataset,grid_lr)"
   ]
  },
  {
   "cell_type": "code",
   "execution_count": null,
   "metadata": {
    "colab": {
     "base_uri": "https://localhost:8080/"
    },
    "id": "kOLrUSVPU13C",
    "outputId": "df2bb1fe-306f-4dbd-9b51-4f41d482cf59"
   },
   "outputs": [
    {
     "name": "stdout",
     "output_type": "stream",
     "text": [
      "Fitting 5 folds for each of 1 candidates, totalling 5 fits\n",
      "R2-test-fit: 0.2006250060442661\n",
      "R2-test 0.11536931211314372\n",
      "MSE-test 2.4023173759908745\n",
      "Best params: {'n_jobs': -1}\n"
     ]
    },
    {
     "name": "stderr",
     "output_type": "stream",
     "text": [
      "[Parallel(n_jobs=-1)]: Using backend LokyBackend with 2 concurrent workers.\n",
      "[Parallel(n_jobs=-1)]: Done   5 out of   5 | elapsed:    0.0s finished\n"
     ]
    },
    {
     "data": {
      "text/plain": [
       "['actq3_lab1',\n",
       " 'actq1_lab1',\n",
       " 'mean(qmsr$_lab1)',\n",
       " 'rtr_lab1',\n",
       " 'cer_lab1',\n",
       " 'actq3_lab2',\n",
       " 'actq1_lab2',\n",
       " 'mean(qavt$_lab2)',\n",
       " 'avgtime_lab2',\n",
       " 'rt_lab2',\n",
       " 'rt_lab3',\n",
       " 'actq1_lab3',\n",
       " 'ut_lab3',\n",
       " 'mean(qact$_lab3)',\n",
       " 'cer_lab3',\n",
       " 'rt_lab4',\n",
       " 'cer_lab4',\n",
       " 'err_lab4',\n",
       " 'actq1_lab4',\n",
       " 'mean(qc$_lab4)']"
      ]
     },
     "execution_count": 105,
     "metadata": {
      "tags": []
     },
     "output_type": "execute_result"
    }
   ],
   "source": [
    "dataset = datalab1[[TARGET] + selected_features_lr_1].join(datalab2[selected_features_lr_2]).join(datalab3[selected_features_lr_3]).join(datalab4[selected_features_lr_4])\n",
    "run_process(dataset,grid_lr)"
   ]
  },
  {
   "cell_type": "code",
   "execution_count": null,
   "metadata": {
    "colab": {
     "base_uri": "https://localhost:8080/"
    },
    "id": "8FTcz2riU2FN",
    "outputId": "0f3622fe-358b-4edc-d60b-b6704f45217a"
   },
   "outputs": [
    {
     "name": "stdout",
     "output_type": "stream",
     "text": [
      "Fitting 5 folds for each of 1 candidates, totalling 5 fits\n"
     ]
    },
    {
     "name": "stderr",
     "output_type": "stream",
     "text": [
      "[Parallel(n_jobs=-1)]: Using backend LokyBackend with 2 concurrent workers.\n"
     ]
    },
    {
     "name": "stdout",
     "output_type": "stream",
     "text": [
      "R2-test-fit: 0.0876863296626134\n",
      "R2-test 0.2095709912800927\n",
      "MSE-test 1.6182577664266673\n",
      "Best params: {'n_jobs': -1}\n"
     ]
    },
    {
     "name": "stderr",
     "output_type": "stream",
     "text": [
      "[Parallel(n_jobs=-1)]: Done   5 out of   5 | elapsed:    0.0s finished\n"
     ]
    },
    {
     "data": {
      "text/plain": [
       "['actq3_lab1',\n",
       " 'actq1_lab1',\n",
       " 'mean(qmsr$_lab1)',\n",
       " 'rtr_lab1',\n",
       " 'cer_lab1',\n",
       " 'actq3_lab2',\n",
       " 'actq1_lab2',\n",
       " 'mean(qavt$_lab2)',\n",
       " 'avgtime_lab2',\n",
       " 'rt_lab2',\n",
       " 'rt_lab3',\n",
       " 'actq1_lab3',\n",
       " 'ut_lab3',\n",
       " 'mean(qact$_lab3)',\n",
       " 'cer_lab3',\n",
       " 'rt_lab4',\n",
       " 'cer_lab4',\n",
       " 'err_lab4',\n",
       " 'actq1_lab4',\n",
       " 'mean(qc$_lab4)']"
      ]
     },
     "execution_count": 106,
     "metadata": {
      "tags": []
     },
     "output_type": "execute_result"
    }
   ],
   "source": [
    "dataset = datalab1[[TARGET] + selected_features_lr_1].join(datalab2[selected_features_lr_2]).join(datalab3[selected_features_lr_3]).join(datalab4[selected_features_lr_4])\n",
    "run_process(dataset,grid_lr)"
   ]
  },
  {
   "cell_type": "code",
   "execution_count": null,
   "metadata": {
    "colab": {
     "base_uri": "https://localhost:8080/"
    },
    "id": "uo66NK5BU2MJ",
    "outputId": "9040b993-b8b8-4ae4-b348-38d57d31b693"
   },
   "outputs": [
    {
     "name": "stdout",
     "output_type": "stream",
     "text": [
      "Fitting 5 folds for each of 1 candidates, totalling 5 fits\n",
      "R2-test-fit: 0.1385503411617526\n",
      "R2-test 0.1291393993575488\n",
      "MSE-test 2.26177499844272\n",
      "Best params: {'n_jobs': -1}\n"
     ]
    },
    {
     "name": "stderr",
     "output_type": "stream",
     "text": [
      "[Parallel(n_jobs=-1)]: Using backend LokyBackend with 2 concurrent workers.\n",
      "[Parallel(n_jobs=-1)]: Done   5 out of   5 | elapsed:    0.0s finished\n"
     ]
    },
    {
     "data": {
      "text/plain": [
       "['actq3_lab1',\n",
       " 'actq1_lab1',\n",
       " 'mean(qmsr$_lab1)',\n",
       " 'rtr_lab1',\n",
       " 'cer_lab1',\n",
       " 'actq3_lab2',\n",
       " 'actq1_lab2',\n",
       " 'mean(qavt$_lab2)',\n",
       " 'avgtime_lab2',\n",
       " 'rt_lab2',\n",
       " 'rt_lab3',\n",
       " 'actq1_lab3',\n",
       " 'ut_lab3',\n",
       " 'mean(qact$_lab3)',\n",
       " 'cer_lab3',\n",
       " 'rt_lab4',\n",
       " 'cer_lab4',\n",
       " 'err_lab4',\n",
       " 'actq1_lab4',\n",
       " 'mean(qc$_lab4)']"
      ]
     },
     "execution_count": 107,
     "metadata": {
      "tags": []
     },
     "output_type": "execute_result"
    }
   ],
   "source": [
    "dataset = datalab1[[TARGET] + selected_features_lr_1].join(datalab2[selected_features_lr_2]).join(datalab3[selected_features_lr_3]).join(datalab4[selected_features_lr_4])\n",
    "run_process(dataset,grid_lr)"
   ]
  },
  {
   "cell_type": "code",
   "execution_count": null,
   "metadata": {
    "colab": {
     "base_uri": "https://localhost:8080/"
    },
    "id": "wtB92-fNU2Sw",
    "outputId": "b81187d3-0108-4516-8496-4b8384a7060b"
   },
   "outputs": [
    {
     "name": "stdout",
     "output_type": "stream",
     "text": [
      "Fitting 5 folds for each of 1 candidates, totalling 5 fits\n",
      "R2-test-fit: 0.11783198781579604\n",
      "R2-test 0.028345362118560424\n",
      "MSE-test 2.0877971158508193\n",
      "Best params: {'n_jobs': -1}\n"
     ]
    },
    {
     "name": "stderr",
     "output_type": "stream",
     "text": [
      "[Parallel(n_jobs=-1)]: Using backend LokyBackend with 2 concurrent workers.\n",
      "[Parallel(n_jobs=-1)]: Done   5 out of   5 | elapsed:    0.0s finished\n"
     ]
    },
    {
     "data": {
      "text/plain": [
       "['actq3_lab1',\n",
       " 'actq1_lab1',\n",
       " 'mean(qmsr$_lab1)',\n",
       " 'rtr_lab1',\n",
       " 'cer_lab1',\n",
       " 'actq3_lab2',\n",
       " 'actq1_lab2',\n",
       " 'mean(qavt$_lab2)',\n",
       " 'avgtime_lab2',\n",
       " 'rt_lab2',\n",
       " 'rt_lab3',\n",
       " 'actq1_lab3',\n",
       " 'ut_lab3',\n",
       " 'mean(qact$_lab3)',\n",
       " 'cer_lab3',\n",
       " 'rt_lab4',\n",
       " 'cer_lab4',\n",
       " 'err_lab4',\n",
       " 'actq1_lab4',\n",
       " 'mean(qc$_lab4)']"
      ]
     },
     "execution_count": 108,
     "metadata": {
      "tags": []
     },
     "output_type": "execute_result"
    }
   ],
   "source": [
    "dataset = datalab1[[TARGET] + selected_features_lr_1].join(datalab2[selected_features_lr_2]).join(datalab3[selected_features_lr_3]).join(datalab4[selected_features_lr_4])\n",
    "run_process(dataset,grid_lr)"
   ]
  },
  {
   "cell_type": "code",
   "execution_count": null,
   "metadata": {
    "colab": {
     "base_uri": "https://localhost:8080/"
    },
    "id": "JqEaIcAPU2as",
    "outputId": "bc6c753e-7634-412d-ffcb-30393c34d920"
   },
   "outputs": [
    {
     "name": "stderr",
     "output_type": "stream",
     "text": [
      "[Parallel(n_jobs=-1)]: Using backend LokyBackend with 2 concurrent workers.\n"
     ]
    },
    {
     "name": "stdout",
     "output_type": "stream",
     "text": [
      "Fitting 5 folds for each of 1 candidates, totalling 5 fits\n",
      "R2-test-fit: 0.15218574347801778\n",
      "R2-test 0.1447160780650525\n",
      "MSE-test 1.912049268903947\n",
      "Best params: {'n_jobs': -1}\n"
     ]
    },
    {
     "name": "stderr",
     "output_type": "stream",
     "text": [
      "[Parallel(n_jobs=-1)]: Done   5 out of   5 | elapsed:    0.0s finished\n"
     ]
    },
    {
     "data": {
      "text/plain": [
       "['actq3_lab1',\n",
       " 'actq1_lab1',\n",
       " 'mean(qmsr$_lab1)',\n",
       " 'rtr_lab1',\n",
       " 'cer_lab1',\n",
       " 'actq3_lab2',\n",
       " 'actq1_lab2',\n",
       " 'mean(qavt$_lab2)',\n",
       " 'avgtime_lab2',\n",
       " 'rt_lab2',\n",
       " 'rt_lab3',\n",
       " 'actq1_lab3',\n",
       " 'ut_lab3',\n",
       " 'mean(qact$_lab3)',\n",
       " 'cer_lab3',\n",
       " 'rt_lab4',\n",
       " 'cer_lab4',\n",
       " 'err_lab4',\n",
       " 'actq1_lab4',\n",
       " 'mean(qc$_lab4)']"
      ]
     },
     "execution_count": 109,
     "metadata": {
      "tags": []
     },
     "output_type": "execute_result"
    }
   ],
   "source": [
    "dataset = datalab1[[TARGET] + selected_features_lr_1].join(datalab2[selected_features_lr_2]).join(datalab3[selected_features_lr_3]).join(datalab4[selected_features_lr_4])\n",
    "run_process(dataset,grid_lr)"
   ]
  },
  {
   "cell_type": "code",
   "execution_count": null,
   "metadata": {
    "colab": {
     "base_uri": "https://localhost:8080/"
    },
    "id": "xnJ2J-yIU2iq",
    "outputId": "9085875f-fe1e-4d05-eee8-3517bcdaa539"
   },
   "outputs": [
    {
     "name": "stdout",
     "output_type": "stream",
     "text": [
      "Fitting 5 folds for each of 1 candidates, totalling 5 fits\n",
      "R2-test-fit: 0.19765417482762362\n",
      "R2-test 0.0964875192844028\n",
      "MSE-test 2.4087222095500955\n",
      "Best params: {'n_jobs': -1}\n"
     ]
    },
    {
     "name": "stderr",
     "output_type": "stream",
     "text": [
      "[Parallel(n_jobs=-1)]: Using backend LokyBackend with 2 concurrent workers.\n",
      "[Parallel(n_jobs=-1)]: Done   5 out of   5 | elapsed:    0.0s finished\n"
     ]
    },
    {
     "data": {
      "text/plain": [
       "['actq3_lab1',\n",
       " 'actq1_lab1',\n",
       " 'mean(qmsr$_lab1)',\n",
       " 'rtr_lab1',\n",
       " 'cer_lab1',\n",
       " 'actq3_lab2',\n",
       " 'actq1_lab2',\n",
       " 'mean(qavt$_lab2)',\n",
       " 'avgtime_lab2',\n",
       " 'rt_lab2',\n",
       " 'rt_lab3',\n",
       " 'actq1_lab3',\n",
       " 'ut_lab3',\n",
       " 'mean(qact$_lab3)',\n",
       " 'cer_lab3',\n",
       " 'rt_lab4',\n",
       " 'cer_lab4',\n",
       " 'err_lab4',\n",
       " 'actq1_lab4',\n",
       " 'mean(qc$_lab4)']"
      ]
     },
     "execution_count": 110,
     "metadata": {
      "tags": []
     },
     "output_type": "execute_result"
    }
   ],
   "source": [
    "dataset = datalab1[[TARGET] + selected_features_lr_1].join(datalab2[selected_features_lr_2]).join(datalab3[selected_features_lr_3]).join(datalab4[selected_features_lr_4])\n",
    "run_process(dataset,grid_lr)"
   ]
  },
  {
   "cell_type": "code",
   "execution_count": null,
   "metadata": {
    "colab": {
     "base_uri": "https://localhost:8080/"
    },
    "id": "u_qBZupiU2qy",
    "outputId": "90786c4e-503e-4d3b-f164-0f562852faba"
   },
   "outputs": [
    {
     "name": "stdout",
     "output_type": "stream",
     "text": [
      "Fitting 5 folds for each of 1 candidates, totalling 5 fits\n",
      "R2-test-fit: 0.13475044609413206\n",
      "R2-test -0.051569875496652706\n",
      "MSE-test 2.661000476068511\n",
      "Best params: {'n_jobs': -1}\n"
     ]
    },
    {
     "name": "stderr",
     "output_type": "stream",
     "text": [
      "[Parallel(n_jobs=-1)]: Using backend LokyBackend with 2 concurrent workers.\n",
      "[Parallel(n_jobs=-1)]: Done   5 out of   5 | elapsed:    0.0s finished\n"
     ]
    },
    {
     "data": {
      "text/plain": [
       "['actq3_lab1',\n",
       " 'actq1_lab1',\n",
       " 'mean(qmsr$_lab1)',\n",
       " 'rtr_lab1',\n",
       " 'cer_lab1',\n",
       " 'actq3_lab2',\n",
       " 'actq1_lab2',\n",
       " 'mean(qavt$_lab2)',\n",
       " 'avgtime_lab2',\n",
       " 'rt_lab2',\n",
       " 'rt_lab3',\n",
       " 'actq1_lab3',\n",
       " 'ut_lab3',\n",
       " 'mean(qact$_lab3)',\n",
       " 'cer_lab3',\n",
       " 'rt_lab4',\n",
       " 'cer_lab4',\n",
       " 'err_lab4',\n",
       " 'actq1_lab4',\n",
       " 'mean(qc$_lab4)']"
      ]
     },
     "execution_count": 111,
     "metadata": {
      "tags": []
     },
     "output_type": "execute_result"
    }
   ],
   "source": [
    "dataset = datalab1[[TARGET] + selected_features_lr_1].join(datalab2[selected_features_lr_2]).join(datalab3[selected_features_lr_3]).join(datalab4[selected_features_lr_4])\n",
    "run_process(dataset,grid_lr)"
   ]
  },
  {
   "cell_type": "markdown",
   "metadata": {
    "id": "MBSoSk5L8g1z"
   },
   "source": [
    "\n",
    "\n",
    "---\n",
    "\n"
   ]
  },
  {
   "cell_type": "code",
   "execution_count": null,
   "metadata": {
    "id": "adu0qUz_dUiX"
   },
   "outputs": [],
   "source": [
    "!apt-get install swig -y\n",
    "!pip install Cython numpy\n",
    "!pip install auto-sklearn"
   ]
  },
  {
   "cell_type": "code",
   "execution_count": null,
   "metadata": {
    "id": "zuxhFLK9fVGs"
   },
   "outputs": [],
   "source": [
    "!pip install scikit-learn==0.23.0"
   ]
  },
  {
   "cell_type": "code",
   "execution_count": null,
   "metadata": {
    "id": "lGcCHH1Jhe9-"
   },
   "outputs": [],
   "source": [
    "!pip install dask distributed"
   ]
  },
  {
   "cell_type": "code",
   "execution_count": null,
   "metadata": {
    "id": "9G_80OkMoUYY"
   },
   "outputs": [],
   "source": [
    "#@title **ANN**\n",
    "\n",
    "import keras\n",
    "from keras.models import Sequential\n",
    "from keras.layers import Dense\n",
    "from keras.layers.core import Dense, Dropout, Flatten\n",
    "from keras.optimizers import SGD\n",
    "from keras.layers import Dropout\n",
    "from keras.wrappers.scikit_learn import KerasRegressor\n",
    "from sklearn.model_selection import RandomizedSearchCV\n",
    "\n",
    "def create_model( nl1=1, nl2=1,  nl3=1, \n",
    "                 nn1=1000, nn2=500, nn3 = 200, lr=0.01, decay=0., l1=0.01, l2=0.01,\n",
    "                act = 'relu', dropout=0, input_shape=25, output_shape=1):\n",
    "    '''This is a model generating function so that we can search over neural net \n",
    "    parameters and architecture'''\n",
    "    \n",
    "    opt = 'SGD' # keras.optimizers.Adam(lr=lr, beta_1=0.9, beta_2=0.999,  decay=decay)\n",
    "    reg = keras.regularizers.l1_l2(l1=l1, l2=l2)\n",
    "                                                     \n",
    "    model = Sequential()\n",
    "    \n",
    "    # for the firt layer we need to specify the input dimensions\n",
    "    first=True\n",
    "    \n",
    "    for i in range(nl1):\n",
    "        if first:\n",
    "            model.add(Dense(nn1, input_dim=input_shape, activation=act, kernel_regularizer=reg))\n",
    "            first=False\n",
    "        else: \n",
    "            model.add(Dense(nn1, activation=act, kernel_regularizer=reg))\n",
    "        if dropout!=0:\n",
    "            model.add(Dropout(dropout))\n",
    "            \n",
    "    for i in range(nl2):\n",
    "        if first:\n",
    "            model.add(Dense(nn2, input_dim=input_shape, activation=act, kernel_regularizer=reg))\n",
    "            first=False\n",
    "        else: \n",
    "            model.add(Dense(nn2, activation=act, kernel_regularizer=reg))\n",
    "        if dropout!=0:\n",
    "            model.add(Dropout(dropout))\n",
    "            \n",
    "    for i in range(nl3):\n",
    "        if first:\n",
    "            model.add(Dense(nn3, input_dim=input_shape, activation=act, kernel_regularizer=reg))\n",
    "            first=False\n",
    "        else: \n",
    "            model.add(Dense(nn3, activation=act, kernel_regularizer=reg))\n",
    "        if dropout!=0:\n",
    "            model.add(Dropout(dropout))\n",
    "            \n",
    "    model.add(Dense(output_shape, activation='sigmoid'))\n",
    "    model.compile(loss='mse', optimizer=opt, metrics=['mse'],)\n",
    "    return model\n",
    "\n",
    "# model class to use in the scikit random search CV \n",
    "model = KerasRegressor(build_fn=create_model, epochs=20, batch_size=20, verbose=1)\n",
    "\n",
    "# learning algorithm parameters\n",
    "lr=[1e-2, 1e-3, 1e-4]\n",
    "decay=[1e-6,1e-9,0]\n",
    "\n",
    "# activation\n",
    "activation=['relu', 'sigmoid']\n",
    "\n",
    "# numbers of layers\n",
    "nl1 = [0,1,2,3]\n",
    "nl2 = [0,1,2,3]\n",
    "nl3 = [0,1,2,3]\n",
    "\n",
    "# neurons in each layer\n",
    "nn1=[20,50,100]\n",
    "nn2=[10,40,70]\n",
    "nn3=[5,15,30]\n",
    "# nn1=[300,700,1400,2100]\n",
    "# nn2=[100,400,800]\n",
    "# nn3=[50,150,300]\n",
    "\n",
    "# dropout and regularisation\n",
    "dropout = [0, 0.1, 0.2, 0.3]\n",
    "l1 = [0, 0.01, 0.003, 0.001, 0.0001]\n",
    "l2 = [0, 0.01, 0.003, 0.001, 0.0001]"
   ]
  },
  {
   "cell_type": "code",
   "execution_count": null,
   "metadata": {
    "id": "I3nXax-GtDCj"
   },
   "outputs": [],
   "source": [
    "# GradientBoostingRegressor / RandomForestRegressor / SVR(kernel='linear')\n",
    "sel_estimator = GradientBoostingRegressor(random_state=random_state)\n",
    " \n",
    "# RFE / SelectFromModel\n",
    "selector = RFE(sel_estimator)\n",
    "estimator = model\n",
    " \n",
    "pipe = Pipeline([\n",
    "    ('sel', selector),\n",
    "    ('est', estimator)\n",
    "])\n",
    "\n",
    "param_grid = {\n",
    "    'sel__estimator__learning_rate': [0.05,0.1,0.2],\n",
    "    'sel__n_features_to_select'    : [5],\n",
    "    'est__nl1':            nl1,\n",
    "    'est__nl2':            nl2,\n",
    "    'est__nl3':            nl3,\n",
    "    'est__nn1':            nn1,\n",
    "    'est__nn2':            nn2,\n",
    "    'est__nn3':            nn3,\n",
    "    'est__act':            activation,\n",
    "    'est__l1':             l1,\n",
    "    'est__l2':             l2,\n",
    "    'est__lr':             lr,\n",
    "    'est__decay':          decay,\n",
    "    'est__dropout':        dropout, \n",
    "    'est__input_shape':    [5],\n",
    "    'est__output_shape':   [1]\n",
    "}\n",
    "\n",
    "rand_cv = RandomizedSearchCV(estimator=pipe,\n",
    "                             param_distributions=param_grid,\n",
    "                             verbose=100,\n",
    "                             n_iter=10,\n",
    "                             scoring='neg_mean_squared_error',\n",
    "                             n_jobs=-1,\n",
    "                             return_train_score=True,\n",
    "                             cv=KFold(n_splits=5, shuffle=True))"
   ]
  },
  {
   "cell_type": "code",
   "execution_count": null,
   "metadata": {
    "colab": {
     "base_uri": "https://localhost:8080/"
    },
    "id": "icr6U1j_e9GQ",
    "outputId": "3559ee72-2a07-4202-e1f4-82b7aecd745b"
   },
   "outputs": [
    {
     "name": "stdout",
     "output_type": "stream",
     "text": [
      "Fitting 5 folds for each of 10 candidates, totalling 50 fits\n",
      "Epoch 1/20\n",
      "13/13 [==============================] - 1s 1ms/step - loss: 8.6826 - mse: 8.0222\n",
      "Epoch 2/20\n",
      "13/13 [==============================] - 0s 1ms/step - loss: 7.7499 - mse: 7.0904\n",
      "Epoch 3/20\n",
      "13/13 [==============================] - 0s 1ms/step - loss: 7.8642 - mse: 7.2050\n",
      "Epoch 4/20\n",
      "13/13 [==============================] - 0s 1ms/step - loss: 7.3153 - mse: 6.6563\n",
      "Epoch 5/20\n",
      "13/13 [==============================] - 0s 1ms/step - loss: 6.9455 - mse: 6.2864\n",
      "Epoch 6/20\n",
      "13/13 [==============================] - 0s 1ms/step - loss: 7.2916 - mse: 6.6325\n",
      "Epoch 7/20\n",
      "13/13 [==============================] - 0s 1ms/step - loss: 7.3258 - mse: 6.6668\n",
      "Epoch 8/20\n",
      "13/13 [==============================] - 0s 1ms/step - loss: 7.0163 - mse: 6.3576\n",
      "Epoch 9/20\n",
      "13/13 [==============================] - 0s 1ms/step - loss: 7.1654 - mse: 6.5072\n",
      "Epoch 10/20\n",
      "13/13 [==============================] - 0s 1ms/step - loss: 7.0673 - mse: 6.4096\n",
      "Epoch 11/20\n",
      "13/13 [==============================] - 0s 1ms/step - loss: 6.7731 - mse: 6.1161\n",
      "Epoch 12/20\n",
      "13/13 [==============================] - 0s 1ms/step - loss: 7.3287 - mse: 6.6723\n",
      "Epoch 13/20\n",
      "13/13 [==============================] - 0s 1ms/step - loss: 7.2010 - mse: 6.5454\n",
      "Epoch 14/20\n",
      "13/13 [==============================] - 0s 1ms/step - loss: 6.9077 - mse: 6.2529\n",
      "Epoch 15/20\n",
      "13/13 [==============================] - 0s 1ms/step - loss: 6.4148 - mse: 5.7607\n",
      "Epoch 16/20\n",
      "13/13 [==============================] - 0s 1ms/step - loss: 6.4931 - mse: 5.8399\n",
      "Epoch 17/20\n",
      "13/13 [==============================] - 0s 1ms/step - loss: 6.3534 - mse: 5.7011\n",
      "Epoch 18/20\n",
      "13/13 [==============================] - 0s 1ms/step - loss: 6.5320 - mse: 5.8805\n",
      "Epoch 19/20\n",
      "13/13 [==============================] - 0s 1ms/step - loss: 6.2770 - mse: 5.6264\n",
      "Epoch 20/20\n",
      "13/13 [==============================] - 0s 1ms/step - loss: 6.1345 - mse: 5.4847\n",
      "R2-test-fit: -5.923303439476626\n",
      "Epoch 1/20\n",
      "9/9 [==============================] - 1s 1ms/step - loss: 8.6110 - mse: 7.9599\n",
      "Epoch 2/20\n",
      "9/9 [==============================] - 0s 1ms/step - loss: 8.0383 - mse: 7.3878\n",
      "Epoch 3/20\n",
      "9/9 [==============================] - 0s 1ms/step - loss: 7.6971 - mse: 7.0469\n",
      "Epoch 4/20\n",
      "9/9 [==============================] - 0s 1ms/step - loss: 6.9975 - mse: 6.3475\n",
      "Epoch 5/20\n",
      "9/9 [==============================] - 0s 1ms/step - loss: 6.2684 - mse: 5.6185\n",
      "Epoch 6/20\n",
      "9/9 [==============================] - 0s 1ms/step - loss: 7.3335 - mse: 6.6835\n",
      "Epoch 7/20\n",
      "9/9 [==============================] - 0s 1ms/step - loss: 7.0120 - mse: 6.3620\n",
      "Epoch 8/20\n",
      "9/9 [==============================] - 0s 1ms/step - loss: 6.0435 - mse: 5.3935\n",
      "Epoch 9/20\n",
      "9/9 [==============================] - 0s 1ms/step - loss: 6.6245 - mse: 5.9747\n",
      "Epoch 10/20\n",
      "9/9 [==============================] - 0s 1ms/step - loss: 6.4756 - mse: 5.8259\n",
      "Epoch 11/20\n",
      "9/9 [==============================] - 0s 1ms/step - loss: 6.0801 - mse: 5.4307\n",
      "Epoch 12/20\n",
      "9/9 [==============================] - 0s 1ms/step - loss: 6.1388 - mse: 5.4897\n",
      "Epoch 13/20\n",
      "9/9 [==============================] - 0s 1ms/step - loss: 6.1600 - mse: 5.5113\n",
      "Epoch 14/20\n",
      "9/9 [==============================] - 0s 1ms/step - loss: 6.0829 - mse: 5.4347\n",
      "Epoch 15/20\n",
      "9/9 [==============================] - 0s 1ms/step - loss: 6.2523 - mse: 5.6045\n",
      "Epoch 16/20\n",
      "9/9 [==============================] - 0s 1ms/step - loss: 6.5691 - mse: 5.9218\n",
      "Epoch 17/20\n",
      "9/9 [==============================] - 0s 1ms/step - loss: 6.8224 - mse: 6.1756\n",
      "Epoch 18/20\n",
      "9/9 [==============================] - 0s 1ms/step - loss: 6.4560 - mse: 5.8097\n",
      "Epoch 19/20\n",
      "9/9 [==============================] - 0s 1ms/step - loss: 6.2833 - mse: 5.6375\n",
      "Epoch 20/20\n",
      "9/9 [==============================] - 0s 1ms/step - loss: 6.4581 - mse: 5.8129\n",
      "5/5 [==============================] - 0s 1ms/step - loss: 7.0564 - mse: 6.4116\n",
      "R2-test -7.056368827819824\n",
      "5/5 [==============================] - 0s 1ms/step\n",
      "MSE-test 6.411592354201742\n",
      "Best params: {'sel__n_features_to_select': 5, 'sel__estimator__learning_rate': 0.1, 'est__output_shape': 1, 'est__nn3': 30, 'est__nn2': 40, 'est__nn1': 50, 'est__nl3': 1, 'est__nl2': 3, 'est__nl1': 2, 'est__lr': 0.001, 'est__l2': 0.003, 'est__l1': 0, 'est__input_shape': 5, 'est__dropout': 0, 'est__decay': 1e-06, 'est__act': 'relu'}\n",
      "Selected features: ['ut_lab1', 'rtr_lab1', 'actq1_lab1', 'actq3_lab1', 'mean(qc$_lab1)']\n"
     ]
    },
    {
     "data": {
      "text/plain": [
       "['ut_lab1', 'rtr_lab1', 'actq1_lab1', 'actq3_lab1', 'mean(qc$_lab1)']"
      ]
     },
     "execution_count": 12,
     "metadata": {
      "tags": []
     },
     "output_type": "execute_result"
    }
   ],
   "source": [
    "run_process(datalab1, rand_cv)"
   ]
  },
  {
   "cell_type": "code",
   "execution_count": null,
   "metadata": {
    "colab": {
     "base_uri": "https://localhost:8080/"
    },
    "id": "SmpDVc5bAOSx",
    "outputId": "cb12570c-baee-4601-e531-73297e7075df"
   },
   "outputs": [
    {
     "name": "stdout",
     "output_type": "stream",
     "text": [
      "Fitting 5 folds for each of 10 candidates, totalling 50 fits\n",
      "Epoch 1/20\n",
      "13/13 [==============================] - 1s 1ms/step - loss: 8.0235 - mse: 7.5470\n",
      "Epoch 2/20\n",
      "13/13 [==============================] - 0s 1ms/step - loss: 7.6654 - mse: 7.1892\n",
      "Epoch 3/20\n",
      "13/13 [==============================] - 0s 1ms/step - loss: 7.7504 - mse: 7.2746\n",
      "Epoch 4/20\n",
      "13/13 [==============================] - 0s 2ms/step - loss: 8.0655 - mse: 7.5900\n",
      "Epoch 5/20\n",
      "13/13 [==============================] - 0s 1ms/step - loss: 7.6406 - mse: 7.1655\n",
      "Epoch 6/20\n",
      "13/13 [==============================] - 0s 1ms/step - loss: 7.1524 - mse: 6.6774\n",
      "Epoch 7/20\n",
      "13/13 [==============================] - 0s 1ms/step - loss: 7.2153 - mse: 6.7404\n",
      "Epoch 8/20\n",
      "13/13 [==============================] - 0s 1ms/step - loss: 6.9910 - mse: 6.5162\n",
      "Epoch 9/20\n",
      "13/13 [==============================] - 0s 1ms/step - loss: 6.3409 - mse: 5.8663\n",
      "Epoch 10/20\n",
      "13/13 [==============================] - 0s 1ms/step - loss: 6.7307 - mse: 6.2563\n",
      "Epoch 11/20\n",
      "13/13 [==============================] - 0s 1ms/step - loss: 6.1715 - mse: 5.6973\n",
      "Epoch 12/20\n",
      "13/13 [==============================] - 0s 1ms/step - loss: 6.5544 - mse: 6.0805\n",
      "Epoch 13/20\n",
      "13/13 [==============================] - 0s 2ms/step - loss: 6.5858 - mse: 6.1122\n",
      "Epoch 14/20\n",
      "13/13 [==============================] - 0s 1ms/step - loss: 6.4384 - mse: 5.9651\n",
      "Epoch 15/20\n",
      "13/13 [==============================] - 0s 1ms/step - loss: 6.2379 - mse: 5.7648\n",
      "Epoch 16/20\n",
      "13/13 [==============================] - 0s 1ms/step - loss: 5.9044 - mse: 5.4317\n",
      "Epoch 17/20\n",
      "13/13 [==============================] - 0s 1ms/step - loss: 5.7557 - mse: 5.2834\n",
      "Epoch 18/20\n",
      "13/13 [==============================] - 0s 1ms/step - loss: 6.7194 - mse: 6.2474\n",
      "Epoch 19/20\n",
      "13/13 [==============================] - 0s 1ms/step - loss: 6.7651 - mse: 6.2935\n",
      "Epoch 20/20\n",
      "13/13 [==============================] - 0s 1ms/step - loss: 6.5757 - mse: 6.1044\n",
      "R2-test-fit: -5.9258554070201\n",
      "Epoch 1/20\n",
      "9/9 [==============================] - 1s 1ms/step - loss: 7.9226 - mse: 7.4561\n",
      "Epoch 2/20\n",
      "9/9 [==============================] - 0s 1ms/step - loss: 7.9585 - mse: 7.4924\n",
      "Epoch 3/20\n",
      "9/9 [==============================] - 0s 1ms/step - loss: 8.3059 - mse: 7.8401\n",
      "Epoch 4/20\n",
      "9/9 [==============================] - 0s 1ms/step - loss: 6.8956 - mse: 6.4300\n",
      "Epoch 5/20\n",
      "9/9 [==============================] - 0s 2ms/step - loss: 6.7215 - mse: 6.2562\n",
      "Epoch 6/20\n",
      "9/9 [==============================] - 0s 1ms/step - loss: 7.5810 - mse: 7.1159\n",
      "Epoch 7/20\n",
      "9/9 [==============================] - 0s 1ms/step - loss: 6.4653 - mse: 6.0003\n",
      "Epoch 8/20\n",
      "9/9 [==============================] - 0s 1ms/step - loss: 6.6901 - mse: 6.2253\n",
      "Epoch 9/20\n",
      "9/9 [==============================] - 0s 1ms/step - loss: 6.3310 - mse: 5.8664\n",
      "Epoch 10/20\n",
      "9/9 [==============================] - 0s 1ms/step - loss: 6.1265 - mse: 5.6620\n",
      "Epoch 11/20\n",
      "9/9 [==============================] - 0s 1ms/step - loss: 5.4786 - mse: 5.0143\n",
      "Epoch 12/20\n",
      "9/9 [==============================] - 0s 1ms/step - loss: 6.8975 - mse: 6.4333\n",
      "Epoch 13/20\n",
      "9/9 [==============================] - 0s 1ms/step - loss: 6.7277 - mse: 6.2637\n",
      "Epoch 14/20\n",
      "9/9 [==============================] - 0s 1ms/step - loss: 6.5605 - mse: 6.0967\n",
      "Epoch 15/20\n",
      "9/9 [==============================] - 0s 2ms/step - loss: 5.5569 - mse: 5.0933\n",
      "Epoch 16/20\n",
      "9/9 [==============================] - 0s 1ms/step - loss: 5.5358 - mse: 5.0724\n",
      "Epoch 17/20\n",
      "9/9 [==============================] - 0s 1ms/step - loss: 6.1470 - mse: 5.6837\n",
      "Epoch 18/20\n",
      "9/9 [==============================] - 0s 2ms/step - loss: 5.7439 - mse: 5.2809\n",
      "Epoch 19/20\n",
      "9/9 [==============================] - 0s 1ms/step - loss: 5.9534 - mse: 5.4906\n",
      "Epoch 20/20\n",
      "9/9 [==============================] - 0s 1ms/step - loss: 5.9489 - mse: 5.4863\n",
      "5/5 [==============================] - 0s 1ms/step - loss: 7.1070 - mse: 6.6446\n",
      "R2-test -7.106952667236328\n",
      "5/5 [==============================] - 0s 992us/step\n",
      "MSE-test 6.644561882162838\n",
      "Best params: {'sel__n_features_to_select': 5, 'sel__estimator__learning_rate': 0.2, 'est__output_shape': 1, 'est__nn3': 30, 'est__nn2': 10, 'est__nn1': 20, 'est__nl3': 2, 'est__nl2': 2, 'est__nl1': 2, 'est__lr': 0.01, 'est__l2': 0.001, 'est__l1': 0.001, 'est__input_shape': 5, 'est__dropout': 0.1, 'est__decay': 1e-06, 'est__act': 'relu'}\n",
      "Selected features: ['ut_lab1', 'ctr_lab1', 'actq1_lab1', 'actq3_lab1', 'mean(qmsr$_lab1)']\n"
     ]
    },
    {
     "data": {
      "text/plain": [
       "['ut_lab1', 'ctr_lab1', 'actq1_lab1', 'actq3_lab1', 'mean(qmsr$_lab1)']"
      ]
     },
     "execution_count": 13,
     "metadata": {
      "tags": []
     },
     "output_type": "execute_result"
    }
   ],
   "source": [
    "run_process(datalab1, rand_cv)"
   ]
  },
  {
   "cell_type": "code",
   "execution_count": null,
   "metadata": {
    "colab": {
     "base_uri": "https://localhost:8080/"
    },
    "id": "cuDiEOI4AOft",
    "outputId": "fb93d2ac-cbe0-4de5-bed2-a2b38df86b47"
   },
   "outputs": [
    {
     "name": "stdout",
     "output_type": "stream",
     "text": [
      "Fitting 5 folds for each of 10 candidates, totalling 50 fits\n",
      "Epoch 1/20\n",
      "13/13 [==============================] - 1s 992us/step - loss: 14.5028 - mse: 8.5900\n",
      "Epoch 2/20\n",
      "13/13 [==============================] - 0s 951us/step - loss: 14.1717 - mse: 8.3135\n",
      "Epoch 3/20\n",
      "13/13 [==============================] - 0s 951us/step - loss: 13.3375 - mse: 7.5308\n",
      "Epoch 4/20\n",
      "13/13 [==============================] - 0s 951us/step - loss: 12.5249 - mse: 6.7672\n",
      "Epoch 5/20\n",
      "13/13 [==============================] - 0s 909us/step - loss: 11.5566 - mse: 5.8464\n",
      "Epoch 6/20\n",
      "13/13 [==============================] - 0s 909us/step - loss: 12.3634 - mse: 6.7004\n",
      "Epoch 7/20\n",
      "13/13 [==============================] - 0s 951us/step - loss: 12.1208 - mse: 6.5061\n",
      "Epoch 8/20\n",
      "13/13 [==============================] - 0s 951us/step - loss: 12.3176 - mse: 6.7517\n",
      "Epoch 9/20\n",
      "13/13 [==============================] - 0s 1ms/step - loss: 11.7704 - mse: 6.2540\n",
      "Epoch 10/20\n",
      "13/13 [==============================] - 0s 992us/step - loss: 11.8168 - mse: 6.3501\n",
      "Epoch 11/20\n",
      "13/13 [==============================] - 0s 992us/step - loss: 11.7108 - mse: 6.2942\n",
      "Epoch 12/20\n",
      "13/13 [==============================] - 0s 951us/step - loss: 11.5939 - mse: 6.2275\n",
      "Epoch 13/20\n",
      "13/13 [==============================] - 0s 1ms/step - loss: 11.2634 - mse: 5.9470\n",
      "Epoch 14/20\n",
      "13/13 [==============================] - 0s 951us/step - loss: 10.9098 - mse: 5.6435\n",
      "Epoch 15/20\n",
      "13/13 [==============================] - 0s 1ms/step - loss: 11.2908 - mse: 6.0745\n",
      "Epoch 16/20\n",
      "13/13 [==============================] - 0s 992us/step - loss: 10.9511 - mse: 5.7846\n",
      "Epoch 17/20\n",
      "13/13 [==============================] - 0s 909us/step - loss: 11.1960 - mse: 6.0791\n",
      "Epoch 18/20\n",
      "13/13 [==============================] - 0s 992us/step - loss: 11.4663 - mse: 6.3988\n",
      "Epoch 19/20\n",
      "13/13 [==============================] - 0s 1ms/step - loss: 10.8900 - mse: 5.8717\n",
      "Epoch 20/20\n",
      "13/13 [==============================] - 0s 1ms/step - loss: 11.1394 - mse: 6.1702\n",
      "R2-test-fit: -5.936426645465245\n",
      "Epoch 1/20\n",
      "9/9 [==============================] - 1s 1ms/step - loss: 14.2024 - mse: 8.3011\n",
      "Epoch 2/20\n",
      "9/9 [==============================] - 0s 992us/step - loss: 14.0658 - mse: 8.2018\n",
      "Epoch 3/20\n",
      "9/9 [==============================] - 0s 1ms/step - loss: 13.8958 - mse: 8.0684\n",
      "Epoch 4/20\n",
      "9/9 [==============================] - 0s 1ms/step - loss: 13.3186 - mse: 7.5270\n",
      "Epoch 5/20\n",
      "9/9 [==============================] - 0s 1ms/step - loss: 12.4757 - mse: 6.7184\n",
      "Epoch 6/20\n",
      "9/9 [==============================] - 0s 1ms/step - loss: 12.6046 - mse: 6.8807\n",
      "Epoch 7/20\n",
      "9/9 [==============================] - 0s 1ms/step - loss: 12.0929 - mse: 6.4019\n",
      "Epoch 8/20\n",
      "9/9 [==============================] - 0s 1ms/step - loss: 12.9707 - mse: 7.3125\n",
      "Epoch 9/20\n",
      "9/9 [==============================] - 0s 1ms/step - loss: 12.3931 - mse: 6.7681\n",
      "Epoch 10/20\n",
      "9/9 [==============================] - 0s 1ms/step - loss: 11.7391 - mse: 6.1476\n",
      "Epoch 11/20\n",
      "9/9 [==============================] - 0s 1ms/step - loss: 12.2050 - mse: 6.6470\n",
      "Epoch 12/20\n",
      "9/9 [==============================] - 0s 1ms/step - loss: 12.0091 - mse: 6.4852\n",
      "Epoch 13/20\n",
      "9/9 [==============================] - 0s 1ms/step - loss: 11.1281 - mse: 5.6384\n",
      "Epoch 14/20\n",
      "9/9 [==============================] - 0s 1ms/step - loss: 11.7972 - mse: 6.3417\n",
      "Epoch 15/20\n",
      "9/9 [==============================] - 0s 1ms/step - loss: 11.5466 - mse: 6.1253\n",
      "Epoch 16/20\n",
      "9/9 [==============================] - 0s 1ms/step - loss: 11.7356 - mse: 6.3489\n",
      "Epoch 17/20\n",
      "9/9 [==============================] - 0s 1ms/step - loss: 11.1873 - mse: 5.8352\n",
      "Epoch 18/20\n",
      "9/9 [==============================] - 0s 991us/step - loss: 11.6663 - mse: 6.3486\n",
      "Epoch 19/20\n",
      "9/9 [==============================] - 0s 1ms/step - loss: 11.4417 - mse: 6.1586\n",
      "Epoch 20/20\n",
      "9/9 [==============================] - 0s 1ms/step - loss: 10.9907 - mse: 5.7422\n",
      "5/5 [==============================] - 0s 993us/step - loss: 10.8744 - mse: 5.6521\n",
      "R2-test -10.874432563781738\n",
      "5/5 [==============================] - 0s 992us/step\n",
      "MSE-test 5.652118969822092\n",
      "Best params: {'sel__n_features_to_select': 5, 'sel__estimator__learning_rate': 0.05, 'est__output_shape': 1, 'est__nn3': 30, 'est__nn2': 70, 'est__nn1': 20, 'est__nl3': 3, 'est__nl2': 1, 'est__nl1': 0, 'est__lr': 0.001, 'est__l2': 0.0001, 'est__l1': 0.01, 'est__input_shape': 5, 'est__dropout': 0.1, 'est__decay': 1e-09, 'est__act': 'relu'}\n",
      "Selected features: ['ctr_lab1', 'cer_lab1', 'actq1_lab1', 'actq3_lab1', 'mean(qmsr$_lab1)']\n"
     ]
    },
    {
     "data": {
      "text/plain": [
       "['ctr_lab1', 'cer_lab1', 'actq1_lab1', 'actq3_lab1', 'mean(qmsr$_lab1)']"
      ]
     },
     "execution_count": 8,
     "metadata": {
      "tags": []
     },
     "output_type": "execute_result"
    }
   ],
   "source": [
    "run_process(datalab1, rand_cv)"
   ]
  },
  {
   "cell_type": "code",
   "execution_count": null,
   "metadata": {
    "colab": {
     "base_uri": "https://localhost:8080/"
    },
    "id": "9t4ncPttAOls",
    "outputId": "0cbfebdb-e703-4d83-ef70-2466e5b910d2"
   },
   "outputs": [
    {
     "name": "stdout",
     "output_type": "stream",
     "text": [
      "Fitting 5 folds for each of 10 candidates, totalling 50 fits\n",
      "Epoch 1/20\n",
      "13/13 [==============================] - 1s 992us/step - loss: 8.1453 - mse: 7.8227\n",
      "Epoch 2/20\n",
      "13/13 [==============================] - 0s 909us/step - loss: 7.8284 - mse: 7.5064\n",
      "Epoch 3/20\n",
      "13/13 [==============================] - 0s 951us/step - loss: 7.9183 - mse: 7.5970\n",
      "Epoch 4/20\n",
      "13/13 [==============================] - 0s 951us/step - loss: 7.2407 - mse: 6.9199\n",
      "Epoch 5/20\n",
      "13/13 [==============================] - 0s 951us/step - loss: 7.5546 - mse: 7.2341\n",
      "Epoch 6/20\n",
      "13/13 [==============================] - 0s 1ms/step - loss: 7.5524 - mse: 7.2321\n",
      "Epoch 7/20\n",
      "13/13 [==============================] - 0s 1ms/step - loss: 6.9903 - mse: 6.6701\n",
      "Epoch 8/20\n",
      "13/13 [==============================] - 0s 1ms/step - loss: 6.5007 - mse: 6.1806\n",
      "Epoch 9/20\n",
      "13/13 [==============================] - 0s 951us/step - loss: 6.9146 - mse: 6.5945\n",
      "Epoch 10/20\n",
      "13/13 [==============================] - 0s 951us/step - loss: 6.1683 - mse: 5.8483\n",
      "Epoch 11/20\n",
      "13/13 [==============================] - 0s 1ms/step - loss: 7.0528 - mse: 6.7329\n",
      "Epoch 12/20\n",
      "13/13 [==============================] - 0s 1ms/step - loss: 6.2346 - mse: 5.9148\n",
      "Epoch 13/20\n",
      "13/13 [==============================] - 0s 992us/step - loss: 6.7760 - mse: 6.4563\n",
      "Epoch 14/20\n",
      "13/13 [==============================] - 0s 1ms/step - loss: 6.0043 - mse: 5.6849\n",
      "Epoch 15/20\n",
      "13/13 [==============================] - 0s 992us/step - loss: 6.3804 - mse: 6.0612\n",
      "Epoch 16/20\n",
      "13/13 [==============================] - 0s 1ms/step - loss: 5.8222 - mse: 5.5032\n",
      "Epoch 17/20\n",
      "13/13 [==============================] - 0s 1ms/step - loss: 6.1122 - mse: 5.7935\n",
      "Epoch 18/20\n",
      "13/13 [==============================] - 0s 1ms/step - loss: 6.4465 - mse: 6.1280\n",
      "Epoch 19/20\n",
      "13/13 [==============================] - 0s 1ms/step - loss: 6.3076 - mse: 5.9895\n",
      "Epoch 20/20\n",
      "13/13 [==============================] - 0s 1ms/step - loss: 6.3194 - mse: 6.0016\n",
      "R2-test-fit: -5.927009356216222\n",
      "Epoch 1/20\n",
      "9/9 [==============================] - 1s 1ms/step - loss: 7.4535 - mse: 7.1532\n",
      "Epoch 2/20\n",
      "9/9 [==============================] - 0s 992us/step - loss: 7.9931 - mse: 7.6931\n",
      "Epoch 3/20\n",
      "9/9 [==============================] - 0s 930us/step - loss: 7.8976 - mse: 7.5979\n",
      "Epoch 4/20\n",
      "9/9 [==============================] - 0s 992us/step - loss: 7.9984 - mse: 7.6990\n",
      "Epoch 5/20\n",
      "9/9 [==============================] - 0s 992us/step - loss: 7.1611 - mse: 6.8621\n",
      "Epoch 6/20\n",
      "9/9 [==============================] - 0s 1ms/step - loss: 7.3996 - mse: 7.1008\n",
      "Epoch 7/20\n",
      "9/9 [==============================] - 0s 992us/step - loss: 8.1206 - mse: 7.8222\n",
      "Epoch 8/20\n",
      "9/9 [==============================] - 0s 1ms/step - loss: 7.5719 - mse: 7.2737\n",
      "Epoch 9/20\n",
      "9/9 [==============================] - 0s 992us/step - loss: 7.2393 - mse: 6.9414\n",
      "Epoch 10/20\n",
      "9/9 [==============================] - 0s 992us/step - loss: 6.9587 - mse: 6.6609\n",
      "Epoch 11/20\n",
      "9/9 [==============================] - 0s 1ms/step - loss: 6.7368 - mse: 6.4393\n",
      "Epoch 12/20\n",
      "9/9 [==============================] - 0s 992us/step - loss: 6.7085 - mse: 6.4111\n",
      "Epoch 13/20\n",
      "9/9 [==============================] - 0s 1ms/step - loss: 6.9595 - mse: 6.6623\n",
      "Epoch 14/20\n",
      "9/9 [==============================] - 0s 992us/step - loss: 6.1538 - mse: 5.8567\n",
      "Epoch 15/20\n",
      "9/9 [==============================] - 0s 992us/step - loss: 6.9802 - mse: 6.6832\n",
      "Epoch 16/20\n",
      "9/9 [==============================] - 0s 1ms/step - loss: 6.4377 - mse: 6.1408\n",
      "Epoch 17/20\n",
      "9/9 [==============================] - 0s 1ms/step - loss: 5.7383 - mse: 5.4414\n",
      "Epoch 18/20\n",
      "9/9 [==============================] - 0s 1ms/step - loss: 6.5300 - mse: 6.2332\n",
      "Epoch 19/20\n",
      "9/9 [==============================] - 0s 992us/step - loss: 6.5503 - mse: 6.2536\n",
      "Epoch 20/20\n",
      "9/9 [==============================] - 0s 930us/step - loss: 5.9507 - mse: 5.6540\n",
      "5/5 [==============================] - 0s 868us/step - loss: 6.8547 - mse: 6.5581\n",
      "R2-test -6.854718208312988\n",
      "5/5 [==============================] - 0s 735us/step\n",
      "MSE-test 6.558102731570438\n",
      "Best params: {'sel__n_features_to_select': 5, 'sel__estimator__learning_rate': 0.1, 'est__output_shape': 1, 'est__nn3': 5, 'est__nn2': 40, 'est__nn1': 20, 'est__nl3': 1, 'est__nl2': 2, 'est__nl1': 2, 'est__lr': 0.001, 'est__l2': 0.003, 'est__l1': 0, 'est__input_shape': 5, 'est__dropout': 0.1, 'est__decay': 1e-06, 'est__act': 'relu'}\n",
      "Selected features: ['ut_lab1', 'rt_lab1', 'actq1_lab1', 'actq3_lab1', 'mean(qmsr$_lab1)']\n"
     ]
    },
    {
     "data": {
      "text/plain": [
       "['ut_lab1', 'rt_lab1', 'actq1_lab1', 'actq3_lab1', 'mean(qmsr$_lab1)']"
      ]
     },
     "execution_count": 9,
     "metadata": {
      "tags": []
     },
     "output_type": "execute_result"
    }
   ],
   "source": [
    "run_process(datalab1, rand_cv)"
   ]
  },
  {
   "cell_type": "code",
   "execution_count": null,
   "metadata": {
    "colab": {
     "base_uri": "https://localhost:8080/"
    },
    "id": "mBkqy869AOz8",
    "outputId": "f5fe4293-a5af-4e68-8ebe-bc64c7d4635c"
   },
   "outputs": [
    {
     "name": "stdout",
     "output_type": "stream",
     "text": [
      "Fitting 5 folds for each of 10 candidates, totalling 50 fits\n",
      "Epoch 1/20\n",
      "13/13 [==============================] - 1s 1ms/step - loss: 13.8036 - mse: 7.6704\n",
      "Epoch 2/20\n",
      "13/13 [==============================] - 0s 1ms/step - loss: 12.9677 - mse: 6.8594\n",
      "Epoch 3/20\n",
      "13/13 [==============================] - 0s 951us/step - loss: 13.5947 - mse: 7.5105\n",
      "Epoch 4/20\n",
      "13/13 [==============================] - 0s 951us/step - loss: 12.7636 - mse: 6.7030\n",
      "Epoch 5/20\n",
      "13/13 [==============================] - 0s 909us/step - loss: 12.2728 - mse: 6.2353\n",
      "Epoch 6/20\n",
      "13/13 [==============================] - 0s 992us/step - loss: 11.4762 - mse: 5.4618\n",
      "Epoch 7/20\n",
      "13/13 [==============================] - 0s 992us/step - loss: 12.2325 - mse: 6.2410\n",
      "Epoch 8/20\n",
      "13/13 [==============================] - 0s 1ms/step - loss: 11.1592 - mse: 5.1909\n",
      "Epoch 9/20\n",
      "13/13 [==============================] - 0s 1ms/step - loss: 11.9898 - mse: 6.0448\n",
      "Epoch 10/20\n",
      "13/13 [==============================] - 0s 951us/step - loss: 11.6125 - mse: 5.6911\n",
      "Epoch 11/20\n",
      "13/13 [==============================] - 0s 1ms/step - loss: 11.9459 - mse: 6.0480\n",
      "Epoch 12/20\n",
      "13/13 [==============================] - 0s 1ms/step - loss: 11.8717 - mse: 5.9975\n",
      "Epoch 13/20\n",
      "13/13 [==============================] - 0s 992us/step - loss: 11.6844 - mse: 5.8339\n",
      "Epoch 14/20\n",
      "13/13 [==============================] - 0s 992us/step - loss: 11.7976 - mse: 5.9710\n",
      "Epoch 15/20\n",
      "13/13 [==============================] - 0s 1ms/step - loss: 11.8166 - mse: 6.0138\n",
      "Epoch 16/20\n",
      "13/13 [==============================] - 0s 1ms/step - loss: 11.3703 - mse: 5.5914\n",
      "Epoch 17/20\n",
      "13/13 [==============================] - 0s 1ms/step - loss: 11.3040 - mse: 5.5490\n",
      "Epoch 18/20\n",
      "13/13 [==============================] - 0s 1ms/step - loss: 11.3655 - mse: 5.6343\n",
      "Epoch 19/20\n",
      "13/13 [==============================] - 0s 1ms/step - loss: 11.4327 - mse: 5.7253\n",
      "Epoch 20/20\n",
      "13/13 [==============================] - 0s 1ms/step - loss: 11.0373 - mse: 5.3538\n",
      "R2-test-fit: -5.918343879459089\n",
      "Epoch 1/20\n",
      "9/9 [==============================] - 1s 1ms/step - loss: 14.5615 - mse: 8.3966\n",
      "Epoch 2/20\n",
      "9/9 [==============================] - 0s 930us/step - loss: 13.6732 - mse: 7.5255\n",
      "Epoch 3/20\n",
      "9/9 [==============================] - 0s 1ms/step - loss: 13.3776 - mse: 7.2462\n",
      "Epoch 4/20\n",
      "9/9 [==============================] - 0s 930us/step - loss: 12.8558 - mse: 6.7397\n",
      "Epoch 5/20\n",
      "9/9 [==============================] - 0s 930us/step - loss: 13.2019 - mse: 7.1004\n",
      "Epoch 6/20\n",
      "9/9 [==============================] - 0s 1ms/step - loss: 12.0602 - mse: 5.9729\n",
      "Epoch 7/20\n",
      "9/9 [==============================] - 0s 1ms/step - loss: 11.9482 - mse: 5.8753\n",
      "Epoch 8/20\n",
      "9/9 [==============================] - 0s 992us/step - loss: 12.0199 - mse: 5.9619\n",
      "Epoch 9/20\n",
      "9/9 [==============================] - 0s 1ms/step - loss: 12.1597 - mse: 6.1170\n",
      "Epoch 10/20\n",
      "9/9 [==============================] - 0s 1ms/step - loss: 12.1239 - mse: 6.0970\n",
      "Epoch 11/20\n",
      "9/9 [==============================] - 0s 1ms/step - loss: 11.6985 - mse: 5.6876\n",
      "Epoch 12/20\n",
      "9/9 [==============================] - 0s 1ms/step - loss: 12.3036 - mse: 6.3088\n",
      "Epoch 13/20\n",
      "9/9 [==============================] - 0s 992us/step - loss: 11.9450 - mse: 5.9666\n",
      "Epoch 14/20\n",
      "9/9 [==============================] - 0s 1ms/step - loss: 11.3366 - mse: 5.3746\n",
      "Epoch 15/20\n",
      "9/9 [==============================] - 0s 992us/step - loss: 12.3814 - mse: 6.4359\n",
      "Epoch 16/20\n",
      "9/9 [==============================] - 0s 996us/step - loss: 11.7774 - mse: 5.8484\n",
      "Epoch 17/20\n",
      "9/9 [==============================] - 0s 1ms/step - loss: 11.2090 - mse: 5.2965\n",
      "Epoch 18/20\n",
      "9/9 [==============================] - 0s 1ms/step - loss: 11.4857 - mse: 5.5897\n",
      "Epoch 19/20\n",
      "9/9 [==============================] - 0s 1ms/step - loss: 11.9311 - mse: 6.0518\n",
      "Epoch 20/20\n",
      "9/9 [==============================] - 0s 1ms/step - loss: 11.8602 - mse: 5.9975\n",
      "5/5 [==============================] - 0s 1ms/step - loss: 11.8605 - mse: 6.0105\n",
      "R2-test -11.860539436340332\n",
      "5/5 [==============================] - 0s 992us/step\n",
      "MSE-test 6.010468995425837\n",
      "Best params: {'sel__n_features_to_select': 5, 'sel__estimator__learning_rate': 0.05, 'est__output_shape': 1, 'est__nn3': 30, 'est__nn2': 40, 'est__nn1': 100, 'est__nl3': 1, 'est__nl2': 3, 'est__nl1': 2, 'est__lr': 0.001, 'est__l2': 0.001, 'est__l1': 0.003, 'est__input_shape': 5, 'est__dropout': 0, 'est__decay': 1e-06, 'est__act': 'relu'}\n",
      "Selected features: ['ctr_lab1', 'actq1_lab1', 'actq3_lab1', 'mean(qmsr$_lab1)', 'sum(qat$_lab1)']\n"
     ]
    },
    {
     "data": {
      "text/plain": [
       "['ctr_lab1', 'actq1_lab1', 'actq3_lab1', 'mean(qmsr$_lab1)', 'sum(qat$_lab1)']"
      ]
     },
     "execution_count": 10,
     "metadata": {
      "tags": []
     },
     "output_type": "execute_result"
    }
   ],
   "source": [
    "run_process(datalab1, rand_cv)"
   ]
  },
  {
   "cell_type": "code",
   "execution_count": null,
   "metadata": {
    "colab": {
     "base_uri": "https://localhost:8080/"
    },
    "id": "JeMsG2D-AO5q",
    "outputId": "16dbf040-9467-425b-9a42-b207336f8ba3"
   },
   "outputs": [
    {
     "name": "stdout",
     "output_type": "stream",
     "text": [
      "Fitting 5 folds for each of 10 candidates, totalling 50 fits\n",
      "Epoch 1/20\n",
      "13/13 [==============================] - 1s 1ms/step - loss: 26.9045 - mse: 6.8973\n",
      "Epoch 2/20\n",
      "13/13 [==============================] - 0s 1ms/step - loss: 26.2978 - mse: 6.6229\n",
      "Epoch 3/20\n",
      "13/13 [==============================] - 0s 1ms/step - loss: 25.1946 - mse: 5.8483\n",
      "Epoch 4/20\n",
      "13/13 [==============================] - 0s 1ms/step - loss: 24.9191 - mse: 5.8979\n",
      "Epoch 5/20\n",
      "13/13 [==============================] - 0s 1ms/step - loss: 25.0269 - mse: 6.3275\n",
      "Epoch 6/20\n",
      "13/13 [==============================] - 0s 2ms/step - loss: 24.7038 - mse: 6.3232\n",
      "Epoch 7/20\n",
      "13/13 [==============================] - 0s 1ms/step - loss: 23.5145 - mse: 5.4494\n",
      "Epoch 8/20\n",
      "13/13 [==============================] - 0s 1ms/step - loss: 24.1944 - mse: 6.4417\n",
      "Epoch 9/20\n",
      "13/13 [==============================] - 0s 1ms/step - loss: 23.5854 - mse: 6.1419\n",
      "Epoch 10/20\n",
      "13/13 [==============================] - 0s 2ms/step - loss: 23.0194 - mse: 5.8817\n",
      "Epoch 11/20\n",
      "13/13 [==============================] - 0s 2ms/step - loss: 23.0809 - mse: 6.2458\n",
      "Epoch 12/20\n",
      "13/13 [==============================] - 0s 2ms/step - loss: 22.2953 - mse: 5.7595\n",
      "Epoch 13/20\n",
      "13/13 [==============================] - 0s 2ms/step - loss: 22.6167 - mse: 6.3771\n",
      "Epoch 14/20\n",
      "13/13 [==============================] - 0s 1ms/step - loss: 21.7885 - mse: 5.8421\n",
      "Epoch 15/20\n",
      "13/13 [==============================] - 0s 2ms/step - loss: 21.4686 - mse: 5.8123\n",
      "Epoch 16/20\n",
      "13/13 [==============================] - 0s 2ms/step - loss: 21.1330 - mse: 5.7635\n",
      "Epoch 17/20\n",
      "13/13 [==============================] - 0s 2ms/step - loss: 21.4477 - mse: 6.3620\n",
      "Epoch 18/20\n",
      "13/13 [==============================] - 0s 2ms/step - loss: 21.1786 - mse: 6.3735\n",
      "Epoch 19/20\n",
      "13/13 [==============================] - 0s 2ms/step - loss: 20.7600 - mse: 6.2324\n",
      "Epoch 20/20\n",
      "13/13 [==============================] - 0s 2ms/step - loss: 20.3077 - mse: 6.0547\n",
      "R2-test-fit: -5.933888879874241\n",
      "Epoch 1/20\n",
      "9/9 [==============================] - 1s 2ms/step - loss: 27.1459 - mse: 7.1047\n",
      "Epoch 2/20\n",
      "9/9 [==============================] - 0s 2ms/step - loss: 26.3142 - mse: 6.5031\n",
      "Epoch 3/20\n",
      "9/9 [==============================] - 0s 2ms/step - loss: 25.8684 - mse: 6.2857\n",
      "Epoch 4/20\n",
      "9/9 [==============================] - 0s 2ms/step - loss: 25.6721 - mse: 6.3162\n",
      "Epoch 5/20\n",
      "9/9 [==============================] - 0s 1ms/step - loss: 25.4716 - mse: 6.3412\n",
      "Epoch 6/20\n",
      "9/9 [==============================] - 0s 2ms/step - loss: 24.7325 - mse: 5.8261\n",
      "Epoch 7/20\n",
      "9/9 [==============================] - 0s 1ms/step - loss: 24.2668 - mse: 5.5830\n",
      "Epoch 8/20\n",
      "9/9 [==============================] - 0s 1ms/step - loss: 24.4580 - mse: 5.9951\n",
      "Epoch 9/20\n",
      "9/9 [==============================] - 0s 1ms/step - loss: 23.7245 - mse: 5.4811\n",
      "Epoch 10/20\n",
      "9/9 [==============================] - 0s 1ms/step - loss: 24.2571 - mse: 6.2318\n",
      "Epoch 11/20\n",
      "9/9 [==============================] - 0s 1ms/step - loss: 23.7371 - mse: 5.9283\n",
      "Epoch 12/20\n",
      "9/9 [==============================] - 0s 1ms/step - loss: 23.8397 - mse: 6.2458\n",
      "Epoch 13/20\n",
      "9/9 [==============================] - 0s 1ms/step - loss: 24.0910 - mse: 6.7105\n",
      "Epoch 14/20\n",
      "9/9 [==============================] - 0s 2ms/step - loss: 22.9556 - mse: 5.7869\n",
      "Epoch 15/20\n",
      "9/9 [==============================] - 0s 2ms/step - loss: 22.8162 - mse: 5.8579\n",
      "Epoch 16/20\n",
      "9/9 [==============================] - 0s 2ms/step - loss: 22.4517 - mse: 5.7023\n",
      "Epoch 17/20\n",
      "9/9 [==============================] - 0s 1ms/step - loss: 22.8620 - mse: 6.3200\n",
      "Epoch 18/20\n",
      "9/9 [==============================] - 0s 4ms/step - loss: 22.3555 - mse: 6.0195\n",
      "Epoch 19/20\n",
      "9/9 [==============================] - 0s 2ms/step - loss: 22.4166 - mse: 6.2848\n",
      "Epoch 20/20\n",
      "9/9 [==============================] - 0s 2ms/step - loss: 21.7840 - mse: 5.8551\n",
      "5/5 [==============================] - 0s 992us/step - loss: 21.4842 - mse: 5.7088\n",
      "R2-test -21.48423194885254\n",
      "5/5 [==============================] - 0s 868us/step\n",
      "MSE-test 5.708795652634326\n",
      "Best params: {'sel__n_features_to_select': 5, 'sel__estimator__learning_rate': 0.1, 'est__output_shape': 1, 'est__nn3': 15, 'est__nn2': 40, 'est__nn1': 100, 'est__nl3': 0, 'est__nl2': 3, 'est__nl1': 2, 'est__lr': 0.001, 'est__l2': 0.01, 'est__l1': 0.01, 'est__input_shape': 5, 'est__dropout': 0.2, 'est__decay': 1e-09, 'est__act': 'sigmoid'}\n",
      "Selected features: ['rtr_lab1', 'actq1_lab1', 'actq3_lab1', 'mean(qmsr$_lab1)', 'sum(qat$_lab1)']\n"
     ]
    },
    {
     "data": {
      "text/plain": [
       "['rtr_lab1', 'actq1_lab1', 'actq3_lab1', 'mean(qmsr$_lab1)', 'sum(qat$_lab1)']"
      ]
     },
     "execution_count": 11,
     "metadata": {
      "tags": []
     },
     "output_type": "execute_result"
    }
   ],
   "source": [
    "run_process(datalab1, rand_cv)"
   ]
  },
  {
   "cell_type": "code",
   "execution_count": null,
   "metadata": {
    "colab": {
     "base_uri": "https://localhost:8080/"
    },
    "id": "pRTPltQxAO_b",
    "outputId": "fc6b24c1-ceaf-449c-b2f5-5806f961f4ad"
   },
   "outputs": [
    {
     "name": "stdout",
     "output_type": "stream",
     "text": [
      "Fitting 5 folds for each of 10 candidates, totalling 50 fits\n",
      "Epoch 1/20\n",
      "13/13 [==============================] - 1s 1ms/step - loss: 8.2989 - mse: 7.7322\n",
      "Epoch 2/20\n",
      "13/13 [==============================] - 0s 1ms/step - loss: 8.2407 - mse: 7.6740\n",
      "Epoch 3/20\n",
      "13/13 [==============================] - 0s 1ms/step - loss: 7.0402 - mse: 6.4736\n",
      "Epoch 4/20\n",
      "13/13 [==============================] - 0s 992us/step - loss: 6.9910 - mse: 6.4242\n",
      "Epoch 5/20\n",
      "13/13 [==============================] - 0s 1ms/step - loss: 6.6177 - mse: 6.0509\n",
      "Epoch 6/20\n",
      "13/13 [==============================] - 0s 1ms/step - loss: 6.3925 - mse: 5.8257\n",
      "Epoch 7/20\n",
      "13/13 [==============================] - 0s 1ms/step - loss: 6.5759 - mse: 6.0091\n",
      "Epoch 8/20\n",
      "13/13 [==============================] - 0s 992us/step - loss: 6.5809 - mse: 6.0142\n",
      "Epoch 9/20\n",
      "13/13 [==============================] - 0s 992us/step - loss: 6.8259 - mse: 6.2594\n",
      "Epoch 10/20\n",
      "13/13 [==============================] - 0s 1ms/step - loss: 6.4306 - mse: 5.8644\n",
      "Epoch 11/20\n",
      "13/13 [==============================] - 0s 1ms/step - loss: 6.7950 - mse: 6.2291\n",
      "Epoch 12/20\n",
      "13/13 [==============================] - 0s 992us/step - loss: 6.3751 - mse: 5.8095\n",
      "Epoch 13/20\n",
      "13/13 [==============================] - 0s 992us/step - loss: 6.9626 - mse: 6.3973\n",
      "Epoch 14/20\n",
      "13/13 [==============================] - 0s 992us/step - loss: 6.4155 - mse: 5.8506\n",
      "Epoch 15/20\n",
      "13/13 [==============================] - 0s 992us/step - loss: 6.2930 - mse: 5.7285\n",
      "Epoch 16/20\n",
      "13/13 [==============================] - 0s 951us/step - loss: 6.2975 - mse: 5.7334\n",
      "Epoch 17/20\n",
      "13/13 [==============================] - 0s 1ms/step - loss: 6.0575 - mse: 5.4937\n",
      "Epoch 18/20\n",
      "13/13 [==============================] - 0s 1ms/step - loss: 7.3566 - mse: 6.7932\n",
      "Epoch 19/20\n",
      "13/13 [==============================] - 0s 1ms/step - loss: 6.6963 - mse: 6.1334\n",
      "Epoch 20/20\n",
      "13/13 [==============================] - 0s 1ms/step - loss: 6.8116 - mse: 6.2490\n",
      "R2-test-fit: -5.929686239745116\n",
      "Epoch 1/20\n",
      "9/9 [==============================] - 1s 1ms/step - loss: 8.3315 - mse: 7.7686\n",
      "Epoch 2/20\n",
      "9/9 [==============================] - 0s 1ms/step - loss: 7.9765 - mse: 7.4139\n",
      "Epoch 3/20\n",
      "9/9 [==============================] - 0s 1ms/step - loss: 7.8897 - mse: 7.3274\n",
      "Epoch 4/20\n",
      "9/9 [==============================] - 0s 1ms/step - loss: 8.1161 - mse: 7.5540\n",
      "Epoch 5/20\n",
      "9/9 [==============================] - 0s 992us/step - loss: 7.1757 - mse: 6.6137\n",
      "Epoch 6/20\n",
      "9/9 [==============================] - 0s 1ms/step - loss: 7.7687 - mse: 7.2067\n",
      "Epoch 7/20\n",
      "9/9 [==============================] - 0s 1ms/step - loss: 7.6255 - mse: 7.0635\n",
      "Epoch 8/20\n",
      "9/9 [==============================] - 0s 1ms/step - loss: 6.8998 - mse: 6.3379\n",
      "Epoch 9/20\n",
      "9/9 [==============================] - 0s 1ms/step - loss: 7.9570 - mse: 7.3950\n",
      "Epoch 10/20\n",
      "9/9 [==============================] - 0s 1ms/step - loss: 6.6854 - mse: 6.1234\n",
      "Epoch 11/20\n",
      "9/9 [==============================] - 0s 1ms/step - loss: 6.5657 - mse: 6.0038\n",
      "Epoch 12/20\n",
      "9/9 [==============================] - 0s 1ms/step - loss: 7.0089 - mse: 6.4472\n",
      "Epoch 13/20\n",
      "9/9 [==============================] - 0s 1ms/step - loss: 6.1008 - mse: 5.5391\n",
      "Epoch 14/20\n",
      "9/9 [==============================] - 0s 992us/step - loss: 6.2050 - mse: 5.6434\n",
      "Epoch 15/20\n",
      "9/9 [==============================] - 0s 1ms/step - loss: 6.6758 - mse: 6.1144\n",
      "Epoch 16/20\n",
      "9/9 [==============================] - 0s 1ms/step - loss: 6.3365 - mse: 5.7752\n",
      "Epoch 17/20\n",
      "9/9 [==============================] - 0s 1ms/step - loss: 6.0924 - mse: 5.5313\n",
      "Epoch 18/20\n",
      "9/9 [==============================] - 0s 1ms/step - loss: 6.2426 - mse: 5.6817\n",
      "Epoch 19/20\n",
      "9/9 [==============================] - 0s 1ms/step - loss: 6.4700 - mse: 5.9092\n",
      "Epoch 20/20\n",
      "9/9 [==============================] - 0s 1ms/step - loss: 6.1207 - mse: 5.5601\n",
      "5/5 [==============================] - 0s 992us/step - loss: 6.8140 - mse: 6.2535\n",
      "R2-test -6.813991546630859\n",
      "5/5 [==============================] - 0s 868us/step\n",
      "MSE-test 6.253539401301734\n",
      "Best params: {'sel__n_features_to_select': 5, 'sel__estimator__learning_rate': 0.2, 'est__output_shape': 1, 'est__nn3': 15, 'est__nn2': 10, 'est__nn1': 50, 'est__nl3': 3, 'est__nl2': 1, 'est__nl1': 2, 'est__lr': 0.01, 'est__l2': 0, 'est__l1': 0.001, 'est__input_shape': 5, 'est__dropout': 0.2, 'est__decay': 0, 'est__act': 'relu'}\n",
      "Selected features: ['ctr_lab1', 'rtr_lab1', 'cer_lab1', 'actq1_lab1', 'actq3_lab1']\n"
     ]
    },
    {
     "data": {
      "text/plain": [
       "['ctr_lab1', 'rtr_lab1', 'cer_lab1', 'actq1_lab1', 'actq3_lab1']"
      ]
     },
     "execution_count": 12,
     "metadata": {
      "tags": []
     },
     "output_type": "execute_result"
    }
   ],
   "source": [
    "run_process(datalab1, rand_cv)"
   ]
  },
  {
   "cell_type": "code",
   "execution_count": null,
   "metadata": {
    "colab": {
     "base_uri": "https://localhost:8080/"
    },
    "id": "ASL2K9EHAPFU",
    "outputId": "18986d37-e357-4bdc-d6af-59bf258f11a6"
   },
   "outputs": [
    {
     "name": "stdout",
     "output_type": "stream",
     "text": [
      "Fitting 5 folds for each of 10 candidates, totalling 50 fits\n",
      "Epoch 1/20\n",
      "13/13 [==============================] - 1s 868us/step - loss: 9.0473 - mse: 8.0286\n",
      "Epoch 2/20\n",
      "13/13 [==============================] - 0s 785us/step - loss: 8.1316 - mse: 7.1155\n",
      "Epoch 3/20\n",
      "13/13 [==============================] - 0s 824us/step - loss: 8.2361 - mse: 7.2220\n",
      "Epoch 4/20\n",
      "13/13 [==============================] - 0s 992us/step - loss: 7.6148 - mse: 6.6022\n",
      "Epoch 5/20\n",
      "13/13 [==============================] - 0s 869us/step - loss: 7.5014 - mse: 6.4900\n",
      "Epoch 6/20\n",
      "13/13 [==============================] - 0s 826us/step - loss: 6.9572 - mse: 5.9475\n",
      "Epoch 7/20\n",
      "13/13 [==============================] - 0s 868us/step - loss: 7.1722 - mse: 6.1644\n",
      "Epoch 8/20\n",
      "13/13 [==============================] - 0s 785us/step - loss: 7.0817 - mse: 6.0760\n",
      "Epoch 9/20\n",
      "13/13 [==============================] - 0s 909us/step - loss: 7.1535 - mse: 6.1501\n",
      "Epoch 10/20\n",
      "13/13 [==============================] - 0s 824us/step - loss: 7.4688 - mse: 6.4679\n",
      "Epoch 11/20\n",
      "13/13 [==============================] - 0s 868us/step - loss: 6.7545 - mse: 5.7563\n",
      "Epoch 12/20\n",
      "13/13 [==============================] - 0s 827us/step - loss: 7.1712 - mse: 6.1757\n",
      "Epoch 13/20\n",
      "13/13 [==============================] - 0s 951us/step - loss: 6.5437 - mse: 5.5509\n",
      "Epoch 14/20\n",
      "13/13 [==============================] - 0s 827us/step - loss: 6.4791 - mse: 5.4890\n",
      "Epoch 15/20\n",
      "13/13 [==============================] - 0s 868us/step - loss: 6.9858 - mse: 5.9985\n",
      "Epoch 16/20\n",
      "13/13 [==============================] - 0s 909us/step - loss: 6.9093 - mse: 5.9249\n",
      "Epoch 17/20\n",
      "13/13 [==============================] - 0s 827us/step - loss: 6.4152 - mse: 5.4337\n",
      "Epoch 18/20\n",
      "13/13 [==============================] - 0s 909us/step - loss: 6.7101 - mse: 5.7315\n",
      "Epoch 19/20\n",
      "13/13 [==============================] - 0s 950us/step - loss: 6.6595 - mse: 5.6837\n",
      "Epoch 20/20\n",
      "13/13 [==============================] - 0s 909us/step - loss: 7.1381 - mse: 6.1652\n",
      "R2-test-fit: -5.925605766693848\n",
      "Epoch 1/20\n",
      "9/9 [==============================] - 1s 930us/step - loss: 8.7678 - mse: 7.7522\n",
      "Epoch 2/20\n",
      "9/9 [==============================] - 0s 868us/step - loss: 8.4846 - mse: 7.4693\n",
      "Epoch 3/20\n",
      "9/9 [==============================] - 0s 863us/step - loss: 9.1912 - mse: 8.1759\n",
      "Epoch 4/20\n",
      "9/9 [==============================] - 0s 992us/step - loss: 7.6541 - mse: 6.6383\n",
      "Epoch 5/20\n",
      "9/9 [==============================] - 0s 930us/step - loss: 7.9020 - mse: 6.8857\n",
      "Epoch 6/20\n",
      "9/9 [==============================] - 0s 930us/step - loss: 6.7544 - mse: 5.7379\n",
      "Epoch 7/20\n",
      "9/9 [==============================] - 0s 930us/step - loss: 7.1895 - mse: 6.1732\n",
      "Epoch 8/20\n",
      "9/9 [==============================] - 0s 868us/step - loss: 6.8642 - mse: 5.8484\n",
      "Epoch 9/20\n",
      "9/9 [==============================] - 0s 930us/step - loss: 7.8809 - mse: 6.8659\n",
      "Epoch 10/20\n",
      "9/9 [==============================] - 0s 992us/step - loss: 6.4203 - mse: 5.4064\n",
      "Epoch 11/20\n",
      "9/9 [==============================] - 0s 992us/step - loss: 6.8517 - mse: 5.8390\n",
      "Epoch 12/20\n",
      "9/9 [==============================] - 0s 930us/step - loss: 7.3978 - mse: 6.3864\n",
      "Epoch 13/20\n",
      "9/9 [==============================] - 0s 930us/step - loss: 7.1631 - mse: 6.1531\n",
      "Epoch 14/20\n",
      "9/9 [==============================] - 0s 868us/step - loss: 6.9971 - mse: 5.9886\n",
      "Epoch 15/20\n",
      "9/9 [==============================] - 0s 930us/step - loss: 6.6783 - mse: 5.6715\n",
      "Epoch 16/20\n",
      "9/9 [==============================] - 0s 868us/step - loss: 6.5783 - mse: 5.5731\n",
      "Epoch 17/20\n",
      "9/9 [==============================] - 0s 992us/step - loss: 6.5636 - mse: 5.5601\n",
      "Epoch 18/20\n",
      "9/9 [==============================] - 0s 930us/step - loss: 7.2394 - mse: 6.2377\n",
      "Epoch 19/20\n",
      "9/9 [==============================] - 0s 930us/step - loss: 6.4881 - mse: 5.4882\n",
      "Epoch 20/20\n",
      "9/9 [==============================] - 0s 1ms/step - loss: 6.9940 - mse: 5.9958\n",
      "5/5 [==============================] - 0s 1ms/step - loss: 6.9797 - mse: 5.9830\n",
      "R2-test -6.979732036590576\n",
      "5/5 [==============================] - 0s 868us/step\n",
      "MSE-test 5.982978865412167\n",
      "Best params: {'sel__n_features_to_select': 5, 'sel__estimator__learning_rate': 0.1, 'est__output_shape': 1, 'est__nn3': 30, 'est__nn2': 10, 'est__nn1': 50, 'est__nl3': 2, 'est__nl2': 3, 'est__nl1': 0, 'est__lr': 0.01, 'est__l2': 0.003, 'est__l1': 0.003, 'est__input_shape': 5, 'est__dropout': 0, 'est__decay': 0, 'est__act': 'relu'}\n",
      "Selected features: ['rtr_lab1', 'cer_lab1', 'actq1_lab1', 'actq3_lab1', 'mean(qmsr$_lab1)']\n"
     ]
    },
    {
     "data": {
      "text/plain": [
       "['rtr_lab1', 'cer_lab1', 'actq1_lab1', 'actq3_lab1', 'mean(qmsr$_lab1)']"
      ]
     },
     "execution_count": 13,
     "metadata": {
      "tags": []
     },
     "output_type": "execute_result"
    }
   ],
   "source": [
    "run_process(datalab1, rand_cv)"
   ]
  },
  {
   "cell_type": "code",
   "execution_count": null,
   "metadata": {
    "colab": {
     "base_uri": "https://localhost:8080/"
    },
    "id": "Mfe-riIUAPKU",
    "outputId": "1958ad7b-d0af-453c-a98c-ca8b4785d3e7"
   },
   "outputs": [
    {
     "name": "stdout",
     "output_type": "stream",
     "text": [
      "Fitting 5 folds for each of 10 candidates, totalling 50 fits\n",
      "Epoch 1/20\n",
      "13/13 [==============================] - 1s 1ms/step - loss: 9.2659 - mse: 7.9594\n",
      "Epoch 2/20\n",
      "13/13 [==============================] - 0s 1ms/step - loss: 8.7121 - mse: 7.4074\n",
      "Epoch 3/20\n",
      "13/13 [==============================] - 0s 1ms/step - loss: 9.1714 - mse: 7.8686\n",
      "Epoch 4/20\n",
      "13/13 [==============================] - 0s 1ms/step - loss: 8.6660 - mse: 7.3647\n",
      "Epoch 5/20\n",
      "13/13 [==============================] - 0s 1ms/step - loss: 7.8996 - mse: 6.5998\n",
      "Epoch 6/20\n",
      "13/13 [==============================] - 0s 1ms/step - loss: 7.9327 - mse: 6.6341\n",
      "Epoch 7/20\n",
      "13/13 [==============================] - 0s 1ms/step - loss: 7.4676 - mse: 6.1703\n",
      "Epoch 8/20\n",
      "13/13 [==============================] - 0s 1ms/step - loss: 7.4870 - mse: 6.1909\n",
      "Epoch 9/20\n",
      "13/13 [==============================] - 0s 1ms/step - loss: 8.2493 - mse: 6.9546\n",
      "Epoch 10/20\n",
      "13/13 [==============================] - 0s 1ms/step - loss: 7.1754 - mse: 5.8821\n",
      "Epoch 11/20\n",
      "13/13 [==============================] - 0s 1ms/step - loss: 6.4635 - mse: 5.1716\n",
      "Epoch 12/20\n",
      "13/13 [==============================] - 0s 1ms/step - loss: 6.9477 - mse: 5.6574\n",
      "Epoch 13/20\n",
      "13/13 [==============================] - 0s 1ms/step - loss: 6.8768 - mse: 5.5881\n",
      "Epoch 14/20\n",
      "13/13 [==============================] - 0s 1ms/step - loss: 6.8976 - mse: 5.6105\n",
      "Epoch 15/20\n",
      "13/13 [==============================] - 0s 1ms/step - loss: 7.3441 - mse: 6.0587\n",
      "Epoch 16/20\n",
      "13/13 [==============================] - 0s 1ms/step - loss: 6.9175 - mse: 5.6339\n",
      "Epoch 17/20\n",
      "13/13 [==============================] - 0s 1ms/step - loss: 7.1423 - mse: 5.8604\n",
      "Epoch 18/20\n",
      "13/13 [==============================] - 0s 2ms/step - loss: 6.9443 - mse: 5.6641\n",
      "Epoch 19/20\n",
      "13/13 [==============================] - 0s 1ms/step - loss: 6.6713 - mse: 5.3929\n",
      "Epoch 20/20\n",
      "13/13 [==============================] - 0s 1ms/step - loss: 7.0466 - mse: 5.7699\n",
      "R2-test-fit: -5.916838894362114\n",
      "Epoch 1/20\n",
      "9/9 [==============================] - 1s 1ms/step - loss: 9.0154 - mse: 7.7044\n",
      "Epoch 2/20\n",
      "9/9 [==============================] - 0s 1ms/step - loss: 7.9355 - mse: 6.6255\n",
      "Epoch 3/20\n",
      "9/9 [==============================] - 0s 1ms/step - loss: 8.4464 - mse: 7.1373\n",
      "Epoch 4/20\n",
      "9/9 [==============================] - 0s 1ms/step - loss: 8.0616 - mse: 6.7534\n",
      "Epoch 5/20\n",
      "9/9 [==============================] - 0s 1ms/step - loss: 8.0281 - mse: 6.7207\n",
      "Epoch 6/20\n",
      "9/9 [==============================] - 0s 1ms/step - loss: 7.5423 - mse: 6.2355\n",
      "Epoch 7/20\n",
      "9/9 [==============================] - 0s 1ms/step - loss: 7.0974 - mse: 5.7913\n",
      "Epoch 8/20\n",
      "9/9 [==============================] - 0s 1ms/step - loss: 7.0312 - mse: 5.7258\n",
      "Epoch 9/20\n",
      "9/9 [==============================] - 0s 1ms/step - loss: 6.9307 - mse: 5.6260\n",
      "Epoch 10/20\n",
      "9/9 [==============================] - 0s 1ms/step - loss: 6.6728 - mse: 5.3689\n",
      "Epoch 11/20\n",
      "9/9 [==============================] - 0s 1ms/step - loss: 6.6063 - mse: 5.3032\n",
      "Epoch 12/20\n",
      "9/9 [==============================] - 0s 1ms/step - loss: 6.8533 - mse: 5.5510\n",
      "Epoch 13/20\n",
      "9/9 [==============================] - 0s 2ms/step - loss: 6.1775 - mse: 4.8763\n",
      "Epoch 14/20\n",
      "9/9 [==============================] - 0s 1ms/step - loss: 6.6987 - mse: 5.3985\n",
      "Epoch 15/20\n",
      "9/9 [==============================] - 0s 1ms/step - loss: 7.1079 - mse: 5.8087\n",
      "Epoch 16/20\n",
      "9/9 [==============================] - 0s 1ms/step - loss: 6.6566 - mse: 5.3584\n",
      "Epoch 17/20\n",
      "9/9 [==============================] - 0s 1ms/step - loss: 7.2553 - mse: 5.9582\n",
      "Epoch 18/20\n",
      "9/9 [==============================] - 0s 1ms/step - loss: 7.2817 - mse: 5.9857\n",
      "Epoch 19/20\n",
      "9/9 [==============================] - 0s 1ms/step - loss: 6.5085 - mse: 5.2137\n",
      "Epoch 20/20\n",
      "9/9 [==============================] - 0s 1ms/step - loss: 7.1675 - mse: 5.8739\n",
      "5/5 [==============================] - 0s 992us/step - loss: 8.5004 - mse: 7.2076\n",
      "R2-test -8.500391960144043\n",
      "5/5 [==============================] - 0s 868us/step\n",
      "MSE-test 7.207648012376789\n",
      "Best params: {'sel__n_features_to_select': 5, 'sel__estimator__learning_rate': 0.1, 'est__output_shape': 1, 'est__nn3': 30, 'est__nn2': 70, 'est__nn1': 50, 'est__nl3': 3, 'est__nl2': 3, 'est__nl1': 2, 'est__lr': 0.01, 'est__l2': 0.003, 'est__l1': 0.0001, 'est__input_shape': 5, 'est__dropout': 0.3, 'est__decay': 1e-09, 'est__act': 'relu'}\n",
      "Selected features: ['ut_lab1', 'ct_lab1', 'rt_lab1', 'actq1_lab1', 'actq3_lab1']\n"
     ]
    },
    {
     "data": {
      "text/plain": [
       "['ut_lab1', 'ct_lab1', 'rt_lab1', 'actq1_lab1', 'actq3_lab1']"
      ]
     },
     "execution_count": 14,
     "metadata": {
      "tags": []
     },
     "output_type": "execute_result"
    }
   ],
   "source": [
    "run_process(datalab1, rand_cv)"
   ]
  },
  {
   "cell_type": "code",
   "execution_count": null,
   "metadata": {
    "colab": {
     "base_uri": "https://localhost:8080/"
    },
    "id": "fwdzzCzZAPPz",
    "outputId": "db98342a-9af9-477c-e752-76fd0c37aba4"
   },
   "outputs": [
    {
     "name": "stdout",
     "output_type": "stream",
     "text": [
      "Fitting 5 folds for each of 10 candidates, totalling 50 fits\n",
      "Epoch 1/20\n",
      "13/13 [==============================] - 1s 2ms/step - loss: 8.4635 - mse: 8.0557\n",
      "Epoch 2/20\n",
      "13/13 [==============================] - 0s 1ms/step - loss: 7.5303 - mse: 7.1229\n",
      "Epoch 3/20\n",
      "13/13 [==============================] - 0s 1ms/step - loss: 7.9291 - mse: 7.5219\n",
      "Epoch 4/20\n",
      "13/13 [==============================] - 0s 1ms/step - loss: 7.0788 - mse: 6.6718\n",
      "Epoch 5/20\n",
      "13/13 [==============================] - 0s 1ms/step - loss: 7.4540 - mse: 7.0473\n",
      "Epoch 6/20\n",
      "13/13 [==============================] - 0s 1ms/step - loss: 6.6036 - mse: 6.1970\n",
      "Epoch 7/20\n",
      "13/13 [==============================] - 0s 1ms/step - loss: 6.8894 - mse: 6.4830\n",
      "Epoch 8/20\n",
      "13/13 [==============================] - 0s 1ms/step - loss: 6.4861 - mse: 6.0798\n",
      "Epoch 9/20\n",
      "13/13 [==============================] - 0s 2ms/step - loss: 6.3200 - mse: 5.9139\n",
      "Epoch 10/20\n",
      "13/13 [==============================] - 0s 1ms/step - loss: 6.5198 - mse: 6.1139\n",
      "Epoch 11/20\n",
      "13/13 [==============================] - 0s 1ms/step - loss: 5.8328 - mse: 5.4270\n",
      "Epoch 12/20\n",
      "13/13 [==============================] - 0s 1ms/step - loss: 6.1432 - mse: 5.7376\n",
      "Epoch 13/20\n",
      "13/13 [==============================] - 0s 1ms/step - loss: 6.3600 - mse: 5.9544\n",
      "Epoch 14/20\n",
      "13/13 [==============================] - 0s 1ms/step - loss: 5.9995 - mse: 5.5942\n",
      "Epoch 15/20\n",
      "13/13 [==============================] - 0s 1ms/step - loss: 6.3137 - mse: 5.9086\n",
      "Epoch 16/20\n",
      "13/13 [==============================] - 0s 1ms/step - loss: 6.6326 - mse: 6.2276\n",
      "Epoch 17/20\n",
      "13/13 [==============================] - 0s 1ms/step - loss: 6.3120 - mse: 5.9071\n",
      "Epoch 18/20\n",
      "13/13 [==============================] - 0s 1ms/step - loss: 6.3119 - mse: 5.9072\n",
      "Epoch 19/20\n",
      "13/13 [==============================] - 0s 2ms/step - loss: 6.7747 - mse: 6.3702\n",
      "Epoch 20/20\n",
      "13/13 [==============================] - 0s 2ms/step - loss: 6.3430 - mse: 5.9386\n",
      "R2-test-fit: -5.9228367533459965\n",
      "Epoch 1/20\n",
      "9/9 [==============================] - 1s 2ms/step - loss: 8.0418 - mse: 7.6323\n",
      "Epoch 2/20\n",
      "9/9 [==============================] - 0s 1ms/step - loss: 8.0055 - mse: 7.5961\n",
      "Epoch 3/20\n",
      "9/9 [==============================] - 0s 1ms/step - loss: 7.4350 - mse: 7.0256\n",
      "Epoch 4/20\n",
      "9/9 [==============================] - 0s 1ms/step - loss: 6.6883 - mse: 6.2788\n",
      "Epoch 5/20\n",
      "9/9 [==============================] - 0s 1ms/step - loss: 6.6717 - mse: 6.2621\n",
      "Epoch 6/20\n",
      "9/9 [==============================] - 0s 1ms/step - loss: 6.6060 - mse: 6.1963\n",
      "Epoch 7/20\n",
      "9/9 [==============================] - 0s 1ms/step - loss: 6.0507 - mse: 5.6408\n",
      "Epoch 8/20\n",
      "9/9 [==============================] - 0s 1ms/step - loss: 6.0515 - mse: 5.6415\n",
      "Epoch 9/20\n",
      "9/9 [==============================] - 0s 1ms/step - loss: 6.3658 - mse: 5.9557\n",
      "Epoch 10/20\n",
      "9/9 [==============================] - 0s 1ms/step - loss: 6.1902 - mse: 5.7801\n",
      "Epoch 11/20\n",
      "9/9 [==============================] - 0s 1ms/step - loss: 5.9257 - mse: 5.5155\n",
      "Epoch 12/20\n",
      "9/9 [==============================] - 0s 2ms/step - loss: 6.5644 - mse: 6.1542\n",
      "Epoch 13/20\n",
      "9/9 [==============================] - 0s 1ms/step - loss: 6.3493 - mse: 5.9392\n",
      "Epoch 14/20\n",
      "9/9 [==============================] - 0s 1ms/step - loss: 5.4790 - mse: 5.0689\n",
      "Epoch 15/20\n",
      "9/9 [==============================] - 0s 1ms/step - loss: 5.8213 - mse: 5.4113\n",
      "Epoch 16/20\n",
      "9/9 [==============================] - 0s 1ms/step - loss: 5.8741 - mse: 5.4641\n",
      "Epoch 17/20\n",
      "9/9 [==============================] - 0s 1ms/step - loss: 6.2350 - mse: 5.8251\n",
      "Epoch 18/20\n",
      "9/9 [==============================] - 0s 1ms/step - loss: 5.4797 - mse: 5.0699\n",
      "Epoch 19/20\n",
      "9/9 [==============================] - 0s 2ms/step - loss: 5.9613 - mse: 5.5516\n",
      "Epoch 20/20\n",
      "9/9 [==============================] - 0s 1ms/step - loss: 6.0078 - mse: 5.5982\n",
      "5/5 [==============================] - 0s 868us/step - loss: 6.9653 - mse: 6.5557\n",
      "R2-test -6.965287208557129\n",
      "5/5 [==============================] - 0s 868us/step\n",
      "MSE-test 6.555714213191168\n",
      "Best params: {'sel__n_features_to_select': 5, 'sel__estimator__learning_rate': 0.1, 'est__output_shape': 1, 'est__nn3': 30, 'est__nn2': 40, 'est__nn1': 100, 'est__nl3': 2, 'est__nl2': 3, 'est__nl1': 3, 'est__lr': 0.001, 'est__l2': 0.001, 'est__l1': 0, 'est__input_shape': 5, 'est__dropout': 0.2, 'est__decay': 1e-06, 'est__act': 'relu'}\n",
      "Selected features: ['rt_lab1', 'rtr_lab1', 'actq1_lab1', 'actq3_lab1', 'mean(qmsr$_lab1)']\n"
     ]
    },
    {
     "data": {
      "text/plain": [
       "['rt_lab1', 'rtr_lab1', 'actq1_lab1', 'actq3_lab1', 'mean(qmsr$_lab1)']"
      ]
     },
     "execution_count": 15,
     "metadata": {
      "tags": []
     },
     "output_type": "execute_result"
    }
   ],
   "source": [
    "run_process(datalab1, rand_cv)"
   ]
  },
  {
   "cell_type": "markdown",
   "metadata": {
    "id": "B2XwgmTOAQMx"
   },
   "source": [
    "\n",
    "\n",
    "---\n",
    "\n"
   ]
  },
  {
   "cell_type": "code",
   "execution_count": null,
   "metadata": {
    "colab": {
     "base_uri": "https://localhost:8080/"
    },
    "id": "yz9jsfuxAWjA",
    "outputId": "bc786af4-5906-4c03-c9e7-9f43920f71c9"
   },
   "outputs": [
    {
     "name": "stdout",
     "output_type": "stream",
     "text": [
      "Fitting 5 folds for each of 10 candidates, totalling 50 fits\n",
      "Epoch 1/20\n",
      "13/13 [==============================] - 1s 1ms/step - loss: 9.7164 - mse: 8.0854\n",
      "Epoch 2/20\n",
      "13/13 [==============================] - 0s 1ms/step - loss: 9.2435 - mse: 7.6148\n",
      "Epoch 3/20\n",
      "13/13 [==============================] - 0s 1ms/step - loss: 9.3458 - mse: 7.7190\n",
      "Epoch 4/20\n",
      "13/13 [==============================] - 0s 1ms/step - loss: 9.0455 - mse: 7.4203\n",
      "Epoch 5/20\n",
      "13/13 [==============================] - 0s 1ms/step - loss: 8.3047 - mse: 6.6810\n",
      "Epoch 6/20\n",
      "13/13 [==============================] - 0s 1ms/step - loss: 8.0497 - mse: 6.4274\n",
      "Epoch 7/20\n",
      "13/13 [==============================] - 0s 1ms/step - loss: 7.8085 - mse: 6.1876\n",
      "Epoch 8/20\n",
      "13/13 [==============================] - 0s 1ms/step - loss: 7.5675 - mse: 5.9479\n",
      "Epoch 9/20\n",
      "13/13 [==============================] - 0s 1ms/step - loss: 8.4962 - mse: 6.8782\n",
      "Epoch 10/20\n",
      "13/13 [==============================] - 0s 1ms/step - loss: 8.0586 - mse: 6.4420\n",
      "Epoch 11/20\n",
      "13/13 [==============================] - 0s 2ms/step - loss: 8.1578 - mse: 6.5428\n",
      "Epoch 12/20\n",
      "13/13 [==============================] - 0s 1ms/step - loss: 7.7901 - mse: 6.1767\n",
      "Epoch 13/20\n",
      "13/13 [==============================] - 0s 1ms/step - loss: 7.8730 - mse: 6.2613\n",
      "Epoch 14/20\n",
      "13/13 [==============================] - 0s 1ms/step - loss: 7.2361 - mse: 5.6260\n",
      "Epoch 15/20\n",
      "13/13 [==============================] - 0s 1ms/step - loss: 7.7814 - mse: 6.1729\n",
      "Epoch 16/20\n",
      "13/13 [==============================] - 0s 1ms/step - loss: 7.1347 - mse: 5.5280\n",
      "Epoch 17/20\n",
      "13/13 [==============================] - 0s 1ms/step - loss: 7.6571 - mse: 6.0520\n",
      "Epoch 18/20\n",
      "13/13 [==============================] - 0s 1ms/step - loss: 7.5142 - mse: 5.9109\n",
      "Epoch 19/20\n",
      "13/13 [==============================] - 0s 1ms/step - loss: 7.7917 - mse: 6.1901\n",
      "Epoch 20/20\n",
      "13/13 [==============================] - 0s 1ms/step - loss: 8.2592 - mse: 6.6594\n",
      "R2-test-fit: -5.912453406891068\n",
      "Epoch 1/20\n",
      "9/9 [==============================] - 1s 1ms/step - loss: 10.0906 - mse: 8.4714\n",
      "Epoch 2/20\n",
      "9/9 [==============================] - 0s 1ms/step - loss: 9.1559 - mse: 7.5381\n",
      "Epoch 3/20\n",
      "9/9 [==============================] - 0s 1ms/step - loss: 8.6473 - mse: 7.0308\n",
      "Epoch 4/20\n",
      "9/9 [==============================] - 0s 1ms/step - loss: 8.4470 - mse: 6.8315\n",
      "Epoch 5/20\n",
      "9/9 [==============================] - 0s 1ms/step - loss: 8.9752 - mse: 7.3607\n",
      "Epoch 6/20\n",
      "9/9 [==============================] - 0s 1ms/step - loss: 8.9031 - mse: 7.2894\n",
      "Epoch 7/20\n",
      "9/9 [==============================] - 0s 1ms/step - loss: 8.4603 - mse: 6.8474\n",
      "Epoch 8/20\n",
      "9/9 [==============================] - 0s 1ms/step - loss: 7.7803 - mse: 6.1682\n",
      "Epoch 9/20\n",
      "9/9 [==============================] - 0s 1ms/step - loss: 8.3174 - mse: 6.7061\n",
      "Epoch 10/20\n",
      "9/9 [==============================] - 0s 1ms/step - loss: 7.5751 - mse: 5.9647\n",
      "Epoch 11/20\n",
      "9/9 [==============================] - 0s 1ms/step - loss: 7.6342 - mse: 6.0248\n",
      "Epoch 12/20\n",
      "9/9 [==============================] - 0s 1ms/step - loss: 7.5374 - mse: 5.9289\n",
      "Epoch 13/20\n",
      "9/9 [==============================] - 0s 1ms/step - loss: 7.6340 - mse: 6.0265\n",
      "Epoch 14/20\n",
      "9/9 [==============================] - 0s 1ms/step - loss: 7.8175 - mse: 6.2111\n",
      "Epoch 15/20\n",
      "9/9 [==============================] - 0s 1ms/step - loss: 7.8851 - mse: 6.2798\n",
      "Epoch 16/20\n",
      "9/9 [==============================] - 0s 1ms/step - loss: 7.9948 - mse: 6.3905\n",
      "Epoch 17/20\n",
      "9/9 [==============================] - 0s 1ms/step - loss: 8.1029 - mse: 6.4997\n",
      "Epoch 18/20\n",
      "9/9 [==============================] - 0s 1ms/step - loss: 7.7609 - mse: 6.1588\n",
      "Epoch 19/20\n",
      "9/9 [==============================] - 0s 1ms/step - loss: 7.3803 - mse: 5.7793\n",
      "Epoch 20/20\n",
      "9/9 [==============================] - 0s 1ms/step - loss: 7.9841 - mse: 6.3842\n",
      "5/5 [==============================] - 0s 992us/step - loss: 7.4460 - mse: 5.8470\n",
      "R2-test -7.445986270904541\n",
      "5/5 [==============================] - 0s 868us/step\n",
      "MSE-test 5.847026207373182\n",
      "Best params: {'sel__n_features_to_select': 5, 'sel__estimator__learning_rate': 0.2, 'est__output_shape': 1, 'est__nn3': 30, 'est__nn2': 70, 'est__nn1': 100, 'est__nl3': 3, 'est__nl2': 3, 'est__nl1': 0, 'est__lr': 0.01, 'est__l2': 0.0001, 'est__l1': 0.001, 'est__input_shape': 5, 'est__dropout': 0.3, 'est__decay': 1e-06, 'est__act': 'relu'}\n",
      "Selected features: ['ut_lab2', 'actq1_lab2', 'actq3_lab2', 'mean(qact$_lab2)', 'avgtime_lab2']\n"
     ]
    },
    {
     "data": {
      "text/plain": [
       "['ut_lab2', 'actq1_lab2', 'actq3_lab2', 'mean(qact$_lab2)', 'avgtime_lab2']"
      ]
     },
     "execution_count": 16,
     "metadata": {
      "tags": []
     },
     "output_type": "execute_result"
    }
   ],
   "source": [
    "run_process(datalab2, rand_cv)"
   ]
  },
  {
   "cell_type": "code",
   "execution_count": null,
   "metadata": {
    "colab": {
     "base_uri": "https://localhost:8080/"
    },
    "id": "kY9AtQnBAbgm",
    "outputId": "c1c83cd7-4618-4ee9-81d9-2c6dbf861555"
   },
   "outputs": [
    {
     "name": "stdout",
     "output_type": "stream",
     "text": [
      "Fitting 5 folds for each of 10 candidates, totalling 50 fits\n",
      "Epoch 1/20\n",
      "13/13 [==============================] - 1s 1ms/step - loss: 8.6815 - mse: 7.8491\n",
      "Epoch 2/20\n",
      "13/13 [==============================] - 0s 1ms/step - loss: 8.5542 - mse: 7.7229\n",
      "Epoch 3/20\n",
      "13/13 [==============================] - 0s 1ms/step - loss: 8.3731 - mse: 7.5427\n",
      "Epoch 4/20\n",
      "13/13 [==============================] - 0s 1ms/step - loss: 8.5360 - mse: 7.7062\n",
      "Epoch 5/20\n",
      "13/13 [==============================] - 0s 1ms/step - loss: 7.7001 - mse: 6.8709\n",
      "Epoch 6/20\n",
      "13/13 [==============================] - 0s 1ms/step - loss: 7.2462 - mse: 6.4173\n",
      "Epoch 7/20\n",
      "13/13 [==============================] - 0s 1ms/step - loss: 7.7133 - mse: 6.8848\n",
      "Epoch 8/20\n",
      "13/13 [==============================] - 0s 1ms/step - loss: 7.1896 - mse: 6.3617\n",
      "Epoch 9/20\n",
      "13/13 [==============================] - 0s 1ms/step - loss: 6.5777 - mse: 5.7504\n",
      "Epoch 10/20\n",
      "13/13 [==============================] - 0s 1ms/step - loss: 6.8789 - mse: 6.0523\n",
      "Epoch 11/20\n",
      "13/13 [==============================] - 0s 1ms/step - loss: 6.5356 - mse: 5.7099\n",
      "Epoch 12/20\n",
      "13/13 [==============================] - 0s 1ms/step - loss: 6.6556 - mse: 5.8307\n",
      "Epoch 13/20\n",
      "13/13 [==============================] - 0s 1ms/step - loss: 7.1052 - mse: 6.2812\n",
      "Epoch 14/20\n",
      "13/13 [==============================] - 0s 1ms/step - loss: 6.8504 - mse: 6.0274\n",
      "Epoch 15/20\n",
      "13/13 [==============================] - 0s 1ms/step - loss: 7.0085 - mse: 6.1863\n",
      "Epoch 16/20\n",
      "13/13 [==============================] - 0s 1ms/step - loss: 6.7128 - mse: 5.8917\n",
      "Epoch 17/20\n",
      "13/13 [==============================] - 0s 1ms/step - loss: 7.2856 - mse: 6.4655\n",
      "Epoch 18/20\n",
      "13/13 [==============================] - 0s 1ms/step - loss: 6.8078 - mse: 5.9887\n",
      "Epoch 19/20\n",
      "13/13 [==============================] - 0s 1ms/step - loss: 6.8991 - mse: 6.0810\n",
      "Epoch 20/20\n",
      "13/13 [==============================] - 0s 1ms/step - loss: 6.8064 - mse: 5.9893\n",
      "R2-test-fit: -5.917384506622694\n",
      "Epoch 1/20\n",
      "9/9 [==============================] - 1s 1ms/step - loss: 8.1240 - mse: 7.2929\n",
      "Epoch 2/20\n",
      "9/9 [==============================] - 0s 1ms/step - loss: 8.1354 - mse: 7.3050\n",
      "Epoch 3/20\n",
      "9/9 [==============================] - 0s 992us/step - loss: 6.8424 - mse: 6.0125\n",
      "Epoch 4/20\n",
      "9/9 [==============================] - 0s 930us/step - loss: 7.8003 - mse: 6.9709\n",
      "Epoch 5/20\n",
      "9/9 [==============================] - 0s 930us/step - loss: 7.1435 - mse: 6.3144\n",
      "Epoch 6/20\n",
      "9/9 [==============================] - 0s 992us/step - loss: 7.1569 - mse: 6.3281\n",
      "Epoch 7/20\n",
      "9/9 [==============================] - 0s 1ms/step - loss: 6.4030 - mse: 5.5744\n",
      "Epoch 8/20\n",
      "9/9 [==============================] - 0s 1ms/step - loss: 6.7866 - mse: 5.9583\n",
      "Epoch 9/20\n",
      "9/9 [==============================] - 0s 1ms/step - loss: 7.0996 - mse: 6.2715\n",
      "Epoch 10/20\n",
      "9/9 [==============================] - 0s 992us/step - loss: 7.0958 - mse: 6.2681\n",
      "Epoch 11/20\n",
      "9/9 [==============================] - 0s 1ms/step - loss: 6.7795 - mse: 5.9522\n",
      "Epoch 12/20\n",
      "9/9 [==============================] - 0s 992us/step - loss: 6.2890 - mse: 5.4621\n",
      "Epoch 13/20\n",
      "9/9 [==============================] - 0s 1ms/step - loss: 6.3147 - mse: 5.4883\n",
      "Epoch 14/20\n",
      "9/9 [==============================] - 0s 1ms/step - loss: 6.4767 - mse: 5.6509\n",
      "Epoch 15/20\n",
      "9/9 [==============================] - 0s 992us/step - loss: 6.4096 - mse: 5.5844\n",
      "Epoch 16/20\n",
      "9/9 [==============================] - 0s 1ms/step - loss: 7.1031 - mse: 6.2785\n",
      "Epoch 17/20\n",
      "9/9 [==============================] - 0s 1ms/step - loss: 6.8897 - mse: 6.0656\n",
      "Epoch 18/20\n",
      "9/9 [==============================] - 0s 1ms/step - loss: 6.8916 - mse: 6.0682\n",
      "Epoch 19/20\n",
      "9/9 [==============================] - 0s 992us/step - loss: 6.0928 - mse: 5.2701\n",
      "Epoch 20/20\n",
      "9/9 [==============================] - 0s 1ms/step - loss: 6.6590 - mse: 5.8369\n",
      "5/5 [==============================] - 0s 992us/step - loss: 7.6974 - mse: 6.8759\n",
      "R2-test -7.697447776794434\n",
      "5/5 [==============================] - 0s 868us/step\n",
      "MSE-test 6.875908767372708\n",
      "Best params: {'sel__n_features_to_select': 5, 'sel__estimator__learning_rate': 0.2, 'est__output_shape': 1, 'est__nn3': 5, 'est__nn2': 40, 'est__nn1': 50, 'est__nl3': 2, 'est__nl2': 0, 'est__nl1': 3, 'est__lr': 0.001, 'est__l2': 0.001, 'est__l1': 0.001, 'est__input_shape': 5, 'est__dropout': 0.1, 'est__decay': 1e-09, 'est__act': 'relu'}\n",
      "Selected features: ['ut_lab2', 'ctr_lab2', 'actq1_lab2', 'actq3_lab2', 'mean(qmsr$_lab2)']\n"
     ]
    },
    {
     "data": {
      "text/plain": [
       "['ut_lab2', 'ctr_lab2', 'actq1_lab2', 'actq3_lab2', 'mean(qmsr$_lab2)']"
      ]
     },
     "execution_count": 17,
     "metadata": {
      "tags": []
     },
     "output_type": "execute_result"
    }
   ],
   "source": [
    "run_process(datalab2, rand_cv)"
   ]
  },
  {
   "cell_type": "code",
   "execution_count": null,
   "metadata": {
    "colab": {
     "base_uri": "https://localhost:8080/"
    },
    "id": "CNVD32TnAbpc",
    "outputId": "3640306d-7fb5-4b54-c16d-217e7ac24b92"
   },
   "outputs": [
    {
     "name": "stdout",
     "output_type": "stream",
     "text": [
      "Fitting 5 folds for each of 10 candidates, totalling 50 fits\n",
      "Epoch 1/20\n",
      "13/13 [==============================] - 1s 1ms/step - loss: 13.0324 - mse: 7.9289\n",
      "Epoch 2/20\n",
      "13/13 [==============================] - 0s 1ms/step - loss: 12.2713 - mse: 7.1871\n",
      "Epoch 3/20\n",
      "13/13 [==============================] - 0s 1ms/step - loss: 11.7341 - mse: 6.6692\n",
      "Epoch 4/20\n",
      "13/13 [==============================] - 0s 1ms/step - loss: 12.3579 - mse: 7.3120\n",
      "Epoch 5/20\n",
      "13/13 [==============================] - 0s 1ms/step - loss: 11.1865 - mse: 6.1597\n",
      "Epoch 6/20\n",
      "13/13 [==============================] - 0s 1ms/step - loss: 11.9154 - mse: 6.9076\n",
      "Epoch 7/20\n",
      "13/13 [==============================] - 0s 1ms/step - loss: 11.3946 - mse: 6.4057\n",
      "Epoch 8/20\n",
      "13/13 [==============================] - 0s 1ms/step - loss: 11.1967 - mse: 6.2267\n",
      "Epoch 9/20\n",
      "13/13 [==============================] - 0s 1ms/step - loss: 11.8205 - mse: 6.8693\n",
      "Epoch 10/20\n",
      "13/13 [==============================] - 0s 1ms/step - loss: 11.5128 - mse: 6.5804\n",
      "Epoch 11/20\n",
      "13/13 [==============================] - 0s 1ms/step - loss: 10.8713 - mse: 5.9576\n",
      "Epoch 12/20\n",
      "13/13 [==============================] - 0s 1ms/step - loss: 10.9752 - mse: 6.0802\n",
      "Epoch 13/20\n",
      "13/13 [==============================] - 0s 1ms/step - loss: 10.4395 - mse: 5.5631\n",
      "Epoch 14/20\n",
      "13/13 [==============================] - 0s 1ms/step - loss: 11.6588 - mse: 6.8011\n",
      "Epoch 15/20\n",
      "13/13 [==============================] - 0s 1ms/step - loss: 10.8316 - mse: 5.9924\n",
      "Epoch 16/20\n",
      "13/13 [==============================] - 0s 1ms/step - loss: 10.8737 - mse: 6.0531\n",
      "Epoch 17/20\n",
      "13/13 [==============================] - 0s 1ms/step - loss: 10.8125 - mse: 6.0104\n",
      "Epoch 18/20\n",
      "13/13 [==============================] - 0s 1ms/step - loss: 11.8343 - mse: 7.0506\n",
      "Epoch 19/20\n",
      "13/13 [==============================] - 0s 1ms/step - loss: 10.4184 - mse: 5.6532\n",
      "Epoch 20/20\n",
      "13/13 [==============================] - 0s 1ms/step - loss: 10.8526 - mse: 6.1058\n",
      "R2-test-fit: -5.93834031128469\n",
      "Epoch 1/20\n",
      "9/9 [==============================] - 1s 1ms/step - loss: 13.2947 - mse: 8.1932\n",
      "Epoch 2/20\n",
      "9/9 [==============================] - 0s 2ms/step - loss: 13.1074 - mse: 8.0198\n",
      "Epoch 3/20\n",
      "9/9 [==============================] - 0s 1ms/step - loss: 13.4479 - mse: 8.3736\n",
      "Epoch 4/20\n",
      "9/9 [==============================] - 0s 1ms/step - loss: 12.8625 - mse: 7.8016\n",
      "Epoch 5/20\n",
      "9/9 [==============================] - 0s 1ms/step - loss: 12.8184 - mse: 7.7707\n",
      "Epoch 6/20\n",
      "9/9 [==============================] - 0s 1ms/step - loss: 13.0800 - mse: 8.0456\n",
      "Epoch 7/20\n",
      "9/9 [==============================] - 0s 1ms/step - loss: 12.7246 - mse: 7.7032\n",
      "Epoch 8/20\n",
      "9/9 [==============================] - 0s 1ms/step - loss: 12.0914 - mse: 7.0831\n",
      "Epoch 9/20\n",
      "9/9 [==============================] - 0s 1ms/step - loss: 12.8084 - mse: 7.8132\n",
      "Epoch 10/20\n",
      "9/9 [==============================] - 0s 1ms/step - loss: 11.6514 - mse: 6.6691\n",
      "Epoch 11/20\n",
      "9/9 [==============================] - 0s 1ms/step - loss: 12.1678 - mse: 7.1984\n",
      "Epoch 12/20\n",
      "9/9 [==============================] - 0s 1ms/step - loss: 11.6346 - mse: 6.6782\n",
      "Epoch 13/20\n",
      "9/9 [==============================] - 0s 1ms/step - loss: 11.9980 - mse: 7.0546\n",
      "Epoch 14/20\n",
      "9/9 [==============================] - 0s 1ms/step - loss: 11.5108 - mse: 6.5803\n",
      "Epoch 15/20\n",
      "9/9 [==============================] - 0s 1ms/step - loss: 10.9272 - mse: 6.0095\n",
      "Epoch 16/20\n",
      "9/9 [==============================] - 0s 1ms/step - loss: 12.1165 - mse: 7.2116\n",
      "Epoch 17/20\n",
      "9/9 [==============================] - 0s 1ms/step - loss: 11.4225 - mse: 6.5304\n",
      "Epoch 18/20\n",
      "9/9 [==============================] - 0s 2ms/step - loss: 11.6898 - mse: 6.8105\n",
      "Epoch 19/20\n",
      "9/9 [==============================] - 0s 1ms/step - loss: 11.2075 - mse: 6.3410\n",
      "Epoch 20/20\n",
      "9/9 [==============================] - 0s 1ms/step - loss: 10.5095 - mse: 5.6556\n",
      "5/5 [==============================] - 0s 1ms/step - loss: 10.4498 - mse: 5.6056\n",
      "R2-test -10.449772834777832\n",
      "5/5 [==============================] - 0s 992us/step\n",
      "MSE-test 5.605559808154102\n",
      "Best params: {'sel__n_features_to_select': 5, 'sel__estimator__learning_rate': 0.2, 'est__output_shape': 1, 'est__nn3': 5, 'est__nn2': 70, 'est__nn1': 50, 'est__nl3': 3, 'est__nl2': 2, 'est__nl1': 3, 'est__lr': 0.001, 'est__l2': 0.001, 'est__l1': 0.003, 'est__input_shape': 5, 'est__dropout': 0.2, 'est__decay': 0, 'est__act': 'relu'}\n",
      "Selected features: ['act_lab2', 'actq1_lab2', 'actq3_lab2', 'mean(qavt$_lab2)', 'avgtime_lab2']\n"
     ]
    },
    {
     "data": {
      "text/plain": [
       "['act_lab2', 'actq1_lab2', 'actq3_lab2', 'mean(qavt$_lab2)', 'avgtime_lab2']"
      ]
     },
     "execution_count": 18,
     "metadata": {
      "tags": []
     },
     "output_type": "execute_result"
    }
   ],
   "source": [
    "run_process(datalab2, rand_cv)"
   ]
  },
  {
   "cell_type": "code",
   "execution_count": null,
   "metadata": {
    "colab": {
     "base_uri": "https://localhost:8080/"
    },
    "id": "1ksayh3wAbz3",
    "outputId": "97eb92c5-6fbd-4cd3-b7ed-072e028489ce"
   },
   "outputs": [
    {
     "name": "stdout",
     "output_type": "stream",
     "text": [
      "Fitting 5 folds for each of 10 candidates, totalling 50 fits\n",
      "Epoch 1/20\n",
      "13/13 [==============================] - 1s 1ms/step - loss: 9.6900 - mse: 7.7917\n",
      "Epoch 2/20\n",
      "13/13 [==============================] - 0s 1ms/step - loss: 10.0924 - mse: 8.1979\n",
      "Epoch 3/20\n",
      "13/13 [==============================] - 0s 2ms/step - loss: 8.1642 - mse: 6.2734\n",
      "Epoch 4/20\n",
      "13/13 [==============================] - 0s 1ms/step - loss: 8.8785 - mse: 6.9913\n",
      "Epoch 5/20\n",
      "13/13 [==============================] - 0s 1ms/step - loss: 8.5492 - mse: 6.6655\n",
      "Epoch 6/20\n",
      "13/13 [==============================] - 0s 1ms/step - loss: 7.1966 - mse: 5.3164\n",
      "Epoch 7/20\n",
      "13/13 [==============================] - 0s 1ms/step - loss: 7.8801 - mse: 6.0033\n",
      "Epoch 8/20\n",
      "13/13 [==============================] - 0s 1ms/step - loss: 8.4710 - mse: 6.5977\n",
      "Epoch 9/20\n",
      "13/13 [==============================] - 0s 1ms/step - loss: 7.7209 - mse: 5.8511\n",
      "Epoch 10/20\n",
      "13/13 [==============================] - 0s 1ms/step - loss: 8.2796 - mse: 6.4134\n",
      "Epoch 11/20\n",
      "13/13 [==============================] - 0s 1ms/step - loss: 7.5061 - mse: 5.6435\n",
      "Epoch 12/20\n",
      "13/13 [==============================] - 0s 1ms/step - loss: 8.2633 - mse: 6.4043\n",
      "Epoch 13/20\n",
      "13/13 [==============================] - 0s 1ms/step - loss: 8.1933 - mse: 6.3379\n",
      "Epoch 14/20\n",
      "13/13 [==============================] - 0s 1ms/step - loss: 7.8540 - mse: 6.0024\n",
      "Epoch 15/20\n",
      "13/13 [==============================] - 0s 1ms/step - loss: 7.7807 - mse: 5.9328\n",
      "Epoch 16/20\n",
      "13/13 [==============================] - 0s 1ms/step - loss: 7.5917 - mse: 5.7475\n",
      "Epoch 17/20\n",
      "13/13 [==============================] - 0s 1ms/step - loss: 7.7461 - mse: 5.9057\n",
      "Epoch 18/20\n",
      "13/13 [==============================] - 0s 1ms/step - loss: 7.1716 - mse: 5.3350\n",
      "Epoch 19/20\n",
      "13/13 [==============================] - 0s 1ms/step - loss: 7.8482 - mse: 6.0153\n",
      "Epoch 20/20\n",
      "13/13 [==============================] - 0s 1ms/step - loss: 7.2885 - mse: 5.4593\n",
      "R2-test-fit: -5.9231076530314555\n",
      "Epoch 1/20\n",
      "9/9 [==============================] - 1s 1ms/step - loss: 9.8523 - mse: 7.9563\n",
      "Epoch 2/20\n",
      "9/9 [==============================] - 0s 1ms/step - loss: 9.3805 - mse: 7.4873\n",
      "Epoch 3/20\n",
      "9/9 [==============================] - 0s 1ms/step - loss: 10.0933 - mse: 8.2028\n",
      "Epoch 4/20\n",
      "9/9 [==============================] - 0s 1ms/step - loss: 9.9665 - mse: 8.0787\n",
      "Epoch 5/20\n",
      "9/9 [==============================] - 0s 1ms/step - loss: 9.0673 - mse: 7.1820\n",
      "Epoch 6/20\n",
      "9/9 [==============================] - 0s 1ms/step - loss: 9.3178 - mse: 7.4350\n",
      "Epoch 7/20\n",
      "9/9 [==============================] - 0s 1ms/step - loss: 8.5967 - mse: 6.7164\n",
      "Epoch 8/20\n",
      "9/9 [==============================] - 0s 1ms/step - loss: 8.3889 - mse: 6.5111\n",
      "Epoch 9/20\n",
      "9/9 [==============================] - 0s 1ms/step - loss: 8.7505 - mse: 6.8751\n",
      "Epoch 10/20\n",
      "9/9 [==============================] - 0s 1ms/step - loss: 8.9526 - mse: 7.0796\n",
      "Epoch 11/20\n",
      "9/9 [==============================] - 0s 1ms/step - loss: 9.2017 - mse: 7.3311\n",
      "Epoch 12/20\n",
      "9/9 [==============================] - 0s 1ms/step - loss: 7.4499 - mse: 5.5817\n",
      "Epoch 13/20\n",
      "9/9 [==============================] - 0s 1ms/step - loss: 8.1186 - mse: 6.2529\n",
      "Epoch 14/20\n",
      "9/9 [==============================] - 0s 1ms/step - loss: 8.1833 - mse: 6.3200\n",
      "Epoch 15/20\n",
      "9/9 [==============================] - 0s 1ms/step - loss: 8.3919 - mse: 6.5311\n",
      "Epoch 16/20\n",
      "9/9 [==============================] - 0s 1ms/step - loss: 8.8616 - mse: 7.0033\n",
      "Epoch 17/20\n",
      "9/9 [==============================] - 0s 1ms/step - loss: 8.2206 - mse: 6.3648\n",
      "Epoch 18/20\n",
      "9/9 [==============================] - 0s 2ms/step - loss: 8.8340 - mse: 6.9807\n",
      "Epoch 19/20\n",
      "9/9 [==============================] - 0s 1ms/step - loss: 8.5260 - mse: 6.6752\n",
      "Epoch 20/20\n",
      "9/9 [==============================] - 0s 1ms/step - loss: 7.5858 - mse: 5.7375\n",
      "5/5 [==============================] - 0s 1ms/step - loss: 7.3504 - mse: 5.5040\n",
      "R2-test -7.350379467010498\n",
      "5/5 [==============================] - 0s 867us/step\n",
      "MSE-test 5.503988235865399\n",
      "Best params: {'sel__n_features_to_select': 5, 'sel__estimator__learning_rate': 0.05, 'est__output_shape': 1, 'est__nn3': 30, 'est__nn2': 10, 'est__nn1': 20, 'est__nl3': 3, 'est__nl2': 3, 'est__nl1': 3, 'est__lr': 0.001, 'est__l2': 0.0001, 'est__l1': 0.003, 'est__input_shape': 5, 'est__dropout': 0.2, 'est__decay': 1e-09, 'est__act': 'relu'}\n",
      "Selected features: ['actq1_lab2', 'actq3_lab2', 'mean(qact$_lab2)', 'max(qme$_lab2)', 'avgtime_lab2']\n"
     ]
    },
    {
     "data": {
      "text/plain": [
       "['actq1_lab2',\n",
       " 'actq3_lab2',\n",
       " 'mean(qact$_lab2)',\n",
       " 'max(qme$_lab2)',\n",
       " 'avgtime_lab2']"
      ]
     },
     "execution_count": 19,
     "metadata": {
      "tags": []
     },
     "output_type": "execute_result"
    }
   ],
   "source": [
    "run_process(datalab2, rand_cv)"
   ]
  },
  {
   "cell_type": "code",
   "execution_count": null,
   "metadata": {
    "colab": {
     "base_uri": "https://localhost:8080/"
    },
    "id": "nXg7-eP4Ab8h",
    "outputId": "1c633e10-e666-42fa-a728-4ce4bfb58e25"
   },
   "outputs": [
    {
     "name": "stdout",
     "output_type": "stream",
     "text": [
      "Fitting 5 folds for each of 10 candidates, totalling 50 fits\n",
      "Epoch 1/20\n",
      "13/13 [==============================] - 1s 1ms/step - loss: 11.6526 - mse: 8.2571\n",
      "Epoch 2/20\n",
      "13/13 [==============================] - 0s 1ms/step - loss: 11.4081 - mse: 8.0369\n",
      "Epoch 3/20\n",
      "13/13 [==============================] - 0s 1ms/step - loss: 10.1666 - mse: 6.8189\n",
      "Epoch 4/20\n",
      "13/13 [==============================] - 0s 992us/step - loss: 10.1835 - mse: 6.8577\n",
      "Epoch 5/20\n",
      "13/13 [==============================] - 0s 1ms/step - loss: 10.0776 - mse: 6.7731\n",
      "Epoch 6/20\n",
      "13/13 [==============================] - 0s 1ms/step - loss: 9.9152 - mse: 6.6316\n",
      "Epoch 7/20\n",
      "13/13 [==============================] - 0s 1ms/step - loss: 10.1441 - mse: 6.8815\n",
      "Epoch 8/20\n",
      "13/13 [==============================] - 0s 1ms/step - loss: 9.2364 - mse: 5.9950\n",
      "Epoch 9/20\n",
      "13/13 [==============================] - 0s 992us/step - loss: 9.5996 - mse: 6.3797\n",
      "Epoch 10/20\n",
      "13/13 [==============================] - 0s 951us/step - loss: 9.8825 - mse: 6.6843\n",
      "Epoch 11/20\n",
      "13/13 [==============================] - 0s 1ms/step - loss: 9.0336 - mse: 5.8573\n",
      "Epoch 12/20\n",
      "13/13 [==============================] - 0s 1ms/step - loss: 9.0227 - mse: 5.8684\n",
      "Epoch 13/20\n",
      "13/13 [==============================] - 0s 992us/step - loss: 9.3959 - mse: 6.2638\n",
      "Epoch 14/20\n",
      "13/13 [==============================] - 0s 1ms/step - loss: 8.3743 - mse: 5.2643\n",
      "Epoch 15/20\n",
      "13/13 [==============================] - 0s 992us/step - loss: 8.7053 - mse: 5.6174\n",
      "Epoch 16/20\n",
      "13/13 [==============================] - 0s 1ms/step - loss: 9.4491 - mse: 6.3833\n",
      "Epoch 17/20\n",
      "13/13 [==============================] - 0s 992us/step - loss: 8.7149 - mse: 5.6710\n",
      "Epoch 18/20\n",
      "13/13 [==============================] - 0s 951us/step - loss: 9.1995 - mse: 6.1777\n",
      "Epoch 19/20\n",
      "13/13 [==============================] - 0s 1ms/step - loss: 9.1044 - mse: 6.1046\n",
      "Epoch 20/20\n",
      "13/13 [==============================] - 0s 1ms/step - loss: 8.8536 - mse: 5.8758\n",
      "R2-test-fit: -5.9332081344107435\n",
      "Epoch 1/20\n",
      "9/9 [==============================] - 1s 1ms/step - loss: 11.7582 - mse: 8.3132\n",
      "Epoch 2/20\n",
      "9/9 [==============================] - 0s 992us/step - loss: 10.6416 - mse: 7.2092\n",
      "Epoch 3/20\n",
      "9/9 [==============================] - 0s 992us/step - loss: 10.4835 - mse: 7.0635\n",
      "Epoch 4/20\n",
      "9/9 [==============================] - 0s 992us/step - loss: 10.7327 - mse: 7.3254\n",
      "Epoch 5/20\n",
      "9/9 [==============================] - 0s 992us/step - loss: 10.7662 - mse: 7.3723\n",
      "Epoch 6/20\n",
      "9/9 [==============================] - 0s 992us/step - loss: 10.1589 - mse: 6.7793\n",
      "Epoch 7/20\n",
      "9/9 [==============================] - 0s 994us/step - loss: 9.6210 - mse: 6.2559\n",
      "Epoch 8/20\n",
      "9/9 [==============================] - 0s 1ms/step - loss: 10.1046 - mse: 6.7544\n",
      "Epoch 9/20\n",
      "9/9 [==============================] - 0s 1ms/step - loss: 9.9215 - mse: 6.5865\n",
      "Epoch 10/20\n",
      "9/9 [==============================] - 0s 992us/step - loss: 9.8841 - mse: 6.5644\n",
      "Epoch 11/20\n",
      "9/9 [==============================] - 0s 1ms/step - loss: 9.3173 - mse: 6.0133\n",
      "Epoch 12/20\n",
      "9/9 [==============================] - 0s 2ms/step - loss: 9.9835 - mse: 6.6949\n",
      "Epoch 13/20\n",
      "9/9 [==============================] - 0s 1ms/step - loss: 10.1187 - mse: 6.8455\n",
      "Epoch 14/20\n",
      "9/9 [==============================] - 0s 1ms/step - loss: 10.1195 - mse: 6.8617\n",
      "Epoch 15/20\n",
      "9/9 [==============================] - 0s 4ms/step - loss: 9.2803 - mse: 6.0383\n",
      "Epoch 16/20\n",
      "9/9 [==============================] - 0s 2ms/step - loss: 9.7257 - mse: 6.4994\n",
      "Epoch 17/20\n",
      "9/9 [==============================] - 0s 2ms/step - loss: 10.2433 - mse: 7.0326\n",
      "Epoch 18/20\n",
      "9/9 [==============================] - 0s 1ms/step - loss: 9.5377 - mse: 6.3427\n",
      "Epoch 19/20\n",
      "9/9 [==============================] - 0s 1ms/step - loss: 9.4768 - mse: 6.2976\n",
      "Epoch 20/20\n",
      "9/9 [==============================] - 0s 1ms/step - loss: 10.3744 - mse: 7.2109\n",
      "5/5 [==============================] - 0s 992us/step - loss: 8.1212 - mse: 4.9698\n",
      "R2-test -8.12122917175293\n",
      "5/5 [==============================] - 0s 868us/step\n",
      "MSE-test 4.969773375214392\n",
      "Best params: {'sel__n_features_to_select': 5, 'sel__estimator__learning_rate': 0.1, 'est__output_shape': 1, 'est__nn3': 15, 'est__nn2': 70, 'est__nn1': 20, 'est__nl3': 2, 'est__nl2': 2, 'est__nl1': 0, 'est__lr': 0.001, 'est__l2': 0.01, 'est__l1': 0.003, 'est__input_shape': 5, 'est__dropout': 0.2, 'est__decay': 0, 'est__act': 'relu'}\n",
      "Selected features: ['ut_lab2', 'rtr_lab2', 'actq1_lab2', 'actq3_lab2', 'mean(qavt$_lab2)']\n"
     ]
    },
    {
     "data": {
      "text/plain": [
       "['ut_lab2', 'rtr_lab2', 'actq1_lab2', 'actq3_lab2', 'mean(qavt$_lab2)']"
      ]
     },
     "execution_count": 20,
     "metadata": {
      "tags": []
     },
     "output_type": "execute_result"
    }
   ],
   "source": [
    "run_process(datalab2, rand_cv)"
   ]
  },
  {
   "cell_type": "code",
   "execution_count": null,
   "metadata": {
    "colab": {
     "base_uri": "https://localhost:8080/"
    },
    "id": "vmzH7S9iAcC5",
    "outputId": "616f227b-1ae8-43e9-fdd6-f3c82d743e3b"
   },
   "outputs": [
    {
     "name": "stdout",
     "output_type": "stream",
     "text": [
      "Fitting 5 folds for each of 10 candidates, totalling 50 fits\n",
      "Epoch 1/20\n",
      "13/13 [==============================] - 0s 909us/step - loss: 8.0135 - mse: 8.0135\n",
      "Epoch 2/20\n",
      "13/13 [==============================] - 0s 868us/step - loss: 7.4412 - mse: 7.4412\n",
      "Epoch 3/20\n",
      "13/13 [==============================] - 0s 868us/step - loss: 6.4651 - mse: 6.4651\n",
      "Epoch 4/20\n",
      "13/13 [==============================] - 0s 827us/step - loss: 5.9376 - mse: 5.9376\n",
      "Epoch 5/20\n",
      "13/13 [==============================] - 0s 868us/step - loss: 6.1402 - mse: 6.1402\n",
      "Epoch 6/20\n",
      "13/13 [==============================] - 0s 951us/step - loss: 6.3928 - mse: 6.3928\n",
      "Epoch 7/20\n",
      "13/13 [==============================] - 0s 909us/step - loss: 5.9053 - mse: 5.9053\n",
      "Epoch 8/20\n",
      "13/13 [==============================] - 0s 868us/step - loss: 6.1373 - mse: 6.1373\n",
      "Epoch 9/20\n",
      "13/13 [==============================] - 0s 868us/step - loss: 5.7555 - mse: 5.7555\n",
      "Epoch 10/20\n",
      "13/13 [==============================] - 0s 868us/step - loss: 6.3118 - mse: 6.3118\n",
      "Epoch 11/20\n",
      "13/13 [==============================] - 0s 868us/step - loss: 5.2356 - mse: 5.2356\n",
      "Epoch 12/20\n",
      "13/13 [==============================] - 0s 1ms/step - loss: 5.4492 - mse: 5.4492\n",
      "Epoch 13/20\n",
      "13/13 [==============================] - 0s 909us/step - loss: 6.4181 - mse: 6.4181\n",
      "Epoch 14/20\n",
      "13/13 [==============================] - 0s 868us/step - loss: 5.4406 - mse: 5.4406\n",
      "Epoch 15/20\n",
      "13/13 [==============================] - 0s 827us/step - loss: 5.9017 - mse: 5.9017\n",
      "Epoch 16/20\n",
      "13/13 [==============================] - 0s 827us/step - loss: 5.7805 - mse: 5.7805\n",
      "Epoch 17/20\n",
      "13/13 [==============================] - 0s 951us/step - loss: 5.6100 - mse: 5.6100\n",
      "Epoch 18/20\n",
      "13/13 [==============================] - 0s 1ms/step - loss: 5.7342 - mse: 5.7342\n",
      "Epoch 19/20\n",
      "13/13 [==============================] - 0s 1ms/step - loss: 5.8120 - mse: 5.8120\n",
      "Epoch 20/20\n",
      "13/13 [==============================] - 0s 992us/step - loss: 6.0280 - mse: 6.0280\n",
      "R2-test-fit: -5.921892392514841\n",
      "Epoch 1/20\n",
      "9/9 [==============================] - 1s 1ms/step - loss: 8.1053 - mse: 8.1053\n",
      "Epoch 2/20\n",
      "9/9 [==============================] - 0s 1ms/step - loss: 7.2035 - mse: 7.2035\n",
      "Epoch 3/20\n",
      "9/9 [==============================] - 0s 1ms/step - loss: 7.1018 - mse: 7.1018\n",
      "Epoch 4/20\n",
      "9/9 [==============================] - 0s 1ms/step - loss: 6.5282 - mse: 6.5282\n",
      "Epoch 5/20\n",
      "9/9 [==============================] - 0s 1ms/step - loss: 6.8842 - mse: 6.8842\n",
      "Epoch 6/20\n",
      "9/9 [==============================] - 0s 1ms/step - loss: 6.3182 - mse: 6.3182\n",
      "Epoch 7/20\n",
      "9/9 [==============================] - 0s 1ms/step - loss: 6.4297 - mse: 6.4297\n",
      "Epoch 8/20\n",
      "9/9 [==============================] - 0s 1ms/step - loss: 6.0301 - mse: 6.0301\n",
      "Epoch 9/20\n",
      "9/9 [==============================] - 0s 1ms/step - loss: 6.5353 - mse: 6.5353\n",
      "Epoch 10/20\n",
      "9/9 [==============================] - 0s 1ms/step - loss: 6.9519 - mse: 6.9519\n",
      "Epoch 11/20\n",
      "9/9 [==============================] - 0s 1ms/step - loss: 6.3444 - mse: 6.3444\n",
      "Epoch 12/20\n",
      "9/9 [==============================] - 0s 1ms/step - loss: 6.3359 - mse: 6.3359\n",
      "Epoch 13/20\n",
      "9/9 [==============================] - 0s 1ms/step - loss: 6.2975 - mse: 6.2975\n",
      "Epoch 14/20\n",
      "9/9 [==============================] - 0s 1ms/step - loss: 5.8661 - mse: 5.8661\n",
      "Epoch 15/20\n",
      "9/9 [==============================] - 0s 1ms/step - loss: 6.2929 - mse: 6.2929\n",
      "Epoch 16/20\n",
      "9/9 [==============================] - 0s 992us/step - loss: 5.3956 - mse: 5.3956\n",
      "Epoch 17/20\n",
      "9/9 [==============================] - 0s 2ms/step - loss: 6.1090 - mse: 6.1090\n",
      "Epoch 18/20\n",
      "9/9 [==============================] - 0s 1ms/step - loss: 6.0294 - mse: 6.0294\n",
      "Epoch 19/20\n",
      "9/9 [==============================] - 0s 1ms/step - loss: 5.7163 - mse: 5.7163\n",
      "Epoch 20/20\n",
      "9/9 [==============================] - 0s 1ms/step - loss: 5.6973 - mse: 5.6973\n",
      "5/5 [==============================] - 0s 1ms/step - loss: 6.0158 - mse: 6.0158\n",
      "R2-test -6.015786170959473\n",
      "5/5 [==============================] - 0s 752us/step\n",
      "MSE-test 6.01578594276469\n",
      "Best params: {'sel__n_features_to_select': 5, 'sel__estimator__learning_rate': 0.05, 'est__output_shape': 1, 'est__nn3': 30, 'est__nn2': 10, 'est__nn1': 50, 'est__nl3': 2, 'est__nl2': 0, 'est__nl1': 2, 'est__lr': 0.0001, 'est__l2': 0, 'est__l1': 0, 'est__input_shape': 5, 'est__dropout': 0.3, 'est__decay': 0, 'est__act': 'relu'}\n",
      "Selected features: ['ct_lab2', 'rtr_lab2', 'actq1_lab2', 'actq3_lab2', 'avgtime_lab2']\n"
     ]
    },
    {
     "data": {
      "text/plain": [
       "['ct_lab2', 'rtr_lab2', 'actq1_lab2', 'actq3_lab2', 'avgtime_lab2']"
      ]
     },
     "execution_count": 21,
     "metadata": {
      "tags": []
     },
     "output_type": "execute_result"
    }
   ],
   "source": [
    "run_process(datalab2, rand_cv)"
   ]
  },
  {
   "cell_type": "code",
   "execution_count": null,
   "metadata": {
    "colab": {
     "base_uri": "https://localhost:8080/"
    },
    "id": "owEK65p8AcKC",
    "outputId": "30a0a072-0835-4c56-deba-e1572cfd4987"
   },
   "outputs": [
    {
     "name": "stdout",
     "output_type": "stream",
     "text": [
      "Fitting 5 folds for each of 10 candidates, totalling 50 fits\n",
      "Epoch 1/20\n",
      "13/13 [==============================] - 1s 785us/step - loss: 8.5729 - mse: 8.0444\n",
      "Epoch 2/20\n",
      "13/13 [==============================] - 0s 827us/step - loss: 8.0515 - mse: 7.5229\n",
      "Epoch 3/20\n",
      "13/13 [==============================] - 0s 785us/step - loss: 7.6311 - mse: 7.1021\n",
      "Epoch 4/20\n",
      "13/13 [==============================] - 0s 826us/step - loss: 7.0794 - mse: 6.5500\n",
      "Epoch 5/20\n",
      "13/13 [==============================] - 0s 785us/step - loss: 6.6926 - mse: 6.1629\n",
      "Epoch 6/20\n",
      "13/13 [==============================] - 0s 785us/step - loss: 6.9186 - mse: 6.3888\n",
      "Epoch 7/20\n",
      "13/13 [==============================] - 0s 785us/step - loss: 6.7598 - mse: 6.2299\n",
      "Epoch 8/20\n",
      "13/13 [==============================] - 0s 827us/step - loss: 6.3481 - mse: 5.8184\n",
      "Epoch 9/20\n",
      "13/13 [==============================] - 0s 826us/step - loss: 6.7715 - mse: 6.2420\n",
      "Epoch 10/20\n",
      "13/13 [==============================] - 0s 827us/step - loss: 6.3876 - mse: 5.8584\n",
      "Epoch 11/20\n",
      "13/13 [==============================] - 0s 868us/step - loss: 6.7335 - mse: 6.2045\n",
      "Epoch 12/20\n",
      "13/13 [==============================] - 0s 783us/step - loss: 6.3406 - mse: 5.8119\n",
      "Epoch 13/20\n",
      "13/13 [==============================] - 0s 785us/step - loss: 6.5031 - mse: 5.9748\n",
      "Epoch 14/20\n",
      "13/13 [==============================] - 0s 826us/step - loss: 6.3180 - mse: 5.7899\n",
      "Epoch 15/20\n",
      "13/13 [==============================] - 0s 827us/step - loss: 6.1477 - mse: 5.6200\n",
      "Epoch 16/20\n",
      "13/13 [==============================] - 0s 785us/step - loss: 6.7493 - mse: 6.2220\n",
      "Epoch 17/20\n",
      "13/13 [==============================] - 0s 785us/step - loss: 7.1669 - mse: 6.6400\n",
      "Epoch 18/20\n",
      "13/13 [==============================] - 0s 785us/step - loss: 6.2770 - mse: 5.7505\n",
      "Epoch 19/20\n",
      "13/13 [==============================] - 0s 786us/step - loss: 5.7782 - mse: 5.2520\n",
      "Epoch 20/20\n",
      "13/13 [==============================] - 0s 827us/step - loss: 6.2681 - mse: 5.7423\n",
      "R2-test-fit: -5.919988275213578\n",
      "Epoch 1/20\n",
      "9/9 [==============================] - 1s 992us/step - loss: 8.4144 - mse: 7.8647\n",
      "Epoch 2/20\n",
      "9/9 [==============================] - 0s 1ms/step - loss: 7.9429 - mse: 7.3934\n",
      "Epoch 3/20\n",
      "9/9 [==============================] - 0s 868us/step - loss: 6.7251 - mse: 6.1756\n",
      "Epoch 4/20\n",
      "9/9 [==============================] - 0s 992us/step - loss: 6.8938 - mse: 6.3443\n",
      "Epoch 5/20\n",
      "9/9 [==============================] - 0s 868us/step - loss: 6.5521 - mse: 6.0024\n",
      "Epoch 6/20\n",
      "9/9 [==============================] - 0s 992us/step - loss: 6.5699 - mse: 6.0201\n",
      "Epoch 7/20\n",
      "9/9 [==============================] - 0s 868us/step - loss: 6.4277 - mse: 5.8778\n",
      "Epoch 8/20\n",
      "9/9 [==============================] - 0s 868us/step - loss: 6.6212 - mse: 6.0713\n",
      "Epoch 9/20\n",
      "9/9 [==============================] - 0s 933us/step - loss: 6.6369 - mse: 6.0870\n",
      "Epoch 10/20\n",
      "9/9 [==============================] - 0s 992us/step - loss: 6.4101 - mse: 5.8602\n",
      "Epoch 11/20\n",
      "9/9 [==============================] - 0s 868us/step - loss: 6.8729 - mse: 6.3232\n",
      "Epoch 12/20\n",
      "9/9 [==============================] - 0s 868us/step - loss: 6.5093 - mse: 5.9597\n",
      "Epoch 13/20\n",
      "9/9 [==============================] - 0s 992us/step - loss: 6.5968 - mse: 6.0474\n",
      "Epoch 14/20\n",
      "9/9 [==============================] - 0s 1ms/step - loss: 5.9265 - mse: 5.3772\n",
      "Epoch 15/20\n",
      "9/9 [==============================] - 0s 1ms/step - loss: 6.1591 - mse: 5.6100\n",
      "Epoch 16/20\n",
      "9/9 [==============================] - 0s 1ms/step - loss: 6.0050 - mse: 5.4561\n",
      "Epoch 17/20\n",
      "9/9 [==============================] - 0s 930us/step - loss: 5.7954 - mse: 5.2467\n",
      "Epoch 18/20\n",
      "9/9 [==============================] - 0s 992us/step - loss: 6.2607 - mse: 5.7123\n",
      "Epoch 19/20\n",
      "9/9 [==============================] - 0s 992us/step - loss: 6.9289 - mse: 6.3807\n",
      "Epoch 20/20\n",
      "9/9 [==============================] - 0s 1ms/step - loss: 6.5895 - mse: 6.0416\n",
      "5/5 [==============================] - 0s 1ms/step - loss: 6.9377 - mse: 6.3899\n",
      "R2-test -6.937684535980225\n",
      "5/5 [==============================] - 0s 992us/step\n",
      "MSE-test 6.389940125838646\n",
      "Best params: {'sel__n_features_to_select': 5, 'sel__estimator__learning_rate': 0.05, 'est__output_shape': 1, 'est__nn3': 30, 'est__nn2': 40, 'est__nn1': 50, 'est__nl3': 3, 'est__nl2': 0, 'est__nl1': 1, 'est__lr': 0.01, 'est__l2': 0.0001, 'est__l1': 0.001, 'est__input_shape': 5, 'est__dropout': 0, 'est__decay': 0, 'est__act': 'relu'}\n",
      "Selected features: ['rt_lab2', 'actq2_lab2', 'actq3_lab2', 'max(qat$_lab2)', 'avgtime_lab2']\n"
     ]
    },
    {
     "data": {
      "text/plain": [
       "['rt_lab2', 'actq2_lab2', 'actq3_lab2', 'max(qat$_lab2)', 'avgtime_lab2']"
      ]
     },
     "execution_count": 22,
     "metadata": {
      "tags": []
     },
     "output_type": "execute_result"
    }
   ],
   "source": [
    "run_process(datalab2, rand_cv)"
   ]
  },
  {
   "cell_type": "code",
   "execution_count": null,
   "metadata": {
    "colab": {
     "base_uri": "https://localhost:8080/"
    },
    "id": "MwX6zSnaAcSt",
    "outputId": "37bb383b-4479-4e4d-8dd4-915adfef9d0e"
   },
   "outputs": [
    {
     "name": "stdout",
     "output_type": "stream",
     "text": [
      "Fitting 5 folds for each of 10 candidates, totalling 50 fits\n",
      "Epoch 1/20\n",
      "13/13 [==============================] - 1s 1ms/step - loss: 11.4448 - mse: 9.6790\n",
      "Epoch 2/20\n",
      "13/13 [==============================] - 0s 1ms/step - loss: 9.3968 - mse: 7.6331\n",
      "Epoch 3/20\n",
      "13/13 [==============================] - 0s 1ms/step - loss: 8.1757 - mse: 6.4142\n",
      "Epoch 4/20\n",
      "13/13 [==============================] - 0s 1ms/step - loss: 7.5807 - mse: 5.8214\n",
      "Epoch 5/20\n",
      "13/13 [==============================] - 0s 1ms/step - loss: 7.9994 - mse: 6.2424\n",
      "Epoch 6/20\n",
      "13/13 [==============================] - 0s 1ms/step - loss: 7.9374 - mse: 6.1826\n",
      "Epoch 7/20\n",
      "13/13 [==============================] - 0s 1ms/step - loss: 7.5665 - mse: 5.8140\n",
      "Epoch 8/20\n",
      "13/13 [==============================] - 0s 1ms/step - loss: 8.1194 - mse: 6.3692\n",
      "Epoch 9/20\n",
      "13/13 [==============================] - 0s 1ms/step - loss: 7.7749 - mse: 6.0270\n",
      "Epoch 10/20\n",
      "13/13 [==============================] - 0s 1ms/step - loss: 7.9993 - mse: 6.2536\n",
      "Epoch 11/20\n",
      "13/13 [==============================] - 0s 1ms/step - loss: 7.2748 - mse: 5.5315\n",
      "Epoch 12/20\n",
      "13/13 [==============================] - 0s 1ms/step - loss: 7.0443 - mse: 5.3033\n",
      "Epoch 13/20\n",
      "13/13 [==============================] - 0s 1ms/step - loss: 7.8396 - mse: 6.1008\n",
      "Epoch 14/20\n",
      "13/13 [==============================] - 0s 1ms/step - loss: 7.7419 - mse: 6.0054\n",
      "Epoch 15/20\n",
      "13/13 [==============================] - 0s 1ms/step - loss: 7.7341 - mse: 5.9999\n",
      "Epoch 16/20\n",
      "13/13 [==============================] - 0s 1ms/step - loss: 7.9557 - mse: 6.2238\n",
      "Epoch 17/20\n",
      "13/13 [==============================] - 0s 1ms/step - loss: 7.4299 - mse: 5.7003\n",
      "Epoch 18/20\n",
      "13/13 [==============================] - 0s 1ms/step - loss: 7.6360 - mse: 5.9087\n",
      "Epoch 19/20\n",
      "13/13 [==============================] - 0s 1ms/step - loss: 7.9284 - mse: 6.2035\n",
      "Epoch 20/20\n",
      "13/13 [==============================] - 0s 1ms/step - loss: 7.6913 - mse: 5.9686\n",
      "R2-test-fit: -5.9256723894232675\n",
      "Epoch 1/20\n",
      "9/9 [==============================] - 1s 1ms/step - loss: 10.0549 - mse: 8.3069\n",
      "Epoch 2/20\n",
      "9/9 [==============================] - 0s 1ms/step - loss: 8.8433 - mse: 7.0969\n",
      "Epoch 3/20\n",
      "9/9 [==============================] - 0s 1ms/step - loss: 8.0571 - mse: 6.3123\n",
      "Epoch 4/20\n",
      "9/9 [==============================] - 0s 1ms/step - loss: 7.5769 - mse: 5.8337\n",
      "Epoch 5/20\n",
      "9/9 [==============================] - 0s 1ms/step - loss: 8.2761 - mse: 6.5344\n",
      "Epoch 6/20\n",
      "9/9 [==============================] - 0s 1ms/step - loss: 7.5662 - mse: 5.8262\n",
      "Epoch 7/20\n",
      "9/9 [==============================] - 0s 1ms/step - loss: 7.4154 - mse: 5.6769\n",
      "Epoch 8/20\n",
      "9/9 [==============================] - 0s 1ms/step - loss: 7.9780 - mse: 6.2412\n",
      "Epoch 9/20\n",
      "9/9 [==============================] - 0s 1ms/step - loss: 7.6571 - mse: 5.9219\n",
      "Epoch 10/20\n",
      "9/9 [==============================] - 0s 1ms/step - loss: 8.8481 - mse: 7.1145\n",
      "Epoch 11/20\n",
      "9/9 [==============================] - 0s 1ms/step - loss: 7.9055 - mse: 6.1735\n",
      "Epoch 12/20\n",
      "9/9 [==============================] - 0s 1ms/step - loss: 8.1471 - mse: 6.4166\n",
      "Epoch 13/20\n",
      "9/9 [==============================] - 0s 1ms/step - loss: 7.7416 - mse: 6.0127\n",
      "Epoch 14/20\n",
      "9/9 [==============================] - 0s 1ms/step - loss: 8.0523 - mse: 6.3251\n",
      "Epoch 15/20\n",
      "9/9 [==============================] - 0s 1ms/step - loss: 7.9868 - mse: 6.2612\n",
      "Epoch 16/20\n",
      "9/9 [==============================] - 0s 1ms/step - loss: 8.0634 - mse: 6.3394\n",
      "Epoch 17/20\n",
      "9/9 [==============================] - 0s 1ms/step - loss: 7.7723 - mse: 6.0499\n",
      "Epoch 18/20\n",
      "9/9 [==============================] - 0s 1ms/step - loss: 7.1612 - mse: 5.4404\n",
      "Epoch 19/20\n",
      "9/9 [==============================] - 0s 1ms/step - loss: 8.0510 - mse: 6.3318\n",
      "Epoch 20/20\n",
      "9/9 [==============================] - 0s 1ms/step - loss: 8.0743 - mse: 6.3567\n",
      "5/5 [==============================] - 0s 1ms/step - loss: 7.3060 - mse: 5.5896\n",
      "R2-test -7.306046962738037\n",
      "5/5 [==============================] - 0s 868us/step\n",
      "MSE-test 5.589627618331404\n",
      "Best params: {'sel__n_features_to_select': 5, 'sel__estimator__learning_rate': 0.2, 'est__output_shape': 1, 'est__nn3': 5, 'est__nn2': 70, 'est__nn1': 100, 'est__nl3': 0, 'est__nl2': 3, 'est__nl1': 1, 'est__lr': 0.001, 'est__l2': 0.0001, 'est__l1': 0.001, 'est__input_shape': 5, 'est__dropout': 0.1, 'est__decay': 0, 'est__act': 'sigmoid'}\n",
      "Selected features: ['ct_lab2', 'err_lab2', 'actq1_lab2', 'mean(qavt$_lab2)', 'avgtime_lab2']\n"
     ]
    },
    {
     "data": {
      "text/plain": [
       "['ct_lab2', 'err_lab2', 'actq1_lab2', 'mean(qavt$_lab2)', 'avgtime_lab2']"
      ]
     },
     "execution_count": 23,
     "metadata": {
      "tags": []
     },
     "output_type": "execute_result"
    }
   ],
   "source": [
    "run_process(datalab2, rand_cv)"
   ]
  },
  {
   "cell_type": "code",
   "execution_count": null,
   "metadata": {
    "colab": {
     "base_uri": "https://localhost:8080/"
    },
    "id": "tLrv2WuxAcbG",
    "outputId": "0361f1b6-b7a1-4e2b-ccfc-1a06c220a155"
   },
   "outputs": [
    {
     "name": "stdout",
     "output_type": "stream",
     "text": [
      "Fitting 5 folds for each of 10 candidates, totalling 50 fits\n",
      "Epoch 1/20\n",
      "13/13 [==============================] - 1s 1ms/step - loss: 8.0855 - mse: 8.0651\n",
      "Epoch 2/20\n",
      "13/13 [==============================] - 0s 1ms/step - loss: 7.2131 - mse: 7.1926\n",
      "Epoch 3/20\n",
      "13/13 [==============================] - 0s 1ms/step - loss: 6.8374 - mse: 6.8170\n",
      "Epoch 4/20\n",
      "13/13 [==============================] - 0s 1ms/step - loss: 7.0756 - mse: 7.0552\n",
      "Epoch 5/20\n",
      "13/13 [==============================] - 0s 1ms/step - loss: 6.9103 - mse: 6.8898\n",
      "Epoch 6/20\n",
      "13/13 [==============================] - 0s 1ms/step - loss: 6.1078 - mse: 6.0873\n",
      "Epoch 7/20\n",
      "13/13 [==============================] - 0s 1ms/step - loss: 5.9413 - mse: 5.9207\n",
      "Epoch 8/20\n",
      "13/13 [==============================] - 0s 1ms/step - loss: 6.9252 - mse: 6.9046\n",
      "Epoch 9/20\n",
      "13/13 [==============================] - 0s 1ms/step - loss: 6.2041 - mse: 6.1835\n",
      "Epoch 10/20\n",
      "13/13 [==============================] - 0s 1ms/step - loss: 6.5090 - mse: 6.4884\n",
      "Epoch 11/20\n",
      "13/13 [==============================] - 0s 1ms/step - loss: 5.8810 - mse: 5.8604\n",
      "Epoch 12/20\n",
      "13/13 [==============================] - 0s 1ms/step - loss: 5.9680 - mse: 5.9474\n",
      "Epoch 13/20\n",
      "13/13 [==============================] - 0s 1ms/step - loss: 5.7439 - mse: 5.7233\n",
      "Epoch 14/20\n",
      "13/13 [==============================] - 0s 992us/step - loss: 5.9453 - mse: 5.9247\n",
      "Epoch 15/20\n",
      "13/13 [==============================] - 0s 1ms/step - loss: 6.3012 - mse: 6.2806\n",
      "Epoch 16/20\n",
      "13/13 [==============================] - 0s 1ms/step - loss: 6.0532 - mse: 6.0326\n",
      "Epoch 17/20\n",
      "13/13 [==============================] - 0s 1ms/step - loss: 5.6096 - mse: 5.5889\n",
      "Epoch 18/20\n",
      "13/13 [==============================] - 0s 1ms/step - loss: 6.2979 - mse: 6.2772\n",
      "Epoch 19/20\n",
      "13/13 [==============================] - 0s 1ms/step - loss: 5.8974 - mse: 5.8767\n",
      "Epoch 20/20\n",
      "13/13 [==============================] - 0s 1ms/step - loss: 5.4209 - mse: 5.4002\n",
      "R2-test-fit: -5.908403679619407\n",
      "Epoch 1/20\n",
      "9/9 [==============================] - 1s 1ms/step - loss: 7.2987 - mse: 7.2781\n",
      "Epoch 2/20\n",
      "9/9 [==============================] - 0s 1ms/step - loss: 7.8289 - mse: 7.8083\n",
      "Epoch 3/20\n",
      "9/9 [==============================] - 0s 1ms/step - loss: 8.0212 - mse: 8.0007\n",
      "Epoch 4/20\n",
      "9/9 [==============================] - 0s 1ms/step - loss: 8.2321 - mse: 8.2115\n",
      "Epoch 5/20\n",
      "9/9 [==============================] - 0s 1ms/step - loss: 7.5941 - mse: 7.5736\n",
      "Epoch 6/20\n",
      "9/9 [==============================] - 0s 1ms/step - loss: 7.6165 - mse: 7.5959\n",
      "Epoch 7/20\n",
      "9/9 [==============================] - 0s 1ms/step - loss: 7.0236 - mse: 7.0031\n",
      "Epoch 8/20\n",
      "9/9 [==============================] - 0s 1ms/step - loss: 7.4094 - mse: 7.3888\n",
      "Epoch 9/20\n",
      "9/9 [==============================] - 0s 1ms/step - loss: 6.8963 - mse: 6.8757\n",
      "Epoch 10/20\n",
      "9/9 [==============================] - 0s 1ms/step - loss: 6.3112 - mse: 6.2907\n",
      "Epoch 11/20\n",
      "9/9 [==============================] - 0s 1ms/step - loss: 6.6335 - mse: 6.6130\n",
      "Epoch 12/20\n",
      "9/9 [==============================] - 0s 1ms/step - loss: 5.9539 - mse: 5.9333\n",
      "Epoch 13/20\n",
      "9/9 [==============================] - 0s 1ms/step - loss: 6.1746 - mse: 6.1540\n",
      "Epoch 14/20\n",
      "9/9 [==============================] - 0s 1ms/step - loss: 6.2312 - mse: 6.2106\n",
      "Epoch 15/20\n",
      "9/9 [==============================] - 0s 1ms/step - loss: 6.2153 - mse: 6.1948\n",
      "Epoch 16/20\n",
      "9/9 [==============================] - 0s 1ms/step - loss: 6.3301 - mse: 6.3095\n",
      "Epoch 17/20\n",
      "9/9 [==============================] - 0s 1ms/step - loss: 6.0954 - mse: 6.0749\n",
      "Epoch 18/20\n",
      "9/9 [==============================] - 0s 1ms/step - loss: 6.5247 - mse: 6.5042\n",
      "Epoch 19/20\n",
      "9/9 [==============================] - 0s 1ms/step - loss: 5.9457 - mse: 5.9252\n",
      "Epoch 20/20\n",
      "9/9 [==============================] - 0s 1ms/step - loss: 5.6418 - mse: 5.6213\n",
      "5/5 [==============================] - 0s 1ms/step - loss: 6.2532 - mse: 6.2327\n",
      "R2-test -6.253237247467041\n",
      "5/5 [==============================] - 0s 744us/step\n",
      "MSE-test 6.232684761993369\n",
      "Best params: {'sel__n_features_to_select': 5, 'sel__estimator__learning_rate': 0.05, 'est__output_shape': 1, 'est__nn3': 15, 'est__nn2': 70, 'est__nn1': 20, 'est__nl3': 3, 'est__nl2': 3, 'est__nl1': 0, 'est__lr': 0.0001, 'est__l2': 0.0001, 'est__l1': 0, 'est__input_shape': 5, 'est__dropout': 0.2, 'est__decay': 1e-06, 'est__act': 'relu'}\n",
      "Selected features: ['act_lab2', 'rtr_lab2', 'actq1_lab2', 'mean(qavt$_lab2)', 'avgtime_lab2']\n"
     ]
    },
    {
     "data": {
      "text/plain": [
       "['act_lab2', 'rtr_lab2', 'actq1_lab2', 'mean(qavt$_lab2)', 'avgtime_lab2']"
      ]
     },
     "execution_count": 24,
     "metadata": {
      "tags": []
     },
     "output_type": "execute_result"
    }
   ],
   "source": [
    "run_process(datalab2, rand_cv)"
   ]
  },
  {
   "cell_type": "code",
   "execution_count": null,
   "metadata": {
    "colab": {
     "base_uri": "https://localhost:8080/"
    },
    "id": "csOJzd9VAci3",
    "outputId": "3833be25-fd5b-4e10-a518-0c0976af7879"
   },
   "outputs": [
    {
     "name": "stdout",
     "output_type": "stream",
     "text": [
      "Fitting 5 folds for each of 10 candidates, totalling 50 fits\n",
      "Epoch 1/20\n",
      "13/13 [==============================] - 1s 1ms/step - loss: 7.6416 - mse: 7.4683\n",
      "Epoch 2/20\n",
      "13/13 [==============================] - 0s 992us/step - loss: 7.9040 - mse: 7.7309\n",
      "Epoch 3/20\n",
      "13/13 [==============================] - 0s 909us/step - loss: 7.6225 - mse: 7.4495\n",
      "Epoch 4/20\n",
      "13/13 [==============================] - 0s 909us/step - loss: 7.0056 - mse: 6.8325\n",
      "Epoch 5/20\n",
      "13/13 [==============================] - 0s 992us/step - loss: 7.2018 - mse: 7.0286\n",
      "Epoch 6/20\n",
      "13/13 [==============================] - 0s 951us/step - loss: 7.1146 - mse: 6.9412\n",
      "Epoch 7/20\n",
      "13/13 [==============================] - 0s 1ms/step - loss: 6.2087 - mse: 6.0351\n",
      "Epoch 8/20\n",
      "13/13 [==============================] - 0s 1ms/step - loss: 6.3847 - mse: 6.2109\n",
      "Epoch 9/20\n",
      "13/13 [==============================] - 0s 1ms/step - loss: 6.2219 - mse: 6.0480\n",
      "Epoch 10/20\n",
      "13/13 [==============================] - 0s 992us/step - loss: 6.2416 - mse: 6.0676\n",
      "Epoch 11/20\n",
      "13/13 [==============================] - 0s 992us/step - loss: 6.5135 - mse: 6.3395\n",
      "Epoch 12/20\n",
      "13/13 [==============================] - 0s 1ms/step - loss: 6.1516 - mse: 5.9774\n",
      "Epoch 13/20\n",
      "13/13 [==============================] - 0s 1ms/step - loss: 5.9693 - mse: 5.7952\n",
      "Epoch 14/20\n",
      "13/13 [==============================] - 0s 1ms/step - loss: 6.2219 - mse: 6.0477\n",
      "Epoch 15/20\n",
      "13/13 [==============================] - 0s 992us/step - loss: 5.8880 - mse: 5.7138\n",
      "Epoch 16/20\n",
      "13/13 [==============================] - 0s 951us/step - loss: 6.0542 - mse: 5.8800\n",
      "Epoch 17/20\n",
      "13/13 [==============================] - 0s 1ms/step - loss: 6.3214 - mse: 6.1472\n",
      "Epoch 18/20\n",
      "13/13 [==============================] - 0s 1ms/step - loss: 6.1821 - mse: 6.0079\n",
      "Epoch 19/20\n",
      "13/13 [==============================] - 0s 1ms/step - loss: 6.3648 - mse: 6.1906\n",
      "Epoch 20/20\n",
      "13/13 [==============================] - 0s 1ms/step - loss: 5.5393 - mse: 5.3652\n",
      "R2-test-fit: -5.9206813617931955\n",
      "Epoch 1/20\n",
      "9/9 [==============================] - 1s 1ms/step - loss: 8.5117 - mse: 8.3367\n",
      "Epoch 2/20\n",
      "9/9 [==============================] - 0s 1ms/step - loss: 7.6859 - mse: 7.5108\n",
      "Epoch 3/20\n",
      "9/9 [==============================] - 0s 1ms/step - loss: 7.6217 - mse: 7.4465\n",
      "Epoch 4/20\n",
      "9/9 [==============================] - 0s 1ms/step - loss: 7.3699 - mse: 7.1945\n",
      "Epoch 5/20\n",
      "9/9 [==============================] - 0s 1ms/step - loss: 7.2416 - mse: 7.0660\n",
      "Epoch 6/20\n",
      "9/9 [==============================] - 0s 1ms/step - loss: 7.1831 - mse: 7.0072\n",
      "Epoch 7/20\n",
      "9/9 [==============================] - 0s 1ms/step - loss: 6.5289 - mse: 6.3529\n",
      "Epoch 8/20\n",
      "9/9 [==============================] - 0s 1ms/step - loss: 6.8790 - mse: 6.7028\n",
      "Epoch 9/20\n",
      "9/9 [==============================] - 0s 1ms/step - loss: 6.6461 - mse: 6.4697\n",
      "Epoch 10/20\n",
      "9/9 [==============================] - 0s 2ms/step - loss: 6.6557 - mse: 6.4792\n",
      "Epoch 11/20\n",
      "9/9 [==============================] - 0s 1ms/step - loss: 6.6182 - mse: 6.4416\n",
      "Epoch 12/20\n",
      "9/9 [==============================] - 0s 1ms/step - loss: 7.0068 - mse: 6.8301\n",
      "Epoch 13/20\n",
      "9/9 [==============================] - 0s 1ms/step - loss: 6.4045 - mse: 6.2277\n",
      "Epoch 14/20\n",
      "9/9 [==============================] - 0s 1ms/step - loss: 6.9628 - mse: 6.7861\n",
      "Epoch 15/20\n",
      "9/9 [==============================] - 0s 1ms/step - loss: 6.9437 - mse: 6.7669\n",
      "Epoch 16/20\n",
      "9/9 [==============================] - 0s 1ms/step - loss: 6.7149 - mse: 6.5380\n",
      "Epoch 17/20\n",
      "9/9 [==============================] - 0s 1ms/step - loss: 6.5910 - mse: 6.4141\n",
      "Epoch 18/20\n",
      "9/9 [==============================] - 0s 1ms/step - loss: 6.9410 - mse: 6.7641\n",
      "Epoch 19/20\n",
      "9/9 [==============================] - 0s 1ms/step - loss: 7.0223 - mse: 6.8454\n",
      "Epoch 20/20\n",
      "9/9 [==============================] - 0s 1ms/step - loss: 6.0749 - mse: 5.8980\n",
      "5/5 [==============================] - 0s 1ms/step - loss: 5.3657 - mse: 5.1888\n",
      "R2-test -5.365689277648926\n",
      "5/5 [==============================] - 0s 868us/step\n",
      "MSE-test 5.1888011969991945\n",
      "Best params: {'sel__n_features_to_select': 5, 'sel__estimator__learning_rate': 0.1, 'est__output_shape': 1, 'est__nn3': 30, 'est__nn2': 40, 'est__nn1': 20, 'est__nl3': 0, 'est__nl2': 3, 'est__nl1': 1, 'est__lr': 0.01, 'est__l2': 0.001, 'est__l1': 0.0001, 'est__input_shape': 5, 'est__dropout': 0.1, 'est__decay': 1e-09, 'est__act': 'relu'}\n",
      "Selected features: ['ut_lab2', 'act_lab2', 'actq3_lab2', 'mean(qmsr$_lab2)', 'avgtime_lab2']\n"
     ]
    },
    {
     "data": {
      "text/plain": [
       "['ut_lab2', 'act_lab2', 'actq3_lab2', 'mean(qmsr$_lab2)', 'avgtime_lab2']"
      ]
     },
     "execution_count": 25,
     "metadata": {
      "tags": []
     },
     "output_type": "execute_result"
    }
   ],
   "source": [
    "run_process(datalab2, rand_cv)"
   ]
  },
  {
   "cell_type": "markdown",
   "metadata": {
    "id": "Nm0dahAuAdkq"
   },
   "source": [
    "\n",
    "\n",
    "---\n",
    "\n"
   ]
  },
  {
   "cell_type": "code",
   "execution_count": null,
   "metadata": {
    "colab": {
     "base_uri": "https://localhost:8080/"
    },
    "id": "8Qul-dGpAgIt",
    "outputId": "23b2f17c-9710-416c-9322-3f2e3261cc29"
   },
   "outputs": [
    {
     "name": "stdout",
     "output_type": "stream",
     "text": [
      "Fitting 5 folds for each of 10 candidates, totalling 50 fits\n",
      "Epoch 1/20\n",
      "13/13 [==============================] - 1s 1ms/step - loss: 6.6505 - mse: 5.9281\n",
      "Epoch 2/20\n",
      "13/13 [==============================] - 0s 1ms/step - loss: 6.3307 - mse: 5.6094\n",
      "Epoch 3/20\n",
      "13/13 [==============================] - 0s 1ms/step - loss: 6.2318 - mse: 5.5116\n",
      "Epoch 4/20\n",
      "13/13 [==============================] - 0s 1ms/step - loss: 6.7077 - mse: 5.9886\n",
      "Epoch 5/20\n",
      "13/13 [==============================] - 0s 1ms/step - loss: 7.0959 - mse: 6.3780\n",
      "Epoch 6/20\n",
      "13/13 [==============================] - 0s 1ms/step - loss: 6.3541 - mse: 5.6372\n",
      "Epoch 7/20\n",
      "13/13 [==============================] - 0s 1ms/step - loss: 6.3149 - mse: 5.5991\n",
      "Epoch 8/20\n",
      "13/13 [==============================] - 0s 1ms/step - loss: 6.4298 - mse: 5.7152\n",
      "Epoch 9/20\n",
      "13/13 [==============================] - 0s 1ms/step - loss: 6.3042 - mse: 5.5907\n",
      "Epoch 10/20\n",
      "13/13 [==============================] - 0s 1ms/step - loss: 6.8140 - mse: 6.1015\n",
      "Epoch 11/20\n",
      "13/13 [==============================] - 0s 1ms/step - loss: 6.8502 - mse: 6.1389\n",
      "Epoch 12/20\n",
      "13/13 [==============================] - 0s 1ms/step - loss: 6.7233 - mse: 6.0131\n",
      "Epoch 13/20\n",
      "13/13 [==============================] - 0s 1ms/step - loss: 6.2164 - mse: 5.5073\n",
      "Epoch 14/20\n",
      "13/13 [==============================] - 0s 1ms/step - loss: 6.3864 - mse: 5.6784\n",
      "Epoch 15/20\n",
      "13/13 [==============================] - 0s 1ms/step - loss: 5.9993 - mse: 5.2924\n",
      "Epoch 16/20\n",
      "13/13 [==============================] - 0s 1ms/step - loss: 6.8634 - mse: 6.1577\n",
      "Epoch 17/20\n",
      "13/13 [==============================] - 0s 1ms/step - loss: 6.7358 - mse: 6.0311\n",
      "Epoch 18/20\n",
      "13/13 [==============================] - 0s 1ms/step - loss: 5.9561 - mse: 5.2526\n",
      "Epoch 19/20\n",
      "13/13 [==============================] - 0s 1ms/step - loss: 6.9916 - mse: 6.2892\n",
      "Epoch 20/20\n",
      "13/13 [==============================] - 0s 1ms/step - loss: 6.1431 - mse: 5.4417\n",
      "R2-test-fit: -5.920140462853393\n",
      "Epoch 1/20\n",
      "9/9 [==============================] - 1s 1ms/step - loss: 8.8478 - mse: 8.1233\n",
      "Epoch 2/20\n",
      "9/9 [==============================] - 0s 1ms/step - loss: 7.3753 - mse: 6.6515\n",
      "Epoch 3/20\n",
      "9/9 [==============================] - 0s 1ms/step - loss: 7.0873 - mse: 6.3642\n",
      "Epoch 4/20\n",
      "9/9 [==============================] - 0s 1ms/step - loss: 7.9583 - mse: 7.2358\n",
      "Epoch 5/20\n",
      "9/9 [==============================] - 0s 1ms/step - loss: 7.6015 - mse: 6.8798\n",
      "Epoch 6/20\n",
      "9/9 [==============================] - 0s 1ms/step - loss: 7.0796 - mse: 6.3586\n",
      "Epoch 7/20\n",
      "9/9 [==============================] - 0s 1ms/step - loss: 7.5615 - mse: 6.8413\n",
      "Epoch 8/20\n",
      "9/9 [==============================] - 0s 1ms/step - loss: 7.0862 - mse: 6.3668\n",
      "Epoch 9/20\n",
      "9/9 [==============================] - 0s 1ms/step - loss: 7.4940 - mse: 6.7753\n",
      "Epoch 10/20\n",
      "9/9 [==============================] - 0s 1ms/step - loss: 6.9270 - mse: 6.2090\n",
      "Epoch 11/20\n",
      "9/9 [==============================] - 0s 1ms/step - loss: 6.7407 - mse: 6.0235\n",
      "Epoch 12/20\n",
      "9/9 [==============================] - 0s 1ms/step - loss: 7.1859 - mse: 6.4695\n",
      "Epoch 13/20\n",
      "9/9 [==============================] - 0s 1ms/step - loss: 7.7643 - mse: 7.0486\n",
      "Epoch 14/20\n",
      "9/9 [==============================] - 0s 1ms/step - loss: 7.3188 - mse: 6.6039\n",
      "Epoch 15/20\n",
      "9/9 [==============================] - 0s 1ms/step - loss: 7.7620 - mse: 7.0478\n",
      "Epoch 16/20\n",
      "9/9 [==============================] - 0s 1ms/step - loss: 7.3680 - mse: 6.6546\n",
      "Epoch 17/20\n",
      "9/9 [==============================] - 0s 1ms/step - loss: 7.2934 - mse: 6.5808\n",
      "Epoch 18/20\n",
      "9/9 [==============================] - 0s 1ms/step - loss: 7.5020 - mse: 6.7902\n",
      "Epoch 19/20\n",
      "9/9 [==============================] - 0s 1ms/step - loss: 7.2855 - mse: 6.5744\n",
      "Epoch 20/20\n",
      "9/9 [==============================] - 0s 1ms/step - loss: 6.8564 - mse: 6.1460\n",
      "5/5 [==============================] - 0s 993us/step - loss: 5.5313 - mse: 4.8215\n",
      "R2-test -5.531270503997803\n",
      "5/5 [==============================] - 0s 868us/step\n",
      "MSE-test 4.821540572510062\n",
      "Best params: {'sel__n_features_to_select': 5, 'sel__estimator__learning_rate': 0.1, 'est__output_shape': 1, 'est__nn3': 15, 'est__nn2': 70, 'est__nn1': 20, 'est__nl3': 0, 'est__nl2': 3, 'est__nl1': 2, 'est__lr': 0.001, 'est__l2': 0.003, 'est__l1': 0.0001, 'est__input_shape': 5, 'est__dropout': 0.3, 'est__decay': 0, 'est__act': 'sigmoid'}\n",
      "Selected features: ['ut_lab3', 'act_lab3', 'rt_lab3', 'actq2_lab3', 'avgtime_lab3']\n"
     ]
    },
    {
     "data": {
      "text/plain": [
       "['ut_lab3', 'act_lab3', 'rt_lab3', 'actq2_lab3', 'avgtime_lab3']"
      ]
     },
     "execution_count": 26,
     "metadata": {
      "tags": []
     },
     "output_type": "execute_result"
    }
   ],
   "source": [
    "run_process(datalab3, rand_cv)"
   ]
  },
  {
   "cell_type": "code",
   "execution_count": null,
   "metadata": {
    "colab": {
     "base_uri": "https://localhost:8080/"
    },
    "id": "qil_BYlFAhnn",
    "outputId": "5cfb776c-2c00-4c03-91c7-5c26e1c81dc0"
   },
   "outputs": [
    {
     "name": "stdout",
     "output_type": "stream",
     "text": [
      "Fitting 5 folds for each of 10 candidates, totalling 50 fits\n",
      "Epoch 1/20\n",
      "13/13 [==============================] - 1s 1ms/step - loss: 9.7564 - mse: 8.1415\n",
      "Epoch 2/20\n",
      "13/13 [==============================] - 0s 992us/step - loss: 9.1375 - mse: 7.5269\n",
      "Epoch 3/20\n",
      "13/13 [==============================] - 0s 951us/step - loss: 9.3191 - mse: 7.7124\n",
      "Epoch 4/20\n",
      "13/13 [==============================] - 0s 951us/step - loss: 8.6042 - mse: 7.0014\n",
      "Epoch 5/20\n",
      "13/13 [==============================] - 0s 909us/step - loss: 9.1984 - mse: 7.5992\n",
      "Epoch 6/20\n",
      "13/13 [==============================] - 0s 992us/step - loss: 8.5521 - mse: 6.9563\n",
      "Epoch 7/20\n",
      "13/13 [==============================] - 0s 1ms/step - loss: 8.0968 - mse: 6.5043\n",
      "Epoch 8/20\n",
      "13/13 [==============================] - 0s 951us/step - loss: 7.7293 - mse: 6.1401\n",
      "Epoch 9/20\n",
      "13/13 [==============================] - 0s 909us/step - loss: 7.8610 - mse: 6.2752\n",
      "Epoch 10/20\n",
      "13/13 [==============================] - 0s 909us/step - loss: 7.4343 - mse: 5.8518\n",
      "Epoch 11/20\n",
      "13/13 [==============================] - 0s 992us/step - loss: 7.8346 - mse: 6.2555\n",
      "Epoch 12/20\n",
      "13/13 [==============================] - 0s 1ms/step - loss: 7.6926 - mse: 6.1171\n",
      "Epoch 13/20\n",
      "13/13 [==============================] - 0s 1ms/step - loss: 7.7158 - mse: 6.1439\n",
      "Epoch 14/20\n",
      "13/13 [==============================] - 0s 1ms/step - loss: 7.7710 - mse: 6.2026\n",
      "Epoch 15/20\n",
      "13/13 [==============================] - 0s 1ms/step - loss: 7.8723 - mse: 6.3076\n",
      "Epoch 16/20\n",
      "13/13 [==============================] - 0s 1ms/step - loss: 8.0879 - mse: 6.5269\n",
      "Epoch 17/20\n",
      "13/13 [==============================] - 0s 1ms/step - loss: 7.6490 - mse: 6.0916\n",
      "Epoch 18/20\n",
      "13/13 [==============================] - 0s 1ms/step - loss: 7.1791 - mse: 5.6255\n",
      "Epoch 19/20\n",
      "13/13 [==============================] - 0s 1ms/step - loss: 7.4177 - mse: 5.8679\n",
      "Epoch 20/20\n",
      "13/13 [==============================] - 0s 1ms/step - loss: 7.2932 - mse: 5.7472\n",
      "R2-test-fit: -5.913329034622601\n",
      "Epoch 1/20\n",
      "9/9 [==============================] - 1s 1ms/step - loss: 9.3952 - mse: 7.7915\n",
      "Epoch 2/20\n",
      "9/9 [==============================] - 0s 992us/step - loss: 10.1724 - mse: 8.5712\n",
      "Epoch 3/20\n",
      "9/9 [==============================] - 0s 1ms/step - loss: 9.8890 - mse: 8.2897\n",
      "Epoch 4/20\n",
      "9/9 [==============================] - 0s 1ms/step - loss: 8.4369 - mse: 6.8391\n",
      "Epoch 5/20\n",
      "9/9 [==============================] - 0s 992us/step - loss: 8.8711 - mse: 7.2746\n",
      "Epoch 6/20\n",
      "9/9 [==============================] - 0s 992us/step - loss: 8.4621 - mse: 6.8668\n",
      "Epoch 7/20\n",
      "9/9 [==============================] - 0s 992us/step - loss: 7.7119 - mse: 6.1179\n",
      "Epoch 8/20\n",
      "9/9 [==============================] - 0s 1ms/step - loss: 8.5250 - mse: 6.9325\n",
      "Epoch 9/20\n",
      "9/9 [==============================] - 0s 930us/step - loss: 8.3640 - mse: 6.7731\n",
      "Epoch 10/20\n",
      "9/9 [==============================] - 0s 1ms/step - loss: 7.7861 - mse: 6.1972\n",
      "Epoch 11/20\n",
      "9/9 [==============================] - 0s 992us/step - loss: 8.3956 - mse: 6.8086\n",
      "Epoch 12/20\n",
      "9/9 [==============================] - 0s 992us/step - loss: 7.6224 - mse: 6.0376\n",
      "Epoch 13/20\n",
      "9/9 [==============================] - 0s 930us/step - loss: 8.3760 - mse: 6.7933\n",
      "Epoch 14/20\n",
      "9/9 [==============================] - 0s 992us/step - loss: 7.9564 - mse: 6.3760\n",
      "Epoch 15/20\n",
      "9/9 [==============================] - 0s 930us/step - loss: 7.7507 - mse: 6.1726\n",
      "Epoch 16/20\n",
      "9/9 [==============================] - 0s 992us/step - loss: 8.0817 - mse: 6.5060\n",
      "Epoch 17/20\n",
      "9/9 [==============================] - 0s 1ms/step - loss: 7.2016 - mse: 5.6282\n",
      "Epoch 18/20\n",
      "9/9 [==============================] - 0s 1ms/step - loss: 7.7669 - mse: 6.1958\n",
      "Epoch 19/20\n",
      "9/9 [==============================] - 0s 992us/step - loss: 7.8494 - mse: 6.2808\n",
      "Epoch 20/20\n",
      "9/9 [==============================] - 0s 1ms/step - loss: 7.7365 - mse: 6.1705\n",
      "5/5 [==============================] - 0s 1ms/step - loss: 7.0945 - mse: 5.5304\n",
      "R2-test -7.094500541687012\n",
      "5/5 [==============================] - 0s 868us/step\n",
      "MSE-test 5.5303557567620425\n",
      "Best params: {'sel__n_features_to_select': 5, 'sel__estimator__learning_rate': 0.2, 'est__output_shape': 1, 'est__nn3': 30, 'est__nn2': 40, 'est__nn1': 50, 'est__nl3': 3, 'est__nl2': 0, 'est__nl1': 1, 'est__lr': 0.01, 'est__l2': 0.0001, 'est__l1': 0.003, 'est__input_shape': 5, 'est__dropout': 0.2, 'est__decay': 1e-09, 'est__act': 'relu'}\n",
      "Selected features: ['act_lab3', 'rt_lab3', 'cer_lab3', 'mean(qc$_lab3)', 'avgtime_lab3']\n"
     ]
    },
    {
     "data": {
      "text/plain": [
       "['act_lab3', 'rt_lab3', 'cer_lab3', 'mean(qc$_lab3)', 'avgtime_lab3']"
      ]
     },
     "execution_count": 27,
     "metadata": {
      "tags": []
     },
     "output_type": "execute_result"
    }
   ],
   "source": [
    "run_process(datalab3, rand_cv)"
   ]
  },
  {
   "cell_type": "code",
   "execution_count": null,
   "metadata": {
    "colab": {
     "base_uri": "https://localhost:8080/"
    },
    "id": "-2PDiuA_AhsV",
    "outputId": "9af76799-cac7-4135-989f-f4ad6ff911b6"
   },
   "outputs": [
    {
     "name": "stdout",
     "output_type": "stream",
     "text": [
      "Fitting 5 folds for each of 10 candidates, totalling 50 fits\n",
      "Epoch 1/20\n",
      "13/13 [==============================] - 1s 1ms/step - loss: 8.2358 - mse: 7.2775\n",
      "Epoch 2/20\n",
      "13/13 [==============================] - 0s 1ms/step - loss: 9.2127 - mse: 8.2549\n",
      "Epoch 3/20\n",
      "13/13 [==============================] - 0s 1ms/step - loss: 7.3077 - mse: 6.3500\n",
      "Epoch 4/20\n",
      "13/13 [==============================] - 0s 1ms/step - loss: 7.1237 - mse: 6.1659\n",
      "Epoch 5/20\n",
      "13/13 [==============================] - 0s 1ms/step - loss: 7.1395 - mse: 6.1818\n",
      "Epoch 6/20\n",
      "13/13 [==============================] - 0s 1ms/step - loss: 6.8770 - mse: 5.9196\n",
      "Epoch 7/20\n",
      "13/13 [==============================] - 0s 1ms/step - loss: 6.6694 - mse: 5.7125\n",
      "Epoch 8/20\n",
      "13/13 [==============================] - 0s 1ms/step - loss: 6.7458 - mse: 5.7895\n",
      "Epoch 9/20\n",
      "13/13 [==============================] - 0s 1ms/step - loss: 7.4749 - mse: 6.5193\n",
      "Epoch 10/20\n",
      "13/13 [==============================] - 0s 1ms/step - loss: 7.1886 - mse: 6.2337\n",
      "Epoch 11/20\n",
      "13/13 [==============================] - 0s 992us/step - loss: 6.3986 - mse: 5.4445\n",
      "Epoch 12/20\n",
      "13/13 [==============================] - 0s 909us/step - loss: 7.4045 - mse: 6.4513\n",
      "Epoch 13/20\n",
      "13/13 [==============================] - 0s 1ms/step - loss: 6.9651 - mse: 6.0127\n",
      "Epoch 14/20\n",
      "13/13 [==============================] - 0s 1ms/step - loss: 6.8796 - mse: 5.9281\n",
      "Epoch 15/20\n",
      "13/13 [==============================] - 0s 1ms/step - loss: 7.3733 - mse: 6.4226\n",
      "Epoch 16/20\n",
      "13/13 [==============================] - 0s 1ms/step - loss: 6.6919 - mse: 5.7422\n",
      "Epoch 17/20\n",
      "13/13 [==============================] - 0s 1ms/step - loss: 6.5897 - mse: 5.6409\n",
      "Epoch 18/20\n",
      "13/13 [==============================] - 0s 1ms/step - loss: 6.3092 - mse: 5.3613\n",
      "Epoch 19/20\n",
      "13/13 [==============================] - 0s 1ms/step - loss: 6.6607 - mse: 5.7137\n",
      "Epoch 20/20\n",
      "13/13 [==============================] - 0s 1ms/step - loss: 7.1170 - mse: 6.1711\n",
      "R2-test-fit: -5.929269555439978\n",
      "Epoch 1/20\n",
      "9/9 [==============================] - 1s 992us/step - loss: 9.7159 - mse: 8.7676\n",
      "Epoch 2/20\n",
      "9/9 [==============================] - 0s 992us/step - loss: 8.9795 - mse: 8.0319\n",
      "Epoch 3/20\n",
      "9/9 [==============================] - 0s 992us/step - loss: 8.7972 - mse: 7.8501\n",
      "Epoch 4/20\n",
      "9/9 [==============================] - 0s 930us/step - loss: 8.0238 - mse: 7.0773\n",
      "Epoch 5/20\n",
      "9/9 [==============================] - 0s 930us/step - loss: 7.6523 - mse: 6.7062\n",
      "Epoch 6/20\n",
      "9/9 [==============================] - 0s 930us/step - loss: 7.7036 - mse: 6.7578\n",
      "Epoch 7/20\n",
      "9/9 [==============================] - 0s 930us/step - loss: 7.8624 - mse: 6.9170\n",
      "Epoch 8/20\n",
      "9/9 [==============================] - 0s 992us/step - loss: 7.3606 - mse: 6.4153\n",
      "Epoch 9/20\n",
      "9/9 [==============================] - 0s 1ms/step - loss: 6.6244 - mse: 5.6795\n",
      "Epoch 10/20\n",
      "9/9 [==============================] - 0s 1ms/step - loss: 6.7528 - mse: 5.8083\n",
      "Epoch 11/20\n",
      "9/9 [==============================] - 0s 1ms/step - loss: 7.0443 - mse: 6.1001\n",
      "Epoch 12/20\n",
      "9/9 [==============================] - 0s 992us/step - loss: 7.4544 - mse: 6.5106\n",
      "Epoch 13/20\n",
      "9/9 [==============================] - 0s 1ms/step - loss: 6.7451 - mse: 5.8017\n",
      "Epoch 14/20\n",
      "9/9 [==============================] - 0s 1ms/step - loss: 7.1795 - mse: 6.2367\n",
      "Epoch 15/20\n",
      "9/9 [==============================] - 0s 1ms/step - loss: 6.9458 - mse: 6.0034\n",
      "Epoch 16/20\n",
      "9/9 [==============================] - 0s 1ms/step - loss: 6.5968 - mse: 5.6550\n",
      "Epoch 17/20\n",
      "9/9 [==============================] - 0s 1ms/step - loss: 7.2269 - mse: 6.2856\n",
      "Epoch 18/20\n",
      "9/9 [==============================] - 0s 1ms/step - loss: 6.4320 - mse: 5.4913\n",
      "Epoch 19/20\n",
      "9/9 [==============================] - 0s 1ms/step - loss: 7.1914 - mse: 6.2513\n",
      "Epoch 20/20\n",
      "9/9 [==============================] - 0s 1ms/step - loss: 7.0125 - mse: 6.0731\n",
      "5/5 [==============================] - 0s 868us/step - loss: 6.7597 - mse: 5.8207\n",
      "R2-test -6.7596755027771\n",
      "5/5 [==============================] - 0s 868us/step\n",
      "MSE-test 5.8206793748908385\n",
      "Best params: {'sel__n_features_to_select': 5, 'sel__estimator__learning_rate': 0.05, 'est__output_shape': 1, 'est__nn3': 30, 'est__nn2': 70, 'est__nn1': 20, 'est__nl3': 2, 'est__nl2': 2, 'est__nl1': 0, 'est__lr': 0.0001, 'est__l2': 0, 'est__l1': 0.001, 'est__input_shape': 5, 'est__dropout': 0.1, 'est__decay': 1e-09, 'est__act': 'relu'}\n",
      "Selected features: ['g_lab3', 'ut_lab3', 'act_lab3', 'actq3_lab3', 'avgtime_lab3']\n"
     ]
    },
    {
     "data": {
      "text/plain": [
       "['g_lab3', 'ut_lab3', 'act_lab3', 'actq3_lab3', 'avgtime_lab3']"
      ]
     },
     "execution_count": 28,
     "metadata": {
      "tags": []
     },
     "output_type": "execute_result"
    }
   ],
   "source": [
    "run_process(datalab3, rand_cv)"
   ]
  },
  {
   "cell_type": "code",
   "execution_count": null,
   "metadata": {
    "colab": {
     "base_uri": "https://localhost:8080/"
    },
    "id": "DhT1NnSQAh8Z",
    "outputId": "943616b8-2714-49e1-e33d-96d253a0f9a4"
   },
   "outputs": [
    {
     "name": "stdout",
     "output_type": "stream",
     "text": [
      "Fitting 5 folds for each of 10 candidates, totalling 50 fits\n",
      "Epoch 1/20\n",
      "13/13 [==============================] - 1s 951us/step - loss: 7.5350 - mse: 7.4948\n",
      "Epoch 2/20\n",
      "13/13 [==============================] - 0s 909us/step - loss: 6.6870 - mse: 6.6468\n",
      "Epoch 3/20\n",
      "13/13 [==============================] - 0s 868us/step - loss: 6.6275 - mse: 6.5872\n",
      "Epoch 4/20\n",
      "13/13 [==============================] - 0s 992us/step - loss: 6.0386 - mse: 5.9984\n",
      "Epoch 5/20\n",
      "13/13 [==============================] - 0s 951us/step - loss: 5.7779 - mse: 5.7377\n",
      "Epoch 6/20\n",
      "13/13 [==============================] - 0s 910us/step - loss: 6.1536 - mse: 6.1134\n",
      "Epoch 7/20\n",
      "13/13 [==============================] - 0s 868us/step - loss: 5.9528 - mse: 5.9126\n",
      "Epoch 8/20\n",
      "13/13 [==============================] - 0s 951us/step - loss: 6.0097 - mse: 5.9695\n",
      "Epoch 9/20\n",
      "13/13 [==============================] - 0s 953us/step - loss: 6.3375 - mse: 6.2973\n",
      "Epoch 10/20\n",
      "13/13 [==============================] - 0s 953us/step - loss: 5.7568 - mse: 5.7166\n",
      "Epoch 11/20\n",
      "13/13 [==============================] - 0s 951us/step - loss: 5.7868 - mse: 5.7466\n",
      "Epoch 12/20\n",
      "13/13 [==============================] - 0s 868us/step - loss: 5.6251 - mse: 5.5849\n",
      "Epoch 13/20\n",
      "13/13 [==============================] - 0s 868us/step - loss: 6.5733 - mse: 6.5331\n",
      "Epoch 14/20\n",
      "13/13 [==============================] - 0s 829us/step - loss: 6.2089 - mse: 6.1686\n",
      "Epoch 15/20\n",
      "13/13 [==============================] - 0s 868us/step - loss: 5.9032 - mse: 5.8629\n",
      "Epoch 16/20\n",
      "13/13 [==============================] - 0s 868us/step - loss: 6.0567 - mse: 6.0165\n",
      "Epoch 17/20\n",
      "13/13 [==============================] - 0s 992us/step - loss: 6.2086 - mse: 6.1684\n",
      "Epoch 18/20\n",
      "13/13 [==============================] - 0s 868us/step - loss: 5.6151 - mse: 5.5749\n",
      "Epoch 19/20\n",
      "13/13 [==============================] - 0s 868us/step - loss: 5.8848 - mse: 5.8446\n",
      "Epoch 20/20\n",
      "13/13 [==============================] - 0s 868us/step - loss: 6.0412 - mse: 6.0010\n",
      "R2-test-fit: -5.9224593840366655\n",
      "Epoch 1/20\n",
      "9/9 [==============================] - 0s 1ms/step - loss: 8.7883 - mse: 8.7473\n",
      "Epoch 2/20\n",
      "9/9 [==============================] - 0s 806us/step - loss: 7.9045 - mse: 7.8635\n",
      "Epoch 3/20\n",
      "9/9 [==============================] - 0s 868us/step - loss: 6.1574 - mse: 6.1164\n",
      "Epoch 4/20\n",
      "9/9 [==============================] - 0s 868us/step - loss: 5.5139 - mse: 5.4730\n",
      "Epoch 5/20\n",
      "9/9 [==============================] - 0s 868us/step - loss: 6.6127 - mse: 6.5718\n",
      "Epoch 6/20\n",
      "9/9 [==============================] - 0s 875us/step - loss: 6.0100 - mse: 5.9691\n",
      "Epoch 7/20\n",
      "9/9 [==============================] - 0s 992us/step - loss: 5.4402 - mse: 5.3993\n",
      "Epoch 8/20\n",
      "9/9 [==============================] - 0s 872us/step - loss: 5.2812 - mse: 5.2403\n",
      "Epoch 9/20\n",
      "9/9 [==============================] - 0s 868us/step - loss: 5.3820 - mse: 5.3411\n",
      "Epoch 10/20\n",
      "9/9 [==============================] - 0s 868us/step - loss: 5.0693 - mse: 5.0284\n",
      "Epoch 11/20\n",
      "9/9 [==============================] - 0s 868us/step - loss: 5.3719 - mse: 5.3310\n",
      "Epoch 12/20\n",
      "9/9 [==============================] - 0s 806us/step - loss: 5.9132 - mse: 5.8723\n",
      "Epoch 13/20\n",
      "9/9 [==============================] - 0s 934us/step - loss: 5.7626 - mse: 5.7218\n",
      "Epoch 14/20\n",
      "9/9 [==============================] - 0s 806us/step - loss: 4.8116 - mse: 4.7707\n",
      "Epoch 15/20\n",
      "9/9 [==============================] - 0s 806us/step - loss: 5.3082 - mse: 5.2674\n",
      "Epoch 16/20\n",
      "9/9 [==============================] - 0s 868us/step - loss: 5.6099 - mse: 5.5690\n",
      "Epoch 17/20\n",
      "9/9 [==============================] - 0s 992us/step - loss: 4.9472 - mse: 4.9064\n",
      "Epoch 18/20\n",
      "9/9 [==============================] - 0s 1ms/step - loss: 5.6704 - mse: 5.6295\n",
      "Epoch 19/20\n",
      "9/9 [==============================] - 0s 1ms/step - loss: 5.1962 - mse: 5.1553\n",
      "Epoch 20/20\n",
      "9/9 [==============================] - 0s 2ms/step - loss: 5.3157 - mse: 5.2749\n",
      "5/5 [==============================] - 0s 867us/step - loss: 6.9430 - mse: 6.9021\n",
      "R2-test -6.94298791885376\n",
      "5/5 [==============================] - 0s 744us/step\n",
      "MSE-test 6.90213427440068\n",
      "Best params: {'sel__n_features_to_select': 5, 'sel__estimator__learning_rate': 0.2, 'est__output_shape': 1, 'est__nn3': 15, 'est__nn2': 40, 'est__nn1': 50, 'est__nl3': 0, 'est__nl2': 0, 'est__nl1': 2, 'est__lr': 0.0001, 'est__l2': 0.0001, 'est__l1': 0.0001, 'est__input_shape': 5, 'est__dropout': 0.3, 'est__decay': 0, 'est__act': 'sigmoid'}\n",
      "Selected features: ['ut_lab3', 'act_lab3', 'rt_lab3', 'actq1_lab3', 'sum(qat$_lab3)']\n"
     ]
    },
    {
     "data": {
      "text/plain": [
       "['ut_lab3', 'act_lab3', 'rt_lab3', 'actq1_lab3', 'sum(qat$_lab3)']"
      ]
     },
     "execution_count": 29,
     "metadata": {
      "tags": []
     },
     "output_type": "execute_result"
    }
   ],
   "source": [
    "run_process(datalab3, rand_cv)"
   ]
  },
  {
   "cell_type": "code",
   "execution_count": null,
   "metadata": {
    "colab": {
     "base_uri": "https://localhost:8080/"
    },
    "id": "gWbLfrZMAidv",
    "outputId": "d87dd68d-aa83-44d4-b433-262650237c31"
   },
   "outputs": [
    {
     "name": "stdout",
     "output_type": "stream",
     "text": [
      "Fitting 5 folds for each of 10 candidates, totalling 50 fits\n",
      "Epoch 1/20\n",
      "13/13 [==============================] - 1s 1ms/step - loss: 9.0973 - mse: 9.0632\n",
      "Epoch 2/20\n",
      "13/13 [==============================] - 0s 1ms/step - loss: 7.6704 - mse: 7.6363\n",
      "Epoch 3/20\n",
      "13/13 [==============================] - 0s 1ms/step - loss: 7.3309 - mse: 7.2968\n",
      "Epoch 4/20\n",
      "13/13 [==============================] - 0s 1ms/step - loss: 7.0885 - mse: 7.0544\n",
      "Epoch 5/20\n",
      "13/13 [==============================] - 0s 1ms/step - loss: 7.5392 - mse: 7.5051\n",
      "Epoch 6/20\n",
      "13/13 [==============================] - 0s 1ms/step - loss: 6.9255 - mse: 6.8914\n",
      "Epoch 7/20\n",
      "13/13 [==============================] - 0s 1ms/step - loss: 6.4744 - mse: 6.4403\n",
      "Epoch 8/20\n",
      "13/13 [==============================] - 0s 1ms/step - loss: 6.0471 - mse: 6.0130\n",
      "Epoch 9/20\n",
      "13/13 [==============================] - 0s 1ms/step - loss: 6.5862 - mse: 6.5520\n",
      "Epoch 10/20\n",
      "13/13 [==============================] - 0s 1ms/step - loss: 6.2509 - mse: 6.2167\n",
      "Epoch 11/20\n",
      "13/13 [==============================] - 0s 1ms/step - loss: 6.5577 - mse: 6.5235\n",
      "Epoch 12/20\n",
      "13/13 [==============================] - 0s 1ms/step - loss: 6.4274 - mse: 6.3932\n",
      "Epoch 13/20\n",
      "13/13 [==============================] - 0s 1ms/step - loss: 6.3062 - mse: 6.2720\n",
      "Epoch 14/20\n",
      "13/13 [==============================] - 0s 1ms/step - loss: 5.6668 - mse: 5.6325\n",
      "Epoch 15/20\n",
      "13/13 [==============================] - 0s 1ms/step - loss: 6.4757 - mse: 6.4415\n",
      "Epoch 16/20\n",
      "13/13 [==============================] - 0s 1ms/step - loss: 5.6836 - mse: 5.6494\n",
      "Epoch 17/20\n",
      "13/13 [==============================] - 0s 1ms/step - loss: 5.4633 - mse: 5.4291\n",
      "Epoch 18/20\n",
      "13/13 [==============================] - 0s 1ms/step - loss: 5.9996 - mse: 5.9653\n",
      "Epoch 19/20\n",
      "13/13 [==============================] - 0s 1ms/step - loss: 5.7226 - mse: 5.6884\n",
      "Epoch 20/20\n",
      "13/13 [==============================] - 0s 1ms/step - loss: 6.3043 - mse: 6.2700\n",
      "R2-test-fit: -5.9040772714912\n",
      "Epoch 1/20\n",
      "9/9 [==============================] - 1s 1ms/step - loss: 7.6838 - mse: 7.6494\n",
      "Epoch 2/20\n",
      "9/9 [==============================] - 0s 1ms/step - loss: 7.9290 - mse: 7.8946\n",
      "Epoch 3/20\n",
      "9/9 [==============================] - 0s 1ms/step - loss: 6.6702 - mse: 6.6358\n",
      "Epoch 4/20\n",
      "9/9 [==============================] - 0s 1ms/step - loss: 7.5039 - mse: 7.4695\n",
      "Epoch 5/20\n",
      "9/9 [==============================] - 0s 1ms/step - loss: 6.6491 - mse: 6.6146\n",
      "Epoch 6/20\n",
      "9/9 [==============================] - 0s 1ms/step - loss: 6.2855 - mse: 6.2510\n",
      "Epoch 7/20\n",
      "9/9 [==============================] - 0s 1ms/step - loss: 6.1660 - mse: 6.1316\n",
      "Epoch 8/20\n",
      "9/9 [==============================] - 0s 1ms/step - loss: 6.3678 - mse: 6.3333\n",
      "Epoch 9/20\n",
      "9/9 [==============================] - 0s 1ms/step - loss: 5.9894 - mse: 5.9549\n",
      "Epoch 10/20\n",
      "9/9 [==============================] - 0s 1ms/step - loss: 6.4211 - mse: 6.3866\n",
      "Epoch 11/20\n",
      "9/9 [==============================] - 0s 1ms/step - loss: 6.3117 - mse: 6.2772\n",
      "Epoch 12/20\n",
      "9/9 [==============================] - 0s 1ms/step - loss: 6.0170 - mse: 5.9824\n",
      "Epoch 13/20\n",
      "9/9 [==============================] - 0s 1ms/step - loss: 5.9807 - mse: 5.9462\n",
      "Epoch 14/20\n",
      "9/9 [==============================] - 0s 1ms/step - loss: 5.8085 - mse: 5.7739\n",
      "Epoch 15/20\n",
      "9/9 [==============================] - 0s 1ms/step - loss: 6.0426 - mse: 6.0080\n",
      "Epoch 16/20\n",
      "9/9 [==============================] - 0s 1ms/step - loss: 6.2848 - mse: 6.2502\n",
      "Epoch 17/20\n",
      "9/9 [==============================] - 0s 1ms/step - loss: 5.4089 - mse: 5.3743\n",
      "Epoch 18/20\n",
      "9/9 [==============================] - 0s 1ms/step - loss: 5.7828 - mse: 5.7482\n",
      "Epoch 19/20\n",
      "9/9 [==============================] - 0s 1ms/step - loss: 6.2029 - mse: 6.1683\n",
      "Epoch 20/20\n",
      "9/9 [==============================] - 0s 1ms/step - loss: 6.1473 - mse: 6.1127\n",
      "5/5 [==============================] - 0s 992us/step - loss: 5.8575 - mse: 5.8229\n",
      "R2-test -5.857508182525635\n",
      "5/5 [==============================] - 0s 744us/step\n",
      "MSE-test 5.822901760813015\n",
      "Best params: {'sel__n_features_to_select': 5, 'sel__estimator__learning_rate': 0.1, 'est__output_shape': 1, 'est__nn3': 15, 'est__nn2': 40, 'est__nn1': 100, 'est__nl3': 2, 'est__nl2': 2, 'est__nl1': 3, 'est__lr': 0.01, 'est__l2': 0.0001, 'est__l1': 0, 'est__input_shape': 5, 'est__dropout': 0.2, 'est__decay': 1e-09, 'est__act': 'relu'}\n",
      "Selected features: ['ut_lab3', 'act_lab3', 'rt_lab3', 'actq1_lab3', 'actq3_lab3']\n"
     ]
    },
    {
     "data": {
      "text/plain": [
       "['ut_lab3', 'act_lab3', 'rt_lab3', 'actq1_lab3', 'actq3_lab3']"
      ]
     },
     "execution_count": 30,
     "metadata": {
      "tags": []
     },
     "output_type": "execute_result"
    }
   ],
   "source": [
    "run_process(datalab3, rand_cv)"
   ]
  },
  {
   "cell_type": "code",
   "execution_count": null,
   "metadata": {
    "colab": {
     "base_uri": "https://localhost:8080/"
    },
    "id": "mMmFelAmAiju",
    "outputId": "6063b487-56c4-42d8-c1c1-22fbb048c282"
   },
   "outputs": [
    {
     "name": "stdout",
     "output_type": "stream",
     "text": [
      "Fitting 5 folds for each of 10 candidates, totalling 50 fits\n",
      "Epoch 1/20\n",
      "13/13 [==============================] - 1s 1ms/step - loss: 7.4865 - mse: 7.4113\n",
      "Epoch 2/20\n",
      "13/13 [==============================] - 0s 1ms/step - loss: 6.5437 - mse: 6.4684\n",
      "Epoch 3/20\n",
      "13/13 [==============================] - 0s 951us/step - loss: 6.8114 - mse: 6.7360\n",
      "Epoch 4/20\n",
      "13/13 [==============================] - 0s 1ms/step - loss: 6.7508 - mse: 6.6752\n",
      "Epoch 5/20\n",
      "13/13 [==============================] - 0s 951us/step - loss: 6.0499 - mse: 5.9744\n",
      "Epoch 6/20\n",
      "13/13 [==============================] - 0s 909us/step - loss: 6.4969 - mse: 6.4212\n",
      "Epoch 7/20\n",
      "13/13 [==============================] - 0s 951us/step - loss: 6.2912 - mse: 6.2155\n",
      "Epoch 8/20\n",
      "13/13 [==============================] - 0s 909us/step - loss: 5.8991 - mse: 5.8233\n",
      "Epoch 9/20\n",
      "13/13 [==============================] - 0s 992us/step - loss: 6.2640 - mse: 6.1882\n",
      "Epoch 10/20\n",
      "13/13 [==============================] - 0s 951us/step - loss: 6.1726 - mse: 6.0968\n",
      "Epoch 11/20\n",
      "13/13 [==============================] - 0s 909us/step - loss: 6.2202 - mse: 6.1443\n",
      "Epoch 12/20\n",
      "13/13 [==============================] - 0s 951us/step - loss: 6.7422 - mse: 6.6663\n",
      "Epoch 13/20\n",
      "13/13 [==============================] - 0s 1ms/step - loss: 6.1703 - mse: 6.0944\n",
      "Epoch 14/20\n",
      "13/13 [==============================] - 0s 1ms/step - loss: 5.9950 - mse: 5.9190\n",
      "Epoch 15/20\n",
      "13/13 [==============================] - 0s 1ms/step - loss: 6.3884 - mse: 6.3125\n",
      "Epoch 16/20\n",
      "13/13 [==============================] - 0s 1ms/step - loss: 6.1036 - mse: 6.0276\n",
      "Epoch 17/20\n",
      "13/13 [==============================] - 0s 1ms/step - loss: 6.4272 - mse: 6.3512\n",
      "Epoch 18/20\n",
      "13/13 [==============================] - 0s 1ms/step - loss: 5.7218 - mse: 5.6459\n",
      "Epoch 19/20\n",
      "13/13 [==============================] - 0s 1ms/step - loss: 5.9477 - mse: 5.8717\n",
      "Epoch 20/20\n",
      "13/13 [==============================] - 0s 1ms/step - loss: 5.9550 - mse: 5.8791\n",
      "R2-test-fit: -5.929092788896574\n",
      "Epoch 1/20\n",
      "9/9 [==============================] - 1s 1ms/step - loss: 8.7919 - mse: 8.7152\n",
      "Epoch 2/20\n",
      "9/9 [==============================] - 0s 1ms/step - loss: 6.9181 - mse: 6.8415\n",
      "Epoch 3/20\n",
      "9/9 [==============================] - 0s 1ms/step - loss: 7.4176 - mse: 7.3409\n",
      "Epoch 4/20\n",
      "9/9 [==============================] - 0s 1ms/step - loss: 6.7949 - mse: 6.7181\n",
      "Epoch 5/20\n",
      "9/9 [==============================] - 0s 1ms/step - loss: 6.3444 - mse: 6.2675\n",
      "Epoch 6/20\n",
      "9/9 [==============================] - 0s 1ms/step - loss: 6.0213 - mse: 5.9444\n",
      "Epoch 7/20\n",
      "9/9 [==============================] - 0s 1ms/step - loss: 6.3077 - mse: 6.2307\n",
      "Epoch 8/20\n",
      "9/9 [==============================] - 0s 1ms/step - loss: 6.1629 - mse: 6.0858\n",
      "Epoch 9/20\n",
      "9/9 [==============================] - 0s 1ms/step - loss: 5.9384 - mse: 5.8613\n",
      "Epoch 10/20\n",
      "9/9 [==============================] - 0s 1ms/step - loss: 6.1681 - mse: 6.0910\n",
      "Epoch 11/20\n",
      "9/9 [==============================] - 0s 1ms/step - loss: 5.9304 - mse: 5.8533\n",
      "Epoch 12/20\n",
      "9/9 [==============================] - 0s 1ms/step - loss: 5.8179 - mse: 5.7407\n",
      "Epoch 13/20\n",
      "9/9 [==============================] - 0s 1ms/step - loss: 6.1059 - mse: 6.0287\n",
      "Epoch 14/20\n",
      "9/9 [==============================] - 0s 1ms/step - loss: 5.3468 - mse: 5.2696\n",
      "Epoch 15/20\n",
      "9/9 [==============================] - 0s 1ms/step - loss: 6.5035 - mse: 6.4263\n",
      "Epoch 16/20\n",
      "9/9 [==============================] - 0s 1ms/step - loss: 5.5084 - mse: 5.4311\n",
      "Epoch 17/20\n",
      "9/9 [==============================] - 0s 1ms/step - loss: 6.0615 - mse: 5.9842\n",
      "Epoch 18/20\n",
      "9/9 [==============================] - 0s 1ms/step - loss: 6.1404 - mse: 6.0631\n",
      "Epoch 19/20\n",
      "9/9 [==============================] - 0s 992us/step - loss: 6.0753 - mse: 5.9980\n",
      "Epoch 20/20\n",
      "9/9 [==============================] - 0s 1ms/step - loss: 5.5252 - mse: 5.4479\n",
      "5/5 [==============================] - 0s 868us/step - loss: 6.5196 - mse: 6.4422\n",
      "R2-test -6.519593715667725\n",
      "5/5 [==============================] - 0s 745us/step\n",
      "MSE-test 6.442246311845945\n",
      "Best params: {'sel__n_features_to_select': 5, 'sel__estimator__learning_rate': 0.1, 'est__output_shape': 1, 'est__nn3': 15, 'est__nn2': 40, 'est__nn1': 50, 'est__nl3': 0, 'est__nl2': 0, 'est__nl1': 3, 'est__lr': 0.001, 'est__l2': 0.0001, 'est__l1': 0.0001, 'est__input_shape': 5, 'est__dropout': 0.3, 'est__decay': 1e-06, 'est__act': 'relu'}\n",
      "Selected features: ['ut_lab3', 'rt_lab3', 'cer_lab3', 'actq2_lab3', 'avgtime_lab3']\n"
     ]
    },
    {
     "data": {
      "text/plain": [
       "['ut_lab3', 'rt_lab3', 'cer_lab3', 'actq2_lab3', 'avgtime_lab3']"
      ]
     },
     "execution_count": 31,
     "metadata": {
      "tags": []
     },
     "output_type": "execute_result"
    }
   ],
   "source": [
    "run_process(datalab3, rand_cv)"
   ]
  },
  {
   "cell_type": "code",
   "execution_count": null,
   "metadata": {
    "colab": {
     "base_uri": "https://localhost:8080/"
    },
    "id": "845qPM5bAipt",
    "outputId": "a21f8714-a078-468e-8563-4fcbb0aa41ba"
   },
   "outputs": [
    {
     "name": "stdout",
     "output_type": "stream",
     "text": [
      "Fitting 5 folds for each of 10 candidates, totalling 50 fits\n",
      "Epoch 1/20\n",
      "13/13 [==============================] - 1s 1ms/step - loss: 8.8261 - mse: 8.5529\n",
      "Epoch 2/20\n",
      "13/13 [==============================] - 0s 1ms/step - loss: 7.7783 - mse: 7.5051\n",
      "Epoch 3/20\n",
      "13/13 [==============================] - 0s 1ms/step - loss: 6.8972 - mse: 6.6238\n",
      "Epoch 4/20\n",
      "13/13 [==============================] - 0s 1ms/step - loss: 6.3770 - mse: 6.1036\n",
      "Epoch 5/20\n",
      "13/13 [==============================] - 0s 1ms/step - loss: 6.0644 - mse: 5.7908\n",
      "Epoch 6/20\n",
      "13/13 [==============================] - 0s 1ms/step - loss: 6.0930 - mse: 5.8193\n",
      "Epoch 7/20\n",
      "13/13 [==============================] - 0s 1ms/step - loss: 6.8745 - mse: 6.6008\n",
      "Epoch 8/20\n",
      "13/13 [==============================] - 0s 1ms/step - loss: 6.0359 - mse: 5.7622\n",
      "Epoch 9/20\n",
      "13/13 [==============================] - 0s 1ms/step - loss: 6.0238 - mse: 5.7501\n",
      "Epoch 10/20\n",
      "13/13 [==============================] - 0s 1ms/step - loss: 6.3791 - mse: 6.1054\n",
      "Epoch 11/20\n",
      "13/13 [==============================] - 0s 1ms/step - loss: 5.9103 - mse: 5.6366\n",
      "Epoch 12/20\n",
      "13/13 [==============================] - 0s 1ms/step - loss: 6.0595 - mse: 5.7858\n",
      "Epoch 13/20\n",
      "13/13 [==============================] - 0s 1ms/step - loss: 6.2505 - mse: 5.9768\n",
      "Epoch 14/20\n",
      "13/13 [==============================] - 0s 1ms/step - loss: 6.3717 - mse: 6.0981\n",
      "Epoch 15/20\n",
      "13/13 [==============================] - 0s 1ms/step - loss: 6.4681 - mse: 6.1945\n",
      "Epoch 16/20\n",
      "13/13 [==============================] - 0s 1ms/step - loss: 6.4417 - mse: 6.1680\n",
      "Epoch 17/20\n",
      "13/13 [==============================] - 0s 1ms/step - loss: 6.4498 - mse: 6.1762\n",
      "Epoch 18/20\n",
      "13/13 [==============================] - 0s 1ms/step - loss: 6.4145 - mse: 6.1409\n",
      "Epoch 19/20\n",
      "13/13 [==============================] - 0s 1ms/step - loss: 6.1373 - mse: 5.8638\n",
      "Epoch 20/20\n",
      "13/13 [==============================] - 0s 1ms/step - loss: 5.7481 - mse: 5.4746\n",
      "R2-test-fit: -5.9184795171642115\n",
      "Epoch 1/20\n",
      "9/9 [==============================] - 1s 1ms/step - loss: 8.1811 - mse: 7.9079\n",
      "Epoch 2/20\n",
      "9/9 [==============================] - 0s 1ms/step - loss: 8.4175 - mse: 8.1443\n",
      "Epoch 3/20\n",
      "9/9 [==============================] - 0s 1ms/step - loss: 7.5848 - mse: 7.3115\n",
      "Epoch 4/20\n",
      "9/9 [==============================] - 0s 1ms/step - loss: 7.3604 - mse: 7.0870\n",
      "Epoch 5/20\n",
      "9/9 [==============================] - 0s 1ms/step - loss: 6.8987 - mse: 6.6252\n",
      "Epoch 6/20\n",
      "9/9 [==============================] - 0s 1ms/step - loss: 8.3241 - mse: 8.0506\n",
      "Epoch 7/20\n",
      "9/9 [==============================] - 0s 1ms/step - loss: 6.7205 - mse: 6.4469\n",
      "Epoch 8/20\n",
      "9/9 [==============================] - 0s 2ms/step - loss: 6.6917 - mse: 6.4180\n",
      "Epoch 9/20\n",
      "9/9 [==============================] - 0s 2ms/step - loss: 5.9332 - mse: 5.6595\n",
      "Epoch 10/20\n",
      "9/9 [==============================] - 0s 2ms/step - loss: 6.7406 - mse: 6.4668\n",
      "Epoch 11/20\n",
      "9/9 [==============================] - 0s 2ms/step - loss: 6.5272 - mse: 6.2533\n",
      "Epoch 12/20\n",
      "9/9 [==============================] - 0s 2ms/step - loss: 6.5608 - mse: 6.2870\n",
      "Epoch 13/20\n",
      "9/9 [==============================] - 0s 2ms/step - loss: 6.4602 - mse: 6.1863\n",
      "Epoch 14/20\n",
      "9/9 [==============================] - 0s 1ms/step - loss: 7.2781 - mse: 7.0042\n",
      "Epoch 15/20\n",
      "9/9 [==============================] - 0s 2ms/step - loss: 6.3805 - mse: 6.1066\n",
      "Epoch 16/20\n",
      "9/9 [==============================] - 0s 2ms/step - loss: 6.1559 - mse: 5.8820\n",
      "Epoch 17/20\n",
      "9/9 [==============================] - 0s 1ms/step - loss: 5.9541 - mse: 5.6803\n",
      "Epoch 18/20\n",
      "9/9 [==============================] - 0s 1ms/step - loss: 6.4791 - mse: 6.2053\n",
      "Epoch 19/20\n",
      "9/9 [==============================] - 0s 2ms/step - loss: 6.7906 - mse: 6.5167\n",
      "Epoch 20/20\n",
      "9/9 [==============================] - 0s 2ms/step - loss: 7.0037 - mse: 6.7299\n",
      "5/5 [==============================] - 0s 860us/step - loss: 5.7301 - mse: 5.4563\n",
      "R2-test -5.730086803436279\n",
      "5/5 [==============================] - 0s 868us/step\n",
      "MSE-test 5.456266632447529\n",
      "Best params: {'sel__n_features_to_select': 5, 'sel__estimator__learning_rate': 0.2, 'est__output_shape': 1, 'est__nn3': 5, 'est__nn2': 40, 'est__nn1': 100, 'est__nl3': 0, 'est__nl2': 2, 'est__nl1': 3, 'est__lr': 0.0001, 'est__l2': 0.0001, 'est__l1': 0.0001, 'est__input_shape': 5, 'est__dropout': 0.1, 'est__decay': 1e-09, 'est__act': 'relu'}\n",
      "Selected features: ['ut_lab3', 'rt_lab3', 'cer_lab3', 'actq1_lab3', 'mean(qact$_lab3)']\n"
     ]
    },
    {
     "data": {
      "text/plain": [
       "['ut_lab3', 'rt_lab3', 'cer_lab3', 'actq1_lab3', 'mean(qact$_lab3)']"
      ]
     },
     "execution_count": 32,
     "metadata": {
      "tags": []
     },
     "output_type": "execute_result"
    }
   ],
   "source": [
    "run_process(datalab3, rand_cv)"
   ]
  },
  {
   "cell_type": "code",
   "execution_count": null,
   "metadata": {
    "colab": {
     "base_uri": "https://localhost:8080/"
    },
    "id": "DdYHDEUxAiwG",
    "outputId": "0abeee2e-6c27-470e-ff1e-e7814cc3729f"
   },
   "outputs": [
    {
     "name": "stdout",
     "output_type": "stream",
     "text": [
      "Fitting 5 folds for each of 10 candidates, totalling 50 fits\n",
      "Epoch 1/20\n",
      "13/13 [==============================] - 1s 1ms/step - loss: 9.2023 - mse: 7.5769\n",
      "Epoch 2/20\n",
      "13/13 [==============================] - 0s 1ms/step - loss: 9.3435 - mse: 7.7196\n",
      "Epoch 3/20\n",
      "13/13 [==============================] - 0s 1ms/step - loss: 8.2195 - mse: 6.5967\n",
      "Epoch 4/20\n",
      "13/13 [==============================] - 0s 1ms/step - loss: 8.0212 - mse: 6.3995\n",
      "Epoch 5/20\n",
      "13/13 [==============================] - 0s 1ms/step - loss: 8.1078 - mse: 6.4870\n",
      "Epoch 6/20\n",
      "13/13 [==============================] - 0s 1ms/step - loss: 8.3410 - mse: 6.7214\n",
      "Epoch 7/20\n",
      "13/13 [==============================] - 0s 1ms/step - loss: 7.9257 - mse: 6.3074\n",
      "Epoch 8/20\n",
      "13/13 [==============================] - 0s 1ms/step - loss: 7.6742 - mse: 6.0572\n",
      "Epoch 9/20\n",
      "13/13 [==============================] - 0s 1ms/step - loss: 7.7268 - mse: 6.1113\n",
      "Epoch 10/20\n",
      "13/13 [==============================] - 0s 1ms/step - loss: 7.6806 - mse: 6.0667\n",
      "Epoch 11/20\n",
      "13/13 [==============================] - 0s 1ms/step - loss: 7.3375 - mse: 5.7251\n",
      "Epoch 12/20\n",
      "13/13 [==============================] - 0s 1ms/step - loss: 7.6639 - mse: 6.0531\n",
      "Epoch 13/20\n",
      "13/13 [==============================] - 0s 1ms/step - loss: 7.8814 - mse: 6.2722\n",
      "Epoch 14/20\n",
      "13/13 [==============================] - 0s 1ms/step - loss: 8.1488 - mse: 6.5413\n",
      "Epoch 15/20\n",
      "13/13 [==============================] - 0s 1ms/step - loss: 7.2933 - mse: 5.6875\n",
      "Epoch 16/20\n",
      "13/13 [==============================] - 0s 1ms/step - loss: 7.6407 - mse: 6.0366\n",
      "Epoch 17/20\n",
      "13/13 [==============================] - 0s 1ms/step - loss: 8.4810 - mse: 6.8786\n",
      "Epoch 18/20\n",
      "13/13 [==============================] - 0s 1ms/step - loss: 7.1449 - mse: 5.5442\n",
      "Epoch 19/20\n",
      "13/13 [==============================] - 0s 1ms/step - loss: 6.7153 - mse: 5.1164\n",
      "Epoch 20/20\n",
      "13/13 [==============================] - 0s 1ms/step - loss: 7.2105 - mse: 5.6133\n",
      "R2-test-fit: -5.9203510092908065\n",
      "Epoch 1/20\n",
      "9/9 [==============================] - 1s 1ms/step - loss: 8.0252 - mse: 6.4007\n",
      "Epoch 2/20\n",
      "9/9 [==============================] - 0s 1ms/step - loss: 8.0106 - mse: 6.3866\n",
      "Epoch 3/20\n",
      "9/9 [==============================] - 0s 1ms/step - loss: 8.3445 - mse: 6.7207\n",
      "Epoch 4/20\n",
      "9/9 [==============================] - 0s 1ms/step - loss: 7.1289 - mse: 5.5054\n",
      "Epoch 5/20\n",
      "9/9 [==============================] - 0s 1ms/step - loss: 7.8405 - mse: 6.2173\n",
      "Epoch 6/20\n",
      "9/9 [==============================] - 0s 1ms/step - loss: 7.4398 - mse: 5.8172\n",
      "Epoch 7/20\n",
      "9/9 [==============================] - 0s 1ms/step - loss: 7.5566 - mse: 5.9347\n",
      "Epoch 8/20\n",
      "9/9 [==============================] - 0s 1ms/step - loss: 7.5164 - mse: 5.8952\n",
      "Epoch 9/20\n",
      "9/9 [==============================] - 0s 1ms/step - loss: 7.3830 - mse: 5.7627\n",
      "Epoch 10/20\n",
      "9/9 [==============================] - 0s 1ms/step - loss: 7.7227 - mse: 6.1033\n",
      "Epoch 11/20\n",
      "9/9 [==============================] - 0s 1ms/step - loss: 7.3246 - mse: 5.7062\n",
      "Epoch 12/20\n",
      "9/9 [==============================] - 0s 1ms/step - loss: 7.5691 - mse: 5.9517\n",
      "Epoch 13/20\n",
      "9/9 [==============================] - 0s 1ms/step - loss: 7.7721 - mse: 6.1558\n",
      "Epoch 14/20\n",
      "9/9 [==============================] - 0s 1ms/step - loss: 7.6369 - mse: 6.0216\n",
      "Epoch 15/20\n",
      "9/9 [==============================] - 0s 1ms/step - loss: 6.8429 - mse: 5.2287\n",
      "Epoch 16/20\n",
      "9/9 [==============================] - 0s 1ms/step - loss: 6.7945 - mse: 5.1814\n",
      "Epoch 17/20\n",
      "9/9 [==============================] - 0s 1ms/step - loss: 7.9274 - mse: 6.3155\n",
      "Epoch 18/20\n",
      "9/9 [==============================] - 0s 1ms/step - loss: 7.7284 - mse: 6.1176\n",
      "Epoch 19/20\n",
      "9/9 [==============================] - 0s 1ms/step - loss: 7.1970 - mse: 5.5873\n",
      "Epoch 20/20\n",
      "9/9 [==============================] - 0s 1ms/step - loss: 7.7336 - mse: 6.1251\n",
      "5/5 [==============================] - 0s 984us/step - loss: 7.9797 - mse: 6.3722\n",
      "R2-test -7.979729175567627\n",
      "5/5 [==============================] - 0s 868us/step\n",
      "MSE-test 6.372183181067639\n",
      "Best params: {'sel__n_features_to_select': 5, 'sel__estimator__learning_rate': 0.1, 'est__output_shape': 1, 'est__nn3': 30, 'est__nn2': 70, 'est__nn1': 50, 'est__nl3': 3, 'est__nl2': 3, 'est__nl1': 0, 'est__lr': 0.01, 'est__l2': 0.0001, 'est__l1': 0.001, 'est__input_shape': 5, 'est__dropout': 0.3, 'est__decay': 0, 'est__act': 'relu'}\n",
      "Selected features: ['g_lab3', 'ut_lab3', 'act_lab3', 'rtr_lab3', 'actq1_lab3']\n"
     ]
    },
    {
     "data": {
      "text/plain": [
       "['g_lab3', 'ut_lab3', 'act_lab3', 'rtr_lab3', 'actq1_lab3']"
      ]
     },
     "execution_count": 33,
     "metadata": {
      "tags": []
     },
     "output_type": "execute_result"
    }
   ],
   "source": [
    "run_process(datalab3, rand_cv)"
   ]
  },
  {
   "cell_type": "code",
   "execution_count": null,
   "metadata": {
    "colab": {
     "base_uri": "https://localhost:8080/"
    },
    "id": "GRJnDqxzAi3K",
    "outputId": "a50b77e4-7449-41b0-9794-fb745ddc3621"
   },
   "outputs": [
    {
     "name": "stdout",
     "output_type": "stream",
     "text": [
      "Fitting 5 folds for each of 10 candidates, totalling 50 fits\n",
      "Epoch 1/20\n",
      "13/13 [==============================] - 1s 1ms/step - loss: 7.5737 - mse: 7.5096\n",
      "Epoch 2/20\n",
      "13/13 [==============================] - 0s 1ms/step - loss: 6.6554 - mse: 6.5913\n",
      "Epoch 3/20\n",
      "13/13 [==============================] - 0s 992us/step - loss: 5.8053 - mse: 5.7412\n",
      "Epoch 4/20\n",
      "13/13 [==============================] - 0s 951us/step - loss: 5.8321 - mse: 5.7680\n",
      "Epoch 5/20\n",
      "13/13 [==============================] - 0s 909us/step - loss: 5.7333 - mse: 5.6692\n",
      "Epoch 6/20\n",
      "13/13 [==============================] - 0s 909us/step - loss: 6.2460 - mse: 6.1819\n",
      "Epoch 7/20\n",
      "13/13 [==============================] - 0s 909us/step - loss: 6.2375 - mse: 6.1734\n",
      "Epoch 8/20\n",
      "13/13 [==============================] - 0s 992us/step - loss: 5.8460 - mse: 5.7819\n",
      "Epoch 9/20\n",
      "13/13 [==============================] - 0s 992us/step - loss: 6.2869 - mse: 6.2228\n",
      "Epoch 10/20\n",
      "13/13 [==============================] - 0s 951us/step - loss: 6.2786 - mse: 6.2145\n",
      "Epoch 11/20\n",
      "13/13 [==============================] - 0s 1ms/step - loss: 6.1483 - mse: 6.0842\n",
      "Epoch 12/20\n",
      "13/13 [==============================] - 0s 992us/step - loss: 6.0013 - mse: 5.9372\n",
      "Epoch 13/20\n",
      "13/13 [==============================] - 0s 992us/step - loss: 6.1422 - mse: 6.0781\n",
      "Epoch 14/20\n",
      "13/13 [==============================] - 0s 909us/step - loss: 5.8618 - mse: 5.7978\n",
      "Epoch 15/20\n",
      "13/13 [==============================] - 0s 992us/step - loss: 5.8535 - mse: 5.7895\n",
      "Epoch 16/20\n",
      "13/13 [==============================] - 0s 1ms/step - loss: 5.5909 - mse: 5.5268\n",
      "Epoch 17/20\n",
      "13/13 [==============================] - 0s 992us/step - loss: 5.3125 - mse: 5.2484\n",
      "Epoch 18/20\n",
      "13/13 [==============================] - 0s 1ms/step - loss: 6.2497 - mse: 6.1857\n",
      "Epoch 19/20\n",
      "13/13 [==============================] - 0s 992us/step - loss: 6.0149 - mse: 5.9508\n",
      "Epoch 20/20\n",
      "13/13 [==============================] - 0s 1ms/step - loss: 6.2798 - mse: 6.2158\n",
      "R2-test-fit: -5.926707916778894\n",
      "Epoch 1/20\n",
      "9/9 [==============================] - 1s 1ms/step - loss: 7.5073 - mse: 7.4437\n",
      "Epoch 2/20\n",
      "9/9 [==============================] - 0s 1ms/step - loss: 6.5612 - mse: 6.4976\n",
      "Epoch 3/20\n",
      "9/9 [==============================] - 0s 992us/step - loss: 5.8338 - mse: 5.7703\n",
      "Epoch 4/20\n",
      "9/9 [==============================] - 0s 992us/step - loss: 5.9571 - mse: 5.8936\n",
      "Epoch 5/20\n",
      "9/9 [==============================] - 0s 1ms/step - loss: 6.0184 - mse: 5.9549\n",
      "Epoch 6/20\n",
      "9/9 [==============================] - 0s 1ms/step - loss: 5.5269 - mse: 5.4633\n",
      "Epoch 7/20\n",
      "9/9 [==============================] - 0s 1ms/step - loss: 5.8453 - mse: 5.7818\n",
      "Epoch 8/20\n",
      "9/9 [==============================] - 0s 1ms/step - loss: 6.3307 - mse: 6.2672\n",
      "Epoch 9/20\n",
      "9/9 [==============================] - 0s 1ms/step - loss: 5.5472 - mse: 5.4837\n",
      "Epoch 10/20\n",
      "9/9 [==============================] - 0s 1ms/step - loss: 6.0167 - mse: 5.9532\n",
      "Epoch 11/20\n",
      "9/9 [==============================] - 0s 1ms/step - loss: 6.0611 - mse: 5.9976\n",
      "Epoch 12/20\n",
      "9/9 [==============================] - 0s 1ms/step - loss: 6.1886 - mse: 6.1250\n",
      "Epoch 13/20\n",
      "9/9 [==============================] - 0s 1ms/step - loss: 5.9511 - mse: 5.8875\n",
      "Epoch 14/20\n",
      "9/9 [==============================] - 0s 992us/step - loss: 5.6306 - mse: 5.5671\n",
      "Epoch 15/20\n",
      "9/9 [==============================] - 0s 1ms/step - loss: 5.6819 - mse: 5.6184\n",
      "Epoch 16/20\n",
      "9/9 [==============================] - 0s 930us/step - loss: 5.6411 - mse: 5.5776\n",
      "Epoch 17/20\n",
      "9/9 [==============================] - 0s 992us/step - loss: 5.8699 - mse: 5.8064\n",
      "Epoch 18/20\n",
      "9/9 [==============================] - 0s 1ms/step - loss: 6.5276 - mse: 6.4641\n",
      "Epoch 19/20\n",
      "9/9 [==============================] - 0s 1ms/step - loss: 5.7293 - mse: 5.6658\n",
      "Epoch 20/20\n",
      "9/9 [==============================] - 0s 1ms/step - loss: 5.8662 - mse: 5.8027\n",
      "5/5 [==============================] - 0s 1ms/step - loss: 5.9621 - mse: 5.8986\n",
      "R2-test -5.962094306945801\n",
      "5/5 [==============================] - 0s 868us/step\n",
      "MSE-test 5.898590205641643\n",
      "Best params: {'sel__n_features_to_select': 5, 'sel__estimator__learning_rate': 0.05, 'est__output_shape': 1, 'est__nn3': 30, 'est__nn2': 40, 'est__nn1': 20, 'est__nl3': 0, 'est__nl2': 2, 'est__nl1': 3, 'est__lr': 0.001, 'est__l2': 0.0001, 'est__l1': 0.0001, 'est__input_shape': 5, 'est__dropout': 0.3, 'est__decay': 0, 'est__act': 'sigmoid'}\n",
      "Selected features: ['ut_lab3', 'cer_lab3', 'actq1_lab3', 'mean(qact$_lab3)', 'avgtime_lab3']\n"
     ]
    },
    {
     "data": {
      "text/plain": [
       "['ut_lab3', 'cer_lab3', 'actq1_lab3', 'mean(qact$_lab3)', 'avgtime_lab3']"
      ]
     },
     "execution_count": 34,
     "metadata": {
      "tags": []
     },
     "output_type": "execute_result"
    }
   ],
   "source": [
    "run_process(datalab3, rand_cv)"
   ]
  },
  {
   "cell_type": "code",
   "execution_count": null,
   "metadata": {
    "colab": {
     "base_uri": "https://localhost:8080/"
    },
    "id": "UE8ZtHHPAi9U",
    "outputId": "20cf8303-c522-4f36-a3b3-a71fb9f1f71d"
   },
   "outputs": [
    {
     "name": "stdout",
     "output_type": "stream",
     "text": [
      "Fitting 5 folds for each of 10 candidates, totalling 50 fits\n",
      "Epoch 1/20\n",
      "13/13 [==============================] - 1s 1ms/step - loss: 7.9715 - mse: 7.8836\n",
      "Epoch 2/20\n",
      "13/13 [==============================] - 0s 992us/step - loss: 8.1601 - mse: 8.0722\n",
      "Epoch 3/20\n",
      "13/13 [==============================] - 0s 1ms/step - loss: 7.8127 - mse: 7.7248\n",
      "Epoch 4/20\n",
      "13/13 [==============================] - 0s 1ms/step - loss: 6.8994 - mse: 6.8115\n",
      "Epoch 5/20\n",
      "13/13 [==============================] - 0s 1ms/step - loss: 6.6208 - mse: 6.5328\n",
      "Epoch 6/20\n",
      "13/13 [==============================] - 0s 1ms/step - loss: 6.4551 - mse: 6.3671\n",
      "Epoch 7/20\n",
      "13/13 [==============================] - 0s 1ms/step - loss: 6.7747 - mse: 6.6866\n",
      "Epoch 8/20\n",
      "13/13 [==============================] - 0s 1ms/step - loss: 6.4908 - mse: 6.4028\n",
      "Epoch 9/20\n",
      "13/13 [==============================] - 0s 1ms/step - loss: 5.6177 - mse: 5.5296\n",
      "Epoch 10/20\n",
      "13/13 [==============================] - 0s 1ms/step - loss: 5.8308 - mse: 5.7427\n",
      "Epoch 11/20\n",
      "13/13 [==============================] - 0s 1ms/step - loss: 6.2544 - mse: 6.1663\n",
      "Epoch 12/20\n",
      "13/13 [==============================] - 0s 1ms/step - loss: 5.8200 - mse: 5.7318\n",
      "Epoch 13/20\n",
      "13/13 [==============================] - 0s 1ms/step - loss: 6.4774 - mse: 6.3892\n",
      "Epoch 14/20\n",
      "13/13 [==============================] - 0s 1ms/step - loss: 5.9510 - mse: 5.8629\n",
      "Epoch 15/20\n",
      "13/13 [==============================] - 0s 1ms/step - loss: 6.0354 - mse: 5.9472\n",
      "Epoch 16/20\n",
      "13/13 [==============================] - 0s 1ms/step - loss: 5.9248 - mse: 5.8366\n",
      "Epoch 17/20\n",
      "13/13 [==============================] - 0s 1ms/step - loss: 6.4026 - mse: 6.3144\n",
      "Epoch 18/20\n",
      "13/13 [==============================] - 0s 1ms/step - loss: 5.6939 - mse: 5.6057\n",
      "Epoch 19/20\n",
      "13/13 [==============================] - 0s 1ms/step - loss: 5.9906 - mse: 5.9024\n",
      "Epoch 20/20\n",
      "13/13 [==============================] - 0s 1ms/step - loss: 5.9266 - mse: 5.8384\n",
      "R2-test-fit: -5.927691035297036\n",
      "Epoch 1/20\n",
      "9/9 [==============================] - 1s 1ms/step - loss: 7.7553 - mse: 7.6667\n",
      "Epoch 2/20\n",
      "9/9 [==============================] - 0s 1ms/step - loss: 6.9826 - mse: 6.8939\n",
      "Epoch 3/20\n",
      "9/9 [==============================] - 0s 1ms/step - loss: 7.0163 - mse: 6.9275\n",
      "Epoch 4/20\n",
      "9/9 [==============================] - 0s 1ms/step - loss: 6.6602 - mse: 6.5713\n",
      "Epoch 5/20\n",
      "9/9 [==============================] - 0s 1ms/step - loss: 6.1870 - mse: 6.0981\n",
      "Epoch 6/20\n",
      "9/9 [==============================] - 0s 1ms/step - loss: 6.9866 - mse: 6.8976\n",
      "Epoch 7/20\n",
      "9/9 [==============================] - 0s 1ms/step - loss: 6.2917 - mse: 6.2026\n",
      "Epoch 8/20\n",
      "9/9 [==============================] - 0s 1ms/step - loss: 6.1575 - mse: 6.0683\n",
      "Epoch 9/20\n",
      "9/9 [==============================] - 0s 1ms/step - loss: 6.2670 - mse: 6.1779\n",
      "Epoch 10/20\n",
      "9/9 [==============================] - 0s 1ms/step - loss: 6.1254 - mse: 6.0362\n",
      "Epoch 11/20\n",
      "9/9 [==============================] - 0s 1ms/step - loss: 6.6339 - mse: 6.5447\n",
      "Epoch 12/20\n",
      "9/9 [==============================] - 0s 1ms/step - loss: 5.6133 - mse: 5.5241\n",
      "Epoch 13/20\n",
      "9/9 [==============================] - 0s 1ms/step - loss: 5.8486 - mse: 5.7593\n",
      "Epoch 14/20\n",
      "9/9 [==============================] - 0s 1ms/step - loss: 5.8005 - mse: 5.7112\n",
      "Epoch 15/20\n",
      "9/9 [==============================] - 0s 1ms/step - loss: 6.1093 - mse: 6.0200\n",
      "Epoch 16/20\n",
      "9/9 [==============================] - 0s 1ms/step - loss: 6.1653 - mse: 6.0759\n",
      "Epoch 17/20\n",
      "9/9 [==============================] - 0s 1ms/step - loss: 5.7852 - mse: 5.6958\n",
      "Epoch 18/20\n",
      "9/9 [==============================] - 0s 1ms/step - loss: 5.9183 - mse: 5.8289\n",
      "Epoch 19/20\n",
      "9/9 [==============================] - 0s 1ms/step - loss: 5.5022 - mse: 5.4129\n",
      "Epoch 20/20\n",
      "9/9 [==============================] - 0s 1ms/step - loss: 5.4094 - mse: 5.3200\n",
      "5/5 [==============================] - 0s 868us/step - loss: 6.4027 - mse: 6.3133\n",
      "R2-test -6.402716636657715\n",
      "5/5 [==============================] - 0s 992us/step\n",
      "MSE-test 6.313315179470624\n",
      "Best params: {'sel__n_features_to_select': 5, 'sel__estimator__learning_rate': 0.05, 'est__output_shape': 1, 'est__nn3': 15, 'est__nn2': 40, 'est__nn1': 20, 'est__nl3': 2, 'est__nl2': 3, 'est__nl1': 3, 'est__lr': 0.0001, 'est__l2': 0, 'est__l1': 0.0001, 'est__input_shape': 5, 'est__dropout': 0.3, 'est__decay': 0, 'est__act': 'relu'}\n",
      "Selected features: ['g_lab3', 'ut_lab3', 'act_lab3', 'actq2_lab3', 'actq3_lab3']\n"
     ]
    },
    {
     "data": {
      "text/plain": [
       "['g_lab3', 'ut_lab3', 'act_lab3', 'actq2_lab3', 'actq3_lab3']"
      ]
     },
     "execution_count": 35,
     "metadata": {
      "tags": []
     },
     "output_type": "execute_result"
    }
   ],
   "source": [
    "run_process(datalab3, rand_cv)"
   ]
  },
  {
   "cell_type": "markdown",
   "metadata": {
    "id": "mdSpI_BvAjuF"
   },
   "source": [
    "\n",
    "\n",
    "---\n",
    "\n"
   ]
  },
  {
   "cell_type": "code",
   "execution_count": null,
   "metadata": {
    "colab": {
     "base_uri": "https://localhost:8080/"
    },
    "id": "XO3xBs4vAkWt",
    "outputId": "54468db4-75c4-44b2-85b0-c926a813612f"
   },
   "outputs": [
    {
     "name": "stdout",
     "output_type": "stream",
     "text": [
      "Fitting 5 folds for each of 10 candidates, totalling 50 fits\n",
      "Epoch 1/20\n",
      "13/13 [==============================] - 1s 1ms/step - loss: 8.2111 - mse: 8.0788\n",
      "Epoch 2/20\n",
      "13/13 [==============================] - 0s 1ms/step - loss: 7.6402 - mse: 7.5079\n",
      "Epoch 3/20\n",
      "13/13 [==============================] - 0s 1ms/step - loss: 7.1245 - mse: 6.9921\n",
      "Epoch 4/20\n",
      "13/13 [==============================] - 0s 1ms/step - loss: 7.0782 - mse: 6.9455\n",
      "Epoch 5/20\n",
      "13/13 [==============================] - 0s 951us/step - loss: 6.6990 - mse: 6.5660\n",
      "Epoch 6/20\n",
      "13/13 [==============================] - 0s 1ms/step - loss: 6.4723 - mse: 6.3390\n",
      "Epoch 7/20\n",
      "13/13 [==============================] - 0s 1ms/step - loss: 6.6686 - mse: 6.5350\n",
      "Epoch 8/20\n",
      "13/13 [==============================] - 0s 1ms/step - loss: 6.2658 - mse: 6.1321\n",
      "Epoch 9/20\n",
      "13/13 [==============================] - 0s 1ms/step - loss: 6.5876 - mse: 6.4537\n",
      "Epoch 10/20\n",
      "13/13 [==============================] - 0s 1ms/step - loss: 6.2314 - mse: 6.0973\n",
      "Epoch 11/20\n",
      "13/13 [==============================] - 0s 992us/step - loss: 5.9515 - mse: 5.8173\n",
      "Epoch 12/20\n",
      "13/13 [==============================] - 0s 1ms/step - loss: 5.9509 - mse: 5.8167\n",
      "Epoch 13/20\n",
      "13/13 [==============================] - 0s 992us/step - loss: 6.3081 - mse: 6.1738\n",
      "Epoch 14/20\n",
      "13/13 [==============================] - 0s 1ms/step - loss: 6.1788 - mse: 6.0445\n",
      "Epoch 15/20\n",
      "13/13 [==============================] - 0s 1ms/step - loss: 5.9255 - mse: 5.7912\n",
      "Epoch 16/20\n",
      "13/13 [==============================] - 0s 1ms/step - loss: 5.8879 - mse: 5.7536\n",
      "Epoch 17/20\n",
      "13/13 [==============================] - 0s 992us/step - loss: 5.7217 - mse: 5.5873\n",
      "Epoch 18/20\n",
      "13/13 [==============================] - 0s 1ms/step - loss: 6.6037 - mse: 6.4693\n",
      "Epoch 19/20\n",
      "13/13 [==============================] - 0s 992us/step - loss: 6.4430 - mse: 6.3087\n",
      "Epoch 20/20\n",
      "13/13 [==============================] - 0s 909us/step - loss: 6.1279 - mse: 5.9936\n",
      "R2-test-fit: -5.924451904583831\n",
      "Epoch 1/20\n",
      "9/9 [==============================] - 1s 1ms/step - loss: 9.3966 - mse: 9.2703\n",
      "Epoch 2/20\n",
      "9/9 [==============================] - 0s 992us/step - loss: 8.2952 - mse: 8.1689\n",
      "Epoch 3/20\n",
      "9/9 [==============================] - 0s 1ms/step - loss: 8.6142 - mse: 8.4878\n",
      "Epoch 4/20\n",
      "9/9 [==============================] - 0s 2ms/step - loss: 7.5419 - mse: 7.4153\n",
      "Epoch 5/20\n",
      "9/9 [==============================] - 0s 1ms/step - loss: 6.3650 - mse: 6.2383\n",
      "Epoch 6/20\n",
      "9/9 [==============================] - 0s 1ms/step - loss: 6.1174 - mse: 5.9905\n",
      "Epoch 7/20\n",
      "9/9 [==============================] - 0s 1ms/step - loss: 6.5976 - mse: 6.4704\n",
      "Epoch 8/20\n",
      "9/9 [==============================] - 0s 1ms/step - loss: 6.7245 - mse: 6.5971\n",
      "Epoch 9/20\n",
      "9/9 [==============================] - 0s 1ms/step - loss: 6.5898 - mse: 6.4624\n",
      "Epoch 10/20\n",
      "9/9 [==============================] - 0s 1ms/step - loss: 6.7906 - mse: 6.6630\n",
      "Epoch 11/20\n",
      "9/9 [==============================] - 0s 1ms/step - loss: 6.4225 - mse: 6.2948\n",
      "Epoch 12/20\n",
      "9/9 [==============================] - 0s 1ms/step - loss: 6.4167 - mse: 6.2889\n",
      "Epoch 13/20\n",
      "9/9 [==============================] - 0s 992us/step - loss: 6.4227 - mse: 6.2949\n",
      "Epoch 14/20\n",
      "9/9 [==============================] - 0s 1ms/step - loss: 6.0079 - mse: 5.8800\n",
      "Epoch 15/20\n",
      "9/9 [==============================] - 0s 1ms/step - loss: 6.3157 - mse: 6.1877\n",
      "Epoch 16/20\n",
      "9/9 [==============================] - 0s 992us/step - loss: 6.1667 - mse: 6.0387\n",
      "Epoch 17/20\n",
      "9/9 [==============================] - 0s 1ms/step - loss: 6.5431 - mse: 6.4151\n",
      "Epoch 18/20\n",
      "9/9 [==============================] - 0s 1ms/step - loss: 6.2535 - mse: 6.1254\n",
      "Epoch 19/20\n",
      "9/9 [==============================] - 0s 992us/step - loss: 6.4417 - mse: 6.3135\n",
      "Epoch 20/20\n",
      "9/9 [==============================] - 0s 992us/step - loss: 6.6818 - mse: 6.5537\n",
      "5/5 [==============================] - 0s 868us/step - loss: 5.7382 - mse: 5.6100\n",
      "R2-test -5.738160133361816\n",
      "5/5 [==============================] - 0s 744us/step\n",
      "MSE-test 5.610004427353571\n",
      "Best params: {'sel__n_features_to_select': 5, 'sel__estimator__learning_rate': 0.2, 'est__output_shape': 1, 'est__nn3': 30, 'est__nn2': 10, 'est__nn1': 50, 'est__nl3': 3, 'est__nl2': 2, 'est__nl1': 0, 'est__lr': 0.0001, 'est__l2': 0.001, 'est__l1': 0.0001, 'est__input_shape': 5, 'est__dropout': 0.2, 'est__decay': 0, 'est__act': 'relu'}\n",
      "Selected features: ['ut_lab4', 'rt_lab4', 'rtr_lab4', 'cer_lab4', 'mean(qc$_lab4)']\n"
     ]
    },
    {
     "data": {
      "text/plain": [
       "['ut_lab4', 'rt_lab4', 'rtr_lab4', 'cer_lab4', 'mean(qc$_lab4)']"
      ]
     },
     "execution_count": 36,
     "metadata": {
      "tags": []
     },
     "output_type": "execute_result"
    }
   ],
   "source": [
    "run_process(datalab4, rand_cv)"
   ]
  },
  {
   "cell_type": "code",
   "execution_count": null,
   "metadata": {
    "colab": {
     "base_uri": "https://localhost:8080/"
    },
    "id": "fIcBGm9OAlha",
    "outputId": "aa50175b-e3ee-495a-c042-358ace662cc0"
   },
   "outputs": [
    {
     "name": "stdout",
     "output_type": "stream",
     "text": [
      "Fitting 5 folds for each of 10 candidates, totalling 50 fits\n",
      "Epoch 1/20\n",
      "13/13 [==============================] - 1s 909us/step - loss: 8.5769 - mse: 7.8352\n",
      "Epoch 2/20\n",
      "13/13 [==============================] - 0s 909us/step - loss: 8.3093 - mse: 7.5671\n",
      "Epoch 3/20\n",
      "13/13 [==============================] - 0s 992us/step - loss: 7.7028 - mse: 6.9600\n",
      "Epoch 4/20\n",
      "13/13 [==============================] - 0s 910us/step - loss: 7.5920 - mse: 6.8489\n",
      "Epoch 5/20\n",
      "13/13 [==============================] - 0s 909us/step - loss: 7.7236 - mse: 6.9807\n",
      "Epoch 6/20\n",
      "13/13 [==============================] - 0s 909us/step - loss: 6.8561 - mse: 6.1139\n",
      "Epoch 7/20\n",
      "13/13 [==============================] - 0s 909us/step - loss: 7.0890 - mse: 6.3477\n",
      "Epoch 8/20\n",
      "13/13 [==============================] - 0s 951us/step - loss: 6.7793 - mse: 6.0390\n",
      "Epoch 9/20\n",
      "13/13 [==============================] - 0s 909us/step - loss: 7.1415 - mse: 6.4024\n",
      "Epoch 10/20\n",
      "13/13 [==============================] - 0s 909us/step - loss: 6.7983 - mse: 6.0605\n",
      "Epoch 11/20\n",
      "13/13 [==============================] - 0s 868us/step - loss: 6.9331 - mse: 6.1967\n",
      "Epoch 12/20\n",
      "13/13 [==============================] - 0s 1ms/step - loss: 6.8491 - mse: 6.1142\n",
      "Epoch 13/20\n",
      "13/13 [==============================] - 0s 1ms/step - loss: 6.7503 - mse: 6.0169\n",
      "Epoch 14/20\n",
      "13/13 [==============================] - 0s 951us/step - loss: 6.4035 - mse: 5.6718\n",
      "Epoch 15/20\n",
      "13/13 [==============================] - 0s 951us/step - loss: 6.6673 - mse: 5.9372\n",
      "Epoch 16/20\n",
      "13/13 [==============================] - 0s 909us/step - loss: 5.8144 - mse: 5.0861\n",
      "Epoch 17/20\n",
      "13/13 [==============================] - 0s 909us/step - loss: 7.2333 - mse: 6.5068\n",
      "Epoch 18/20\n",
      "13/13 [==============================] - 0s 868us/step - loss: 7.1213 - mse: 6.3965\n",
      "Epoch 19/20\n",
      "13/13 [==============================] - 0s 992us/step - loss: 6.7785 - mse: 6.0555\n",
      "Epoch 20/20\n",
      "13/13 [==============================] - 0s 868us/step - loss: 6.4341 - mse: 5.7128\n",
      "R2-test-fit: -5.930687980266312\n",
      "Epoch 1/20\n",
      "9/9 [==============================] - 1s 992us/step - loss: 8.1187 - mse: 7.3885\n",
      "Epoch 2/20\n",
      "9/9 [==============================] - 0s 868us/step - loss: 7.1417 - mse: 6.4108\n",
      "Epoch 3/20\n",
      "9/9 [==============================] - 0s 930us/step - loss: 7.1056 - mse: 6.3738\n",
      "Epoch 4/20\n",
      "9/9 [==============================] - 0s 930us/step - loss: 7.2040 - mse: 6.4715\n",
      "Epoch 5/20\n",
      "9/9 [==============================] - 0s 868us/step - loss: 6.7887 - mse: 6.0558\n",
      "Epoch 6/20\n",
      "9/9 [==============================] - 0s 806us/step - loss: 7.2236 - mse: 6.4905\n",
      "Epoch 7/20\n",
      "9/9 [==============================] - 0s 930us/step - loss: 7.4973 - mse: 6.7643\n",
      "Epoch 8/20\n",
      "9/9 [==============================] - 0s 1ms/step - loss: 6.4987 - mse: 5.7660\n",
      "Epoch 9/20\n",
      "9/9 [==============================] - 0s 1ms/step - loss: 7.0796 - mse: 6.3471\n",
      "Epoch 10/20\n",
      "9/9 [==============================] - 0s 1ms/step - loss: 6.5032 - mse: 5.7712\n",
      "Epoch 11/20\n",
      "9/9 [==============================] - 0s 1ms/step - loss: 6.6132 - mse: 5.8817\n",
      "Epoch 12/20\n",
      "9/9 [==============================] - 0s 930us/step - loss: 6.4686 - mse: 5.7378\n",
      "Epoch 13/20\n",
      "9/9 [==============================] - 0s 1ms/step - loss: 5.9880 - mse: 5.2579\n",
      "Epoch 14/20\n",
      "9/9 [==============================] - 0s 1ms/step - loss: 6.0654 - mse: 5.3361\n",
      "Epoch 15/20\n",
      "9/9 [==============================] - 0s 992us/step - loss: 6.6353 - mse: 5.9069\n",
      "Epoch 16/20\n",
      "9/9 [==============================] - 0s 1ms/step - loss: 6.2000 - mse: 5.4726\n",
      "Epoch 17/20\n",
      "9/9 [==============================] - 0s 1ms/step - loss: 6.8903 - mse: 6.1638\n",
      "Epoch 18/20\n",
      "9/9 [==============================] - 0s 1ms/step - loss: 6.5323 - mse: 5.8067\n",
      "Epoch 19/20\n",
      "9/9 [==============================] - 0s 1ms/step - loss: 6.3557 - mse: 5.6312\n",
      "Epoch 20/20\n",
      "9/9 [==============================] - 0s 1ms/step - loss: 6.6057 - mse: 5.8822\n",
      "5/5 [==============================] - 0s 1ms/step - loss: 6.9029 - mse: 6.1802\n",
      "R2-test -6.902947425842285\n",
      "5/5 [==============================] - 0s 867us/step\n",
      "MSE-test 6.180248845881094\n",
      "Best params: {'sel__n_features_to_select': 5, 'sel__estimator__learning_rate': 0.05, 'est__output_shape': 1, 'est__nn3': 15, 'est__nn2': 40, 'est__nn1': 20, 'est__nl3': 3, 'est__nl2': 0, 'est__nl1': 1, 'est__lr': 0.001, 'est__l2': 0.003, 'est__l1': 0.003, 'est__input_shape': 5, 'est__dropout': 0.3, 'est__decay': 1e-09, 'est__act': 'relu'}\n",
      "Selected features: ['rtr_lab4', 'cer_lab4', 'actq1_lab4', 'mean(qavt$_lab4)', 'mean(qc$_lab4)']\n"
     ]
    },
    {
     "data": {
      "text/plain": [
       "['rtr_lab4', 'cer_lab4', 'actq1_lab4', 'mean(qavt$_lab4)', 'mean(qc$_lab4)']"
      ]
     },
     "execution_count": 37,
     "metadata": {
      "tags": []
     },
     "output_type": "execute_result"
    }
   ],
   "source": [
    "run_process(datalab4, rand_cv)"
   ]
  },
  {
   "cell_type": "code",
   "execution_count": null,
   "metadata": {
    "colab": {
     "base_uri": "https://localhost:8080/"
    },
    "id": "vDx2hASaAlm8",
    "outputId": "e12364d2-8734-4174-f53e-c58525cde196"
   },
   "outputs": [
    {
     "name": "stdout",
     "output_type": "stream",
     "text": [
      "Fitting 5 folds for each of 10 candidates, totalling 50 fits\n",
      "Epoch 1/20\n",
      "13/13 [==============================] - 1s 909us/step - loss: 11.9637 - mse: 7.9846\n",
      "Epoch 2/20\n",
      "13/13 [==============================] - 0s 951us/step - loss: 11.4999 - mse: 7.5325\n",
      "Epoch 3/20\n",
      "13/13 [==============================] - 0s 909us/step - loss: 10.3163 - mse: 6.3599\n",
      "Epoch 4/20\n",
      "13/13 [==============================] - 0s 868us/step - loss: 10.2902 - mse: 6.3452\n",
      "Epoch 5/20\n",
      "13/13 [==============================] - 0s 909us/step - loss: 10.7631 - mse: 6.8299\n",
      "Epoch 6/20\n",
      "13/13 [==============================] - 0s 909us/step - loss: 10.2656 - mse: 6.3448\n",
      "Epoch 7/20\n",
      "13/13 [==============================] - 0s 950us/step - loss: 9.9204 - mse: 6.0124\n",
      "Epoch 8/20\n",
      "13/13 [==============================] - 0s 868us/step - loss: 9.7473 - mse: 5.8524\n",
      "Epoch 9/20\n",
      "13/13 [==============================] - 0s 909us/step - loss: 9.9459 - mse: 6.0642\n",
      "Epoch 10/20\n",
      "13/13 [==============================] - 0s 909us/step - loss: 10.1096 - mse: 6.2412\n",
      "Epoch 11/20\n",
      "13/13 [==============================] - 0s 1ms/step - loss: 10.1434 - mse: 6.2885\n",
      "Epoch 12/20\n",
      "13/13 [==============================] - 0s 1ms/step - loss: 9.8339 - mse: 5.9926\n",
      "Epoch 13/20\n",
      "13/13 [==============================] - 0s 1ms/step - loss: 10.2471 - mse: 6.4193\n",
      "Epoch 14/20\n",
      "13/13 [==============================] - 0s 992us/step - loss: 10.0183 - mse: 6.2042\n",
      "Epoch 15/20\n",
      "13/13 [==============================] - 0s 909us/step - loss: 9.7786 - mse: 5.9781\n",
      "Epoch 16/20\n",
      "13/13 [==============================] - 0s 992us/step - loss: 9.8527 - mse: 6.0659\n",
      "Epoch 17/20\n",
      "13/13 [==============================] - 0s 992us/step - loss: 9.6851 - mse: 5.9118\n",
      "Epoch 18/20\n",
      "13/13 [==============================] - 0s 1ms/step - loss: 9.5716 - mse: 5.8120\n",
      "Epoch 19/20\n",
      "13/13 [==============================] - 0s 1ms/step - loss: 9.3197 - mse: 5.5738\n",
      "Epoch 20/20\n",
      "13/13 [==============================] - 0s 951us/step - loss: 9.1346 - mse: 5.4023\n",
      "R2-test-fit: -5.9251643733906425\n",
      "Epoch 1/20\n",
      "9/9 [==============================] - 1s 1ms/step - loss: 10.9418 - mse: 6.9499\n",
      "Epoch 2/20\n",
      "9/9 [==============================] - 0s 1ms/step - loss: 11.3020 - mse: 7.3192\n",
      "Epoch 3/20\n",
      "9/9 [==============================] - 0s 1ms/step - loss: 10.1168 - mse: 6.1422\n",
      "Epoch 4/20\n",
      "9/9 [==============================] - 0s 1ms/step - loss: 10.1559 - mse: 6.1890\n",
      "Epoch 5/20\n",
      "9/9 [==============================] - 0s 1ms/step - loss: 9.4855 - mse: 5.5261\n",
      "Epoch 6/20\n",
      "9/9 [==============================] - 0s 1ms/step - loss: 9.3266 - mse: 5.3751\n",
      "Epoch 7/20\n",
      "9/9 [==============================] - 0s 1ms/step - loss: 9.8487 - mse: 5.9053\n",
      "Epoch 8/20\n",
      "9/9 [==============================] - 0s 1ms/step - loss: 9.5187 - mse: 5.5839\n",
      "Epoch 9/20\n",
      "9/9 [==============================] - 0s 1ms/step - loss: 9.6268 - mse: 5.7005\n",
      "Epoch 10/20\n",
      "9/9 [==============================] - 0s 1ms/step - loss: 9.6245 - mse: 5.7071\n",
      "Epoch 11/20\n",
      "9/9 [==============================] - 0s 1ms/step - loss: 9.1493 - mse: 5.2408\n",
      "Epoch 12/20\n",
      "9/9 [==============================] - 0s 1ms/step - loss: 8.4693 - mse: 4.5699\n",
      "Epoch 13/20\n",
      "9/9 [==============================] - 0s 1ms/step - loss: 9.6329 - mse: 5.7425\n",
      "Epoch 14/20\n",
      "9/9 [==============================] - 0s 1ms/step - loss: 9.8028 - mse: 5.9216\n",
      "Epoch 15/20\n",
      "9/9 [==============================] - 0s 1ms/step - loss: 9.5960 - mse: 5.7240\n",
      "Epoch 16/20\n",
      "9/9 [==============================] - 0s 1ms/step - loss: 9.1211 - mse: 5.2583\n",
      "Epoch 17/20\n",
      "9/9 [==============================] - 0s 1ms/step - loss: 8.7473 - mse: 4.8939\n",
      "Epoch 18/20\n",
      "9/9 [==============================] - 0s 1ms/step - loss: 9.0000 - mse: 5.1559\n",
      "Epoch 19/20\n",
      "9/9 [==============================] - 0s 1ms/step - loss: 9.3044 - mse: 5.4697\n",
      "Epoch 20/20\n",
      "9/9 [==============================] - 0s 1ms/step - loss: 9.0838 - mse: 5.2586\n",
      "5/5 [==============================] - 0s 1ms/step - loss: 10.8352 - mse: 7.0171\n",
      "R2-test -10.835164070129395\n",
      "5/5 [==============================] - 0s 744us/step\n",
      "MSE-test 7.017088315442554\n",
      "Best params: {'sel__n_features_to_select': 5, 'sel__estimator__learning_rate': 0.2, 'est__output_shape': 1, 'est__nn3': 30, 'est__nn2': 70, 'est__nn1': 50, 'est__nl3': 1, 'est__nl2': 3, 'est__nl1': 0, 'est__lr': 0.0001, 'est__l2': 0.0001, 'est__l1': 0.003, 'est__input_shape': 5, 'est__dropout': 0.2, 'est__decay': 0, 'est__act': 'relu'}\n",
      "Selected features: ['act_lab4', 'rtr_lab4', 'cer_lab4', 'mean(qg$_lab4)', 'mean(qc$_lab4)']\n"
     ]
    },
    {
     "data": {
      "text/plain": [
       "['act_lab4', 'rtr_lab4', 'cer_lab4', 'mean(qg$_lab4)', 'mean(qc$_lab4)']"
      ]
     },
     "execution_count": 38,
     "metadata": {
      "tags": []
     },
     "output_type": "execute_result"
    }
   ],
   "source": [
    "run_process(datalab4, rand_cv)"
   ]
  },
  {
   "cell_type": "code",
   "execution_count": null,
   "metadata": {
    "colab": {
     "base_uri": "https://localhost:8080/"
    },
    "id": "73YHkigfAlwu",
    "outputId": "9c25237c-4d88-4679-86a9-f48990cca63e"
   },
   "outputs": [
    {
     "name": "stdout",
     "output_type": "stream",
     "text": [
      "Fitting 5 folds for each of 10 candidates, totalling 50 fits\n",
      "Epoch 1/20\n",
      "13/13 [==============================] - 1s 951us/step - loss: 10.1468 - mse: 7.0523\n",
      "Epoch 2/20\n",
      "13/13 [==============================] - 0s 909us/step - loss: 9.2386 - mse: 6.1662\n",
      "Epoch 3/20\n",
      "13/13 [==============================] - 0s 909us/step - loss: 8.4921 - mse: 5.4423\n",
      "Epoch 4/20\n",
      "13/13 [==============================] - 0s 868us/step - loss: 8.9969 - mse: 5.9697\n",
      "Epoch 5/20\n",
      "13/13 [==============================] - 0s 909us/step - loss: 8.9031 - mse: 5.8986\n",
      "Epoch 6/20\n",
      "13/13 [==============================] - 0s 868us/step - loss: 8.2910 - mse: 5.3092\n",
      "Epoch 7/20\n",
      "13/13 [==============================] - 0s 951us/step - loss: 8.4034 - mse: 5.4443\n",
      "Epoch 8/20\n",
      "13/13 [==============================] - 0s 951us/step - loss: 8.8979 - mse: 5.9614\n",
      "Epoch 9/20\n",
      "13/13 [==============================] - 0s 827us/step - loss: 9.2299 - mse: 6.3159\n",
      "Epoch 10/20\n",
      "13/13 [==============================] - 0s 912us/step - loss: 8.8333 - mse: 5.9418\n",
      "Epoch 11/20\n",
      "13/13 [==============================] - 0s 827us/step - loss: 8.8526 - mse: 5.9835\n",
      "Epoch 12/20\n",
      "13/13 [==============================] - 0s 951us/step - loss: 8.5644 - mse: 5.7175\n",
      "Epoch 13/20\n",
      "13/13 [==============================] - 0s 868us/step - loss: 8.4995 - mse: 5.6749\n",
      "Epoch 14/20\n",
      "13/13 [==============================] - 0s 827us/step - loss: 9.4250 - mse: 6.6225\n",
      "Epoch 15/20\n",
      "13/13 [==============================] - 0s 868us/step - loss: 8.9458 - mse: 6.1654\n",
      "Epoch 16/20\n",
      "13/13 [==============================] - 0s 868us/step - loss: 8.5585 - mse: 5.8001\n",
      "Epoch 17/20\n",
      "13/13 [==============================] - 0s 992us/step - loss: 8.1915 - mse: 5.4550\n",
      "Epoch 18/20\n",
      "13/13 [==============================] - 0s 951us/step - loss: 8.7970 - mse: 6.0824\n",
      "Epoch 19/20\n",
      "13/13 [==============================] - 0s 951us/step - loss: 8.9871 - mse: 6.2943\n",
      "Epoch 20/20\n",
      "13/13 [==============================] - 0s 910us/step - loss: 8.4122 - mse: 5.7410\n",
      "R2-test-fit: -5.943975715360745\n",
      "Epoch 1/20\n",
      "9/9 [==============================] - 1s 992us/step - loss: 11.1418 - mse: 8.0275\n",
      "Epoch 2/20\n",
      "9/9 [==============================] - 0s 930us/step - loss: 10.5642 - mse: 7.4675\n",
      "Epoch 3/20\n",
      "9/9 [==============================] - 0s 930us/step - loss: 10.2441 - mse: 7.1647\n",
      "Epoch 4/20\n",
      "9/9 [==============================] - 0s 930us/step - loss: 9.6723 - mse: 6.6096\n",
      "Epoch 5/20\n",
      "9/9 [==============================] - 0s 930us/step - loss: 8.4583 - mse: 5.4122\n",
      "Epoch 6/20\n",
      "9/9 [==============================] - 0s 930us/step - loss: 9.5096 - mse: 6.4799\n",
      "Epoch 7/20\n",
      "9/9 [==============================] - 0s 930us/step - loss: 8.1990 - mse: 5.1855\n",
      "Epoch 8/20\n",
      "9/9 [==============================] - 0s 1ms/step - loss: 8.9074 - mse: 5.9101\n",
      "Epoch 9/20\n",
      "9/9 [==============================] - 0s 1ms/step - loss: 9.2964 - mse: 6.3154\n",
      "Epoch 10/20\n",
      "9/9 [==============================] - 0s 992us/step - loss: 8.9197 - mse: 5.9547\n",
      "Epoch 11/20\n",
      "9/9 [==============================] - 0s 992us/step - loss: 8.3793 - mse: 5.4305\n",
      "Epoch 12/20\n",
      "9/9 [==============================] - 0s 992us/step - loss: 8.5812 - mse: 5.6484\n",
      "Epoch 13/20\n",
      "9/9 [==============================] - 0s 926us/step - loss: 8.4479 - mse: 5.5310\n",
      "Epoch 14/20\n",
      "9/9 [==============================] - 0s 1ms/step - loss: 8.7136 - mse: 5.8127\n",
      "Epoch 15/20\n",
      "9/9 [==============================] - 0s 1ms/step - loss: 8.2534 - mse: 5.3683\n",
      "Epoch 16/20\n",
      "9/9 [==============================] - 0s 992us/step - loss: 9.1187 - mse: 6.2494\n",
      "Epoch 17/20\n",
      "9/9 [==============================] - 0s 992us/step - loss: 8.4004 - mse: 5.5469\n",
      "Epoch 18/20\n",
      "9/9 [==============================] - 0s 992us/step - loss: 8.6130 - mse: 5.7751\n",
      "Epoch 19/20\n",
      "9/9 [==============================] - 0s 1ms/step - loss: 8.8856 - mse: 6.0634\n",
      "Epoch 20/20\n",
      "9/9 [==============================] - 0s 1ms/step - loss: 8.3760 - mse: 5.5695\n",
      "5/5 [==============================] - 0s 992us/step - loss: 9.1761 - mse: 6.3815\n",
      "R2-test -9.176057815551758\n",
      "5/5 [==============================] - 0s 744us/step\n",
      "MSE-test 6.381455677292427\n",
      "Best params: {'sel__n_features_to_select': 5, 'sel__estimator__learning_rate': 0.2, 'est__output_shape': 1, 'est__nn3': 15, 'est__nn2': 40, 'est__nn1': 20, 'est__nl3': 0, 'est__nl2': 1, 'est__nl1': 3, 'est__lr': 0.01, 'est__l2': 0.001, 'est__l1': 0.01, 'est__input_shape': 5, 'est__dropout': 0.1, 'est__decay': 1e-06, 'est__act': 'sigmoid'}\n",
      "Selected features: ['act_lab4', 'rt_lab4', 'rtr_lab4', 'actq1_lab4', 'mean(qc$_lab4)']\n"
     ]
    },
    {
     "data": {
      "text/plain": [
       "['act_lab4', 'rt_lab4', 'rtr_lab4', 'actq1_lab4', 'mean(qc$_lab4)']"
      ]
     },
     "execution_count": 39,
     "metadata": {
      "tags": []
     },
     "output_type": "execute_result"
    }
   ],
   "source": [
    "run_process(datalab4, rand_cv)"
   ]
  },
  {
   "cell_type": "code",
   "execution_count": null,
   "metadata": {
    "colab": {
     "base_uri": "https://localhost:8080/"
    },
    "id": "aavK5ttpAl3X",
    "outputId": "652fee16-1cd4-4f0a-e175-4b30189d3450"
   },
   "outputs": [
    {
     "name": "stdout",
     "output_type": "stream",
     "text": [
      "Fitting 5 folds for each of 10 candidates, totalling 50 fits\n",
      "Epoch 1/20\n",
      "13/13 [==============================] - 1s 1ms/step - loss: 7.9742 - mse: 7.8804\n",
      "Epoch 2/20\n",
      "13/13 [==============================] - 0s 1ms/step - loss: 8.2200 - mse: 8.1262\n",
      "Epoch 3/20\n",
      "13/13 [==============================] - 0s 1ms/step - loss: 7.3984 - mse: 7.3045\n",
      "Epoch 4/20\n",
      "13/13 [==============================] - 0s 1ms/step - loss: 7.8059 - mse: 7.7120\n",
      "Epoch 5/20\n",
      "13/13 [==============================] - 0s 1ms/step - loss: 7.1150 - mse: 7.0211\n",
      "Epoch 6/20\n",
      "13/13 [==============================] - 0s 1ms/step - loss: 6.8126 - mse: 6.7186\n",
      "Epoch 7/20\n",
      "13/13 [==============================] - 0s 1ms/step - loss: 5.9597 - mse: 5.8656\n",
      "Epoch 8/20\n",
      "13/13 [==============================] - 0s 1ms/step - loss: 7.2368 - mse: 7.1426\n",
      "Epoch 9/20\n",
      "13/13 [==============================] - 0s 1ms/step - loss: 6.2455 - mse: 6.1513\n",
      "Epoch 10/20\n",
      "13/13 [==============================] - 0s 992us/step - loss: 6.6152 - mse: 6.5210\n",
      "Epoch 11/20\n",
      "13/13 [==============================] - 0s 1ms/step - loss: 6.2845 - mse: 6.1902\n",
      "Epoch 12/20\n",
      "13/13 [==============================] - 0s 992us/step - loss: 6.1148 - mse: 6.0206\n",
      "Epoch 13/20\n",
      "13/13 [==============================] - 0s 1ms/step - loss: 6.6299 - mse: 6.5356\n",
      "Epoch 14/20\n",
      "13/13 [==============================] - 0s 1ms/step - loss: 6.8024 - mse: 6.7080\n",
      "Epoch 15/20\n",
      "13/13 [==============================] - 0s 1ms/step - loss: 6.5478 - mse: 6.4535\n",
      "Epoch 16/20\n",
      "13/13 [==============================] - 0s 1ms/step - loss: 6.3390 - mse: 6.2447\n",
      "Epoch 17/20\n",
      "13/13 [==============================] - 0s 1ms/step - loss: 5.6122 - mse: 5.5179\n",
      "Epoch 18/20\n",
      "13/13 [==============================] - 0s 992us/step - loss: 5.8969 - mse: 5.8025\n",
      "Epoch 19/20\n",
      "13/13 [==============================] - 0s 992us/step - loss: 5.8458 - mse: 5.7514\n",
      "Epoch 20/20\n",
      "13/13 [==============================] - 0s 1ms/step - loss: 6.1044 - mse: 6.0100\n",
      "R2-test-fit: -5.924107865755802\n",
      "Epoch 1/20\n",
      "9/9 [==============================] - 1s 992us/step - loss: 8.2302 - mse: 8.1386\n",
      "Epoch 2/20\n",
      "9/9 [==============================] - 0s 992us/step - loss: 8.1550 - mse: 8.0635\n",
      "Epoch 3/20\n",
      "9/9 [==============================] - 0s 992us/step - loss: 7.7070 - mse: 7.6155\n",
      "Epoch 4/20\n",
      "9/9 [==============================] - 0s 1ms/step - loss: 8.3594 - mse: 8.2679\n",
      "Epoch 5/20\n",
      "9/9 [==============================] - 0s 1ms/step - loss: 7.3039 - mse: 7.2124\n",
      "Epoch 6/20\n",
      "9/9 [==============================] - 0s 1ms/step - loss: 6.7789 - mse: 6.6875\n",
      "Epoch 7/20\n",
      "9/9 [==============================] - 0s 1ms/step - loss: 6.7084 - mse: 6.6169\n",
      "Epoch 8/20\n",
      "9/9 [==============================] - 0s 992us/step - loss: 7.1050 - mse: 7.0135\n",
      "Epoch 9/20\n",
      "9/9 [==============================] - 0s 1ms/step - loss: 6.1419 - mse: 6.0504\n",
      "Epoch 10/20\n",
      "9/9 [==============================] - 0s 1ms/step - loss: 7.1562 - mse: 7.0647\n",
      "Epoch 11/20\n",
      "9/9 [==============================] - 0s 992us/step - loss: 7.0134 - mse: 6.9218\n",
      "Epoch 12/20\n",
      "9/9 [==============================] - 0s 1ms/step - loss: 6.9950 - mse: 6.9034\n",
      "Epoch 13/20\n",
      "9/9 [==============================] - 0s 1ms/step - loss: 6.1792 - mse: 6.0876\n",
      "Epoch 14/20\n",
      "9/9 [==============================] - 0s 1ms/step - loss: 5.6619 - mse: 5.5703\n",
      "Epoch 15/20\n",
      "9/9 [==============================] - 0s 1ms/step - loss: 6.3108 - mse: 6.2192\n",
      "Epoch 16/20\n",
      "9/9 [==============================] - 0s 1ms/step - loss: 6.0160 - mse: 5.9243\n",
      "Epoch 17/20\n",
      "9/9 [==============================] - 0s 1ms/step - loss: 5.7574 - mse: 5.6657\n",
      "Epoch 18/20\n",
      "9/9 [==============================] - 0s 992us/step - loss: 6.0210 - mse: 5.9293\n",
      "Epoch 19/20\n",
      "9/9 [==============================] - 0s 1ms/step - loss: 6.2398 - mse: 6.1481\n",
      "Epoch 20/20\n",
      "9/9 [==============================] - 0s 1ms/step - loss: 5.9863 - mse: 5.8945\n",
      "5/5 [==============================] - 0s 1ms/step - loss: 6.4645 - mse: 6.3728\n",
      "R2-test -6.464548110961914\n",
      "5/5 [==============================] - 0s 868us/step\n",
      "MSE-test 6.372787834448027\n",
      "Best params: {'sel__n_features_to_select': 5, 'sel__estimator__learning_rate': 0.1, 'est__output_shape': 1, 'est__nn3': 15, 'est__nn2': 70, 'est__nn1': 20, 'est__nl3': 3, 'est__nl2': 2, 'est__nl1': 0, 'est__lr': 0.0001, 'est__l2': 0.0001, 'est__l1': 0.0001, 'est__input_shape': 5, 'est__dropout': 0.3, 'est__decay': 0, 'est__act': 'relu'}\n",
      "Selected features: ['g_lab4', 'rt_lab4', 'rtr_lab4', 'actq1_lab4', 'mean(qmsr$_lab4)']\n"
     ]
    },
    {
     "data": {
      "text/plain": [
       "['g_lab4', 'rt_lab4', 'rtr_lab4', 'actq1_lab4', 'mean(qmsr$_lab4)']"
      ]
     },
     "execution_count": 40,
     "metadata": {
      "tags": []
     },
     "output_type": "execute_result"
    }
   ],
   "source": [
    "run_process(datalab4, rand_cv)"
   ]
  },
  {
   "cell_type": "code",
   "execution_count": null,
   "metadata": {
    "colab": {
     "base_uri": "https://localhost:8080/"
    },
    "id": "uc3xDOmAAl89",
    "outputId": "5ff2589e-a9b8-4b77-d193-c6c4d821e548"
   },
   "outputs": [
    {
     "name": "stdout",
     "output_type": "stream",
     "text": [
      "Fitting 5 folds for each of 10 candidates, totalling 50 fits\n",
      "Epoch 1/20\n",
      "13/13 [==============================] - 1s 1ms/step - loss: 8.1951 - mse: 7.7119\n",
      "Epoch 2/20\n",
      "13/13 [==============================] - 0s 1ms/step - loss: 8.2501 - mse: 7.7670\n",
      "Epoch 3/20\n",
      "13/13 [==============================] - 0s 1ms/step - loss: 7.2426 - mse: 6.7593\n",
      "Epoch 4/20\n",
      "13/13 [==============================] - 0s 1ms/step - loss: 6.8450 - mse: 6.3616\n",
      "Epoch 5/20\n",
      "13/13 [==============================] - 0s 1ms/step - loss: 7.1633 - mse: 6.6797\n",
      "Epoch 6/20\n",
      "13/13 [==============================] - 0s 1ms/step - loss: 6.1359 - mse: 5.6522\n",
      "Epoch 7/20\n",
      "13/13 [==============================] - 0s 1ms/step - loss: 6.7480 - mse: 6.2643\n",
      "Epoch 8/20\n",
      "13/13 [==============================] - 0s 1ms/step - loss: 6.5294 - mse: 6.0457\n",
      "Epoch 9/20\n",
      "13/13 [==============================] - 0s 1ms/step - loss: 5.7020 - mse: 5.2184\n",
      "Epoch 10/20\n",
      "13/13 [==============================] - 0s 1ms/step - loss: 6.1966 - mse: 5.7131\n",
      "Epoch 11/20\n",
      "13/13 [==============================] - 0s 1ms/step - loss: 6.6682 - mse: 6.1848\n",
      "Epoch 12/20\n",
      "13/13 [==============================] - 0s 1ms/step - loss: 6.0185 - mse: 5.5352\n",
      "Epoch 13/20\n",
      "13/13 [==============================] - 0s 1ms/step - loss: 6.8208 - mse: 6.3377\n",
      "Epoch 14/20\n",
      "13/13 [==============================] - 0s 1ms/step - loss: 6.4329 - mse: 5.9500\n",
      "Epoch 15/20\n",
      "13/13 [==============================] - 0s 1ms/step - loss: 6.3766 - mse: 5.8938\n",
      "Epoch 16/20\n",
      "13/13 [==============================] - 0s 1ms/step - loss: 6.7397 - mse: 6.2572\n",
      "Epoch 17/20\n",
      "13/13 [==============================] - 0s 1ms/step - loss: 6.6039 - mse: 6.1216\n",
      "Epoch 18/20\n",
      "13/13 [==============================] - 0s 1ms/step - loss: 6.6042 - mse: 6.1221\n",
      "Epoch 19/20\n",
      "13/13 [==============================] - 0s 1ms/step - loss: 6.7590 - mse: 6.2771\n",
      "Epoch 20/20\n",
      "13/13 [==============================] - 0s 1ms/step - loss: 5.9758 - mse: 5.4941\n",
      "R2-test-fit: -5.92782586829041\n",
      "Epoch 1/20\n",
      "9/9 [==============================] - 1s 1ms/step - loss: 8.9458 - mse: 8.4580\n",
      "Epoch 2/20\n",
      "9/9 [==============================] - 0s 1ms/step - loss: 9.5088 - mse: 9.0212\n",
      "Epoch 3/20\n",
      "9/9 [==============================] - 0s 1ms/step - loss: 8.7217 - mse: 8.2342\n",
      "Epoch 4/20\n",
      "9/9 [==============================] - 0s 1ms/step - loss: 8.4931 - mse: 8.0058\n",
      "Epoch 5/20\n",
      "9/9 [==============================] - 0s 1ms/step - loss: 7.5382 - mse: 7.0511\n",
      "Epoch 6/20\n",
      "9/9 [==============================] - 0s 1ms/step - loss: 6.8125 - mse: 6.3255\n",
      "Epoch 7/20\n",
      "9/9 [==============================] - 0s 1ms/step - loss: 7.6865 - mse: 7.1996\n",
      "Epoch 8/20\n",
      "9/9 [==============================] - 0s 1ms/step - loss: 6.7983 - mse: 6.3115\n",
      "Epoch 9/20\n",
      "9/9 [==============================] - 0s 1ms/step - loss: 7.2866 - mse: 6.7999\n",
      "Epoch 10/20\n",
      "9/9 [==============================] - 0s 1ms/step - loss: 7.1083 - mse: 6.6217\n",
      "Epoch 11/20\n",
      "9/9 [==============================] - 0s 1ms/step - loss: 7.1937 - mse: 6.7072\n",
      "Epoch 12/20\n",
      "9/9 [==============================] - 0s 2ms/step - loss: 6.4202 - mse: 5.9338\n",
      "Epoch 13/20\n",
      "9/9 [==============================] - 0s 1ms/step - loss: 7.3476 - mse: 6.8613\n",
      "Epoch 14/20\n",
      "9/9 [==============================] - 0s 1ms/step - loss: 6.7527 - mse: 6.2665\n",
      "Epoch 15/20\n",
      "9/9 [==============================] - 0s 1ms/step - loss: 7.1830 - mse: 6.6969\n",
      "Epoch 16/20\n",
      "9/9 [==============================] - 0s 1ms/step - loss: 6.6321 - mse: 6.1461\n",
      "Epoch 17/20\n",
      "9/9 [==============================] - 0s 1ms/step - loss: 7.1003 - mse: 6.6144\n",
      "Epoch 18/20\n",
      "9/9 [==============================] - 0s 1ms/step - loss: 6.5320 - mse: 6.0462\n",
      "Epoch 19/20\n",
      "9/9 [==============================] - 0s 1ms/step - loss: 7.7535 - mse: 7.2679\n",
      "Epoch 20/20\n",
      "9/9 [==============================] - 0s 1ms/step - loss: 6.6792 - mse: 6.1936\n",
      "5/5 [==============================] - 0s 991us/step - loss: 5.6608 - mse: 5.1754\n",
      "R2-test -5.660845756530762\n",
      "5/5 [==============================] - 0s 868us/step\n",
      "MSE-test 5.175385180263577\n",
      "Best params: {'sel__n_features_to_select': 5, 'sel__estimator__learning_rate': 0.1, 'est__output_shape': 1, 'est__nn3': 30, 'est__nn2': 70, 'est__nn1': 20, 'est__nl3': 3, 'est__nl2': 3, 'est__nl1': 2, 'est__lr': 0.0001, 'est__l2': 0.001, 'est__l1': 0.0001, 'est__input_shape': 5, 'est__dropout': 0.1, 'est__decay': 1e-09, 'est__act': 'relu'}\n",
      "Selected features: ['norm_log(dis_lab4)', 'rt_lab4', 'cer_lab4', 'actq1_lab4', 'mean(qavt$_lab4)']\n"
     ]
    },
    {
     "data": {
      "text/plain": [
       "['norm_log(dis_lab4)', 'rt_lab4', 'cer_lab4', 'actq1_lab4', 'mean(qavt$_lab4)']"
      ]
     },
     "execution_count": 41,
     "metadata": {
      "tags": []
     },
     "output_type": "execute_result"
    }
   ],
   "source": [
    "run_process(datalab4, rand_cv)"
   ]
  },
  {
   "cell_type": "code",
   "execution_count": null,
   "metadata": {
    "colab": {
     "base_uri": "https://localhost:8080/"
    },
    "id": "4lzOE37LAmET",
    "outputId": "e9ff4245-4dc9-412d-def4-af751633aaeb"
   },
   "outputs": [
    {
     "name": "stdout",
     "output_type": "stream",
     "text": [
      "Fitting 5 folds for each of 10 candidates, totalling 50 fits\n",
      "Epoch 1/20\n",
      "13/13 [==============================] - 1s 1ms/step - loss: 23.0075 - mse: 8.4800\n",
      "Epoch 2/20\n",
      "13/13 [==============================] - 0s 1ms/step - loss: 20.7132 - mse: 6.3627\n",
      "Epoch 3/20\n",
      "13/13 [==============================] - 0s 1ms/step - loss: 20.9366 - mse: 6.7611\n",
      "Epoch 4/20\n",
      "13/13 [==============================] - 0s 1ms/step - loss: 20.0717 - mse: 6.0701\n",
      "Epoch 5/20\n",
      "13/13 [==============================] - 0s 1ms/step - loss: 19.9190 - mse: 6.0900\n",
      "Epoch 6/20\n",
      "13/13 [==============================] - 0s 1ms/step - loss: 19.5214 - mse: 5.8642\n",
      "Epoch 7/20\n",
      "13/13 [==============================] - 0s 1ms/step - loss: 19.8189 - mse: 6.3324\n",
      "Epoch 8/20\n",
      "13/13 [==============================] - 0s 1ms/step - loss: 19.6589 - mse: 6.3422\n",
      "Epoch 9/20\n",
      "13/13 [==============================] - 0s 1ms/step - loss: 19.0831 - mse: 5.9350\n",
      "Epoch 10/20\n",
      "13/13 [==============================] - 0s 1ms/step - loss: 18.9316 - mse: 5.9511\n",
      "Epoch 11/20\n",
      "13/13 [==============================] - 0s 1ms/step - loss: 18.8471 - mse: 6.0333\n",
      "Epoch 12/20\n",
      "13/13 [==============================] - 0s 1ms/step - loss: 18.3314 - mse: 5.6833\n",
      "Epoch 13/20\n",
      "13/13 [==============================] - 0s 1ms/step - loss: 18.4989 - mse: 6.0154\n",
      "Epoch 14/20\n",
      "13/13 [==============================] - 0s 1ms/step - loss: 18.1741 - mse: 5.8541\n",
      "Epoch 15/20\n",
      "13/13 [==============================] - 0s 1ms/step - loss: 18.0649 - mse: 5.9075\n",
      "Epoch 16/20\n",
      "13/13 [==============================] - 0s 1ms/step - loss: 17.8867 - mse: 5.8909\n",
      "Epoch 17/20\n",
      "13/13 [==============================] - 0s 1ms/step - loss: 17.7983 - mse: 5.9630\n",
      "Epoch 18/20\n",
      "13/13 [==============================] - 0s 1ms/step - loss: 17.5274 - mse: 5.8515\n",
      "Epoch 19/20\n",
      "13/13 [==============================] - 0s 1ms/step - loss: 17.3101 - mse: 5.7928\n",
      "Epoch 20/20\n",
      "13/13 [==============================] - 0s 1ms/step - loss: 17.0343 - mse: 5.6745\n",
      "R2-test-fit: -5.9196255736203645\n",
      "Epoch 1/20\n",
      "9/9 [==============================] - 1s 2ms/step - loss: 20.7381 - mse: 6.3133\n",
      "Epoch 2/20\n",
      "9/9 [==============================] - 0s 1ms/step - loss: 20.4030 - mse: 6.1004\n",
      "Epoch 3/20\n",
      "9/9 [==============================] - 0s 1ms/step - loss: 20.0866 - mse: 5.9055\n",
      "Epoch 4/20\n",
      "9/9 [==============================] - 0s 1ms/step - loss: 20.1244 - mse: 6.0643\n",
      "Epoch 5/20\n",
      "9/9 [==============================] - 0s 1ms/step - loss: 19.9953 - mse: 6.0558\n",
      "Epoch 6/20\n",
      "9/9 [==============================] - 0s 1ms/step - loss: 19.9849 - mse: 6.1653\n",
      "Epoch 7/20\n",
      "9/9 [==============================] - 0s 2ms/step - loss: 19.2991 - mse: 5.5990\n",
      "Epoch 8/20\n",
      "9/9 [==============================] - 0s 2ms/step - loss: 19.3769 - mse: 5.7959\n",
      "Epoch 9/20\n",
      "9/9 [==============================] - 0s 2ms/step - loss: 19.3887 - mse: 5.9261\n",
      "Epoch 10/20\n",
      "9/9 [==============================] - 0s 2ms/step - loss: 18.6609 - mse: 5.3162\n",
      "Epoch 11/20\n",
      "9/9 [==============================] - 0s 2ms/step - loss: 19.1256 - mse: 5.8983\n",
      "Epoch 12/20\n",
      "9/9 [==============================] - 0s 2ms/step - loss: 19.2242 - mse: 6.1138\n",
      "Epoch 13/20\n",
      "9/9 [==============================] - 0s 1ms/step - loss: 18.4612 - mse: 5.4671\n",
      "Epoch 14/20\n",
      "9/9 [==============================] - 0s 1ms/step - loss: 18.9540 - mse: 6.0755\n",
      "Epoch 15/20\n",
      "9/9 [==============================] - 0s 1ms/step - loss: 18.8362 - mse: 6.0729\n",
      "Epoch 16/20\n",
      "9/9 [==============================] - 0s 1ms/step - loss: 18.6748 - mse: 6.0262\n",
      "Epoch 17/20\n",
      "9/9 [==============================] - 0s 2ms/step - loss: 18.6808 - mse: 6.1463\n",
      "Epoch 18/20\n",
      "9/9 [==============================] - 0s 2ms/step - loss: 18.5893 - mse: 6.1684\n",
      "Epoch 19/20\n",
      "9/9 [==============================] - 0s 1ms/step - loss: 18.4019 - mse: 6.0940\n",
      "Epoch 20/20\n",
      "9/9 [==============================] - 0s 1ms/step - loss: 17.9291 - mse: 5.7335\n",
      "5/5 [==============================] - 0s 993us/step - loss: 18.0662 - mse: 5.9558\n",
      "R2-test -18.066213607788086\n",
      "5/5 [==============================] - 0s 992us/step\n",
      "MSE-test 5.955807588537583\n",
      "Best params: {'sel__n_features_to_select': 5, 'sel__estimator__learning_rate': 0.2, 'est__output_shape': 1, 'est__nn3': 30, 'est__nn2': 70, 'est__nn1': 50, 'est__nl3': 0, 'est__nl2': 3, 'est__nl1': 1, 'est__lr': 0.0001, 'est__l2': 0.0001, 'est__l1': 0.01, 'est__input_shape': 5, 'est__dropout': 0.2, 'est__decay': 0, 'est__act': 'sigmoid'}\n",
      "Selected features: ['rt_lab4', 'cer_lab4', 'actq1_lab4', 'mean(qavt$_lab4)', 'mean(qc$_lab4)']\n"
     ]
    },
    {
     "data": {
      "text/plain": [
       "['rt_lab4', 'cer_lab4', 'actq1_lab4', 'mean(qavt$_lab4)', 'mean(qc$_lab4)']"
      ]
     },
     "execution_count": 42,
     "metadata": {
      "tags": []
     },
     "output_type": "execute_result"
    }
   ],
   "source": [
    "run_process(datalab4, rand_cv)"
   ]
  },
  {
   "cell_type": "code",
   "execution_count": null,
   "metadata": {
    "colab": {
     "base_uri": "https://localhost:8080/"
    },
    "id": "hKQ13Q-ZAmKT",
    "outputId": "f147360d-c4a2-46b1-8617-d829efbc456e"
   },
   "outputs": [
    {
     "name": "stdout",
     "output_type": "stream",
     "text": [
      "Fitting 5 folds for each of 10 candidates, totalling 50 fits\n",
      "Epoch 1/20\n",
      "13/13 [==============================] - 1s 827us/step - loss: 7.3647 - mse: 7.3647\n",
      "Epoch 2/20\n",
      "13/13 [==============================] - 0s 827us/step - loss: 6.9304 - mse: 6.9304\n",
      "Epoch 3/20\n",
      "13/13 [==============================] - 0s 909us/step - loss: 6.1387 - mse: 6.1387\n",
      "Epoch 4/20\n",
      "13/13 [==============================] - 0s 827us/step - loss: 6.1378 - mse: 6.1378\n",
      "Epoch 5/20\n",
      "13/13 [==============================] - 0s 992us/step - loss: 6.3307 - mse: 6.3307\n",
      "Epoch 6/20\n",
      "13/13 [==============================] - 0s 951us/step - loss: 6.6716 - mse: 6.6716\n",
      "Epoch 7/20\n",
      "13/13 [==============================] - 0s 951us/step - loss: 6.1432 - mse: 6.1432\n",
      "Epoch 8/20\n",
      "13/13 [==============================] - 0s 868us/step - loss: 5.8555 - mse: 5.8555\n",
      "Epoch 9/20\n",
      "13/13 [==============================] - 0s 827us/step - loss: 5.8189 - mse: 5.8189\n",
      "Epoch 10/20\n",
      "13/13 [==============================] - 0s 951us/step - loss: 6.4217 - mse: 6.4217\n",
      "Epoch 11/20\n",
      "13/13 [==============================] - 0s 868us/step - loss: 5.8594 - mse: 5.8594\n",
      "Epoch 12/20\n",
      "13/13 [==============================] - 0s 951us/step - loss: 5.8074 - mse: 5.8074\n",
      "Epoch 13/20\n",
      "13/13 [==============================] - 0s 909us/step - loss: 5.9399 - mse: 5.9399\n",
      "Epoch 14/20\n",
      "13/13 [==============================] - 0s 1ms/step - loss: 5.6001 - mse: 5.6001\n",
      "Epoch 15/20\n",
      "13/13 [==============================] - 0s 992us/step - loss: 5.9550 - mse: 5.9550\n",
      "Epoch 16/20\n",
      "13/13 [==============================] - 0s 1ms/step - loss: 5.9223 - mse: 5.9223\n",
      "Epoch 17/20\n",
      "13/13 [==============================] - 0s 951us/step - loss: 6.1417 - mse: 6.1417\n",
      "Epoch 18/20\n",
      "13/13 [==============================] - 0s 909us/step - loss: 5.6637 - mse: 5.6637\n",
      "Epoch 19/20\n",
      "13/13 [==============================] - 0s 992us/step - loss: 5.2837 - mse: 5.2837\n",
      "Epoch 20/20\n",
      "13/13 [==============================] - 0s 1ms/step - loss: 5.8974 - mse: 5.8974\n",
      "R2-test-fit: -5.92215451436531\n",
      "Epoch 1/20\n",
      "9/9 [==============================] - 0s 1ms/step - loss: 8.1365 - mse: 8.1365\n",
      "Epoch 2/20\n",
      "9/9 [==============================] - 0s 1ms/step - loss: 7.0933 - mse: 7.0933\n",
      "Epoch 3/20\n",
      "9/9 [==============================] - 0s 1ms/step - loss: 7.3322 - mse: 7.3322\n",
      "Epoch 4/20\n",
      "9/9 [==============================] - 0s 1ms/step - loss: 6.8516 - mse: 6.8516\n",
      "Epoch 5/20\n",
      "9/9 [==============================] - 0s 1ms/step - loss: 6.7603 - mse: 6.7603\n",
      "Epoch 6/20\n",
      "9/9 [==============================] - 0s 1ms/step - loss: 6.2838 - mse: 6.2838\n",
      "Epoch 7/20\n",
      "9/9 [==============================] - 0s 1ms/step - loss: 6.2747 - mse: 6.2747\n",
      "Epoch 8/20\n",
      "9/9 [==============================] - 0s 992us/step - loss: 6.1700 - mse: 6.1700\n",
      "Epoch 9/20\n",
      "9/9 [==============================] - 0s 992us/step - loss: 6.5124 - mse: 6.5124\n",
      "Epoch 10/20\n",
      "9/9 [==============================] - 0s 992us/step - loss: 6.4438 - mse: 6.4438\n",
      "Epoch 11/20\n",
      "9/9 [==============================] - 0s 992us/step - loss: 6.0545 - mse: 6.0545\n",
      "Epoch 12/20\n",
      "9/9 [==============================] - 0s 992us/step - loss: 6.7492 - mse: 6.7492\n",
      "Epoch 13/20\n",
      "9/9 [==============================] - 0s 930us/step - loss: 5.8103 - mse: 5.8103\n",
      "Epoch 14/20\n",
      "9/9 [==============================] - 0s 1ms/step - loss: 6.3100 - mse: 6.3100\n",
      "Epoch 15/20\n",
      "9/9 [==============================] - 0s 1ms/step - loss: 6.2256 - mse: 6.2256\n",
      "Epoch 16/20\n",
      "9/9 [==============================] - 0s 1ms/step - loss: 6.6098 - mse: 6.6098\n",
      "Epoch 17/20\n",
      "9/9 [==============================] - 0s 1ms/step - loss: 6.5319 - mse: 6.5319\n",
      "Epoch 18/20\n",
      "9/9 [==============================] - 0s 1ms/step - loss: 6.6485 - mse: 6.6485\n",
      "Epoch 19/20\n",
      "9/9 [==============================] - 0s 1ms/step - loss: 6.0711 - mse: 6.0711\n",
      "Epoch 20/20\n",
      "9/9 [==============================] - 0s 1ms/step - loss: 6.3220 - mse: 6.3220\n",
      "5/5 [==============================] - 0s 868us/step - loss: 5.2606 - mse: 5.2606\n",
      "R2-test -5.260612487792969\n",
      "5/5 [==============================] - 0s 744us/step\n",
      "MSE-test 5.260612471771458\n",
      "Best params: {'sel__n_features_to_select': 5, 'sel__estimator__learning_rate': 0.2, 'est__output_shape': 1, 'est__nn3': 15, 'est__nn2': 70, 'est__nn1': 50, 'est__nl3': 1, 'est__nl2': 2, 'est__nl1': 1, 'est__lr': 0.01, 'est__l2': 0, 'est__l1': 0, 'est__input_shape': 5, 'est__dropout': 0.2, 'est__decay': 1e-09, 'est__act': 'relu'}\n",
      "Selected features: ['rt_lab4', 'rtr_lab4', 'err_lab4', 'actq2_lab4', 'mean(qc$_lab4)']\n"
     ]
    },
    {
     "data": {
      "text/plain": [
       "['rt_lab4', 'rtr_lab4', 'err_lab4', 'actq2_lab4', 'mean(qc$_lab4)']"
      ]
     },
     "execution_count": 43,
     "metadata": {
      "tags": []
     },
     "output_type": "execute_result"
    }
   ],
   "source": [
    "run_process(datalab4, rand_cv)"
   ]
  },
  {
   "cell_type": "code",
   "execution_count": null,
   "metadata": {
    "colab": {
     "base_uri": "https://localhost:8080/"
    },
    "id": "Q1OP3vGxAmQY",
    "outputId": "8ae20b0e-4553-4699-ca8d-e548d260bf80"
   },
   "outputs": [
    {
     "name": "stdout",
     "output_type": "stream",
     "text": [
      "Fitting 5 folds for each of 10 candidates, totalling 50 fits\n",
      "Epoch 1/20\n",
      "13/13 [==============================] - 1s 1ms/step - loss: 11.1054 - mse: 8.5651\n",
      "Epoch 2/20\n",
      "13/13 [==============================] - 0s 1ms/step - loss: 10.1554 - mse: 7.6272\n",
      "Epoch 3/20\n",
      "13/13 [==============================] - 0s 1ms/step - loss: 9.2997 - mse: 6.7826\n",
      "Epoch 4/20\n",
      "13/13 [==============================] - 0s 1ms/step - loss: 8.5836 - mse: 6.0767\n",
      "Epoch 5/20\n",
      "13/13 [==============================] - 0s 1ms/step - loss: 9.4489 - mse: 6.9520\n",
      "Epoch 6/20\n",
      "13/13 [==============================] - 0s 1ms/step - loss: 8.6434 - mse: 6.1567\n",
      "Epoch 7/20\n",
      "13/13 [==============================] - 0s 1ms/step - loss: 8.6997 - mse: 6.2234\n",
      "Epoch 8/20\n",
      "13/13 [==============================] - 0s 1ms/step - loss: 8.3749 - mse: 5.9095\n",
      "Epoch 9/20\n",
      "13/13 [==============================] - 0s 1ms/step - loss: 8.7071 - mse: 6.2528\n",
      "Epoch 10/20\n",
      "13/13 [==============================] - 0s 1ms/step - loss: 8.4470 - mse: 6.0040\n",
      "Epoch 11/20\n",
      "13/13 [==============================] - 0s 1ms/step - loss: 8.8330 - mse: 6.4014\n",
      "Epoch 12/20\n",
      "13/13 [==============================] - 0s 1ms/step - loss: 8.1607 - mse: 5.7406\n",
      "Epoch 13/20\n",
      "13/13 [==============================] - 0s 1ms/step - loss: 8.5145 - mse: 6.1060\n",
      "Epoch 14/20\n",
      "13/13 [==============================] - 0s 1ms/step - loss: 8.4214 - mse: 6.0245\n",
      "Epoch 15/20\n",
      "13/13 [==============================] - 0s 1ms/step - loss: 8.0232 - mse: 5.6379\n",
      "Epoch 16/20\n",
      "13/13 [==============================] - 0s 1ms/step - loss: 8.0012 - mse: 5.6276\n",
      "Epoch 17/20\n",
      "13/13 [==============================] - 0s 1ms/step - loss: 9.0643 - mse: 6.7023\n",
      "Epoch 18/20\n",
      "13/13 [==============================] - 0s 1ms/step - loss: 7.8965 - mse: 5.5462\n",
      "Epoch 19/20\n",
      "13/13 [==============================] - 0s 1ms/step - loss: 7.2798 - mse: 4.9411\n",
      "Epoch 20/20\n",
      "13/13 [==============================] - 0s 1ms/step - loss: 8.1804 - mse: 5.8533\n",
      "R2-test-fit: -5.924832306296704\n",
      "Epoch 1/20\n",
      "9/9 [==============================] - 1s 1ms/step - loss: 10.3984 - mse: 7.8669\n",
      "Epoch 2/20\n",
      "9/9 [==============================] - 0s 1ms/step - loss: 10.8438 - mse: 8.3218\n",
      "Epoch 3/20\n",
      "9/9 [==============================] - 0s 1ms/step - loss: 9.4091 - mse: 6.8957\n",
      "Epoch 4/20\n",
      "9/9 [==============================] - 0s 1ms/step - loss: 9.5422 - mse: 7.0365\n",
      "Epoch 5/20\n",
      "9/9 [==============================] - 0s 1ms/step - loss: 9.0835 - mse: 6.5850\n",
      "Epoch 6/20\n",
      "9/9 [==============================] - 0s 1ms/step - loss: 8.7206 - mse: 6.2288\n",
      "Epoch 7/20\n",
      "9/9 [==============================] - 0s 1ms/step - loss: 8.7646 - mse: 6.2794\n",
      "Epoch 8/20\n",
      "9/9 [==============================] - 0s 1ms/step - loss: 9.4150 - mse: 6.9365\n",
      "Epoch 9/20\n",
      "9/9 [==============================] - 0s 1ms/step - loss: 8.9457 - mse: 6.4742\n",
      "Epoch 10/20\n",
      "9/9 [==============================] - 0s 1ms/step - loss: 8.4796 - mse: 6.0154\n",
      "Epoch 11/20\n",
      "9/9 [==============================] - 0s 1ms/step - loss: 8.7527 - mse: 6.2957\n",
      "Epoch 12/20\n",
      "9/9 [==============================] - 0s 1ms/step - loss: 8.3983 - mse: 5.9487\n",
      "Epoch 13/20\n",
      "9/9 [==============================] - 0s 1ms/step - loss: 8.9818 - mse: 6.5398\n",
      "Epoch 14/20\n",
      "9/9 [==============================] - 0s 1ms/step - loss: 9.2898 - mse: 6.8556\n",
      "Epoch 15/20\n",
      "9/9 [==============================] - 0s 1ms/step - loss: 8.7277 - mse: 6.3012\n",
      "Epoch 16/20\n",
      "9/9 [==============================] - 0s 1ms/step - loss: 8.8956 - mse: 6.4770\n",
      "Epoch 17/20\n",
      "9/9 [==============================] - 0s 1ms/step - loss: 8.4263 - mse: 6.0156\n",
      "Epoch 18/20\n",
      "9/9 [==============================] - 0s 1ms/step - loss: 8.7579 - mse: 6.3551\n",
      "Epoch 19/20\n",
      "9/9 [==============================] - 0s 1ms/step - loss: 8.4200 - mse: 6.0251\n",
      "Epoch 20/20\n",
      "9/9 [==============================] - 0s 1ms/step - loss: 8.4035 - mse: 6.0166\n",
      "5/5 [==============================] - 0s 1ms/step - loss: 7.8045 - mse: 5.4236\n",
      "R2-test -7.804508686065674\n",
      "5/5 [==============================] - 0s 868us/step\n",
      "MSE-test 5.423649537337166\n",
      "Best params: {'sel__n_features_to_select': 5, 'sel__estimator__learning_rate': 0.1, 'est__output_shape': 1, 'est__nn3': 30, 'est__nn2': 10, 'est__nn1': 100, 'est__nl3': 1, 'est__nl2': 0, 'est__nl1': 3, 'est__lr': 0.01, 'est__l2': 0.01, 'est__l1': 0, 'est__input_shape': 5, 'est__dropout': 0.2, 'est__decay': 1e-09, 'est__act': 'relu'}\n",
      "Selected features: ['rt_lab4', 'rtr_lab4', 'cer_lab4', 'actq1_lab4', 'mean(qc$_lab4)']\n"
     ]
    },
    {
     "data": {
      "text/plain": [
       "['rt_lab4', 'rtr_lab4', 'cer_lab4', 'actq1_lab4', 'mean(qc$_lab4)']"
      ]
     },
     "execution_count": 44,
     "metadata": {
      "tags": []
     },
     "output_type": "execute_result"
    }
   ],
   "source": [
    "run_process(datalab4, rand_cv)"
   ]
  },
  {
   "cell_type": "code",
   "execution_count": null,
   "metadata": {
    "colab": {
     "base_uri": "https://localhost:8080/"
    },
    "id": "1Ac6ks_zAmWN",
    "outputId": "5091a608-3e8d-4231-c07c-8fe5840e94a9"
   },
   "outputs": [
    {
     "name": "stdout",
     "output_type": "stream",
     "text": [
      "Fitting 5 folds for each of 10 candidates, totalling 50 fits\n",
      "Epoch 1/20\n",
      "13/13 [==============================] - 1s 1ms/step - loss: 9.8232 - mse: 8.5742\n",
      "Epoch 2/20\n",
      "13/13 [==============================] - 0s 1ms/step - loss: 9.1387 - mse: 7.8910\n",
      "Epoch 3/20\n",
      "13/13 [==============================] - 0s 1ms/step - loss: 8.6030 - mse: 7.3561\n",
      "Epoch 4/20\n",
      "13/13 [==============================] - 0s 1ms/step - loss: 7.3176 - mse: 6.0713\n",
      "Epoch 5/20\n",
      "13/13 [==============================] - 0s 1ms/step - loss: 7.0710 - mse: 5.8251\n",
      "Epoch 6/20\n",
      "13/13 [==============================] - 0s 1ms/step - loss: 7.9138 - mse: 6.6684\n",
      "Epoch 7/20\n",
      "13/13 [==============================] - 0s 1ms/step - loss: 7.6337 - mse: 6.3889\n",
      "Epoch 8/20\n",
      "13/13 [==============================] - 0s 1ms/step - loss: 6.8303 - mse: 5.5863\n",
      "Epoch 9/20\n",
      "13/13 [==============================] - 0s 1ms/step - loss: 7.6414 - mse: 6.3982\n",
      "Epoch 10/20\n",
      "13/13 [==============================] - 0s 1ms/step - loss: 6.7945 - mse: 5.5522\n",
      "Epoch 11/20\n",
      "13/13 [==============================] - 0s 1ms/step - loss: 7.5292 - mse: 6.2879\n",
      "Epoch 12/20\n",
      "13/13 [==============================] - 0s 1ms/step - loss: 7.7045 - mse: 6.4642\n",
      "Epoch 13/20\n",
      "13/13 [==============================] - 0s 1ms/step - loss: 7.8543 - mse: 6.6150\n",
      "Epoch 14/20\n",
      "13/13 [==============================] - 0s 1ms/step - loss: 6.7882 - mse: 5.5499\n",
      "Epoch 15/20\n",
      "13/13 [==============================] - 0s 1ms/step - loss: 7.1311 - mse: 5.8938\n",
      "Epoch 16/20\n",
      "13/13 [==============================] - 0s 1ms/step - loss: 6.9098 - mse: 5.6735\n",
      "Epoch 17/20\n",
      "13/13 [==============================] - 0s 1ms/step - loss: 7.6312 - mse: 6.3961\n",
      "Epoch 18/20\n",
      "13/13 [==============================] - 0s 1ms/step - loss: 7.0399 - mse: 5.8059\n",
      "Epoch 19/20\n",
      "13/13 [==============================] - 0s 1ms/step - loss: 7.1520 - mse: 5.9191\n",
      "Epoch 20/20\n",
      "13/13 [==============================] - 0s 1ms/step - loss: 6.7938 - mse: 5.5620\n",
      "R2-test-fit: -5.912812298011652\n",
      "Epoch 1/20\n",
      "9/9 [==============================] - 1s 2ms/step - loss: 9.7126 - mse: 8.4605\n",
      "Epoch 2/20\n",
      "9/9 [==============================] - 0s 2ms/step - loss: 9.7428 - mse: 8.4914\n",
      "Epoch 3/20\n",
      "9/9 [==============================] - 0s 1ms/step - loss: 9.3384 - mse: 8.0872\n",
      "Epoch 4/20\n",
      "9/9 [==============================] - 0s 1ms/step - loss: 8.9916 - mse: 7.7406\n",
      "Epoch 5/20\n",
      "9/9 [==============================] - 0s 1ms/step - loss: 8.3092 - mse: 7.0583\n",
      "Epoch 6/20\n",
      "9/9 [==============================] - 0s 1ms/step - loss: 7.9165 - mse: 6.6657\n",
      "Epoch 7/20\n",
      "9/9 [==============================] - 0s 1ms/step - loss: 8.0341 - mse: 6.7833\n",
      "Epoch 8/20\n",
      "9/9 [==============================] - 0s 1ms/step - loss: 7.0253 - mse: 5.7748\n",
      "Epoch 9/20\n",
      "9/9 [==============================] - 0s 1ms/step - loss: 7.4263 - mse: 6.1762\n",
      "Epoch 10/20\n",
      "9/9 [==============================] - 0s 1ms/step - loss: 7.5000 - mse: 6.2503\n",
      "Epoch 11/20\n",
      "9/9 [==============================] - 0s 1ms/step - loss: 7.3469 - mse: 6.0977\n",
      "Epoch 12/20\n",
      "9/9 [==============================] - 0s 1ms/step - loss: 7.3090 - mse: 6.0603\n",
      "Epoch 13/20\n",
      "9/9 [==============================] - 0s 1ms/step - loss: 7.2323 - mse: 5.9842\n",
      "Epoch 14/20\n",
      "9/9 [==============================] - 0s 1ms/step - loss: 7.4604 - mse: 6.2128\n",
      "Epoch 15/20\n",
      "9/9 [==============================] - 0s 1ms/step - loss: 7.1313 - mse: 5.8844\n",
      "Epoch 16/20\n",
      "9/9 [==============================] - 0s 1ms/step - loss: 7.0442 - mse: 5.7980\n",
      "Epoch 17/20\n",
      "9/9 [==============================] - 0s 1ms/step - loss: 7.3103 - mse: 6.0647\n",
      "Epoch 18/20\n",
      "9/9 [==============================] - 0s 1ms/step - loss: 7.4764 - mse: 6.2315\n",
      "Epoch 19/20\n",
      "9/9 [==============================] - 0s 1ms/step - loss: 7.5425 - mse: 6.2984\n",
      "Epoch 20/20\n",
      "9/9 [==============================] - 0s 1ms/step - loss: 7.2600 - mse: 6.0166\n",
      "5/5 [==============================] - 0s 1ms/step - loss: 6.6521 - mse: 5.4093\n",
      "R2-test -6.652135848999023\n",
      "5/5 [==============================] - 0s 1ms/step\n",
      "MSE-test 5.40929847260508\n",
      "Best params: {'sel__n_features_to_select': 5, 'sel__estimator__learning_rate': 0.05, 'est__output_shape': 1, 'est__nn3': 30, 'est__nn2': 40, 'est__nn1': 50, 'est__nl3': 2, 'est__nl2': 1, 'est__nl1': 3, 'est__lr': 0.0001, 'est__l2': 0.0001, 'est__l1': 0.001, 'est__input_shape': 5, 'est__dropout': 0.3, 'est__decay': 1e-09, 'est__act': 'relu'}\n",
      "Selected features: ['rt_lab4', 'err_lab4', 'cer_lab4', 'actq1_lab4', 'mean(qc$_lab4)']\n"
     ]
    },
    {
     "data": {
      "text/plain": [
       "['rt_lab4', 'err_lab4', 'cer_lab4', 'actq1_lab4', 'mean(qc$_lab4)']"
      ]
     },
     "execution_count": 45,
     "metadata": {
      "tags": []
     },
     "output_type": "execute_result"
    }
   ],
   "source": [
    "run_process(datalab4, rand_cv)"
   ]
  },
  {
   "cell_type": "code",
   "execution_count": null,
   "metadata": {
    "id": "OiYum-ar0hHG"
   },
   "outputs": [],
   "source": [
    "estimator = model\n",
    "\n",
    "param_grid = {\n",
    "    'nl1':            nl1,\n",
    "    'nl2':            nl2,\n",
    "    'nl3':            nl3,\n",
    "    'nn1':            nn1,\n",
    "    'nn2':            nn2,\n",
    "    'nn3':            nn3,\n",
    "    'act':            activation,\n",
    "    'l1':             l1,\n",
    "    'l2':             l2,\n",
    "    'lr':             lr,\n",
    "    'decay':          decay,\n",
    "    'dropout':        dropout, \n",
    "    'input_shape':    [20],\n",
    "    'output_shape':   [1]\n",
    "}\n",
    "\n",
    "rand_cv = RandomizedSearchCV(estimator=estimator,\n",
    "                             param_distributions=param_grid,\n",
    "                             verbose=100,\n",
    "                             n_iter=10,\n",
    "                             scoring='neg_mean_squared_error',\n",
    "                             n_jobs=-1,\n",
    "                             return_train_score=True,\n",
    "                             cv=KFold(n_splits=5, shuffle=True))"
   ]
  },
  {
   "cell_type": "code",
   "execution_count": null,
   "metadata": {
    "id": "hs2A-lLb0hHP"
   },
   "outputs": [],
   "source": [
    "selected_features_ann_1 = ['actq3_lab1','actq1_lab1','mean(qmsr$_lab1)','rtr_lab1','cer_lab1']\n",
    "selected_features_ann_2 = ['actq3_lab2','actq1_lab2','mean(qavt$_lab2)','avgtime_lab2','rt_lab2']\n",
    "selected_features_ann_3 = ['rt_lab3','actq1_lab3','ut_lab3','mean(qact$_lab3)','cer_lab3']\n",
    "selected_features_ann_4 = ['rt_lab4','cer_lab4','err_lab4','actq1_lab4','mean(qc$_lab4)']"
   ]
  },
  {
   "cell_type": "markdown",
   "metadata": {
    "id": "aWeXk-HE0hHP"
   },
   "source": [
    "1_2"
   ]
  },
  {
   "cell_type": "code",
   "execution_count": null,
   "metadata": {
    "colab": {
     "base_uri": "https://localhost:8080/"
    },
    "id": "0HTgBtQz0hHQ",
    "outputId": "79a6a9da-054b-4a7f-d868-c8af237d4f1b"
   },
   "outputs": [
    {
     "name": "stdout",
     "output_type": "stream",
     "text": [
      "Fitting 5 folds for each of 10 candidates, totalling 50 fits\n",
      "Epoch 1/20\n",
      "13/13 [==============================] - 1s 1ms/step - loss: 7.9412 - mse: 7.6026\n",
      "Epoch 2/20\n",
      "13/13 [==============================] - 0s 951us/step - loss: 7.4373 - mse: 7.0986\n",
      "Epoch 3/20\n",
      "13/13 [==============================] - 0s 992us/step - loss: 6.7720 - mse: 6.4328\n",
      "Epoch 4/20\n",
      "13/13 [==============================] - 0s 1ms/step - loss: 5.9585 - mse: 5.6190\n",
      "Epoch 5/20\n",
      "13/13 [==============================] - 0s 951us/step - loss: 6.0052 - mse: 5.6653\n",
      "Epoch 6/20\n",
      "13/13 [==============================] - 0s 951us/step - loss: 5.8995 - mse: 5.5595\n",
      "Epoch 7/20\n",
      "13/13 [==============================] - 0s 909us/step - loss: 6.7229 - mse: 6.3829\n",
      "Epoch 8/20\n",
      "13/13 [==============================] - 0s 1ms/step - loss: 7.3314 - mse: 6.9913\n",
      "Epoch 9/20\n",
      "13/13 [==============================] - 0s 1ms/step - loss: 6.8577 - mse: 6.5176\n",
      "Epoch 10/20\n",
      "13/13 [==============================] - 0s 992us/step - loss: 6.4638 - mse: 6.1238\n",
      "Epoch 11/20\n",
      "13/13 [==============================] - 0s 951us/step - loss: 6.5430 - mse: 6.2031\n",
      "Epoch 12/20\n",
      "13/13 [==============================] - 0s 951us/step - loss: 6.3019 - mse: 5.9621\n",
      "Epoch 13/20\n",
      "13/13 [==============================] - 0s 950us/step - loss: 6.1749 - mse: 5.8352\n",
      "Epoch 14/20\n",
      "13/13 [==============================] - 0s 1ms/step - loss: 6.1065 - mse: 5.7669\n",
      "Epoch 15/20\n",
      "13/13 [==============================] - 0s 1ms/step - loss: 6.4656 - mse: 6.1261\n",
      "Epoch 16/20\n",
      "13/13 [==============================] - 0s 1ms/step - loss: 5.9876 - mse: 5.6483\n",
      "Epoch 17/20\n",
      "13/13 [==============================] - 0s 909us/step - loss: 5.9719 - mse: 5.6327\n",
      "Epoch 18/20\n",
      "13/13 [==============================] - 0s 992us/step - loss: 6.2694 - mse: 5.9303\n",
      "Epoch 19/20\n",
      "13/13 [==============================] - 0s 951us/step - loss: 6.0560 - mse: 5.7171\n",
      "Epoch 20/20\n",
      "13/13 [==============================] - 0s 951us/step - loss: 5.6072 - mse: 5.2684\n",
      "R2-test-fit: -5.914448891854319\n",
      "Epoch 1/20\n",
      "9/9 [==============================] - 1s 868us/step - loss: 8.7534 - mse: 8.4123\n",
      "Epoch 2/20\n",
      "9/9 [==============================] - 0s 806us/step - loss: 7.6353 - mse: 7.2942\n",
      "Epoch 3/20\n",
      "9/9 [==============================] - 0s 868us/step - loss: 7.4654 - mse: 7.1241\n",
      "Epoch 4/20\n",
      "9/9 [==============================] - 0s 868us/step - loss: 6.3649 - mse: 6.0233\n",
      "Epoch 5/20\n",
      "9/9 [==============================] - 0s 807us/step - loss: 6.6284 - mse: 6.2864\n",
      "Epoch 6/20\n",
      "9/9 [==============================] - 0s 806us/step - loss: 5.7034 - mse: 5.3613\n",
      "Epoch 7/20\n",
      "9/9 [==============================] - 0s 748us/step - loss: 6.4795 - mse: 6.1372\n",
      "Epoch 8/20\n",
      "9/9 [==============================] - 0s 868us/step - loss: 5.8188 - mse: 5.4764\n",
      "Epoch 9/20\n",
      "9/9 [==============================] - 0s 868us/step - loss: 6.3233 - mse: 5.9809\n",
      "Epoch 10/20\n",
      "9/9 [==============================] - 0s 868us/step - loss: 6.6248 - mse: 6.2823\n",
      "Epoch 11/20\n",
      "9/9 [==============================] - 0s 868us/step - loss: 6.5316 - mse: 6.1891\n",
      "Epoch 12/20\n",
      "9/9 [==============================] - 0s 930us/step - loss: 6.6714 - mse: 6.3289\n",
      "Epoch 13/20\n",
      "9/9 [==============================] - 0s 930us/step - loss: 5.8641 - mse: 5.5216\n",
      "Epoch 14/20\n",
      "9/9 [==============================] - 0s 868us/step - loss: 6.8671 - mse: 6.5247\n",
      "Epoch 15/20\n",
      "9/9 [==============================] - 0s 868us/step - loss: 6.0666 - mse: 5.7243\n",
      "Epoch 16/20\n",
      "9/9 [==============================] - 0s 868us/step - loss: 6.3651 - mse: 6.0229\n",
      "Epoch 17/20\n",
      "9/9 [==============================] - 0s 992us/step - loss: 5.5511 - mse: 5.2089\n",
      "Epoch 18/20\n",
      "9/9 [==============================] - 0s 930us/step - loss: 6.4757 - mse: 6.1335\n",
      "Epoch 19/20\n",
      "9/9 [==============================] - 0s 930us/step - loss: 6.6408 - mse: 6.2988\n",
      "Epoch 20/20\n",
      "9/9 [==============================] - 0s 992us/step - loss: 6.0090 - mse: 5.6670\n",
      "5/5 [==============================] - 0s 1ms/step - loss: 6.1478 - mse: 5.8059\n",
      "R2-test -6.147817611694336\n",
      "5/5 [==============================] - 0s 868us/step\n",
      "MSE-test 5.805909549324682\n",
      "Best params: {'output_shape': 1, 'nn3': 30, 'nn2': 40, 'nn1': 100, 'nl3': 2, 'nl2': 0, 'nl1': 2, 'lr': 0.01, 'l2': 0.001, 'l1': 0.0001, 'input_shape': 10, 'dropout': 0, 'decay': 1e-09, 'act': 'relu'}\n"
     ]
    },
    {
     "data": {
      "text/plain": [
       "['actq3_lab1',\n",
       " 'actq1_lab1',\n",
       " 'mean(qmsr$_lab1)',\n",
       " 'rtr_lab1',\n",
       " 'cer_lab1',\n",
       " 'actq3_lab2',\n",
       " 'actq1_lab2',\n",
       " 'mean(qavt$_lab2)',\n",
       " 'avgtime_lab2',\n",
       " 'rt_lab2']"
      ]
     },
     "execution_count": 13,
     "metadata": {
      "tags": []
     },
     "output_type": "execute_result"
    }
   ],
   "source": [
    "dataset = datalab1[[TARGET] + selected_features_ann_1].join(datalab2[selected_features_ann_2])\n",
    "run_process(dataset,rand_cv)"
   ]
  },
  {
   "cell_type": "code",
   "execution_count": null,
   "metadata": {
    "colab": {
     "base_uri": "https://localhost:8080/"
    },
    "id": "1nHZ5g6o11IY",
    "outputId": "3641d6bd-eb0d-4bc4-fe29-9b4088f6ead2"
   },
   "outputs": [
    {
     "name": "stdout",
     "output_type": "stream",
     "text": [
      "Fitting 5 folds for each of 10 candidates, totalling 50 fits\n",
      "Epoch 1/20\n",
      "13/13 [==============================] - 1s 1ms/step - loss: 8.8065 - mse: 8.0262\n",
      "Epoch 2/20\n",
      "13/13 [==============================] - 0s 951us/step - loss: 7.0924 - mse: 6.3132\n",
      "Epoch 3/20\n",
      "13/13 [==============================] - 0s 951us/step - loss: 6.6397 - mse: 5.8616\n",
      "Epoch 4/20\n",
      "13/13 [==============================] - 0s 950us/step - loss: 6.3780 - mse: 5.6009\n",
      "Epoch 5/20\n",
      "13/13 [==============================] - 0s 868us/step - loss: 7.1986 - mse: 6.4226\n",
      "Epoch 6/20\n",
      "13/13 [==============================] - 0s 868us/step - loss: 6.6423 - mse: 5.8674\n",
      "Epoch 7/20\n",
      "13/13 [==============================] - 0s 909us/step - loss: 6.5313 - mse: 5.7574\n",
      "Epoch 8/20\n",
      "13/13 [==============================] - 0s 909us/step - loss: 6.3361 - mse: 5.5633\n",
      "Epoch 9/20\n",
      "13/13 [==============================] - 0s 909us/step - loss: 6.8393 - mse: 6.0676\n",
      "Epoch 10/20\n",
      "13/13 [==============================] - 0s 1ms/step - loss: 6.7274 - mse: 5.9567\n",
      "Epoch 11/20\n",
      "13/13 [==============================] - 0s 909us/step - loss: 6.7689 - mse: 5.9993\n",
      "Epoch 12/20\n",
      "13/13 [==============================] - 0s 868us/step - loss: 6.1639 - mse: 5.3953\n",
      "Epoch 13/20\n",
      "13/13 [==============================] - 0s 951us/step - loss: 6.1424 - mse: 5.3749\n",
      "Epoch 14/20\n",
      "13/13 [==============================] - 0s 868us/step - loss: 6.9988 - mse: 6.2324\n",
      "Epoch 15/20\n",
      "13/13 [==============================] - 0s 785us/step - loss: 6.4871 - mse: 5.7217\n",
      "Epoch 16/20\n",
      "13/13 [==============================] - 0s 827us/step - loss: 6.3448 - mse: 5.5805\n",
      "Epoch 17/20\n",
      "13/13 [==============================] - 0s 1ms/step - loss: 6.1134 - mse: 5.3502\n",
      "Epoch 18/20\n",
      "13/13 [==============================] - 0s 909us/step - loss: 7.1236 - mse: 6.3614\n",
      "Epoch 19/20\n",
      "13/13 [==============================] - 0s 909us/step - loss: 6.6717 - mse: 5.9105\n",
      "Epoch 20/20\n",
      "13/13 [==============================] - 0s 827us/step - loss: 6.1977 - mse: 5.4376\n",
      "R2-test-fit: -5.9262324817175145\n",
      "Epoch 1/20\n",
      "9/9 [==============================] - 0s 868us/step - loss: 7.5752 - mse: 6.7916\n",
      "Epoch 2/20\n",
      "9/9 [==============================] - 0s 806us/step - loss: 7.1102 - mse: 6.3275\n",
      "Epoch 3/20\n",
      "9/9 [==============================] - 0s 868us/step - loss: 7.1188 - mse: 6.3368\n",
      "Epoch 4/20\n",
      "9/9 [==============================] - 0s 868us/step - loss: 7.2453 - mse: 6.4641\n",
      "Epoch 5/20\n",
      "9/9 [==============================] - 0s 868us/step - loss: 6.8096 - mse: 6.0292\n",
      "Epoch 6/20\n",
      "9/9 [==============================] - 0s 810us/step - loss: 6.1585 - mse: 5.3788\n",
      "Epoch 7/20\n",
      "9/9 [==============================] - 0s 806us/step - loss: 6.3928 - mse: 5.6139\n",
      "Epoch 8/20\n",
      "9/9 [==============================] - 0s 868us/step - loss: 6.4576 - mse: 5.6794\n",
      "Epoch 9/20\n",
      "9/9 [==============================] - 0s 868us/step - loss: 6.6107 - mse: 5.8332\n",
      "Epoch 10/20\n",
      "9/9 [==============================] - 0s 808us/step - loss: 6.5041 - mse: 5.7273\n",
      "Epoch 11/20\n",
      "9/9 [==============================] - 0s 905us/step - loss: 6.9780 - mse: 6.2020\n",
      "Epoch 12/20\n",
      "9/9 [==============================] - 0s 1ms/step - loss: 7.4097 - mse: 6.6344\n",
      "Epoch 13/20\n",
      "9/9 [==============================] - 0s 868us/step - loss: 7.0277 - mse: 6.2531\n",
      "Epoch 14/20\n",
      "9/9 [==============================] - 0s 868us/step - loss: 6.5926 - mse: 5.8188\n",
      "Epoch 15/20\n",
      "9/9 [==============================] - 0s 806us/step - loss: 7.1749 - mse: 6.4018\n",
      "Epoch 16/20\n",
      "9/9 [==============================] - 0s 806us/step - loss: 6.6041 - mse: 5.8318\n",
      "Epoch 17/20\n",
      "9/9 [==============================] - 0s 868us/step - loss: 7.1258 - mse: 6.3542\n",
      "Epoch 18/20\n",
      "9/9 [==============================] - 0s 868us/step - loss: 6.6965 - mse: 5.9256\n",
      "Epoch 19/20\n",
      "9/9 [==============================] - 0s 802us/step - loss: 6.4170 - mse: 5.6469\n",
      "Epoch 20/20\n",
      "9/9 [==============================] - 0s 806us/step - loss: 7.1909 - mse: 6.4215\n",
      "5/5 [==============================] - 0s 991us/step - loss: 6.8192 - mse: 6.0504\n",
      "R2-test -6.819202423095703\n",
      "5/5 [==============================] - 0s 868us/step\n",
      "MSE-test 6.0503530130831\n",
      "Best params: {'output_shape': 1, 'nn3': 30, 'nn2': 70, 'nn1': 100, 'nl3': 0, 'nl2': 1, 'nl1': 1, 'lr': 0.0001, 'l2': 0.0001, 'l1': 0.001, 'input_shape': 10, 'dropout': 0, 'decay': 0, 'act': 'sigmoid'}\n"
     ]
    },
    {
     "data": {
      "text/plain": [
       "['actq3_lab1',\n",
       " 'actq1_lab1',\n",
       " 'mean(qmsr$_lab1)',\n",
       " 'rtr_lab1',\n",
       " 'cer_lab1',\n",
       " 'actq3_lab2',\n",
       " 'actq1_lab2',\n",
       " 'mean(qavt$_lab2)',\n",
       " 'avgtime_lab2',\n",
       " 'rt_lab2']"
      ]
     },
     "execution_count": 14,
     "metadata": {
      "tags": []
     },
     "output_type": "execute_result"
    }
   ],
   "source": [
    "dataset = datalab1[[TARGET] + selected_features_ann_1].join(datalab2[selected_features_ann_2])\n",
    "run_process(dataset,rand_cv)"
   ]
  },
  {
   "cell_type": "code",
   "execution_count": null,
   "metadata": {
    "colab": {
     "base_uri": "https://localhost:8080/"
    },
    "id": "6DfUIvvs11Sf",
    "outputId": "6274aa62-407a-4124-ba16-8f424c4f94c5"
   },
   "outputs": [
    {
     "name": "stdout",
     "output_type": "stream",
     "text": [
      "Fitting 5 folds for each of 10 candidates, totalling 50 fits\n",
      "Epoch 1/20\n",
      "13/13 [==============================] - 1s 1ms/step - loss: 7.6977 - mse: 7.5564\n",
      "Epoch 2/20\n",
      "13/13 [==============================] - 0s 1ms/step - loss: 8.1878 - mse: 8.0463\n",
      "Epoch 3/20\n",
      "13/13 [==============================] - 0s 1ms/step - loss: 6.8323 - mse: 6.6904\n",
      "Epoch 4/20\n",
      "13/13 [==============================] - 0s 1ms/step - loss: 6.0625 - mse: 5.9201\n",
      "Epoch 5/20\n",
      "13/13 [==============================] - 0s 1ms/step - loss: 6.3927 - mse: 6.2501\n",
      "Epoch 6/20\n",
      "13/13 [==============================] - 0s 1ms/step - loss: 5.5243 - mse: 5.3814\n",
      "Epoch 7/20\n",
      "13/13 [==============================] - 0s 1ms/step - loss: 6.1783 - mse: 6.0353\n",
      "Epoch 8/20\n",
      "13/13 [==============================] - 0s 1ms/step - loss: 6.1278 - mse: 5.9847\n",
      "Epoch 9/20\n",
      "13/13 [==============================] - 0s 951us/step - loss: 6.1442 - mse: 6.0010\n",
      "Epoch 10/20\n",
      "13/13 [==============================] - 0s 992us/step - loss: 5.4358 - mse: 5.2926\n",
      "Epoch 11/20\n",
      "13/13 [==============================] - 0s 951us/step - loss: 6.2549 - mse: 6.1117\n",
      "Epoch 12/20\n",
      "13/13 [==============================] - 0s 951us/step - loss: 6.3928 - mse: 6.2496\n",
      "Epoch 13/20\n",
      "13/13 [==============================] - 0s 1ms/step - loss: 6.0962 - mse: 5.9529\n",
      "Epoch 14/20\n",
      "13/13 [==============================] - 0s 1ms/step - loss: 6.2715 - mse: 6.1283\n",
      "Epoch 15/20\n",
      "13/13 [==============================] - 0s 951us/step - loss: 6.0958 - mse: 5.9526\n",
      "Epoch 16/20\n",
      "13/13 [==============================] - 0s 909us/step - loss: 6.2561 - mse: 6.1128\n",
      "Epoch 17/20\n",
      "13/13 [==============================] - 0s 992us/step - loss: 6.6141 - mse: 6.4708\n",
      "Epoch 18/20\n",
      "13/13 [==============================] - 0s 951us/step - loss: 5.6844 - mse: 5.5411\n",
      "Epoch 19/20\n",
      "13/13 [==============================] - 0s 1ms/step - loss: 6.0312 - mse: 5.8880\n",
      "Epoch 20/20\n",
      "13/13 [==============================] - 0s 1ms/step - loss: 6.2691 - mse: 6.1260\n",
      "R2-test-fit: -5.917197743307329\n",
      "Epoch 1/20\n",
      "9/9 [==============================] - 1s 1ms/step - loss: 8.3074 - mse: 8.1679\n",
      "Epoch 2/20\n",
      "9/9 [==============================] - 0s 1ms/step - loss: 8.1258 - mse: 7.9865\n",
      "Epoch 3/20\n",
      "9/9 [==============================] - 0s 1ms/step - loss: 7.3989 - mse: 7.2595\n",
      "Epoch 4/20\n",
      "9/9 [==============================] - 0s 1ms/step - loss: 7.4958 - mse: 7.3562\n",
      "Epoch 5/20\n",
      "9/9 [==============================] - 0s 1ms/step - loss: 7.1612 - mse: 7.0213\n",
      "Epoch 6/20\n",
      "9/9 [==============================] - 0s 1ms/step - loss: 6.2772 - mse: 6.1371\n",
      "Epoch 7/20\n",
      "9/9 [==============================] - 0s 1ms/step - loss: 6.7475 - mse: 6.6070\n",
      "Epoch 8/20\n",
      "9/9 [==============================] - 0s 1ms/step - loss: 5.9769 - mse: 5.8363\n",
      "Epoch 9/20\n",
      "9/9 [==============================] - 0s 1ms/step - loss: 5.4990 - mse: 5.3581\n",
      "Epoch 10/20\n",
      "9/9 [==============================] - 0s 1ms/step - loss: 6.3532 - mse: 6.2121\n",
      "Epoch 11/20\n",
      "9/9 [==============================] - 0s 1ms/step - loss: 6.1224 - mse: 5.9812\n",
      "Epoch 12/20\n",
      "9/9 [==============================] - 0s 1ms/step - loss: 6.2241 - mse: 6.0828\n",
      "Epoch 13/20\n",
      "9/9 [==============================] - 0s 1ms/step - loss: 6.1283 - mse: 5.9869\n",
      "Epoch 14/20\n",
      "9/9 [==============================] - 0s 1ms/step - loss: 6.6973 - mse: 6.5559\n",
      "Epoch 15/20\n",
      "9/9 [==============================] - 0s 1ms/step - loss: 6.3667 - mse: 6.2252\n",
      "Epoch 16/20\n",
      "9/9 [==============================] - 0s 1ms/step - loss: 6.0242 - mse: 5.8826\n",
      "Epoch 17/20\n",
      "9/9 [==============================] - 0s 1ms/step - loss: 6.5326 - mse: 6.3911\n",
      "Epoch 18/20\n",
      "9/9 [==============================] - 0s 1ms/step - loss: 5.8659 - mse: 5.7243\n",
      "Epoch 19/20\n",
      "9/9 [==============================] - 0s 1ms/step - loss: 5.9519 - mse: 5.8103\n",
      "Epoch 20/20\n",
      "9/9 [==============================] - 0s 1ms/step - loss: 5.9038 - mse: 5.7622\n",
      "5/5 [==============================] - 0s 1ms/step - loss: 6.3512 - mse: 6.2095\n",
      "R2-test -6.351170063018799\n",
      "5/5 [==============================] - 0s 992us/step\n",
      "MSE-test 6.209518135388089\n",
      "Best params: {'output_shape': 1, 'nn3': 5, 'nn2': 40, 'nn1': 20, 'nl3': 0, 'nl2': 3, 'nl1': 2, 'lr': 0.01, 'l2': 0.001, 'l1': 0, 'input_shape': 10, 'dropout': 0.1, 'decay': 1e-06, 'act': 'relu'}\n"
     ]
    },
    {
     "data": {
      "text/plain": [
       "['actq3_lab1',\n",
       " 'actq1_lab1',\n",
       " 'mean(qmsr$_lab1)',\n",
       " 'rtr_lab1',\n",
       " 'cer_lab1',\n",
       " 'actq3_lab2',\n",
       " 'actq1_lab2',\n",
       " 'mean(qavt$_lab2)',\n",
       " 'avgtime_lab2',\n",
       " 'rt_lab2']"
      ]
     },
     "execution_count": 15,
     "metadata": {
      "tags": []
     },
     "output_type": "execute_result"
    }
   ],
   "source": [
    "dataset = datalab1[[TARGET] + selected_features_ann_1].join(datalab2[selected_features_ann_2])\n",
    "run_process(dataset,rand_cv)"
   ]
  },
  {
   "cell_type": "code",
   "execution_count": null,
   "metadata": {
    "colab": {
     "base_uri": "https://localhost:8080/"
    },
    "id": "C9O1-5N211h3",
    "outputId": "a2136e9b-09b5-444d-d977-389dd66f7c39"
   },
   "outputs": [
    {
     "name": "stdout",
     "output_type": "stream",
     "text": [
      "Fitting 5 folds for each of 10 candidates, totalling 50 fits\n",
      "Epoch 1/20\n",
      "13/13 [==============================] - 0s 1ms/step - loss: 7.6192 - mse: 7.5016\n",
      "Epoch 2/20\n",
      "13/13 [==============================] - 0s 1ms/step - loss: 6.4630 - mse: 6.3455\n",
      "Epoch 3/20\n",
      "13/13 [==============================] - 0s 1ms/step - loss: 6.2530 - mse: 6.1356\n",
      "Epoch 4/20\n",
      "13/13 [==============================] - 0s 1ms/step - loss: 5.9422 - mse: 5.8248\n",
      "Epoch 5/20\n",
      "13/13 [==============================] - 0s 1ms/step - loss: 6.1411 - mse: 6.0238\n",
      "Epoch 6/20\n",
      "13/13 [==============================] - 0s 1ms/step - loss: 6.0606 - mse: 5.9433\n",
      "Epoch 7/20\n",
      "13/13 [==============================] - 0s 1ms/step - loss: 5.9040 - mse: 5.7868\n",
      "Epoch 8/20\n",
      "13/13 [==============================] - 0s 1ms/step - loss: 5.8924 - mse: 5.7752\n",
      "Epoch 9/20\n",
      "13/13 [==============================] - 0s 1ms/step - loss: 5.8770 - mse: 5.7598\n",
      "Epoch 10/20\n",
      "13/13 [==============================] - 0s 1ms/step - loss: 5.2410 - mse: 5.1240\n",
      "Epoch 11/20\n",
      "13/13 [==============================] - 0s 1ms/step - loss: 5.9673 - mse: 5.8503\n",
      "Epoch 12/20\n",
      "13/13 [==============================] - 0s 909us/step - loss: 5.8669 - mse: 5.7500\n",
      "Epoch 13/20\n",
      "13/13 [==============================] - 0s 1ms/step - loss: 5.8136 - mse: 5.6967\n",
      "Epoch 14/20\n",
      "13/13 [==============================] - 0s 1ms/step - loss: 6.4655 - mse: 6.3487\n",
      "Epoch 15/20\n",
      "13/13 [==============================] - 0s 951us/step - loss: 6.1378 - mse: 6.0210\n",
      "Epoch 16/20\n",
      "13/13 [==============================] - 0s 1ms/step - loss: 6.4738 - mse: 6.3570\n",
      "Epoch 17/20\n",
      "13/13 [==============================] - 0s 1ms/step - loss: 6.2416 - mse: 6.1249\n",
      "Epoch 18/20\n",
      "13/13 [==============================] - 0s 1ms/step - loss: 5.7783 - mse: 5.6617\n",
      "Epoch 19/20\n",
      "13/13 [==============================] - 0s 1ms/step - loss: 6.3918 - mse: 6.2752\n",
      "Epoch 20/20\n",
      "13/13 [==============================] - 0s 1ms/step - loss: 6.0896 - mse: 5.9731\n",
      "R2-test-fit: -5.912251442993624\n",
      "Epoch 1/20\n",
      "9/9 [==============================] - 1s 1ms/step - loss: 6.9138 - mse: 6.7941\n",
      "Epoch 2/20\n",
      "9/9 [==============================] - 0s 992us/step - loss: 6.0902 - mse: 5.9704\n",
      "Epoch 3/20\n",
      "9/9 [==============================] - 0s 992us/step - loss: 6.0305 - mse: 5.9108\n",
      "Epoch 4/20\n",
      "9/9 [==============================] - 0s 1ms/step - loss: 5.7181 - mse: 5.5984\n",
      "Epoch 5/20\n",
      "9/9 [==============================] - 0s 992us/step - loss: 5.3695 - mse: 5.2498\n",
      "Epoch 6/20\n",
      "9/9 [==============================] - 0s 930us/step - loss: 5.4034 - mse: 5.2837\n",
      "Epoch 7/20\n",
      "9/9 [==============================] - 0s 868us/step - loss: 5.6659 - mse: 5.5463\n",
      "Epoch 8/20\n",
      "9/9 [==============================] - 0s 992us/step - loss: 5.1612 - mse: 5.0417\n",
      "Epoch 9/20\n",
      "9/9 [==============================] - 0s 930us/step - loss: 6.0550 - mse: 5.9354\n",
      "Epoch 10/20\n",
      "9/9 [==============================] - 0s 930us/step - loss: 5.4644 - mse: 5.3449\n",
      "Epoch 11/20\n",
      "9/9 [==============================] - 0s 1ms/step - loss: 5.3732 - mse: 5.2537\n",
      "Epoch 12/20\n",
      "9/9 [==============================] - 0s 1ms/step - loss: 5.4313 - mse: 5.3119\n",
      "Epoch 13/20\n",
      "9/9 [==============================] - 0s 930us/step - loss: 5.7575 - mse: 5.6381\n",
      "Epoch 14/20\n",
      "9/9 [==============================] - 0s 992us/step - loss: 4.9893 - mse: 4.8700\n",
      "Epoch 15/20\n",
      "9/9 [==============================] - 0s 930us/step - loss: 5.5034 - mse: 5.3841\n",
      "Epoch 16/20\n",
      "9/9 [==============================] - 0s 868us/step - loss: 5.7731 - mse: 5.6538\n",
      "Epoch 17/20\n",
      "9/9 [==============================] - 0s 930us/step - loss: 5.8231 - mse: 5.7039\n",
      "Epoch 18/20\n",
      "9/9 [==============================] - 0s 992us/step - loss: 5.6213 - mse: 5.5021\n",
      "Epoch 19/20\n",
      "9/9 [==============================] - 0s 992us/step - loss: 5.7525 - mse: 5.6334\n",
      "Epoch 20/20\n",
      "9/9 [==============================] - 0s 995us/step - loss: 6.4066 - mse: 6.2874\n",
      "5/5 [==============================] - 0s 992us/step - loss: 7.0348 - mse: 6.9158\n",
      "R2-test -7.034832000732422\n",
      "5/5 [==============================] - 0s 744us/step\n",
      "MSE-test 6.915751719699644\n",
      "Best params: {'output_shape': 1, 'nn3': 30, 'nn2': 70, 'nn1': 100, 'nl3': 0, 'nl2': 0, 'nl1': 2, 'lr': 0.001, 'l2': 0.001, 'l1': 0, 'input_shape': 10, 'dropout': 0.1, 'decay': 0, 'act': 'sigmoid'}\n"
     ]
    },
    {
     "data": {
      "text/plain": [
       "['actq3_lab1',\n",
       " 'actq1_lab1',\n",
       " 'mean(qmsr$_lab1)',\n",
       " 'rtr_lab1',\n",
       " 'cer_lab1',\n",
       " 'actq3_lab2',\n",
       " 'actq1_lab2',\n",
       " 'mean(qavt$_lab2)',\n",
       " 'avgtime_lab2',\n",
       " 'rt_lab2']"
      ]
     },
     "execution_count": 16,
     "metadata": {
      "tags": []
     },
     "output_type": "execute_result"
    }
   ],
   "source": [
    "dataset = datalab1[[TARGET] + selected_features_ann_1].join(datalab2[selected_features_ann_2])\n",
    "run_process(dataset,rand_cv)"
   ]
  },
  {
   "cell_type": "code",
   "execution_count": null,
   "metadata": {
    "colab": {
     "base_uri": "https://localhost:8080/"
    },
    "id": "We8Tpruw11oL",
    "outputId": "96cb01a5-d74e-4c4d-ae6f-de59dd3de2e0"
   },
   "outputs": [
    {
     "name": "stdout",
     "output_type": "stream",
     "text": [
      "Fitting 5 folds for each of 10 candidates, totalling 50 fits\n",
      "Epoch 1/20\n",
      "13/13 [==============================] - 1s 951us/step - loss: 8.6540 - mse: 8.3376\n",
      "Epoch 2/20\n",
      "13/13 [==============================] - 0s 909us/step - loss: 8.0978 - mse: 7.7809\n",
      "Epoch 3/20\n",
      "13/13 [==============================] - 0s 992us/step - loss: 7.3226 - mse: 7.0051\n",
      "Epoch 4/20\n",
      "13/13 [==============================] - 0s 868us/step - loss: 6.2479 - mse: 5.9297\n",
      "Epoch 5/20\n",
      "13/13 [==============================] - 0s 951us/step - loss: 6.1541 - mse: 5.8355\n",
      "Epoch 6/20\n",
      "13/13 [==============================] - 0s 951us/step - loss: 5.9330 - mse: 5.6142\n",
      "Epoch 7/20\n",
      "13/13 [==============================] - 0s 909us/step - loss: 6.1262 - mse: 5.8074\n",
      "Epoch 8/20\n",
      "13/13 [==============================] - 0s 909us/step - loss: 6.1515 - mse: 5.8328\n",
      "Epoch 9/20\n",
      "13/13 [==============================] - 0s 909us/step - loss: 6.0689 - mse: 5.7503\n",
      "Epoch 10/20\n",
      "13/13 [==============================] - 0s 868us/step - loss: 6.5633 - mse: 6.2450\n",
      "Epoch 11/20\n",
      "13/13 [==============================] - 0s 827us/step - loss: 6.4862 - mse: 6.1680\n",
      "Epoch 12/20\n",
      "13/13 [==============================] - 0s 992us/step - loss: 6.4338 - mse: 6.1158\n",
      "Epoch 13/20\n",
      "13/13 [==============================] - 0s 869us/step - loss: 5.8866 - mse: 5.5689\n",
      "Epoch 14/20\n",
      "13/13 [==============================] - 0s 909us/step - loss: 6.2274 - mse: 5.9100\n",
      "Epoch 15/20\n",
      "13/13 [==============================] - 0s 868us/step - loss: 6.1567 - mse: 5.8395\n",
      "Epoch 16/20\n",
      "13/13 [==============================] - 0s 909us/step - loss: 6.6958 - mse: 6.3790\n",
      "Epoch 17/20\n",
      "13/13 [==============================] - 0s 951us/step - loss: 5.9862 - mse: 5.6696\n",
      "Epoch 18/20\n",
      "13/13 [==============================] - 0s 909us/step - loss: 6.6294 - mse: 6.3131\n",
      "Epoch 19/20\n",
      "13/13 [==============================] - 0s 951us/step - loss: 6.0024 - mse: 5.6865\n",
      "Epoch 20/20\n",
      "13/13 [==============================] - 0s 868us/step - loss: 6.1561 - mse: 5.8405\n",
      "R2-test-fit: -5.9241500164555605\n",
      "Epoch 1/20\n",
      "9/9 [==============================] - 1s 1ms/step - loss: 9.4099 - mse: 9.0879\n",
      "Epoch 2/20\n",
      "9/9 [==============================] - 0s 1ms/step - loss: 7.1816 - mse: 6.8599\n",
      "Epoch 3/20\n",
      "9/9 [==============================] - 0s 1ms/step - loss: 7.9349 - mse: 7.6130\n",
      "Epoch 4/20\n",
      "9/9 [==============================] - 0s 1ms/step - loss: 7.3734 - mse: 7.0509\n",
      "Epoch 5/20\n",
      "9/9 [==============================] - 0s 1ms/step - loss: 7.5494 - mse: 7.2264\n",
      "Epoch 6/20\n",
      "9/9 [==============================] - 0s 1ms/step - loss: 7.0091 - mse: 6.6857\n",
      "Epoch 7/20\n",
      "9/9 [==============================] - 0s 1ms/step - loss: 6.8752 - mse: 6.5514\n",
      "Epoch 8/20\n",
      "9/9 [==============================] - 0s 992us/step - loss: 7.2710 - mse: 6.9471\n",
      "Epoch 9/20\n",
      "9/9 [==============================] - 0s 1ms/step - loss: 7.0690 - mse: 6.7449\n",
      "Epoch 10/20\n",
      "9/9 [==============================] - 0s 1ms/step - loss: 6.8279 - mse: 6.5037\n",
      "Epoch 11/20\n",
      "9/9 [==============================] - 0s 1ms/step - loss: 6.7810 - mse: 6.4568\n",
      "Epoch 12/20\n",
      "9/9 [==============================] - 0s 1ms/step - loss: 6.7654 - mse: 6.4412\n",
      "Epoch 13/20\n",
      "9/9 [==============================] - 0s 1ms/step - loss: 6.1220 - mse: 5.7979\n",
      "Epoch 14/20\n",
      "9/9 [==============================] - 0s 1ms/step - loss: 6.3673 - mse: 6.0433\n",
      "Epoch 15/20\n",
      "9/9 [==============================] - 0s 992us/step - loss: 6.3209 - mse: 5.9971\n",
      "Epoch 16/20\n",
      "9/9 [==============================] - 0s 1ms/step - loss: 6.9339 - mse: 6.6102\n",
      "Epoch 17/20\n",
      "9/9 [==============================] - 0s 1ms/step - loss: 6.2327 - mse: 5.9092\n",
      "Epoch 18/20\n",
      "9/9 [==============================] - 0s 1ms/step - loss: 7.0548 - mse: 6.7314\n",
      "Epoch 19/20\n",
      "9/9 [==============================] - 0s 1ms/step - loss: 6.6754 - mse: 6.3521\n",
      "Epoch 20/20\n",
      "9/9 [==============================] - 0s 992us/step - loss: 7.3390 - mse: 7.0160\n",
      "5/5 [==============================] - 0s 992us/step - loss: 5.5942 - mse: 5.2713\n",
      "R2-test -5.59423303604126\n",
      "5/5 [==============================] - 0s 744us/step\n",
      "MSE-test 5.2713025668986\n",
      "Best params: {'output_shape': 1, 'nn3': 15, 'nn2': 40, 'nn1': 20, 'nl3': 2, 'nl2': 2, 'nl1': 0, 'lr': 0.001, 'l2': 0.003, 'l1': 0.0001, 'input_shape': 10, 'dropout': 0.1, 'decay': 1e-06, 'act': 'relu'}\n"
     ]
    },
    {
     "data": {
      "text/plain": [
       "['actq3_lab1',\n",
       " 'actq1_lab1',\n",
       " 'mean(qmsr$_lab1)',\n",
       " 'rtr_lab1',\n",
       " 'cer_lab1',\n",
       " 'actq3_lab2',\n",
       " 'actq1_lab2',\n",
       " 'mean(qavt$_lab2)',\n",
       " 'avgtime_lab2',\n",
       " 'rt_lab2']"
      ]
     },
     "execution_count": 17,
     "metadata": {
      "tags": []
     },
     "output_type": "execute_result"
    }
   ],
   "source": [
    "dataset = datalab1[[TARGET] + selected_features_ann_1].join(datalab2[selected_features_ann_2])\n",
    "run_process(dataset,rand_cv)"
   ]
  },
  {
   "cell_type": "code",
   "execution_count": null,
   "metadata": {
    "colab": {
     "base_uri": "https://localhost:8080/"
    },
    "id": "zdgqFmgp11uC",
    "outputId": "12a996d5-ce28-4165-84c0-4ad40dfb853f"
   },
   "outputs": [
    {
     "name": "stdout",
     "output_type": "stream",
     "text": [
      "Fitting 5 folds for each of 10 candidates, totalling 50 fits\n",
      "Epoch 1/20\n",
      "13/13 [==============================] - 1s 1ms/step - loss: 11.4348 - mse: 7.5510\n",
      "Epoch 2/20\n",
      "13/13 [==============================] - 0s 1ms/step - loss: 10.5614 - mse: 6.6924\n",
      "Epoch 3/20\n",
      "13/13 [==============================] - 0s 1ms/step - loss: 10.3793 - mse: 6.5253\n",
      "Epoch 4/20\n",
      "13/13 [==============================] - 0s 1ms/step - loss: 9.6056 - mse: 5.7667\n",
      "Epoch 5/20\n",
      "13/13 [==============================] - 0s 951us/step - loss: 9.4930 - mse: 5.6691\n",
      "Epoch 6/20\n",
      "13/13 [==============================] - 0s 992us/step - loss: 9.9467 - mse: 6.1379\n",
      "Epoch 7/20\n",
      "13/13 [==============================] - 0s 992us/step - loss: 9.7712 - mse: 5.9774\n",
      "Epoch 8/20\n",
      "13/13 [==============================] - 0s 1ms/step - loss: 9.8229 - mse: 6.0441\n",
      "Epoch 9/20\n",
      "13/13 [==============================] - 0s 1ms/step - loss: 9.8820 - mse: 6.1182\n",
      "Epoch 10/20\n",
      "13/13 [==============================] - 0s 1ms/step - loss: 9.7798 - mse: 6.0309\n",
      "Epoch 11/20\n",
      "13/13 [==============================] - 0s 1ms/step - loss: 9.7952 - mse: 6.0613\n",
      "Epoch 12/20\n",
      "13/13 [==============================] - 0s 992us/step - loss: 9.7792 - mse: 6.0602\n",
      "Epoch 13/20\n",
      "13/13 [==============================] - 0s 1ms/step - loss: 9.8030 - mse: 6.0989\n",
      "Epoch 14/20\n",
      "13/13 [==============================] - 0s 992us/step - loss: 9.5573 - mse: 5.8681\n",
      "Epoch 15/20\n",
      "13/13 [==============================] - 0s 1ms/step - loss: 9.5970 - mse: 5.9226\n",
      "Epoch 16/20\n",
      "13/13 [==============================] - 0s 1ms/step - loss: 10.2631 - mse: 6.6035\n",
      "Epoch 17/20\n",
      "13/13 [==============================] - 0s 1ms/step - loss: 9.5357 - mse: 5.8909\n",
      "Epoch 18/20\n",
      "13/13 [==============================] - 0s 1ms/step - loss: 9.7175 - mse: 6.0875\n",
      "Epoch 19/20\n",
      "13/13 [==============================] - 0s 1ms/step - loss: 9.0243 - mse: 5.4090\n",
      "Epoch 20/20\n",
      "13/13 [==============================] - 0s 992us/step - loss: 9.8094 - mse: 6.2087\n",
      "R2-test-fit: -5.923447544610971\n",
      "Epoch 1/20\n",
      "9/9 [==============================] - 1s 1ms/step - loss: 11.6683 - mse: 7.7859\n",
      "Epoch 2/20\n",
      "9/9 [==============================] - 0s 1ms/step - loss: 10.4940 - mse: 6.6214\n",
      "Epoch 3/20\n",
      "9/9 [==============================] - 0s 1ms/step - loss: 10.9964 - mse: 7.1340\n",
      "Epoch 4/20\n",
      "9/9 [==============================] - 0s 1ms/step - loss: 10.3544 - mse: 6.5022\n",
      "Epoch 5/20\n",
      "9/9 [==============================] - 0s 1ms/step - loss: 10.4867 - mse: 6.6448\n",
      "Epoch 6/20\n",
      "9/9 [==============================] - 0s 1ms/step - loss: 10.3046 - mse: 6.4731\n",
      "Epoch 7/20\n",
      "9/9 [==============================] - 0s 1ms/step - loss: 10.5498 - mse: 6.7286\n",
      "Epoch 8/20\n",
      "9/9 [==============================] - 0s 1ms/step - loss: 9.8744 - mse: 6.0636\n",
      "Epoch 9/20\n",
      "9/9 [==============================] - 0s 1ms/step - loss: 9.8190 - mse: 6.0186\n",
      "Epoch 10/20\n",
      "9/9 [==============================] - 0s 1ms/step - loss: 10.6547 - mse: 6.8646\n",
      "Epoch 11/20\n",
      "9/9 [==============================] - 0s 1ms/step - loss: 10.1802 - mse: 6.4004\n",
      "Epoch 12/20\n",
      "9/9 [==============================] - 0s 1ms/step - loss: 10.2278 - mse: 6.4584\n",
      "Epoch 13/20\n",
      "9/9 [==============================] - 0s 1ms/step - loss: 9.5582 - mse: 5.7991\n",
      "Epoch 14/20\n",
      "9/9 [==============================] - 0s 1ms/step - loss: 9.8987 - mse: 6.1499\n",
      "Epoch 15/20\n",
      "9/9 [==============================] - 0s 1ms/step - loss: 10.6147 - mse: 6.8763\n",
      "Epoch 16/20\n",
      "9/9 [==============================] - 0s 1ms/step - loss: 9.9159 - mse: 6.1877\n",
      "Epoch 17/20\n",
      "9/9 [==============================] - 0s 1ms/step - loss: 9.8296 - mse: 6.1118\n",
      "Epoch 18/20\n",
      "9/9 [==============================] - 0s 1ms/step - loss: 10.0425 - mse: 6.3350\n",
      "Epoch 19/20\n",
      "9/9 [==============================] - 0s 1ms/step - loss: 10.0649 - mse: 6.3676\n",
      "Epoch 20/20\n",
      "9/9 [==============================] - 0s 1ms/step - loss: 9.9212 - mse: 6.2342\n",
      "5/5 [==============================] - 0s 1ms/step - loss: 8.6843 - mse: 5.0051\n",
      "R2-test -8.684288024902344\n",
      "5/5 [==============================] - 0s 868us/step\n",
      "MSE-test 5.0050803878888575\n",
      "Best params: {'output_shape': 1, 'nn3': 30, 'nn2': 70, 'nn1': 100, 'nl3': 0, 'nl2': 2, 'nl1': 1, 'lr': 0.0001, 'l2': 0.0001, 'l1': 0.003, 'input_shape': 10, 'dropout': 0.3, 'decay': 1e-06, 'act': 'sigmoid'}\n"
     ]
    },
    {
     "data": {
      "text/plain": [
       "['actq3_lab1',\n",
       " 'actq1_lab1',\n",
       " 'mean(qmsr$_lab1)',\n",
       " 'rtr_lab1',\n",
       " 'cer_lab1',\n",
       " 'actq3_lab2',\n",
       " 'actq1_lab2',\n",
       " 'mean(qavt$_lab2)',\n",
       " 'avgtime_lab2',\n",
       " 'rt_lab2']"
      ]
     },
     "execution_count": 18,
     "metadata": {
      "tags": []
     },
     "output_type": "execute_result"
    }
   ],
   "source": [
    "dataset = datalab1[[TARGET] + selected_features_ann_1].join(datalab2[selected_features_ann_2])\n",
    "run_process(dataset,rand_cv)"
   ]
  },
  {
   "cell_type": "code",
   "execution_count": null,
   "metadata": {
    "colab": {
     "base_uri": "https://localhost:8080/"
    },
    "id": "nYAk_LS312Cw",
    "outputId": "07f4ea2f-c9ee-4a41-8c2f-a62a9df3c5ac"
   },
   "outputs": [
    {
     "name": "stdout",
     "output_type": "stream",
     "text": [
      "Fitting 5 folds for each of 10 candidates, totalling 50 fits\n",
      "Epoch 1/20\n",
      "13/13 [==============================] - 1s 1ms/step - loss: 8.5190 - mse: 7.3910\n",
      "Epoch 2/20\n",
      "13/13 [==============================] - 0s 1ms/step - loss: 8.2157 - mse: 7.0878\n",
      "Epoch 3/20\n",
      "13/13 [==============================] - 0s 1ms/step - loss: 7.6038 - mse: 6.4757\n",
      "Epoch 4/20\n",
      "13/13 [==============================] - 0s 1ms/step - loss: 7.9053 - mse: 6.7773\n",
      "Epoch 5/20\n",
      "13/13 [==============================] - 0s 992us/step - loss: 7.1797 - mse: 6.0522\n",
      "Epoch 6/20\n",
      "13/13 [==============================] - 0s 1ms/step - loss: 7.3916 - mse: 6.2646\n",
      "Epoch 7/20\n",
      "13/13 [==============================] - 0s 1ms/step - loss: 7.3213 - mse: 6.1951\n",
      "Epoch 8/20\n",
      "13/13 [==============================] - 0s 1ms/step - loss: 6.1726 - mse: 5.0473\n",
      "Epoch 9/20\n",
      "13/13 [==============================] - 0s 1ms/step - loss: 7.1432 - mse: 6.0188\n",
      "Epoch 10/20\n",
      "13/13 [==============================] - 0s 1ms/step - loss: 7.6885 - mse: 6.5651\n",
      "Epoch 11/20\n",
      "13/13 [==============================] - 0s 1ms/step - loss: 7.2054 - mse: 6.0830\n",
      "Epoch 12/20\n",
      "13/13 [==============================] - 0s 992us/step - loss: 6.7909 - mse: 5.6695\n",
      "Epoch 13/20\n",
      "13/13 [==============================] - 0s 1ms/step - loss: 7.4622 - mse: 6.3419\n",
      "Epoch 14/20\n",
      "13/13 [==============================] - 0s 1ms/step - loss: 6.8945 - mse: 5.7753\n",
      "Epoch 15/20\n",
      "13/13 [==============================] - 0s 951us/step - loss: 7.3215 - mse: 6.2035\n",
      "Epoch 16/20\n",
      "13/13 [==============================] - 0s 909us/step - loss: 7.3402 - mse: 6.2233\n",
      "Epoch 17/20\n",
      "13/13 [==============================] - 0s 992us/step - loss: 7.1230 - mse: 6.0072\n",
      "Epoch 18/20\n",
      "13/13 [==============================] - 0s 1ms/step - loss: 7.0012 - mse: 5.8865\n",
      "Epoch 19/20\n",
      "13/13 [==============================] - 0s 951us/step - loss: 7.0787 - mse: 5.9651\n",
      "Epoch 20/20\n",
      "13/13 [==============================] - 0s 951us/step - loss: 7.4168 - mse: 6.3043\n",
      "R2-test-fit: -5.907331914757108\n",
      "Epoch 1/20\n",
      "9/9 [==============================] - 1s 930us/step - loss: 9.7228 - mse: 8.5836\n",
      "Epoch 2/20\n",
      "9/9 [==============================] - 0s 930us/step - loss: 8.8260 - mse: 7.6876\n",
      "Epoch 3/20\n",
      "9/9 [==============================] - 0s 868us/step - loss: 8.1858 - mse: 7.0479\n",
      "Epoch 4/20\n",
      "9/9 [==============================] - 0s 868us/step - loss: 8.7682 - mse: 7.6305\n",
      "Epoch 5/20\n",
      "9/9 [==============================] - 0s 806us/step - loss: 6.8562 - mse: 5.7185\n",
      "Epoch 6/20\n",
      "9/9 [==============================] - 0s 930us/step - loss: 7.8689 - mse: 6.7313\n",
      "Epoch 7/20\n",
      "9/9 [==============================] - 0s 930us/step - loss: 7.9912 - mse: 6.8539\n",
      "Epoch 8/20\n",
      "9/9 [==============================] - 0s 868us/step - loss: 7.3962 - mse: 6.2592\n",
      "Epoch 9/20\n",
      "9/9 [==============================] - 0s 868us/step - loss: 8.1529 - mse: 7.0164\n",
      "Epoch 10/20\n",
      "9/9 [==============================] - 0s 806us/step - loss: 7.3757 - mse: 6.2398\n",
      "Epoch 11/20\n",
      "9/9 [==============================] - 0s 868us/step - loss: 7.6233 - mse: 6.4879\n",
      "Epoch 12/20\n",
      "9/9 [==============================] - 0s 930us/step - loss: 7.5156 - mse: 6.3808\n",
      "Epoch 13/20\n",
      "9/9 [==============================] - 0s 992us/step - loss: 7.4854 - mse: 6.3513\n",
      "Epoch 14/20\n",
      "9/9 [==============================] - 0s 930us/step - loss: 6.6466 - mse: 5.5132\n",
      "Epoch 15/20\n",
      "9/9 [==============================] - 0s 806us/step - loss: 7.4208 - mse: 6.2881\n",
      "Epoch 16/20\n",
      "9/9 [==============================] - 0s 868us/step - loss: 7.1697 - mse: 6.0376\n",
      "Epoch 17/20\n",
      "9/9 [==============================] - 0s 868us/step - loss: 8.4506 - mse: 7.3192\n",
      "Epoch 18/20\n",
      "9/9 [==============================] - 0s 868us/step - loss: 7.6050 - mse: 6.4744\n",
      "Epoch 19/20\n",
      "9/9 [==============================] - 0s 868us/step - loss: 7.6283 - mse: 6.4985\n",
      "Epoch 20/20\n",
      "9/9 [==============================] - 0s 868us/step - loss: 7.3436 - mse: 6.2145\n",
      "5/5 [==============================] - 0s 1ms/step - loss: 6.6314 - mse: 5.5029\n",
      "R2-test -6.631399154663086\n",
      "5/5 [==============================] - 0s 868us/step\n",
      "MSE-test 5.502857847292539\n",
      "Best params: {'output_shape': 1, 'nn3': 30, 'nn2': 70, 'nn1': 20, 'nl3': 2, 'nl2': 2, 'nl1': 1, 'lr': 0.0001, 'l2': 0, 'l1': 0.001, 'input_shape': 10, 'dropout': 0, 'decay': 1e-06, 'act': 'relu'}\n"
     ]
    },
    {
     "data": {
      "text/plain": [
       "['actq3_lab1',\n",
       " 'actq1_lab1',\n",
       " 'mean(qmsr$_lab1)',\n",
       " 'rtr_lab1',\n",
       " 'cer_lab1',\n",
       " 'actq3_lab2',\n",
       " 'actq1_lab2',\n",
       " 'mean(qavt$_lab2)',\n",
       " 'avgtime_lab2',\n",
       " 'rt_lab2']"
      ]
     },
     "execution_count": 19,
     "metadata": {
      "tags": []
     },
     "output_type": "execute_result"
    }
   ],
   "source": [
    "dataset = datalab1[[TARGET] + selected_features_ann_1].join(datalab2[selected_features_ann_2])\n",
    "run_process(dataset,rand_cv)"
   ]
  },
  {
   "cell_type": "code",
   "execution_count": null,
   "metadata": {
    "colab": {
     "base_uri": "https://localhost:8080/"
    },
    "id": "XuAB8W8M12Id",
    "outputId": "f76ee0bb-8416-435e-cfe5-728d77fddfe8"
   },
   "outputs": [
    {
     "name": "stdout",
     "output_type": "stream",
     "text": [
      "Fitting 5 folds for each of 10 candidates, totalling 50 fits\n",
      "Epoch 1/20\n",
      "13/13 [==============================] - 1s 1ms/step - loss: 8.8390 - mse: 7.5267\n",
      "Epoch 2/20\n",
      "13/13 [==============================] - 0s 1ms/step - loss: 7.8900 - mse: 6.5793\n",
      "Epoch 3/20\n",
      "13/13 [==============================] - 0s 1ms/step - loss: 7.8673 - mse: 6.5580\n",
      "Epoch 4/20\n",
      "13/13 [==============================] - 0s 1ms/step - loss: 7.8072 - mse: 6.4994\n",
      "Epoch 5/20\n",
      "13/13 [==============================] - 0s 1ms/step - loss: 7.5030 - mse: 6.1967\n",
      "Epoch 6/20\n",
      "13/13 [==============================] - 0s 1ms/step - loss: 7.2874 - mse: 5.9826\n",
      "Epoch 7/20\n",
      "13/13 [==============================] - 0s 1ms/step - loss: 7.4503 - mse: 6.1470\n",
      "Epoch 8/20\n",
      "13/13 [==============================] - 0s 1ms/step - loss: 7.3995 - mse: 6.0977\n",
      "Epoch 9/20\n",
      "13/13 [==============================] - 0s 1ms/step - loss: 6.9774 - mse: 5.6771\n",
      "Epoch 10/20\n",
      "13/13 [==============================] - 0s 1ms/step - loss: 7.4278 - mse: 6.1291\n",
      "Epoch 11/20\n",
      "13/13 [==============================] - 0s 1ms/step - loss: 6.9312 - mse: 5.6340\n",
      "Epoch 12/20\n",
      "13/13 [==============================] - 0s 1ms/step - loss: 6.9305 - mse: 5.6348\n",
      "Epoch 13/20\n",
      "13/13 [==============================] - 0s 1ms/step - loss: 7.0120 - mse: 5.7179\n",
      "Epoch 14/20\n",
      "13/13 [==============================] - 0s 1ms/step - loss: 7.2445 - mse: 5.9518\n",
      "Epoch 15/20\n",
      "13/13 [==============================] - 0s 1ms/step - loss: 7.0295 - mse: 5.7383\n",
      "Epoch 16/20\n",
      "13/13 [==============================] - 0s 1ms/step - loss: 7.2863 - mse: 5.9967\n",
      "Epoch 17/20\n",
      "13/13 [==============================] - 0s 1ms/step - loss: 7.3181 - mse: 6.0299\n",
      "Epoch 18/20\n",
      "13/13 [==============================] - 0s 1ms/step - loss: 7.2914 - mse: 6.0048\n",
      "Epoch 19/20\n",
      "13/13 [==============================] - 0s 1ms/step - loss: 6.9254 - mse: 5.6403\n",
      "Epoch 20/20\n",
      "13/13 [==============================] - 0s 1ms/step - loss: 7.4249 - mse: 6.1413\n",
      "R2-test-fit: -5.9294097511859105\n",
      "Epoch 1/20\n",
      "9/9 [==============================] - 1s 1ms/step - loss: 8.2455 - mse: 6.9273\n",
      "Epoch 2/20\n",
      "9/9 [==============================] - 0s 1ms/step - loss: 8.3710 - mse: 7.0539\n",
      "Epoch 3/20\n",
      "9/9 [==============================] - 0s 1ms/step - loss: 8.0305 - mse: 6.7145\n",
      "Epoch 4/20\n",
      "9/9 [==============================] - 0s 1ms/step - loss: 7.6039 - mse: 6.2889\n",
      "Epoch 5/20\n",
      "9/9 [==============================] - 0s 1ms/step - loss: 7.9550 - mse: 6.6411\n",
      "Epoch 6/20\n",
      "9/9 [==============================] - 0s 1ms/step - loss: 8.2471 - mse: 6.9342\n",
      "Epoch 7/20\n",
      "9/9 [==============================] - 0s 1ms/step - loss: 8.3397 - mse: 7.0278\n",
      "Epoch 8/20\n",
      "9/9 [==============================] - 0s 1ms/step - loss: 7.8983 - mse: 6.5876\n",
      "Epoch 9/20\n",
      "9/9 [==============================] - 0s 1ms/step - loss: 7.3365 - mse: 6.0268\n",
      "Epoch 10/20\n",
      "9/9 [==============================] - 0s 1ms/step - loss: 7.5215 - mse: 6.2128\n",
      "Epoch 11/20\n",
      "9/9 [==============================] - 0s 1ms/step - loss: 7.6291 - mse: 6.3215\n",
      "Epoch 12/20\n",
      "9/9 [==============================] - 0s 1ms/step - loss: 7.6838 - mse: 6.3772\n",
      "Epoch 13/20\n",
      "9/9 [==============================] - 0s 1ms/step - loss: 8.0194 - mse: 6.7139\n",
      "Epoch 14/20\n",
      "9/9 [==============================] - 0s 1ms/step - loss: 8.6173 - mse: 7.3128\n",
      "Epoch 15/20\n",
      "9/9 [==============================] - 0s 1ms/step - loss: 7.7046 - mse: 6.4011\n",
      "Epoch 16/20\n",
      "9/9 [==============================] - 0s 1ms/step - loss: 7.4101 - mse: 6.1078\n",
      "Epoch 17/20\n",
      "9/9 [==============================] - 0s 1ms/step - loss: 7.4026 - mse: 6.1013\n",
      "Epoch 18/20\n",
      "9/9 [==============================] - 0s 1ms/step - loss: 7.4851 - mse: 6.1849\n",
      "Epoch 19/20\n",
      "9/9 [==============================] - 0s 1ms/step - loss: 8.3441 - mse: 7.0449\n",
      "Epoch 20/20\n",
      "9/9 [==============================] - 0s 1ms/step - loss: 7.7560 - mse: 6.4578\n",
      "5/5 [==============================] - 0s 868us/step - loss: 5.9994 - mse: 4.7020\n",
      "R2-test -5.999378204345703\n",
      "5/5 [==============================] - 0s 744us/step\n",
      "MSE-test 4.702004105167467\n",
      "Best params: {'output_shape': 1, 'nn3': 15, 'nn2': 70, 'nn1': 20, 'nl3': 0, 'nl2': 3, 'nl1': 2, 'lr': 0.001, 'l2': 0, 'l1': 0.001, 'input_shape': 10, 'dropout': 0.3, 'decay': 1e-09, 'act': 'sigmoid'}\n"
     ]
    },
    {
     "data": {
      "text/plain": [
       "['actq3_lab1',\n",
       " 'actq1_lab1',\n",
       " 'mean(qmsr$_lab1)',\n",
       " 'rtr_lab1',\n",
       " 'cer_lab1',\n",
       " 'actq3_lab2',\n",
       " 'actq1_lab2',\n",
       " 'mean(qavt$_lab2)',\n",
       " 'avgtime_lab2',\n",
       " 'rt_lab2']"
      ]
     },
     "execution_count": 20,
     "metadata": {
      "tags": []
     },
     "output_type": "execute_result"
    }
   ],
   "source": [
    "dataset = datalab1[[TARGET] + selected_features_ann_1].join(datalab2[selected_features_ann_2])\n",
    "run_process(dataset,rand_cv)"
   ]
  },
  {
   "cell_type": "code",
   "execution_count": null,
   "metadata": {
    "colab": {
     "base_uri": "https://localhost:8080/"
    },
    "id": "zHHofWgp12Nz",
    "outputId": "d9de0b0c-2b71-490e-9931-f8b4681a7504"
   },
   "outputs": [
    {
     "name": "stdout",
     "output_type": "stream",
     "text": [
      "Fitting 5 folds for each of 10 candidates, totalling 50 fits\n",
      "Epoch 1/20\n",
      "13/13 [==============================] - 1s 1ms/step - loss: 8.1582 - mse: 7.3815\n",
      "Epoch 2/20\n",
      "13/13 [==============================] - 0s 992us/step - loss: 8.5533 - mse: 7.7794\n",
      "Epoch 3/20\n",
      "13/13 [==============================] - 0s 992us/step - loss: 8.0878 - mse: 7.3152\n",
      "Epoch 4/20\n",
      "13/13 [==============================] - 0s 992us/step - loss: 6.9978 - mse: 6.2260\n",
      "Epoch 5/20\n",
      "13/13 [==============================] - 0s 1ms/step - loss: 7.2652 - mse: 6.4941\n",
      "Epoch 6/20\n",
      "13/13 [==============================] - 0s 951us/step - loss: 6.8414 - mse: 6.0715\n",
      "Epoch 7/20\n",
      "13/13 [==============================] - 0s 992us/step - loss: 7.1670 - mse: 6.3989\n",
      "Epoch 8/20\n",
      "13/13 [==============================] - 0s 951us/step - loss: 6.9192 - mse: 6.1531\n",
      "Epoch 9/20\n",
      "13/13 [==============================] - 0s 909us/step - loss: 7.0361 - mse: 6.2724\n",
      "Epoch 10/20\n",
      "13/13 [==============================] - 0s 951us/step - loss: 6.2612 - mse: 5.5000\n",
      "Epoch 11/20\n",
      "13/13 [==============================] - 0s 1ms/step - loss: 6.4438 - mse: 5.6854\n",
      "Epoch 12/20\n",
      "13/13 [==============================] - 0s 992us/step - loss: 6.6620 - mse: 5.9064\n",
      "Epoch 13/20\n",
      "13/13 [==============================] - 0s 1ms/step - loss: 7.0699 - mse: 6.3172\n",
      "Epoch 14/20\n",
      "13/13 [==============================] - 0s 1ms/step - loss: 6.6379 - mse: 5.8882\n",
      "Epoch 15/20\n",
      "13/13 [==============================] - 0s 909us/step - loss: 6.7840 - mse: 6.0373\n",
      "Epoch 16/20\n",
      "13/13 [==============================] - 0s 951us/step - loss: 7.9167 - mse: 7.1730\n",
      "Epoch 17/20\n",
      "13/13 [==============================] - 0s 951us/step - loss: 6.9001 - mse: 6.1596\n",
      "Epoch 18/20\n",
      "13/13 [==============================] - 0s 951us/step - loss: 6.6590 - mse: 5.9217\n",
      "Epoch 19/20\n",
      "13/13 [==============================] - 0s 1ms/step - loss: 6.9399 - mse: 6.2057\n",
      "Epoch 20/20\n",
      "13/13 [==============================] - 0s 951us/step - loss: 7.0946 - mse: 6.3635\n",
      "R2-test-fit: -5.922592611682122\n",
      "Epoch 1/20\n",
      "9/9 [==============================] - 1s 992us/step - loss: 9.3692 - mse: 8.6110\n",
      "Epoch 2/20\n",
      "9/9 [==============================] - 0s 992us/step - loss: 8.9296 - mse: 8.1750\n",
      "Epoch 3/20\n",
      "9/9 [==============================] - 0s 992us/step - loss: 8.4458 - mse: 7.6941\n",
      "Epoch 4/20\n",
      "9/9 [==============================] - 0s 930us/step - loss: 9.2341 - mse: 8.4848\n",
      "Epoch 5/20\n",
      "9/9 [==============================] - 0s 930us/step - loss: 7.9946 - mse: 7.2472\n",
      "Epoch 6/20\n",
      "9/9 [==============================] - 0s 992us/step - loss: 8.0123 - mse: 7.2664\n",
      "Epoch 7/20\n",
      "9/9 [==============================] - 0s 992us/step - loss: 7.5455 - mse: 6.8012\n",
      "Epoch 8/20\n",
      "9/9 [==============================] - 0s 930us/step - loss: 7.3411 - mse: 6.5981\n",
      "Epoch 9/20\n",
      "9/9 [==============================] - 0s 868us/step - loss: 7.2184 - mse: 6.4768\n",
      "Epoch 10/20\n",
      "9/9 [==============================] - 0s 868us/step - loss: 7.7889 - mse: 7.0484\n",
      "Epoch 11/20\n",
      "9/9 [==============================] - 0s 930us/step - loss: 7.4831 - mse: 6.7440\n",
      "Epoch 12/20\n",
      "9/9 [==============================] - 0s 930us/step - loss: 7.1648 - mse: 6.4271\n",
      "Epoch 13/20\n",
      "9/9 [==============================] - 0s 806us/step - loss: 7.1616 - mse: 6.4254\n",
      "Epoch 14/20\n",
      "9/9 [==============================] - 0s 1ms/step - loss: 6.6297 - mse: 5.8952\n",
      "Epoch 15/20\n",
      "9/9 [==============================] - 0s 930us/step - loss: 6.9398 - mse: 6.2070\n",
      "Epoch 16/20\n",
      "9/9 [==============================] - 0s 930us/step - loss: 7.2996 - mse: 6.5686\n",
      "Epoch 17/20\n",
      "9/9 [==============================] - 0s 992us/step - loss: 7.4239 - mse: 6.6946\n",
      "Epoch 18/20\n",
      "9/9 [==============================] - 0s 1ms/step - loss: 7.0323 - mse: 6.3049\n",
      "Epoch 19/20\n",
      "9/9 [==============================] - 0s 1ms/step - loss: 6.3874 - mse: 5.6621\n",
      "Epoch 20/20\n",
      "9/9 [==============================] - 0s 930us/step - loss: 7.1811 - mse: 6.4577\n",
      "5/5 [==============================] - 0s 992us/step - loss: 6.0833 - mse: 5.3614\n",
      "R2-test -6.083332061767578\n",
      "5/5 [==============================] - 0s 744us/step\n",
      "MSE-test 5.361429457583458\n",
      "Best params: {'output_shape': 1, 'nn3': 15, 'nn2': 40, 'nn1': 20, 'nl3': 2, 'nl2': 1, 'nl1': 1, 'lr': 0.0001, 'l2': 0.01, 'l1': 0, 'input_shape': 10, 'dropout': 0.2, 'decay': 1e-09, 'act': 'relu'}\n"
     ]
    },
    {
     "data": {
      "text/plain": [
       "['actq3_lab1',\n",
       " 'actq1_lab1',\n",
       " 'mean(qmsr$_lab1)',\n",
       " 'rtr_lab1',\n",
       " 'cer_lab1',\n",
       " 'actq3_lab2',\n",
       " 'actq1_lab2',\n",
       " 'mean(qavt$_lab2)',\n",
       " 'avgtime_lab2',\n",
       " 'rt_lab2']"
      ]
     },
     "execution_count": 21,
     "metadata": {
      "tags": []
     },
     "output_type": "execute_result"
    }
   ],
   "source": [
    "dataset = datalab1[[TARGET] + selected_features_ann_1].join(datalab2[selected_features_ann_2])\n",
    "run_process(dataset,rand_cv)"
   ]
  },
  {
   "cell_type": "code",
   "execution_count": null,
   "metadata": {
    "colab": {
     "base_uri": "https://localhost:8080/"
    },
    "id": "xQxuMEvv12UB",
    "outputId": "c84f7a79-668b-4071-86d0-20b34de97fb2"
   },
   "outputs": [
    {
     "name": "stdout",
     "output_type": "stream",
     "text": [
      "Fitting 5 folds for each of 10 candidates, totalling 50 fits\n",
      "Epoch 1/20\n",
      "13/13 [==============================] - 1s 909us/step - loss: 7.6296 - mse: 7.3954\n",
      "Epoch 2/20\n",
      "13/13 [==============================] - 0s 868us/step - loss: 6.9477 - mse: 6.7132\n",
      "Epoch 3/20\n",
      "13/13 [==============================] - 0s 951us/step - loss: 6.8167 - mse: 6.5813\n",
      "Epoch 4/20\n",
      "13/13 [==============================] - 0s 868us/step - loss: 6.4638 - mse: 6.2274\n",
      "Epoch 5/20\n",
      "13/13 [==============================] - 0s 951us/step - loss: 7.0156 - mse: 6.7784\n",
      "Epoch 6/20\n",
      "13/13 [==============================] - 0s 868us/step - loss: 6.2631 - mse: 6.0253\n",
      "Epoch 7/20\n",
      "13/13 [==============================] - 0s 992us/step - loss: 5.8946 - mse: 5.6564\n",
      "Epoch 8/20\n",
      "13/13 [==============================] - 0s 909us/step - loss: 6.1173 - mse: 5.8790\n",
      "Epoch 9/20\n",
      "13/13 [==============================] - 0s 909us/step - loss: 5.8250 - mse: 5.5865\n",
      "Epoch 10/20\n",
      "13/13 [==============================] - 0s 868us/step - loss: 6.2365 - mse: 5.9979\n",
      "Epoch 11/20\n",
      "13/13 [==============================] - 0s 827us/step - loss: 5.8056 - mse: 5.5670\n",
      "Epoch 12/20\n",
      "13/13 [==============================] - 0s 827us/step - loss: 6.1643 - mse: 5.9258\n",
      "Epoch 13/20\n",
      "13/13 [==============================] - 0s 868us/step - loss: 5.8488 - mse: 5.6105\n",
      "Epoch 14/20\n",
      "13/13 [==============================] - 0s 868us/step - loss: 6.0067 - mse: 5.7684\n",
      "Epoch 15/20\n",
      "13/13 [==============================] - 0s 785us/step - loss: 5.7505 - mse: 5.5123\n",
      "Epoch 16/20\n",
      "13/13 [==============================] - 0s 827us/step - loss: 6.4781 - mse: 6.2401\n",
      "Epoch 17/20\n",
      "13/13 [==============================] - 0s 868us/step - loss: 6.0321 - mse: 5.7943\n",
      "Epoch 18/20\n",
      "13/13 [==============================] - 0s 868us/step - loss: 6.4494 - mse: 6.2117\n",
      "Epoch 19/20\n",
      "13/13 [==============================] - 0s 868us/step - loss: 6.0883 - mse: 5.8509\n",
      "Epoch 20/20\n",
      "13/13 [==============================] - 0s 868us/step - loss: 6.3305 - mse: 6.0933\n",
      "R2-test-fit: -5.926126723965541\n",
      "Epoch 1/20\n",
      "9/9 [==============================] - 1s 992us/step - loss: 7.6554 - mse: 7.4258\n",
      "Epoch 2/20\n",
      "9/9 [==============================] - 0s 868us/step - loss: 7.6548 - mse: 7.4251\n",
      "Epoch 3/20\n",
      "9/9 [==============================] - 0s 930us/step - loss: 6.7403 - mse: 6.5103\n",
      "Epoch 4/20\n",
      "9/9 [==============================] - 0s 930us/step - loss: 7.2315 - mse: 7.0010\n",
      "Epoch 5/20\n",
      "9/9 [==============================] - 0s 930us/step - loss: 7.1160 - mse: 6.8849\n",
      "Epoch 6/20\n",
      "9/9 [==============================] - 0s 930us/step - loss: 5.9037 - mse: 5.6722\n",
      "Epoch 7/20\n",
      "9/9 [==============================] - 0s 930us/step - loss: 6.7446 - mse: 6.5126\n",
      "Epoch 8/20\n",
      "9/9 [==============================] - 0s 930us/step - loss: 6.3695 - mse: 6.1372\n",
      "Epoch 9/20\n",
      "9/9 [==============================] - 0s 930us/step - loss: 6.3520 - mse: 6.1195\n",
      "Epoch 10/20\n",
      "9/9 [==============================] - 0s 992us/step - loss: 6.9326 - mse: 6.6999\n",
      "Epoch 11/20\n",
      "9/9 [==============================] - 0s 868us/step - loss: 6.7199 - mse: 6.4870\n",
      "Epoch 12/20\n",
      "9/9 [==============================] - 0s 930us/step - loss: 6.2933 - mse: 6.0604\n",
      "Epoch 13/20\n",
      "9/9 [==============================] - 0s 1ms/step - loss: 6.0195 - mse: 5.7865\n",
      "Epoch 14/20\n",
      "9/9 [==============================] - 0s 992us/step - loss: 5.9986 - mse: 5.7657\n",
      "Epoch 15/20\n",
      "9/9 [==============================] - 0s 868us/step - loss: 6.1568 - mse: 5.9239\n",
      "Epoch 16/20\n",
      "9/9 [==============================] - 0s 930us/step - loss: 6.1655 - mse: 5.9326\n",
      "Epoch 17/20\n",
      "9/9 [==============================] - 0s 1ms/step - loss: 6.0094 - mse: 5.7765\n",
      "Epoch 18/20\n",
      "9/9 [==============================] - 0s 1ms/step - loss: 6.0165 - mse: 5.7837\n",
      "Epoch 19/20\n",
      "9/9 [==============================] - 0s 992us/step - loss: 5.7460 - mse: 5.5132\n",
      "Epoch 20/20\n",
      "9/9 [==============================] - 0s 992us/step - loss: 5.5258 - mse: 5.2932\n",
      "5/5 [==============================] - 0s 868us/step - loss: 6.3187 - mse: 6.0861\n",
      "R2-test -6.318737030029297\n",
      "5/5 [==============================] - 0s 744us/step\n",
      "MSE-test 6.086149926593753\n",
      "Best params: {'output_shape': 1, 'nn3': 15, 'nn2': 40, 'nn1': 20, 'nl3': 0, 'nl2': 1, 'nl1': 3, 'lr': 0.0001, 'l2': 0.003, 'l1': 0, 'input_shape': 10, 'dropout': 0.1, 'decay': 1e-09, 'act': 'relu'}\n"
     ]
    },
    {
     "data": {
      "text/plain": [
       "['actq3_lab1',\n",
       " 'actq1_lab1',\n",
       " 'mean(qmsr$_lab1)',\n",
       " 'rtr_lab1',\n",
       " 'cer_lab1',\n",
       " 'actq3_lab2',\n",
       " 'actq1_lab2',\n",
       " 'mean(qavt$_lab2)',\n",
       " 'avgtime_lab2',\n",
       " 'rt_lab2']"
      ]
     },
     "execution_count": 22,
     "metadata": {
      "tags": []
     },
     "output_type": "execute_result"
    }
   ],
   "source": [
    "dataset = datalab1[[TARGET] + selected_features_ann_1].join(datalab2[selected_features_ann_2])\n",
    "run_process(dataset,rand_cv)"
   ]
  },
  {
   "cell_type": "markdown",
   "metadata": {
    "id": "3mcBTU100hHQ"
   },
   "source": [
    "\n",
    "\n",
    "---\n",
    "\n"
   ]
  },
  {
   "cell_type": "markdown",
   "metadata": {
    "id": "UC8KasMF0hHR"
   },
   "source": [
    "1_2_3"
   ]
  },
  {
   "cell_type": "code",
   "execution_count": null,
   "metadata": {
    "colab": {
     "base_uri": "https://localhost:8080/"
    },
    "id": "mkbmP5hK0hHR",
    "outputId": "eefb2a4f-e54a-4125-e166-b9a66a0c8ba1"
   },
   "outputs": [
    {
     "name": "stdout",
     "output_type": "stream",
     "text": [
      "Fitting 5 folds for each of 10 candidates, totalling 50 fits\n",
      "Epoch 1/20\n",
      "13/13 [==============================] - 1s 909us/step - loss: 7.7887 - mse: 7.3471\n",
      "Epoch 2/20\n",
      "13/13 [==============================] - 0s 909us/step - loss: 6.9721 - mse: 6.5311\n",
      "Epoch 3/20\n",
      "13/13 [==============================] - 0s 868us/step - loss: 6.8520 - mse: 6.4117\n",
      "Epoch 4/20\n",
      "13/13 [==============================] - 0s 827us/step - loss: 6.7194 - mse: 6.2797\n",
      "Epoch 5/20\n",
      "13/13 [==============================] - 0s 827us/step - loss: 6.1647 - mse: 5.7256\n",
      "Epoch 6/20\n",
      "13/13 [==============================] - 0s 827us/step - loss: 6.1822 - mse: 5.7438\n",
      "Epoch 7/20\n",
      "13/13 [==============================] - 0s 744us/step - loss: 7.2450 - mse: 6.8073\n",
      "Epoch 8/20\n",
      "13/13 [==============================] - 0s 827us/step - loss: 6.1507 - mse: 5.7136\n",
      "Epoch 9/20\n",
      "13/13 [==============================] - 0s 827us/step - loss: 6.6813 - mse: 6.2449\n",
      "Epoch 10/20\n",
      "13/13 [==============================] - 0s 827us/step - loss: 5.9639 - mse: 5.5282\n",
      "Epoch 11/20\n",
      "13/13 [==============================] - 0s 868us/step - loss: 6.1341 - mse: 5.6990\n",
      "Epoch 12/20\n",
      "13/13 [==============================] - 0s 827us/step - loss: 6.5339 - mse: 6.0995\n",
      "Epoch 13/20\n",
      "13/13 [==============================] - 0s 827us/step - loss: 6.1820 - mse: 5.7482\n",
      "Epoch 14/20\n",
      "13/13 [==============================] - 0s 827us/step - loss: 6.7624 - mse: 6.3292\n",
      "Epoch 15/20\n",
      "13/13 [==============================] - 0s 785us/step - loss: 6.2371 - mse: 5.8047\n",
      "Epoch 16/20\n",
      "13/13 [==============================] - 0s 827us/step - loss: 6.2296 - mse: 5.7978\n",
      "Epoch 17/20\n",
      "13/13 [==============================] - 0s 827us/step - loss: 6.1007 - mse: 5.6696\n",
      "Epoch 18/20\n",
      "13/13 [==============================] - 0s 827us/step - loss: 6.2140 - mse: 5.7835\n",
      "Epoch 19/20\n",
      "13/13 [==============================] - 0s 868us/step - loss: 6.3510 - mse: 5.9212\n",
      "Epoch 20/20\n",
      "13/13 [==============================] - 0s 785us/step - loss: 6.0569 - mse: 5.6278\n",
      "R2-test-fit: -5.942257119036137\n",
      "Epoch 1/20\n",
      "9/9 [==============================] - 1s 868us/step - loss: 8.0999 - mse: 7.6661\n",
      "Epoch 2/20\n",
      "9/9 [==============================] - 0s 868us/step - loss: 6.7638 - mse: 6.3304\n",
      "Epoch 3/20\n",
      "9/9 [==============================] - 0s 868us/step - loss: 6.2375 - mse: 5.8045\n",
      "Epoch 4/20\n",
      "9/9 [==============================] - 0s 806us/step - loss: 5.9131 - mse: 5.4804\n",
      "Epoch 5/20\n",
      "9/9 [==============================] - 0s 992us/step - loss: 6.6729 - mse: 6.2406\n",
      "Epoch 6/20\n",
      "9/9 [==============================] - 0s 868us/step - loss: 6.7181 - mse: 6.2862\n",
      "Epoch 7/20\n",
      "9/9 [==============================] - 0s 868us/step - loss: 6.7563 - mse: 6.3248\n",
      "Epoch 8/20\n",
      "9/9 [==============================] - 0s 868us/step - loss: 6.6501 - mse: 6.2190\n",
      "Epoch 9/20\n",
      "9/9 [==============================] - 0s 930us/step - loss: 6.5657 - mse: 6.1350\n",
      "Epoch 10/20\n",
      "9/9 [==============================] - 0s 868us/step - loss: 6.3722 - mse: 5.9420\n",
      "Epoch 11/20\n",
      "9/9 [==============================] - 0s 868us/step - loss: 6.9056 - mse: 6.4758\n",
      "Epoch 12/20\n",
      "9/9 [==============================] - 0s 1ms/step - loss: 6.3062 - mse: 5.8768\n",
      "Epoch 13/20\n",
      "9/9 [==============================] - 0s 868us/step - loss: 6.1067 - mse: 5.6778\n",
      "Epoch 14/20\n",
      "9/9 [==============================] - 0s 868us/step - loss: 6.1626 - mse: 5.7341\n",
      "Epoch 15/20\n",
      "9/9 [==============================] - 0s 930us/step - loss: 5.7258 - mse: 5.2977\n",
      "Epoch 16/20\n",
      "9/9 [==============================] - 0s 930us/step - loss: 6.6008 - mse: 6.1732\n",
      "Epoch 17/20\n",
      "9/9 [==============================] - 0s 930us/step - loss: 6.2642 - mse: 5.8370\n",
      "Epoch 18/20\n",
      "9/9 [==============================] - 0s 992us/step - loss: 6.1663 - mse: 5.7395\n",
      "Epoch 19/20\n",
      "9/9 [==============================] - 0s 930us/step - loss: 6.3362 - mse: 5.9099\n",
      "Epoch 20/20\n",
      "9/9 [==============================] - 0s 930us/step - loss: 6.5440 - mse: 6.1181\n",
      "5/5 [==============================] - 0s 1ms/step - loss: 6.2352 - mse: 5.8096\n",
      "R2-test -6.235172748565674\n",
      "5/5 [==============================] - 0s 868us/step\n",
      "MSE-test 5.8096365725676105\n",
      "Best params: {'output_shape': 1, 'nn3': 30, 'nn2': 40, 'nn1': 20, 'nl3': 0, 'nl2': 3, 'nl1': 1, 'lr': 0.01, 'l2': 0.003, 'l1': 0.0001, 'input_shape': 15, 'dropout': 0, 'decay': 0, 'act': 'sigmoid'}\n"
     ]
    },
    {
     "data": {
      "text/plain": [
       "['actq3_lab1',\n",
       " 'actq1_lab1',\n",
       " 'mean(qmsr$_lab1)',\n",
       " 'rtr_lab1',\n",
       " 'cer_lab1',\n",
       " 'actq3_lab2',\n",
       " 'actq1_lab2',\n",
       " 'mean(qavt$_lab2)',\n",
       " 'avgtime_lab2',\n",
       " 'rt_lab2',\n",
       " 'rt_lab3',\n",
       " 'actq1_lab3',\n",
       " 'ut_lab3',\n",
       " 'mean(qact$_lab3)',\n",
       " 'cer_lab3']"
      ]
     },
     "execution_count": 24,
     "metadata": {
      "tags": []
     },
     "output_type": "execute_result"
    }
   ],
   "source": [
    "dataset = datalab1[[TARGET] + selected_features_ann_1].join(datalab2[selected_features_ann_2]).join(datalab3[selected_features_ann_3])\n",
    "run_process(dataset,rand_cv)"
   ]
  },
  {
   "cell_type": "code",
   "execution_count": null,
   "metadata": {
    "colab": {
     "base_uri": "https://localhost:8080/"
    },
    "id": "oiwmwfnb13Ij",
    "outputId": "27e62b5b-8c92-4773-a848-af1ecb0c65fa"
   },
   "outputs": [
    {
     "name": "stdout",
     "output_type": "stream",
     "text": [
      "Fitting 5 folds for each of 10 candidates, totalling 50 fits\n",
      "Epoch 1/20\n",
      "13/13 [==============================] - 1s 1ms/step - loss: 9.2514 - mse: 7.6571\n",
      "Epoch 2/20\n",
      "13/13 [==============================] - 0s 1ms/step - loss: 9.1338 - mse: 7.5405\n",
      "Epoch 3/20\n",
      "13/13 [==============================] - 0s 1ms/step - loss: 8.6874 - mse: 7.0948\n",
      "Epoch 4/20\n",
      "13/13 [==============================] - 0s 1ms/step - loss: 7.9588 - mse: 6.3668\n",
      "Epoch 5/20\n",
      "13/13 [==============================] - 0s 1ms/step - loss: 7.8248 - mse: 6.2337\n",
      "Epoch 6/20\n",
      "13/13 [==============================] - 0s 1ms/step - loss: 7.6841 - mse: 6.0940\n",
      "Epoch 7/20\n",
      "13/13 [==============================] - 0s 1ms/step - loss: 7.7418 - mse: 6.1528\n",
      "Epoch 8/20\n",
      "13/13 [==============================] - 0s 1ms/step - loss: 8.0264 - mse: 6.4387\n",
      "Epoch 9/20\n",
      "13/13 [==============================] - 0s 1ms/step - loss: 7.2799 - mse: 5.6936\n",
      "Epoch 10/20\n",
      "13/13 [==============================] - 0s 1ms/step - loss: 8.2269 - mse: 6.6420\n",
      "Epoch 11/20\n",
      "13/13 [==============================] - 0s 1ms/step - loss: 7.2080 - mse: 5.6245\n",
      "Epoch 12/20\n",
      "13/13 [==============================] - 0s 1ms/step - loss: 7.7776 - mse: 6.1956\n",
      "Epoch 13/20\n",
      "13/13 [==============================] - 0s 1ms/step - loss: 7.9486 - mse: 6.3682\n",
      "Epoch 14/20\n",
      "13/13 [==============================] - 0s 1ms/step - loss: 6.8993 - mse: 5.3203\n",
      "Epoch 15/20\n",
      "13/13 [==============================] - 0s 1ms/step - loss: 7.4715 - mse: 5.8941\n",
      "Epoch 16/20\n",
      "13/13 [==============================] - 0s 1ms/step - loss: 8.2675 - mse: 6.6916\n",
      "Epoch 17/20\n",
      "13/13 [==============================] - 0s 1ms/step - loss: 7.5572 - mse: 5.9829\n",
      "Epoch 18/20\n",
      "13/13 [==============================] - 0s 1ms/step - loss: 7.5929 - mse: 6.0202\n",
      "Epoch 19/20\n",
      "13/13 [==============================] - 0s 1ms/step - loss: 7.9870 - mse: 6.4159\n",
      "Epoch 20/20\n",
      "13/13 [==============================] - 0s 1ms/step - loss: 8.0060 - mse: 6.4365\n",
      "R2-test-fit: -5.9144530134567255\n",
      "Epoch 1/20\n",
      "9/9 [==============================] - 1s 1ms/step - loss: 9.1703 - mse: 7.5698\n",
      "Epoch 2/20\n",
      "9/9 [==============================] - 0s 1ms/step - loss: 9.0681 - mse: 7.4692\n",
      "Epoch 3/20\n",
      "9/9 [==============================] - 0s 1ms/step - loss: 8.8484 - mse: 7.2509\n",
      "Epoch 4/20\n",
      "9/9 [==============================] - 0s 1ms/step - loss: 8.4911 - mse: 6.8951\n",
      "Epoch 5/20\n",
      "9/9 [==============================] - 0s 1ms/step - loss: 9.5510 - mse: 7.9562\n",
      "Epoch 6/20\n",
      "9/9 [==============================] - 0s 1ms/step - loss: 8.8159 - mse: 7.2223\n",
      "Epoch 7/20\n",
      "9/9 [==============================] - 0s 1ms/step - loss: 8.7823 - mse: 7.1899\n",
      "Epoch 8/20\n",
      "9/9 [==============================] - 0s 1ms/step - loss: 8.4202 - mse: 6.8290\n",
      "Epoch 9/20\n",
      "9/9 [==============================] - 0s 1ms/step - loss: 9.0779 - mse: 7.4878\n",
      "Epoch 10/20\n",
      "9/9 [==============================] - 0s 1ms/step - loss: 8.2132 - mse: 6.6241\n",
      "Epoch 11/20\n",
      "9/9 [==============================] - 0s 1ms/step - loss: 8.5656 - mse: 6.9775\n",
      "Epoch 12/20\n",
      "9/9 [==============================] - 0s 1ms/step - loss: 7.5434 - mse: 5.9563\n",
      "Epoch 13/20\n",
      "9/9 [==============================] - 0s 1ms/step - loss: 7.3795 - mse: 5.7933\n",
      "Epoch 14/20\n",
      "9/9 [==============================] - 0s 1ms/step - loss: 7.6327 - mse: 6.0474\n",
      "Epoch 15/20\n",
      "9/9 [==============================] - 0s 1ms/step - loss: 7.3986 - mse: 5.8142\n",
      "Epoch 16/20\n",
      "9/9 [==============================] - 0s 1ms/step - loss: 7.5259 - mse: 5.9424\n",
      "Epoch 17/20\n",
      "9/9 [==============================] - 0s 1ms/step - loss: 8.2454 - mse: 6.6628\n",
      "Epoch 18/20\n",
      "9/9 [==============================] - 0s 1ms/step - loss: 7.3116 - mse: 5.7299\n",
      "Epoch 19/20\n",
      "9/9 [==============================] - 0s 1ms/step - loss: 7.9561 - mse: 6.3753\n",
      "Epoch 20/20\n",
      "9/9 [==============================] - 0s 1ms/step - loss: 7.3532 - mse: 5.7733\n",
      "5/5 [==============================] - 0s 992us/step - loss: 7.7044 - mse: 6.1253\n",
      "R2-test -7.7043776512146\n",
      "5/5 [==============================] - 0s 992us/step\n",
      "MSE-test 6.125266799825735\n",
      "Best params: {'output_shape': 1, 'nn3': 15, 'nn2': 70, 'nn1': 20, 'nl3': 2, 'nl2': 3, 'nl1': 3, 'lr': 0.001, 'l2': 0, 'l1': 0.001, 'input_shape': 15, 'dropout': 0.2, 'decay': 1e-09, 'act': 'relu'}\n"
     ]
    },
    {
     "data": {
      "text/plain": [
       "['actq3_lab1',\n",
       " 'actq1_lab1',\n",
       " 'mean(qmsr$_lab1)',\n",
       " 'rtr_lab1',\n",
       " 'cer_lab1',\n",
       " 'actq3_lab2',\n",
       " 'actq1_lab2',\n",
       " 'mean(qavt$_lab2)',\n",
       " 'avgtime_lab2',\n",
       " 'rt_lab2',\n",
       " 'rt_lab3',\n",
       " 'actq1_lab3',\n",
       " 'ut_lab3',\n",
       " 'mean(qact$_lab3)',\n",
       " 'cer_lab3']"
      ]
     },
     "execution_count": 25,
     "metadata": {
      "tags": []
     },
     "output_type": "execute_result"
    }
   ],
   "source": [
    "dataset = datalab1[[TARGET] + selected_features_ann_1].join(datalab2[selected_features_ann_2]).join(datalab3[selected_features_ann_3])\n",
    "run_process(dataset,rand_cv)"
   ]
  },
  {
   "cell_type": "code",
   "execution_count": null,
   "metadata": {
    "colab": {
     "base_uri": "https://localhost:8080/"
    },
    "id": "_NsAiy_-13Rc",
    "outputId": "4acd58f9-f57e-4cd4-80b8-5f9f7550f442"
   },
   "outputs": [
    {
     "name": "stdout",
     "output_type": "stream",
     "text": [
      "Fitting 5 folds for each of 10 candidates, totalling 50 fits\n",
      "Epoch 1/20\n",
      "13/13 [==============================] - 1s 2ms/step - loss: 13.8878 - mse: 7.5553\n",
      "Epoch 2/20\n",
      "13/13 [==============================] - 0s 1ms/step - loss: 12.8050 - mse: 6.5094\n",
      "Epoch 3/20\n",
      "13/13 [==============================] - 0s 1ms/step - loss: 12.5089 - mse: 6.2497\n",
      "Epoch 4/20\n",
      "13/13 [==============================] - 0s 1ms/step - loss: 12.1094 - mse: 5.8890\n",
      "Epoch 5/20\n",
      "13/13 [==============================] - 0s 1ms/step - loss: 12.8896 - mse: 6.7097\n",
      "Epoch 6/20\n",
      "13/13 [==============================] - 0s 1ms/step - loss: 12.2628 - mse: 6.1251\n",
      "Epoch 7/20\n",
      "13/13 [==============================] - 0s 1ms/step - loss: 12.4261 - mse: 6.3309\n",
      "Epoch 8/20\n",
      "13/13 [==============================] - 0s 1ms/step - loss: 11.9898 - mse: 5.9374\n",
      "Epoch 9/20\n",
      "13/13 [==============================] - 0s 1ms/step - loss: 11.6590 - mse: 5.6497\n",
      "Epoch 10/20\n",
      "13/13 [==============================] - 0s 1ms/step - loss: 11.3407 - mse: 5.3750\n",
      "Epoch 11/20\n",
      "13/13 [==============================] - 0s 1ms/step - loss: 12.2315 - mse: 6.3090\n",
      "Epoch 12/20\n",
      "13/13 [==============================] - 0s 1ms/step - loss: 11.9645 - mse: 6.0856\n",
      "Epoch 13/20\n",
      "13/13 [==============================] - 0s 1ms/step - loss: 11.9686 - mse: 6.1330\n",
      "Epoch 14/20\n",
      "13/13 [==============================] - 0s 1ms/step - loss: 11.0355 - mse: 5.2432\n",
      "Epoch 15/20\n",
      "13/13 [==============================] - 0s 1ms/step - loss: 11.9754 - mse: 6.2261\n",
      "Epoch 16/20\n",
      "13/13 [==============================] - 0s 1ms/step - loss: 11.3286 - mse: 5.6223\n",
      "Epoch 17/20\n",
      "13/13 [==============================] - 0s 1ms/step - loss: 12.4825 - mse: 6.8187\n",
      "Epoch 18/20\n",
      "13/13 [==============================] - 0s 1ms/step - loss: 11.6041 - mse: 5.9831\n",
      "Epoch 19/20\n",
      "13/13 [==============================] - 0s 1ms/step - loss: 12.3591 - mse: 6.7803\n",
      "Epoch 20/20\n",
      "13/13 [==============================] - 0s 1ms/step - loss: 10.7903 - mse: 5.2540\n",
      "R2-test-fit: -5.921640892976978\n",
      "Epoch 1/20\n",
      "9/9 [==============================] - 1s 2ms/step - loss: 14.0996 - mse: 7.8439\n",
      "Epoch 2/20\n",
      "9/9 [==============================] - 0s 2ms/step - loss: 12.9553 - mse: 6.7390\n",
      "Epoch 3/20\n",
      "9/9 [==============================] - 0s 2ms/step - loss: 13.1100 - mse: 6.9270\n",
      "Epoch 4/20\n",
      "9/9 [==============================] - 0s 1ms/step - loss: 12.4564 - mse: 6.3028\n",
      "Epoch 5/20\n",
      "9/9 [==============================] - 0s 2ms/step - loss: 13.2738 - mse: 7.1466\n",
      "Epoch 6/20\n",
      "9/9 [==============================] - 0s 2ms/step - loss: 12.0156 - mse: 5.9149\n",
      "Epoch 7/20\n",
      "9/9 [==============================] - 0s 2ms/step - loss: 12.5841 - mse: 6.5102\n",
      "Epoch 8/20\n",
      "9/9 [==============================] - 0s 2ms/step - loss: 11.7968 - mse: 5.7503\n",
      "Epoch 9/20\n",
      "9/9 [==============================] - 0s 2ms/step - loss: 11.6827 - mse: 5.6638\n",
      "Epoch 10/20\n",
      "9/9 [==============================] - 0s 2ms/step - loss: 11.5989 - mse: 5.6085\n",
      "Epoch 11/20\n",
      "9/9 [==============================] - 0s 2ms/step - loss: 12.1932 - mse: 6.2313\n",
      "Epoch 12/20\n",
      "9/9 [==============================] - 0s 2ms/step - loss: 11.4586 - mse: 5.5255\n",
      "Epoch 13/20\n",
      "9/9 [==============================] - 0s 2ms/step - loss: 11.6917 - mse: 5.7876\n",
      "Epoch 14/20\n",
      "9/9 [==============================] - 0s 2ms/step - loss: 11.2697 - mse: 5.3948\n",
      "Epoch 15/20\n",
      "9/9 [==============================] - 0s 2ms/step - loss: 11.4154 - mse: 5.5699\n",
      "Epoch 16/20\n",
      "9/9 [==============================] - 0s 2ms/step - loss: 11.6239 - mse: 5.8076\n",
      "Epoch 17/20\n",
      "9/9 [==============================] - 0s 2ms/step - loss: 11.4475 - mse: 5.6607\n",
      "Epoch 18/20\n",
      "9/9 [==============================] - 0s 2ms/step - loss: 11.4926 - mse: 5.7351\n",
      "Epoch 19/20\n",
      "9/9 [==============================] - 0s 2ms/step - loss: 11.5266 - mse: 5.7986\n",
      "Epoch 20/20\n",
      "9/9 [==============================] - 0s 2ms/step - loss: 11.7928 - mse: 6.0943\n",
      "5/5 [==============================] - 0s 1ms/step - loss: 12.1836 - mse: 6.5074\n",
      "R2-test -12.183568000793457\n",
      "5/5 [==============================] - 0s 992us/step\n",
      "MSE-test 6.507409505889915\n",
      "Best params: {'output_shape': 1, 'nn3': 30, 'nn2': 70, 'nn1': 20, 'nl3': 1, 'nl2': 3, 'nl1': 0, 'lr': 0.0001, 'l2': 0.01, 'l1': 0.003, 'input_shape': 15, 'dropout': 0.2, 'decay': 0, 'act': 'relu'}\n"
     ]
    },
    {
     "data": {
      "text/plain": [
       "['actq3_lab1',\n",
       " 'actq1_lab1',\n",
       " 'mean(qmsr$_lab1)',\n",
       " 'rtr_lab1',\n",
       " 'cer_lab1',\n",
       " 'actq3_lab2',\n",
       " 'actq1_lab2',\n",
       " 'mean(qavt$_lab2)',\n",
       " 'avgtime_lab2',\n",
       " 'rt_lab2',\n",
       " 'rt_lab3',\n",
       " 'actq1_lab3',\n",
       " 'ut_lab3',\n",
       " 'mean(qact$_lab3)',\n",
       " 'cer_lab3']"
      ]
     },
     "execution_count": 26,
     "metadata": {
      "tags": []
     },
     "output_type": "execute_result"
    }
   ],
   "source": [
    "dataset = datalab1[[TARGET] + selected_features_ann_1].join(datalab2[selected_features_ann_2]).join(datalab3[selected_features_ann_3])\n",
    "run_process(dataset,rand_cv)"
   ]
  },
  {
   "cell_type": "code",
   "execution_count": null,
   "metadata": {
    "colab": {
     "base_uri": "https://localhost:8080/"
    },
    "id": "lgmjMvSc13dp",
    "outputId": "815b787c-d5b4-4258-8eef-7a10594e42b4"
   },
   "outputs": [
    {
     "name": "stdout",
     "output_type": "stream",
     "text": [
      "Fitting 5 folds for each of 10 candidates, totalling 50 fits\n",
      "Epoch 1/20\n",
      "13/13 [==============================] - 1s 1ms/step - loss: 8.3965 - mse: 7.7289\n",
      "Epoch 2/20\n",
      "13/13 [==============================] - 0s 1ms/step - loss: 7.9047 - mse: 7.2377\n",
      "Epoch 3/20\n",
      "13/13 [==============================] - 0s 1ms/step - loss: 6.8047 - mse: 6.1374\n",
      "Epoch 4/20\n",
      "13/13 [==============================] - 0s 1ms/step - loss: 6.8510 - mse: 6.1833\n",
      "Epoch 5/20\n",
      "13/13 [==============================] - 0s 1ms/step - loss: 6.8656 - mse: 6.1977\n",
      "Epoch 6/20\n",
      "13/13 [==============================] - 0s 1ms/step - loss: 7.2662 - mse: 6.5984\n",
      "Epoch 7/20\n",
      "13/13 [==============================] - 0s 1ms/step - loss: 7.2426 - mse: 6.5752\n",
      "Epoch 8/20\n",
      "13/13 [==============================] - 0s 1ms/step - loss: 6.3287 - mse: 5.6618\n",
      "Epoch 9/20\n",
      "13/13 [==============================] - 0s 1ms/step - loss: 6.5475 - mse: 5.8813\n",
      "Epoch 10/20\n",
      "13/13 [==============================] - 0s 1ms/step - loss: 6.9982 - mse: 6.3327\n",
      "Epoch 11/20\n",
      "13/13 [==============================] - 0s 1ms/step - loss: 6.4844 - mse: 5.8195\n",
      "Epoch 12/20\n",
      "13/13 [==============================] - 0s 1ms/step - loss: 7.0328 - mse: 6.3687\n",
      "Epoch 13/20\n",
      "13/13 [==============================] - 0s 1ms/step - loss: 6.7336 - mse: 6.0703\n",
      "Epoch 14/20\n",
      "13/13 [==============================] - 0s 1ms/step - loss: 6.6070 - mse: 5.9446\n",
      "Epoch 15/20\n",
      "13/13 [==============================] - 0s 1ms/step - loss: 6.4543 - mse: 5.7927\n",
      "Epoch 16/20\n",
      "13/13 [==============================] - 0s 1ms/step - loss: 6.4451 - mse: 5.7844\n",
      "Epoch 17/20\n",
      "13/13 [==============================] - 0s 1ms/step - loss: 6.7517 - mse: 6.0918\n",
      "Epoch 18/20\n",
      "13/13 [==============================] - 0s 1ms/step - loss: 6.8106 - mse: 6.1515\n",
      "Epoch 19/20\n",
      "13/13 [==============================] - 0s 1ms/step - loss: 6.5424 - mse: 5.8843\n",
      "Epoch 20/20\n",
      "13/13 [==============================] - 0s 1ms/step - loss: 6.3581 - mse: 5.7008\n",
      "R2-test-fit: -5.916116805053997\n",
      "Epoch 1/20\n",
      "9/9 [==============================] - 1s 1ms/step - loss: 8.3208 - mse: 7.6532\n",
      "Epoch 2/20\n",
      "9/9 [==============================] - 0s 1ms/step - loss: 8.3968 - mse: 7.7294\n",
      "Epoch 3/20\n",
      "9/9 [==============================] - 0s 1ms/step - loss: 7.3713 - mse: 6.7037\n",
      "Epoch 4/20\n",
      "9/9 [==============================] - 0s 1ms/step - loss: 7.2902 - mse: 6.6223\n",
      "Epoch 5/20\n",
      "9/9 [==============================] - 0s 1ms/step - loss: 6.9479 - mse: 6.2798\n",
      "Epoch 6/20\n",
      "9/9 [==============================] - 0s 1ms/step - loss: 6.4155 - mse: 5.7473\n",
      "Epoch 7/20\n",
      "9/9 [==============================] - 0s 1ms/step - loss: 6.4924 - mse: 5.8242\n",
      "Epoch 8/20\n",
      "9/9 [==============================] - 0s 1ms/step - loss: 6.5856 - mse: 5.9176\n",
      "Epoch 9/20\n",
      "9/9 [==============================] - 0s 1ms/step - loss: 6.5909 - mse: 5.9232\n",
      "Epoch 10/20\n",
      "9/9 [==============================] - 0s 1ms/step - loss: 6.8312 - mse: 6.1638\n",
      "Epoch 11/20\n",
      "9/9 [==============================] - 0s 1ms/step - loss: 6.0072 - mse: 5.3403\n",
      "Epoch 12/20\n",
      "9/9 [==============================] - 0s 1ms/step - loss: 6.8361 - mse: 6.1695\n",
      "Epoch 13/20\n",
      "9/9 [==============================] - 0s 1ms/step - loss: 7.3354 - mse: 6.6693\n",
      "Epoch 14/20\n",
      "9/9 [==============================] - 0s 1ms/step - loss: 5.6321 - mse: 4.9665\n",
      "Epoch 15/20\n",
      "9/9 [==============================] - 0s 1ms/step - loss: 6.0601 - mse: 5.3950\n",
      "Epoch 16/20\n",
      "9/9 [==============================] - 0s 1ms/step - loss: 6.0675 - mse: 5.4029\n",
      "Epoch 17/20\n",
      "9/9 [==============================] - 0s 1ms/step - loss: 5.8703 - mse: 5.2063\n",
      "Epoch 18/20\n",
      "9/9 [==============================] - 0s 1ms/step - loss: 6.7169 - mse: 6.0534\n",
      "Epoch 19/20\n",
      "9/9 [==============================] - 0s 1ms/step - loss: 6.1013 - mse: 5.4383\n",
      "Epoch 20/20\n",
      "9/9 [==============================] - 0s 1ms/step - loss: 5.8407 - mse: 5.1783\n",
      "5/5 [==============================] - 0s 868us/step - loss: 6.6439 - mse: 5.9819\n",
      "R2-test -6.6438889503479\n",
      "5/5 [==============================] - 0s 744us/step\n",
      "MSE-test 5.981943116582992\n",
      "Best params: {'output_shape': 1, 'nn3': 5, 'nn2': 40, 'nn1': 100, 'nl3': 0, 'nl2': 2, 'nl1': 2, 'lr': 0.0001, 'l2': 0.003, 'l1': 0, 'input_shape': 15, 'dropout': 0.1, 'decay': 1e-09, 'act': 'relu'}\n"
     ]
    },
    {
     "data": {
      "text/plain": [
       "['actq3_lab1',\n",
       " 'actq1_lab1',\n",
       " 'mean(qmsr$_lab1)',\n",
       " 'rtr_lab1',\n",
       " 'cer_lab1',\n",
       " 'actq3_lab2',\n",
       " 'actq1_lab2',\n",
       " 'mean(qavt$_lab2)',\n",
       " 'avgtime_lab2',\n",
       " 'rt_lab2',\n",
       " 'rt_lab3',\n",
       " 'actq1_lab3',\n",
       " 'ut_lab3',\n",
       " 'mean(qact$_lab3)',\n",
       " 'cer_lab3']"
      ]
     },
     "execution_count": 27,
     "metadata": {
      "tags": []
     },
     "output_type": "execute_result"
    }
   ],
   "source": [
    "dataset = datalab1[[TARGET] + selected_features_ann_1].join(datalab2[selected_features_ann_2]).join(datalab3[selected_features_ann_3])\n",
    "run_process(dataset,rand_cv)"
   ]
  },
  {
   "cell_type": "code",
   "execution_count": null,
   "metadata": {
    "colab": {
     "base_uri": "https://localhost:8080/"
    },
    "id": "IulNOLEs13kC",
    "outputId": "b8ac6603-5d4e-4319-fba8-a299b29152ab"
   },
   "outputs": [
    {
     "name": "stdout",
     "output_type": "stream",
     "text": [
      "Fitting 5 folds for each of 10 candidates, totalling 50 fits\n",
      "Epoch 1/20\n",
      "13/13 [==============================] - 1s 1ms/step - loss: 22.5811 - mse: 7.5639\n",
      "Epoch 2/20\n",
      "13/13 [==============================] - 0s 1ms/step - loss: 22.6001 - mse: 7.7232\n",
      "Epoch 3/20\n",
      "13/13 [==============================] - 0s 1ms/step - loss: 21.6002 - mse: 6.8581\n",
      "Epoch 4/20\n",
      "13/13 [==============================] - 0s 1ms/step - loss: 21.1143 - mse: 6.5049\n",
      "Epoch 5/20\n",
      "13/13 [==============================] - 0s 1ms/step - loss: 21.1982 - mse: 6.7229\n",
      "Epoch 6/20\n",
      "13/13 [==============================] - 0s 1ms/step - loss: 20.5515 - mse: 6.2125\n",
      "Epoch 7/20\n",
      "13/13 [==============================] - 0s 1ms/step - loss: 20.1009 - mse: 5.8993\n",
      "Epoch 8/20\n",
      "13/13 [==============================] - 0s 1ms/step - loss: 19.9776 - mse: 5.9146\n",
      "Epoch 9/20\n",
      "13/13 [==============================] - 0s 1ms/step - loss: 20.4352 - mse: 6.5107\n",
      "Epoch 10/20\n",
      "13/13 [==============================] - 0s 1ms/step - loss: 19.4074 - mse: 5.6217\n",
      "Epoch 11/20\n",
      "13/13 [==============================] - 0s 1ms/step - loss: 19.3262 - mse: 5.6787\n",
      "Epoch 12/20\n",
      "13/13 [==============================] - 0s 2ms/step - loss: 19.5115 - mse: 6.0024\n",
      "Epoch 13/20\n",
      "13/13 [==============================] - 0s 1ms/step - loss: 19.3915 - mse: 6.0200\n",
      "Epoch 14/20\n",
      "13/13 [==============================] - 0s 2ms/step - loss: 19.3012 - mse: 6.0666\n",
      "Epoch 15/20\n",
      "13/13 [==============================] - 0s 2ms/step - loss: 19.3333 - mse: 6.2351\n",
      "Epoch 16/20\n",
      "13/13 [==============================] - 0s 2ms/step - loss: 18.5796 - mse: 5.6177\n",
      "Epoch 17/20\n",
      "13/13 [==============================] - 0s 2ms/step - loss: 18.6409 - mse: 5.8146\n",
      "Epoch 18/20\n",
      "13/13 [==============================] - 0s 2ms/step - loss: 18.5167 - mse: 5.8253\n",
      "Epoch 19/20\n",
      "13/13 [==============================] - 0s 1ms/step - loss: 18.1573 - mse: 5.6000\n",
      "Epoch 20/20\n",
      "13/13 [==============================] - 0s 1ms/step - loss: 18.6690 - mse: 6.2453\n",
      "R2-test-fit: -5.915612985775448\n",
      "Epoch 1/20\n",
      "9/9 [==============================] - 1s 1ms/step - loss: 24.0764 - mse: 8.9366\n",
      "Epoch 2/20\n",
      "9/9 [==============================] - 0s 1ms/step - loss: 22.9838 - mse: 7.9460\n",
      "Epoch 3/20\n",
      "9/9 [==============================] - 0s 1ms/step - loss: 23.0101 - mse: 8.0701\n",
      "Epoch 4/20\n",
      "9/9 [==============================] - 0s 1ms/step - loss: 21.5202 - mse: 6.6748\n",
      "Epoch 5/20\n",
      "9/9 [==============================] - 0s 1ms/step - loss: 21.4334 - mse: 6.6809\n",
      "Epoch 6/20\n",
      "9/9 [==============================] - 0s 1ms/step - loss: 21.5367 - mse: 6.8768\n",
      "Epoch 7/20\n",
      "9/9 [==============================] - 0s 1ms/step - loss: 21.1530 - mse: 6.5859\n",
      "Epoch 8/20\n",
      "9/9 [==============================] - 0s 1ms/step - loss: 21.3892 - mse: 6.9154\n",
      "Epoch 9/20\n",
      "9/9 [==============================] - 0s 1ms/step - loss: 21.3312 - mse: 6.9515\n",
      "Epoch 10/20\n",
      "9/9 [==============================] - 0s 2ms/step - loss: 21.7920 - mse: 7.5072\n",
      "Epoch 11/20\n",
      "9/9 [==============================] - 0s 1ms/step - loss: 20.6610 - mse: 6.4714\n",
      "Epoch 12/20\n",
      "9/9 [==============================] - 0s 1ms/step - loss: 20.7969 - mse: 6.7029\n",
      "Epoch 13/20\n",
      "9/9 [==============================] - 0s 1ms/step - loss: 20.5009 - mse: 6.5030\n",
      "Epoch 14/20\n",
      "9/9 [==============================] - 0s 1ms/step - loss: 20.8022 - mse: 6.8999\n",
      "Epoch 15/20\n",
      "9/9 [==============================] - 0s 1ms/step - loss: 19.6388 - mse: 5.8327\n",
      "Epoch 16/20\n",
      "9/9 [==============================] - 0s 1ms/step - loss: 20.0778 - mse: 6.3672\n",
      "Epoch 17/20\n",
      "9/9 [==============================] - 0s 1ms/step - loss: 20.7517 - mse: 7.1366\n",
      "Epoch 18/20\n",
      "9/9 [==============================] - 0s 1ms/step - loss: 20.2581 - mse: 6.7383\n",
      "Epoch 19/20\n",
      "9/9 [==============================] - 0s 1ms/step - loss: 20.0625 - mse: 6.6377\n",
      "Epoch 20/20\n",
      "9/9 [==============================] - 0s 1ms/step - loss: 19.3054 - mse: 5.9755\n",
      "5/5 [==============================] - 0s 1ms/step - loss: 18.1735 - mse: 4.9155\n",
      "R2-test -18.173477172851562\n",
      "5/5 [==============================] - 0s 992us/step\n",
      "MSE-test 4.915467160343942\n",
      "Best params: {'output_shape': 1, 'nn3': 30, 'nn2': 40, 'nn1': 50, 'nl3': 2, 'nl2': 2, 'nl1': 3, 'lr': 0.0001, 'l2': 0.0001, 'l1': 0.01, 'input_shape': 15, 'dropout': 0.2, 'decay': 0, 'act': 'relu'}\n"
     ]
    },
    {
     "data": {
      "text/plain": [
       "['actq3_lab1',\n",
       " 'actq1_lab1',\n",
       " 'mean(qmsr$_lab1)',\n",
       " 'rtr_lab1',\n",
       " 'cer_lab1',\n",
       " 'actq3_lab2',\n",
       " 'actq1_lab2',\n",
       " 'mean(qavt$_lab2)',\n",
       " 'avgtime_lab2',\n",
       " 'rt_lab2',\n",
       " 'rt_lab3',\n",
       " 'actq1_lab3',\n",
       " 'ut_lab3',\n",
       " 'mean(qact$_lab3)',\n",
       " 'cer_lab3']"
      ]
     },
     "execution_count": 28,
     "metadata": {
      "tags": []
     },
     "output_type": "execute_result"
    }
   ],
   "source": [
    "dataset = datalab1[[TARGET] + selected_features_ann_1].join(datalab2[selected_features_ann_2]).join(datalab3[selected_features_ann_3])\n",
    "run_process(dataset,rand_cv)"
   ]
  },
  {
   "cell_type": "code",
   "execution_count": null,
   "metadata": {
    "colab": {
     "base_uri": "https://localhost:8080/"
    },
    "id": "peAKMwnF13qj",
    "outputId": "0c59b2b3-61c4-4698-cf63-3e724f2ac7db"
   },
   "outputs": [
    {
     "name": "stdout",
     "output_type": "stream",
     "text": [
      "Fitting 5 folds for each of 10 candidates, totalling 50 fits\n",
      "Epoch 1/20\n",
      "13/13 [==============================] - 1s 1ms/step - loss: 7.6837 - mse: 7.2895\n",
      "Epoch 2/20\n",
      "13/13 [==============================] - 0s 909us/step - loss: 6.3689 - mse: 5.9753\n",
      "Epoch 3/20\n",
      "13/13 [==============================] - 0s 1ms/step - loss: 6.2825 - mse: 5.8895\n",
      "Epoch 4/20\n",
      "13/13 [==============================] - 0s 1ms/step - loss: 6.7729 - mse: 6.3805\n",
      "Epoch 5/20\n",
      "13/13 [==============================] - 0s 1ms/step - loss: 5.8443 - mse: 5.4526\n",
      "Epoch 6/20\n",
      "13/13 [==============================] - 0s 1ms/step - loss: 6.4022 - mse: 6.0110\n",
      "Epoch 7/20\n",
      "13/13 [==============================] - 0s 1ms/step - loss: 6.0247 - mse: 5.6341\n",
      "Epoch 8/20\n",
      "13/13 [==============================] - 0s 1ms/step - loss: 6.1842 - mse: 5.7942\n",
      "Epoch 9/20\n",
      "13/13 [==============================] - 0s 1ms/step - loss: 6.1788 - mse: 5.7893\n",
      "Epoch 10/20\n",
      "13/13 [==============================] - 0s 951us/step - loss: 6.5457 - mse: 6.1569\n",
      "Epoch 11/20\n",
      "13/13 [==============================] - 0s 1ms/step - loss: 6.6117 - mse: 6.2235\n",
      "Epoch 12/20\n",
      "13/13 [==============================] - 0s 992us/step - loss: 6.4757 - mse: 6.0881\n",
      "Epoch 13/20\n",
      "13/13 [==============================] - 0s 868us/step - loss: 6.7293 - mse: 6.3423\n",
      "Epoch 14/20\n",
      "13/13 [==============================] - 0s 868us/step - loss: 5.8168 - mse: 5.4303\n",
      "Epoch 15/20\n",
      "13/13 [==============================] - 0s 827us/step - loss: 6.0022 - mse: 5.6164\n",
      "Epoch 16/20\n",
      "13/13 [==============================] - 0s 1ms/step - loss: 6.3081 - mse: 5.9228\n",
      "Epoch 17/20\n",
      "13/13 [==============================] - 0s 1ms/step - loss: 6.1345 - mse: 5.7498\n",
      "Epoch 18/20\n",
      "13/13 [==============================] - 0s 1ms/step - loss: 6.7756 - mse: 6.3915\n",
      "Epoch 19/20\n",
      "13/13 [==============================] - 0s 1ms/step - loss: 6.1716 - mse: 5.7881\n",
      "Epoch 20/20\n",
      "13/13 [==============================] - 0s 1ms/step - loss: 6.4942 - mse: 6.1113\n",
      "R2-test-fit: -5.921255698228536\n",
      "Epoch 1/20\n",
      "9/9 [==============================] - 1s 1ms/step - loss: 9.4871 - mse: 9.0952\n",
      "Epoch 2/20\n",
      "9/9 [==============================] - 0s 1ms/step - loss: 7.8110 - mse: 7.4196\n",
      "Epoch 3/20\n",
      "9/9 [==============================] - 0s 1ms/step - loss: 6.7729 - mse: 6.3819\n",
      "Epoch 4/20\n",
      "9/9 [==============================] - 0s 1ms/step - loss: 6.0579 - mse: 5.6673\n",
      "Epoch 5/20\n",
      "9/9 [==============================] - 0s 1ms/step - loss: 6.2446 - mse: 5.8544\n",
      "Epoch 6/20\n",
      "9/9 [==============================] - 0s 1ms/step - loss: 6.3931 - mse: 6.0032\n",
      "Epoch 7/20\n",
      "9/9 [==============================] - 0s 992us/step - loss: 6.4598 - mse: 6.0703\n",
      "Epoch 8/20\n",
      "9/9 [==============================] - 0s 992us/step - loss: 6.4955 - mse: 6.1065\n",
      "Epoch 9/20\n",
      "9/9 [==============================] - 0s 992us/step - loss: 6.4122 - mse: 6.0236\n",
      "Epoch 10/20\n",
      "9/9 [==============================] - 0s 1ms/step - loss: 5.9213 - mse: 5.5331\n",
      "Epoch 11/20\n",
      "9/9 [==============================] - 0s 1ms/step - loss: 6.5689 - mse: 6.1811\n",
      "Epoch 12/20\n",
      "9/9 [==============================] - 0s 1ms/step - loss: 6.5026 - mse: 6.1152\n",
      "Epoch 13/20\n",
      "9/9 [==============================] - 0s 1ms/step - loss: 6.4185 - mse: 6.0315\n",
      "Epoch 14/20\n",
      "9/9 [==============================] - 0s 1ms/step - loss: 6.6969 - mse: 6.3103\n",
      "Epoch 15/20\n",
      "9/9 [==============================] - 0s 1ms/step - loss: 6.1035 - mse: 5.7173\n",
      "Epoch 16/20\n",
      "9/9 [==============================] - 0s 992us/step - loss: 6.1837 - mse: 5.7980\n",
      "Epoch 17/20\n",
      "9/9 [==============================] - 0s 992us/step - loss: 6.6599 - mse: 6.2746\n",
      "Epoch 18/20\n",
      "9/9 [==============================] - 0s 1ms/step - loss: 6.7076 - mse: 6.3226\n",
      "Epoch 19/20\n",
      "9/9 [==============================] - 0s 1ms/step - loss: 6.4764 - mse: 6.0919\n",
      "Epoch 20/20\n",
      "9/9 [==============================] - 0s 1ms/step - loss: 6.3985 - mse: 6.0144\n",
      "5/5 [==============================] - 0s 1ms/step - loss: 6.4470 - mse: 6.0632\n",
      "R2-test -6.446985244750977\n",
      "5/5 [==============================] - 0s 868us/step\n",
      "MSE-test 6.06316729344923\n",
      "Best params: {'output_shape': 1, 'nn3': 15, 'nn2': 70, 'nn1': 50, 'nl3': 0, 'nl2': 1, 'nl1': 2, 'lr': 0.01, 'l2': 0.003, 'l1': 0, 'input_shape': 15, 'dropout': 0.1, 'decay': 1e-09, 'act': 'sigmoid'}\n"
     ]
    },
    {
     "data": {
      "text/plain": [
       "['actq3_lab1',\n",
       " 'actq1_lab1',\n",
       " 'mean(qmsr$_lab1)',\n",
       " 'rtr_lab1',\n",
       " 'cer_lab1',\n",
       " 'actq3_lab2',\n",
       " 'actq1_lab2',\n",
       " 'mean(qavt$_lab2)',\n",
       " 'avgtime_lab2',\n",
       " 'rt_lab2',\n",
       " 'rt_lab3',\n",
       " 'actq1_lab3',\n",
       " 'ut_lab3',\n",
       " 'mean(qact$_lab3)',\n",
       " 'cer_lab3']"
      ]
     },
     "execution_count": 29,
     "metadata": {
      "tags": []
     },
     "output_type": "execute_result"
    }
   ],
   "source": [
    "dataset = datalab1[[TARGET] + selected_features_ann_1].join(datalab2[selected_features_ann_2]).join(datalab3[selected_features_ann_3])\n",
    "run_process(dataset,rand_cv)"
   ]
  },
  {
   "cell_type": "code",
   "execution_count": null,
   "metadata": {
    "colab": {
     "base_uri": "https://localhost:8080/"
    },
    "id": "4NHHAm1u13w4",
    "outputId": "0d0e6768-a849-4f4d-ccbb-b485d0cbcbef"
   },
   "outputs": [
    {
     "name": "stdout",
     "output_type": "stream",
     "text": [
      "Fitting 5 folds for each of 10 candidates, totalling 50 fits\n",
      "Epoch 1/20\n",
      "13/13 [==============================] - 1s 1ms/step - loss: 14.5660 - mse: 7.5314\n",
      "Epoch 2/20\n",
      "13/13 [==============================] - 0s 1ms/step - loss: 14.1102 - mse: 7.1026\n",
      "Epoch 3/20\n",
      "13/13 [==============================] - 0s 1ms/step - loss: 13.5788 - mse: 6.5944\n",
      "Epoch 4/20\n",
      "13/13 [==============================] - 0s 1ms/step - loss: 13.0964 - mse: 6.1347\n",
      "Epoch 5/20\n",
      "13/13 [==============================] - 0s 2ms/step - loss: 12.4325 - mse: 5.4950\n",
      "Epoch 6/20\n",
      "13/13 [==============================] - 0s 2ms/step - loss: 12.8305 - mse: 5.9180\n",
      "Epoch 7/20\n",
      "13/13 [==============================] - 0s 2ms/step - loss: 12.5393 - mse: 5.6527\n",
      "Epoch 8/20\n",
      "13/13 [==============================] - 0s 1ms/step - loss: 12.8013 - mse: 5.9409\n",
      "Epoch 9/20\n",
      "13/13 [==============================] - 0s 1ms/step - loss: 13.1988 - mse: 6.3651\n",
      "Epoch 10/20\n",
      "13/13 [==============================] - 0s 1ms/step - loss: 12.4357 - mse: 5.6288\n",
      "Epoch 11/20\n",
      "13/13 [==============================] - 0s 1ms/step - loss: 12.6608 - mse: 5.8808\n",
      "Epoch 12/20\n",
      "13/13 [==============================] - 0s 1ms/step - loss: 12.4868 - mse: 5.7337\n",
      "Epoch 13/20\n",
      "13/13 [==============================] - 0s 1ms/step - loss: 12.6185 - mse: 5.8925\n",
      "Epoch 14/20\n",
      "13/13 [==============================] - 0s 1ms/step - loss: 12.0562 - mse: 5.3573\n",
      "Epoch 15/20\n",
      "13/13 [==============================] - 0s 1ms/step - loss: 12.9655 - mse: 6.2936\n",
      "Epoch 16/20\n",
      "13/13 [==============================] - 0s 1ms/step - loss: 12.7146 - mse: 6.0699\n",
      "Epoch 17/20\n",
      "13/13 [==============================] - 0s 1ms/step - loss: 12.3184 - mse: 5.7007\n",
      "Epoch 18/20\n",
      "13/13 [==============================] - 0s 1ms/step - loss: 12.2800 - mse: 5.6895\n",
      "Epoch 19/20\n",
      "13/13 [==============================] - 0s 2ms/step - loss: 12.6999 - mse: 6.1364\n",
      "Epoch 20/20\n",
      "13/13 [==============================] - 0s 1ms/step - loss: 12.2667 - mse: 5.7304\n",
      "R2-test-fit: -5.9221207916939065\n",
      "Epoch 1/20\n",
      "9/9 [==============================] - 1s 2ms/step - loss: 14.8314 - mse: 7.7869\n",
      "Epoch 2/20\n",
      "9/9 [==============================] - 0s 1ms/step - loss: 14.8250 - mse: 7.8005\n",
      "Epoch 3/20\n",
      "9/9 [==============================] - 0s 2ms/step - loss: 14.9122 - mse: 7.9062\n",
      "Epoch 4/20\n",
      "9/9 [==============================] - 0s 2ms/step - loss: 13.6001 - mse: 6.6116\n",
      "Epoch 5/20\n",
      "9/9 [==============================] - 0s 1ms/step - loss: 13.4547 - mse: 6.4829\n",
      "Epoch 6/20\n",
      "9/9 [==============================] - 0s 1ms/step - loss: 13.5953 - mse: 6.6399\n",
      "Epoch 7/20\n",
      "9/9 [==============================] - 0s 1ms/step - loss: 13.0753 - mse: 6.1366\n",
      "Epoch 8/20\n",
      "9/9 [==============================] - 0s 2ms/step - loss: 13.0884 - mse: 6.1669\n",
      "Epoch 9/20\n",
      "9/9 [==============================] - 0s 2ms/step - loss: 12.9626 - mse: 6.0583\n",
      "Epoch 10/20\n",
      "9/9 [==============================] - 0s 1ms/step - loss: 12.3726 - mse: 5.4860\n",
      "Epoch 11/20\n",
      "9/9 [==============================] - 0s 1ms/step - loss: 12.8540 - mse: 5.9852\n",
      "Epoch 12/20\n",
      "9/9 [==============================] - 0s 1ms/step - loss: 12.8663 - mse: 6.0154\n",
      "Epoch 13/20\n",
      "9/9 [==============================] - 0s 1ms/step - loss: 12.3432 - mse: 5.5106\n",
      "Epoch 14/20\n",
      "9/9 [==============================] - 0s 1ms/step - loss: 12.6829 - mse: 5.8686\n",
      "Epoch 15/20\n",
      "9/9 [==============================] - 0s 1ms/step - loss: 12.0473 - mse: 5.2515\n",
      "Epoch 16/20\n",
      "9/9 [==============================] - 0s 1ms/step - loss: 12.5236 - mse: 5.7462\n",
      "Epoch 17/20\n",
      "9/9 [==============================] - 0s 1ms/step - loss: 12.6715 - mse: 5.9124\n",
      "Epoch 18/20\n",
      "9/9 [==============================] - 0s 1ms/step - loss: 12.1964 - mse: 5.4561\n",
      "Epoch 19/20\n",
      "9/9 [==============================] - 0s 1ms/step - loss: 13.1912 - mse: 6.4696\n",
      "Epoch 20/20\n",
      "9/9 [==============================] - 0s 1ms/step - loss: 12.3899 - mse: 5.6868\n",
      "5/5 [==============================] - 0s 992us/step - loss: 13.0026 - mse: 6.3137\n",
      "R2-test -13.002572059631348\n",
      "5/5 [==============================] - 0s 1ms/step\n",
      "MSE-test 6.313670651017777\n",
      "Best params: {'output_shape': 1, 'nn3': 15, 'nn2': 70, 'nn1': 100, 'nl3': 1, 'nl2': 2, 'nl1': 2, 'lr': 0.0001, 'l2': 0, 'l1': 0.003, 'input_shape': 15, 'dropout': 0.1, 'decay': 0, 'act': 'relu'}\n"
     ]
    },
    {
     "data": {
      "text/plain": [
       "['actq3_lab1',\n",
       " 'actq1_lab1',\n",
       " 'mean(qmsr$_lab1)',\n",
       " 'rtr_lab1',\n",
       " 'cer_lab1',\n",
       " 'actq3_lab2',\n",
       " 'actq1_lab2',\n",
       " 'mean(qavt$_lab2)',\n",
       " 'avgtime_lab2',\n",
       " 'rt_lab2',\n",
       " 'rt_lab3',\n",
       " 'actq1_lab3',\n",
       " 'ut_lab3',\n",
       " 'mean(qact$_lab3)',\n",
       " 'cer_lab3']"
      ]
     },
     "execution_count": 30,
     "metadata": {
      "tags": []
     },
     "output_type": "execute_result"
    }
   ],
   "source": [
    "dataset = datalab1[[TARGET] + selected_features_ann_1].join(datalab2[selected_features_ann_2]).join(datalab3[selected_features_ann_3])\n",
    "run_process(dataset,rand_cv)"
   ]
  },
  {
   "cell_type": "code",
   "execution_count": null,
   "metadata": {
    "colab": {
     "base_uri": "https://localhost:8080/"
    },
    "id": "M2Wm5n-w133x",
    "outputId": "069d3c8f-80ca-46f2-fd64-c3eedda3885a"
   },
   "outputs": [
    {
     "name": "stdout",
     "output_type": "stream",
     "text": [
      "Fitting 5 folds for each of 10 candidates, totalling 50 fits\n",
      "Epoch 1/20\n",
      "13/13 [==============================] - 1s 909us/step - loss: 7.2118 - mse: 7.1853\n",
      "Epoch 2/20\n",
      "13/13 [==============================] - 0s 868us/step - loss: 7.2202 - mse: 7.1936\n",
      "Epoch 3/20\n",
      "13/13 [==============================] - 0s 868us/step - loss: 6.5790 - mse: 6.5523\n",
      "Epoch 4/20\n",
      "13/13 [==============================] - 0s 909us/step - loss: 6.3820 - mse: 6.3553\n",
      "Epoch 5/20\n",
      "13/13 [==============================] - 0s 868us/step - loss: 5.6718 - mse: 5.6450\n",
      "Epoch 6/20\n",
      "13/13 [==============================] - 0s 785us/step - loss: 5.8485 - mse: 5.8217\n",
      "Epoch 7/20\n",
      "13/13 [==============================] - 0s 785us/step - loss: 5.8585 - mse: 5.8317\n",
      "Epoch 8/20\n",
      "13/13 [==============================] - 0s 909us/step - loss: 5.7970 - mse: 5.7701\n",
      "Epoch 9/20\n",
      "13/13 [==============================] - 0s 827us/step - loss: 5.9270 - mse: 5.9001\n",
      "Epoch 10/20\n",
      "13/13 [==============================] - 0s 827us/step - loss: 5.6094 - mse: 5.5825\n",
      "Epoch 11/20\n",
      "13/13 [==============================] - 0s 868us/step - loss: 5.7383 - mse: 5.7114\n",
      "Epoch 12/20\n",
      "13/13 [==============================] - 0s 827us/step - loss: 5.7925 - mse: 5.7656\n",
      "Epoch 13/20\n",
      "13/13 [==============================] - 0s 785us/step - loss: 6.2419 - mse: 6.2150\n",
      "Epoch 14/20\n",
      "13/13 [==============================] - 0s 827us/step - loss: 6.3356 - mse: 6.3086\n",
      "Epoch 15/20\n",
      "13/13 [==============================] - 0s 827us/step - loss: 5.8760 - mse: 5.8490\n",
      "Epoch 16/20\n",
      "13/13 [==============================] - 0s 785us/step - loss: 5.9165 - mse: 5.8895\n",
      "Epoch 17/20\n",
      "13/13 [==============================] - 0s 827us/step - loss: 5.9477 - mse: 5.9208\n",
      "Epoch 18/20\n",
      "13/13 [==============================] - 0s 785us/step - loss: 6.4485 - mse: 6.4215\n",
      "Epoch 19/20\n",
      "13/13 [==============================] - 0s 909us/step - loss: 6.3085 - mse: 6.2815\n",
      "Epoch 20/20\n",
      "13/13 [==============================] - 0s 827us/step - loss: 6.4535 - mse: 6.4265\n",
      "R2-test-fit: -5.9349567343215535\n",
      "Epoch 1/20\n",
      "9/9 [==============================] - 0s 1ms/step - loss: 8.0161 - mse: 7.9893\n",
      "Epoch 2/20\n",
      "9/9 [==============================] - 0s 1ms/step - loss: 6.6760 - mse: 6.6492\n",
      "Epoch 3/20\n",
      "9/9 [==============================] - 0s 930us/step - loss: 6.7487 - mse: 6.7218\n",
      "Epoch 4/20\n",
      "9/9 [==============================] - 0s 992us/step - loss: 6.8467 - mse: 6.8198\n",
      "Epoch 5/20\n",
      "9/9 [==============================] - 0s 992us/step - loss: 6.6198 - mse: 6.5929\n",
      "Epoch 6/20\n",
      "9/9 [==============================] - 0s 992us/step - loss: 6.4441 - mse: 6.4171\n",
      "Epoch 7/20\n",
      "9/9 [==============================] - 0s 992us/step - loss: 5.6596 - mse: 5.6325\n",
      "Epoch 8/20\n",
      "9/9 [==============================] - 0s 992us/step - loss: 6.0679 - mse: 6.0408\n",
      "Epoch 9/20\n",
      "9/9 [==============================] - 0s 992us/step - loss: 6.3336 - mse: 6.3065\n",
      "Epoch 10/20\n",
      "9/9 [==============================] - 0s 1ms/step - loss: 5.9036 - mse: 5.8765\n",
      "Epoch 11/20\n",
      "9/9 [==============================] - 0s 992us/step - loss: 6.0859 - mse: 6.0587\n",
      "Epoch 12/20\n",
      "9/9 [==============================] - 0s 1ms/step - loss: 4.9749 - mse: 4.9478\n",
      "Epoch 13/20\n",
      "9/9 [==============================] - 0s 930us/step - loss: 6.0401 - mse: 6.0129\n",
      "Epoch 14/20\n",
      "9/9 [==============================] - 0s 992us/step - loss: 5.9986 - mse: 5.9714\n",
      "Epoch 15/20\n",
      "9/9 [==============================] - 0s 868us/step - loss: 6.1940 - mse: 6.1668\n",
      "Epoch 16/20\n",
      "9/9 [==============================] - 0s 868us/step - loss: 5.8823 - mse: 5.8552\n",
      "Epoch 17/20\n",
      "9/9 [==============================] - 0s 930us/step - loss: 5.6170 - mse: 5.5898\n",
      "Epoch 18/20\n",
      "9/9 [==============================] - 0s 1ms/step - loss: 6.1406 - mse: 6.1135\n",
      "Epoch 19/20\n",
      "9/9 [==============================] - 0s 992us/step - loss: 5.8620 - mse: 5.8348\n",
      "Epoch 20/20\n",
      "9/9 [==============================] - 0s 930us/step - loss: 6.1193 - mse: 6.0921\n",
      "5/5 [==============================] - 0s 1ms/step - loss: 6.1866 - mse: 6.1594\n",
      "R2-test -6.186581611633301\n",
      "5/5 [==============================] - 0s 868us/step\n",
      "MSE-test 6.159387666480008\n",
      "Best params: {'output_shape': 1, 'nn3': 30, 'nn2': 10, 'nn1': 50, 'nl3': 2, 'nl2': 2, 'nl1': 0, 'lr': 0.0001, 'l2': 0, 'l1': 0.0001, 'input_shape': 15, 'dropout': 0, 'decay': 0, 'act': 'relu'}\n"
     ]
    },
    {
     "data": {
      "text/plain": [
       "['actq3_lab1',\n",
       " 'actq1_lab1',\n",
       " 'mean(qmsr$_lab1)',\n",
       " 'rtr_lab1',\n",
       " 'cer_lab1',\n",
       " 'actq3_lab2',\n",
       " 'actq1_lab2',\n",
       " 'mean(qavt$_lab2)',\n",
       " 'avgtime_lab2',\n",
       " 'rt_lab2',\n",
       " 'rt_lab3',\n",
       " 'actq1_lab3',\n",
       " 'ut_lab3',\n",
       " 'mean(qact$_lab3)',\n",
       " 'cer_lab3']"
      ]
     },
     "execution_count": 31,
     "metadata": {
      "tags": []
     },
     "output_type": "execute_result"
    }
   ],
   "source": [
    "dataset = datalab1[[TARGET] + selected_features_ann_1].join(datalab2[selected_features_ann_2]).join(datalab3[selected_features_ann_3])\n",
    "run_process(dataset,rand_cv)"
   ]
  },
  {
   "cell_type": "code",
   "execution_count": null,
   "metadata": {
    "colab": {
     "base_uri": "https://localhost:8080/"
    },
    "id": "eMKl9bEQ13-u",
    "outputId": "ab962b92-4f48-4b4c-e182-ba5612c2fa66"
   },
   "outputs": [
    {
     "name": "stdout",
     "output_type": "stream",
     "text": [
      "Fitting 5 folds for each of 10 candidates, totalling 50 fits\n",
      "Epoch 1/20\n",
      "13/13 [==============================] - 1s 909us/step - loss: 8.7447 - mse: 7.5800\n",
      "Epoch 2/20\n",
      "13/13 [==============================] - 0s 785us/step - loss: 8.9233 - mse: 7.7621\n",
      "Epoch 3/20\n",
      "13/13 [==============================] - 0s 827us/step - loss: 7.0262 - mse: 5.8650\n",
      "Epoch 4/20\n",
      "13/13 [==============================] - 0s 827us/step - loss: 7.0882 - mse: 5.9264\n",
      "Epoch 5/20\n",
      "13/13 [==============================] - 0s 868us/step - loss: 6.8545 - mse: 5.6940\n",
      "Epoch 6/20\n",
      "13/13 [==============================] - 0s 868us/step - loss: 7.7389 - mse: 6.5811\n",
      "Epoch 7/20\n",
      "13/13 [==============================] - 0s 827us/step - loss: 7.3756 - mse: 6.2216\n",
      "Epoch 8/20\n",
      "13/13 [==============================] - 0s 909us/step - loss: 7.1180 - mse: 5.9681\n",
      "Epoch 9/20\n",
      "13/13 [==============================] - 0s 868us/step - loss: 7.1913 - mse: 6.0461\n",
      "Epoch 10/20\n",
      "13/13 [==============================] - 0s 868us/step - loss: 7.1459 - mse: 6.0054\n",
      "Epoch 11/20\n",
      "13/13 [==============================] - 0s 909us/step - loss: 7.0875 - mse: 5.9518\n",
      "Epoch 12/20\n",
      "13/13 [==============================] - 0s 868us/step - loss: 6.9030 - mse: 5.7724\n",
      "Epoch 13/20\n",
      "13/13 [==============================] - 0s 868us/step - loss: 6.7048 - mse: 5.5793\n",
      "Epoch 14/20\n",
      "13/13 [==============================] - 0s 868us/step - loss: 6.7616 - mse: 5.6412\n",
      "Epoch 15/20\n",
      "13/13 [==============================] - 0s 951us/step - loss: 7.8423 - mse: 6.7270\n",
      "Epoch 16/20\n",
      "13/13 [==============================] - 0s 785us/step - loss: 6.7753 - mse: 5.6652\n",
      "Epoch 17/20\n",
      "13/13 [==============================] - 0s 827us/step - loss: 7.4030 - mse: 6.2981\n",
      "Epoch 18/20\n",
      "13/13 [==============================] - 0s 785us/step - loss: 6.4932 - mse: 5.3935\n",
      "Epoch 19/20\n",
      "13/13 [==============================] - 0s 785us/step - loss: 6.6535 - mse: 5.5590\n",
      "Epoch 20/20\n",
      "13/13 [==============================] - 0s 909us/step - loss: 6.8958 - mse: 5.8064\n",
      "R2-test-fit: -5.921971885267638\n",
      "Epoch 1/20\n",
      "9/9 [==============================] - 1s 1ms/step - loss: 9.2862 - mse: 8.1586\n",
      "Epoch 2/20\n",
      "9/9 [==============================] - 0s 1ms/step - loss: 8.9439 - mse: 7.8196\n",
      "Epoch 3/20\n",
      "9/9 [==============================] - 0s 1ms/step - loss: 7.9376 - mse: 6.8157\n",
      "Epoch 4/20\n",
      "9/9 [==============================] - 0s 1ms/step - loss: 8.2791 - mse: 7.1589\n",
      "Epoch 5/20\n",
      "9/9 [==============================] - 0s 1ms/step - loss: 8.1607 - mse: 7.0416\n",
      "Epoch 6/20\n",
      "9/9 [==============================] - 0s 1ms/step - loss: 7.3945 - mse: 6.2761\n",
      "Epoch 7/20\n",
      "9/9 [==============================] - 0s 1ms/step - loss: 7.2234 - mse: 6.1058\n",
      "Epoch 8/20\n",
      "9/9 [==============================] - 0s 1ms/step - loss: 7.1499 - mse: 6.0335\n",
      "Epoch 9/20\n",
      "9/9 [==============================] - 0s 1ms/step - loss: 7.2111 - mse: 6.0963\n",
      "Epoch 10/20\n",
      "9/9 [==============================] - 0s 1ms/step - loss: 6.6642 - mse: 5.5514\n",
      "Epoch 11/20\n",
      "9/9 [==============================] - 0s 1ms/step - loss: 6.7058 - mse: 5.5954\n",
      "Epoch 12/20\n",
      "9/9 [==============================] - 0s 1ms/step - loss: 7.1350 - mse: 6.0271\n",
      "Epoch 13/20\n",
      "9/9 [==============================] - 0s 1ms/step - loss: 7.1180 - mse: 6.0129\n",
      "Epoch 14/20\n",
      "9/9 [==============================] - 0s 1ms/step - loss: 6.4481 - mse: 5.3460\n",
      "Epoch 15/20\n",
      "9/9 [==============================] - 0s 1ms/step - loss: 7.5722 - mse: 6.4730\n",
      "Epoch 16/20\n",
      "9/9 [==============================] - 0s 1ms/step - loss: 6.9401 - mse: 5.8441\n",
      "Epoch 17/20\n",
      "9/9 [==============================] - 0s 1ms/step - loss: 7.0548 - mse: 5.9619\n",
      "Epoch 18/20\n",
      "9/9 [==============================] - 0s 1ms/step - loss: 7.3841 - mse: 6.2945\n",
      "Epoch 19/20\n",
      "9/9 [==============================] - 0s 1ms/step - loss: 6.7548 - mse: 5.6685\n",
      "Epoch 20/20\n",
      "9/9 [==============================] - 0s 1ms/step - loss: 6.9499 - mse: 5.8669\n",
      "5/5 [==============================] - 0s 992us/step - loss: 7.0976 - mse: 6.0172\n",
      "R2-test -7.0976433753967285\n",
      "5/5 [==============================] - 0s 992us/step\n",
      "MSE-test 6.017182556573594\n",
      "Best params: {'output_shape': 1, 'nn3': 30, 'nn2': 10, 'nn1': 20, 'nl3': 3, 'nl2': 2, 'nl1': 1, 'lr': 0.001, 'l2': 0.01, 'l1': 0, 'input_shape': 15, 'dropout': 0, 'decay': 1e-06, 'act': 'relu'}\n"
     ]
    },
    {
     "data": {
      "text/plain": [
       "['actq3_lab1',\n",
       " 'actq1_lab1',\n",
       " 'mean(qmsr$_lab1)',\n",
       " 'rtr_lab1',\n",
       " 'cer_lab1',\n",
       " 'actq3_lab2',\n",
       " 'actq1_lab2',\n",
       " 'mean(qavt$_lab2)',\n",
       " 'avgtime_lab2',\n",
       " 'rt_lab2',\n",
       " 'rt_lab3',\n",
       " 'actq1_lab3',\n",
       " 'ut_lab3',\n",
       " 'mean(qact$_lab3)',\n",
       " 'cer_lab3']"
      ]
     },
     "execution_count": 32,
     "metadata": {
      "tags": []
     },
     "output_type": "execute_result"
    }
   ],
   "source": [
    "dataset = datalab1[[TARGET] + selected_features_ann_1].join(datalab2[selected_features_ann_2]).join(datalab3[selected_features_ann_3])\n",
    "run_process(dataset,rand_cv)"
   ]
  },
  {
   "cell_type": "code",
   "execution_count": null,
   "metadata": {
    "colab": {
     "base_uri": "https://localhost:8080/"
    },
    "id": "KR_MQllt14F1",
    "outputId": "6fe44268-b8a1-479f-cd2b-2db3577ae8ef"
   },
   "outputs": [
    {
     "name": "stdout",
     "output_type": "stream",
     "text": [
      "Fitting 5 folds for each of 10 candidates, totalling 50 fits\n",
      "Epoch 1/20\n",
      "13/13 [==============================] - 0s 909us/step - loss: 7.4271 - mse: 7.4271\n",
      "Epoch 2/20\n",
      "13/13 [==============================] - 0s 827us/step - loss: 6.8475 - mse: 6.8475\n",
      "Epoch 3/20\n",
      "13/13 [==============================] - 0s 785us/step - loss: 7.1817 - mse: 7.1817\n",
      "Epoch 4/20\n",
      "13/13 [==============================] - 0s 868us/step - loss: 6.9521 - mse: 6.9521\n",
      "Epoch 5/20\n",
      "13/13 [==============================] - 0s 827us/step - loss: 6.3705 - mse: 6.3705\n",
      "Epoch 6/20\n",
      "13/13 [==============================] - 0s 868us/step - loss: 5.6693 - mse: 5.6693\n",
      "Epoch 7/20\n",
      "13/13 [==============================] - 0s 827us/step - loss: 6.0655 - mse: 6.0655\n",
      "Epoch 8/20\n",
      "13/13 [==============================] - 0s 827us/step - loss: 6.4836 - mse: 6.4836\n",
      "Epoch 9/20\n",
      "13/13 [==============================] - 0s 909us/step - loss: 5.7367 - mse: 5.7367\n",
      "Epoch 10/20\n",
      "13/13 [==============================] - 0s 909us/step - loss: 6.3257 - mse: 6.3257\n",
      "Epoch 11/20\n",
      "13/13 [==============================] - 0s 827us/step - loss: 5.6679 - mse: 5.6679\n",
      "Epoch 12/20\n",
      "13/13 [==============================] - 0s 868us/step - loss: 6.0440 - mse: 6.0440\n",
      "Epoch 13/20\n",
      "13/13 [==============================] - 0s 827us/step - loss: 6.0711 - mse: 6.0711\n",
      "Epoch 14/20\n",
      "13/13 [==============================] - 0s 909us/step - loss: 5.3052 - mse: 5.3052\n",
      "Epoch 15/20\n",
      "13/13 [==============================] - 0s 909us/step - loss: 5.8927 - mse: 5.8927\n",
      "Epoch 16/20\n",
      "13/13 [==============================] - 0s 827us/step - loss: 6.0552 - mse: 6.0552\n",
      "Epoch 17/20\n",
      "13/13 [==============================] - 0s 827us/step - loss: 5.6631 - mse: 5.6631\n",
      "Epoch 18/20\n",
      "13/13 [==============================] - 0s 909us/step - loss: 6.2655 - mse: 6.2655\n",
      "Epoch 19/20\n",
      "13/13 [==============================] - 0s 786us/step - loss: 6.3888 - mse: 6.3888\n",
      "Epoch 20/20\n",
      "13/13 [==============================] - 0s 951us/step - loss: 6.4169 - mse: 6.4169\n",
      "R2-test-fit: -5.912984736600876\n",
      "Epoch 1/20\n",
      "9/9 [==============================] - 0s 930us/step - loss: 7.7633 - mse: 7.7633\n",
      "Epoch 2/20\n",
      "9/9 [==============================] - 0s 868us/step - loss: 7.8818 - mse: 7.8818\n",
      "Epoch 3/20\n",
      "9/9 [==============================] - 0s 1ms/step - loss: 7.1733 - mse: 7.1733\n",
      "Epoch 4/20\n",
      "9/9 [==============================] - 0s 868us/step - loss: 8.3721 - mse: 8.3721\n",
      "Epoch 5/20\n",
      "9/9 [==============================] - 0s 806us/step - loss: 6.6817 - mse: 6.6817\n",
      "Epoch 6/20\n",
      "9/9 [==============================] - 0s 868us/step - loss: 7.0290 - mse: 7.0290\n",
      "Epoch 7/20\n",
      "9/9 [==============================] - 0s 806us/step - loss: 6.6788 - mse: 6.6788\n",
      "Epoch 8/20\n",
      "9/9 [==============================] - 0s 930us/step - loss: 5.9759 - mse: 5.9759\n",
      "Epoch 9/20\n",
      "9/9 [==============================] - 0s 930us/step - loss: 6.8191 - mse: 6.8191\n",
      "Epoch 10/20\n",
      "9/9 [==============================] - 0s 930us/step - loss: 6.4410 - mse: 6.4410\n",
      "Epoch 11/20\n",
      "9/9 [==============================] - 0s 930us/step - loss: 6.0505 - mse: 6.0505\n",
      "Epoch 12/20\n",
      "9/9 [==============================] - 0s 868us/step - loss: 6.1966 - mse: 6.1966\n",
      "Epoch 13/20\n",
      "9/9 [==============================] - 0s 930us/step - loss: 5.9719 - mse: 5.9719\n",
      "Epoch 14/20\n",
      "9/9 [==============================] - 0s 868us/step - loss: 6.4081 - mse: 6.4081\n",
      "Epoch 15/20\n",
      "9/9 [==============================] - 0s 868us/step - loss: 6.5868 - mse: 6.5868\n",
      "Epoch 16/20\n",
      "9/9 [==============================] - 0s 868us/step - loss: 6.4430 - mse: 6.4430\n",
      "Epoch 17/20\n",
      "9/9 [==============================] - 0s 868us/step - loss: 6.7589 - mse: 6.7589\n",
      "Epoch 18/20\n",
      "9/9 [==============================] - 0s 868us/step - loss: 6.6508 - mse: 6.6508\n",
      "Epoch 19/20\n",
      "9/9 [==============================] - 0s 868us/step - loss: 6.5589 - mse: 6.5589\n",
      "Epoch 20/20\n",
      "9/9 [==============================] - 0s 868us/step - loss: 6.8787 - mse: 6.8787\n",
      "5/5 [==============================] - 0s 1ms/step - loss: 5.0929 - mse: 5.0929\n",
      "R2-test -5.092894554138184\n",
      "5/5 [==============================] - 0s 992us/step\n",
      "MSE-test 5.092894642076721\n",
      "Best params: {'output_shape': 1, 'nn3': 5, 'nn2': 10, 'nn1': 50, 'nl3': 0, 'nl2': 2, 'nl1': 3, 'lr': 0.001, 'l2': 0, 'l1': 0, 'input_shape': 15, 'dropout': 0, 'decay': 1e-09, 'act': 'relu'}\n"
     ]
    },
    {
     "data": {
      "text/plain": [
       "['actq3_lab1',\n",
       " 'actq1_lab1',\n",
       " 'mean(qmsr$_lab1)',\n",
       " 'rtr_lab1',\n",
       " 'cer_lab1',\n",
       " 'actq3_lab2',\n",
       " 'actq1_lab2',\n",
       " 'mean(qavt$_lab2)',\n",
       " 'avgtime_lab2',\n",
       " 'rt_lab2',\n",
       " 'rt_lab3',\n",
       " 'actq1_lab3',\n",
       " 'ut_lab3',\n",
       " 'mean(qact$_lab3)',\n",
       " 'cer_lab3']"
      ]
     },
     "execution_count": 33,
     "metadata": {
      "tags": []
     },
     "output_type": "execute_result"
    }
   ],
   "source": [
    "dataset = datalab1[[TARGET] + selected_features_ann_1].join(datalab2[selected_features_ann_2]).join(datalab3[selected_features_ann_3])\n",
    "run_process(dataset,rand_cv)"
   ]
  },
  {
   "cell_type": "markdown",
   "metadata": {
    "id": "rpFJXFkA0hHR"
   },
   "source": [
    "\n",
    "\n",
    "---\n",
    "\n"
   ]
  },
  {
   "cell_type": "markdown",
   "metadata": {
    "id": "b53PGQ720hHR"
   },
   "source": [
    "1_2_3_4"
   ]
  },
  {
   "cell_type": "code",
   "execution_count": null,
   "metadata": {
    "colab": {
     "base_uri": "https://localhost:8080/"
    },
    "id": "albT79iZ0hHS",
    "outputId": "1c510ae9-4518-4769-a901-d173b727b3de"
   },
   "outputs": [
    {
     "name": "stdout",
     "output_type": "stream",
     "text": [
      "Fitting 5 folds for each of 10 candidates, totalling 50 fits\n",
      "Epoch 1/20\n",
      "13/13 [==============================] - 1s 951us/step - loss: 8.5554 - mse: 7.6975\n",
      "Epoch 2/20\n",
      "13/13 [==============================] - 0s 1ms/step - loss: 7.5641 - mse: 6.7081\n",
      "Epoch 3/20\n",
      "13/13 [==============================] - 0s 1ms/step - loss: 8.0664 - mse: 7.2116\n",
      "Epoch 4/20\n",
      "13/13 [==============================] - 0s 951us/step - loss: 7.0549 - mse: 6.2013\n",
      "Epoch 5/20\n",
      "13/13 [==============================] - 0s 992us/step - loss: 7.4300 - mse: 6.5778\n",
      "Epoch 6/20\n",
      "13/13 [==============================] - 0s 992us/step - loss: 7.0412 - mse: 6.1910\n",
      "Epoch 7/20\n",
      "13/13 [==============================] - 0s 1ms/step - loss: 7.1211 - mse: 6.2733\n",
      "Epoch 8/20\n",
      "13/13 [==============================] - 0s 1ms/step - loss: 6.6806 - mse: 5.8355\n",
      "Epoch 9/20\n",
      "13/13 [==============================] - 0s 992us/step - loss: 6.3232 - mse: 5.4812\n",
      "Epoch 10/20\n",
      "13/13 [==============================] - 0s 992us/step - loss: 6.6560 - mse: 5.8171\n",
      "Epoch 11/20\n",
      "13/13 [==============================] - 0s 951us/step - loss: 6.9027 - mse: 6.0672\n",
      "Epoch 12/20\n",
      "13/13 [==============================] - 0s 995us/step - loss: 7.0206 - mse: 6.1885\n",
      "Epoch 13/20\n",
      "13/13 [==============================] - 0s 1ms/step - loss: 6.8907 - mse: 6.0621\n",
      "Epoch 14/20\n",
      "13/13 [==============================] - 0s 909us/step - loss: 6.5374 - mse: 5.7123\n",
      "Epoch 15/20\n",
      "13/13 [==============================] - 0s 951us/step - loss: 6.6506 - mse: 5.8291\n",
      "Epoch 16/20\n",
      "13/13 [==============================] - 0s 992us/step - loss: 6.3722 - mse: 5.5542\n",
      "Epoch 17/20\n",
      "13/13 [==============================] - 0s 1ms/step - loss: 7.2482 - mse: 6.4339\n",
      "Epoch 18/20\n",
      "13/13 [==============================] - 0s 1ms/step - loss: 6.1625 - mse: 5.3520\n",
      "Epoch 19/20\n",
      "13/13 [==============================] - 0s 1ms/step - loss: 6.7563 - mse: 5.9495\n",
      "Epoch 20/20\n",
      "13/13 [==============================] - 0s 1ms/step - loss: 6.6549 - mse: 5.8518\n",
      "R2-test-fit: -5.902900277353085\n",
      "Epoch 1/20\n",
      "9/9 [==============================] - 1s 1ms/step - loss: 9.0018 - mse: 8.1409\n",
      "Epoch 2/20\n",
      "9/9 [==============================] - 0s 992us/step - loss: 9.5882 - mse: 8.7319\n",
      "Epoch 3/20\n",
      "9/9 [==============================] - 0s 1ms/step - loss: 8.0561 - mse: 7.2034\n",
      "Epoch 4/20\n",
      "9/9 [==============================] - 0s 992us/step - loss: 7.8281 - mse: 6.9784\n",
      "Epoch 5/20\n",
      "9/9 [==============================] - 0s 992us/step - loss: 7.3708 - mse: 6.5232\n",
      "Epoch 6/20\n",
      "9/9 [==============================] - 0s 992us/step - loss: 7.3792 - mse: 6.5332\n",
      "Epoch 7/20\n",
      "9/9 [==============================] - 0s 1ms/step - loss: 7.8319 - mse: 6.9872\n",
      "Epoch 8/20\n",
      "9/9 [==============================] - 0s 992us/step - loss: 7.6530 - mse: 6.8092\n",
      "Epoch 9/20\n",
      "9/9 [==============================] - 0s 992us/step - loss: 6.8788 - mse: 6.0358\n",
      "Epoch 10/20\n",
      "9/9 [==============================] - 0s 1ms/step - loss: 7.0587 - mse: 6.2168\n",
      "Epoch 11/20\n",
      "9/9 [==============================] - 0s 992us/step - loss: 7.1895 - mse: 6.3487\n",
      "Epoch 12/20\n",
      "9/9 [==============================] - 0s 992us/step - loss: 6.7557 - mse: 5.9161\n",
      "Epoch 13/20\n",
      "9/9 [==============================] - 0s 992us/step - loss: 6.6898 - mse: 5.8517\n",
      "Epoch 14/20\n",
      "9/9 [==============================] - 0s 930us/step - loss: 6.9452 - mse: 6.1086\n",
      "Epoch 15/20\n",
      "9/9 [==============================] - 0s 992us/step - loss: 6.8920 - mse: 6.0570\n",
      "Epoch 16/20\n",
      "9/9 [==============================] - 0s 868us/step - loss: 6.8834 - mse: 6.0501\n",
      "Epoch 17/20\n",
      "9/9 [==============================] - 0s 992us/step - loss: 6.8824 - mse: 6.0511\n",
      "Epoch 18/20\n",
      "9/9 [==============================] - 0s 930us/step - loss: 5.8770 - mse: 5.0480\n",
      "Epoch 19/20\n",
      "9/9 [==============================] - 0s 868us/step - loss: 6.7274 - mse: 5.9003\n",
      "Epoch 20/20\n",
      "9/9 [==============================] - 0s 868us/step - loss: 6.5353 - mse: 5.7105\n",
      "5/5 [==============================] - 0s 992us/step - loss: 7.1731 - mse: 6.3502\n",
      "R2-test -7.173131942749023\n",
      "5/5 [==============================] - 0s 868us/step\n",
      "MSE-test 6.350189299537313\n",
      "Best params: {'output_shape': 1, 'nn3': 15, 'nn2': 10, 'nn1': 50, 'nl3': 3, 'nl2': 1, 'nl1': 1, 'lr': 0.001, 'l2': 0.01, 'l1': 0, 'input_shape': 20, 'dropout': 0.1, 'decay': 1e-06, 'act': 'relu'}\n"
     ]
    },
    {
     "data": {
      "text/plain": [
       "['actq3_lab1',\n",
       " 'actq1_lab1',\n",
       " 'mean(qmsr$_lab1)',\n",
       " 'rtr_lab1',\n",
       " 'cer_lab1',\n",
       " 'actq3_lab2',\n",
       " 'actq1_lab2',\n",
       " 'mean(qavt$_lab2)',\n",
       " 'avgtime_lab2',\n",
       " 'rt_lab2',\n",
       " 'rt_lab3',\n",
       " 'actq1_lab3',\n",
       " 'ut_lab3',\n",
       " 'mean(qact$_lab3)',\n",
       " 'cer_lab3',\n",
       " 'rt_lab4',\n",
       " 'cer_lab4',\n",
       " 'err_lab4',\n",
       " 'actq1_lab4',\n",
       " 'mean(qc$_lab4)']"
      ]
     },
     "execution_count": 38,
     "metadata": {
      "tags": []
     },
     "output_type": "execute_result"
    }
   ],
   "source": [
    "dataset = datalab1[[TARGET] + selected_features_ann_1].join(datalab2[selected_features_ann_2]).join(datalab3[selected_features_ann_3]).join(datalab4[selected_features_ann_4])\n",
    "run_process(dataset,rand_cv)"
   ]
  },
  {
   "cell_type": "code",
   "execution_count": null,
   "metadata": {
    "colab": {
     "base_uri": "https://localhost:8080/"
    },
    "id": "MMM3DUOB143f",
    "outputId": "53c35bb2-4eca-4915-f62c-281429d94928"
   },
   "outputs": [
    {
     "name": "stdout",
     "output_type": "stream",
     "text": [
      "Fitting 5 folds for each of 10 candidates, totalling 50 fits\n",
      "Epoch 1/20\n",
      "13/13 [==============================] - 1s 1ms/step - loss: 7.8710 - mse: 7.8509\n",
      "Epoch 2/20\n",
      "13/13 [==============================] - 0s 1ms/step - loss: 6.9052 - mse: 6.8850\n",
      "Epoch 3/20\n",
      "13/13 [==============================] - 0s 1ms/step - loss: 6.2833 - mse: 6.2631\n",
      "Epoch 4/20\n",
      "13/13 [==============================] - 0s 1ms/step - loss: 6.2133 - mse: 6.1931\n",
      "Epoch 5/20\n",
      "13/13 [==============================] - 0s 1ms/step - loss: 6.4520 - mse: 6.4318\n",
      "Epoch 6/20\n",
      "13/13 [==============================] - 0s 1ms/step - loss: 6.0929 - mse: 6.0726\n",
      "Epoch 7/20\n",
      "13/13 [==============================] - 0s 1ms/step - loss: 6.3041 - mse: 6.2838\n",
      "Epoch 8/20\n",
      "13/13 [==============================] - 0s 1ms/step - loss: 6.3618 - mse: 6.3414\n",
      "Epoch 9/20\n",
      "13/13 [==============================] - 0s 1ms/step - loss: 6.3727 - mse: 6.3523\n",
      "Epoch 10/20\n",
      "13/13 [==============================] - 0s 992us/step - loss: 5.5760 - mse: 5.5556\n",
      "Epoch 11/20\n",
      "13/13 [==============================] - 0s 992us/step - loss: 5.9889 - mse: 5.9686\n",
      "Epoch 12/20\n",
      "13/13 [==============================] - 0s 1ms/step - loss: 6.5832 - mse: 6.5628\n",
      "Epoch 13/20\n",
      "13/13 [==============================] - 0s 949us/step - loss: 6.1356 - mse: 6.1152\n",
      "Epoch 14/20\n",
      "13/13 [==============================] - 0s 1ms/step - loss: 6.2040 - mse: 6.1836\n",
      "Epoch 15/20\n",
      "13/13 [==============================] - 0s 1ms/step - loss: 5.6776 - mse: 5.6572\n",
      "Epoch 16/20\n",
      "13/13 [==============================] - 0s 1ms/step - loss: 5.4896 - mse: 5.4692\n",
      "Epoch 17/20\n",
      "13/13 [==============================] - 0s 1ms/step - loss: 6.0789 - mse: 6.0585\n",
      "Epoch 18/20\n",
      "13/13 [==============================] - 0s 1ms/step - loss: 5.8100 - mse: 5.7896\n",
      "Epoch 19/20\n",
      "13/13 [==============================] - 0s 1ms/step - loss: 5.9472 - mse: 5.9268\n",
      "Epoch 20/20\n",
      "13/13 [==============================] - 0s 1ms/step - loss: 5.8518 - mse: 5.8314\n",
      "R2-test-fit: -5.902254612422867\n",
      "Epoch 1/20\n",
      "9/9 [==============================] - 1s 1ms/step - loss: 7.5905 - mse: 7.5699\n",
      "Epoch 2/20\n",
      "9/9 [==============================] - 0s 992us/step - loss: 6.2354 - mse: 6.2148\n",
      "Epoch 3/20\n",
      "9/9 [==============================] - 0s 1ms/step - loss: 6.2285 - mse: 6.2079\n",
      "Epoch 4/20\n",
      "9/9 [==============================] - 0s 992us/step - loss: 6.4714 - mse: 6.4507\n",
      "Epoch 5/20\n",
      "9/9 [==============================] - 0s 992us/step - loss: 5.6506 - mse: 5.6299\n",
      "Epoch 6/20\n",
      "9/9 [==============================] - 0s 991us/step - loss: 6.0085 - mse: 5.9877\n",
      "Epoch 7/20\n",
      "9/9 [==============================] - 0s 1ms/step - loss: 5.9516 - mse: 5.9308\n",
      "Epoch 8/20\n",
      "9/9 [==============================] - 0s 930us/step - loss: 5.4402 - mse: 5.4194\n",
      "Epoch 9/20\n",
      "9/9 [==============================] - 0s 1ms/step - loss: 5.3697 - mse: 5.3488\n",
      "Epoch 10/20\n",
      "9/9 [==============================] - 0s 992us/step - loss: 5.8916 - mse: 5.8707\n",
      "Epoch 11/20\n",
      "9/9 [==============================] - 0s 1ms/step - loss: 6.2419 - mse: 6.2211\n",
      "Epoch 12/20\n",
      "9/9 [==============================] - 0s 1ms/step - loss: 5.3707 - mse: 5.3498\n",
      "Epoch 13/20\n",
      "9/9 [==============================] - 0s 992us/step - loss: 5.5390 - mse: 5.5182\n",
      "Epoch 14/20\n",
      "9/9 [==============================] - 0s 995us/step - loss: 6.0088 - mse: 5.9879\n",
      "Epoch 15/20\n",
      "9/9 [==============================] - 0s 1ms/step - loss: 5.2273 - mse: 5.2065\n",
      "Epoch 16/20\n",
      "9/9 [==============================] - 0s 930us/step - loss: 5.7042 - mse: 5.6833\n",
      "Epoch 17/20\n",
      "9/9 [==============================] - 0s 1ms/step - loss: 6.1662 - mse: 6.1453\n",
      "Epoch 18/20\n",
      "9/9 [==============================] - 0s 1ms/step - loss: 5.3569 - mse: 5.3360\n",
      "Epoch 19/20\n",
      "9/9 [==============================] - 0s 930us/step - loss: 5.5730 - mse: 5.5521\n",
      "Epoch 20/20\n",
      "9/9 [==============================] - 0s 1ms/step - loss: 5.1449 - mse: 5.1240\n",
      "5/5 [==============================] - 0s 1ms/step - loss: 6.7278 - mse: 6.7069\n",
      "R2-test -6.727807998657227\n",
      "5/5 [==============================] - 0s 876us/step\n",
      "MSE-test 6.70688847098273\n",
      "Best params: {'output_shape': 1, 'nn3': 30, 'nn2': 70, 'nn1': 20, 'nl3': 3, 'nl2': 2, 'nl1': 0, 'lr': 0.001, 'l2': 0.0001, 'l1': 0, 'input_shape': 20, 'dropout': 0.3, 'decay': 1e-09, 'act': 'relu'}\n"
     ]
    },
    {
     "data": {
      "text/plain": [
       "['actq3_lab1',\n",
       " 'actq1_lab1',\n",
       " 'mean(qmsr$_lab1)',\n",
       " 'rtr_lab1',\n",
       " 'cer_lab1',\n",
       " 'actq3_lab2',\n",
       " 'actq1_lab2',\n",
       " 'mean(qavt$_lab2)',\n",
       " 'avgtime_lab2',\n",
       " 'rt_lab2',\n",
       " 'rt_lab3',\n",
       " 'actq1_lab3',\n",
       " 'ut_lab3',\n",
       " 'mean(qact$_lab3)',\n",
       " 'cer_lab3',\n",
       " 'rt_lab4',\n",
       " 'cer_lab4',\n",
       " 'err_lab4',\n",
       " 'actq1_lab4',\n",
       " 'mean(qc$_lab4)']"
      ]
     },
     "execution_count": 39,
     "metadata": {
      "tags": []
     },
     "output_type": "execute_result"
    }
   ],
   "source": [
    "dataset = datalab1[[TARGET] + selected_features_ann_1].join(datalab2[selected_features_ann_2]).join(datalab3[selected_features_ann_3]).join(datalab4[selected_features_ann_4])\n",
    "run_process(dataset,rand_cv)"
   ]
  },
  {
   "cell_type": "code",
   "execution_count": null,
   "metadata": {
    "colab": {
     "base_uri": "https://localhost:8080/"
    },
    "id": "bFiM5COP14-s",
    "outputId": "2dd15d1b-eb0f-4e8a-9bdc-dddba6838a6e"
   },
   "outputs": [
    {
     "name": "stdout",
     "output_type": "stream",
     "text": [
      "Fitting 5 folds for each of 10 candidates, totalling 50 fits\n",
      "Epoch 1/20\n",
      "13/13 [==============================] - 1s 909us/step - loss: 8.1057 - mse: 7.7863\n",
      "Epoch 2/20\n",
      "13/13 [==============================] - 0s 827us/step - loss: 6.9230 - mse: 6.6032\n",
      "Epoch 3/20\n",
      "13/13 [==============================] - 0s 785us/step - loss: 6.9711 - mse: 6.6505\n",
      "Epoch 4/20\n",
      "13/13 [==============================] - 0s 744us/step - loss: 7.2476 - mse: 6.9262\n",
      "Epoch 5/20\n",
      "13/13 [==============================] - 0s 785us/step - loss: 5.8638 - mse: 5.5420\n",
      "Epoch 6/20\n",
      "13/13 [==============================] - 0s 703us/step - loss: 6.3574 - mse: 6.0352\n",
      "Epoch 7/20\n",
      "13/13 [==============================] - 0s 785us/step - loss: 7.1795 - mse: 6.8571\n",
      "Epoch 8/20\n",
      "13/13 [==============================] - 0s 827us/step - loss: 6.2069 - mse: 5.8844\n",
      "Epoch 9/20\n",
      "13/13 [==============================] - 0s 827us/step - loss: 6.1597 - mse: 5.8372\n",
      "Epoch 10/20\n",
      "13/13 [==============================] - 0s 744us/step - loss: 6.8324 - mse: 6.5099\n",
      "Epoch 11/20\n",
      "13/13 [==============================] - 0s 785us/step - loss: 5.8007 - mse: 5.4783\n",
      "Epoch 12/20\n",
      "13/13 [==============================] - 0s 744us/step - loss: 6.2337 - mse: 5.9115\n",
      "Epoch 13/20\n",
      "13/13 [==============================] - 0s 868us/step - loss: 6.2374 - mse: 5.9153\n",
      "Epoch 14/20\n",
      "13/13 [==============================] - 0s 785us/step - loss: 5.9782 - mse: 5.6564\n",
      "Epoch 15/20\n",
      "13/13 [==============================] - 0s 785us/step - loss: 6.4178 - mse: 6.0963\n",
      "Epoch 16/20\n",
      "13/13 [==============================] - 0s 785us/step - loss: 6.5293 - mse: 6.2080\n",
      "Epoch 17/20\n",
      "13/13 [==============================] - 0s 785us/step - loss: 6.0904 - mse: 5.7693\n",
      "Epoch 18/20\n",
      "13/13 [==============================] - 0s 785us/step - loss: 5.9184 - mse: 5.5977\n",
      "Epoch 19/20\n",
      "13/13 [==============================] - 0s 868us/step - loss: 5.7520 - mse: 5.4315\n",
      "Epoch 20/20\n",
      "13/13 [==============================] - 0s 785us/step - loss: 6.3936 - mse: 6.0734\n",
      "R2-test-fit: -5.907100579253426\n",
      "Epoch 1/20\n",
      "9/9 [==============================] - 1s 930us/step - loss: 8.2156 - mse: 7.8966\n",
      "Epoch 2/20\n",
      "9/9 [==============================] - 0s 868us/step - loss: 8.6954 - mse: 8.3765\n",
      "Epoch 3/20\n",
      "9/9 [==============================] - 0s 806us/step - loss: 7.4543 - mse: 7.1353\n",
      "Epoch 4/20\n",
      "9/9 [==============================] - 0s 806us/step - loss: 8.7864 - mse: 8.4672\n",
      "Epoch 5/20\n",
      "9/9 [==============================] - 0s 806us/step - loss: 7.4936 - mse: 7.1741\n",
      "Epoch 6/20\n",
      "9/9 [==============================] - 0s 868us/step - loss: 7.4257 - mse: 7.1060\n",
      "Epoch 7/20\n",
      "9/9 [==============================] - 0s 806us/step - loss: 7.3566 - mse: 7.0366\n",
      "Epoch 8/20\n",
      "9/9 [==============================] - 0s 868us/step - loss: 7.5669 - mse: 7.2467\n",
      "Epoch 9/20\n",
      "9/9 [==============================] - 0s 868us/step - loss: 6.9890 - mse: 6.6687\n",
      "Epoch 10/20\n",
      "9/9 [==============================] - 0s 806us/step - loss: 7.1719 - mse: 6.8514\n",
      "Epoch 11/20\n",
      "9/9 [==============================] - 0s 868us/step - loss: 6.8415 - mse: 6.5211\n",
      "Epoch 12/20\n",
      "9/9 [==============================] - 0s 930us/step - loss: 7.1621 - mse: 6.8417\n",
      "Epoch 13/20\n",
      "9/9 [==============================] - 0s 868us/step - loss: 6.9019 - mse: 6.5815\n",
      "Epoch 14/20\n",
      "9/9 [==============================] - 0s 868us/step - loss: 6.8772 - mse: 6.5569\n",
      "Epoch 15/20\n",
      "9/9 [==============================] - 0s 806us/step - loss: 7.0434 - mse: 6.7231\n",
      "Epoch 16/20\n",
      "9/9 [==============================] - 0s 868us/step - loss: 7.3834 - mse: 7.0632\n",
      "Epoch 17/20\n",
      "9/9 [==============================] - 0s 806us/step - loss: 7.0023 - mse: 6.6823\n",
      "Epoch 18/20\n",
      "9/9 [==============================] - 0s 806us/step - loss: 7.1578 - mse: 6.8379\n",
      "Epoch 19/20\n",
      "9/9 [==============================] - 0s 930us/step - loss: 6.8771 - mse: 6.5573\n",
      "Epoch 20/20\n",
      "9/9 [==============================] - 0s 868us/step - loss: 7.1826 - mse: 6.8629\n",
      "5/5 [==============================] - 0s 992us/step - loss: 5.1916 - mse: 4.8721\n",
      "R2-test -5.191622257232666\n",
      "5/5 [==============================] - 0s 750us/step\n",
      "MSE-test 4.8721048063577115\n",
      "Best params: {'output_shape': 1, 'nn3': 15, 'nn2': 70, 'nn1': 20, 'nl3': 3, 'nl2': 1, 'nl1': 1, 'lr': 0.0001, 'l2': 0.003, 'l1': 0, 'input_shape': 20, 'dropout': 0.3, 'decay': 1e-09, 'act': 'relu'}\n"
     ]
    },
    {
     "data": {
      "text/plain": [
       "['actq3_lab1',\n",
       " 'actq1_lab1',\n",
       " 'mean(qmsr$_lab1)',\n",
       " 'rtr_lab1',\n",
       " 'cer_lab1',\n",
       " 'actq3_lab2',\n",
       " 'actq1_lab2',\n",
       " 'mean(qavt$_lab2)',\n",
       " 'avgtime_lab2',\n",
       " 'rt_lab2',\n",
       " 'rt_lab3',\n",
       " 'actq1_lab3',\n",
       " 'ut_lab3',\n",
       " 'mean(qact$_lab3)',\n",
       " 'cer_lab3',\n",
       " 'rt_lab4',\n",
       " 'cer_lab4',\n",
       " 'err_lab4',\n",
       " 'actq1_lab4',\n",
       " 'mean(qc$_lab4)']"
      ]
     },
     "execution_count": 40,
     "metadata": {
      "tags": []
     },
     "output_type": "execute_result"
    }
   ],
   "source": [
    "dataset = datalab1[[TARGET] + selected_features_ann_1].join(datalab2[selected_features_ann_2]).join(datalab3[selected_features_ann_3]).join(datalab4[selected_features_ann_4])\n",
    "run_process(dataset,rand_cv)"
   ]
  },
  {
   "cell_type": "code",
   "execution_count": null,
   "metadata": {
    "colab": {
     "base_uri": "https://localhost:8080/"
    },
    "id": "tEtCnqMY15HS",
    "outputId": "21f66e37-fb09-4fbc-9b23-f9176b09314a"
   },
   "outputs": [
    {
     "name": "stdout",
     "output_type": "stream",
     "text": [
      "Fitting 5 folds for each of 10 candidates, totalling 50 fits\n",
      "Epoch 1/20\n",
      "13/13 [==============================] - 1s 868us/step - loss: 7.3931 - mse: 7.2677\n",
      "Epoch 2/20\n",
      "13/13 [==============================] - 0s 744us/step - loss: 6.2499 - mse: 6.1243\n",
      "Epoch 3/20\n",
      "13/13 [==============================] - 0s 785us/step - loss: 5.6759 - mse: 5.5502\n",
      "Epoch 4/20\n",
      "13/13 [==============================] - 0s 744us/step - loss: 5.3569 - mse: 5.2311\n",
      "Epoch 5/20\n",
      "13/13 [==============================] - 0s 744us/step - loss: 6.3634 - mse: 6.2375\n",
      "Epoch 6/20\n",
      "13/13 [==============================] - 0s 785us/step - loss: 6.7002 - mse: 6.5743\n",
      "Epoch 7/20\n",
      "13/13 [==============================] - 0s 909us/step - loss: 5.8632 - mse: 5.7373\n",
      "Epoch 8/20\n",
      "13/13 [==============================] - 0s 744us/step - loss: 6.0783 - mse: 5.9523\n",
      "Epoch 9/20\n",
      "13/13 [==============================] - 0s 827us/step - loss: 6.5609 - mse: 6.4350\n",
      "Epoch 10/20\n",
      "13/13 [==============================] - 0s 827us/step - loss: 6.1525 - mse: 6.0266\n",
      "Epoch 11/20\n",
      "13/13 [==============================] - 0s 868us/step - loss: 6.0034 - mse: 5.8775\n",
      "Epoch 12/20\n",
      "13/13 [==============================] - 0s 827us/step - loss: 6.4526 - mse: 6.3266\n",
      "Epoch 13/20\n",
      "13/13 [==============================] - 0s 744us/step - loss: 5.4046 - mse: 5.2787\n",
      "Epoch 14/20\n",
      "13/13 [==============================] - 0s 785us/step - loss: 5.6529 - mse: 5.5269\n",
      "Epoch 15/20\n",
      "13/13 [==============================] - 0s 827us/step - loss: 6.5360 - mse: 6.4101\n",
      "Epoch 16/20\n",
      "13/13 [==============================] - 0s 868us/step - loss: 6.0488 - mse: 5.9229\n",
      "Epoch 17/20\n",
      "13/13 [==============================] - 0s 992us/step - loss: 5.4124 - mse: 5.2865\n",
      "Epoch 18/20\n",
      "13/13 [==============================] - 0s 827us/step - loss: 6.2268 - mse: 6.1009\n",
      "Epoch 19/20\n",
      "13/13 [==============================] - 0s 868us/step - loss: 6.4194 - mse: 6.2934\n",
      "Epoch 20/20\n",
      "13/13 [==============================] - 0s 868us/step - loss: 5.7299 - mse: 5.6040\n",
      "R2-test-fit: -5.912414085588108\n",
      "Epoch 1/20\n",
      "9/9 [==============================] - 1s 930us/step - loss: 8.6118 - mse: 8.4865\n",
      "Epoch 2/20\n",
      "9/9 [==============================] - 0s 1ms/step - loss: 8.3937 - mse: 8.2685\n",
      "Epoch 3/20\n",
      "9/9 [==============================] - 0s 930us/step - loss: 6.9938 - mse: 6.8686\n",
      "Epoch 4/20\n",
      "9/9 [==============================] - 0s 806us/step - loss: 8.6546 - mse: 8.5295\n",
      "Epoch 5/20\n",
      "9/9 [==============================] - 0s 806us/step - loss: 8.7225 - mse: 8.5973\n",
      "Epoch 6/20\n",
      "9/9 [==============================] - 0s 806us/step - loss: 6.9928 - mse: 6.8677\n",
      "Epoch 7/20\n",
      "9/9 [==============================] - 0s 930us/step - loss: 7.9842 - mse: 7.8591\n",
      "Epoch 8/20\n",
      "9/9 [==============================] - 0s 868us/step - loss: 6.9420 - mse: 6.8169\n",
      "Epoch 9/20\n",
      "9/9 [==============================] - 0s 868us/step - loss: 6.8980 - mse: 6.7729\n",
      "Epoch 10/20\n",
      "9/9 [==============================] - 0s 806us/step - loss: 7.0220 - mse: 6.8969\n",
      "Epoch 11/20\n",
      "9/9 [==============================] - 0s 930us/step - loss: 7.4707 - mse: 7.3456\n",
      "Epoch 12/20\n",
      "9/9 [==============================] - 0s 868us/step - loss: 6.4612 - mse: 6.3361\n",
      "Epoch 13/20\n",
      "9/9 [==============================] - 0s 872us/step - loss: 6.6650 - mse: 6.5400\n",
      "Epoch 14/20\n",
      "9/9 [==============================] - 0s 868us/step - loss: 6.4006 - mse: 6.2755\n",
      "Epoch 15/20\n",
      "9/9 [==============================] - 0s 806us/step - loss: 6.8740 - mse: 6.7489\n",
      "Epoch 16/20\n",
      "9/9 [==============================] - 0s 868us/step - loss: 6.5309 - mse: 6.4058\n",
      "Epoch 17/20\n",
      "9/9 [==============================] - 0s 806us/step - loss: 6.8679 - mse: 6.7428\n",
      "Epoch 18/20\n",
      "9/9 [==============================] - 0s 868us/step - loss: 5.9802 - mse: 5.8551\n",
      "Epoch 19/20\n",
      "9/9 [==============================] - 0s 868us/step - loss: 6.0060 - mse: 5.8809\n",
      "Epoch 20/20\n",
      "9/9 [==============================] - 0s 868us/step - loss: 6.5112 - mse: 6.3861\n",
      "5/5 [==============================] - 0s 868us/step - loss: 6.1908 - mse: 6.0657\n",
      "R2-test -6.190826416015625\n",
      "5/5 [==============================] - 0s 992us/step\n",
      "MSE-test 6.065711864422466\n",
      "Best params: {'output_shape': 1, 'nn3': 5, 'nn2': 70, 'nn1': 100, 'nl3': 2, 'nl2': 3, 'nl1': 0, 'lr': 0.001, 'l2': 0, 'l1': 0.0001, 'input_shape': 20, 'dropout': 0, 'decay': 1e-06, 'act': 'relu'}\n"
     ]
    },
    {
     "data": {
      "text/plain": [
       "['actq3_lab1',\n",
       " 'actq1_lab1',\n",
       " 'mean(qmsr$_lab1)',\n",
       " 'rtr_lab1',\n",
       " 'cer_lab1',\n",
       " 'actq3_lab2',\n",
       " 'actq1_lab2',\n",
       " 'mean(qavt$_lab2)',\n",
       " 'avgtime_lab2',\n",
       " 'rt_lab2',\n",
       " 'rt_lab3',\n",
       " 'actq1_lab3',\n",
       " 'ut_lab3',\n",
       " 'mean(qact$_lab3)',\n",
       " 'cer_lab3',\n",
       " 'rt_lab4',\n",
       " 'cer_lab4',\n",
       " 'err_lab4',\n",
       " 'actq1_lab4',\n",
       " 'mean(qc$_lab4)']"
      ]
     },
     "execution_count": 41,
     "metadata": {
      "tags": []
     },
     "output_type": "execute_result"
    }
   ],
   "source": [
    "dataset = datalab1[[TARGET] + selected_features_ann_1].join(datalab2[selected_features_ann_2]).join(datalab3[selected_features_ann_3]).join(datalab4[selected_features_ann_4])\n",
    "run_process(dataset,rand_cv)"
   ]
  },
  {
   "cell_type": "code",
   "execution_count": null,
   "metadata": {
    "colab": {
     "base_uri": "https://localhost:8080/"
    },
    "id": "Y8qsvtkV15Oh",
    "outputId": "29c55f71-34d9-4b69-e2f6-791cba6088f2"
   },
   "outputs": [
    {
     "name": "stdout",
     "output_type": "stream",
     "text": [
      "Fitting 5 folds for each of 10 candidates, totalling 50 fits\n",
      "Epoch 1/20\n",
      "13/13 [==============================] - 1s 1ms/step - loss: 10.5571 - mse: 7.5986\n",
      "Epoch 2/20\n",
      "13/13 [==============================] - 0s 1ms/step - loss: 10.8478 - mse: 7.9028\n",
      "Epoch 3/20\n",
      "13/13 [==============================] - 0s 1ms/step - loss: 10.0239 - mse: 7.0905\n",
      "Epoch 4/20\n",
      "13/13 [==============================] - 0s 1ms/step - loss: 10.1964 - mse: 7.2731\n",
      "Epoch 5/20\n",
      "13/13 [==============================] - 0s 1ms/step - loss: 9.2959 - mse: 6.3830\n",
      "Epoch 6/20\n",
      "13/13 [==============================] - 0s 1ms/step - loss: 8.5410 - mse: 5.6394\n",
      "Epoch 7/20\n",
      "13/13 [==============================] - 0s 1ms/step - loss: 8.7363 - mse: 5.8466\n",
      "Epoch 8/20\n",
      "13/13 [==============================] - 0s 1ms/step - loss: 8.9333 - mse: 6.0561\n",
      "Epoch 9/20\n",
      "13/13 [==============================] - 0s 1ms/step - loss: 8.5497 - mse: 5.6853\n",
      "Epoch 10/20\n",
      "13/13 [==============================] - 0s 1ms/step - loss: 8.1388 - mse: 5.2874\n",
      "Epoch 11/20\n",
      "13/13 [==============================] - 0s 1ms/step - loss: 8.9675 - mse: 6.1292\n",
      "Epoch 12/20\n",
      "13/13 [==============================] - 0s 1ms/step - loss: 9.2622 - mse: 6.4371\n",
      "Epoch 13/20\n",
      "13/13 [==============================] - 0s 1ms/step - loss: 9.1026 - mse: 6.2909\n",
      "Epoch 14/20\n",
      "13/13 [==============================] - 0s 1ms/step - loss: 8.4876 - mse: 5.6895\n",
      "Epoch 15/20\n",
      "13/13 [==============================] - 0s 1ms/step - loss: 7.9474 - mse: 5.1628\n",
      "Epoch 16/20\n",
      "13/13 [==============================] - 0s 1ms/step - loss: 8.6345 - mse: 5.8635\n",
      "Epoch 17/20\n",
      "13/13 [==============================] - 0s 1ms/step - loss: 8.3625 - mse: 5.6048\n",
      "Epoch 18/20\n",
      "13/13 [==============================] - 0s 1ms/step - loss: 8.8563 - mse: 6.1120\n",
      "Epoch 19/20\n",
      "13/13 [==============================] - 0s 1ms/step - loss: 8.2755 - mse: 5.5449\n",
      "Epoch 20/20\n",
      "13/13 [==============================] - 0s 1ms/step - loss: 8.4161 - mse: 5.6988\n",
      "R2-test-fit: -5.909600476061483\n",
      "Epoch 1/20\n",
      "9/9 [==============================] - 1s 1ms/step - loss: 10.6870 - mse: 7.6870\n",
      "Epoch 2/20\n",
      "9/9 [==============================] - 0s 1ms/step - loss: 9.7052 - mse: 6.7125\n",
      "Epoch 3/20\n",
      "9/9 [==============================] - 0s 1ms/step - loss: 8.8084 - mse: 5.8224\n",
      "Epoch 4/20\n",
      "9/9 [==============================] - 0s 1ms/step - loss: 8.8435 - mse: 5.8643\n",
      "Epoch 5/20\n",
      "9/9 [==============================] - 0s 2ms/step - loss: 8.6673 - mse: 5.6959\n",
      "Epoch 6/20\n",
      "9/9 [==============================] - 0s 1ms/step - loss: 8.2835 - mse: 5.3205\n",
      "Epoch 7/20\n",
      "9/9 [==============================] - 0s 1ms/step - loss: 8.4212 - mse: 5.4669\n",
      "Epoch 8/20\n",
      "9/9 [==============================] - 0s 1ms/step - loss: 8.5657 - mse: 5.6205\n",
      "Epoch 9/20\n",
      "9/9 [==============================] - 0s 2ms/step - loss: 8.1884 - mse: 5.2521\n",
      "Epoch 10/20\n",
      "9/9 [==============================] - 0s 1ms/step - loss: 8.8735 - mse: 5.9464\n",
      "Epoch 11/20\n",
      "9/9 [==============================] - 0s 1ms/step - loss: 8.7136 - mse: 5.7961\n",
      "Epoch 12/20\n",
      "9/9 [==============================] - 0s 1ms/step - loss: 8.6114 - mse: 5.7033\n",
      "Epoch 13/20\n",
      "9/9 [==============================] - 0s 1ms/step - loss: 8.8885 - mse: 5.9899\n",
      "Epoch 14/20\n",
      "9/9 [==============================] - 0s 2ms/step - loss: 8.5032 - mse: 5.6142\n",
      "Epoch 15/20\n",
      "9/9 [==============================] - 0s 1ms/step - loss: 8.6332 - mse: 5.7537\n",
      "Epoch 16/20\n",
      "9/9 [==============================] - 0s 1ms/step - loss: 8.6459 - mse: 5.7759\n",
      "Epoch 17/20\n",
      "9/9 [==============================] - 0s 1ms/step - loss: 8.4344 - mse: 5.5739\n",
      "Epoch 18/20\n",
      "9/9 [==============================] - 0s 1ms/step - loss: 8.5321 - mse: 5.6812\n",
      "Epoch 19/20\n",
      "9/9 [==============================] - 0s 1ms/step - loss: 8.6027 - mse: 5.7615\n",
      "Epoch 20/20\n",
      "9/9 [==============================] - 0s 1ms/step - loss: 7.9480 - mse: 5.1165\n",
      "5/5 [==============================] - 0s 868us/step - loss: 9.4551 - mse: 6.6310\n",
      "R2-test -9.45512866973877\n",
      "5/5 [==============================] - 0s 744us/step\n",
      "MSE-test 6.630978928418805\n",
      "Best params: {'output_shape': 1, 'nn3': 15, 'nn2': 70, 'nn1': 100, 'nl3': 2, 'nl2': 0, 'nl1': 3, 'lr': 0.01, 'l2': 0.01, 'l1': 0.0001, 'input_shape': 20, 'dropout': 0.2, 'decay': 0, 'act': 'relu'}\n"
     ]
    },
    {
     "data": {
      "text/plain": [
       "['actq3_lab1',\n",
       " 'actq1_lab1',\n",
       " 'mean(qmsr$_lab1)',\n",
       " 'rtr_lab1',\n",
       " 'cer_lab1',\n",
       " 'actq3_lab2',\n",
       " 'actq1_lab2',\n",
       " 'mean(qavt$_lab2)',\n",
       " 'avgtime_lab2',\n",
       " 'rt_lab2',\n",
       " 'rt_lab3',\n",
       " 'actq1_lab3',\n",
       " 'ut_lab3',\n",
       " 'mean(qact$_lab3)',\n",
       " 'cer_lab3',\n",
       " 'rt_lab4',\n",
       " 'cer_lab4',\n",
       " 'err_lab4',\n",
       " 'actq1_lab4',\n",
       " 'mean(qc$_lab4)']"
      ]
     },
     "execution_count": 42,
     "metadata": {
      "tags": []
     },
     "output_type": "execute_result"
    }
   ],
   "source": [
    "dataset = datalab1[[TARGET] + selected_features_ann_1].join(datalab2[selected_features_ann_2]).join(datalab3[selected_features_ann_3]).join(datalab4[selected_features_ann_4])\n",
    "run_process(dataset,rand_cv)"
   ]
  },
  {
   "cell_type": "code",
   "execution_count": null,
   "metadata": {
    "colab": {
     "base_uri": "https://localhost:8080/"
    },
    "id": "u1xUa6a815VD",
    "outputId": "c2bf4a29-a907-48fb-f0af-74e546cb1cc1"
   },
   "outputs": [
    {
     "name": "stdout",
     "output_type": "stream",
     "text": [
      "Fitting 5 folds for each of 10 candidates, totalling 50 fits\n",
      "Epoch 1/20\n",
      "13/13 [==============================] - 1s 951us/step - loss: 8.4631 - mse: 7.4663\n",
      "Epoch 2/20\n",
      "13/13 [==============================] - 0s 1ms/step - loss: 7.7122 - mse: 6.7159\n",
      "Epoch 3/20\n",
      "13/13 [==============================] - 0s 951us/step - loss: 7.3698 - mse: 6.3732\n",
      "Epoch 4/20\n",
      "13/13 [==============================] - 0s 951us/step - loss: 7.1783 - mse: 6.1816\n",
      "Epoch 5/20\n",
      "13/13 [==============================] - 0s 868us/step - loss: 7.2082 - mse: 6.2117\n",
      "Epoch 6/20\n",
      "13/13 [==============================] - 0s 868us/step - loss: 7.1852 - mse: 6.1892\n",
      "Epoch 7/20\n",
      "13/13 [==============================] - 0s 868us/step - loss: 7.4902 - mse: 6.4949\n",
      "Epoch 8/20\n",
      "13/13 [==============================] - 0s 827us/step - loss: 7.1549 - mse: 6.1604\n",
      "Epoch 9/20\n",
      "13/13 [==============================] - 0s 868us/step - loss: 7.1954 - mse: 6.2018\n",
      "Epoch 10/20\n",
      "13/13 [==============================] - 0s 868us/step - loss: 7.5318 - mse: 6.5391\n",
      "Epoch 11/20\n",
      "13/13 [==============================] - 0s 870us/step - loss: 7.0559 - mse: 6.0643\n",
      "Epoch 12/20\n",
      "13/13 [==============================] - 0s 868us/step - loss: 6.5192 - mse: 5.5285\n",
      "Epoch 13/20\n",
      "13/13 [==============================] - 0s 868us/step - loss: 7.0411 - mse: 6.0515\n",
      "Epoch 14/20\n",
      "13/13 [==============================] - 0s 866us/step - loss: 6.6881 - mse: 5.6996\n",
      "Epoch 15/20\n",
      "13/13 [==============================] - 0s 868us/step - loss: 7.5385 - mse: 6.5511\n",
      "Epoch 16/20\n",
      "13/13 [==============================] - 0s 909us/step - loss: 6.9394 - mse: 5.9532\n",
      "Epoch 17/20\n",
      "13/13 [==============================] - 0s 951us/step - loss: 6.1930 - mse: 5.2080\n",
      "Epoch 18/20\n",
      "13/13 [==============================] - 0s 1ms/step - loss: 7.3261 - mse: 6.3421\n",
      "Epoch 19/20\n",
      "13/13 [==============================] - 0s 1ms/step - loss: 6.9000 - mse: 5.9172\n",
      "Epoch 20/20\n",
      "13/13 [==============================] - 0s 1ms/step - loss: 6.6991 - mse: 5.7174\n",
      "R2-test-fit: -5.912708684488838\n",
      "Epoch 1/20\n",
      "9/9 [==============================] - 1s 1ms/step - loss: 8.9257 - mse: 7.9372\n",
      "Epoch 2/20\n",
      "9/9 [==============================] - 0s 1ms/step - loss: 8.9086 - mse: 7.9201\n",
      "Epoch 3/20\n",
      "9/9 [==============================] - 0s 1ms/step - loss: 8.4399 - mse: 7.4510\n",
      "Epoch 4/20\n",
      "9/9 [==============================] - 0s 1ms/step - loss: 7.0764 - mse: 6.0872\n",
      "Epoch 5/20\n",
      "9/9 [==============================] - 0s 1ms/step - loss: 7.2381 - mse: 6.2487\n",
      "Epoch 6/20\n",
      "9/9 [==============================] - 0s 1ms/step - loss: 6.8112 - mse: 5.8219\n",
      "Epoch 7/20\n",
      "9/9 [==============================] - 0s 5ms/step - loss: 7.0021 - mse: 6.0129\n",
      "Epoch 8/20\n",
      "9/9 [==============================] - 0s 2ms/step - loss: 6.5212 - mse: 5.5323\n",
      "Epoch 9/20\n",
      "9/9 [==============================] - 0s 1ms/step - loss: 7.2851 - mse: 6.2968\n",
      "Epoch 10/20\n",
      "9/9 [==============================] - 0s 2ms/step - loss: 7.2303 - mse: 6.2424\n",
      "Epoch 11/20\n",
      "9/9 [==============================] - 0s 1ms/step - loss: 6.3922 - mse: 5.4049\n",
      "Epoch 12/20\n",
      "9/9 [==============================] - 0s 1ms/step - loss: 6.9320 - mse: 5.9452\n",
      "Epoch 13/20\n",
      "9/9 [==============================] - 0s 1ms/step - loss: 6.7922 - mse: 5.8061\n",
      "Epoch 14/20\n",
      "9/9 [==============================] - 0s 1ms/step - loss: 6.8841 - mse: 5.8987\n",
      "Epoch 15/20\n",
      "9/9 [==============================] - 0s 1ms/step - loss: 6.8680 - mse: 5.8832\n",
      "Epoch 16/20\n",
      "9/9 [==============================] - 0s 1ms/step - loss: 7.3456 - mse: 6.3615\n",
      "Epoch 17/20\n",
      "9/9 [==============================] - 0s 1ms/step - loss: 6.3706 - mse: 5.3873\n",
      "Epoch 18/20\n",
      "9/9 [==============================] - 0s 1ms/step - loss: 6.4006 - mse: 5.4179\n",
      "Epoch 19/20\n",
      "9/9 [==============================] - 0s 992us/step - loss: 6.4555 - mse: 5.4736\n",
      "Epoch 20/20\n",
      "9/9 [==============================] - 0s 1ms/step - loss: 6.5138 - mse: 5.5327\n",
      "5/5 [==============================] - 0s 1ms/step - loss: 6.9778 - mse: 5.9972\n",
      "R2-test -6.977842807769775\n",
      "5/5 [==============================] - 0s 876us/step\n",
      "MSE-test 5.9972424174487236\n",
      "Best params: {'output_shape': 1, 'nn3': 30, 'nn2': 40, 'nn1': 50, 'nl3': 0, 'nl2': 3, 'nl1': 1, 'lr': 0.01, 'l2': 0.001, 'l1': 0.001, 'input_shape': 20, 'dropout': 0.1, 'decay': 0, 'act': 'relu'}\n"
     ]
    },
    {
     "data": {
      "text/plain": [
       "['actq3_lab1',\n",
       " 'actq1_lab1',\n",
       " 'mean(qmsr$_lab1)',\n",
       " 'rtr_lab1',\n",
       " 'cer_lab1',\n",
       " 'actq3_lab2',\n",
       " 'actq1_lab2',\n",
       " 'mean(qavt$_lab2)',\n",
       " 'avgtime_lab2',\n",
       " 'rt_lab2',\n",
       " 'rt_lab3',\n",
       " 'actq1_lab3',\n",
       " 'ut_lab3',\n",
       " 'mean(qact$_lab3)',\n",
       " 'cer_lab3',\n",
       " 'rt_lab4',\n",
       " 'cer_lab4',\n",
       " 'err_lab4',\n",
       " 'actq1_lab4',\n",
       " 'mean(qc$_lab4)']"
      ]
     },
     "execution_count": 43,
     "metadata": {
      "tags": []
     },
     "output_type": "execute_result"
    }
   ],
   "source": [
    "dataset = datalab1[[TARGET] + selected_features_ann_1].join(datalab2[selected_features_ann_2]).join(datalab3[selected_features_ann_3]).join(datalab4[selected_features_ann_4])\n",
    "run_process(dataset,rand_cv)"
   ]
  },
  {
   "cell_type": "code",
   "execution_count": null,
   "metadata": {
    "colab": {
     "base_uri": "https://localhost:8080/"
    },
    "id": "V8s9PYb415cz",
    "outputId": "beb01693-b4ed-418b-ea2d-46ea234eb61a"
   },
   "outputs": [
    {
     "name": "stdout",
     "output_type": "stream",
     "text": [
      "Fitting 5 folds for each of 10 candidates, totalling 50 fits\n",
      "Epoch 1/20\n",
      "13/13 [==============================] - 1s 827us/step - loss: 10.9217 - mse: 7.7862\n",
      "Epoch 2/20\n",
      "13/13 [==============================] - 0s 663us/step - loss: 11.2953 - mse: 8.1692\n",
      "Epoch 3/20\n",
      "13/13 [==============================] - 0s 747us/step - loss: 9.7220 - mse: 6.6046\n",
      "Epoch 4/20\n",
      "13/13 [==============================] - 0s 785us/step - loss: 10.2300 - mse: 7.1206\n",
      "Epoch 5/20\n",
      "13/13 [==============================] - 0s 785us/step - loss: 8.9030 - mse: 5.8008\n",
      "Epoch 6/20\n",
      "13/13 [==============================] - 0s 827us/step - loss: 9.1473 - mse: 6.0515\n",
      "Epoch 7/20\n",
      "13/13 [==============================] - 0s 870us/step - loss: 8.8363 - mse: 5.7469\n",
      "Epoch 8/20\n",
      "13/13 [==============================] - 0s 785us/step - loss: 9.2853 - mse: 6.2026\n",
      "Epoch 9/20\n",
      "13/13 [==============================] - 0s 827us/step - loss: 9.1759 - mse: 6.1005\n",
      "Epoch 10/20\n",
      "13/13 [==============================] - 0s 909us/step - loss: 9.4803 - mse: 6.4126\n",
      "Epoch 11/20\n",
      "13/13 [==============================] - 0s 868us/step - loss: 9.1569 - mse: 6.0970\n",
      "Epoch 12/20\n",
      "13/13 [==============================] - 0s 827us/step - loss: 9.2204 - mse: 6.1686\n",
      "Epoch 13/20\n",
      "13/13 [==============================] - 0s 868us/step - loss: 8.9726 - mse: 5.9289\n",
      "Epoch 14/20\n",
      "13/13 [==============================] - 0s 827us/step - loss: 9.3472 - mse: 6.3118\n",
      "Epoch 15/20\n",
      "13/13 [==============================] - 0s 868us/step - loss: 8.5993 - mse: 5.5722\n",
      "Epoch 16/20\n",
      "13/13 [==============================] - 0s 827us/step - loss: 8.8462 - mse: 5.8274\n",
      "Epoch 17/20\n",
      "13/13 [==============================] - 0s 785us/step - loss: 9.4071 - mse: 6.3967\n",
      "Epoch 18/20\n",
      "13/13 [==============================] - 0s 827us/step - loss: 8.7082 - mse: 5.7062\n",
      "Epoch 19/20\n",
      "13/13 [==============================] - 0s 785us/step - loss: 8.1923 - mse: 5.1988\n",
      "Epoch 20/20\n",
      "13/13 [==============================] - 0s 827us/step - loss: 9.7139 - mse: 6.7288\n",
      "R2-test-fit: -5.927071087513601\n",
      "Epoch 1/20\n",
      "9/9 [==============================] - 1s 931us/step - loss: 11.3779 - mse: 8.2740\n",
      "Epoch 2/20\n",
      "9/9 [==============================] - 0s 868us/step - loss: 11.0182 - mse: 7.9208\n",
      "Epoch 3/20\n",
      "9/9 [==============================] - 0s 865us/step - loss: 10.8121 - mse: 7.7210\n",
      "Epoch 4/20\n",
      "9/9 [==============================] - 0s 930us/step - loss: 10.6113 - mse: 7.5265\n",
      "Epoch 5/20\n",
      "9/9 [==============================] - 0s 868us/step - loss: 10.0466 - mse: 6.9680\n",
      "Epoch 6/20\n",
      "9/9 [==============================] - 0s 806us/step - loss: 10.4431 - mse: 7.3705\n",
      "Epoch 7/20\n",
      "9/9 [==============================] - 0s 868us/step - loss: 9.8045 - mse: 6.7378\n",
      "Epoch 8/20\n",
      "9/9 [==============================] - 0s 868us/step - loss: 10.4203 - mse: 7.3596\n",
      "Epoch 9/20\n",
      "9/9 [==============================] - 0s 806us/step - loss: 9.1759 - mse: 6.1210\n",
      "Epoch 10/20\n",
      "9/9 [==============================] - 0s 744us/step - loss: 9.8603 - mse: 6.8111\n",
      "Epoch 11/20\n",
      "9/9 [==============================] - 0s 868us/step - loss: 9.7056 - mse: 6.6621\n",
      "Epoch 12/20\n",
      "9/9 [==============================] - 0s 868us/step - loss: 9.5640 - mse: 6.5261\n",
      "Epoch 13/20\n",
      "9/9 [==============================] - 0s 868us/step - loss: 9.6691 - mse: 6.6368\n",
      "Epoch 14/20\n",
      "9/9 [==============================] - 0s 868us/step - loss: 9.1201 - mse: 6.0933\n",
      "Epoch 15/20\n",
      "9/9 [==============================] - 0s 930us/step - loss: 9.8201 - mse: 6.7989\n",
      "Epoch 16/20\n",
      "9/9 [==============================] - 0s 932us/step - loss: 8.6695 - mse: 5.6538\n",
      "Epoch 17/20\n",
      "9/9 [==============================] - 0s 992us/step - loss: 9.1344 - mse: 6.1243\n",
      "Epoch 18/20\n",
      "9/9 [==============================] - 0s 930us/step - loss: 9.5615 - mse: 6.5570\n",
      "Epoch 19/20\n",
      "9/9 [==============================] - 0s 992us/step - loss: 9.6830 - mse: 6.6840\n",
      "Epoch 20/20\n",
      "9/9 [==============================] - 0s 930us/step - loss: 8.8497 - mse: 5.8564\n",
      "5/5 [==============================] - 0s 868us/step - loss: 8.7734 - mse: 5.7844\n",
      "R2-test -8.773417472839355\n",
      "5/5 [==============================] - 0s 992us/step\n",
      "MSE-test 5.784366552244696\n",
      "Best params: {'output_shape': 1, 'nn3': 30, 'nn2': 10, 'nn1': 50, 'nl3': 2, 'nl2': 1, 'nl1': 3, 'lr': 0.001, 'l2': 0, 'l1': 0.003, 'input_shape': 20, 'dropout': 0, 'decay': 0, 'act': 'relu'}\n"
     ]
    },
    {
     "data": {
      "text/plain": [
       "['actq3_lab1',\n",
       " 'actq1_lab1',\n",
       " 'mean(qmsr$_lab1)',\n",
       " 'rtr_lab1',\n",
       " 'cer_lab1',\n",
       " 'actq3_lab2',\n",
       " 'actq1_lab2',\n",
       " 'mean(qavt$_lab2)',\n",
       " 'avgtime_lab2',\n",
       " 'rt_lab2',\n",
       " 'rt_lab3',\n",
       " 'actq1_lab3',\n",
       " 'ut_lab3',\n",
       " 'mean(qact$_lab3)',\n",
       " 'cer_lab3',\n",
       " 'rt_lab4',\n",
       " 'cer_lab4',\n",
       " 'err_lab4',\n",
       " 'actq1_lab4',\n",
       " 'mean(qc$_lab4)']"
      ]
     },
     "execution_count": 44,
     "metadata": {
      "tags": []
     },
     "output_type": "execute_result"
    }
   ],
   "source": [
    "dataset = datalab1[[TARGET] + selected_features_ann_1].join(datalab2[selected_features_ann_2]).join(datalab3[selected_features_ann_3]).join(datalab4[selected_features_ann_4])\n",
    "run_process(dataset,rand_cv)"
   ]
  },
  {
   "cell_type": "code",
   "execution_count": null,
   "metadata": {
    "colab": {
     "base_uri": "https://localhost:8080/"
    },
    "id": "I5lveBNL15kw",
    "outputId": "22f079ed-2065-4bcf-edd7-61d0828b144a"
   },
   "outputs": [
    {
     "name": "stdout",
     "output_type": "stream",
     "text": [
      "Fitting 5 folds for each of 10 candidates, totalling 50 fits\n",
      "Epoch 1/20\n",
      "13/13 [==============================] - 1s 868us/step - loss: 8.2518 - mse: 8.1725\n",
      "Epoch 2/20\n",
      "13/13 [==============================] - 0s 827us/step - loss: 7.1259 - mse: 7.0466\n",
      "Epoch 3/20\n",
      "13/13 [==============================] - 0s 785us/step - loss: 6.2958 - mse: 6.2163\n",
      "Epoch 4/20\n",
      "13/13 [==============================] - 0s 827us/step - loss: 5.8688 - mse: 5.7892\n",
      "Epoch 5/20\n",
      "13/13 [==============================] - 0s 785us/step - loss: 6.0616 - mse: 5.9819\n",
      "Epoch 6/20\n",
      "13/13 [==============================] - 0s 829us/step - loss: 6.4059 - mse: 6.3261\n",
      "Epoch 7/20\n",
      "13/13 [==============================] - 0s 912us/step - loss: 6.4462 - mse: 6.3663\n",
      "Epoch 8/20\n",
      "13/13 [==============================] - 0s 785us/step - loss: 4.8691 - mse: 4.7892\n",
      "Epoch 9/20\n",
      "13/13 [==============================] - 0s 785us/step - loss: 6.5064 - mse: 6.4265\n",
      "Epoch 10/20\n",
      "13/13 [==============================] - 0s 827us/step - loss: 5.7907 - mse: 5.7107\n",
      "Epoch 11/20\n",
      "13/13 [==============================] - 0s 789us/step - loss: 6.5273 - mse: 6.4473\n",
      "Epoch 12/20\n",
      "13/13 [==============================] - 0s 742us/step - loss: 5.6440 - mse: 5.5641\n",
      "Epoch 13/20\n",
      "13/13 [==============================] - 0s 785us/step - loss: 6.2695 - mse: 6.1895\n",
      "Epoch 14/20\n",
      "13/13 [==============================] - 0s 785us/step - loss: 6.2061 - mse: 6.1261\n",
      "Epoch 15/20\n",
      "13/13 [==============================] - 0s 829us/step - loss: 6.0603 - mse: 5.9803\n",
      "Epoch 16/20\n",
      "13/13 [==============================] - 0s 827us/step - loss: 5.9621 - mse: 5.8821\n",
      "Epoch 17/20\n",
      "13/13 [==============================] - 0s 788us/step - loss: 5.9838 - mse: 5.9037\n",
      "Epoch 18/20\n",
      "13/13 [==============================] - 0s 701us/step - loss: 6.6033 - mse: 6.5233\n",
      "Epoch 19/20\n",
      "13/13 [==============================] - 0s 744us/step - loss: 6.2268 - mse: 6.1467\n",
      "Epoch 20/20\n",
      "13/13 [==============================] - 0s 744us/step - loss: 5.8561 - mse: 5.7761\n",
      "R2-test-fit: -5.914990522504689\n",
      "Epoch 1/20\n",
      "9/9 [==============================] - 0s 868us/step - loss: 7.7833 - mse: 7.7038\n",
      "Epoch 2/20\n",
      "9/9 [==============================] - 0s 806us/step - loss: 6.3176 - mse: 6.2381\n",
      "Epoch 3/20\n",
      "9/9 [==============================] - 0s 744us/step - loss: 6.6632 - mse: 6.5835\n",
      "Epoch 4/20\n",
      "9/9 [==============================] - 0s 744us/step - loss: 6.2699 - mse: 6.1901\n",
      "Epoch 5/20\n",
      "9/9 [==============================] - 0s 741us/step - loss: 6.4573 - mse: 6.3774\n",
      "Epoch 6/20\n",
      "9/9 [==============================] - 0s 806us/step - loss: 6.3671 - mse: 6.2872\n",
      "Epoch 7/20\n",
      "9/9 [==============================] - 0s 806us/step - loss: 5.7387 - mse: 5.6586\n",
      "Epoch 8/20\n",
      "9/9 [==============================] - 0s 806us/step - loss: 6.1605 - mse: 6.0804\n",
      "Epoch 9/20\n",
      "9/9 [==============================] - 0s 806us/step - loss: 6.0248 - mse: 5.9446\n",
      "Epoch 10/20\n",
      "9/9 [==============================] - 0s 868us/step - loss: 5.6079 - mse: 5.5278\n",
      "Epoch 11/20\n",
      "9/9 [==============================] - 0s 741us/step - loss: 5.7129 - mse: 5.6327\n",
      "Epoch 12/20\n",
      "9/9 [==============================] - 0s 809us/step - loss: 6.1636 - mse: 6.0834\n",
      "Epoch 13/20\n",
      "9/9 [==============================] - 0s 930us/step - loss: 5.6834 - mse: 5.6032\n",
      "Epoch 14/20\n",
      "9/9 [==============================] - 0s 809us/step - loss: 5.4652 - mse: 5.3849\n",
      "Epoch 15/20\n",
      "9/9 [==============================] - 0s 806us/step - loss: 6.0772 - mse: 5.9969\n",
      "Epoch 16/20\n",
      "9/9 [==============================] - 0s 744us/step - loss: 5.4651 - mse: 5.3848\n",
      "Epoch 17/20\n",
      "9/9 [==============================] - 0s 803us/step - loss: 5.6976 - mse: 5.6172\n",
      "Epoch 18/20\n",
      "9/9 [==============================] - 0s 806us/step - loss: 6.4713 - mse: 6.3910\n",
      "Epoch 19/20\n",
      "9/9 [==============================] - 0s 806us/step - loss: 6.5735 - mse: 6.4932\n",
      "Epoch 20/20\n",
      "9/9 [==============================] - 0s 872us/step - loss: 6.3029 - mse: 6.2226\n",
      "5/5 [==============================] - 0s 751us/step - loss: 6.5158 - mse: 6.4355\n",
      "R2-test -6.515824317932129\n",
      "5/5 [==============================] - 0s 744us/step\n",
      "MSE-test 6.435477203576395\n",
      "Best params: {'output_shape': 1, 'nn3': 15, 'nn2': 40, 'nn1': 20, 'nl3': 1, 'nl2': 3, 'nl1': 0, 'lr': 0.0001, 'l2': 0.0001, 'l1': 0.0001, 'input_shape': 20, 'dropout': 0, 'decay': 0, 'act': 'relu'}\n"
     ]
    },
    {
     "data": {
      "text/plain": [
       "['actq3_lab1',\n",
       " 'actq1_lab1',\n",
       " 'mean(qmsr$_lab1)',\n",
       " 'rtr_lab1',\n",
       " 'cer_lab1',\n",
       " 'actq3_lab2',\n",
       " 'actq1_lab2',\n",
       " 'mean(qavt$_lab2)',\n",
       " 'avgtime_lab2',\n",
       " 'rt_lab2',\n",
       " 'rt_lab3',\n",
       " 'actq1_lab3',\n",
       " 'ut_lab3',\n",
       " 'mean(qact$_lab3)',\n",
       " 'cer_lab3',\n",
       " 'rt_lab4',\n",
       " 'cer_lab4',\n",
       " 'err_lab4',\n",
       " 'actq1_lab4',\n",
       " 'mean(qc$_lab4)']"
      ]
     },
     "execution_count": 45,
     "metadata": {
      "tags": []
     },
     "output_type": "execute_result"
    }
   ],
   "source": [
    "dataset = datalab1[[TARGET] + selected_features_ann_1].join(datalab2[selected_features_ann_2]).join(datalab3[selected_features_ann_3]).join(datalab4[selected_features_ann_4])\n",
    "run_process(dataset,rand_cv)"
   ]
  },
  {
   "cell_type": "code",
   "execution_count": null,
   "metadata": {
    "colab": {
     "base_uri": "https://localhost:8080/"
    },
    "id": "roWHO0Nh15rG",
    "outputId": "fde4113c-85f8-4326-93ee-f8f5e95c3cf5"
   },
   "outputs": [
    {
     "name": "stdout",
     "output_type": "stream",
     "text": [
      "Fitting 5 folds for each of 10 candidates, totalling 50 fits\n",
      "Epoch 1/20\n",
      "13/13 [==============================] - 1s 910us/step - loss: 11.3160 - mse: 8.3123\n",
      "Epoch 2/20\n",
      "13/13 [==============================] - 0s 951us/step - loss: 11.0893 - mse: 8.0965\n",
      "Epoch 3/20\n",
      "13/13 [==============================] - 0s 909us/step - loss: 10.6167 - mse: 7.6334\n",
      "Epoch 4/20\n",
      "13/13 [==============================] - 0s 868us/step - loss: 9.9561 - mse: 6.9814\n",
      "Epoch 5/20\n",
      "13/13 [==============================] - 0s 909us/step - loss: 10.2359 - mse: 7.2690\n",
      "Epoch 6/20\n",
      "13/13 [==============================] - 0s 951us/step - loss: 9.6038 - mse: 6.6439\n",
      "Epoch 7/20\n",
      "13/13 [==============================] - 0s 992us/step - loss: 9.5123 - mse: 6.5596\n",
      "Epoch 8/20\n",
      "13/13 [==============================] - 0s 951us/step - loss: 9.5974 - mse: 6.6522\n",
      "Epoch 9/20\n",
      "13/13 [==============================] - 0s 909us/step - loss: 8.5534 - mse: 5.6160\n",
      "Epoch 10/20\n",
      "13/13 [==============================] - 0s 992us/step - loss: 8.9496 - mse: 6.0200\n",
      "Epoch 11/20\n",
      "13/13 [==============================] - 0s 951us/step - loss: 9.4009 - mse: 6.4793\n",
      "Epoch 12/20\n",
      "13/13 [==============================] - 0s 951us/step - loss: 8.4955 - mse: 5.5820\n",
      "Epoch 13/20\n",
      "13/13 [==============================] - 0s 909us/step - loss: 8.9196 - mse: 6.0144\n",
      "Epoch 14/20\n",
      "13/13 [==============================] - 0s 909us/step - loss: 8.6549 - mse: 5.7581\n",
      "Epoch 15/20\n",
      "13/13 [==============================] - 0s 1ms/step - loss: 8.5193 - mse: 5.6310\n",
      "Epoch 16/20\n",
      "13/13 [==============================] - 0s 1ms/step - loss: 9.1211 - mse: 6.2413\n",
      "Epoch 17/20\n",
      "13/13 [==============================] - 0s 1ms/step - loss: 9.0276 - mse: 6.1564\n",
      "Epoch 18/20\n",
      "13/13 [==============================] - 0s 992us/step - loss: 8.7009 - mse: 5.8383\n",
      "Epoch 19/20\n",
      "13/13 [==============================] - 0s 1ms/step - loss: 8.2814 - mse: 5.4275\n",
      "Epoch 20/20\n",
      "13/13 [==============================] - 0s 992us/step - loss: 8.5441 - mse: 5.6989\n",
      "R2-test-fit: -5.906700291775987\n",
      "Epoch 1/20\n",
      "9/9 [==============================] - 1s 1ms/step - loss: 11.1324 - mse: 8.1318\n",
      "Epoch 2/20\n",
      "9/9 [==============================] - 0s 992us/step - loss: 10.1812 - mse: 7.1846\n",
      "Epoch 3/20\n",
      "9/9 [==============================] - 0s 930us/step - loss: 9.5802 - mse: 6.5870\n",
      "Epoch 4/20\n",
      "9/9 [==============================] - 0s 992us/step - loss: 9.5750 - mse: 6.5852\n",
      "Epoch 5/20\n",
      "9/9 [==============================] - 0s 1ms/step - loss: 9.4854 - mse: 6.4997\n",
      "Epoch 6/20\n",
      "9/9 [==============================] - 0s 992us/step - loss: 8.5820 - mse: 5.6008\n",
      "Epoch 7/20\n",
      "9/9 [==============================] - 0s 992us/step - loss: 9.7983 - mse: 6.8218\n",
      "Epoch 8/20\n",
      "9/9 [==============================] - 0s 992us/step - loss: 9.0620 - mse: 6.0906\n",
      "Epoch 9/20\n",
      "9/9 [==============================] - 0s 992us/step - loss: 8.8539 - mse: 5.8877\n",
      "Epoch 10/20\n",
      "9/9 [==============================] - 0s 992us/step - loss: 9.4621 - mse: 6.5013\n",
      "Epoch 11/20\n",
      "9/9 [==============================] - 0s 992us/step - loss: 9.1024 - mse: 6.1471\n",
      "Epoch 12/20\n",
      "9/9 [==============================] - 0s 1ms/step - loss: 9.2713 - mse: 6.3217\n",
      "Epoch 13/20\n",
      "9/9 [==============================] - 0s 992us/step - loss: 9.3361 - mse: 6.3922\n",
      "Epoch 14/20\n",
      "9/9 [==============================] - 0s 1ms/step - loss: 9.6125 - mse: 6.6744\n",
      "Epoch 15/20\n",
      "9/9 [==============================] - 0s 989us/step - loss: 9.5494 - mse: 6.6171\n",
      "Epoch 16/20\n",
      "9/9 [==============================] - 0s 1ms/step - loss: 9.2961 - mse: 6.3698\n",
      "Epoch 17/20\n",
      "9/9 [==============================] - 0s 1ms/step - loss: 9.6699 - mse: 6.7494\n",
      "Epoch 18/20\n",
      "9/9 [==============================] - 0s 930us/step - loss: 8.5868 - mse: 5.6723\n",
      "Epoch 19/20\n",
      "9/9 [==============================] - 0s 992us/step - loss: 9.2360 - mse: 6.3274\n",
      "Epoch 20/20\n",
      "9/9 [==============================] - 0s 1ms/step - loss: 8.6890 - mse: 5.7864\n",
      "5/5 [==============================] - 0s 993us/step - loss: 8.3827 - mse: 5.4847\n",
      "R2-test -8.382675170898438\n",
      "5/5 [==============================] - 0s 868us/step\n",
      "MSE-test 5.484680984897574\n",
      "Best params: {'output_shape': 1, 'nn3': 15, 'nn2': 40, 'nn1': 50, 'nl3': 1, 'nl2': 3, 'nl1': 1, 'lr': 0.001, 'l2': 0.001, 'l1': 0.003, 'input_shape': 20, 'dropout': 0.3, 'decay': 1e-09, 'act': 'relu'}\n"
     ]
    },
    {
     "data": {
      "text/plain": [
       "['actq3_lab1',\n",
       " 'actq1_lab1',\n",
       " 'mean(qmsr$_lab1)',\n",
       " 'rtr_lab1',\n",
       " 'cer_lab1',\n",
       " 'actq3_lab2',\n",
       " 'actq1_lab2',\n",
       " 'mean(qavt$_lab2)',\n",
       " 'avgtime_lab2',\n",
       " 'rt_lab2',\n",
       " 'rt_lab3',\n",
       " 'actq1_lab3',\n",
       " 'ut_lab3',\n",
       " 'mean(qact$_lab3)',\n",
       " 'cer_lab3',\n",
       " 'rt_lab4',\n",
       " 'cer_lab4',\n",
       " 'err_lab4',\n",
       " 'actq1_lab4',\n",
       " 'mean(qc$_lab4)']"
      ]
     },
     "execution_count": 46,
     "metadata": {
      "tags": []
     },
     "output_type": "execute_result"
    }
   ],
   "source": [
    "dataset = datalab1[[TARGET] + selected_features_ann_1].join(datalab2[selected_features_ann_2]).join(datalab3[selected_features_ann_3]).join(datalab4[selected_features_ann_4])\n",
    "run_process(dataset,rand_cv)"
   ]
  },
  {
   "cell_type": "code",
   "execution_count": null,
   "metadata": {
    "colab": {
     "base_uri": "https://localhost:8080/"
    },
    "id": "U6-rmO6415zQ",
    "outputId": "015f47e5-c921-4885-e18f-149b58e7490f"
   },
   "outputs": [
    {
     "name": "stdout",
     "output_type": "stream",
     "text": [
      "Fitting 5 folds for each of 10 candidates, totalling 50 fits\n",
      "Epoch 1/20\n",
      "13/13 [==============================] - 1s 992us/step - loss: 9.7804 - mse: 7.3625\n",
      "Epoch 2/20\n",
      "13/13 [==============================] - 0s 992us/step - loss: 8.9935 - mse: 6.5839\n",
      "Epoch 3/20\n",
      "13/13 [==============================] - 0s 951us/step - loss: 9.1002 - mse: 6.6971\n",
      "Epoch 4/20\n",
      "13/13 [==============================] - 0s 1ms/step - loss: 8.8673 - mse: 6.4717\n",
      "Epoch 5/20\n",
      "13/13 [==============================] - 0s 992us/step - loss: 8.0714 - mse: 5.6844\n",
      "Epoch 6/20\n",
      "13/13 [==============================] - 0s 992us/step - loss: 8.4671 - mse: 6.0896\n",
      "Epoch 7/20\n",
      "13/13 [==============================] - 0s 992us/step - loss: 8.5579 - mse: 6.1905\n",
      "Epoch 8/20\n",
      "13/13 [==============================] - 0s 1ms/step - loss: 8.2968 - mse: 5.9401\n",
      "Epoch 9/20\n",
      "13/13 [==============================] - 0s 1ms/step - loss: 8.1501 - mse: 5.8041\n",
      "Epoch 10/20\n",
      "13/13 [==============================] - 0s 1ms/step - loss: 8.2848 - mse: 5.9497\n",
      "Epoch 11/20\n",
      "13/13 [==============================] - 0s 992us/step - loss: 8.6734 - mse: 6.3491\n",
      "Epoch 12/20\n",
      "13/13 [==============================] - 0s 1ms/step - loss: 7.9757 - mse: 5.6623\n",
      "Epoch 13/20\n",
      "13/13 [==============================] - 0s 992us/step - loss: 8.3071 - mse: 6.0047\n",
      "Epoch 14/20\n",
      "13/13 [==============================] - 0s 1ms/step - loss: 8.2266 - mse: 5.9353\n",
      "Epoch 15/20\n",
      "13/13 [==============================] - 0s 1ms/step - loss: 7.8791 - mse: 5.5990\n",
      "Epoch 16/20\n",
      "13/13 [==============================] - 0s 1ms/step - loss: 8.1476 - mse: 5.8787\n",
      "Epoch 17/20\n",
      "13/13 [==============================] - 0s 1ms/step - loss: 8.0553 - mse: 5.7974\n",
      "Epoch 18/20\n",
      "13/13 [==============================] - 0s 1ms/step - loss: 8.4929 - mse: 6.2461\n",
      "Epoch 19/20\n",
      "13/13 [==============================] - 0s 1ms/step - loss: 8.3042 - mse: 6.0684\n",
      "Epoch 20/20\n",
      "13/13 [==============================] - 0s 951us/step - loss: 8.0676 - mse: 5.8428\n",
      "R2-test-fit: -5.920223681986343\n",
      "Epoch 1/20\n",
      "9/9 [==============================] - 1s 992us/step - loss: 9.7346 - mse: 7.2821\n",
      "Epoch 2/20\n",
      "9/9 [==============================] - 0s 930us/step - loss: 9.3121 - mse: 6.8658\n",
      "Epoch 3/20\n",
      "9/9 [==============================] - 0s 992us/step - loss: 9.0647 - mse: 6.6236\n",
      "Epoch 4/20\n",
      "9/9 [==============================] - 0s 1ms/step - loss: 8.9235 - mse: 6.4872\n",
      "Epoch 5/20\n",
      "9/9 [==============================] - 0s 992us/step - loss: 8.5808 - mse: 6.1495\n",
      "Epoch 6/20\n",
      "9/9 [==============================] - 0s 991us/step - loss: 8.5496 - mse: 6.1240\n",
      "Epoch 7/20\n",
      "9/9 [==============================] - 0s 1ms/step - loss: 8.2622 - mse: 5.8427\n",
      "Epoch 8/20\n",
      "9/9 [==============================] - 0s 1ms/step - loss: 8.1736 - mse: 5.7607\n",
      "Epoch 9/20\n",
      "9/9 [==============================] - 0s 1ms/step - loss: 7.6371 - mse: 5.2312\n",
      "Epoch 10/20\n",
      "9/9 [==============================] - 0s 1ms/step - loss: 8.0951 - mse: 5.6962\n",
      "Epoch 11/20\n",
      "9/9 [==============================] - 0s 1ms/step - loss: 8.1210 - mse: 5.7294\n",
      "Epoch 12/20\n",
      "9/9 [==============================] - 0s 1ms/step - loss: 8.4693 - mse: 6.0852\n",
      "Epoch 13/20\n",
      "9/9 [==============================] - 0s 992us/step - loss: 8.5438 - mse: 6.1671\n",
      "Epoch 14/20\n",
      "9/9 [==============================] - 0s 1ms/step - loss: 7.9234 - mse: 5.5542\n",
      "Epoch 15/20\n",
      "9/9 [==============================] - 0s 1ms/step - loss: 7.7750 - mse: 5.4135\n",
      "Epoch 16/20\n",
      "9/9 [==============================] - 0s 1ms/step - loss: 8.2686 - mse: 5.9147\n",
      "Epoch 17/20\n",
      "9/9 [==============================] - 0s 992us/step - loss: 8.3260 - mse: 5.9798\n",
      "Epoch 18/20\n",
      "9/9 [==============================] - 0s 1ms/step - loss: 8.5027 - mse: 6.1643\n",
      "Epoch 19/20\n",
      "9/9 [==============================] - 0s 1ms/step - loss: 8.4847 - mse: 6.1540\n",
      "Epoch 20/20\n",
      "9/9 [==============================] - 0s 1ms/step - loss: 8.1207 - mse: 5.7978\n",
      "5/5 [==============================] - 0s 868us/step - loss: 8.5503 - mse: 6.2333\n",
      "R2-test -8.550341606140137\n",
      "5/5 [==============================] - 0s 744us/step\n",
      "MSE-test 6.233280008722865\n",
      "Best params: {'output_shape': 1, 'nn3': 5, 'nn2': 70, 'nn1': 50, 'nl3': 0, 'nl2': 3, 'nl1': 1, 'lr': 0.001, 'l2': 0.01, 'l1': 0.0001, 'input_shape': 20, 'dropout': 0.2, 'decay': 0, 'act': 'relu'}\n"
     ]
    },
    {
     "data": {
      "text/plain": [
       "['actq3_lab1',\n",
       " 'actq1_lab1',\n",
       " 'mean(qmsr$_lab1)',\n",
       " 'rtr_lab1',\n",
       " 'cer_lab1',\n",
       " 'actq3_lab2',\n",
       " 'actq1_lab2',\n",
       " 'mean(qavt$_lab2)',\n",
       " 'avgtime_lab2',\n",
       " 'rt_lab2',\n",
       " 'rt_lab3',\n",
       " 'actq1_lab3',\n",
       " 'ut_lab3',\n",
       " 'mean(qact$_lab3)',\n",
       " 'cer_lab3',\n",
       " 'rt_lab4',\n",
       " 'cer_lab4',\n",
       " 'err_lab4',\n",
       " 'actq1_lab4',\n",
       " 'mean(qc$_lab4)']"
      ]
     },
     "execution_count": 47,
     "metadata": {
      "tags": []
     },
     "output_type": "execute_result"
    }
   ],
   "source": [
    "dataset = datalab1[[TARGET] + selected_features_ann_1].join(datalab2[selected_features_ann_2]).join(datalab3[selected_features_ann_3]).join(datalab4[selected_features_ann_4])\n",
    "run_process(dataset,rand_cv)"
   ]
  }
 ],
 "metadata": {
  "colab": {
   "collapsed_sections": [],
   "name": "consoleUMDU - modelos x.ipynb",
   "provenance": []
  },
  "kernelspec": {
   "display_name": "Python 3",
   "language": "python",
   "name": "python3"
  },
  "language_info": {
   "codemirror_mode": {
    "name": "ipython",
    "version": 3
   },
   "file_extension": ".py",
   "mimetype": "text/x-python",
   "name": "python",
   "nbconvert_exporter": "python",
   "pygments_lexer": "ipython3",
   "version": "3.8.5"
  }
 },
 "nbformat": 4,
 "nbformat_minor": 1
}

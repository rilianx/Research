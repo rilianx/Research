{
 "cells": [
  {
   "cell_type": "code",
   "execution_count": 5,
   "metadata": {},
   "outputs": [],
   "source": [
    "import numpy as np\n",
    "import matplotlib.pyplot as plt\n",
    "from PIL import Image as im \n",
    "\n",
    "def D(dose_vector, x=95): return dose_vector[int(len(dose_vector)*x/100)]\n",
    "def Dmax(dose_vector): return np.max(dose_vector)\n",
    "def Dmin(dose_vector): return np.min(dose_vector)\n",
    "def Dmean(dose_vector): return np.mean(dose_vector)\n",
    "def Dstd(dose_vector): return np.std(dose_vector)\n",
    "def V(dose_vector, dose=0.95*76): return np.argmax(dose_vector < dose)/len(dose_vector)\n",
    "def HI(dose_vector, ref=76.0): return (D(dose_vector, x=5)-D(dose_vector, x=95))/ref"
   ]
  },
  {
   "cell_type": "code",
   "execution_count": 6,
   "metadata": {},
   "outputs": [],
   "source": [
    "import json\n",
    "f = open('output.json')\n",
    "dose_vectors = json.load(f)[\"fmos\"]\n",
    "for i in range(len(dose_vectors)):\n",
    "    dose_vectors[i] = np.array(dose_vectors[i])\n",
    "    dose_vectors[i][::-1].sort()\n",
    "f.close()\n",
    "\n",
    "def show_dvh(dose_vectors):\n",
    "    dose_vectors[0][::-1].sort()\n",
    "    index0 = (np.arange(len(dose_vectors[0]))+1)/len(dose_vectors[0])\n",
    "    dose_vectors[1][::-1].sort()\n",
    "    index1 = (np.arange(len(dose_vectors[1]))+1)/len(dose_vectors[1])\n",
    "    dose_vectors[2][::-1].sort()\n",
    "    index2 = (np.arange(len(dose_vectors[2]))+1)/len(dose_vectors[2])\n",
    "    plt.xlabel('dosis')\n",
    "    plt.ylabel('proporción de voxels')\n",
    "    plt.plot(dose_vectors[0], index0, '-' , dose_vectors[1], index1, '-' ,dose_vectors[2], index2, '-')\n",
    "    plt.axvline(x=65, color='r', linestyle='--')\n",
    "    plt.axvline(x=76, color='r', linestyle='--')\n",
    "    plt.legend(['organ1', 'organ2', 'tumor'], loc='best')\n",
    "    plt.show()\n"
   ]
  },
  {
   "cell_type": "code",
   "execution_count": 7,
   "metadata": {},
   "outputs": [
    {
     "name": "stdout",
     "output_type": "stream",
     "text": [
      "          D10(75)    D20(70)    D25(65)    D30(60)    D50(50)    Dmax(77.5)    D20(75)    D30(65)    D50(50)    Dmax(85.8)    D95(76)    D99(69.9)\n",
      "------  ---------  ---------  ---------  ---------  ---------  ------------  ---------  ---------  ---------  ------------  ---------  -----------\n",
      "values    79.6121    69.8775    64.8623    60.5861    45.5139       82.6786    72.9094    66.5634    55.7259       84.9263    72.2409      69.3337\n"
     ]
    },
    {
     "data": {
      "image/png": "[encoded data removed]",
      "text/plain": [
       "<Figure size 432x288 with 1 Axes>"
      ]
     },
     "metadata": {
      "needs_background": "light"
     },
     "output_type": "display_data"
    },
    {
     "name": "stdout",
     "output_type": "stream",
     "text": [
      "gs: 0.1603377842157574\n"
     ]
    }
   ],
   "source": [
    "table = [[\"values\"]]\n",
    "\n",
    "D10_0 = D(dose_vectors[0],x=10)\n",
    "D20_0 = D(dose_vectors[0],x=20)\n",
    "D25_0 = D(dose_vectors[0],x=25)\n",
    "D30_0 = D(dose_vectors[0],x=30)\n",
    "D50_0 = D(dose_vectors[0],x=50)\n",
    "Dmax_1 = Dmax(dose_vectors[1])\n",
    "D20_1 = D(dose_vectors[1],x=20)\n",
    "D30_1 = D(dose_vectors[1],x=30)\n",
    "D50_1 = D(dose_vectors[1],x=50)\n",
    "Dmax_2 = Dmax(dose_vectors[2])\n",
    "D95_2 = D(dose_vectors[2],x=95)\n",
    "D99_2 = D(dose_vectors[2],x=99)\n",
    "\n",
    "table[0].append(D10_0)\n",
    "table[0].append(D20_0)\n",
    "table[0].append(D25_0)\n",
    "table[0].append(D30_0)\n",
    "table[0].append(D50_0)\n",
    "table[0].append(Dmax_1)\n",
    "table[0].append(D20_1)\n",
    "table[0].append(D30_1)\n",
    "table[0].append(D50_1)\n",
    "table[0].append(Dmax_2)\n",
    "table[0].append(D95_2)\n",
    "table[0].append(D99_2)\n",
    "\n",
    "from tabulate import tabulate\n",
    "print(tabulate(table, headers=['D10(75)', 'D20(70)', 'D25(65)', 'D30(60)', 'D50(50)', 'Dmax(77.5)', 'D20(75)', 'D30(65)', 'D50(50)', 'Dmax(85.8)','D95(76)', 'D99(69.9)']))\n",
    "\n",
    "show_dvh(dose_vectors)\n",
    "\n",
    "gs = 0.05*(np.maximum(D10_0/75,1)) + 0.05*(np.maximum(D20_0/70,1)) + 0.05*(np.maximum(D25_0/65,1)) + 0.05*(np.maximum(D30_0/60,1)) + 0.05*(np.maximum(D50_0/50,1)) + \\\n",
    "    0.0825*(np.maximum(Dmax_1/77.5,1)) + 0.0825*(np.maximum(D20_1/75,1)) + 0.0825*(np.maximum(D30_1/65,1)) + 0.0825*(np.maximum(D50_1/50,1)) + 0.05*(np.maximum(D50_0/50,1)) + \\\n",
    "    0.1666*(np.maximum(76/D95_2,1)) + 0.1666*(np.maximum(69.9/D99_2,1)) + 0.1666*(np.maximum(Dmax_2/85.8,1))-1\n",
    "print(\"gs:\",gs)"
   ]
  },
  {
   "cell_type": "code",
   "execution_count": null,
   "metadata": {},
   "outputs": [],
   "source": []
  }
 ],
 "metadata": {
  "kernelspec": {
   "display_name": "Python 3",
   "language": "python",
   "name": "python3"
  },
  "language_info": {
   "codemirror_mode": {
    "name": "ipython",
    "version": 3
   },
   "file_extension": ".py",
   "mimetype": "text/x-python",
   "name": "python",
   "nbconvert_exporter": "python",
   "pygments_lexer": "ipython3",
   "version": "3.7.3"
  }
 },
 "nbformat": 4,
 "nbformat_minor": 4
}

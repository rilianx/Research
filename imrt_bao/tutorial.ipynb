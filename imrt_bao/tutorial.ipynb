{
 "cells": [
  {
   "cell_type": "markdown",
   "metadata": {},
   "source": [
    "IMRT Beam Angle Optimization\n",
    "==\n",
    "Usando como base el solver `DAO_ILS`, la idea es crear un algoritmo que permita encontrar los mejores ángulos para realizar el tratamiento."
   ]
  },
  {
   "cell_type": "markdown",
   "metadata": {},
   "source": [
    "---\n",
    "**Carga de librerías y conexión SSH**"
   ]
  },
  {
   "cell_type": "code",
   "execution_count": 2,
   "metadata": {},
   "outputs": [],
   "source": [
    "import paramiko\n",
    "import getpass\n",
    "import numpy as np\n",
    "import imrt"
   ]
  },
  {
   "cell_type": "code",
   "execution_count": 3,
   "metadata": {},
   "outputs": [
    {
     "name": "stdin",
     "output_type": "stream",
     "text": [
      "login: iaraya\n",
      "pass: ········\n"
     ]
    }
   ],
   "source": [
    "ssh = imrt.connect(\"158.251.88.197\")"
   ]
  },
  {
   "cell_type": "markdown",
   "metadata": {},
   "source": [
    "----\n",
    "Constructor imrt\n",
    "---\n",
    "\n",
    "Se carga la instancia remotamente generando las estructuras necesarias para ser usada. `max_voxels` es la cantidad máxima de voxels que se usa para representar un órgano. Limitar la cantidad permite probar los algoritmos más rápidamente.\n",
    "\n",
    "Además carga localmente información de las instancias:\n",
    "\n",
    "* cantidad de voxels por órgano (`nvoxels`)\n",
    "* lista de ángulos (`angles`)\n",
    "* cantidad de beamlets y valid shapes por ángulos (`angle2nbeamlets`)"
   ]
  },
  {
   "cell_type": "code",
   "execution_count": 4,
   "metadata": {},
   "outputs": [
    {
     "name": "stdout",
     "output_type": "stream",
     "text": [
      "killall DAO_ILS; /home/iaraya/imrt/DAO_ILS --files-dep=data/Equidistantes/equidist.txt --file-coord=data/Equidistantes/equidist-coord.txt --tabu-size=200 --seed=3 --min_impr=0.05 --vsize=0.002 --max_voxels=500 --path=/home/iaraya/imrt\n",
      "ready\n",
      "\n"
     ]
    }
   ],
   "source": [
    "instance = imrt.imrt(\"/home/iaraya/imrt\", [\"data/Equidistantes/equidist.txt\", \"data/Equidistantes/equidist-coord.txt\"], ssh, max_voxels=500)"
   ]
  },
  {
   "cell_type": "markdown",
   "metadata": {},
   "source": [
    "----\n",
    "init_fluence_map\n",
    "--\n",
    "\n",
    "Carga el fluence map con el BAC (beam angle configuration) asociado.\n",
    "Retorna la evaluación correspondiente."
   ]
  },
  {
   "cell_type": "code",
   "execution_count": 5,
   "metadata": {},
   "outputs": [
    {
     "name": "stdout",
     "output_type": "stream",
     "text": [
      "echo init_fluence_map 4 0 175 245 315  | netcat localhost 8080\n"
     ]
    },
    {
     "data": {
      "text/plain": [
       "28880.0"
      ]
     },
     "execution_count": 5,
     "metadata": {},
     "output_type": "execute_result"
    }
   ],
   "source": [
    "instance.init_fluence_map(fluence_map=[], bac=[0, 175, 245, 315])"
   ]
  },
  {
   "cell_type": "markdown",
   "metadata": {},
   "source": [
    "----\n",
    "iterated_local_search (`DAO_ILS`)\n",
    "---\n",
    "\n",
    "Realiza una búsqueda local usando dos vecindarios y retorna la evaluación de la solución encontrada (y la cantidad de iteraciones realizada). Usa los siguientes tipos de movimiento:\n",
    "\n",
    "* *beam_intensity move*: modifica un beamlet de un fluence map matrix (existe la opción *targeted* para ordenar los movimientos)\n",
    "* *level_intensity move*: modifica un nivel de intensidad de la matriz"
   ]
  },
  {
   "cell_type": "code",
   "execution_count": 6,
   "metadata": {},
   "outputs": [
    {
     "data": {
      "text/plain": [
       "(37.6712, 3622)"
      ]
     },
     "execution_count": 6,
     "metadata": {},
     "output_type": "execute_result"
    }
   ],
   "source": [
    "instance.iterated_local_search()"
   ]
  },
  {
   "cell_type": "markdown",
   "metadata": {},
   "source": [
    "----\n",
    "get_fluence_map\n",
    "--\n",
    "Retorna la solución del problema (fluence map vector)"
   ]
  },
  {
   "cell_type": "code",
   "execution_count": 24,
   "metadata": {},
   "outputs": [
    {
     "data": {
      "text/plain": [
       "array([10,  3,  3, 10,  9,  9,  3,  1,  1, 10, 10,  9,  9,  9,  9,  8,  1,\n",
       "        1,  7, 10,  9,  9,  9,  8,  7,  3,  0, 10, 10,  9,  9,  9,  8,  8,\n",
       "        8,  1,  9, 10, 10, 10,  9,  9,  9,  9,  0, 10, 10, 10, 10, 10, 10,\n",
       "       10,  3,  0,  8, 10, 10, 10, 10, 10,  7,  3, 10, 10,  9,  3,  0,  0,\n",
       "        1,  3])"
      ]
     },
     "execution_count": 24,
     "metadata": {},
     "output_type": "execute_result"
    }
   ],
   "source": [
    "fm = instance.get_fluence_map()\n",
    "fm[0]"
   ]
  },
  {
   "cell_type": "markdown",
   "metadata": {},
   "source": [
    "----\n",
    "fm2matrix\n",
    "--\n",
    "\n",
    "Obtiene la matriz de intensidades de un ángulo a partir del *fluence map vector*."
   ]
  },
  {
   "cell_type": "code",
   "execution_count": 25,
   "metadata": {},
   "outputs": [],
   "source": [
    "Y = instance.fm2matrix(fm[0], 0)"
   ]
  },
  {
   "cell_type": "markdown",
   "metadata": {},
   "source": [
    "En el siguiente ejemplo se grafica la matriz de intensidades para cada ángulo en el bac."
   ]
  },
  {
   "cell_type": "code",
   "execution_count": 10,
   "metadata": {},
   "outputs": [
    {
     "data": {
      "image/png": "[encoded data removed]",
      "text/plain": [
       "<Figure size 1080x720 with 4 Axes>"
      ]
     },
     "metadata": {
      "needs_background": "light"
     },
     "output_type": "display_data"
    }
   ],
   "source": [
    "from matplotlib.pyplot import imshow\n",
    "import matplotlib.pyplot as plt\n",
    "from PIL import Image as im \n",
    "\n",
    "%matplotlib inline\n",
    "fig=plt.figure(figsize=(15, 10))\n",
    "\n",
    "i=1\n",
    "for angle in instance.bac:\n",
    "    array = instance.fm2matrix(fm[i-1],angle)\n",
    "    fig.add_subplot(1, len(instance.bac), i)\n",
    "    plt.imshow(array,cmap='gray')\n",
    "    i += 1\n",
    "\n",
    "plt.show()"
   ]
  },
  {
   "cell_type": "markdown",
   "metadata": {},
   "source": [
    "----\n",
    "get_dose_vectors\n",
    "--\n",
    "\n",
    "Retorna un vector de dosis irradiada a cada órgano por la solución (fluence map) actual."
   ]
  },
  {
   "cell_type": "code",
   "execution_count": 11,
   "metadata": {},
   "outputs": [
    {
     "name": "stdout",
     "output_type": "stream",
     "text": [
      "(500,)\n",
      "(500,)\n",
      "(500,)\n"
     ]
    }
   ],
   "source": [
    "dose_vectors = instance.get_dose_vectors()\n",
    "for v in dose_vectors:\n",
    "    print(v.shape)"
   ]
  },
  {
   "cell_type": "markdown",
   "metadata": {},
   "source": [
    "Aquí obtenemos un gráfico que muestra la proporción de voxels (y) que recibe al menos una dosis x.\n",
    "Dosis prescrita para el tumor: 76 \n",
    "Dosis recomendada para los órganos: menos a 65"
   ]
  },
  {
   "cell_type": "code",
   "execution_count": 23,
   "metadata": {},
   "outputs": [
    {
     "data": {
      "text/plain": [
       "<matplotlib.legend.Legend at 0x17bb943dc18>"
      ]
     },
     "execution_count": 23,
     "metadata": {},
     "output_type": "execute_result"
    },
    {
     "data": {
      "image/png": "[encoded data removed]",
      "text/plain": [
       "<Figure size 432x288 with 1 Axes>"
      ]
     },
     "metadata": {
      "needs_background": "light"
     },
     "output_type": "display_data"
    }
   ],
   "source": [
    "dose_vectors[0][::-1].sort()\n",
    "index0 = (np.arange(len(dose_vectors[0]))+1)/len(dose_vectors[0])\n",
    "dose_vectors[1][::-1].sort()\n",
    "index1 = (np.arange(len(dose_vectors[1]))+1)/len(dose_vectors[1])\n",
    "dose_vectors[2][::-1].sort()\n",
    "index2 = (np.arange(len(dose_vectors[2]))+1)/len(dose_vectors[2])\n",
    "plt.xlabel('dosis')\n",
    "plt.ylabel('proporción de voxels')\n",
    "plt.axvline(x=65, color='r', linestyle='--')\n",
    "plt.axvline(x=76, color='r', linestyle='--')\n",
    "plt.plot(dose_vectors[0], index0, '-' , dose_vectors[1], index1, '-' ,dose_vectors[2], index2, '-')\n",
    "plt.legend(['organ1', 'organ2', 'tumor'], loc='best')"
   ]
  },
  {
   "cell_type": "markdown",
   "metadata": {},
   "source": [
    "---\n",
    "Otras funcionalidades\n",
    "---\n",
    "\n",
    "**matrix2fm**\n",
    "\n",
    "Pasa una matrix a fluence_map asociado a un ángulo.\n",
    "\n",
    "Note que si el angulo es distinto al original, el resultado puede no ser válido."
   ]
  },
  {
   "cell_type": "code",
   "execution_count": 29,
   "metadata": {},
   "outputs": [
    {
     "data": {
      "image/png": "[encoded data removed]",
      "text/plain": [
       "<Figure size 720x720 with 2 Axes>"
      ]
     },
     "metadata": {
      "needs_background": "light"
     },
     "output_type": "display_data"
    }
   ],
   "source": [
    "fig=plt.figure(figsize=(10, 10))\n",
    "\n",
    "\n",
    "array = instance.fm2matrix(fm[0],0)\n",
    "fig.add_subplot(1, 2, 1)\n",
    "plt.imshow(array,cmap='gray')\n",
    "\n",
    "fm_new = instance.matrix2fm(Y, 5) # ángulo original es 0 y cambió a 5\n",
    "array = instance.fm2matrix(fm_new,5)\n",
    "fig.add_subplot(1, 2, 2)\n",
    "plt.imshow(array,cmap='gray')\n",
    "\n",
    "plt.show()"
   ]
  },
  {
   "cell_type": "markdown",
   "metadata": {},
   "source": [
    "Para llamar a la función `init_fluence_map` con una lista de fluence maps, tenemos que concatenarlas así `np.concatenate(tuple(fluence_maps)`"
   ]
  },
  {
   "cell_type": "code",
   "execution_count": 30,
   "metadata": {},
   "outputs": [
    {
     "name": "stdout",
     "output_type": "stream",
     "text": [
      "echo init_fluence_map 4 5 175 245 315 10 3 3 10 9 9 3 1 1 10 10 9 9 9 9 8 1 1 7 10 9 9 9 8 7 3 0 10 10 9 9 9 8 8 8 1 9 10 10 10 9 9 9 9 0 10 10 10 10 10 10 10 3 0 8 10 10 10 10 10 7 3 10 10 9 3 0 0 1 3 22 22 22 22 22 22 19 19 19 22 22 22 22 22 22 17 17 22 22 22 19 17 17 17 17 17 22 19 19 17 17 17 17 17 17 19 19 19 17 17 17 17 17 5 22 17 17 17 17 17 17 11 11 11 17 17 17 17 17 22 11 11 22 22 22 19 11 11 22 22 22 19 0 0 10 15 0 0 5 15 0 5 5 12 5 5 5 5 10 10 10 13 10 10 10 10 10 12 12 12 13 15 10 10 10 0 13 13 15 15 15 12 12 12 0 15 15 15 15 15 12 12 12 12 15 15 15 15 15 13 13 5 15 15 15 15 12 12 7 7 14 14 0 0 14 14 10 13 14 10 10 10 7 7 7 13 13 10 10 10 10 10 10 10 13 13 13 13 13 13 13 13 0 13 13 13 14 14 14 14 13 0 14 14 14 14 14 14 14 14 13 14 14 14 14 14 14 14 14 14 14 14 14 | netcat localhost 8080\n"
     ]
    },
    {
     "data": {
      "text/plain": [
       "71.2481"
      ]
     },
     "execution_count": 30,
     "metadata": {},
     "output_type": "execute_result"
    }
   ],
   "source": [
    "instance.init_fluence_map(np.concatenate(tuple(fm)), bac=[5, 175, 245, 315])"
   ]
  },
  {
   "cell_type": "markdown",
   "metadata": {},
   "source": [
    "Note que al comenzar de un buen fluence map para un ángulo vecino, la búsqueda local converge mucho más rápido:"
   ]
  },
  {
   "cell_type": "code",
   "execution_count": 31,
   "metadata": {},
   "outputs": [
    {
     "data": {
      "text/plain": [
       "(38.006, 2911)"
      ]
     },
     "execution_count": 31,
     "metadata": {},
     "output_type": "execute_result"
    }
   ],
   "source": [
    "instance.iterated_local_search()"
   ]
  }
 ],
 "metadata": {
  "kernelspec": {
   "display_name": "Python 3",
   "language": "python",
   "name": "python3"
  },
  "language_info": {
   "codemirror_mode": {
    "name": "ipython",
    "version": 3
   },
   "file_extension": ".py",
   "mimetype": "text/x-python",
   "name": "python",
   "nbconvert_exporter": "python",
   "pygments_lexer": "ipython3",
   "version": "3.7.3"
  }
 },
 "nbformat": 4,
 "nbformat_minor": 4
}

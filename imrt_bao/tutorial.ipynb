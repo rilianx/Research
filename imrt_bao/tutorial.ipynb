{
 "cells": [
  {
   "cell_type": "markdown",
   "metadata": {},
   "source": [
    "IMRT Beam Angle Optimization\n",
    "==\n",
    "Usando como base el solver `DAO_ILS`, la idea es crear un algoritmo que permita encontrar los mejores ángulos para realizar el tratamiento."
   ]
  },
  {
   "cell_type": "markdown",
   "metadata": {},
   "source": [
    "---\n",
    "**Carga de librerías y conexión SSH**"
   ]
  },
  {
   "cell_type": "code",
   "execution_count": 1,
   "metadata": {},
   "outputs": [],
   "source": [
    "import paramiko\n",
    "import getpass\n",
    "import numpy as np\n",
    "import imrt"
   ]
  },
  {
   "cell_type": "code",
   "execution_count": 2,
   "metadata": {},
   "outputs": [
    {
     "name": "stdin",
     "output_type": "stream",
     "text": [
      "login: iaraya\n",
      "pass: ········\n"
     ]
    }
   ],
   "source": [
    "ssh = imrt.connect(\"158.251.88.197\")"
   ]
  },
  {
   "cell_type": "markdown",
   "metadata": {},
   "source": [
    "----\n",
    "Constructor imrt\n",
    "---\n",
    "\n",
    "Se carga la instancia remotamente generando las estructuras necesarias para ser usada. `max_voxels` es la cantidad máxima de voxels que se usa para representar un órgano. Limitar la cantidad permite probar los algoritmos más rápidamente.\n",
    "\n",
    "Además carga localmente información de las instancias:\n",
    "\n",
    "* cantidad de voxels por órgano (`nvoxels`)\n",
    "* lista de ángulos (`angles`)\n",
    "* cantidad de beamlets y valid shapes por ángulos (`angle2nbeamlets`)"
   ]
  },
  {
   "cell_type": "code",
   "execution_count": 3,
   "metadata": {},
   "outputs": [
    {
     "name": "stdout",
     "output_type": "stream",
     "text": [
      "killall DAO_ILS; /home/iaraya/imrt/DAO_ILS --files-dep=data/Equidistantes/equidist.txt --file-coord=data/Equidistantes/equidist-coord.txt --tabu-size=200 --seed=3 --min_impr=0.05 --maxeval=1000 --vsize=0.002 --max_voxels=500 --path=/home/iaraya/imrt --port=8051\n",
      "echo start | netcat localhost 8051\n",
      "ready\n",
      "\n"
     ]
    }
   ],
   "source": [
    "instance = imrt.imrt(\"/home/iaraya/imrt\", [\"data/Equidistantes/equidist.txt\", \"data/Equidistantes/equidist-coord.txt\"], ssh, max_voxels=500, port=8051)"
   ]
  },
  {
   "cell_type": "markdown",
   "metadata": {},
   "source": [
    "----\n",
    "init_fluence_map\n",
    "--\n",
    "\n",
    "Carga el fluence map con el BAC (beam angle configuration) asociado.\n",
    "Retorna la evaluación correspondiente."
   ]
  },
  {
   "cell_type": "code",
   "execution_count": 31,
   "metadata": {},
   "outputs": [
    {
     "name": "stdout",
     "output_type": "stream",
     "text": [
      "echo init_fluence_map 4 0 175 245 315  | netcat localhost 8051\n"
     ]
    },
    {
     "data": {
      "text/plain": [
       "28880.0"
      ]
     },
     "execution_count": 31,
     "metadata": {},
     "output_type": "execute_result"
    }
   ],
   "source": [
    "instance.init_fluence_map(fluence_map=[], bac=[0, 175, 245, 315])"
   ]
  },
  {
   "cell_type": "markdown",
   "metadata": {},
   "source": [
    "----\n",
    "iterated_local_search (`DAO_ILS`)\n",
    "---\n",
    "\n",
    "Realiza una búsqueda local usando dos vecindarios y retorna la evaluación de la solución encontrada (y la cantidad de iteraciones realizada). Usa los siguientes tipos de movimiento:\n",
    "\n",
    "* *beam_intensity move*: modifica un beamlet de un fluence map matrix (existe la opción *targeted* para ordenar los movimientos)\n",
    "* *level_intensity move*: modifica un nivel de intensidad de la matriz"
   ]
  },
  {
   "cell_type": "code",
   "execution_count": 32,
   "metadata": {},
   "outputs": [
    {
     "data": {
      "text/plain": [
       "(122.699, 1000)"
      ]
     },
     "execution_count": 32,
     "metadata": {},
     "output_type": "execute_result"
    }
   ],
   "source": [
    "instance.iterated_local_search(maxeval=1000)"
   ]
  },
  {
   "cell_type": "markdown",
   "metadata": {},
   "source": [
    "----\n",
    "get_fluence_map\n",
    "--\n",
    "Retorna la solución del problema (fluence map vector)"
   ]
  },
  {
   "cell_type": "code",
   "execution_count": 36,
   "metadata": {},
   "outputs": [
    {
     "data": {
      "text/plain": [
       "array([9, 7, 0, 9, 9, 9, 6, 6, 0, 6, 9, 9, 9, 9, 9, 9, 0, 0, 8, 9, 9, 9,\n",
       "       9, 9, 9, 9, 5, 7, 8, 9, 9, 9, 9, 9, 6, 5, 7, 9, 9, 9, 9, 9, 9, 9,\n",
       "       0, 8, 9, 9, 9, 9, 9, 9, 9, 6, 9, 9, 9, 9, 9, 9, 8, 5, 9, 9, 9, 6,\n",
       "       5, 0, 7, 0])"
      ]
     },
     "execution_count": 36,
     "metadata": {},
     "output_type": "execute_result"
    }
   ],
   "source": [
    "fm = instance.get_fluence_map()\n",
    "fm[0]"
   ]
  },
  {
   "cell_type": "markdown",
   "metadata": {},
   "source": [
    "----\n",
    "fm2matrix\n",
    "--\n",
    "\n",
    "Obtiene la matriz de intensidades de un ángulo a partir del *fluence map vector*."
   ]
  },
  {
   "cell_type": "code",
   "execution_count": 37,
   "metadata": {},
   "outputs": [],
   "source": [
    "Y = instance.fm2matrix(fm[0], 0)"
   ]
  },
  {
   "cell_type": "markdown",
   "metadata": {},
   "source": [
    "En el siguiente ejemplo se grafica la matriz de intensidades para cada ángulo en el bac."
   ]
  },
  {
   "cell_type": "code",
   "execution_count": 38,
   "metadata": {},
   "outputs": [
    {
     "data": {
      "image/png": "[encoded data removed]",
      "text/plain": [
       "<Figure size 1080x720 with 4 Axes>"
      ]
     },
     "metadata": {
      "needs_background": "light"
     },
     "output_type": "display_data"
    }
   ],
   "source": [
    "from matplotlib.pyplot import imshow\n",
    "import matplotlib.pyplot as plt\n",
    "from PIL import Image as im \n",
    "\n",
    "%matplotlib inline\n",
    "fig=plt.figure(figsize=(15, 10))\n",
    "\n",
    "i=1\n",
    "for angle in instance.bac:\n",
    "    array = instance.fm2matrix(fm[i-1],angle)\n",
    "    fig.add_subplot(1, len(instance.bac), i)\n",
    "    plt.imshow(array,cmap='gray')\n",
    "    i += 1\n",
    "\n",
    "plt.show()"
   ]
  },
  {
   "cell_type": "markdown",
   "metadata": {},
   "source": [
    "----\n",
    "get_dose_vectors\n",
    "--\n",
    "\n",
    "Retorna un vector de dosis irradiada a cada órgano por la solución (fluence map) actual."
   ]
  },
  {
   "cell_type": "code",
   "execution_count": 39,
   "metadata": {},
   "outputs": [
    {
     "name": "stdout",
     "output_type": "stream",
     "text": [
      "(500,)\n",
      "(500,)\n",
      "(500,)\n"
     ]
    }
   ],
   "source": [
    "dose_vectors = instance.get_dose_vectors()\n",
    "for v in dose_vectors:\n",
    "    print(v.shape)"
   ]
  },
  {
   "cell_type": "markdown",
   "metadata": {},
   "source": [
    "Aquí obtenemos un gráfico que muestra la proporción de voxels (y) que recibe al menos una dosis x.\n",
    "Dosis prescrita para el tumor: 76 \n",
    "Dosis recomendada para los órganos: menos a 65"
   ]
  },
  {
   "cell_type": "code",
   "execution_count": 40,
   "metadata": {},
   "outputs": [
    {
     "data": {
      "text/plain": [
       "<matplotlib.legend.Legend at 0x1c5436fd080>"
      ]
     },
     "execution_count": 40,
     "metadata": {},
     "output_type": "execute_result"
    },
    {
     "data": {
      "image/png": "[encoded data removed]",
      "text/plain": [
       "<Figure size 432x288 with 1 Axes>"
      ]
     },
     "metadata": {
      "needs_background": "light"
     },
     "output_type": "display_data"
    }
   ],
   "source": [
    "dose_vectors[0][::-1].sort()\n",
    "index0 = (np.arange(len(dose_vectors[0]))+1)/len(dose_vectors[0])\n",
    "dose_vectors[1][::-1].sort()\n",
    "index1 = (np.arange(len(dose_vectors[1]))+1)/len(dose_vectors[1])\n",
    "dose_vectors[2][::-1].sort()\n",
    "index2 = (np.arange(len(dose_vectors[2]))+1)/len(dose_vectors[2])\n",
    "plt.xlabel('dosis')\n",
    "plt.ylabel('proporción de voxels')\n",
    "plt.plot(dose_vectors[0], index0, '-' , dose_vectors[1], index1, '-' ,dose_vectors[2], index2, '-')\n",
    "plt.axvline(x=65, color='r', linestyle='--')\n",
    "plt.axvline(x=76, color='r', linestyle='--')\n",
    "plt.legend(['organ1', 'organ2', 'tumor'], loc='best')"
   ]
  },
  {
   "cell_type": "markdown",
   "metadata": {},
   "source": [
    "Indicadores clínicos\n",
    "----\n",
    "\n",
    "- $D_{x}$: Dosis recibida por el x% del tumor/órgano\n",
    "- $D_{max}$: Máxima dosis recibida por el tumor/órgano\n",
    "- $D_{mean}$: Dosis promedio recibida por el tumor/órgano\n",
    "- $V_{x}$: Voxels que reciben al menos x% de la dosis"
   ]
  },
  {
   "cell_type": "code",
   "execution_count": 41,
   "metadata": {},
   "outputs": [
    {
     "name": "stdout",
     "output_type": "stream",
     "text": [
      "D_95 (tumor):  68.023\n",
      "Dmax (organ1):  83.3628\n",
      "Dmean (organ2):  51.5255664\n",
      "V_95 (tumor):  0.288\n"
     ]
    }
   ],
   "source": [
    "def D(dose_vector, x=95): return dose_vector[int(len(dose_vector)*x/100)]\n",
    "def Dmax(dose_vector): return np.max(dose_vector)\n",
    "def Dmean(dose_vector): return np.mean(dose_vector)\n",
    "def V(dose_vector, dose=0.95*76): return np.argmax(dose_vector < dose)/len(dose_vector)\n",
    "\n",
    "print(\"D_95 (tumor): \", D(dose_vectors[2],x=95))\n",
    "print(\"Dmax (organ1): \", Dmax(dose_vectors[0]))\n",
    "print(\"Dmean (organ2): \", Dmean(dose_vectors[1]))\n",
    "print(\"V_95 (tumor): \", V(dose_vectors[2], dose=0.99*76))"
   ]
  },
  {
   "cell_type": "markdown",
   "metadata": {},
   "source": [
    "---\n",
    "Otras funcionalidades\n",
    "---\n",
    "\n",
    "**matrix2fm**\n",
    "\n",
    "Pasa una matrix a fluence_map asociado a un ángulo.\n",
    "\n",
    "Note que si el angulo es distinto al original, el resultado puede no ser válido."
   ]
  },
  {
   "cell_type": "code",
   "execution_count": 45,
   "metadata": {},
   "outputs": [
    {
     "data": {
      "image/png": "[encoded data removed]",
      "text/plain": [
       "<Figure size 720x720 with 2 Axes>"
      ]
     },
     "metadata": {
      "needs_background": "light"
     },
     "output_type": "display_data"
    }
   ],
   "source": [
    "fig=plt.figure(figsize=(10, 10))\n",
    "\n",
    "\n",
    "Y = instance.fm2matrix(fm[0],5)\n",
    "fig.add_subplot(1, 2, 1)\n",
    "plt.imshow(array,cmap='gray')\n",
    "\n",
    "fm_new = instance.matrix2fm(Y, 0) # ángulo original es 0 y cambió a 5\n",
    "fm[0] = fm_new\n",
    "array = instance.fm2matrix(fm_new,5)\n",
    "fig.add_subplot(1, 2, 2)\n",
    "plt.imshow(array,cmap='gray')\n",
    "\n",
    "plt.show()"
   ]
  },
  {
   "cell_type": "markdown",
   "metadata": {},
   "source": [
    "Para llamar a la función `init_fluence_map` con una lista de fluence maps, tenemos que concatenarlas así `np.concatenate(tuple(fluence_maps)`"
   ]
  },
  {
   "cell_type": "code",
   "execution_count": 43,
   "metadata": {},
   "outputs": [
    {
     "name": "stdout",
     "output_type": "stream",
     "text": [
      "echo init_fluence_map 4 5 175 245 315 7 0 9 9 9 6 6 0 6 9 9 9 9 9 9 0 0 8 9 9 9 9 9 9 9 5 7 8 9 9 9 9 9 6 5 7 9 9 9 9 9 9 9 0 8 9 9 9 9 9 9 9 6 9 9 9 9 9 9 8 5 9 9 9 6 5 0 0 7 0 5 17 21 21 21 20 20 17 5 17 21 21 20 17 17 5 5 21 21 21 17 17 17 17 17 0 17 17 17 17 17 20 21 20 17 21 21 21 21 17 17 17 17 0 17 17 17 17 17 17 20 5 5 11 11 11 17 17 20 21 0 0 21 21 20 20 17 17 17 5 0 0 5 5 10 12 12 0 0 0 0 0 5 12 13 13 0 0 14 14 14 12 12 10 5 5 5 10 12 13 13 13 14 14 0 0 5 14 14 10 10 10 10 10 0 14 14 13 13 10 10 10 10 5 5 14 14 14 12 10 10 10 0 10 10 5 0 0 5 10 5 5 0 10 0 0 5 5 15 15 14 14 13 10 5 15 15 15 13 13 10 10 10 10 10 10 10 10 10 10 15 15 10 14 14 15 15 15 14 14 14 10 13 13 13 13 13 13 15 15 10 14 14 14 15 15 15 15 13 14 15 15 15 | netcat localhost 8051\n"
     ]
    },
    {
     "data": {
      "text/plain": [
       "128.493"
      ]
     },
     "execution_count": 43,
     "metadata": {},
     "output_type": "execute_result"
    }
   ],
   "source": [
    "instance.init_fluence_map(np.concatenate(tuple(fm)), bac=[5, 175, 245, 315])"
   ]
  },
  {
   "cell_type": "markdown",
   "metadata": {},
   "source": [
    "Note que al comenzar de un buen fluence map para un ángulo vecino, la búsqueda local converge mucho más rápido:"
   ]
  },
  {
   "cell_type": "code",
   "execution_count": 44,
   "metadata": {},
   "outputs": [
    {
     "data": {
      "text/plain": [
       "(43.2106, 1000)"
      ]
     },
     "execution_count": 44,
     "metadata": {},
     "output_type": "execute_result"
    }
   ],
   "source": [
    "instance.iterated_local_search(maxeval=1000)"
   ]
  },
  {
   "cell_type": "markdown",
   "metadata": {},
   "source": [
    "---\n",
    "**get_deposition_matrix**\n",
    "\n",
    "Sea $M$ una matriz de deposición para un órgano $organ$ y ángulo $angle$.\n",
    "\n",
    "$M[k][b]$ indica la dosis irradiada por un beamlet $b$ del ángulo $angle$ en el voxel $k$ del órgano $organ$."
   ]
  },
  {
   "cell_type": "code",
   "execution_count": 15,
   "metadata": {},
   "outputs": [],
   "source": [
    "M = instance.get_deposition_matrix(2, 0)"
   ]
  },
  {
   "cell_type": "markdown",
   "metadata": {},
   "source": [
    "Se imprimen la dosis a los voxels vs los beamlets (se ordenan los beamlets desde el que causa mayor impacto)"
   ]
  },
  {
   "cell_type": "code",
   "execution_count": 16,
   "metadata": {},
   "outputs": [
    {
     "data": {
      "text/plain": [
       "<matplotlib.image.AxesImage at 0x190c4cd4b00>"
      ]
     },
     "execution_count": 16,
     "metadata": {},
     "output_type": "execute_result"
    },
    {
     "data": {
      "image/png": "[encoded data removed]",
      "text/plain": [
       "<Figure size 432x288 with 1 Axes>"
      ]
     },
     "metadata": {
      "needs_background": "light"
     },
     "output_type": "display_data"
    }
   ],
   "source": [
    "import matplotlib.pyplot as plt\n",
    "%matplotlib inline\n",
    "\n",
    "plt.ion()\n",
    "plt.imshow(M,interpolation='none', aspect='auto')"
   ]
  },
  {
   "cell_type": "code",
   "execution_count": 17,
   "metadata": {},
   "outputs": [
    {
     "data": {
      "text/plain": [
       "0.00211954"
      ]
     },
     "execution_count": 17,
     "metadata": {},
     "output_type": "execute_result"
    }
   ],
   "source": [
    "M[76,0] # impacto del beamlet 0 en el voxels 76"
   ]
  },
  {
   "cell_type": "code",
   "execution_count": 18,
   "metadata": {},
   "outputs": [
    {
     "data": {
      "text/plain": [
       "array([55, 67, 22, 44, 33, 68, 56, 91, 45, 23, 34, 57, 46, 80, 69, 13, 24,\n",
       "       35, 92, 81], dtype=int64)"
      ]
     },
     "execution_count": 18,
     "metadata": {},
     "output_type": "execute_result"
    }
   ],
   "source": [
    "np.argsort(-M[:,0])[0:20] #voxels más impactado por beamlet 0"
   ]
  },
  {
   "cell_type": "code",
   "execution_count": 19,
   "metadata": {},
   "outputs": [
    {
     "data": {
      "text/plain": [
       "array([22, 31, 23, 32, 30, 21, 13, 14, 24, 39, 12, 15, 50, 34, 25, 11, 43,\n",
       "       52,  7, 26], dtype=int64)"
      ]
     },
     "execution_count": 19,
     "metadata": {},
     "output_type": "execute_result"
    }
   ],
   "source": [
    "np.argsort(-M[76,:])[0:20] #beamlets con mayor impacto en voxel 76"
   ]
  },
  {
   "cell_type": "code",
   "execution_count": null,
   "metadata": {},
   "outputs": [],
   "source": []
  }
 ],
 "metadata": {
  "kernelspec": {
   "display_name": "Python 3",
   "language": "python",
   "name": "python3"
  },
  "language_info": {
   "codemirror_mode": {
    "name": "ipython",
    "version": 3
   },
   "file_extension": ".py",
   "mimetype": "text/x-python",
   "name": "python",
   "nbconvert_exporter": "python",
   "pygments_lexer": "ipython3",
   "version": "3.7.3"
  }
 },
 "nbformat": 4,
 "nbformat_minor": 4
}

{
 "cells": [
  {
   "cell_type": "markdown",
   "metadata": {},
   "source": [
    "Resolviendo problemas de ejemplo\n",
    "===="
   ]
  },
  {
   "cell_type": "markdown",
   "metadata": {},
   "source": [
    "---\n",
    "**Conexión por SSH**"
   ]
  },
  {
   "cell_type": "code",
   "execution_count": 39,
   "metadata": {},
   "outputs": [
    {
     "name": "stdin",
     "output_type": "stream",
     "text": [
      "login: practica\n",
      "pass: ··········\n"
     ]
    }
   ],
   "source": [
    "import ibex\n",
    "ssh = ibex.connect(\"158.251.88.197\")"
   ]
  },
  {
   "cell_type": "markdown",
   "metadata": {},
   "source": [
    "----\n",
    "**Lista de instancias de prueba**"
   ]
  },
  {
   "cell_type": "code",
   "execution_count": 40,
   "metadata": {},
   "outputs": [
    {
     "name": "stdout",
     "output_type": "stream",
     "text": [
      "binh.txt cf3-3.txt cf3-5.txt ctp1-3.txt ctp1-5.txt ctp2-3.txt ctp2-5.txt ctp6-3.txt ctp6-4.txt ctp7-4.txt ctp7-5.txt kim.txt mop-10.txt mop-13.txt mop-7.txt nbi.txt osy.txt sr.txt tan.txt test.txt wb.txt "
     ]
    }
   ],
   "source": [
    "ibex.get_instances(ssh)"
   ]
  },
  {
   "cell_type": "markdown",
   "metadata": {},
   "source": [
    "**Obteniendo soluciones usando Ibex**"
   ]
  },
  {
   "cell_type": "code",
   "execution_count": 47,
   "metadata": {},
   "outputs": [
    {
     "name": "stdout",
     "output_type": "stream",
     "text": [
      "Cargando ibex...\n"
     ]
    },
    {
     "data": {
      "image/png": "[encoded data removed]",
      "text/plain": [
       "<Figure size 432x288 with 1 Axes>"
      ]
     },
     "metadata": {
      "needs_background": "light"
     },
     "output_type": "display_data"
    }
   ],
   "source": [
    "import importlib\n",
    "import matplotlib.pyplot as plt\n",
    "import numpy as np\n",
    "importlib.reload(ibex) #recarga el archivo en caso de modificación\n",
    "\n",
    "%matplotlib inline\n",
    "\n",
    "instance = \"binh.txt\"\n",
    "prec = 10 #precisión para el solver\n",
    "\n",
    "#Aquí se llama al solver\n",
    "y1, y2 = ibex.solve(ssh, instance, prec=prec)\n",
    "\n",
    "#plot\n",
    "plt.plot(y1, y2, 'o', y1, y2, 'r-')\n",
    "plt.show()"
   ]
  },
  {
   "cell_type": "code",
   "execution_count": null,
   "metadata": {},
   "outputs": [],
   "source": []
  }
 ],
 "metadata": {
  "kernelspec": {
   "display_name": "Python 3",
   "language": "python",
   "name": "python3"
  },
  "language_info": {
   "codemirror_mode": {
    "name": "ipython",
    "version": 3
   },
   "file_extension": ".py",
   "mimetype": "text/x-python",
   "name": "python",
   "nbconvert_exporter": "python",
   "pygments_lexer": "ipython3",
   "version": "3.7.3"
  }
 },
 "nbformat": 4,
 "nbformat_minor": 4
}

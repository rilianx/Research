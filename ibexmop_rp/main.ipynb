{
 "cells": [
  {
   "cell_type": "code",
   "execution_count": 1,
   "metadata": {
    "colab": {
     "base_uri": "https://localhost:8080/"
    },
    "executionInfo": {
     "elapsed": 5951,
     "status": "ok",
     "timestamp": 1610117416267,
     "user": {
      "displayName": "kevinpanconqueso",
      "photoUrl": "",
      "userId": "08318052310552365547"
     },
     "user_tz": 180
    },
    "id": "y6OEbqGrGhxE",
    "outputId": "dd3c20fe-db8b-49d6-abaf-c62fc5fc71a4"
   },
   "outputs": [
    {
     "name": "stdout",
     "output_type": "stream",
     "text": [
      "Requirement already satisfied: paramiko in c:\\users\\dell\\anaconda3\\lib\\site-packages (2.7.1)\n",
      "Requirement already satisfied: pynacl>=1.0.1 in c:\\users\\dell\\anaconda3\\lib\\site-packages (from paramiko) (1.3.0)\n",
      "Requirement already satisfied: bcrypt>=3.1.3 in c:\\users\\dell\\anaconda3\\lib\\site-packages (from paramiko) (3.1.7)\n",
      "Requirement already satisfied: cryptography>=2.5 in c:\\users\\dell\\anaconda3\\lib\\site-packages (from paramiko) (2.8)\n",
      "Requirement already satisfied: six in c:\\users\\dell\\anaconda3\\lib\\site-packages (from pynacl>=1.0.1->paramiko) (1.13.0)\n",
      "Requirement already satisfied: cffi>=1.4.1 in c:\\users\\dell\\anaconda3\\lib\\site-packages (from pynacl>=1.0.1->paramiko) (1.13.2)\n",
      "Requirement already satisfied: pycparser in c:\\users\\dell\\anaconda3\\lib\\site-packages (from cffi>=1.4.1->pynacl>=1.0.1->paramiko) (2.19)\n"
     ]
    }
   ],
   "source": [
    "!pip install paramiko"
   ]
  },
  {
   "cell_type": "markdown",
   "metadata": {
    "id": "r6TRy_8aTMa0"
   },
   "source": [
    "Conexión al server mediante SSH"
   ]
  },
  {
   "cell_type": "code",
   "execution_count": 1,
   "metadata": {
    "colab": {
     "base_uri": "https://localhost:8080/"
    },
    "executionInfo": {
     "elapsed": 9674,
     "status": "ok",
     "timestamp": 1610117427854,
     "user": {
      "displayName": "kevinpanconqueso",
      "photoUrl": "",
      "userId": "08318052310552365547"
     },
     "user_tz": 180
    },
    "id": "w9Y9f5XXxVmd",
    "outputId": "dfe46139-0be9-4a3c-e32c-098f0960d5c8"
   },
   "outputs": [
    {
     "name": "stdout",
     "output_type": "stream",
     "text": [
      "Cargando ibex...\n"
     ]
    },
    {
     "name": "stdin",
     "output_type": "stream",
     "text": [
      "login: iaraya\n",
      "pass: ········\n"
     ]
    }
   ],
   "source": [
    "import ibexV2\n",
    "ssh = ibexV2.connect(\"158.251.88.197\")"
   ]
  },
  {
   "cell_type": "markdown",
   "metadata": {
    "id": "8_VNK2gwSxTc"
   },
   "source": [
    "Se obtienen las instancias de prueba"
   ]
  },
  {
   "cell_type": "code",
   "execution_count": 2,
   "metadata": {
    "colab": {
     "base_uri": "https://localhost:8080/"
    },
    "executionInfo": {
     "elapsed": 986,
     "status": "ok",
     "timestamp": 1610117430269,
     "user": {
      "displayName": "kevinpanconqueso",
      "photoUrl": "",
      "userId": "08318052310552365547"
     },
     "user_tz": 180
    },
    "id": "cYiFHR6W5kdk",
    "outputId": "6310bb5c-edbf-4439-ffbb-2d398d3ee72e"
   },
   "outputs": [
    {
     "name": "stdout",
     "output_type": "stream",
     "text": [
      "binh.txt cf3-3.txt cf3-5.txt ctp1-3.txt ctp1-5.txt ctp2-3.txt ctp2-5.txt ctp6-3.txt ctp6-4.txt ctp7-4.txt ctp7-5.txt kim.txt mop-10.txt mop-13.txt mop-7.txt nbi.txt osy.txt sr.txt tan.txt test.txt wb.txt "
     ]
    }
   ],
   "source": [
    "ibexV2.get_instances(ssh)"
   ]
  },
  {
   "cell_type": "markdown",
   "metadata": {
    "id": "tuAcru7hzXPi"
   },
   "source": [
    "Se obtienen las soluciones\r\n"
   ]
  },
  {
   "cell_type": "code",
   "execution_count": 14,
   "metadata": {
    "colab": {
     "base_uri": "https://localhost:8080/",
     "height": 283
    },
    "executionInfo": {
     "elapsed": 1004,
     "status": "ok",
     "timestamp": 1610117432648,
     "user": {
      "displayName": "kevinpanconqueso",
      "photoUrl": "",
      "userId": "08318052310552365547"
     },
     "user_tz": 180
    },
    "id": "QIYGLdQ1ECnT",
    "outputId": "88470b65-4789-4a6f-b478-f115012c8d24"
   },
   "outputs": [
    {
     "name": "stdout",
     "output_type": "stream",
     "text": [
      "Cargando ibex...\n",
      "Se filtraron 1 puntos\n",
      "[  6.42843912   6.42843929   7.57827684   7.57827684   7.57827701\n",
      "  13.17612516  13.17612516  13.17612542  13.42600928  13.42600928\n",
      "  13.65367802  14.95101709  14.95101709  16.32924953  24.3\n",
      "  24.3         29.53864072  32.15926241  32.15926241  37.93889213\n",
      "  37.93889213  37.93889291  45.43813309  49.32594029  53.70403711\n",
      "  53.70403711  53.70403711  56.06655308  59.47396726  59.47396726\n",
      "  79.29199921  79.29199921  88.38426635  97.2         97.2\n",
      " 126.73449463 136.         136.        ] [38.92992642 38.92992642 38.26548323 38.1302341  38.1302341  34.91188488\n",
      " 27.62748998 27.62748998 27.53417825 27.44916209 27.44916209 26.9647092\n",
      " 26.45004908 26.45004908 23.47360816 21.51739278 21.51739278 20.53879915\n",
      " 17.9417644  17.9417644  16.53912993 16.53912993 15.5801978  14.12841123\n",
      " 11.61132893 11.61132893 11.61132883 11.61132883 10.33893082 10.33893072\n",
      " 10.33893072  8.35020325  8.35020325  5.18478567  5.18478557  5.18478557\n",
      "  4.0000001   4.        ]\n",
      "El hipervolumen de la grafica es de 3663.6308127434495\n"
     ]
    },
    {
     "data": {
      "image/png": "[encoded data removed]",
      "text/plain": [
       "<Figure size 432x288 with 1 Axes>"
      ]
     },
     "metadata": {
      "needs_background": "light"
     },
     "output_type": "display_data"
    }
   ],
   "source": [
    "import importlib\n",
    "import matplotlib.pyplot as plt\n",
    "import numpy as np\n",
    "importlib.reload(ibexV2) #recarga el archivo en caso de modificación\n",
    "\n",
    "%matplotlib inline\n",
    "\n",
    "instance = \"binh.txt\"\n",
    "prec = 10 #precisión para el solver\n",
    "\n",
    "#Aquí se llama al solver\n",
    "y1, y2 = ibexV2.solve(ssh, instance, prec=prec)\n",
    "\n",
    "#y1 = np.array([3.53,3.53, 7.85, 13.75, 17.68,  19.26,25.03, 29.16,    36.5   ])\n",
    "#y2 = np.array([24.6, 21.6, 21.6, 19.55, 16.34, 11.56, 9.72, 5.07, 5.07])\n",
    "\n",
    "ibexV2.filtrado_puntos(y1,y2)\n",
    "ibexV2.hipervolumen(y1,y2)\n",
    "\n",
    "#plot\n",
    "plt.plot(y1, y2, 'ro', y1, y2, 'g-')\n",
    "plt.show()"
   ]
  },
  {
   "cell_type": "markdown",
   "metadata": {
    "id": "EttItk6ZyD37"
   },
   "source": [
    "Se reducen los puntos que tienen coordenadas iguales"
   ]
  },
  {
   "cell_type": "markdown",
   "metadata": {
    "id": "5meeBUInziI3"
   },
   "source": [
    "Se calcula la menor area de las soluciones y a que punto corresponde "
   ]
  },
  {
   "cell_type": "code",
   "execution_count": 15,
   "metadata": {
    "colab": {
     "base_uri": "https://localhost:8080/"
    },
    "executionInfo": {
     "elapsed": 2055,
     "status": "ok",
     "timestamp": 1610118327874,
     "user": {
      "displayName": "kevinpanconqueso",
      "photoUrl": "",
      "userId": "08318052310552365547"
     },
     "user_tz": 180
    },
    "id": "zZqDEQ6AzxsY",
    "outputId": "fdc959c2-b140-4461-fec4-f09e380a3950"
   },
   "outputs": [
    {
     "name": "stdout",
     "output_type": "stream",
     "text": [
      "Cargando ibex...\n",
      "Se calcula la menor area\n",
      "El menor area es:  1.2233837116006476e-19 y corresponde al punto 26 \n",
      "\n"
     ]
    }
   ],
   "source": [
    "import importlib\n",
    "importlib.reload(ibexV2)\n",
    "#aqui se llama a la funcion para que calcule la menor area y a que punto corresponde\n",
    "punto, area = ibexV2.menorArea(y1,y2)"
   ]
  },
  {
   "cell_type": "markdown",
   "metadata": {
    "id": "BSfDRYszs8P-"
   },
   "source": [
    "Se calcula si el punto se encuentra sobre o debajo el segmento formado entre el punto anterior y el siguiente"
   ]
  },
  {
   "cell_type": "code",
   "execution_count": 16,
   "metadata": {
    "colab": {
     "base_uri": "https://localhost:8080/",
     "height": 470
    },
    "executionInfo": {
     "elapsed": 1018,
     "status": "ok",
     "timestamp": 1610020605712,
     "user": {
      "displayName": "kevinpanconqueso",
      "photoUrl": "",
      "userId": "08318052310552365547"
     },
     "user_tz": 180
    },
    "id": "4Zm0uxd-s71c",
    "outputId": "0dfae0ba-9e9d-4d8b-b5cf-5977570bc96a"
   },
   "outputs": [
    {
     "name": "stdout",
     "output_type": "stream",
     "text": [
      "Con el punto anteriormente señalado se obtiene un subconjunto de puntos pertenecientes al punto anterior, el que se selecciono y el siguiente\n",
      "\n",
      "Coordenadas X de los puntos [53.70403711 53.70403711 53.70403711]\n",
      "Coordenadas Y de los puntos [11.61132893 11.61132893 11.61132883]\n",
      "Luego con los 3 puntos se calcula si el punto esta sobre o debajo el segmento formado entre los puntos de los extremos, arrojando 2 posibles casos:\n",
      "\n",
      "~ El punto esta sobre el segmento\n",
      "~ El punto esta por debajo del segmento\n",
      "\n",
      "El punto 26 se encuentra sobre el segmento\n"
     ]
    },
    {
     "data": {
      "image/png": "[encoded data removed]",
      "text/plain": [
       "<Figure size 432x288 with 1 Axes>"
      ]
     },
     "metadata": {
      "needs_background": "light"
     },
     "output_type": "display_data"
    }
   ],
   "source": [
    "#se llama a la funcion la cual ve si el punto esta por sobre o debajo el segmento\n",
    "h1,h2 = ibexV2.posicion_punto(y1,y2,punto+1)\n",
    "\n",
    "#se grafica para situar visualmente el punto\n",
    "plt.plot(h1, h2, 'ro', h1, h2, 'g-')\n",
    "plt.show()"
   ]
  },
  {
   "cell_type": "markdown",
   "metadata": {
    "id": "nCRdNMb446vB"
   },
   "source": [
    "Se elimina un punto del conjunto de soluciones"
   ]
  },
  {
   "cell_type": "code",
   "execution_count": 17,
   "metadata": {
    "colab": {
     "base_uri": "https://localhost:8080/",
     "height": 597
    },
    "executionInfo": {
     "elapsed": 1330,
     "status": "ok",
     "timestamp": 1610119606976,
     "user": {
      "displayName": "kevinpanconqueso",
      "photoUrl": "",
      "userId": "08318052310552365547"
     },
     "user_tz": 180
    },
    "id": "CE466fGH46eY",
    "outputId": "d7c2548a-7ec9-47aa-faef-31f0b2532851"
   },
   "outputs": [
    {
     "name": "stdout",
     "output_type": "stream",
     "text": [
      "El punto a eliminar será el 53.70403711339229 11.61132892725771\n",
      "Se muestra graficamente el punto que se ira a eliminar\n",
      "Luego de eliminarse se vuelve a graficar la serie de puntos \n"
     ]
    },
    {
     "data": {
      "text/plain": [
       "<function matplotlib.pyplot.show>"
      ]
     },
     "execution_count": 17,
     "metadata": {},
     "output_type": "execute_result"
    },
    {
     "data": {
      "image/png": "[encoded data removed]",
      "text/plain": [
       "<Figure size 432x288 with 1 Axes>"
      ]
     },
     "metadata": {
      "needs_background": "light"
     },
     "output_type": "display_data"
    },
    {
     "data": {
      "image/png": "[encoded data removed]",
      "text/plain": [
       "<Figure size 432x288 with 1 Axes>"
      ]
     },
     "metadata": {
      "needs_background": "light"
     },
     "output_type": "display_data"
    }
   ],
   "source": [
    "#Se llama a la funcion la cual elimina el punto señalado\n",
    "y1,y2 = ibexV2.elimina_punto(y1,y2,punto+1)\n",
    "\n",
    "#se grafican los puntos, si el punto eliminado estaba cerca de otro en algunos casos no se logra apreciar el cambio\n",
    "fig2 = plt.figure(\"grafica 2\")\n",
    "plt.plot(y1, y2, 'ro',y1, y2, 'b-')\n",
    "plt.show"
   ]
  },
  {
   "cell_type": "markdown",
   "metadata": {
    "id": "ckZDT6JwQZH_"
   },
   "source": [
    "Se eliminan una serie de puntos del conjunto de soluciones"
   ]
  },
  {
   "cell_type": "code",
   "execution_count": 18,
   "metadata": {
    "colab": {
     "base_uri": "https://localhost:8080/",
     "height": 1000
    },
    "executionInfo": {
     "elapsed": 1322,
     "status": "ok",
     "timestamp": 1610120575360,
     "user": {
      "displayName": "kevinpanconqueso",
      "photoUrl": "",
      "userId": "08318052310552365547"
     },
     "user_tz": 180
    },
    "id": "Fqi7FrhqiiqE",
    "outputId": "8c6cef57-eec9-45fc-c64d-d554f677c5f2"
   },
   "outputs": [
    {
     "name": "stdout",
     "output_type": "stream",
     "text": [
      "Coordenadas X del conjunto:  [  7.57827684   7.57827684   7.57827701  13.17612516  13.17612516\n",
      "  13.17612542  13.42600928  13.42600928  13.65367802  14.95101709\n",
      "  14.95101709  16.32924953  24.3         24.3         29.53864072\n",
      "  32.15926241  32.15926241  37.93889213  37.93889213  37.93889291\n",
      "  45.43813309  49.32594029  53.70403711  53.70403711  56.06655308\n",
      "  59.47396726  59.47396726  79.29199921  79.29199921  88.38426635\n",
      "  97.2         97.2        126.73449463]\n",
      "Coordenadas y del conjunto:  [38.26548323 38.1302341  38.1302341  34.91188488 27.62748998 27.62748998\n",
      " 27.53417825 27.44916209 27.44916209 26.9647092  26.45004908 26.45004908\n",
      " 23.47360816 21.51739278 21.51739278 20.53879915 17.9417644  17.9417644\n",
      " 16.53912993 16.53912993 15.5801978  14.12841123 11.61132893 11.61132893\n",
      " 11.61132883 10.33893082 10.33893072 10.33893072  8.35020325  8.35020325\n",
      "  5.18478567  5.18478557  5.18478557]\n",
      "El hipervolumen inicial es de 3315.2523812097943\n",
      "----------------------Iteracion 1 --------------------------------------\n",
      "El menor area es:  5.021317211767391e-12 y corresponde al punto 24 \n",
      "\n",
      "Coordenadas X tras la 1 iteracion:  [  7.57827684   7.57827684   7.57827701  13.17612516  13.17612516\n",
      "  13.17612542  13.42600928  13.42600928  13.65367802  14.95101709\n",
      "  14.95101709  16.32924953  24.3         24.3         29.53864072\n",
      "  32.15926241  32.15926241  37.93889213  37.93889213  37.93889291\n",
      "  45.43813309  49.32594029  53.70403711  56.06655308  59.47396726\n",
      "  59.47396726  79.29199921  79.29199921  88.38426635  97.2\n",
      "  97.2        126.73449463] \n",
      "\n",
      "Coordenadas Y tras la 1 iteracion:  [38.26548323 38.1302341  38.1302341  34.91188488 27.62748998 27.62748998\n",
      " 27.53417825 27.44916209 27.44916209 26.9647092  26.45004908 26.45004908\n",
      " 23.47360816 21.51739278 21.51739278 20.53879915 17.9417644  17.9417644\n",
      " 16.53912993 16.53912993 15.5801978  14.12841123 11.61132893 11.61132883\n",
      " 10.33893082 10.33893072 10.33893072  8.35020325  8.35020325  5.18478567\n",
      "  5.18478557  5.18478557] \n",
      "\n",
      "----------------------Iteracion 2 --------------------------------------\n",
      "El menor area es:  1.1762309348739564e-08 y corresponde al punto 2 \n",
      "\n",
      "Coordenadas X tras la 2 iteracion:  [  7.57827684   7.57827701  13.17612516  13.17612516  13.17612542\n",
      "  13.42600928  13.42600928  13.65367802  14.95101709  14.95101709\n",
      "  16.32924953  24.3         24.3         29.53864072  32.15926241\n",
      "  32.15926241  37.93889213  37.93889213  37.93889291  45.43813309\n",
      "  49.32594029  53.70403711  56.06655308  59.47396726  59.47396726\n",
      "  79.29199921  79.29199921  88.38426635  97.2         97.2\n",
      " 126.73449463] \n",
      "\n",
      "Coordenadas Y tras la 2 iteracion:  [38.26548323 38.1302341  34.91188488 27.62748998 27.62748998 27.53417825\n",
      " 27.44916209 27.44916209 26.9647092  26.45004908 26.45004908 23.47360816\n",
      " 21.51739278 21.51739278 20.53879915 17.9417644  17.9417644  16.53912993\n",
      " 16.53912993 15.5801978  14.12841123 11.61132893 11.61132883 10.33893082\n",
      " 10.33893072 10.33893072  8.35020325  8.35020325  5.18478567  5.18478557\n",
      "  5.18478557] \n",
      "\n",
      "----------------------Iteracion 3 --------------------------------------\n",
      "El menor area es:  1.2494198675661039e-08 y corresponde al punto 5 \n",
      "\n",
      "Coordenadas X tras la 3 iteracion:  [  7.57827684   7.57827701  13.17612516  13.17612516  13.42600928\n",
      "  13.42600928  13.65367802  14.95101709  14.95101709  16.32924953\n",
      "  24.3         24.3         29.53864072  32.15926241  32.15926241\n",
      "  37.93889213  37.93889213  37.93889291  45.43813309  49.32594029\n",
      "  53.70403711  56.06655308  59.47396726  59.47396726  79.29199921\n",
      "  79.29199921  88.38426635  97.2         97.2        126.73449463] \n",
      "\n",
      "Coordenadas Y tras la 3 iteracion:  [38.26548323 38.1302341  34.91188488 27.62748998 27.62748998 27.44916209\n",
      " 27.44916209 26.9647092  26.45004908 26.45004908 23.47360816 21.51739278\n",
      " 21.51739278 20.53879915 17.9417644  17.9417644  16.53912993 16.53912993\n",
      " 15.5801978  14.12841123 11.61132893 11.61132883 10.33893082 10.33893072\n",
      " 10.33893072  8.35020325  8.35020325  5.18478567  5.18478557  5.18478557] \n",
      "\n",
      "----------------------Iteracion 4 --------------------------------------\n",
      "El menor area es:  1.7037081079251948e-07 y corresponde al punto 23 \n",
      "\n",
      "Coordenadas X tras la 4 iteracion:  [  7.57827684   7.57827701  13.17612516  13.17612516  13.42600928\n",
      "  13.42600928  13.65367802  14.95101709  14.95101709  16.32924953\n",
      "  24.3         24.3         29.53864072  32.15926241  32.15926241\n",
      "  37.93889213  37.93889213  37.93889291  45.43813309  49.32594029\n",
      "  53.70403711  56.06655308  59.47396726  79.29199921  79.29199921\n",
      "  88.38426635  97.2         97.2        126.73449463] \n",
      "\n",
      "Coordenadas Y tras la 4 iteracion:  [38.26548323 38.1302341  34.91188488 27.62748998 27.62748998 27.44916209\n",
      " 27.44916209 26.9647092  26.45004908 26.45004908 23.47360816 21.51739278\n",
      " 21.51739278 20.53879915 17.9417644  17.9417644  16.53912993 16.53912993\n",
      " 15.5801978  14.12841123 11.61132893 11.61132883 10.33893082 10.33893072\n",
      "  8.35020325  8.35020325  5.18478567  5.18478557  5.18478557] \n",
      "\n",
      "----------------------Iteracion 5 --------------------------------------\n",
      "El menor area es:  3.749621129145453e-07 y corresponde al punto 18 \n",
      "\n",
      "Coordenadas X tras la 5 iteracion:  [  7.57827684   7.57827701  13.17612516  13.17612516  13.42600928\n",
      "  13.42600928  13.65367802  14.95101709  14.95101709  16.32924953\n",
      "  24.3         24.3         29.53864072  32.15926241  32.15926241\n",
      "  37.93889213  37.93889213  42.87016385  49.32594029  53.70403711\n",
      "  56.06655308  59.47396726  79.29199921  79.29199921  88.38426635\n",
      "  97.2         97.2        126.73449463] \n",
      "\n",
      "Coordenadas Y tras la 5 iteracion:  [38.26548323 38.1302341  34.91188488 27.62748998 27.62748998 27.44916209\n",
      " 27.44916209 26.9647092  26.45004908 26.45004908 23.47360816 21.51739278\n",
      " 21.51739278 20.53879915 17.9417644  17.9417644  16.53912993 16.53912993\n",
      " 14.12841123 11.61132893 11.61132883 10.33893082 10.33893072  8.35020325\n",
      "  8.35020325  5.18478567  5.18478557  5.18478557] \n",
      "\n",
      "----------------------Iteracion 6 --------------------------------------\n",
      "El menor area es:  4.407869198530534e-07 y corresponde al punto 26 \n",
      "\n",
      "Coordenadas X tras la 6 iteracion:  [  7.57827684   7.57827701  13.17612516  13.17612516  13.42600928\n",
      "  13.42600928  13.65367802  14.95101709  14.95101709  16.32924953\n",
      "  24.3         24.3         29.53864072  32.15926241  32.15926241\n",
      "  37.93889213  37.93889213  42.87016385  49.32594029  53.70403711\n",
      "  56.06655308  59.47396726  79.29199921  79.29199921  88.38426635\n",
      "  97.2        126.73449463] \n",
      "\n",
      "Coordenadas Y tras la 6 iteracion:  [38.26548323 38.1302341  34.91188488 27.62748998 27.62748998 27.44916209\n",
      " 27.44916209 26.9647092  26.45004908 26.45004908 23.47360816 21.51739278\n",
      " 21.51739278 20.53879915 17.9417644  17.9417644  16.53912993 16.53912993\n",
      " 14.12841123 11.61132893 11.61132883 10.33893082 10.33893072  8.35020325\n",
      "  8.35020325  5.18478567  5.18478557] \n",
      "\n",
      "----------------------Iteracion 7 --------------------------------------\n",
      "El menor area es:  0.02029984258606521 y corresponde al punto 6 \n",
      "\n",
      "Coordenadas X tras la 7 iteracion:  [  7.57827684   7.57827701  13.17612516  13.17612516  13.42600928\n",
      "  13.65367802  14.95101709  14.95101709  16.32924953  24.3\n",
      "  24.3         29.53864072  32.15926241  32.15926241  37.93889213\n",
      "  37.93889213  42.87016385  49.32594029  53.70403711  56.06655308\n",
      "  59.47396726  79.29199921  79.29199921  88.38426635  97.2\n",
      " 126.73449463] \n",
      "\n",
      "Coordenadas Y tras la 7 iteracion:  [38.26548323 38.1302341  34.91188488 27.62748998 27.62748998 27.44916209\n",
      " 26.9647092  26.45004908 26.45004908 23.47360816 21.51739278 21.51739278\n",
      " 20.53879915 17.9417644  17.9417644  16.53912993 16.53912993 14.12841123\n",
      " 11.61132893 11.61132883 10.33893082 10.33893072  8.35020325  8.35020325\n",
      "  5.18478567  5.18478557] \n",
      "\n",
      "----------------------Iteracion 8 --------------------------------------\n",
      "El menor area es:  0.022280653679431328 y corresponde al punto 5 \n",
      "\n",
      "Coordenadas X tras la 8 iteracion:  [  7.57827684   7.57827701  13.17612516  13.17612516  13.42600928\n",
      "  14.95101709  14.95101709  16.32924953  24.3         24.3\n",
      "  29.53864072  32.15926241  32.15926241  37.93889213  37.93889213\n",
      "  42.87016385  49.32594029  53.70403711  56.06655308  59.47396726\n",
      "  79.29199921  79.29199921  88.38426635  97.2        126.73449463] \n",
      "\n",
      "Coordenadas Y tras la 8 iteracion:  [38.26548323 38.1302341  34.91188488 27.62748998 27.62748998 27.44916209\n",
      " 26.45004908 26.45004908 23.47360816 21.51739278 21.51739278 20.53879915\n",
      " 17.9417644  17.9417644  16.53912993 16.53912993 14.12841123 11.61132893\n",
      " 11.61132883 10.33893082 10.33893072  8.35020325  8.35020325  5.18478567\n",
      "  5.18478557] \n",
      "\n",
      "----------------------Iteracion 9 --------------------------------------\n",
      "El menor area es:  0.022280653679431328 y corresponde al punto 5 \n",
      "\n",
      "Coordenadas X tras la 9 iteracion:  [  7.57827684   7.57827701  13.17612516  13.17612516  14.95101709\n",
      "  14.95101709  16.32924953  24.3         24.3         29.53864072\n",
      "  32.15926241  32.15926241  37.93889213  37.93889213  42.87016385\n",
      "  49.32594029  53.70403711  56.06655308  59.47396726  79.29199921\n",
      "  79.29199921  88.38426635  97.2        126.73449463] \n",
      "\n",
      "Coordenadas Y tras la 9 iteracion:  [38.26548323 38.1302341  34.91188488 27.62748998 27.62748998 26.45004908\n",
      " 26.45004908 23.47360816 21.51739278 21.51739278 20.53879915 17.9417644\n",
      " 17.9417644  16.53912993 16.53912993 14.12841123 11.61132893 11.61132883\n",
      " 10.33893082 10.33893072  8.35020325  8.35020325  5.18478567  5.18478557] \n",
      "\n",
      "----------------------Iteracion 10 --------------------------------------\n",
      "El menor area es:  0.37855175242178807 y corresponde al punto 2 \n",
      "\n",
      "Coordenadas X tras la 10 iteracion:  [  7.57827684  13.17612516  13.17612516  14.95101709  14.95101709\n",
      "  16.32924953  24.3         24.3         29.53864072  32.15926241\n",
      "  32.15926241  37.93889213  37.93889213  42.87016385  49.32594029\n",
      "  53.70403711  56.06655308  59.47396726  79.29199921  79.29199921\n",
      "  88.38426635  97.2        126.73449463] \n",
      "\n",
      "Coordenadas Y tras la 10 iteracion:  [38.26548323 34.91188488 27.62748998 27.62748998 26.45004908 26.45004908\n",
      " 23.47360816 21.51739278 21.51739278 20.53879915 17.9417644  17.9417644\n",
      " 16.53912993 16.53912993 14.12841123 11.61132893 11.61132883 10.33893082\n",
      " 10.33893072  8.35020325  8.35020325  5.18478567  5.18478557] \n",
      "\n",
      "----------------------Iteracion 11 --------------------------------------\n",
      "El menor area es:  0.8113936283116683 y corresponde al punto 5 \n",
      "\n",
      "Coordenadas X tras la 11 iteracion:  [  7.57827684  13.17612516  13.17612516  14.95101709  16.32924953\n",
      "  24.3         24.3         29.53864072  32.15926241  32.15926241\n",
      "  37.93889213  37.93889213  42.87016385  49.32594029  53.70403711\n",
      "  56.06655308  59.47396726  79.29199921  79.29199921  88.38426635\n",
      "  97.2        126.73449463] \n",
      "\n",
      "Coordenadas Y tras la 11 iteracion:  [38.26548323 34.91188488 27.62748998 27.62748998 26.45004908 23.47360816\n",
      " 21.51739278 21.51739278 20.53879915 17.9417644  17.9417644  16.53912993\n",
      " 16.53912993 14.12841123 11.61132893 11.61132883 10.33893082 10.33893072\n",
      "  8.35020325  8.35020325  5.18478567  5.18478557] \n",
      "\n",
      "----------------------Iteracion 12 --------------------------------------\n",
      "El menor area es:  1.0449151805754848 y corresponde al punto 4 \n",
      "\n",
      "Coordenadas X tras la 12 iteracion:  [  7.57827684  13.17612516  13.17612516  14.95101709  24.3\n",
      "  24.3         29.53864072  32.15926241  32.15926241  37.93889213\n",
      "  37.93889213  42.87016385  49.32594029  53.70403711  56.06655308\n",
      "  59.47396726  79.29199921  79.29199921  88.38426635  97.2\n",
      " 126.73449463] \n",
      "\n",
      "Coordenadas Y tras la 12 iteracion:  [38.26548323 34.91188488 27.62748998 27.62748998 26.45004908 21.51739278\n",
      " 21.51739278 20.53879915 17.9417644  17.9417644  16.53912993 16.53912993\n",
      " 14.12841123 11.61132893 11.61132883 10.33893082 10.33893072  8.35020325\n",
      "  8.35020325  5.18478567  5.18478557] \n",
      "\n",
      "----------------------Iteracion 13 --------------------------------------\n",
      "El menor area es:  1.0449151805754848 y corresponde al punto 4 \n",
      "\n",
      "Coordenadas X tras la 13 iteracion:  [  7.57827684  13.17612516  13.17612516  24.3         24.3\n",
      "  29.53864072  32.15926241  32.15926241  37.93889213  37.93889213\n",
      "  42.87016385  49.32594029  53.70403711  56.06655308  59.47396726\n",
      "  79.29199921  79.29199921  88.38426635  97.2        126.73449463] \n",
      "\n",
      "Coordenadas Y tras la 13 iteracion:  [38.26548323 34.91188488 27.62748998 27.62748998 21.51739278 21.51739278\n",
      " 20.53879915 17.9417644  17.9417644  16.53912993 16.53912993 14.12841123\n",
      " 11.61132893 11.61132883 10.33893082 10.33893072  8.35020325  8.35020325\n",
      "  5.18478567  5.18478557] \n",
      "\n",
      "----------------------Iteracion 14 --------------------------------------\n",
      "El menor area es:  1.50303013414669 y corresponde al punto 14 \n",
      "\n",
      "Coordenadas X tras la 14 iteracion:  [  7.57827684  13.17612516  13.17612516  24.3         24.3\n",
      "  29.53864072  32.15926241  32.15926241  37.93889213  37.93889213\n",
      "  42.87016385  49.32594029  53.70403711  56.06655308  79.29199921\n",
      "  79.29199921  88.38426635  97.2        126.73449463] \n",
      "\n",
      "Coordenadas Y tras la 14 iteracion:  [38.26548323 34.91188488 27.62748998 27.62748998 21.51739278 21.51739278\n",
      " 20.53879915 17.9417644  17.9417644  16.53912993 16.53912993 14.12841123\n",
      " 11.61132893 11.61132883 10.33893082  8.35020325  8.35020325  5.18478567\n",
      "  5.18478557] \n",
      "\n",
      "----------------------Iteracion 15 --------------------------------------\n",
      "El menor area es:  1.5030291432023786 y corresponde al punto 14 \n",
      "\n",
      "Coordenadas X tras la 15 iteracion:  [  7.57827684  13.17612516  13.17612516  24.3         24.3\n",
      "  29.53864072  32.15926241  32.15926241  37.93889213  37.93889213\n",
      "  42.87016385  49.32594029  53.70403711  79.29199921  79.29199921\n",
      "  88.38426635  97.2        126.73449463] \n",
      "\n",
      "Coordenadas Y tras la 15 iteracion:  [38.26548323 34.91188488 27.62748998 27.62748998 21.51739278 21.51739278\n",
      " 20.53879915 17.9417644  17.9417644  16.53912993 16.53912993 14.12841123\n",
      " 11.61132893 11.61132784  8.35020325  8.35020325  5.18478567  5.18478557] \n",
      "\n",
      "----------------------Iteracion 16 --------------------------------------\n",
      "El menor area es:  2.5632502247108153 y corresponde al punto 6 \n",
      "\n",
      "Coordenadas X tras la 16 iteracion:  [  7.57827684  13.17612516  13.17612516  24.3         24.3\n",
      "  32.15926241  32.15926241  37.93889213  37.93889213  42.87016385\n",
      "  49.32594029  53.70403711  79.29199921  79.29199921  88.38426635\n",
      "  97.2        126.73449463] \n",
      "\n",
      "Coordenadas Y tras la 16 iteracion:  [38.26548323 34.91188488 27.62748998 27.62748998 21.51739278 21.51739278\n",
      " 17.9417644  17.9417644  16.53912993 16.53912993 14.12841123 11.61132893\n",
      " 11.61132784  8.35020325  8.35020325  5.18478567  5.18478557] \n",
      "\n",
      "El hipervolumen final tiene un valor de 3306.338433805524\n"
     ]
    },
    {
     "name": "stderr",
     "output_type": "stream",
     "text": [
      "C:\\Users\\Dell\\Documents\\research_on_github\\ibexmop_rp\\funciones.py:232: RuntimeWarning: divide by zero encountered in double_scalars\n",
      "  m2 = (h2[pto+2]-h2[pto+1])/(h1[pto+2]-h1[pto+1])\n"
     ]
    },
    {
     "data": {
      "text/plain": [
       "<function matplotlib.pyplot.show>"
      ]
     },
     "execution_count": 18,
     "metadata": {},
     "output_type": "execute_result"
    },
    {
     "data": {
      "image/png": "[encoded data removed]",
      "text/plain": [
       "<Figure size 432x288 with 1 Axes>"
      ]
     },
     "metadata": {
      "needs_background": "light"
     },
     "output_type": "display_data"
    }
   ],
   "source": [
    "#se llama a la funcion para eliminar una cierta cantidad de puntos\n",
    "y1, y2 = ibexV2.reduc_puntos(y1,y2,16)\n",
    "\n",
    "#se vuelven a graficar las soluciones con los puntos ya eliminados\n",
    "plt.plot(y1, y2, 'yo',y1, y2, 'r-')\n",
    "plt.show"
   ]
  },
  {
   "cell_type": "code",
   "execution_count": null,
   "metadata": {},
   "outputs": [],
   "source": []
  }
 ],
 "metadata": {
  "colab": {
   "authorship_tag": "ABX9TyMHbfwTts5h5C5o1dYzkydD",
   "collapsed_sections": [],
   "mount_file_id": "1obOynZeZWc2APFXb01ckSTlT0T5mtXEZ",
   "name": "trabajo.ipynb",
   "provenance": [
    {
     "file_id": "1S03-0Nv4riq0y4yLoUcwKVuOykj8Q_6S",
     "timestamp": 1607724351504
    }
   ]
  },
  "kernelspec": {
   "display_name": "Python 3",
   "language": "python",
   "name": "python3"
  },
  "language_info": {
   "codemirror_mode": {
    "name": "ipython",
    "version": 3
   },
   "file_extension": ".py",
   "mimetype": "text/x-python",
   "name": "python",
   "nbconvert_exporter": "python",
   "pygments_lexer": "ipython3",
   "version": "3.7.3"
  }
 },
 "nbformat": 4,
 "nbformat_minor": 4
}

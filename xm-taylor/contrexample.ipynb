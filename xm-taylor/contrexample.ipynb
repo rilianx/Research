{
 "cells": [
  {
   "cell_type": "code",
   "execution_count": 17,
   "metadata": {},
   "outputs": [
    {
     "name": "stdout",
     "output_type": "stream",
     "text": [
      "Writing contrexample.py\n"
     ]
    }
   ],
   "source": [
    "%%writefile contrexample.py\n",
    "from mpl_toolkits import mplot3d\n",
    "import numpy as np\n",
    "import matplotlib.pyplot as plt\n",
    "\n",
    "\n",
    "def f(x, y):\n",
    "    return (x ** 2 + 2* y * x + y)\n",
    "\n",
    "x = np.linspace(-6, 6, 30)\n",
    "y = np.linspace(-6, 6, 30)\n",
    "\n",
    "X, Y = np.meshgrid(x, y)\n",
    "Z = f(X, Y)\n",
    "\n",
    "#dx + dy = 2x + 2y + 1\n",
    "#dx - dy = 1\n",
    "\n",
    "fig = plt.figure()\n",
    "ax = plt.axes(projection='3d')\n",
    "ax.contour3D(X, Y, Z, 100, cmap='binary')\n",
    "ax.set_xlabel('x')\n",
    "ax.set_ylabel('y')\n",
    "ax.set_zlabel('z');"
   ]
  },
  {
   "cell_type": "code",
   "execution_count": 21,
   "metadata": {},
   "outputs": [
    {
     "name": "stderr",
     "output_type": "stream",
     "text": [
      "Traceback (most recent call last):\n",
      "  File \"contrexample.py\", line 3, in <module>\n",
      "    import matplotlib.pyplot as plt\n",
      "  File \"C:\\Users\\Dell\\AppData\\Local\\Programs\\Python\\Python38-32\\lib\\site-packages\\matplotlib\\pyplot.py\", line 2336, in <module>\n",
      "    switch_backend(rcParams[\"backend\"])\n",
      "  File \"C:\\Users\\Dell\\AppData\\Local\\Programs\\Python\\Python38-32\\lib\\site-packages\\matplotlib\\pyplot.py\", line 276, in switch_backend\n",
      "    class backend_mod(matplotlib.backend_bases._Backend):\n",
      "  File \"C:\\Users\\Dell\\AppData\\Local\\Programs\\Python\\Python38-32\\lib\\site-packages\\matplotlib\\pyplot.py\", line 277, in backend_mod\n",
      "    locals().update(vars(importlib.import_module(backend_name)))\n",
      "  File \"C:\\Users\\Dell\\AppData\\Local\\Programs\\Python\\Python38-32\\lib\\importlib\\__init__.py\", line 127, in import_module\n",
      "    return _bootstrap._gcd_import(name[level:], package, level)\n",
      "ModuleNotFoundError: No module named 'ipykernel'\n"
     ]
    }
   ],
   "source": [
    "!python contrexample.py"
   ]
  },
  {
   "cell_type": "code",
   "execution_count": null,
   "metadata": {},
   "outputs": [],
   "source": []
  }
 ],
 "metadata": {
  "kernelspec": {
   "display_name": "Python 3",
   "language": "python",
   "name": "python3"
  },
  "language_info": {
   "codemirror_mode": {
    "name": "ipython",
    "version": 3
   },
   "file_extension": ".py",
   "mimetype": "text/x-python",
   "name": "python",
   "nbconvert_exporter": "python",
   "pygments_lexer": "ipython3",
   "version": "3.7.3"
  }
 },
 "nbformat": 4,
 "nbformat_minor": 4
}
